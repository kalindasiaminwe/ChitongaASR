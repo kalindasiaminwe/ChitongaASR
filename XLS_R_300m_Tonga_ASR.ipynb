{
  "cells": [
    {
      "cell_type": "markdown",
      "metadata": {
        "id": "view-in-github",
        "colab_type": "text"
      },
      "source": [
        "<a href=\"https://colab.research.google.com/github/kalindasiaminwe/NLP_and_ML_Projects/blob/master/XLS_R_300m_Tonga_ASR.ipynb\" target=\"_parent\"><img src=\"https://colab.research.google.com/assets/colab-badge.svg\" alt=\"Open In Colab\"/></a>"
      ]
    },
    {
      "cell_type": "markdown",
      "source": [
        "# Fine-tuning XLS-R for Tonga ASR with 🤗 Transformers\n",
        "\n",
        "Wav2Vec2 is a pretrained model for Automatic Speech Recognition (ASR) and was released in September 2020 by Alexei Baevski, Michael Auli, and Alex Conneau. After showcasing its impressive performance on the widely-used LibriSpeech dataset, Facebook AI introduced a multi-lingual version of Wav2Vec2 called XLSR (short for cross-lingual speech representations). This new model has the ability to learn speech representations that can be applied across multiple languages, making it a valuable tool for developing ASR systems that can handle a variety of languages. XLSR builds upon the success of Wav2Vec2 and extends its capabilities to support multiple languages, further demonstrating the potential of this cutting-edge technology."
      ],
      "metadata": {
        "id": "ADkBe69LZbLH"
      }
    },
    {
      "cell_type": "markdown",
      "source": [
        "# Setup\n",
        "In this notebook, we will use pre-trained checkpoint Wav2Vec2-XLS-R-300M and fine-tune it for ASR in Chitonga.\n",
        "\n",
        "Firstly, it's important to have access to a good GPU in order to maximize the performance of your machine learning models. Unfortunately, it's becoming increasingly difficult to obtain a good GPU using the free version of Google Colab. However, by subscribing to Google Colab Pro, you can easily get access to either a V100 or P100 GPU, which will provide the power and speed you need to run your models efficiently."
      ],
      "metadata": {
        "id": "JNVGOETVaok3"
      }
    },
    {
      "cell_type": "code",
      "execution_count": null,
      "metadata": {
        "colab": {
          "base_uri": "https://localhost:8080/"
        },
        "id": "XAl3uQGVmnIL",
        "outputId": "7493d978-794f-451d-dc5e-9e46f89b726d"
      },
      "outputs": [
        {
          "output_type": "stream",
          "name": "stdout",
          "text": [
            "Fri Dec  9 14:12:27 2022       \n",
            "+-----------------------------------------------------------------------------+\n",
            "| NVIDIA-SMI 460.32.03    Driver Version: 460.32.03    CUDA Version: 11.2     |\n",
            "|-------------------------------+----------------------+----------------------+\n",
            "| GPU  Name        Persistence-M| Bus-Id        Disp.A | Volatile Uncorr. ECC |\n",
            "| Fan  Temp  Perf  Pwr:Usage/Cap|         Memory-Usage | GPU-Util  Compute M. |\n",
            "|                               |                      |               MIG M. |\n",
            "|===============================+======================+======================|\n",
            "|   0  Tesla T4            Off  | 00000000:00:04.0 Off |                    0 |\n",
            "| N/A   41C    P0    25W /  70W |      0MiB / 15109MiB |      0%      Default |\n",
            "|                               |                      |                  N/A |\n",
            "+-------------------------------+----------------------+----------------------+\n",
            "                                                                               \n",
            "+-----------------------------------------------------------------------------+\n",
            "| Processes:                                                                  |\n",
            "|  GPU   GI   CI        PID   Type   Process name                  GPU Memory |\n",
            "|        ID   ID                                                   Usage      |\n",
            "|=============================================================================|\n",
            "|  No running processes found                                                 |\n",
            "+-----------------------------------------------------------------------------+\n"
          ]
        }
      ],
      "source": [
        "gpu_info = !nvidia-smi\n",
        "gpu_info = '\\n'.join(gpu_info)\n",
        "if gpu_info.find('failed') >= 0:\n",
        "  print('Not connected to a GPU')\n",
        "else:\n",
        "  print(gpu_info)"
      ]
    },
    {
      "cell_type": "code",
      "execution_count": null,
      "metadata": {
        "colab": {
          "base_uri": "https://localhost:8080/"
        },
        "id": "t5b9XRmum119",
        "outputId": "af6fe5a4-a976-4789-94b1-4efb0e170e09"
      },
      "outputs": [
        {
          "output_type": "stream",
          "name": "stdout",
          "text": [
            "Your runtime has 27.3 gigabytes of available RAM\n",
            "\n",
            "You are using a high-RAM runtime!\n"
          ]
        }
      ],
      "source": [
        "from psutil import virtual_memory\n",
        "ram_gb = virtual_memory().total / 1e9\n",
        "print('Your runtime has {:.1f} gigabytes of available RAM\\n'.format(ram_gb))\n",
        "\n",
        "if ram_gb < 20:\n",
        "  print('Not using a high-RAM runtime')\n",
        "else:\n",
        "  print('You are using a high-RAM runtime!')"
      ]
    },
    {
      "cell_type": "markdown",
      "source": [
        "Before we begin, let's make sure we have the necessary packages installed. We'll need the datasets and transformers libraries, as well as torchaudio to load audio files and jiwer to evaluate our fine-tuned model using the word error rate (WER) metric. Once we have these packages installed, we'll be ready to start working on our model."
      ],
      "metadata": {
        "id": "sfn0iMSfbe4P"
      }
    },
    {
      "cell_type": "code",
      "source": [
        "%%capture\n",
        "!pip install datasets==1.18.3\n",
        "!pip install transformers==4.17.0\n",
        "!pip install jiwer"
      ],
      "metadata": {
        "id": "T7vqkBbDqXZF"
      },
      "execution_count": null,
      "outputs": []
    },
    {
      "cell_type": "code",
      "execution_count": null,
      "metadata": {
        "colab": {
          "base_uri": "https://localhost:8080/"
        },
        "id": "5J7QQ1ApnJB2",
        "outputId": "46fc8608-8e2e-4acc-9ab1-a192b8beb81f"
      },
      "outputs": [
        {
          "output_type": "stream",
          "name": "stdout",
          "text": [
            "Looking in indexes: https://pypi.org/simple, https://us-python.pkg.dev/colab-wheels/public/simple/\n",
            "Collecting bitsandbytes\n",
            "  Downloading bitsandbytes-0.35.4-py3-none-any.whl (62.5 MB)\n",
            "\u001b[K     |████████████████████████████████| 62.5 MB 1.4 MB/s \n",
            "\u001b[?25hInstalling collected packages: bitsandbytes\n",
            "Successfully installed bitsandbytes-0.35.4\n"
          ]
        }
      ],
      "source": [
        "!pip install bitsandbytes"
      ]
    },
    {
      "cell_type": "markdown",
      "source": [
        "Next we have to upload our training checkpoints directly to the 🤗 Hub while training. The 🤗 Hub has integrated version control so you can be sure that no model checkpoint is getting lost during training.\n",
        "\n",
        "we use our authentication token from the Hugging Face website on our account."
      ],
      "metadata": {
        "id": "oybsadrHb2m0"
      }
    },
    {
      "cell_type": "code",
      "execution_count": null,
      "metadata": {
        "colab": {
          "base_uri": "https://localhost:8080/",
          "height": 359,
          "referenced_widgets": [
            "103e10e44a3e47ebaeca661d01f5c10e",
            "69853e5a609a4e38805b1b1803adcdc5",
            "c7937c32bcc748f2aa00bf1df0123a47",
            "5f8147f962da4c96ba773c23c2cb25c6",
            "6b5d58ee577d4d8a91fc8ce6a69a5f9a",
            "b93a28de672d455098d96838b5c5a0d2",
            "946e10dca4644d249a5fae2ba858a906",
            "aa45d3fd63d44e4abc7c79440031f769",
            "744007a9eda84b6a939063cfd7ad85d5",
            "2895545c32ff4b7cba71f5689a0b1eb1",
            "b1e5845954a74b6eada2d40f78832c82",
            "451aced2132b4d68a018e65e97a356dd",
            "ebae79dd679944609629696b5a4de71b",
            "c4332c7293ca4c42ab75b095ad4d97cb",
            "e5f32056d4a545068a42bbc2909ce639",
            "3eed1f72a77044bda24931d268461405",
            "792780e22a9f4716859ec53a71ae0e11"
          ]
        },
        "id": "WC5ALqNrnSeq",
        "outputId": "c62c8749-9546-45b6-c592-bf33775e0c6b"
      },
      "outputs": [
        {
          "output_type": "stream",
          "name": "stdout",
          "text": [
            "Token is valid.\n",
            "Your token has been saved in your configured git credential helpers (store).\n",
            "Your token has been saved to /root/.huggingface/token\n",
            "Login successful\n"
          ]
        }
      ],
      "source": [
        "from huggingface_hub import notebook_login\n",
        "\n",
        "notebook_login()\n",
        "\n"
      ]
    },
    {
      "cell_type": "markdown",
      "source": [
        "Then you need to install Git-LFS to upload your model checkpoints:"
      ],
      "metadata": {
        "id": "bHEPHebEcNYU"
      }
    },
    {
      "cell_type": "code",
      "execution_count": null,
      "metadata": {
        "id": "ldjOe2Xfnm8m"
      },
      "outputs": [],
      "source": [
        "%%capture\n",
        "!apt install git-lfs"
      ]
    },
    {
      "cell_type": "markdown",
      "source": [
        "# Prepare Data, Tokenizer, Feature Extractor"
      ],
      "metadata": {
        "id": "FfN2xrZ0cR4s"
      }
    },
    {
      "cell_type": "markdown",
      "source": [
        "Automatic speech recognition (ASR) models are used to transcribe speech into text. This involves two key components: a feature extractor that processes the input speech signal and converts it into a format that the model can understand (e.g. a feature vector), and a tokenizer that processes the model's output and converts it into text.\n",
        "\n",
        "In 🤗 Transformers, the XLS-R model is accompanied by a tokenizer called Wav2Vec2CTCTokenizer and a feature extractor called Wav2Vec2FeatureExtractor. These two components work together to enable the model to accurately transcribe speech into text.\n",
        "\n",
        "To use these components, we need to create instances of the Wav2Vec2CTCTokenizer and Wav2Vec2FeatureExtractor classes. This will allow us to use the tokenizer to decode the model's predicted output classes and convert them into the final transcription.\n",
        "\n",
        "Before we do that, we first import our data."
      ],
      "metadata": {
        "id": "PlDiwvK5caOL"
      }
    },
    {
      "cell_type": "markdown",
      "source": [
        "## Create Wav2Vec2CTCTokenizer"
      ],
      "metadata": {
        "id": "rOL0Qf-akrcv"
      }
    },
    {
      "cell_type": "markdown",
      "source": [
        "Because our dataset is stored on our google drive, we mount it in order to have direct access to the data."
      ],
      "metadata": {
        "id": "uncCMBjRc4qR"
      }
    },
    {
      "cell_type": "code",
      "source": [
        "from google.colab import drive\n",
        "drive.mount('/content/drive')"
      ],
      "metadata": {
        "colab": {
          "base_uri": "https://localhost:8080/"
        },
        "id": "gZzJ8M_B_Rjm",
        "outputId": "bae9a9fe-658f-42ba-875f-e1b8bac5df79"
      },
      "execution_count": null,
      "outputs": [
        {
          "output_type": "stream",
          "name": "stdout",
          "text": [
            "Mounted at /content/drive\n"
          ]
        }
      ]
    },
    {
      "cell_type": "markdown",
      "source": [
        "We then locate the data and prepare them for usage.\n",
        "\n",
        "**NOTE:** The data is already split into train, test and evaluate(validation). You can find the dataset on our github rep: https://github.com/unza-speech-lab/zambezi-voice  "
      ],
      "metadata": {
        "id": "3GgngrTcdPxK"
      }
    },
    {
      "cell_type": "code",
      "execution_count": null,
      "metadata": {
        "colab": {
          "base_uri": "https://localhost:8080/"
        },
        "id": "uqvrmha7n89i",
        "outputId": "62b90fab-4ea3-4a47-ccb1-250a1ac0c5a7"
      },
      "outputs": [
        {
          "output_type": "stream",
          "name": "stdout",
          "text": [
            "/content/drive/MyDrive/Tonga/data/splits/eval.csv\n",
            "/content/drive/MyDrive/Tonga/data/splits/test.csv\n",
            "/content/drive/MyDrive/Tonga/data/splits/train.csv\n"
          ]
        }
      ],
      "source": [
        "abs_path_to_data = \"/content/drive/MyDrive/Tonga/data\"\n",
        "!ls {abs_path_to_data}/splits/*.csv"
      ]
    },
    {
      "cell_type": "code",
      "execution_count": null,
      "metadata": {
        "id": "sF1Cctl4oKIw"
      },
      "outputs": [],
      "source": [
        "import pandas as pd\n",
        "import numpy as np\n",
        "from glob import glob\n",
        "import hashlib"
      ]
    },
    {
      "cell_type": "code",
      "source": [
        "save_dir = \"/content/save_dir\"\n",
        "import os\n",
        "if not os.path.exists(save_dir):\n",
        "  os.mkdir(save_dir)"
      ],
      "metadata": {
        "id": "o5lJN1L2CU8i"
      },
      "execution_count": null,
      "outputs": []
    },
    {
      "cell_type": "code",
      "execution_count": null,
      "metadata": {
        "id": "yHumnC2ipFTa"
      },
      "outputs": [],
      "source": [
        "def load_datasets(abs_path_to_data):\n",
        "  splits=glob(f\"{abs_path_to_data}/splits/*.csv\")\n",
        "  split_1 = os.path.basename(splits[0])[:-4]\n",
        "  split_2 = os.path.basename(splits[1])[:-4]\n",
        "  split_3 = os.path.basename(splits[2])[:-4]\n",
        "\n",
        "  split_1_df = pd.read_csv(splits[0], sep=\"\\t\")\n",
        "  split_1_df[\"path\"] = abs_path_to_data + \"/audio/\" + split_1_df['audio_id']+\".wav\"\n",
        "  split_1_df[\"status\"] = split_1_df[\"path\"].apply(lambda path: True if os.path.exists(path) else None)\n",
        "  split_1_df = split_1_df.dropna(subset=[\"path\"])\n",
        "  split_1_df = split_1_df.drop(columns=['audio_id', 'status'])\n",
        "  split_1_df = split_1_df.rename(columns={'path':'audio'})\n",
        "  split_1_df.to_csv(f\"{save_dir}/{split_1}.csv\", sep='\\t', index=False)\n",
        "  print(f\"No. of {split_1} records: {len(split_1_df)}\")\n",
        "\n",
        "  split_2_df = pd.read_csv(splits[1], sep=\"\\t\")\n",
        "  split_2_df[\"path\"] = abs_path_to_data + \"/audio/\" + split_2_df['audio_id']+\".wav\"\n",
        "  split_2_df[\"status\"] = split_2_df[\"path\"].apply(lambda path: True if os.path.exists(path) else None)\n",
        "  split_2_df = split_2_df.dropna(subset=[\"path\"])\n",
        "  split_2_df = split_2_df.drop(columns=['audio_id', 'status'])\n",
        "  split_2_df = split_2_df.rename(columns={'path':'audio'})\n",
        "  split_2_df.to_csv(f\"{save_dir}/{split_2}.csv\", sep='\\t', index=False)\n",
        "  print(f\"No. of {split_2} records: {len(split_2_df)}\")\n",
        "\n",
        "  split_3_df = pd.read_csv(splits[2], sep=\"\\t\")\n",
        "  split_3_df[\"path\"] = abs_path_to_data + \"/audio/\" + split_3_df['audio_id']+\".wav\"\n",
        "  split_3_df[\"status\"] = split_3_df[\"path\"].apply(lambda path: True if os.path.exists(path) else None)\n",
        "  split_3_df = split_3_df.dropna(subset=[\"path\"])\n",
        "  split_3_df = split_3_df.drop(columns=['audio_id', 'status'])\n",
        "  split_3_df = split_3_df.rename(columns={'path':'audio'})\n",
        "  split_3_df.to_csv(f\"{save_dir}/{split_3}.csv\", sep='\\t', index=False)\n",
        "  print(f\"No. of {split_3} records: {len(split_3_df)}\")"
      ]
    },
    {
      "cell_type": "code",
      "execution_count": null,
      "metadata": {
        "colab": {
          "base_uri": "https://localhost:8080/"
        },
        "id": "XabyBRRNplHe",
        "outputId": "e95c47ba-a3f8-4fdc-e9b4-31d8d2e50373"
      },
      "outputs": [
        {
          "output_type": "stream",
          "name": "stdout",
          "text": [
            "No. of train records: 1107\n",
            "No. of eval records: 493\n",
            "No. of test records: 453\n"
          ]
        }
      ],
      "source": [
        "from glob import glob\n",
        "import numpy as np\n",
        "import os\n",
        "#abs_path_to_data = \"/content/BembaSpeech/data\"\n",
        "load_datasets(abs_path_to_data)"
      ]
    },
    {
      "cell_type": "code",
      "execution_count": null,
      "metadata": {
        "colab": {
          "base_uri": "https://localhost:8080/",
          "height": 690,
          "referenced_widgets": [
            "9567a8fa484d4f788a12bda5eea424b1",
            "c3984b304fbc4bbfaeea8362ea9b8087",
            "2033f7b465d24ff58edbc44027363054",
            "a64c99763af54964b837b7872be4f40b",
            "269557f042d54b799692820d805dd223",
            "ec78b2187df3447bbb07805199d31fdd",
            "33c95bd1421442c8aa5fc3a119e629cd",
            "b897272001f8497a858b4e2fdf0b254a",
            "69c796d8b6cc469e8de774828ff2f65a",
            "8297ec1a114a4c859e4b8cda94be0cb3",
            "b6d2799c7b0149b88b861d8caed40899",
            "447829e8dd7a438582321c0a49f2a315",
            "07e3f9c2840c485b9b5055df9721ce24",
            "a824ea0ecb5c4ca7bcf1a27ecf02c75d",
            "0a88913bd3cc49f6b1805a7ef5c60dc5",
            "821ac1cdffb34e2c8d15a16298171c5b",
            "2021e80e35cb47fabaa51183a070b82a",
            "5d35e8d2dfc54414b8ece4e5b059e2d9",
            "c3767a345559478a9cd28a41225816ed",
            "d73aab3f297d47e8a86e730885f02c7a",
            "86cdc982228e45a584cb2b49896046cd",
            "3998e0eca0904f488a9386e3c01a294a",
            "47955fd1075c447d92bcdac1ee75b583",
            "845f365ebbd14dbf9cea10576b266705",
            "e193d758bfab43248c35398d9dec876b",
            "7a41ccbc3deb478b8410d1443fa79ced",
            "cd0144e97cc84ef2acc8149d2dd704a9",
            "53793568728c43f181d599c4b48a0b74",
            "2af62274ec5c48db9b4eafc9a8e00c70",
            "0a6b0d8d19b34065aed34eeb83a50f55",
            "4ea12b117fdd482bb2f087142beceb07",
            "7265e042fb5c45a78a4bb6f3cae5249e",
            "ff41943477a14d2991436b2626c9c5b4",
            "1c68bf11692c4c418e9a166a5b6090b1",
            "de61a5c448c148b6b8d1e54a73b4b2e4",
            "87d74ca9187f4d99b78624245c9205df",
            "066dfaef3030407d8b77968721da8254",
            "379c73159ce64d1f80bc4f0a64566286",
            "e2f7d1bee4e7467c990598c75e2cb8ef",
            "7fae441912e34333b9334c5555faad34",
            "5dec1aeea4444f7081edc7f24ebcda95",
            "9402932ee9234c7e80f42c8ccb5275fe",
            "cfaf2941def544659874214ecfbdc727",
            "9c2b8702bc0d46f4b25269aaab6f08e8",
            "251a27054c95428a9e593fb81959daa4",
            "78ae08c6789141228e6e23cdf36d087f",
            "976661276ba74a32bb52226f6b56f52a",
            "12de87f3ec74458b99c9edb13d1c29d0",
            "9ccc1df7fb044d87b89a7e2680ddf78d",
            "0f3ca30450db40438e54d0d3bac29cad",
            "f0de357974cf4ee0a59331a7f0d00344",
            "3862ffbc6e1b42699129c6a78c820e4b",
            "2d97df2e5c834c29a42a670d35183bce",
            "fea567bca92a4facb3c5cee2017a4a9e",
            "de55180fe841404fa9f4c5c0f6a1f1b3",
            "bd85b825223e4d77b14f218c1f2dc8e6",
            "6c5541b0d2ba4d0e97af008217a18d56",
            "db21776184fe4860bd68bbac57954e55",
            "41eaa1e7174c46209e515579eed7b371",
            "6b2e74cf4f6d420e989677184c483274",
            "398dc97ef910449eb88cb20efd2df760",
            "fcd66d08b23c485ba01b02b9e66305c1",
            "e2cb888b16f342529c400887388e935e",
            "bd04f1518f7f4fda99b806bd545bdb01",
            "a301ea0c1f7149d1a83a32ca8965328e",
            "6cf4d93e8e8b42099c9a9fc095501306",
            "aba7e68c6ba145c2bcb6937293bb34d1",
            "aaec233b9bb94d29a066a96c46a87e64",
            "29fae5560c784855928915a1df42bf87",
            "57504126cb07494893ab4226a7e84bd5",
            "40eb25e33a614d7dbccd1c6504c2d80d",
            "33f1a432123b4c5e9585845e17309230",
            "78bc2da6782c4689857aabb406f2fdcf",
            "c22648729fb740d4aa538a245f7a9b1a",
            "c7dc791b9b1948d79bf0b84832293af2",
            "bc9bdcf5642a4e53b2938cec504cd48c",
            "9a630c515b4049b282c4c9709cfb1486",
            "f7015f6576794af0a4afa69efbd79e55",
            "fa5eb8dbb8f44a468faea0cdef4b99a7",
            "e6d09fb8b5194e0f820c161aad4164ce",
            "98714cebe7ba42ec9a4472d3739c8343",
            "0a34ff1fa59c4f748bc10fbcf9dfe534",
            "0a2eddab9a9b418683de16c3962fa260",
            "eca8c91ba5a8412f893a14e3181ea352",
            "d2f5f8c64e484f76bc7ad6282d26e8ea",
            "5346d4c88d4a4e8f97db9ec9833ce39c",
            "8fae24400598413fb63ba32983846994",
            "0fd49416ef2049bc9400753dacc8b603",
            "fb966096895244a08b7318cc8124d58a",
            "eac1d99988fb49f0a8205a6bd89fd512",
            "64b1753397b74de6aa60969ba723a41c",
            "d2cbe63bf3a54b06b42e614461525f6f",
            "8f503aed230547d79afa430fe18f47de",
            "7cd839be24bc43ed96a49ded6a0c9fef",
            "649c6e15586a402ba16ab9ccd610fd4c",
            "a21465d043a14bae8b514c7541f5b132",
            "d44477eb387e44bf88b709ab5ff6f921",
            "c483991755da485882a2f88b6c830195",
            "b61a760267504e369043d07b4d9bd241"
          ]
        },
        "id": "Dzbqzil4rLQN",
        "outputId": "aa8ff005-5f78-4f57-c754-5cb6feee9d21"
      },
      "outputs": [
        {
          "output_type": "stream",
          "name": "stderr",
          "text": [
            "WARNING:datasets.builder:Using custom data configuration default-7a6ad9454a060d74\n"
          ]
        },
        {
          "output_type": "stream",
          "name": "stdout",
          "text": [
            "Downloading and preparing dataset csv/default to /root/.cache/huggingface/datasets/csv/default-7a6ad9454a060d74/0.0.0/6b9057d9e23d9d8a2f05b985917a0da84d70c5dae3d22ddd8a3f22fb01c69d9e...\n"
          ]
        },
        {
          "output_type": "display_data",
          "data": {
            "text/plain": [
              "  0%|          | 0/1 [00:00<?, ?it/s]"
            ],
            "application/vnd.jupyter.widget-view+json": {
              "version_major": 2,
              "version_minor": 0,
              "model_id": "9567a8fa484d4f788a12bda5eea424b1"
            }
          },
          "metadata": {}
        },
        {
          "output_type": "display_data",
          "data": {
            "text/plain": [
              "  0%|          | 0/1 [00:00<?, ?it/s]"
            ],
            "application/vnd.jupyter.widget-view+json": {
              "version_major": 2,
              "version_minor": 0,
              "model_id": "447829e8dd7a438582321c0a49f2a315"
            }
          },
          "metadata": {}
        },
        {
          "output_type": "stream",
          "name": "stdout",
          "text": [
            "Dataset csv downloaded and prepared to /root/.cache/huggingface/datasets/csv/default-7a6ad9454a060d74/0.0.0/6b9057d9e23d9d8a2f05b985917a0da84d70c5dae3d22ddd8a3f22fb01c69d9e. Subsequent calls will reuse this data.\n"
          ]
        },
        {
          "output_type": "display_data",
          "data": {
            "text/plain": [
              "  0%|          | 0/1 [00:00<?, ?it/s]"
            ],
            "application/vnd.jupyter.widget-view+json": {
              "version_major": 2,
              "version_minor": 0,
              "model_id": "47955fd1075c447d92bcdac1ee75b583"
            }
          },
          "metadata": {}
        },
        {
          "output_type": "stream",
          "name": "stderr",
          "text": [
            "WARNING:datasets.builder:Using custom data configuration default-05fbf9894eeb0a7a\n"
          ]
        },
        {
          "output_type": "stream",
          "name": "stdout",
          "text": [
            "Downloading and preparing dataset csv/default to /root/.cache/huggingface/datasets/csv/default-05fbf9894eeb0a7a/0.0.0/6b9057d9e23d9d8a2f05b985917a0da84d70c5dae3d22ddd8a3f22fb01c69d9e...\n"
          ]
        },
        {
          "output_type": "display_data",
          "data": {
            "text/plain": [
              "  0%|          | 0/1 [00:00<?, ?it/s]"
            ],
            "application/vnd.jupyter.widget-view+json": {
              "version_major": 2,
              "version_minor": 0,
              "model_id": "1c68bf11692c4c418e9a166a5b6090b1"
            }
          },
          "metadata": {}
        },
        {
          "output_type": "display_data",
          "data": {
            "text/plain": [
              "  0%|          | 0/1 [00:00<?, ?it/s]"
            ],
            "application/vnd.jupyter.widget-view+json": {
              "version_major": 2,
              "version_minor": 0,
              "model_id": "251a27054c95428a9e593fb81959daa4"
            }
          },
          "metadata": {}
        },
        {
          "output_type": "stream",
          "name": "stdout",
          "text": [
            "Dataset csv downloaded and prepared to /root/.cache/huggingface/datasets/csv/default-05fbf9894eeb0a7a/0.0.0/6b9057d9e23d9d8a2f05b985917a0da84d70c5dae3d22ddd8a3f22fb01c69d9e. Subsequent calls will reuse this data.\n"
          ]
        },
        {
          "output_type": "display_data",
          "data": {
            "text/plain": [
              "  0%|          | 0/1 [00:00<?, ?it/s]"
            ],
            "application/vnd.jupyter.widget-view+json": {
              "version_major": 2,
              "version_minor": 0,
              "model_id": "bd85b825223e4d77b14f218c1f2dc8e6"
            }
          },
          "metadata": {}
        },
        {
          "output_type": "stream",
          "name": "stderr",
          "text": [
            "WARNING:datasets.builder:Using custom data configuration default-bd293e27a13725eb\n"
          ]
        },
        {
          "output_type": "stream",
          "name": "stdout",
          "text": [
            "Downloading and preparing dataset csv/default to /root/.cache/huggingface/datasets/csv/default-bd293e27a13725eb/0.0.0/6b9057d9e23d9d8a2f05b985917a0da84d70c5dae3d22ddd8a3f22fb01c69d9e...\n"
          ]
        },
        {
          "output_type": "display_data",
          "data": {
            "text/plain": [
              "  0%|          | 0/1 [00:00<?, ?it/s]"
            ],
            "application/vnd.jupyter.widget-view+json": {
              "version_major": 2,
              "version_minor": 0,
              "model_id": "aba7e68c6ba145c2bcb6937293bb34d1"
            }
          },
          "metadata": {}
        },
        {
          "output_type": "display_data",
          "data": {
            "text/plain": [
              "  0%|          | 0/1 [00:00<?, ?it/s]"
            ],
            "application/vnd.jupyter.widget-view+json": {
              "version_major": 2,
              "version_minor": 0,
              "model_id": "f7015f6576794af0a4afa69efbd79e55"
            }
          },
          "metadata": {}
        },
        {
          "output_type": "stream",
          "name": "stdout",
          "text": [
            "Dataset csv downloaded and prepared to /root/.cache/huggingface/datasets/csv/default-bd293e27a13725eb/0.0.0/6b9057d9e23d9d8a2f05b985917a0da84d70c5dae3d22ddd8a3f22fb01c69d9e. Subsequent calls will reuse this data.\n"
          ]
        },
        {
          "output_type": "display_data",
          "data": {
            "text/plain": [
              "  0%|          | 0/1 [00:00<?, ?it/s]"
            ],
            "application/vnd.jupyter.widget-view+json": {
              "version_major": 2,
              "version_minor": 0,
              "model_id": "fb966096895244a08b7318cc8124d58a"
            }
          },
          "metadata": {}
        },
        {
          "output_type": "stream",
          "name": "stdout",
          "text": [
            "Dataset({\n",
            "    features: ['sentence', 'audio'],\n",
            "    num_rows: 1107\n",
            "})\n",
            "Dataset({\n",
            "    features: ['sentence', 'audio'],\n",
            "    num_rows: 493\n",
            "})\n",
            "Dataset({\n",
            "    features: ['sentence', 'audio'],\n",
            "    num_rows: 453\n",
            "})\n"
          ]
        }
      ],
      "source": [
        "from datasets import load_dataset, load_metric, Audio\n",
        "\n",
        "tonga_train = load_dataset(\"csv\",\n",
        "                                  data_files={\"train\": f\"{save_dir}/train.csv\"},\n",
        "                                  delimiter=\"\\t\")[\"train\"]\n",
        "tonga_dev = load_dataset(\"csv\",\n",
        "                                data_files={\"eval\": f\"{save_dir}/eval.csv\"},\n",
        "                                delimiter=\"\\t\")[\"eval\"]\n",
        "tonga_test = load_dataset(\"csv\",\n",
        "                                 data_files={\"test\": f\"{save_dir}/test.csv\"},\n",
        "                                 delimiter=\"\\t\")[\"test\"]\n",
        "\n",
        "print(tonga_train)\n",
        "print(tonga_dev)\n",
        "print(tonga_test)"
      ]
    },
    {
      "cell_type": "markdown",
      "source": [
        "We write a function to display some random samples of the dataset and run it a couple of times to get a feeling for the transcriptions."
      ],
      "metadata": {
        "id": "gcvZEwiRejP5"
      }
    },
    {
      "cell_type": "code",
      "execution_count": null,
      "metadata": {
        "id": "oIyYx53pryaH"
      },
      "outputs": [],
      "source": [
        "from datasets import ClassLabel\n",
        "import random\n",
        "import pandas as pd\n",
        "from IPython.display import display, HTML\n",
        "\n",
        "def show_random_elements(dataset, num_examples=10):\n",
        "    assert num_examples <= len(dataset), \"Can't pick more elements than there are in the dataset.\"\n",
        "    picks = []\n",
        "    for _ in range(num_examples):\n",
        "        pick = random.randint(0, len(dataset)-1)\n",
        "        while pick in picks:\n",
        "            pick = random.randint(0, len(dataset)-1)\n",
        "        picks.append(pick)\n",
        "\n",
        "    df = pd.DataFrame(dataset[picks])\n",
        "    display(HTML(df.to_html()))"
      ]
    },
    {
      "cell_type": "code",
      "execution_count": null,
      "metadata": {
        "colab": {
          "base_uri": "https://localhost:8080/",
          "height": 363
        },
        "id": "OA4LpxXysD33",
        "outputId": "b8e7c451-1e3c-479e-9a82-a3a69e62fb2f"
      },
      "outputs": [
        {
          "output_type": "display_data",
          "data": {
            "text/plain": [
              "<IPython.core.display.HTML object>"
            ],
            "text/html": [
              "<table border=\"1\" class=\"dataframe\">\n",
              "  <thead>\n",
              "    <tr style=\"text-align: right;\">\n",
              "      <th></th>\n",
              "      <th>sentence</th>\n",
              "    </tr>\n",
              "  </thead>\n",
              "  <tbody>\n",
              "    <tr>\n",
              "      <th>0</th>\n",
              "      <td>ndalumba ncibi kubeja nkaambo mebo inga limwi nseya kwaatola kumpali zyabukoko</td>\n",
              "    </tr>\n",
              "    <tr>\n",
              "      <th>1</th>\n",
              "      <td>kwiinda mukutazyiba kwangu ndakaile kuunkila mukasuko kakambizyi mulandu wakujaya lwando</td>\n",
              "    </tr>\n",
              "    <tr>\n",
              "      <th>2</th>\n",
              "      <td>nkabela cipanzi canyika mpaakayakide zilao zyakwe wakacuula kubana ba hamori wisi sekemu wakaula amali aakesita aali mwanda</td>\n",
              "    </tr>\n",
              "    <tr>\n",
              "      <th>3</th>\n",
              "      <td>zintu ziligwa mumyuunda mumwezi wa miyoba nzeezi mapopwe minsale myuungu mapusi makowa</td>\n",
              "    </tr>\n",
              "    <tr>\n",
              "      <th>4</th>\n",
              "      <td>ndiya kukujana kukavwu kasubila wakajokezya ntobolo yakwe ansando munkomwi yamukati aajekete</td>\n",
              "    </tr>\n",
              "    <tr>\n",
              "      <th>5</th>\n",
              "      <td>nkabela sekemu mwana wa hamori mu hiti mwami wacisi naakamubona wakamutizya woona awe wamubisizya</td>\n",
              "    </tr>\n",
              "    <tr>\n",
              "      <th>6</th>\n",
              "      <td>mafuta atununkilizyo zilabotezya moyo mbulubede lulayo lwamweenzinyoko uuyandika</td>\n",
              "    </tr>\n",
              "    <tr>\n",
              "      <th>7</th>\n",
              "      <td>makondo waulisya basune makumi otatwe</td>\n",
              "    </tr>\n",
              "    <tr>\n",
              "      <th>8</th>\n",
              "      <td>asike amunzi waatalika kufwala</td>\n",
              "    </tr>\n",
              "    <tr>\n",
              "      <th>9</th>\n",
              "      <td>nekuba kuti watwa mufubafuba muncili amunsi antoomwe amaila bufubafuba bwakwe tabumani pe</td>\n",
              "    </tr>\n",
              "  </tbody>\n",
              "</table>"
            ]
          },
          "metadata": {}
        }
      ],
      "source": [
        "show_random_elements(tonga_train.remove_columns([\"audio\"]), num_examples=10)"
      ]
    },
    {
      "cell_type": "markdown",
      "source": [
        "Next we remove all characters that don't contribute to the meaning of a word and cannot really be represented by an acoustic sound and normalize the text. We also change all numerical values to their text form and replaced all \"hatted\" characters - like `å` to their \"un-hatted\" equivalent, *e.g.* `a`. \n"
      ],
      "metadata": {
        "id": "lS3cDXIVe3XF"
      }
    },
    {
      "cell_type": "code",
      "execution_count": null,
      "metadata": {
        "id": "c_z-5vicsH3o"
      },
      "outputs": [],
      "source": [
        "import re\n",
        "chars_to_remove_regex = '[\\,\\?\\.\\!\\-\\'\\_\\¬\\;\\:\\\"\\“\\%\\‘\\”\\x8b\\¨\\¼\\å\\ã\\�\\']'\n",
        "num_1 = '1'\n",
        "num_2 = '2'\n",
        "num_3 = '3'\n",
        "num_4 = '4'\n",
        "num_5 = '5'\n",
        "num_6 = '6'\n",
        "num_8 = '8'\n",
        "char_a1 = 'å'\n",
        "char_a2 = 'ã'\n",
        "\n",
        "def remove_special_characters(batch):\n",
        "    batch[\"sentence\"] = re.sub(chars_to_remove_regex, '', batch[\"sentence\"]).lower()\n",
        "    batch[\"sentence\"] = re.sub(num_1, 'one', batch[\"sentence\"]).lower()\n",
        "    batch[\"sentence\"] = re.sub(num_2, 'two', batch[\"sentence\"]).lower()\n",
        "    batch[\"sentence\"] = re.sub(num_3, 'three', batch[\"sentence\"]).lower()\n",
        "    batch[\"sentence\"] = re.sub(num_4, 'four', batch[\"sentence\"]).lower()\n",
        "    batch[\"sentence\"] = re.sub(num_5, 'five', batch[\"sentence\"]).lower()\n",
        "    batch[\"sentence\"] = re.sub(num_6, 'six', batch[\"sentence\"]).lower()\n",
        "    batch[\"sentence\"] = re.sub(num_8, 'eight', batch[\"sentence\"]).lower()\n",
        "    batch[\"sentence\"] = re.sub(char_a1, 'a', batch[\"sentence\"]).lower()\n",
        "    batch[\"sentence\"] = re.sub(char_a2, 'a', batch[\"sentence\"]).lower()\n",
        "    return batch"
      ]
    },
    {
      "cell_type": "code",
      "execution_count": null,
      "metadata": {
        "colab": {
          "base_uri": "https://localhost:8080/",
          "height": 150,
          "referenced_widgets": [
            "eeef2d53ca24483cb6b25d92f0583afd",
            "94ecd588afc941a0a84b242a7bbc99da",
            "8d65015a0002428a84109bdbd8a492bd",
            "8201faf0407d4f4ebc7cc1e5c07a5881",
            "ed8d112d7f9c4b87be9652207360ce45",
            "1bac5ca8da2049f8a870a413f266bfdc",
            "ef8fc218c0404ee389ca29a1b1075893",
            "112225150fbb4f15acdb062e14195127",
            "1491a17e7ded446ea40e391a04822744",
            "fb83f2de4259472ebbae7b118a26b303",
            "d95d3040ec2846f4bd8652842ff6626f",
            "9fae0ce57eb147dab87986a17edde98d",
            "f82bf54ccc484a78a0eb3b4612c53586",
            "4384ff9678e1430e85b72d4fc7569b14",
            "109c4a5779da465f8227e921927a5d67",
            "eadbda6678cf4f929751968c61ea374a",
            "80d0519510754844b6099238c46a68cc",
            "628cb510069343369cfcb425cc5e7680",
            "66861a8ccb1b4991a584564509a46942",
            "cb775419ef7248e296f9a39993749d4c",
            "c842c59944ca49aab8aa89ee4dbc0c27",
            "cf76e1b1029b4ece9bbafe79c105caba",
            "35a5546442fd4ccd8dfdaf076d03ddc1",
            "9b679ed2545747688f8764e348b27b07",
            "017b26cfbaf449b9b56d6368b62bb998",
            "b5ea50a0fc4b44659f691e2924293764",
            "97904d6d74e9403b9944ecbb41d3eee8",
            "945f563947d14189a4f18d74d1bfc4d8",
            "de203556c63d4d8ca547b892b4279163",
            "de60c8d9464f426ea9f1ab965f6dacfa",
            "08eba8d4718e4bb895e69262b811e1f4",
            "6d48546b5c454e55acc7693b579b91de",
            "8332626b54dd4c46a67b8880d31e1376"
          ]
        },
        "id": "KQ-hm9OosM_w",
        "outputId": "7c695c4c-9eec-4bed-be4b-c0d4e36f5112"
      },
      "outputs": [
        {
          "output_type": "stream",
          "name": "stderr",
          "text": [
            "WARNING:datasets.fingerprint:Parameter 'function'=<function remove_special_characters at 0x7fe4fa7bbd30> of the transform datasets.arrow_dataset.Dataset._map_single couldn't be hashed properly, a random hash was used instead. Make sure your transforms and parameters are serializable with pickle or dill for the dataset fingerprinting and caching to work. If you reuse this transform, the caching mechanism will consider it to be different from the previous calls and recompute everything. This warning is only showed once. Subsequent hashing failures won't be showed.\n"
          ]
        },
        {
          "output_type": "display_data",
          "data": {
            "text/plain": [
              "0ex [00:00, ?ex/s]"
            ],
            "application/vnd.jupyter.widget-view+json": {
              "version_major": 2,
              "version_minor": 0,
              "model_id": "eeef2d53ca24483cb6b25d92f0583afd"
            }
          },
          "metadata": {}
        },
        {
          "output_type": "display_data",
          "data": {
            "text/plain": [
              "0ex [00:00, ?ex/s]"
            ],
            "application/vnd.jupyter.widget-view+json": {
              "version_major": 2,
              "version_minor": 0,
              "model_id": "9fae0ce57eb147dab87986a17edde98d"
            }
          },
          "metadata": {}
        },
        {
          "output_type": "display_data",
          "data": {
            "text/plain": [
              "0ex [00:00, ?ex/s]"
            ],
            "application/vnd.jupyter.widget-view+json": {
              "version_major": 2,
              "version_minor": 0,
              "model_id": "35a5546442fd4ccd8dfdaf076d03ddc1"
            }
          },
          "metadata": {}
        }
      ],
      "source": [
        "tonga_train = tonga_train.map(remove_special_characters)\n",
        "tonga_dev = tonga_dev.map(remove_special_characters)\n",
        "tonga_test = tonga_test.map(remove_special_characters)"
      ]
    },
    {
      "cell_type": "markdown",
      "source": [
        "Next we extract all distinct letters of the training and test data and build our vocabulary from this set of letters.\n",
        "\n",
        "We write a mapping function that concatenates all transcriptions into one long transcription and then transforms the string into a set of chars. \n",
        "It is important to pass the argument `batched=True` to the `map(...)` function so that the mapping function has access to all transcriptions at once."
      ],
      "metadata": {
        "id": "sqfqjJlifmg1"
      }
    },
    {
      "cell_type": "code",
      "execution_count": null,
      "metadata": {
        "id": "LD8gP_GrsRlP"
      },
      "outputs": [],
      "source": [
        "def extract_all_chars(batch):\n",
        "  all_text = \" \".join(batch[\"sentence\"])\n",
        "  vocab = list(set(all_text))\n",
        "  return {\"vocab\": [vocab], \"all_text\": [all_text]}"
      ]
    },
    {
      "cell_type": "code",
      "execution_count": null,
      "metadata": {
        "colab": {
          "base_uri": "https://localhost:8080/",
          "height": 113,
          "referenced_widgets": [
            "bee94839efbc4019bd963f4ffa5052d0",
            "030e38ea3154454c821e272269acdfc8",
            "c5eede5ebefd46e5827f0facc742e72e",
            "9b833ddd25f64d17bd3b15eff8fe801e",
            "3a9a1a40d72f4114afa948a010daf45d",
            "cd55b87e72414e3cbd9fbe52f4913e61",
            "9599a2a95b1f4951a81fd7d5df03b435",
            "a85120896c8e404ea4bfd8981bc19c26",
            "e8272ac5044041e98cc125e87fa475f9",
            "41fd43e70de7470fa3c5477c3b1d1af0",
            "a2c22ce75f26415ca930501e1a1372f6",
            "908837f791ec43df839424aab07bae27",
            "8a19dfd92e784a8abfe92d78996d25eb",
            "912eef6ee2cc4925bd48a0b521a91776",
            "71c2e8fa76c947aa8b6b7e1de7c428be",
            "698f6d66fb6b43adaca199d63abd7f69",
            "6414ebbaca12429c8cfb083dd728b9b1",
            "6c21052c0fa94f6a9a12711b794d069c",
            "95fe82ba9bee404eaa804c052efa0ee3",
            "857ce1dea7cc467b8e6732b1371c92c9",
            "5b386754c80f4eb9870277b4d3b464c4",
            "e7066467a1644c6bbc5397f01935c89d",
            "d69ff446b189459ea63f21039f182fb1",
            "65ff5525233a415188211882f2d5491c",
            "030563f2223446a090610690e430c50a",
            "961fbda0076248e2a37ae54bbf980a9c",
            "dceb99f784ed4e2c89774b927b28930a",
            "c8b2bd942a5443d9b0feb0a095d7ceee",
            "1056860ab70c4622aa21f6f751615c6f",
            "0da168d500f7405f9ec318f42139da15",
            "e6a78cdafb3443c2b2e398bd1bf2f998",
            "ed131db86f564861bfa4efa96b1c1928",
            "678d6a876a6e4ba39f04a3dba7cbb4f0"
          ]
        },
        "id": "eUrge8vbshci",
        "outputId": "9dcc7c47-4e7b-4087-f8c0-d789a7a9b411"
      },
      "outputs": [
        {
          "output_type": "display_data",
          "data": {
            "text/plain": [
              "  0%|          | 0/1 [00:00<?, ?ba/s]"
            ],
            "application/vnd.jupyter.widget-view+json": {
              "version_major": 2,
              "version_minor": 0,
              "model_id": "bee94839efbc4019bd963f4ffa5052d0"
            }
          },
          "metadata": {}
        },
        {
          "output_type": "display_data",
          "data": {
            "text/plain": [
              "  0%|          | 0/1 [00:00<?, ?ba/s]"
            ],
            "application/vnd.jupyter.widget-view+json": {
              "version_major": 2,
              "version_minor": 0,
              "model_id": "908837f791ec43df839424aab07bae27"
            }
          },
          "metadata": {}
        },
        {
          "output_type": "display_data",
          "data": {
            "text/plain": [
              "  0%|          | 0/1 [00:00<?, ?ba/s]"
            ],
            "application/vnd.jupyter.widget-view+json": {
              "version_major": 2,
              "version_minor": 0,
              "model_id": "d69ff446b189459ea63f21039f182fb1"
            }
          },
          "metadata": {}
        }
      ],
      "source": [
        "vocab_train = tonga_train.map(extract_all_chars, batched=True, batch_size=-1, keep_in_memory=True, remove_columns=tonga_train.column_names)\n",
        "vocab_dev = tonga_dev.map(extract_all_chars, batched=True, batch_size=-1, keep_in_memory=True, remove_columns=tonga_dev.column_names)\n",
        "vocab_test = tonga_test.map(extract_all_chars, batched=True, batch_size=-1, keep_in_memory=True, remove_columns=tonga_test.column_names)"
      ]
    },
    {
      "cell_type": "markdown",
      "source": [
        "Then we create the union of all distinct letters in the training dataset and validate dataset and convert the resulting list into an enumerated dictionary."
      ],
      "metadata": {
        "id": "2xmMIQJ-fzGq"
      }
    },
    {
      "cell_type": "code",
      "execution_count": null,
      "metadata": {
        "id": "30QWFvCBsk5n"
      },
      "outputs": [],
      "source": [
        "vocab_list = list(set(vocab_train[\"vocab\"][0]) | set(vocab_dev[\"vocab\"][0]))"
      ]
    },
    {
      "cell_type": "code",
      "execution_count": null,
      "metadata": {
        "id": "ZmxWpzlMsoOC"
      },
      "outputs": [],
      "source": [
        "\n",
        "vocab_dict = {v: k for k, v in enumerate(sorted(vocab_list))}"
      ]
    },
    {
      "cell_type": "markdown",
      "source": [
        "`\" \"` has its own token class, we give it a more visible character `|`. In addition, we also add an \"unknown\" token so that the model can later deal with characters not encountered in Common Voice's training set. We also add a padding token that corresponds to CTC's \"blank token\". The \"blank token\" is a core component of the CTC algorithm. More information can be found here: https://distill.pub/2017/ctc/"
      ],
      "metadata": {
        "id": "ztRae0Yng_5a"
      }
    },
    {
      "cell_type": "code",
      "execution_count": null,
      "metadata": {
        "id": "v9cUzXXUsrGI"
      },
      "outputs": [],
      "source": [
        "vocab_dict[\"|\"] = vocab_dict[\" \"]\n",
        "del vocab_dict[\" \"]"
      ]
    },
    {
      "cell_type": "code",
      "execution_count": null,
      "metadata": {
        "id": "bHeTcooVtZFA"
      },
      "outputs": [],
      "source": [
        "vocab_dict[\"[UNK]\"] = len(vocab_dict)\n",
        "vocab_dict[\"[PAD]\"] = len(vocab_dict)\n",
        "len(vocab_dict)"
      ]
    },
    {
      "cell_type": "markdown",
      "source": [
        "our vocabulary is complete and consists of 27 tokens. "
      ],
      "metadata": {
        "id": "Ty35PA0OjVci"
      }
    },
    {
      "cell_type": "code",
      "source": [
        "vocab_dict"
      ],
      "metadata": {
        "colab": {
          "base_uri": "https://localhost:8080/"
        },
        "id": "qEGSJweFFRBl",
        "outputId": "84d08717-78b6-4269-d43d-84cf10bfebf1"
      },
      "execution_count": null,
      "outputs": [
        {
          "output_type": "execute_result",
          "data": {
            "text/plain": [
              "{'a': 1,\n",
              " 'b': 2,\n",
              " 'c': 3,\n",
              " 'd': 4,\n",
              " 'e': 5,\n",
              " 'f': 6,\n",
              " 'g': 7,\n",
              " 'h': 8,\n",
              " 'i': 9,\n",
              " 'j': 10,\n",
              " 'k': 11,\n",
              " 'l': 12,\n",
              " 'm': 13,\n",
              " 'n': 14,\n",
              " 'o': 15,\n",
              " 'p': 16,\n",
              " 'r': 17,\n",
              " 's': 18,\n",
              " 't': 19,\n",
              " 'u': 20,\n",
              " 'v': 21,\n",
              " 'w': 22,\n",
              " 'x': 23,\n",
              " 'y': 24,\n",
              " 'z': 25,\n",
              " '|': 0,\n",
              " '[UNK]': 26,\n",
              " '[PAD]': 27}"
            ]
          },
          "metadata": {},
          "execution_count": 36
        }
      ]
    },
    {
      "cell_type": "markdown",
      "source": [
        "we can see that all letters of the alphabet occur in the dataset. Also another thing to keep in mind that pre-processing is a very important step before training your model. E.g., we don't want our model to differentiate between `a` and `A` because the difference between between the two does not depend on the \"sound\" of the letter at all, but more on grammatical rules - *e.g.* use a capitalized letter at the beginning of the sentence. So it is essential to remove the difference between capitalized and non-capitalized letters so that the model has an easier time learning to transcribe speech. "
      ],
      "metadata": {
        "id": "_L1ubv7agPOt"
      }
    },
    {
      "cell_type": "markdown",
      "source": [
        "Now save the vocabulary as a json file."
      ],
      "metadata": {
        "id": "Z8Er6g5chgXd"
      }
    },
    {
      "cell_type": "code",
      "execution_count": null,
      "metadata": {
        "id": "6xlB23eCteF_"
      },
      "outputs": [],
      "source": [
        "import json\n",
        "with open('vocab.json', 'w') as vocab_file:\n",
        "    json.dump(vocab_dict, vocab_file)"
      ]
    },
    {
      "cell_type": "markdown",
      "source": [
        "We load the model checkpoint and initialize it."
      ],
      "metadata": {
        "id": "4Xv7veMDjw6B"
      }
    },
    {
      "cell_type": "code",
      "source": [
        "model_checkpoint = \"facebook/wav2vec2-xls-r-300m\""
      ],
      "metadata": {
        "id": "Nt6VHnQ4eZPb"
      },
      "execution_count": null,
      "outputs": []
    },
    {
      "cell_type": "code",
      "source": [
        "from transformers import AutoConfig\n",
        "config = AutoConfig.from_pretrained(model_checkpoint)"
      ],
      "metadata": {
        "id": "VFQssGOads82",
        "colab": {
          "base_uri": "https://localhost:8080/",
          "height": 49,
          "referenced_widgets": [
            "c271e4a6aa784fb58e60b3939e4302b9",
            "6cea6ee0318b45d9913755c037eb9ce5",
            "99a93fbfea0e42b7a9f721d9fb56fc8d",
            "ca41c10f0d7b4b9d963dbd1d81557d76",
            "0852b2edcd09422fb7f9a6c501ea3e80",
            "4ff8271792cd4ef08cf2b2996a2dcb33",
            "63ff5f38775043a893bab1e6fb2de8d7",
            "8eb3a03cca684bf185176ed909f91164",
            "0e0348e1e64e493b850534d31ed4a6b5",
            "7f6fd09ba2da4e568099c30bd0da3fb8",
            "ee8206cdc8954428882cd16076771c47"
          ]
        },
        "outputId": "57d920a9-25c8-44c4-fb4e-b1b2fdd06be7"
      },
      "execution_count": null,
      "outputs": [
        {
          "output_type": "display_data",
          "data": {
            "text/plain": [
              "Downloading:   0%|          | 0.00/1.53k [00:00<?, ?B/s]"
            ],
            "application/vnd.jupyter.widget-view+json": {
              "version_major": 2,
              "version_minor": 0,
              "model_id": "c271e4a6aa784fb58e60b3939e4302b9"
            }
          },
          "metadata": {}
        }
      ]
    },
    {
      "cell_type": "code",
      "source": [
        "tokenizer_type = config.model_type if config.tokenizer_class is None else None\n",
        "config = config if config.tokenizer_class is not None else None"
      ],
      "metadata": {
        "id": "rvxQzgTweq82"
      },
      "execution_count": null,
      "outputs": []
    },
    {
      "cell_type": "markdown",
      "source": [
        "We use the json file to load the vocabulary into an instance of the `Wav2Vec2CTCTokenizer` class."
      ],
      "metadata": {
        "id": "-RPvM6HrieTe"
      }
    },
    {
      "cell_type": "code",
      "source": [
        "from transformers import Wav2Vec2CTCTokenizer\n",
        "\n",
        "tokenizer = Wav2Vec2CTCTokenizer.from_pretrained(\"./\", \n",
        "                                                 unk_token=\"[UNK]\", \n",
        "                                                 pad_token=\"[PAD]\", \n",
        "                                                 word_delimiter_token=\"|\")"
      ],
      "metadata": {
        "colab": {
          "base_uri": "https://localhost:8080/"
        },
        "id": "15oBVovQ9oSj",
        "outputId": "826b5bf3-a34b-4e19-9bd7-a08b9051b691"
      },
      "execution_count": null,
      "outputs": [
        {
          "output_type": "stream",
          "name": "stderr",
          "text": [
            "Special tokens have been added in the vocabulary, make sure the associated word embeddings are fine-tuned or trained.\n"
          ]
        }
      ]
    },
    {
      "cell_type": "code",
      "source": [
        "# # Import the necessary libraries\n",
        "# from transformers import AutoModelWithLMHead, AutoTokenizer\n",
        "# from keras.preprocessing import sequence\n",
        "\n",
        "# # Set the model type, architecture, and configuration\n",
        "# model_type = 'wav2vec2-xls-r-300m'\n",
        "# arch = 'xlsr300m'\n",
        "# config = './config.json'\n",
        "\n",
        "# # Initialize the model with the specified architecture and configuration\n",
        "# model = AutoModelWithLMHead.from_pretrained(model_type,\n",
        "#                                              arch,\n",
        "#                                              config=config)\n",
        "\n",
        "# # Initialize the tokenizer\n",
        "# tokenizer = AutoTokenizer.from_pretrained(model_type,\n",
        "#                                            arch,\n",
        "#                                            unk_token='[UNK]',\n",
        "#                                            pad_token='[PAD]')\n",
        "\n",
        "# # Set the maximum sequence length\n",
        "# max_seq_length = 50\n",
        "\n",
        "# # Load your input data\n",
        "# input_data = ...\n",
        "\n",
        "# # Tokenize the input data\n",
        "# input_tokens = tokenizer.encode(input_data)\n",
        "\n",
        "# # Pad the input tokens to the maximum sequence length\n",
        "# input_tokens = sequence.pad_sequences([input_tokens],\n",
        "#                                       maxlen=max_seq_length,\n",
        "#                                       padding='post')\n",
        "\n",
        "# # Use the model to make predictions on the input data\n",
        "# predictions = model.predict(input_tokens)\n"
      ],
      "metadata": {
        "id": "t39HOJn12TP-"
      },
      "execution_count": null,
      "outputs": []
    },
    {
      "cell_type": "markdown",
      "source": [
        "We name our model"
      ],
      "metadata": {
        "id": "i6qcD_JTjvAz"
      }
    },
    {
      "cell_type": "code",
      "source": [
        "model_checkpoint_name = model_checkpoint.split('/')[-1]\n",
        "repo_name = f\"{model_checkpoint_name}-tonga-5hrs\""
      ],
      "metadata": {
        "id": "d-n6_tEvfLFo"
      },
      "execution_count": null,
      "outputs": []
    },
    {
      "cell_type": "markdown",
      "source": [
        "## Create Wav2Vec2FeatureExtractor"
      ],
      "metadata": {
        "id": "FGtvj6qlkZHU"
      }
    },
    {
      "cell_type": "markdown",
      "source": [
        "Speech is a continuous signal that must be discretized in order to be processed by computers. This process is known as sampling, and the rate at which it is performed is called the sampling rate. The higher the sampling rate, the better the approximation of the original speech signal, but it also requires more data points to be measured per second. Therefore, the choice of sampling rate is a trade-off between accuracy and data efficiency.\n",
        "\n",
        "Before fine-tuning a pretrained checkpoint of an ASR model, it is crucial to verify that the sampling rate of the data that was used to pretrain the model matches the sampling rate of the dataset used to fine-tune the model. XLS-R was pretrained on audio data of Babel, Multilingual LibriSpeech (MLS), Common Voice, VoxPopuli, and VoxLingua107 at a sampling rate of 16kHz. So our audio needs to the same sampling rate."
      ],
      "metadata": {
        "id": "i9gX7yfsk2hJ"
      }
    },
    {
      "cell_type": "markdown",
      "source": [
        "A Wav2Vec2FeatureExtractor object requires several parameters to be instantiated, including:\n",
        "\n",
        "- feature_size: This is the size of the feature vectors that the model expects as input. For Wav2Vec2, the feature size is 1 because the model was trained on the raw speech signal.\n",
        "- sampling_rate: This is the rate at which the model was trained on.\n",
        "- padding_value: This is the value used to pad shorter inputs when performing batched inference.\n",
        "- do_normalize: This specifies whether the input should be zero-mean-unit-variance normalized. Speech models often perform better when the input is normalized in this way.\n",
        "- return_attention_mask: This specifies whether the model should use an attention mask for batched inference. In general, XLS-R models checkpoints should always use an attention mask.\n",
        "\n",
        "\n",
        "\n"
      ],
      "metadata": {
        "id": "ETGzpGc3lo6u"
      }
    },
    {
      "cell_type": "code",
      "source": [
        "from transformers import AutoFeatureExtractor\n",
        "feature_extractor = AutoFeatureExtractor.from_pretrained(model_checkpoint)"
      ],
      "metadata": {
        "id": "bTCErcbygYzl",
        "colab": {
          "base_uri": "https://localhost:8080/",
          "height": 49,
          "referenced_widgets": [
            "93586c84a0074adf80d06592d7fd91f6",
            "10ef01ded2154a07b3d2bdee9f20f254",
            "658d848b768a4c2897ebb0e79b28af16",
            "a133fe2c6c6a4f3fadf338676be0f7fc",
            "8d876500cb6840f18ceb3fa23b8edecc",
            "95e11a49c30e4a7184fc56646c21203b",
            "1f0d278f1e584f64a2b8ddd7f0f250ed",
            "1ccb94ef5cd047efa507f6f9677ed425",
            "138afef78b2a4ea3a1e737deffe93f1e",
            "ebfb84d5fb5846fcbfe765193177afe0",
            "43827fc95df242ee8c59c8bb2aa6f7ad"
          ]
        },
        "outputId": "8b5e1c89-1af0-4338-a6cf-1f56084421e6"
      },
      "execution_count": null,
      "outputs": [
        {
          "output_type": "display_data",
          "data": {
            "text/plain": [
              "Downloading:   0%|          | 0.00/212 [00:00<?, ?B/s]"
            ],
            "application/vnd.jupyter.widget-view+json": {
              "version_major": 2,
              "version_minor": 0,
              "model_id": "93586c84a0074adf80d06592d7fd91f6"
            }
          },
          "metadata": {}
        }
      ]
    },
    {
      "cell_type": "markdown",
      "source": [
        "Now the XLS-R's feature extraction pipeline is has been fully defined!\n",
        "\n",
        "For improved user-friendliness, the feature extractor and tokenizer are wrapped into a single Wav2Vec2Processor class so that one only needs a model and processor object."
      ],
      "metadata": {
        "id": "dQmiezF4mDqM"
      }
    },
    {
      "cell_type": "code",
      "source": [
        "from transformers import Wav2Vec2Processor\n",
        "processor = Wav2Vec2Processor(feature_extractor=feature_extractor, tokenizer=tokenizer)"
      ],
      "metadata": {
        "id": "huPHpqsohD28"
      },
      "execution_count": null,
      "outputs": []
    },
    {
      "cell_type": "markdown",
      "source": [
        "## Preprocess Data"
      ],
      "metadata": {
        "id": "EUNSVuvRmUfv"
      }
    },
    {
      "cell_type": "markdown",
      "source": [
        "Import required libraries"
      ],
      "metadata": {
        "id": "w_JfDPiwmYOD"
      }
    },
    {
      "cell_type": "code",
      "execution_count": null,
      "metadata": {
        "id": "-yqzUyMEt1eD"
      },
      "outputs": [],
      "source": [
        "from transformers import (\n",
        "    Wav2Vec2CTCTokenizer,\n",
        "    Wav2Vec2FeatureExtractor,\n",
        "    Wav2Vec2Processor,\n",
        "    Wav2Vec2ForCTC,\n",
        "    TrainingArguments,\n",
        "    Trainer\n",
        ")"
      ]
    },
    {
      "cell_type": "markdown",
      "source": [
        "We set the sampling rate to 16 000"
      ],
      "metadata": {
        "id": "cW6rawn7mou5"
      }
    },
    {
      "cell_type": "code",
      "execution_count": null,
      "metadata": {
        "id": "ggle1Fxru4AG"
      },
      "outputs": [],
      "source": [
        "tonga_train = tonga_train.cast_column(\"audio\", Audio(sampling_rate=16_000))\n",
        "tonga_dev = tonga_dev.cast_column(\"audio\", Audio(sampling_rate=16_000))\n",
        "tonga_test = tonga_test.cast_column(\"audio\", Audio(sampling_rate=16_000))"
      ]
    },
    {
      "cell_type": "markdown",
      "source": [
        "Next we listen to a couple of audio files to better understand the dataset and verify that the audio was correctly loaded.\n",
        "\n",
        "**Note**: You can click the following cell a couple of times to listen to different speech samples."
      ],
      "metadata": {
        "id": "L-S_iiT2myiN"
      }
    },
    {
      "cell_type": "code",
      "execution_count": null,
      "metadata": {
        "colab": {
          "base_uri": "https://localhost:8080/",
          "height": 93
        },
        "id": "H08jOGeMvdre",
        "outputId": "a8956a5e-f1d7-4b44-ec68-06eb9e5fea77"
      },
      "outputs": [
        {
          "output_type": "stream",
          "name": "stdout",
          "text": [
            "moyo wako utafwidi basizibi ibbivwe pele kaka tila kukuyoowa jehova buzuba boonse \n"
          ]
        },
        {
          "output_type": "execute_result",
          "data": {
            "text/plain": [
              "<IPython.lib.display.Audio object>"
            ],
            "text/html": [
              "\n",
              "                <audio  controls=\"controls\" autoplay=\"autoplay\">\n",
              "                    <source src=\"data:audio/wav;base64,UklGRqRhBgBXQVZFZm10IBAAAAABAAEAgD4AAAB9AAACABAAZGF0YYBhBgAAAAAAAAAAAAAAAAAAAAAAAAAAAAAAAAAAAAAAAAAAAAAAAAAAAAAAAAAAAAAAAAAAAAAAAAAAAAAAAAAAAAAAAAAAAAAAAAAAAAAAAAAAAAAAAAAAAAAAAAAAAAAAAAAAAAAAAAAAAAAAAAAAAAAAAAAAAAAAAAAAAAAAAAAAAAAAAAAAAAAAAAAAAAAAAAAAAAAAAAAAAAAAAAAAAAAAAAAAAAAAAAAAAAAAAAAAAAAAAAAAAAAAAAAAAAAAAAAAAAAAAAAAAAAAAAAAAAAAAAAAAAAAAAAAAAAAAAAAAAAAAAAAAAAAAAAAAAAAAAAAAAAAAAAAAAAAAAAAAAAAAAAAAAAAAAAAAAAAAAAAAAAAAAAAAAAAAAAAAAAAAAAAAAAAAAAAAAAAAAAAAAAAAAAAAAAAAAAAAAAAAAAAAAAAAAAAAAAAAAAAAAAAAAAAAAAAAAAAAAAAAAAAAAAAAAAAAAAAAAAAAAAAAAAAAAAAAAAAAAAAAAAAAAAAAAAAAAAAAAAAAAAAAAAAAAAAAAAAAAAAAAAAAAAAAAAAAAAAAAAAAAAAAAAAAAAAAAAAAAAAAAAAAAAAAAAAAAAAAAAAAAAAAAAAAAAAAAAAAAAAAAAAAAAAAAAAAAAAAAAAAAAAAAAAAAAAAAAAAAAAAAAAAAAAAAAAAAAAAAAAAAAAAAAAAAAAAAAAAAAAAAAAAAAAAAAAAAAAAAAAAAAAAAAAAAAAAAAAAAAAAAAAAAAAAAAAAAAAAAAAAAAAAAAAAAAAAAAAAAAAAAAAAAAAAAAAAAAAAAAAAAAAAAAAAAAAAAAAAAAAAAAAAAAAAAAAAAAAAAAAAAAAAAAAAAAAAAAAAAAAAAAAAAAAAAAAAAAAAAAAAAAAAAAAAAAAAAAAAAAAAAAAAAAAAAAAAAAAAAAAAAAAAAAAAAAAAAAAAAAAAAAAAAAAAAAAAAAAAAAAAAAAAAAAAAAAAAAAAAAAAAAAAAAAAAAAAAAAAAAAAAAAAAAAAAAAAAAAAAAAAAAAAAAAAAAAAAAAAAAAAAAAAAAAAAAAAAAAAAAAAAAAAAAAAAAAAAAAAAAAAAAAAAAAAAAAAAAAAAAAAAAAAAAAAAAAAAAAAAAAAAAAAAAAAAAAAAAAAAAAAAAAAAAAAAAAAAAAAAAAAAAAAAAAAAAAAAAAAAAAAAAAAAAAAAAAAAAAAAAAAAAAAAAAAAAAAAAAAAAAAAAAAAAAAAAAAAAAAAAAAAAAAAAAAAAAAAAAAAAAAAAAAAAAAAAAAAAAAAAAAAAAAAAAAAAAAAAAAAAAAAAAAAAAAAAAAAAAAAAAAAAAAAAAAAAAAAAAAAAAAAAAAAAAAAAAAAAAAAAAAAAAAAAAAAAAAAAAAAAAAAAAAAAAAAAAAAAAAAAAAAAAAAAAAAAAAAAAAAAAAAAAAAAAAAAAAAAAAAAAAAAAAAAAAAAAAAAAAAAAAAAAAAAAAAAAAAAAAAAAAAAAAAAAAAAAAAAAAAAAAAAAAAAAAAAAAAAAAAAAAAAAAAAAAAAAAAAAAAAAAAAAAAAAAAAAAAAAAAAAAAAAAAAAAAAAAAAAAAAAAAAAAAAAAAAAAAAAAAAAAAAAAAAAAAAAAAAAAAAAAAAAAAAAAAAAAAAAAAAAAAAAAAAAAAAAAAAAAAAAAAAAAAAAAAAAAAAAAAAAAAAAAAAAAAAAAAAAAAAAAAAAAAAAAAAAAAAAAAAAAAAAAAAAAAAAAAAAAAAAAAAAAAAAAAAAAAAAAAAAAAAAAAAAAAAAAAAAAAAAAAAAAAAAAAAAAAAAAAAAAAAAAAAAAAAAAAAAAAAAAAAAAAAAAAAAAAAAAAAAAAAAAAAAAAAAAAAAAAAAAAAAAAAAAAAAAAAAAAAAAAAAAAAAAAAAAAAAAAAAAAAAAAAAAAAAAAAAAAAAAAAAAAAAAAAAAAAAAAAAAAAAAAAAAAAAAAAAAAAAAAAAAAAAAAAAAAAAAAAAAAAAAAAAAAAAAAAAAAAAAAAAAAAAAAAAAAAAAAAAAAAAAAAAAAAAAAAAAAAAAAAAAAAAAAAAAAAAAAAAAAAAAAAAAAAAAAAAAAAAAAAAAAAAAAAAAAAAAAAAAAAAAAAAAAAAAAAAAAAAAAAAAAAAAAAAAAAAAAAAAAAAAAAAAAAAAAAAAAAAAAAAAAAAAAAAAAAAAAAAAAAAAAAAAAAAAAAAAAAAAAAAAAAAAAAAAAAAAAAAAAAAAAAAAAAAAAAAAAAAAAAAAAAAAAAAAAAAAAAAAAAAAAAAAAAAAAAAAAAAAAAAAAAAAAAAAAAAAAAAAAAAAAAAAAAAAAAAAAAAAAAAAAAAAAAAAAAAAAAAAAAAAAAAAAAAAAAAAAAAAAAAAAAAAAAAAAAAAAAAAAAAAAAAAAAAAAAAAAAAAAAAAAAAAAAAAAAAAAAAAAAAAP7//v/+//7//v/+//7/AgAEAAYABgAGAAoADwARAA8ABgACAAIA/P/4//j/BAD8//r/KQC2/8T+uP1E/Zz9Nv4x/rP+jf7k/eL99v1D/pL+y/7J/ov+Mf6F/v3+XP9R/1H/Sv/d/wQAkf+r//7/0P/2/y4APQBcAIUAMgCV/zL/D/+B/08ArwCMAEQAtv87/0r/FQDtAJYBXwHzAG0AKwARAIwASQFhAUcBqwB6AMUADgH1AH0ATwB6AMcAngCxAN8A3wCBAC4A0v/g/+b/r//B/x4AiADMAJAAbQC0AJ4APwC6/8r/gf+T/z8A9QCNATkBzgAyANn/EwB6AK0AbQCDAJsAdAApAMX/pP/S/6//5P+m/+D/tgDzAPUAQQDr/5z/ff9i/8z/CgAEAN3/XP/y/u7+rf8IAJX/P/9I/7j/PQBIAJAAqwA9AOT/uP8cAAIAFQA0ACkAx/9r/6v/w/+r/1z/ff/w/ur+O/+V/wgAHABr/0H/4P8aAIUAvACDAP7/yv/g/ycAXgADAd4BuwE1AZsAaQCt/33/ff/g/2kApAAoAVgBggGkAPz/IACZANcAvwCBACUAuP+D/0b/EwDfAFYBVAFlAR0BLgCX/2X/kf/d/1wAaQD4/0wAwQCFAMwAtADSAH8A0v90/8H/uAAkAQcBcgAgAOD/CABXAPwA7QDZAJcARABeACMAff+T/87/4v92AHoAhQDqAAABqwD8/wAAQQAyAPz/+P8pAEoAgQCBADsAAACr/0z/C/8I/0H/9f4r/jb+CP9XAOIA8wCMAHIAov+A/qz+sf6I/5n/qf+x/xgAMABcAJ4AaQAuAOL/r/9w/3T/0v85AKsA+AAJAcEATwANAJn/iP9E/6b/sf/K/0oAlwDbAJUAgQBKABUApP9G/3b/Zf+0/xgAPQDZ/9v/q//H/08AsQBBANL/bf/n/gL/Fv+p/xwAUwCx/0b/cv+Z/6//nv8aAAQAk/9G/0z/tP8eAG8AbwAGAHj/e//2/wIAtv9X/yX/hv85AI4AYgAAADv/AP8C/xz/6P9cAAYAeP9V/2D/dv/X/xUA6P/g/+j/FQCOAMwAwQAcAO//CAAAAAoA7/+IAO0AXgCc//7/NABBAFwAFQAPAOv/v/+8/w8A/v/D/5H/gf+//1EA3QAsAbwAHgC0/xoAiAC6AN0ApAA2AJX/l/8TAAMBTwEdAa0A7f+m/wIAXACtAHYAgwB4AD0A9v+0/woAuP9M/4z/MABGAJUACwHdAIMA4P+D/7b/7/9EAKkA0gA2ALH/9v/+/4j/Sv/d/1MArQCxAJcAJwDV/6n/x//K/5P/mf8PAIMAawAjAKv/Sv8C/z//If/f/tz+Ef+x/yUAJwDk/8X/jv8y/zv/Xv8CACMAw/8IAH0ASAAGABgA8//D/7//FQAgACkA+P/Q/7//nP/4/6QAIQFEAbYAOwCv/9T+sf4a/ysArQAHAYoAMgAPANn/1f+K/6L/3f8gAGkAvACFAA8A0P8lAJcAlQCKACcA9v8gAGIAEQDO/6b/4v8gAA8AJQD4//H/EwDk/6T/Kf8l/3b/4P+BAHoAEwBE/+7+jv9IANQAAwHfAKYAJQBGAHoACwEmAdcAfQDO/9L/GgAyAD0AUQCDAF4A0P9w/3//6//g/1X/+f5E/0wA4gD6ANQAYgDQ/zn/NP+R/wIAIAAKAFEAGABeAFoAGAAPADsAMACbAI4AJQAaACkA/P/g/xoAigDkACgB+ADdABwAXP/H/gb/HAD+AI8BeQEmATsAzv94/wYA+P/x/9f/AADv//P/fQC/AJAAdABMAAAAr/80/w3/LP9r/7z/RABrAGQAVwCx/wj/5/4s/wIATwDQ/9D/v/9e/+P+lv7w/kH/tP+X/5H/GgA0AEEAwf9w/0z/jP/S/6D/XP9I/yP/I/9X/z3/7/9iADYAk/+G/0//U/97/4H/wf8nAD8AigBnAA0A8f/x/8f/V/89/2D/vP8AAO3/DwANAMz/5P90ALQANADm//r/uv9a/yz/e/+p/2X/f/+0/+L/vP+4/+L/lf8W/0H/CAAjAK//eP8//1f/+v9rAJcArwC0AN0A0gAzASEBtAAuAGAAvwAqAR8BmQBvAEoAKwBpAPH/f/+2/7z/uv9g/zv/Zf/V/7j/0P9VAOL/uP9n/5H/iP9w/5n/+v9aAJMA5gCvAD8A7/8RAMEAzAA/AO//KQBEABEAWgBPAA0Azv+K/yf/BP9n/ycADwDB/3j/7/9kABgA5P/S/wAAnP9E/1H/wf8nAAoASgBRAFEAJwAPACsAWgBXAPz/8f+XAOIAJAFSAQkBpADBADkB7QC0AJcASABBAJMA3wDkANAAogBGAPP/CgB6AK8AlQDS/0b/Z//6/5kAHwFNAfoAr/8T/z3/nP9iAKYAmQBVALT/RP9e//H/awCIAA8AoP+X/7j/kf+B/57/3f/V/8z/AADg/wQAIAAwAOj/HgD4/+b/8/9cAIUAlwB/AOv/a/+U/sn+Fv+G/93/GAArAPH/dv9I/0j/TP9B/yf/dP+2/47/mf/H/6L/pv/B/0T/BP/1/qj+Ef9E/1r/dP+v/5n/5v8eABwAHgACAKn/Wv9P/6T/YAC4AN0ApABRAEwAegA/AIb/Hv/C/iP/IAC0AN8AEgHHAAYAjv8P/17/v/+i/57/tv8AAEwAZACiACQBlgFLAe3/Of/7/jL/af/Z/xUA9v8AAIgAogC8ALQAOwCX/zL/O/9y/17/nP9aAKIAgQBVAF4ALgD4/9f/6P/D/7T/vP/v/28AhQBBACkA/v+D/3j/qf+M/2n/af+8/93/PwBpAGAAXgBrAKAArQCiAIgAKwDz/xwAVQB4AHoAkAD8/6L/g//t/6sAvAC/AGkADQDd//z/3QAqAQUBrQA0AO//DQANAPr/ZABrAFEAfQA/ADAARgDHAK8APQDo/9v/7f+c/9v/VQA5ACAALgB9AI4AOwARAOD/5P+R/7T/2f/z/33/dP94/23/wf/6/2cALgDH/2X/P/8Y/17/cv+0//r/w/90/4z/wf9K/1f/ff+t//z/wf/X//P/AgBMAH8ARgDz/wgAeAByAOT/pP/M//z/CADg/+v/dv9l/5f/w//D//7/ZACIAPj/cP9t/2L/Z/8a/+X+6v5E/2n/lf/g/w8AiP9P/4r/AgAeAAAALgBVAIgAfwA/AEYAgwC8ADcBFgFpACsA1//Q/8z/DwBkAHoAYgA5AEEAFQDQ/4r/xf+6/6n/uP/V/xMAJwAlACsAEQDo//j/1f/D/+D/HAAuADAAHAAKAG0AlQByADIA/v/B/8H/IABvAKAApgBrAJUAkACOAHYAeABaAIwA2wD6ACgBQAFAAbYAVwB2AGcA+P94/6T/4v/o/0gAhQCIABoA5v/o/8X/jP9g/0b/V/9i/7H/wf/o/xUASABGANn/YP90/3T/T/+B/5z/sf8CAIUA+ADtAOQAlQAeAMf/xf/+/xUAFQBIAJcAtADBAHYAlQBVAFUAzv+6/23/lf9pAG8A0AAUAasA9v90/yP/Pf+V/33/nv9l/47/0P/v/4oApAArAIz/Bv/q/in/Df8y/4r/6P/B/1r/Kf9T/3j/uv+r/1P/V/9n/7//v/+x/7b/hv/5/r7++/5V/8H//v9cANL/Of8W/4r/rf/H/zsAIAC4/xH/Xv9w//j/BgDV/1r/Pf8j/zD/g//O/zQALgAIAOv/DwAPAMP/gf+B/4b/rf/Q/8H/NgBPAFwAJQAYAKIAqwDOAMwAogDDAOYAAAHqAPUAxQCgAJ4AigBiAKAAyQCTADAAq//i/1MABwFHASEBrQAGAND/6/8VAAAAOwB4AFEAVwC0ABkBxwAeAJX/gf/6/+T/DwB/AIwAMgAVAOD/NgCBAFEAJwAAAB4AJQAgABMA5v82AKYAkABcAEQAZAANANv/EQBpAGcAawBVAFwAKwAKABoAUwAgAJH/yv/i/6n/r/8AAB4AoP85/z3/e/+v//H/CAACAP7/zv9w/5H/6//V/5H/x//M/8H/e/+m/+T/zP/k/6//e/+8//P/0P+t/4j/wf8NACMAJQBiAPoA5gDFAKYAcgBeACUAQQAPAAQA9v8AANv/wf/H/8f/zP/i//P/dP8n/z//TP+8//H/6/8IABMA2/8NAPr/x/+T/57/4v8RACUA2//V/63/jv+V/4b/Z//M/0QASgA/APj/0v+e/7z/oP/i/9v/CACQAG0ASAApAGsAGgAwABEAvP+r//H/dgA9AP7/4P/m//b/HACZ/1z/TP8W/xH/Uf+4/7//1//O/woASgAeAPP/uv+D/yX/YP+V/4P/6P/k/wAA0v/d/ykAawBPAGcAHgAEAEYAVQBnAIUAXgBgALEAEgFAAQcBzgBiABUANgBkAKIA7wCCAUABugCTAGAAlwBIAFEAAAD6/1UAZwCvAMEA8QDoAMkAjgCvAKkAoACDAHIAGgBMALwAtgC2AJMAeADx/3//gf/D/8P/oP+v/4j/Vf85/17/oP/r/5z/g//B/9D/yv/k//H/tv/v/+b/r/+O/5X/dv9E/0H/dv97/87/pv/+/+j/XP/A/pD+Av9i/9n/6/8KAB4ADwACAK//nv8RANn/uP+6/+b/FQDS/0wApACeAC4A1f9l/1r/nv/m/xMAbf8//zD/XP9r/2f/0v/4/8r/Yv9I/33/AADx/1z/N//c/rn+Av+O/8X/xf/Q/8X/kf+c/8X/rf9//y7/RP9p/3//rf8aAKIApgBXACMAdADxAP4AiADt/z0AawAEAMH/jP/i/zsAjAAVAHb/T/9l/5f/tP8PABgAPQBTAGIAeAAKAAgAigCiAGIAZwB0ACcAJQAaADQAQQDr/9D/FQA2AFUAEwBvAGIATwATAMH/WgCgAJ4ABgD4/7//3f8/AIgA6ADMAIgATwD2/57/MABkAEgAwf/m/1wAXACFAMcA/ACgADsA7f8gAAgABgA2AEEAcgBGAHQANgC2/+L/FQACABwA8f8EAEYAIABXAHQAqwCiAIwAJwAKAFoAogCZAFwAIwANADkABAAPAD8AJQDD/wQA4v/t/+//1/9EAFwAMgA2AOj/eP8n/0z/2f9vALoAVwBpAGcASADi/6T/bf9w/7j/1f+//5f/ov+T/7z/4P/X//P/7f9l/2D/ff9P//f+Rv/i/w0AEwD+/7r/q/+Z/3L/jP9T/w//Hv+Z/w0ALgA9AL//AgAIAO//4v+m/4z/ov/Q/+b/TAC4AEkBGQFrAPr/2f/B/5X/nP8KAE8A4v/g/0EA1wC4AEQA3f90/yX/Of99/9L/DQDO/ycAPwA0AOb/DwA0APj/GADm/9D/nP8CAFUASABIAAoAIADV/5n/gf/D/wIAxf9//47/tv/X/0gAFQDS/7T/2f8KADAADQDx//b/9v8PAFEAZABRAA8ADQAYALb/ff+R/yMARACBAKQALgDi/7T/4P8NAH0A8QDxAMkASgBGAPr/yv/t/xEABAArAEYAVwByAFMAQQD2/xgAfQCpAH8ATAA7AJUAzgDmAIwA9v/Z/ycAdgCBAFwAEwDk/9L/aQDZAJUAVQCc/xz/Jf9r/57/5P/i/9L/AADk//r/6/9VAEYA0v+0/xEAKwAEAD8AaQAgALj/lf8NAHIAbQAyABwA+v+t/2v//f4I/6v/GABIAFUA8f+g/3v/gf99/3v/bf/o/zYAoABIANf/rf+I/7H/5v/8/7r/tv+8//P/k/9g/7b/0P8CALj/e/9g/6b/AgAcAPH/gf8s/+7+Lv9a/6D/ff+p//z/DwDS/1H/pP8TABUA6//b//P/FQDv//b/HAAPADQAfwDdAMMAdAD2/8r/zv/v/xgAEQAIANv/+P/k/wAA7f/z/6T/w//v/x4A7f/4/ykAYACMANIAAwG8AF4AYgCBAHYAUQDk/9X/f/+k/7j/4P8AAP7//P/8/8r/a/9w/4z/3f8aAHQAAACe/3//uP8pAIMAlwCkAK0ASAAYAC4AMgDS/63/0v8GADAAVwAyAC4AZwBcAAgAv/+x/63/yv/g/5z/rf/2/1EAVQBkAEwAawBrAD0ASgAeAPH/zv8jAJUAfQBgAHQAjgCKALQAXgAaANv/7f85AAQA/P/+/0QARABnAHgAgwCIADQAJQAeADQAv//m/3gAtADoAAsBAAGKABMAxf/F/57/SgC8ANIAugCiAC4A9v/b/7T/wf/M/wAAyv/S//z/LgBBADQAJwAPAKL/Xv/O/+//tv8P/yP/NP9g/5f/2f+r/w//+f4R/0z/O/9c/zT/If8T/6T/8f/Z/4r/U/9T/xH/Mv92/6L/pP+8/7b/wf+g/3D/a/+//+L/SAB6AHgAXAAcAO//0P/o/8z/uv/b/wgA+v8wAGQANgAPAAIAeADHAJ4AWgDg/7H/uv/B//z/XABKABMA9v8YAEYAYABTADIAsf+v/+T/DQDx/9n/3f/F/6b/5v85ADsA/v8EACsABADV/7b/zP+r/7T/EwBnAHoAXAApADAA+P+8/xUApgC4AHQAXgAnALr/1f/z/wgASABGAO//uP/m/w8ATABMAAoA9v/2/+//GAB9AGcAYgCbAKQAgQBBABgA7f8VABoA5P+8/6n/2/94/0b/oP+//yUAQQACANv/gf9M/2L/e//K/9f/6P/z/1EAkwCtAHoAWgAuAMf/DQCFAHIAPwAYADYAXgCQAKAAfQBTAHIAlQDFAKIABgCg/6L/EQCIAHYAJQDB/6T/e//H/xEAHACk/z3/Qf+B/5n/0v82AE8AfQArAPz//P/4/+//9v/K/57/DwBVAKkARAA0AC4A/P8PAP7/KQAnAAIAJQA5ABgA7//2/w0AeABnALEAugCeAK8ATAA5ANn/2/+r/6b/ov/d/xUABAD+/7H/pv+Z/5f/V/9c/zv/P/9g/zf/jP+6/7b/qf+K/7r/zP/Q/6v/Vf9r/57/r/9w/3b/iP/x/yAAJwD8/5X/kf+G/7H/6/8PAAQAJwBaAJAAogBpAO3/w//O/+j/JQA9ACUA7f8CAJMA1ADBAK8AVwA/AD8AhQCKAKkArwC8AM4AlwDSAO0AegCg/3D/lf8rAIUAqQCBAGsAgQBIABoA3f/Z//r/7f8CAOb/2/8uADQAxf/g/+b/6//g/wQAGAAPACMAXABMACAADQDb//z/9v9IAA8Atv9B/0T/rf+i/3//ff/M/9D/3f+4/5z/l/+v/wQAaQCeAIUAjAB4AHgASgAuAB4Axf+4/ycACgAcAEYAbQB0AEEA3f8TAH0AZAAKAKL//P/+/7j/Zf9l/0j/SP99/0j/Av/1/hb/YP+G/3j/P/80/0T/Zf+m/7//pv92/4H/8f9tAGAAOQD4/+D/tP9a/3j/sf/x/ycATwA9AD0AFQDm/8f/7/8TAP7/6P/i/5n/g/9G/2X/nv/i/9L/jv/Q/9n/6P/g//b/2f/b/x4AMAAcAOL/6/8TACAAXgARAO3/4v+p/4r/af+M/3D/l//4/xgAIwCr/wgAfwCrACkAzv+i/47/uP/o/+T/4v+e/87/DwAAABMA9v/k/wQAKQAjACMA3f8AAGkAigA/AGQAxwAOAQsB3QD4AOYAhQAYAOD/CAA5AH0AkwCMAG8AGADb/xUATAAgAA0ADQAwAKQAxQDUAAUBCQHfAJsAgwCTAK0AegBBAAYAAgBiAOYA7wCgAHoAawBaAFcAIwDD/8P/1/8cACAA+v9X/w//Vf8gAJ4AsQCIAGcAegAcADkAOQANAHD/SP+r/wgAVQBKAA8A8/8yAKsAVwCk/w3/Kf9R/6T/tP/V/9X/q//t/1UAiABBALr/P/85/zD/Z/+e/wgAbQArAEEASAA9APz/zP/6/6n/DwAwAG0AJQBnAKsAjABvACUAqQCOAHIAGACB/1P/lf9RAL8AKgE1AasAIAANAND/dv9//6n/iv+B/57/7/8nAOj/jv94/2L/LP8l/1f/wf+Z/33/uP+X/7j/iv+i/6//cP9l/z//8P4R/0b/jP+T/2L/Zf+//+L/tv/b/8X/5v+k/33/jv9//2f/mf+6/7//rf+i//P/9v8NANX/tP8RABgAMAD2/5H/MP8w/8r/AABTADAA8f8cAEYAfQCOAGIA6//V/zIAiACiAJ4AdgAYAMr/6/96APMA+AA2ANf//v8/AIoAUQAYAJX/k//4/6YA0gBtAC4ANgA5AJcAqQBiAEQAQQA5AFMAcgB2AKIAegCKAE8APwArAEgAcgCkAKAAcgCIAKYApgBRAFEAdgCOAHgAgQBkAH8AdgAyAPz/0P/K/3//sf/+/w8A2f+R/6v/uv80AAoACgDv/xMAAgDO/63/zv/o//z/OwAyAO//pv9K/2L/mf/B/6b/Zf8E/wT/+/5I/5P/ov/V/6b/jv9l/5f/kf9M/xb/XP9///z/OwDb/7H/4P8pAPP/+P+8/4H/nv+x/wQAEQAYAPP/x//B/wYAEwAlAAQA8f/g/6L/nP+O/23/nv+r/33/jv/Q/9L/sf/O/5P/bf+v/3//vP8VAFcAjAAIALb/sf/+/w0ADQC2/57/5v/8/xoAbwCiAF4AIABRAEgARABMAM7/BgDZ/8P/CgAIAOL/HgBeAGAAqwCXAGQALgAaABoAFQDv/3j/dP/Q/1MAtgB6AGkAJQC8/4j/0P8cAPr/6P/V/4P/Of9c//b/egC2AHYAGgAEAOv/3f8pABwA8f/Z/zAAvADHAIMAUQARAAoASABcAGAARgAuAIoArwCtAKAAqQDUAM4AiACpAAcBmQB6AGAArQDmAJMAvwBtAGcAKQAyADQABAANAPj//v/4//z/MACiADAALgA2ABwA0P/Z/woAKQAVADQAKQDr/9X/AABXAD8A4P9I/0H/jP/t/+L/tP94/2X/f//b/xMA7f+O/yH/g/+t/7b/q/+2/5z/iv/S/1oA7/9p/2n/jP/S/1X/af9//6b/2f8lAEwA5P+4/+b/VQBrABoA4P8AABMAFQAYADQANgACAB4ABgAeAAAAEwDb/9f/uP/O/0gAeABIAAAAGgDg/8X/gf+R/6v/yv/2/w8AfQA/APP/2f/m/8f/oP92/1P/Jf8c/yn/Of9I/2X/vP8CAMf/nv/x/87/mf/O/+b/1f+k/7j/9v8lADQA7f8EACsASAAeACkANgApALwArwCOAC4ADQBKAEwAFQAVACAA1//Z/+3/TwByAFUABADF/+b/EQA5ADAAVwBnAGIATAAYAOL/1f/d/2n/uP/4/x4A7f/t/+L/GABTACcA6P+p/+T//v9KACUAyv+6/87/IACOAMwAiAA/AGAAPwDM/6L/vP/6/zQAawCrAMkATAAPAA0AsQDbAMcASgDt/wAA6/85ALEAbQDv//7/FQAVABoAEwD4/5z/Z/94/5z/IwBTAJkAngCIABgAAAARAMr/wf/K/+T/kf/M/x4AhQCbAG0AjACOAGAACgCr/4r/AgBtAGsAMAAjADYA+v/+/yAAPwC/ANAAuABrACUAq//F/7//v/8YAEwAGgD8/87/ff/M//z/+P/S/0b/+/4s/2L/kf9t/1f/XP97/9f/PQB0ACsA0v+//7j/uP+6/8r/5P9XAK8AgwByAKL/dP/t/zAAVwBVAH8ANgBTAKYAxQDdAKkAdgAeAOD/6P+R/yP/V/+0//j/XAAVAJn/l/+V//z/9v+X/47/pP/v/zsAxQB9ACUAtv/k/ykAOQDb/7z/4P+6/5f/k//2/xwA7/+Z/47/a/8//xr/Jf+i/+j/k/+R/zv/e//D/wgA9v/D/93/Sv+m/8P/CAA9ADYAPQAgAP7/CgDQ/5z/tv+V/3b/SP9w/+D/6//6/9L/pv9y/4r/IACFAJ4AiABcAHYAiABtADQAHAAaAAYA6/82AH0AjAA7ALj/wf/X/2cAeAB6ABEA/P80ADsACgAlAN3/lf+k/zQAHgDm//r/8//o/9X/7/9K/1z/D/8j/4r/v//v//b/PQA7AEoAQQBcAIEApABRAO3/TACxAKYAhQCFAIgAmQBVAKsAqQBTANn/r//O/yAAWgAyAPH/pv/z/yAABgDO/7z/rf+M/87/JQAIAKT/tv/i/x4AIwD+/yUAIwDS/4j/Z/83/zD/Qf9n/5P/dP9l/2v/hv/g/yMAAAACACkA7/+i/5n/tv/6/wAA4P/x/+L/BgAgADkAdgBtADYADQDo/w0AJwAPAPP/FQBBAHoAqwDFALoAzAA5AA8AOQA2AGsAJQDo/8H/5v/r/7j/sf/K/+v/zP+m/4b/pv/V//r/DQB0AKsA2QC8AFEAXABnAEgADwAAABoAYgC2AJMAKQAYAAgAFQA2AJ4ARAC8/4r/3f90AJcArwCxAFwAKwDt/wIA6P8aAE8A5gAOAa0ATwA7AD0A2f+X/47/3f/V/9f/KwBIANn/sf+c/5H/x/+x/9D/nv94/0H/eP+X/9X/SAB/AEEAw/9g/3j/Ef/S/vn+Uf90AMkAkACgADQAzP/6/yMAPwDo/+3/5v89ACUAPQCiANQAqwCeAMkAtgA7ANf/GABTAG8AegDDALoA0gCxACsA5P+O/x7/CP9n/4r/7f8pAEgABADx/20AfQBeAM7/1f8VANX/tv8uAH8ASgBKAGAAQQAaAKn/4P8jAEQABAC2/4b/dP+r/6v/8/+v/8z/v/+p/5n/g/+6/1r/AP8s/6//zP+V/3D/Mv8N/9z+7v5a/7//2//k/8X/iv8w/83+Rv/i/0QA0P/x/yAA7/+V/7H/sf+X/4P/af8aABoAUQBIAGAAPwCBAKsA0gALAaIAuACIABMA0P/K/zkAlwBnAFwAWgCBACsAEwA9APr/uv/z//j/BgBaAAYA9v+K/7T/XADBALgAjgB6ADQARgATAA0AHAB6ALQA0gCIACcA6/8GAKAAiADFAH8APwAaAK//6P9XACsA3f/H/+//SAAlANf/7f8uAMP/Uf8L/0T/zP/F//H/v//F/+3/EwDv/wIARgDb/17/TP+i/7T/0v+m/1P/HP+N/lL+lv7a/g3/E/85/zn/Vf85/xj/3P6q/qP+7P4j/5D+df63/lH/jv+e/2D/Xv80//n+Ef+V/+v/mf/Q/wIASABaAFoAGgAuAE8AHgC4/4b/dP+8/z8AcgAuACsA9v+6/wYAZABiACMAMAB2AK0A/gBJASEBqQBiAFEAtgDUAJkAtAAOAdIAdgBRADsAuAAbAUIBLAGVAFMAGgBvALgA7wAAAeIAegBKAHIAYAC8AMcAQAF1AUsB7QCvAO8AtgBcAF4AjgCTAIoAawBRAK0AzgC/AKQAPwDk/7H/jv+g/4z/tP/M/+j/IwBGAGQAIwDH/8X/x/9l/zD/RP8TAM4A0ACFAF4ATwBPALYAEAHHAK0AeABMAF4AjgCtANsA5ADQALwArQB6AEEAPQAPANX/2/9cAIgArwBvAFMACACk/47/hv+e/7z/qf/k/2AAyQC/ALEAdgAyAAIAEwBRAHQADwA/AIwA8QDvAIUAAgDS/+T/r/8pAB4A6/+0/9n/8/8wADQAKwAPAA8A4P+6/8z/+v8KAAYAEwAuAPj/x/99/5X/qf8h/z//Av87/4j/pv+B/1P//f7c/iz/P/89/yX/gf97/5f/Zf90/47/pP/m//r/xf9e/0j/HP+g/zQAGgDt/5X/V/+X//H/AgATACAAtP+I/6n/AgBBADAAOwDb/zD/zf7u/pX/CAAlABEAvP9T/wT/8v7n/r7+rv63/kj/lf83/x7/Ef/y/gD/y/73/iP/Yv/S/93/4P94/3j/AgBMAKQA5gCgAEwAJQAAAA0A5v+0/0T/iv9eAG0AkABaABgAdv87/1H/lf8NABoAMAD4/5P/YP+R/7H/xf+p/23/l/9w/2D/MP8j/wT/Uf9K/xr/Wv9P//v+LP90/9v/HgAaAAIAg/+K/8X/CgBTAH8AeAByABgA1//d/xoABgAwAPj/uP+6/ykAXgBcAFMAAgDQ/yAAegCXAH0AMADH/8r/SABaAMEAjABaAEoADwDo/9D/BAApABoAAgD8/7z/w//S/1EAlQA0ACUAgwC0ALgA0gByAIoAkAC0AOIAHwEZAeIA1ABpACAAAgAuAEgAZACkALgAlwBkAGQATABaAGIA0gA1ASgB6gDFANIAzgBkABwA+P/+/wIAUwBaAJUArwBrAG8A+v/F/47/yv+t/4z/+P8wAEoANgBTAH0AkwCVAL8AiABcAPb/qf+K/7r/6/89AGkAUwAuAOv/dgC0AMUAPQDo//r/DwAAAD0ApgD+AEABLAHdALEAkwBkABwABAD+/z8A7wAoAfgApABGAMX/e/+Z/0QACgCv/wQAbQBPAD8AigC0AHQATwA9ADQAEwAPAJAAkABTACAANAApAMf/jP+t/8H/wf/Z//H/wf94/xj/Vf/t/+D/lf+0/2L/Lv9R/5H/r/+X/3D/gf9K/wL/Av9c/3D/BP80/0H/af94/1z/jP+I/0r/J//5/hz/ov/i/yUACgC4/9X/r//z/+j/CAA7AOL/v/9E/3L/cP+t/9n/OwBkAHIAegA7AFMAEQAKAOv/CABtAG8ASgDt/xoA1/8EADYAHADV/5f/2f8RANf/iv9e/z3/bf+r//j/EQD2/6L/Rv8A/yP/kf+M/3L/Wv+g//b/DQD4/9D/3f+//7T/8/9cAE8ACACT/2n/Xv9E/5P/DQBMAEEAOwDr/+D/vP+v/7z/4P8jAEEAMAANABUACgAGANv/GgANAPP/6/+t/6T/qf+8/5z/ff/S/5H/jv/9/ov+lv7c/lz/jv/r/8z/Zf8l/y7/nP/X/5n/uP/B/3//Qf+D/ykATAA/ANn/KQB9AFMAPwB6AMEAngC6AMEAFgEhAU0B4gCOAA0ANgDdAFoBTwGXAIUAKwD6/wYADwAAAPb/RgA7AA8ABABGAEgAQQD8/yMAdACFAGsARgBRAEEAPQAgAJUAgwAnABMAHgBEABUAKwCgANsA+gDiAP4ABQHdAJMAcgBPAB4ARACDAAsBZQFlATUB0ABpAGIAZAAuABgAk//D/6L/4P9cAFUARgD4/9f/ov/B/3b/Lv/9/u7+Ef+G/x4ASABGAD8AGADZ/5H/MP9I/4b/xf8RAG0AaQBrAFcAcgCOAK0AYAA0AE8A/v85ADAAXgB4AMwA2wByADQAOwAcACUA3f+D/2v/ov8YAIwACQHHAFUAAgD4/3//Yv9e/5n/CgBvALoAqQBcAEoAfwBvADsAJQDV/8f/5v9/AM4A5ACtAIEAUwAeAA8Axf/M/xEAPQDm/+L/0P8cAPz/AAAnAFEASgACAPr/PwBVAO3/v//o/z0AJwAIAAQA4P+c/4H/oP/d/wQAHgDd/4P/l/8KACkANABPACAA+v82AK8AgwBXAAQA4P+p//j/CADd/9D/iv+m/4P/4v9cALgA0ABtAFcAHAD+/+D/zv8YAA0A2//6/4UAFQCT/yz/Of9X/4z/+P/6/9v/Pf/5/gL/6v6q/nz+7v5t/5X/zP+Z/3L/Pf9y/4P/mf+Z/8P/3f/g/8f/iP9c/yn/If9n/9X/4v/b/2L/5f6j/rf+Jf+i/wQABgCv/1z/Sv9r/7H/5v8rADkAAgDz//H/3f97/wv/LP9P/2X/e/+4/yUAFQDX/2f/LP8A/xH/af+k/+//9v/X/wgAHgA5AEwA8f+4/5n/tv+c/7H/5P/x/xgAyv/x/wIAIABBABMAw//V/yAAigCOALQApgBkADkAZAASARsBFgGIAAoAyv/8/yUAigC/ALEAsQB0ACAAPwANABwAUwB2AD8A7f/2/y4AWgBnABMAJQAlAA8AdACbAIEAPwArAA8A6//v/8P/+v/t/7//kf+Z//P/OwBVAD8ABAACAE8AhQBXAEQAHAAGAEQAMACFAMcA3QBtAIj/D/8R/1z/gf+6/z8ASgAGAPH/+P/g/9X//v97/zL/8P7C/vv+P/9w/23/dP9I/4z/pP+8/4b/Pf8I/7f+5f5B/+D/WgBXADQATwBpADAAGACZAH8AqwBpAJcAwwC4ALwAxwD8APUAlwBtAK8AqwCtAKsA6ADfAAsBWAFzAZwBgAEqAegAoABiAEgApgDoABQBRAGCAS4BgQCTAP4A8wASAWkAOQBGAFMAkAC0AMUAbQDb/2L/Vf9y//z/GAA5ACsA2/+i/5z/zv/X/1wAPwCr/xj/pP8RABoA7/8pAC4AzP9//5z/EwArABUArf83/z3/g/+2/3j/w/+X/6D/rf+K/63/uv9t/9r+1v7s/lP/k/+M/0//TP8//8/+HP+K/xMAkADFAGsA4v/6/0YAQQAnAEgAfwCvACUA+v8uAFEARgC6/8r//P+2/3//4P9rAKYAlwAEAOL/oP9G/1P/oP+//8P/x//k/wYA3f+i/3v/k/+V/9D/VQCVAB4A5v/B/ycALgAcACUASACkAHYACADH/+T/+P/6/xoAUQBvAI4ATAAaAHYAaQDo/93/MABnAB4A0P+e/47/xf+p/+j/4v+x/3j/f/+V/zL//f7J/uH+NP+I/+//4v+G/+r+8v4y/5P/5P+t/1z/Pf/5/vv+mf+i/3//O/8n/2v/a//d/6//pv/D/3b/e/99/63//P9gAGkAegBaAG0AxwCtAGkA8//k/z8AegBaAEYAMgDx/+D/6P8KACUA2//r/+3/nP9c/3b/EwBPACcAUQAyAEgA+P+6/5P/lf/z/zQAGgAeAGIAZwB6AHIA7f/i/0QAuAB0AJUAgQBXAF4AWgBkALQA1ACDAKYAEAEJAXgAUQA7ACcA5v/k//H/WgCBAH8ALgCM/z//Ef+T/7T/WgAAAFf/wP7L/tv/EwDz/9f/2/+6/4H/YP8IAFUAxf8T//L+T/+M/yAARgAjAIH/U/+i/9n/QQCQAKQAVwC0/5f/pv8PAF4AuAAHAfgAmwA9AB4AMgBeAEwAhQCiADQACAAlAHQA2QDkAD0A4P+K/0//gf/X/z8APwBgAHgAbQCTAPMA+gCXAG8AwwALAUcBBQEDAQkB7wDmANsA0gCMABgADwDo/+j/GAA5AEQA+v8aAHgAigAjAOD/sf/i/xUA8f/g/woAdACtALQAPwD+/9n/l/+M/7H/7/8YACUAr/83/zT/RP8c/3b/5P9/AFEA1//M/9X/KQC6/5f/6P80AAYAl/8RAEgAGgDK/2L/MP+B/x4AGgDS/93/Yv9e/5n/1//S/6v/qf9y/9v/LgAAAPH/2/+c/4z/hv9T/0j/T/8//wv/If9l/5X/wf/Q/woA1//i/+D/kf9M/3D/9v8nACcAKwARAOT/GgBaAC4AMABnAHgAXgBPAIMARgBVAFEAIwAyABoAOQBnAIUAiADMAMkA3QDSAGsAEQD6/xEAZACtAKQAPQD+/wgADQBaAF4AUwDZ/2n/V/9c/2f/g//X/yUAJwD8/yAAPwByAEQAyv8aANX/4P8AAMH/dAArABEA9v8jACkAXACgAG8AIAC0/6n/iv+K//z/VwAlADQAdADHAHYAxf9c/0j/U/+K/xEAJwDZ/2v/SP+D/1X/RP/9/gT/3P7J/kb/ov/4/33/9f4R/1z/zP/x/0EAHADK/9f/JQB4AGsALgDo/6D/CACkAAcBqwBvAB4Agf+R//P/kwB6ABMAl/9I/7b/6P8pABgAegDdALoAQQAlACkAzP/D/6//zv9/ABkBVAEoAVMA/v+R/4P/oP9i/2L/eP+x/6D/uP+c/6T/YP+M/6D/tP9w/+f+x/7P/tj+I/+2/zQA5AAJAZUA7/9//3j/qf9//3L/8/+KAOgAtAC6ANQA0gBTAAAAKQA5AB4A/P89AIwAsQDqAPoA1AByACkAOQD8/7z/5v/+/x4AcgD4AFgBegDz/xgAUwC0AKAAdAAVANL//P8nAFwAgQBpAO3/JQBRAFwAlwB2AN3/cv9M/yz/Zf+I/6D/yv+t/4H/cv+p/1z/Of9l/7r/+v/B/3b/Zf+T/w0AIADo/8X/oP8AAJUAugB9ANn/Pf/j/or/jAA3AXcB2QBVAOb/2f/M//z/GgA0AEYACgBRAF4AEwANAD8AVQBnAKIAkABgAFcACgAeACkAHgDb/0T/Vf/g/zkAOwB/ADYADwCx/6T/P/9p//7/IwAYAOT/2f87AIEA+P+2/7j/lf9l/2L/hv/D/8f/lf+O/5H/jP90/0r/J/87/8P/6P8AAAAAAgACACcAwf/X/w0A7//Z/2X/lf9eABIBqwAeACcAXABtAPb/FQDb/0gAegBrAMkA9QC/ACUAaQCeALgAhQBIANn/7//z//7/4v/o/x4ALgAaAOL/tP+M/57/e/+I/7H/sf8EAAYASACVALgAmwA0AEoAx//m/y4AYAB9AHQAZwBTADQADQBPALEA7wDJADIAr/99/+v/VQBaACMAGABgAIoAEQDQ/+//Z/+h/mL+P/9PAJsAOwD6/6v/nv+t/3T/YP9e/+b/qf+r/8f/yv/x/8z/1f8jAG0AVQDv/wIACAAGAOT/uP8rAFcAdADk/8f/IAACANv/7/+TANAArwBtABwAiP8W/yP/a//B/0EAhQCTAB4A2f9n/w3/I//Y/uP+uf4y/1P/T/9n/8T+9P3//az+TP+M/1z/NP+1/qb+lv6W/sv+Hv9l/9X/OQBnAIwAMACG/yX/P/+r/z8A3wAHAegAjgBKAGIAkACkAHQAxwAFAR0B2QB9AEYARgDFAJMAlwD1AMEANAC6/7T/uv8TADAAcgDFAMwAiADB/63/8//g/yMAfQAfARkB+AA7ACMAjAC8AJ4AugAZAdsAZAD2/5z/nP/d/xMAgwAAAdkAtAByAC4AUwDH/+j/OQByAKkAugCOAB4Agf9c/4H/5P+X/3//ff+K/4H/mf9l/wv/7v7W/jL/q/8YAB4Af/8Y/+P+ov9TAEQAJQAAACUAPwBXAH8AIwC4/y7/Kf8lAP4AEwKEAcEAv//F/+T/7f9pAEgA6/9M/xEAjgCbADQAbf+i/ykAjgDHAFUA8/92/3L/LP9//wgAJwDV/8X/NACrAJ4A7/99/8r/NADdAOgAvACQAB4A4v8TAF4AzADbAFcAiP9y/9L/iv8N//f+LP/F/ycA+v/6/+3/RP8e/7//YgA5AB4AnP9c/7z/9v+TANQAaQBr/0r/wf/D/wAA3f8n//n+BP8E/xH/D//y/lz/BgBPAHoAIwCg/33/9f53/vL+w//v/xUASAANADL/Qf+M/6b/iv+4/5z/Ef/a/n//l/8wAJMBYAAY/7X+YQFaAR0BuABI/+f+Vf+OAKT8k/hl/Yb/lf/g/bv9Y/sp/Iz/uADj/iL+hv+e/+IAQAN4An3/LP+d/nL/5wE3A0UCQQBi/63/0gA6AuwCSwGZADcB4wGaAQ4B8f+c/xEA6gCuAWwBVgHIARkCBgK9AZEBrAG/ASgBjgAaAGsA5ADRAdUBrgFWAeIAsQC2AKYACgDv/xUAuAAQAU0BRAF0AD0AXACKAGEBngFJAboAXgBTAOIAQgFsAWwBNQHSAH8AFQArAFcAgQCxAEEAYAArAKAAEgHFAJAA0P+G/9P77vt6/qQAuQEe/8n+hf7Y/rH/TwAaAPj/XgCkAI8BLQJIAjMBGgC2AJEBggGCAY8B5ABaAIb/2f83AdUBxgGkAKb//P+8/7j/DQCt/3b/P/8I/6b/x/+I/1r/uf56/q7+Lv92/3L/8P77/kT/XP8y/8v+2v7y/hP/ov8IAL//pP85/2r+qv7o/zsA4v+T/7z/eADvAL8ANADb//b/igBvAL8AhQCp/zT/nP87AJsAKwCx/47/ov/B/8r/DwAgAEQAJwBRAHoAwwA/AO//DQAlAPb/wf+D/2v/f//S//r/pP+x/7//zv/i/47/pP+i/3j/jP94/5z/nP9y/9X/TABnAJUATwAeAK3/Yv8u/2n/MACMAIwAGACp/0T/Uf+0/ykAtv9a/yn/GP8l/yz/Jf/c/qr+5f4E/y7/XP9r/87/GgAlAAgAeACOAIgAcgB4AEoAQQCbAOoA4gCrAJkAEQCk/33/a//g//z/0v/g/7H/g/94/xUApgBtAAAAlf9E/17/+v87AMP/RP8h/5H/zv/o/ycA7f8c/7z+Rv8eAGIAKwDF/6v/jP9MAAcBLAHbAEYAdADBAPwAogBKAB4APQB2AMcAHwHZABEAg//s/sf+t/49/1H/RP83/yf/mf/i/ykAOwAcAJX/5f7c/g3/qf+//7T/v/+4/87/9v+8/5f/8f/k//H/IAARAAgAvP/V/wIAXACTAIwAugCOALoA2QAkAQkB0ABgAMr/g/9i/17/O/9w/3v/DQA/AND/E/9z/i3+6/0t/p/+C//S/qP+Yv5U/r7+9f5X/33/hv9I/1H/Pf8j/wT/I/9g/23/ff9I/0//V/9X/1f/tP+B/63/0P/r/+3/IAA9AEgAJQAAAHYAzAAhAdsA1wCkAJMA2wCLAY8BoQEdAXIARACIAAkBAwEFAbYA5gDdACQBggHNAaEBLgFEALb/HACtABIBxwCVAIUAjADJANkA4gDxAIUA8//o/2cALgExAcEAsQB/AFEAlQD+AJkAaQBrAJAAVwBaAH0AjABeAD8AUwBvAD8AIAAKAMf/q/+Z/1z/Zf+m//P/NgAjAFoA2f+i/xEAmQC/ALEAjgBaAEgABABKAF4AGgAVAGAAkwBIAOb/+v9MADYA/v/v/xoA+P8TAPP/IADg/2D/eP+k/7H/Zf99/57/r//r/+L/jP8n/wT/dP92/zn/U//7/iP/Av/E/qz+y/5K/1H/Rv/U/vX+z/5P/8H/CAARAAAAMADz/7//T/+G/+L/EQAnAI4AogApAJn/XP8c/0r/w//t/0wAfwApANf/WgB0AMUAgQD4/9X/PQBTADIARAA0AB4A+P8CANX/QQDr/4z/eP+e/6v/YP9V/6n/uP+4/3v/dv9y/2n/Sv+X/9n/ZABTAOb/hv9n/7//5v9EACkA0v/F/7T/nP/Q/+3/8f/k/6//uP8AAAIA5v/+/+L/uP+k/6n/a/9a/yH/Rv9g/zL/P/9r/wL/+/6B/5z/xf8Y/x7/NP+B/9n/7f9IAEwASgD8/wYApgDbAH0AHgDK/8f/8f+ZAPwAAAGtAI4AKwAyAKIAjgBPANn/pP9y/7T/YgCtABkB0gB4AGsAzAAmAbIBEwLgATMBtAByAF4AwQAzAcgB1QHGAXAB0ABBAGIApAB6AG8AogB9ACMAfwAAAX4BbAELAT4BYQFPAdcAngCgAMcA5gBJAY0BSQEoAZkAgQDSAGwBkQEqAUQA8/90AJ4ARwFlAcwAugCQAAMBQAFYASEBdgA2ABoARACFAHoA5ABrAOb/bf+c/+b/vP/S/+//kAB4AG0ABgBVADQAOwCKAIgAVwArAEwAHgA/ADQAHgDo/6n/kf/i//7/1/+V/4j/pP9M//X+rP5o/qb+9/6X/zn/3P6h/pj+xP6j/oD+ev7q/iH/O/+B/3b/Hv/H/s3++/73/hj/D/8//0b/Jf8n/77+mP6S/p3+Gv9p/47/V//y/tr+P/9w/2L/Of9g//j/XgBGALT/Sv9K/6n/6//k/+T/mf+v/wAAaQA2AMr/SP/w/jn/f//8/+j/yv+B/5X/qf90/4b/tv9//zn/GP/n/sT+0v5V/8r/JQDd/4r/8P53/pv++/5P//v+Df+B/w8A+P/2/9X/q/+B/4P/nP/K/9n/Rv8E/8v+lP6m/vf+iv+t/1P/2v7c/lP/0v9BACUAf/8y/yX/U/9y//H/FQDr/87/7/9yAHYAigAKAKb/Qf8p/2D/0P8GAOT/MgBRAGcAdACVAOb/Of9E/8r/SAApAGAAogBeAA8ABgArAJkA3wDxABIBhQD8/4H/x/8gAHQAogDQADUB7QA7AO//DwAPAHQAAwHSAGkA5v+K/+j/WgDMANkA1wA/AKn/uP+c/63/EwB6AGcAIwBcAGAAWgAuAIUAugCmAFcALgB/AGsAUQBtAKsAyQDdADUBXwEQAXIAuP/S/0YApgCpAJcApgA7AFcAeADXAB0BUgFPAf4A1wCTAAoA2/8jAPoAdQGWAakBSwHJAEwA7//d/87/ov+p/wYAIwDo//P/kf/d/0oAZABGACkAPQCp/1X/hv9pAMMAvACgAEwAEQDO/7j/7f9rAJAAgwBkABMA9v8NAGAAugAJAa8A1//Z//b/UQC8APwAxQDJAG8AJQBkAAMBMwExAZYB0wGTAakBwwCrAPMA4gC9ARAB1ABVAMMAqwBpAMUA7wAdAW4BngFEAaAAuAB4APMA5gAAAdIAlQBKAHQAigBEAJX/g/8GAAoAjgA/AEQALgAYAMr/IwBXAAAApP/O/8X/8f8/AD0ALgD+/6n/U//W/qb+2P5t/9n/zP99/zn/7v4N/57/JQBGAFP/y/4R/3T/2f/+/4H/Fv/3/g3/Gv/S/sD+i/71/mn/ff9l/0b/dv8n/zT/pv+i/8r/rf8w/+7+4/5P/57/4v/x/8f/cP8a/yf/gf/x/wQAZ/8N/+X+Df8W/xj/jP/X/wAA+v8AAOv/tv8P/8/+Gv+m/z0ABQG6ACkAiv/f/iH/f/+x/87/BgDV/4z/If87/3//+P8nAMwAjgAjAPj/NAArAPL+O/9n/wAATwAkAUAByv/H/on+wv7n/tX/KQBX/w3/rv73/uX+l/8pABgAtP/O/S38Ff5i/9EBhwL1AGr+t/sI/I784P1rAJMBFwJaALz/lP7t/aP9p/2d/kj/fwDoABkB1f/s/uX+lf9RALQASQGXAO3/I//j/nT/HABEAeMBcwH4/+7+s/5B/2kAWAF7AYgAVf/h/pP/RAC8ACQB/AA0AA8APwAgAPH/BABBAKT/GgDBAAMBAAG6AKQAtgDtAAMBAwEFAQsBUgFuAfUA0gAbAYABqQGnAcgBYQHvALEABwHHAI4AjgCZANIA0ADXAO8AuAC8AEkBcwEOAeYAbQAwABgA7f8TAB4AAgDV/xoAWgBTAJkAZADS/zL/Bv8I/0j/2/9RANkApgB9APH/uP8jAPj/+P8EAHgAwQB6AHIAoACvAIoAYABvAF4ASgDZ/4r/lP7t/c/+kwBxAsAC3gHK/0f+3P1d/tL+w/+vADMBjQGJAVIByQBr/+396/0w/9sANAJFAmUBNgAl/+P+Lv8jAGEBowFiANL+K/4Z/hj/NAAdAbgAuv/n/ov+1P5g/zAA7QD4ALQAaQB9/6P+t/74/zUBTwEwAPn+DP4K/mT+Xv9GAM4ATwF9AP7/zf4k/vj92P7Z/1QB8gE8AUQA+/7W/sf+eP/t/1UApgC0AG0A1/9X/1H/YP/S/xoATAAlAK//2/9kACwBuQFzAboAiv9+/nf+Kf/V/5cA6ADOAJMABgC2/+f+I/9X/8z/gQA9AO3/l/9P/7j/HgAgAB4ARv+M/4H/pP/m/+v/PQCKAEkBewFAAR4Ag/9//xwA7wBCAeIAJwCR/2n/hv9B/7r/IABRAKsAHQHUAEYAzv9BAIUAZwAPAJz/Mv8A/2X/HgBaAO3/hv8c/wb/wP4R/5H/YP9t/0r/If+j/hL+VP6o/lH/V/8L//D+i/4m/k7+nf7j/uH++f5i/3v/4/61/uP+TP+//+b/DQA2APr/uP8AAEgAPQBvAL8AJgH4AK8AmwArANv/k/8nAMEA0ACrAEwAMABM/2D/dP/K//j/pv9l/1H/XP+D/9X/KQCZAHQAIADi/33/g/+D/7z/6/8gAJkAfwCbAJkAyv/X/4j/pv8TAEgAZADv/6T/0v/Z/6n/nP+///P/0P/z/2IAVQBIAGQAjgBkAFUAJQDz/zkAIACtALwA/gAOAcUAhQA0AHQATADo/3j/CP9B/6T/xf/m/woA/v8lAFwAlQCpAHQAAADB/7j/BgAAAAYAaQC0AN8A/AADASYB8QDkAEwABgA2ANcAdwGuAawBSQEoAR8BVAE3Ab8AIAAeAAIAeAA1AZwBrgEZAa8AqwCBAIUAOwAKAEwASAB/APoAcAGRAYAB/ACkAEwAaQDOAHYAgwB6AG8AWgCDABYBaAHDAIMA4P+M/4j/w/92ALQAcgAjAIEAdAArAPz/EQAEAMH/wf/v/9v/f/8l/1r//P/6/9n/v/9E/8D+0v7w/vn+C/8n/3//qf9B//f+t/6U/mb+m/4s/17/NP/f/sT+lP7a/tr+5/49/17/Zf9r/1f/HP8R/x7/P/+R/6D/g/+0/7b/YP8W/xP/Jf9M/5z/vP+0/3b/ff+K/0//Rv9X/wAAAADk/3b/+f6z/sf+O/+x/7//uv/F/xz/4/7L/i7/e/9//2L/V/9g/1X/Df8A/33/7f94AMkA1wBRALz/MP9M/7j/yv8eAOv/0v9G/4j/8//K/8z/w/+v/+L/IABTADYAKwA0ADkAWgCKAGAAYACiALgAvwDdAPgA1AB6AP7/BADr/5z/If9M/1P/tv+c/xoAaf+e/9X/Xv9RAH3/k/8G/5X/a/+2/xMA6P8rADAA4v9r/+z+C/+K/8f/IAAjAOb/q//8/2cAmQBKAFoASAB4AKAAvwBpAIUAkAC4AMUApADQANsAvwBpABMAHABvAN8ATQGwAb0BaAFzAQ4BHwG7AdwBFwLyAaUBYQFSASwBVgGeAbcB2gHTAZoBPAHfAGcAhQDXAP4AEAHmALwAQQAAAFcAJAFhAYABNQEQAckAkwBpABgA8/8wAMcA7QAhAfMAogA7ANX/1f/2/7T/Wv9G/z//T/9w/1r/lf8AAE8AUwBBAAAAYP/a/r7+Jf9p/1f/Zf/O/5n/Gv+5/hj/V/90/yX//f51/sv+xP4N/zIAKwD8/4P/eP8p/2D/Bv/a/rf+HP9//woAMAAVALH/cv9e/+L/AgCM/6L/uP9pAKsACwH8ALEA5gCKAIEAZwB0AH0A7QCeAFUAEQAVAD0AXgAIAEr/of6f/rP+x/5e/1P/iP9c/7z/4P8RAEQANABVAO3/cgBSAcIBGQJwAckAmQByAHQA7wAWAdQAXgBMAFwAKQAPAKQAx/9kAMz/aQCt/2oBRAD4AEUCFgEBAnIAMgAP/4z/gv45/zv/Z/99/5n/Hv+u/gv/GP9y/0T/Kf8aADIA1f/S//H/w/+m/8z/NgCVAEgAZABKAIr/pP/z/y4AjgDdAEYA/P8u/xH/vP/V/wAAGAAlAF4ASAA2AEQA3f/d/8P/8/8EAAgAEQA/ABUAKwDX/7H/yv90/6n/4v/Z/7j/RP9P/wj/zf7U/jD/J/8Y//v+s/79/vv+D/9e/6D/uP9p/2v/Sv85/3T/DQBXAGIAgQAeAFEAigA2ALr/g/+f/kz+Lf5H/nH+4f7S/pL+bf46/mb+X/5S/l/+tf7N/vn+3P7d/1z/9v87ABgAxf+i/4P/dv8PABwAogDBAMEAlQAOAQcB1wCTAJkAkwARAEYAtgCMAIgA/v8PAKb/HACDAL8AvAAyAHL/hv/O/4EA3QAhAdsAVQANAK3/awAgAHYAXgCtAAoAHP8Y/yf/pv8YAIgAegAaAHT/iv/D/5H/8f8uADsAVQCtAMkAaQBgAEwAgwDxAEQBVAFhAXsBPAH8AMwAtABaAIEA4gBHAXcBaAF+ATUB1ABIAMUAzABMACcASADB/+v/SABnAO8AgQCrAIgAvwBpAOj/5v/t/3T/dP9BAH8AmwAeACkAWgA5ACcA6P8EAOv/aQCiALwAGQEkAXMBngGRAfgAVQDv/8P/1/9BAOQATwGJAWUBBQG/AGIANgAVANL/uv/d/0oAYABpAJUAwQAhATUB/ACiAD8Awf/K/+D/CAB9ALQAqwAuAM7/l/99/zL/P/+T/9v/q/97/zn/BP8x/lv+9f5R/3v/gf+B/0j/nf4k/pP9d/2Y/j//CgD+/5z/av7i/bb9yP0d/vX+q//S/5H/Uf++/r7+5f4T/3//5P/O/4z/ov9I/1f/Mv8//zT/RP+O/6b/iP9B/6//GgAwACcABAAyAEEASAAGAIb/hv9I/7//2//k//z/q/+T/0j/Zf+e/+v/EwA5AGAAUwAgAHD/f/97/2v/vP9aAOIAEAHiAIwAOwBtAG8AlwCiAGAAdgDZAKQAYgBVADYAjgCOAKYAgwCDABMABgA0AFoAGAD4/1oArwDSAIwArwB4ALEAjgB/AF4APwAlAA0ASgD4//z/YABVAHgAdAAuACUAXgBXADAARgArADAA7/+v/9v/8/8IAEYASgANAPH/7f+8/0b/Hv9G/3//0P8eAAIAAgDS/1cAOwAEAO//kf9P/0j/ff8pAI4AEwAeAGsAawBtAFUAXADBAH8AGAC2/6//ov/k/2QApgBcAPz/q/8a/7n+9/6k/9X/9v/+/0EAEQCe/1P/V/+K/5X/GgAYAPH/SgCX/5f/qf/6/1EA6P/z/2f/uv/g/1P/TAD8/zkApv97/wv/Lv9c/z3/Mv/s/iz/LP+r/7j/EQBp/+r+Ef8n/3D/Yv+m/8H/wf+e/9n/xf9p/0b/a/9a/yf/vv7E/v3+Gv+T//H/IAA2AFcA/P/6/2n/C/9P/3//hv+M/wIAHgDk/+D/6P8NAEEAOwBTABwAyv/B/+D/SACiAO8ATwFSAT4B5ADMAKIAhQCgANkAAwFAAVYBeQHGAY0BAwHDAKAAgQCtAOYAuQF+AScCEQL4AQMB7QBEAVgBLAGZAAkBYwGWAZ4BLQKnAV8B+gBAAT4BJgG4ANQA3wCbAM4ACwHzAJMAfwCMAGsAZwBvAMcAlQB6AHIAtgC4AEYAAAATACkAEQB9/3b/hv+v/w8A8f+k/yH//f5a/4z/iP/H/6//iv/M/3gAqQCDACAAuP92/z//5/6s/pH/x/+R/3T/bf9T/z//D/9e/6b/yv+g/6L/sf8//xb/I/8n/zn/O/9V/0//xP7E/v3+MP8a/zv/ov85/wb/Fv98/nf+fP7Y/mL/CAArAPH/Uf+e/2D/AP92/z//vP97/+f+Ef8Y/xb/ov8aADYABgCg/4z/MP8w/2L/Xv92/zn/Rv83/1f/xf/M/6b/XP8p/+P+P//6/6YAqQDV/1f/Uv54/yoBawC2/4gAVf86/l7/EwDB/0YAGQHd/2L/EQDb/zT/rP5gAEoAxwASBPL9bgHbANL/kf9g/54BBP83/zcBeAA4/sUAwQBT/1MA/v+rABgAMADiALz/GAAKACcASAC2AJz/zACBAP4AeAB2ALYAXgCKAPwA6ACeAG0A4v/MAPEAdgAUAYYBAwEOAdQAGQELAQ4BcAFSAZoB2gGaAbkByAEeAr0BiwGAAUQBbgE3AXMB0ACtANkAxwAfAUsBTQEOAZcATwB0AE8ApgCtAEIBEAESAdIAfQB2AKD/rf8EANv/6P/Z/w8AvP+4/5P/jP8W/wL/vP7C/jT/m/65/v3+zv/d//r/HgCv/6T/Rv/1/mD/Jf8p/4H/Z/+T/47/nv9e/yX/cP/b/+T/Xv8w/wj/zf7Y/kH/HgAfASAAegDk/+7+9f5b/vf+Lf7C/qP+Av8s/zn/s/6Y/rf+Zv5J/oX+mP6J/uH+Xv/B/9L/r//4/yUAqf8//zf/Fv/f/mL/+P87APH/dP+O/4j/AP/A/vf+2P6W/qb+uf6+/o3+pv5a/93/AgAR/z3/pv/7/lr/w/85AO//VQATABb/IADX/x4A8f9i/47/zv8yAJ4AXADZ/0QAwf/X/0QAqwB0ABMAeACiAKIAqwCDAC4AlwB2AD0ArwAlAG0AUwCkAH8AlQCtAMEA/gADAaYAoABiABUAJQDvAPwAZwDfAHIAlwC8/zYAZAC4AGIAqwC6AKIAjACrAGAAe/9i/+v/hQBpAAkBGQHZAKQArwC4AO0ABgBrAPUA/ABCAfEAdQEhAV8B1ADvAAQAKf8EAFcA3AE9AgMCBwFM/5z91/2T/aD/ygHsAnwCKwJgAL7+Hf5o/nP+GgChAYsB5wGNAcH/fP4I/jr+Rv+FAAgA9v+0/+7+lv75/jv/l/9GAM7/k/8h/4P/af/o//H//P+4/+r+x/6S/uX+NP+2/8P/eAANAET/V/7n/f39pv5//4UAuAAjAKn/+/54/0T/6/+G/9L+ff/5/vH/Z/9P/xr/Jf/H/jb+R/6f/uH+Hv8Y/8X/8f+//5P/dP+M/ycASgCZAMcAqwD8AB0BgAEfAUIBMwFSAUQBNwFwAV0BEAHqANQAlwCTAOIAHQG6AEgAeABcAEoArwDzADMBagFLAR0BxQAAAWAApgBPACcAIAC/AAsBCQHCAWwBFgGrADQA+P9KACAA+v9vAKIAXACrAF4A3wAZAeoAGQGxAIoAZADg/xwAQQB9ACQBMwHMAIoA3QALAVQBjABgAOoA5P+8AIUA7wCFAMkA0gDvAEoATwAeAGcADwCg/zIADQCeAO8APAHHALwAMADg/xUAHAACADYAtACQAMUAGwF+AQUBlwBRAAYAdADm//7/KwA/AAIA5v/2/0oAAACx/17/af97/wT/ff+X/93/gf8e/0//hv/4/+D/Xv8I/7H+MP+m/0H/wP6L/q7+4f77/rP+t/5x/i/+K/58/pL+KP6W/tz99P2//SL+fP5J/qP+of7L/g3/J/+x/wH+I/8T/xf+qv4F/rX+V/5K/4v+tf6+/q7+av7n/kr/cv90/wj/Qf/N/rf+KP5q/mj+b/7c/jn/jP8L/+X+5f4L/5n/Wv9t/4j/HP9i/pD+Rv9a/5f/uP8GAN3/2f+V/5X/Z/90/2n/EQDZ/0//Wv8n/4H/TADHAKQAmwBeALr/nP+B/9f/5v9yAIoA/v/MAG0AAgCG/8z/tf4p/+D/3f/1APwAwgFRABkBDwDQAGUBhgHYAWwBDALIAcoBKwLlAakBowEbAYYBngEiAoMC1gKkAikCWgEfAYUAawDUAOoAHQELAV0BKAEJAdQArwCTAHgArQBnAHYAhQDBAFQBbgGLATcBLAFJAWUBgAF7AfwAuACQAFoAYABPAE8AMgA5AP7/lf/K/xUAiv99/2X/lf+0/wAA6P/6/ycAuv/V//P/IAAAADAAFQDg/6T/nv/H/8r/AACt/3//ff+t/x4AUf+Z/zQAZf82ACkAOwA0/xb/Bv8e/7j/xwCiAH8AIADF/+v/iP+2/xr/Qf/O/wIAzv+R/6L/jP+g/3D/LP83/2X/LP/3/hP/Df89/4j/JwB6AE8AHADr/+T/g/9T/yf/q//4/0b/yv8GABgAnv9GABoAAgBIAH3/4P+R/9v/+P9EALQAEAFLAUQBwQBcAIoAlwArAAIAMgCvACoBQAEJASEBMQH8ADQAEwCi/9v/KwDDABkBVAGLAZYBmgF+AXUB4gCpAKQA3wDxAD4BWAEfAcUAkABpABUACgAjAAQAIwAuABgACAD2/wgANgBvAIUAGAD+/5n/1/9KAHQAJwDm//b/KwBRAAAAHgDQ/6b/Rv9P/zn/k/8GAO//tP94/1P/T/+R/woAKf/K/+j/v/+2AHYAawDm/+v/iv8h//n+6//o/z8ACAD+/9f/JQDS/+D/KQCMAAABYgBTABMAEQCO/3b/Z/+T/5z/v//V/8X/nP9a/yn/O/+x/6n/q/83/wT/uf7q/jn/RP+g/5H/Xv85/2L/Zf87/4j/wf+0/8r/tv/V//H/vP9t/63/jP9K/4r/eP8W/xz/CP/1/hz/O//w/hP/P/9e/6T/xf99//v+Lv9E/3b/xf+//1P/Zf8j/+r+3/4W/0b/Sv8h/zT/RP+s/oL+of6m/nz+pv7A/pD+Pf85/x7/J//n/pT+Yv5d/lv+lP6b/qr+6v5T/1f/Bv8e/wb/yf4I/3T/Zf92/5z/6//b/yAA/P99/2f/hv+4/6L/I/+8/sT+NP8Y/wD/RgBHATf/y/6MAHcB6/99AG8EuwP8A54BawC2/ygBGwHgAUgCPgEjAET/KQB2ALEAOwDMAJMARADi/8X/g/8R/5X/ff8AADkBvAI9AyoDAgPYAZoBJAF0ABsB9QK7BCUFzgVRBXUEMQRfBC0E/wM4BJQEJQWFBNYEsARZBMACmgElAIH/T/9B/vX+Yv9U/mb8ofu6+kH6ffoQ+xP8pPzk/A/9af2c/bH+Mv8e/zD/LgAoAc8BuAJtAm8CgQKJAnYCiQLqAqIC0AK4AokCqAK0ARQBmwAjAOD/dP9E/6n/uv+c/+T/jv/U/l3+Uv4x/uf9Rf5k/pv+mP65/iP/i/7h/oP/ZACiAJAAJwBIAAgAm/4s/1X/f//HAE8Aiv/F/yH/7f1P/WX90/1Q/tz+pv4D/sb9O/33/LP8Z/27/Uz+IPw3+936zfub/n8ApABvAP4AFAHC/qH7cPqY+XD7nPsw/w4BgQP+AsEAZf0B/o7/5v9wAcQBBAD3/hsB4v+VAAAB9AE2AsMAtgCVAO3/EgHq/jb+HP/Y/rH/7wCG/xH/dv8a/x/9vv59/+3/sf/zAAAB1/9v/oL+Vf+c//r/awAZAboAHwETAHUB2AEtAsICxAQbBJwDpwPxAvECxQIKBKoEFQXABPgDmgHoAOgAdQHnAXoCpAKCAdAAHAAeAJX/bf4i/pL+Mv8uAOv/ZwCx/xH/9f4G/zP++P+vAjYCvwF/AJP/Gv9MAIEAvQHjAVMArQDuAZwBlgErAnsBQgG6/5H/BQH5AssEsAQFBJICGwFXAET/8v5pAGUBmAF4Au4BhQA9/+D9r/xk/A/9sP2d/gP+d/1y/dT87Py7/Vj9AP20/Tn9qvyi/DD90/3x/9MBUAJEAf7/5f5q/rz/xQC1AvcCogInAu8ARwFoAeoApgBVAIj/zv80AIUAzv/6/f39wv5m/tT+N//l/rH+oP1I/BP8qvxC/UD9yP2j/jn/f/9g//D+OP6q/sv+Uv4E/w0ASgAlAHgAUwBa/1X/Qf+x/xUAov/E/uH+cgD1AH4BRQKEAeoAiv80/87/ZAAUAUABBQH2/7H/Vf90ADMBzACx/5/+yf6Y/vr9sP0S/vT9QP24/aP+CgAhAQsBuAA9//39Cv68/sn+yv9+AQgCqQN/A/0BVwI4AhIBbgGSAr0DNAVnBX4EBwTMA0AD1gKpAV8B3QA+AdcAEgFSAUsBFgHF/5X/BP/n/kX+pP8wAC4ABgAIAAIANgAZASUAiP+0/wD/dv8UAawBcwInAkABXgCT/0T/HwFDAikCxQI6As0CHgIpAqMBRgAYAMz/2QCPAd8AkwAu//L9Rv3f/MP9cv/+AEr/Iv5v/IT7Kfxb/K38N/3V/TP+OP67/af91/01/WP9O/1s/fj96v6V/6n/J/+S/vL+Rf5Z/uv/zgCLARsB7wBrAAgAbwA5/zv/9f7B/87/BgB7/8z/MAC2AB4Aqf/r/xb/J/+n/fL9tP3l/kz/VQBnAGAA4/56/lT+3P2N/gT/5/7S/sT+fv45/83+e/9a//D+Df+x/rn+xP40/30ACgBM/2X/GP9r/7r/0v+//z3/LP/d/9v/5P9VAD8AZwAGAEQAKQDM/7j//P/V/+3/MADqAKkBMgIqAcwAQQDmAEkBiwGLARcCUwKMAlUC/wHcAXABEAGXABQBMwGwAbkBCwGTAIwApgD6ALAB7wC8AN8AMgC2/woATAC/AC4BHwF5AT4BdAAwAGIARgCgAFoAKwDXACQBRwELAW8AjACTAH0ApgB4APEAOQHmAKUBcAEWARkCXQFqAS8CbgE/ACQBXwEzAR4CRQIXAvABdQGxAFoBBwGKAH8AcgCmAPgAcwEBAo4CEQLvANsAxf8L/0b/nv+r//H/eABTAFEAAgB4/4n+4/5X/x7/Qf+Z/57/tP8AAFUA3f+I//D+Fv/B/yMAuv+h/mT+Ov5B/qr+T/+c/1z/6/3i/YT9aP5o/hX+L/6T/5X/BP8a//f+7/9KAN8AIf+1/p3+gv7n/u3/gf+D/14ARAANAIj/Jf+j/qj+Wf7L/mv/gf9yADMBRwGiAPH/Av/k/UX+YP+4/0oAvwCVABUALgDk/z//jP/s/o3+Yv5q/iP/qf/2/23/Uf+8/0T/i/4G/4j/+P/+/x4AjABpAE8AMgAcAGkAZwCKAOIAfgFCAccA/gDfAK8ATAAKAPH/a/9e/5X/fwCVAAAAMgBkAGkAEQBBAIoAmQCFAHgAfQD4/2QA+P9a/7//DQByADQAUQBcADkAE/+x/j3/e/9pAGQAYgCQAPr/2/+Z/5H/JQBXAMUAzgCvAMMASgCBAKAA0gA3AdsAzAC4ABYBMwEsAUQBSwFvAPr/Lv+G/wAAAABnAKIAmQAaANL/sf/K/wIACgCv/6n/YP8Y/5H/jgDUAAMB5QGtAIz/Qf8a/4j/rQAhARQBPAG2/3L/AP8y/+j/aQARAG0A8f/g/8z/Rv9///n+gv5z/mn/eP8EAKL/sf6w/f39Uv4E//v+6v5V/wT/NP/y/kP+kP49/yH/N/99/9f/BAD1/sL+D/8u/z3/U/8s/yP/T/+R//L+YP+R/63/KQCX/4b/DQDBAP7/GgAeAFUARgA2AOD/pv+K/xj/CP9r/yAA/v+m/9n/cP/1/rz+yf4I/2f/e/9K/yP/pv53/hP/ov/S//z/XgB2ABUA+P8wAKQAHwF+ARIBaAGcAYYBmAG5AacBCALrARIBeQG0ARMCPQLpARUCnAH6AEQBIQG2AJ4AXgA9AMUAmQDFAAUB2wD4//v+o/47/7//YgCvAH0AAAA//5z/5P/O/7T/5P8AAAoARgBPAEEARgCOANsARAEeAhEC4wGyAeoAlQDdAL8B1QFYAWwBmgGEAU0B3QB4AE8AaQCpAEoA7f+D/zL/ff/b/ycAiABIAJz/kP7p/eL9A/6A/iz/6//O/+v/Z/8G/7P+sf4e/+r+GP9V/2f/Z/8GAF7/k/8NAIwAuAB0AEgAdv+p/+T/MgAcAKT/Lv/A/l3+Ff7P/pX/Z//s/iT+9v0O/lf+d/4L/2v/7//t/4b/cP/V/wQA0v9V/+X+1v5T/7H/6//V/5P/BP+1/vf+D/8c/5z/7f8eANn/YP92/3//TP9a/4b/+P8EAMH/tP/5/hP/+f40/+f+Jf8E/2v/J/8G/0T/RP9p/6n/NgBVAIUAEQDx/4z/iv/B/+T/XgCxABIBagHXAMkAogDXALYApAAUAaYApgCOAGAAsQCXAB8B3QBTAPr/AgAVAC4A+AD1AAsBbQBBAFoAQQAPADAAlwCIAFUAgwASAeYAAwGgAJAAxQAbAZ4BdwGrAHoArwDtAB8BvwCrAA0A2f/t/7j/EwBGADYAVQBGAM7/0P+V/4r/dv94/7b/SAB0ALr/If/u/gD/AP89/4P/x//6/yMA+v/k/8z/iv99/6b/2//r/1oAaQA7AEwAMAA9AD0AugDvAMUAFgH8AA4BugCMAOIA4gCBAMEAlwB6AFMAMgBGAFUAKQDg/5f/8/8aAB4A8f9//wj/vv4a/wb/q/+x/xgAcgCIAHIArwAZAQcBDgH1AAkBEgHoAKQAgwB6AGkAYgBIABgAPQBEAFMAQQCt/4H/eP92/1P/qf/k/5n/Bv/a/pL+fv4x/kn+5f4//23/af9r/xP/zf7Y/v3+wP7f/gj/q//g/ycA5P8yAEwA6P8uAC4APQBXAJ4AVQDoAJ4AAAHoAFcAHgCk/8X/DQDXABYBLAGRAR4CgAG2AAIAr/8jAGkA5gBCAfgAZwBK/2n/iv+v/6D/O/9e/4P/nv8aAIUAzP9w/3j/sf9GAPb/+P+gALgA0gBEAC4AKQCDAMwALgHfAFwAgwD6AL8AuABPAAYAaQARACkAEQB2AA8A2//D/+7+7P5E/xj/jP8wAKT/1f+M/w0AGgAAABUAPQAeAG8AvwB2ADAAXgCQAGIASgBaAIEAdAAVANn/AAAuAIwAXAAuAEEA6/8aAOD/dACDAPH/9v8//2X/qf9MABoARgB//zL/Of+g/63/mf+I/4j/AgD8/0EAgQB2AP7/yv+8/6L/UwADAdIAqwAyAPb/2/+4/93/HgBPALz/cv94/23/qf8TADIAQQCZ//3+z/4W/6D/BAC//5n/sf/+/zIA/v/Q/4z/jv/V/wQANgAgAEgADQB7/3L/Hv9i/8f/UwCKAB4A2/+8/x4ARgBPADkAIAAeAIH/bf8Y/4b/BgDS/7T/LP8R/w3/MP8E/9T+3P6C/n7+t/45/7r/jP/A/k7+1P6f/rf+9/4N/x7/Hv/f/tT+D//P/gb/Qf90/+X+df6Y/vD+Lv94/w0AFQCm/2D/Df9K/7j/+P9EAGQAVQBIAMwATwGWAacBcAHoAMcACQEUASYBRAESAeYA2QBAAUQBFAHBALj/eP92/6n/8/9MAKkAmQBVACcAGACBALoADgH+AFwAbwAnAG8A6ADfAM4A3wBMAO3/0P/8/xEAKwBGANv/yv8KABwAHgBTAJkARAARABMACgArAE8AZADFAEgANAB/AFoAWgARAEEA5P/o/0gAPwAyAJAAvwDXAHYAEwAyADsA1wCtAHQAIwBy/1z/iv9cADEBVgHDABgAk/+8/ykAwwAuAWIA5P+c/8z/hQADAZEBbgHQAG0AtgB6AJcAtgCbACQBGQEmAdcA3wAHAdcA3QCgAHIASAAAAPz/SgCKAJAATwD4/w0A3f82AIEAPwAaAO3/ov+k/woAtADbAGQAxf/c/pL+gP4a/3L/Wv8n/+X+nf7s/gv/zf7H/sD+vv4u/2f/U/8a/wb/+/7J/vv+cv9p/z3/8v6C/i3+tf4E/9/+Av+5/rf+hf7w/uP+Zv6S/gT/Uf/B/z//2v4E/+X+T/8rAFcAlQAKAIb/rf8cAFoAAAEWAZUAMgAAAHYArQD4APUA2wCQAJMA1wBEAU8B6ACrAJkARgBXAF4AGgAKAPb/6P8nANf/vP/k/9X/7f/x/1wAVwAPAE8AZACOAD0A7//i/1oA2wAhAV0BpwF5AS4B7wAFAfgAxQDzAFIBSQGtAJAAtgDDANcAJAHDALYAWgBMAJcAfQDbALgAOQD2//H/DwBnADQAjABTAJP/E//J/tL+SP+x/4P/af8h/xH/HP9e/xz/Bv85/xP/+/7j/i7/a/9R/zT/Gv8u/yf/Kf/u/gj/RP9w/3T/k/+K/7H/tv9//1f/O/9T/1f/k//o/0oAOQDd/z3/XP+O/3L//P8KAOD/pv+r/+D/xf/S/xEA/P92/xH/If9a/1r/rf8aABoA4P+2/3D/If9R/63/sf8eAPb/w//k/w0ABABIAJAASgD+//b//P/+/xwANADS/87/FQBcAL8AsQBgABMAMAAYAEwAdgCkAGsAYgBGACsATAB2AE8AIwDO/3//Wv9y/wgASACZAIoAUwAYAPz//v8EAAgADwAPADIAVwBgAJAAVQA5ANv/x//6/8P/Zf9I/6v/iP9t/8z/1//V/6n/+P8pAA8A2//F/+j/GAAjAKYAxQA/AEgA/v8AAJcAEAEuAbgAmQCeAFMAugAfAUcBXQFLAUsBxQCtAOYAQgGWAbABWgGEAV0BVAH6ALYAvwDoAPMA5ADoAP4ArQCtALYAIwBcAKAA+gDfAOgAjAAgAOL/w//Z/xEATwCDAAQAlf9V/3b/OwCIAKAAfwDd/6P+jv9G/yn/BgBXAOD/3f9EACUAaf+//w8Arf+4/6v/4P+Z/7j/GABEAA8AkwCXAPz/nP+t/3b/TP89/4P/XP/H/xMA6P/d/8r/RP9G/+P+Sv+I/0//V/+c/23/zf6x/sv+D/8Y/6n/7f+k//n+7P5y/6D/kf9P/wT/C/9T/3b/f/+K/4r/ff9I/17/dP9P/2L/E/8s/wv/D/8p/4P/ff+e//j/wf+8/7j/uv99/63/+v+4/33/Xv90//P/8f8wABEA0v/+/xEAIAAeAEwAlwBiAFoAVQBeAFMAYgBcADkAx//D/0b/V/8jAGQAOwDF/4j/bf+k/9n/MABGAKn/cP+r/ysAYABnAGcARADx/5H/Yv/H/0gAXABaAAIAtP+e/4b/Z/8YAAYADQDg/w8AUQBXAKkAsQB4AOD/9v+i/6n/0v8aAMMAsQBVAFUAPwDQ/9v/6P9GADQAEwDr/9v/T/92/8z//P/d/+T//P+0/7T/w/8TAA8A/P8aAD0AGAACACAAcgCrAG0AMgBgAHQAjACrAH0AMADk/zIAjAD8ADkBTwEbAQMBFAHJAG8AbwCiAMcAzAB6AGkATwBrAIUAgwCVAJMACACk/3T/gf8KAEEAcgBXAGcAJQD+/7T/q/+M/4H/g/+//87/Jf+X/6n/TP99/8f/nP+M/7r//P+r/xEABAAIAEQAbwCvAOoAqQCbAHQAdADMAIgADwAeAFUAwwDOAIgAYAB4ALgAYgB2AAsB3wBnAAoA7//r//7/OwBMADIA7f/Q/7r/nP/r/63/Zf/d//b//v/V/9f/4v+6/xgA3f/K/wYADQAGAAgA8f/g/zsAYAA9AP7/x/+Z/8X/4v8RAFoAGADx/47/Xv97/7r/7f8pACkA4P/D/7//v//Q/yAAPwDz/wIALgBeAG8ANADM/8H/r//t/0QAZwCeAIwAVwBrAHQAZAByAKQAwQDvAPgA4gDHALEAiABTAHQAjAC4AJUAIwArAEgAZAACALT/8f+g/7j/wf/b/wgAIAAgAGAAPQAYAPj/2f8cABoAJQAPAD0AbwAyABUA+P/Z/yAAAgARAFUACgAKACsAXgBrAH8A6gDOAFUAPwAyAG0AawCIAHQAOQA2AAQAx//K/xMAzv/X/6D/nP+0/2X/2v4C//D+E/9t/3D/uv+X/yz/Yv6b/vn+cP9i/1H/1v6H/pL+c/7A/u7+Ef+d/lv+Zv7W/gL/1P7C/pb+jf6N/m/+lP7l/g//8v6U/nH+aP6q/uH+0v53/mT+bf5M/nX+2P4L/yP/Pf9B/yH/Jf89/1P/cv92/0z/YP+2/+b/EwB4ALYAfQAEAJn/tv/4/zIAJQAeADAAHgD2/+//BADx//j/KQD2/0YAQQB6AHQAegC2AOoA+gDqAC4BGwExAWcASgAYACsAegDoABsBlgFwAb0BggHxAOIA4gAOAf4AUgFEAW4BhAHNAc8BYQHvAIoAgwCgAHgATAA2AJAAngBaAEEAUQCFAIUAPwAYAKL/XP+p/5z/IAATABoAPQBKAK8AFAHdAGkACgAVAG8AWgBgAK8A7wDdAKsAtACXAIwAUwAeAOj/3f9BAK8AlQB4AIoArQDHAM4ARADz/zYAFQARAGkArwDDAPMAzgBPAE8AKwCg/5H/v/+m/87/6//i/9f/0v+x/4H/xf/8/8z/yv8EAPz/6P8uABEA9v/g/7H/7f8jAN3/iv92/4r/tP+O/5f/qf9E/xj/O/9a/w//O/9i/wT/z/7s/n3/pP+p/1X/Fv/j/r7+lP6x/ur+AP9g/3//lf+r/93/kf87/9b+vP4A/5f/1f/k/7j/XP8w/+f+Qf9P/33/TP8u/0r/Of8s/zT/E/9M/yn/af+8/7z/1f/V/7r/cP/H/+j/SABPAHIAKQAVAEYANABTADYADQD4/xMA/P/v/+v/nP+K/9f/wf8TADQA9v/t/wYAYgCeAJcAlwBMAEwAKwAeABUA+v8PAAgAIAA0AJcA1wDoAL8AiAB6AMEA3wAqARsB5gCiAG0ALgA5AF4AegDiAMEAlQB6AMMAzgDvAHIAXgApABoA+v/r/9v/zv8gACsAOwAwABwA0P+x/3T/iv/H//P/7f8GAMz/jv+m/6L/tv+x/7//uv/B/6//IwA7ADYArf9X/7r/zP8YAOj/AgAlADYA5v8EADAAbwByAIEASAAKADIAXABpADsAWgAeACsALgACADIARAA/AD8AKwDd/7j/JQA2AAAAq/83/5z/r/+2/w8ATwARAN3/DQA0ADYA2/+c/5H/8/87AHgAxQAbAQcBAwGrACcASgCQAJ4AgwBgAHgArwAJAfEAzADUAMkAVwAjACAAFQBEALwA+AAOAcwAoABkAA0ATACIAI4AUQCTAJUARgATAAYASABeAG0A+P+k/0j/nv/S/zIARgApAFEAIABRAE8AYgBnAFMAOQAKAD0AlwDFAJUAgwCvAJUASgApADkAXgB9AJAAbQBpAGAAmQCmAPgA3wBgADQAv/+M/6b/4P8IACUA4P+R/6D/cP+D/9v/3f/M/47/vP+6/9X/8//8/zYAKQDk/5n/Xv+2/3b/jP8aANn/0v8/AF4AOwDb/5P/nP9l/0j/sf/B/4H/P//j/hH/Yv97/3D/N/85/3T/dv9B/0b/iP+e/7b/+P8KAPz/9v/t/wIANgBgAGIAJwBVAFcARAAIADIAIAAGAAIAIAB6AEwABgBTALYAlwBeADYASABpAG0AHgARAPj/EQARAOv/CgATAPj/uP+4/+3/+v/d/7r/yv/H/w0AAADm/+L/1f+8/4H/hv/D/87/0P+m/17/rf/Z/8H/iv94/2D/Pf9t/6T/w//M//z/2/8PAA8AKwApAAAADQD6//H/qf+///P/EQAAAPr/lf+G/7//AAA0ANX/4P+m/7b/1//x/wYAuP+e/yz/zf7l/hb/GP87/w//4/4I/wj/Jf8R//D+x/6u/qH+8v5g/3j/Wv+V/3D/+f4a/xP/P/8j/zf/Kf83/4j/pv+i/4r/vP/b/+v/5v/K//7/CADX/9X/3f/8/z8AZwBgAJAA1wC6AO0AHQFlAeQAoACiAMUAJAEQAd0AvwC/ALwA0gBiADsAQQCKAHgAeAC2AMEAsQDHAMwAkACmAH0AqQCtAKsAjACmAKAAiADtACEBJAGeACkA9v+2/6D/0v9GAG8AXgCgAAAB1ABJARQBzACTAAgA1//z/ykAawCvAIoAlQBrAHgANAAgAPj/0P/Q/87/0P/6/3QAegBKADsA4P/S/6b/jP+M/6b/0P+///7/OQAIAPH/0P+c/5X/MP83/7j/+P8yAEgAQQA2ACsAEwDO/7j/sf/D/+j/7f9IAJkABwEfAR0BEgF9AAIAAAAeACAAUwAaACUAMAA5AEEA6//z/wAA3f+2/7//rf/O//r/NgBEADsAAgCt/8z/l/+K/4H/lf92/2D/ff+g/2L/MP9B/zf/T/87/xH/Ef85/8/+x/7L/gL/E/8A/yH/HP8e/9r+9f4P/9r+D/+G/6T/pP9n/zf/qP5i/nr+3P4Y/2X/Qf9M/zT/RP9p/0j/ff9T/0j/+/7n/hz/hv/V/9f/4P+i/6T/qf/F/8r/6P/Q/8P/1//+/0oAgQDBAL8AZwAaAAYAOwCTAEYAPwBcAC4AVQAuAAAAiv99/4b/nP+e/6D/Zf+X/ycAvwD1AN0AngBpABoA0P/k/y4AZwCXAI4AzgAWARsBCQHqAKIAuAAZATMBXwELAaQAKwACACUAUQAyAAYAzv+//8X/4v8jAD0AJwAGABgACAAaAPz/6//2//j/BAD6/9v/9v/O/63/Zf9P/5X/ff/B/6T/dP+T/4z/w//Q/6D/l/+O/17/Wv9T/1P/tP+0/7r/BgAPAPj/IABRAEgAr/+T//P/TACBAK0AhQCDAI4AUwCQAIMAbQBtAGsAVwAaAAgAHgBeAGkARABvAGkAMADt/6v/5v/2/w0AHABnAFEATwB0AIoA+gDSANsA8wDMAJsAmwByAFUAZwCeAMMAAAEOARYBCQGZACMAsf8lAHgAlwBtAGQAfwCIAB8BQAHqANsA1wBkADQAMgA9AGAAOQAcACsAYABXABEACgAnAOD/k/97/6n/4P90/3j/q//V/5X/SP8e/wT/5/7L/nD/Pf+M/5n/g/92/1r/V/9B/3b/Hv9V/3j/zv/S/+//2/8GABEAMABMADAACAAnAD8APQBXAIoAmQB4AFUAcgCtAO0AjgBaAFMAYACTANAAJgEDAb8AigCiALQApgCxAMUAeAAYABUASABvAJ4AxwDDAGQARAApABgA+P96ALQAoACFAEoAZwBeAFcAGgD6/3QAYgDBAG0AOwANAP7/NgA/ACAA9v/g/7z/CgDm/9D/xf/H/9X/BADM/7//lf9e/yP/E/8h/1H/1//8//b/v/9T/0b/V/+t/87/BAC0/2v/NP87/2X/cv+x/4P/e/90/2L/Of9e/1H/g/+v/9D/e/+c/6L/qf+O/5f/2/8EACkAAgDZ/7b/1//z/+T/sf+x//P/7f/H/+L/yv8GAEEAMgA7ACkAGgDO/87/zP/b/9X/1/90/2X/ff9K/6D/8f8KAAAACAAaAEYAPwB6ACAAAgAAAAIAEQBIABUAIABKAHYAeAA5AEwAvADJAHQAGgATABoAxf/O/6//xf80ACkAAADF/5X/Lv+o/qz+5f7l/hH/AP8n/4H/Pf8I/+f+yf63/s3+if56/pb+s/6d/on+If87/xj/Df8a//D+Av8e/4H/Yv/n/gL/lf+8/7H/8f8pAEgAKwDz/7j/DwB0AN0AxQBvAFoAVwBkAG0AkwC4AJMAawBTAHQAtgDkAIMAugASAX4BowGsAdoB2AGnAVgBLgE5AVIBQgGyAe4BxAG3AbsBDgLVAa4BiwFdAQ4BLgE3AYIBjwGeAcoBoQHaAakBoQE3AdkAtgAdAT4B8QDdAHYAsQDSAAABGQFqARABxQCrALwAxQD6/7j/oP+i/47/wf/2/6T/SP9B/3v/iv9n/wv/s/6Q/mr+5f52/yn/O//s/tj+Bv/9/g//Av/n/nf+uf4N/0j/e/+6/7b/dv9M/yX/O/8j//v+3/73/tr+6v5P/7//DQAPALj/jv/Z/8H/pv+r/8X/BABGAL8AzAB9AFoAMgDZ/4H/iP+6/63/9v80AAYA1/+v/9D/+v8aAO//6/89AIgAqwDzAAcBjgBTAE8ARABIACsABAD+/6//w/+//5X/pP+V/6b/r//8/+v/zv+8/3v/a/90/2v/Of9I/3b/V/85/xb/Qf9I/y7/Yv+t//7/tP+K/5f/mf+k/5H/eP+R/4r/uP8CAGQAUwA0AEYAjgDMAJUApgDmAJ4AqQDOAAAB6gC8AKsAgQDXAKYAjgBMAPP/8/9gANIAuAB2AEYAEwDF/1wAigCkAKAAZwBtAD8ACgDM/5z/dv+R/3T/jv/v/9n/rf+c/xgAVwA/AC4A+P8VAGkAvwB0ANcAXACQAFUAVwANABwA+v/H/zAAbwBtADAARgACAO3/4P/o/9v/EQBKABEA/v/d/87/AADg//z/xf+p/0H/Fv8L//D+D/8n/2X/Hv/U/of+qP7S/uH+x/53/oX+nf4R/1P/XP9//6n/jP9//5H/iP9V/1P/TP87/1f/Xv9w/47/wf/m/0gAJwBrAM7//P/Z/xMAMgApAA0ASP+2/8z/+v/r/w8A7//6/6D/yv/o/z0APwByAJkA3QC2AFUARgAyABEAPwBTAFUAJwD4/2cArQAWAdcAlwCVAG0AXgCvAJsAlwCkAFEARgAyADYAJQBGAHgApgDSAOoA1ADUALoAmwBIADYAPQCVANAA/gAHAfgA5gDSAJkAFQDX/5f/nP+v/2D/Z/9X/57/7f8jAA8Atv+t/yP/Sv8j/17/NP+i/7H/tv8NADQA2f/g/6v/tv+4/5X/v//x/y4AbwC0AHgATwAAAA0AEQDK/9L/3f+T/7//JwB0AIgAgwB6AGsAUQDx/7j/w//M/xUAPwB/AK8A+ACiAK8AkwBTABEADQA0ADIAfwBiAFoAYAAcAEoATwBTADsAJwDX/+b/+v8eAHoAYAArABUAaQCMAGQAJQAAABoAIAAAAFUAGADH/6T/r/+e/8X/zP+k/7b/k/9P//f+/f73/g//+/7y/gL/I/9R/0j/Zf9G/zf/Qf9P/0j/MP9i/4H/dP9X/47/q//H//b/5P/i/5X/q/+t/6n/7//X/xoAEQD4/+v/mf9M/1X/ov/D/+T/PwB2AEgAHgDm/+j/HADg/7H/tv9g/yH/P/+r/3b/ov+8/7b/eP9n/yf/Qf9c/0b/iP+r/9D/6P+6//j/6//Z/+j/8f8TAFwAXgApAPz/4v/g/87/NAAyAFMAJQA5AEwAZwB2AEQAaQBnAK0AZwCDAFwAEQAuABgAZACmALEA4gCrAFoApP+g/2D/U/+m/+T/9v/K//H/2f8AAO//+P+O/2X/AP/P/lX/iv+2/+3/5v/2//H/8f/F/+//v//B/5z/bf+8/zQAeABRAD0AJQD6/0YAjAB6AKYAjgARAO3/8f/z/+v/v//M/xMAHADQ/4P/ff9t/z//P/9r/7j/4P/k/wQAMAANABMAdACvAIoAegCTANAACQE1AUIBCwGvAOYAKgEkAccA2wDZAJkAmQB/ABj/yf6j/sP82f3I/Zr9nv2S/tb+Jv58/m/+wv5X/mL+OP6j/qH+Fv+Q/hj/Av+b/vX+2v7u/sv++/4a/8v+UP5m/r7+af9KANcAZQGMALgAJQAnAD8AZwBiAK8ArQD+AJMBagHIAXkB3gH0AScC6wEeAvQBGQIBAkoCjgIqAzUDfgJxAl8BngFfAWEB2QDMAGwBtAFBAiQCWwKnAU0B2wByAL8AeAASAcYB0wHlAUwCjgJiAkwCQQIGAggCbQJ6AiQCXQJiAt8ChwLSAgMChAF7AU0BjQGsAc0B4AGhAawBQAFzAVYBcwG7AacBpQGAAdoBvwGwARABLAFYAT4BBwH6APgA2wCZAGQA6//k/xoAAgACABUAGgDg/1f/gf9r/9n/+v/8/y4Axf/K//j/AgAGAND/v/+B/5f/gf+2/+L/l//m/0T/v/9r/57/hv9a/yP/0v6A/n7+bf5J/iz/9/7J/pb+lP7w/gD/SP9G/zf/6v5d/kf+X/5x/nL/+f7s/qj+Yv7N/nP+df4m/nr+Pv4Z/ln+sf6F/rP+W/46/ij+Ev5D/l/+JP4b/uL97/3e/d79yv2V/ev9Cv5D/l/+Jv5d/ov+Ov7L/uX+1v6j/nr+/f22/dX9Qf6F/sf+lv77/rf+mP6x/iT+df4Z/sb9Nf0Y/fX8+fxn/bL9tv0K/uv9vf13/X39tP30/R3+Sf7L/vL+0v6+/vX+2v4R/3z+qv6f/on+8P7P/kH/CP8e/z//Z/9T/5X/Kf8h/zD/TP9w/3T/oP9g/0j/RP94/+//KQA9AOb/r//X/9L/fQDZACEB/gCPARYBqwCMAKAA5gAOAV0BUgFjARQBKgEoAVIBLgExAR0BCwEbARkBQAGLAeABcQLdApIC+wHKAU0B0wHyAdoB2gEDAkwCNgKMAlcCKwL2AakBkwHRAfQBbQJ2ApcCtQJtAiIC6QHnAcIBpQEqAdIAfwCQAOYARAEkAi8CIgLjAawBBwE3AT4BTwEDAXgArwDdAK4B6QFKAr0BMwGpAGkAGQG8AKAAvAAWAb0BcwKmAhMCuwEdAVgBEgG6ALgA1wAUAd4BSAL4AcQBSQEqAWkADQAIAAYAx/9MAG0AcgCDAJsAigBpACsAAAD+/57/zv+6//b/QQCDAFwABACr/3b/Yv9M/17/ff9e/3j/g/9X/w//0v6j/sL+4/7E/sv+Pf/5/sT+3/4a/xP/6v75/uz+4f6W/ov+if6H/l/+pv65/rn+Sf4D/ib+CP7v/cb9zv3r/TP+sf6z/nr+DP72/fr99P1D/nz+fv5d/kf+OP5i/lT+cf7N/gL/AP8G/1X/E//7/gL/2v7j/iH/YP9l/4P/af80//n+eP/6/yMAHAD+/+//V/8s/0j/Zf9p/2L/dP9T/4b/YP+I/7b/2/8AAMX/0v/Z//b/5P+p/2L/Xv9c/+//DQAEAO3/ff9l/3v/k/+r/8X/2//t//7/EwANAA0AbQBPAB4AQQA9AHIAqwDxAA4BCQEfAUABEAELATEBBwEJAUcBRwHxAKIAdAA7AP7/qf+v/7b/1f/V/w0AMgA0ACUA7f/D/5X/kf/Q/1cAegApAPj/KwBMAFMARAD4/5X/bf+p//r/aQBKABEAVwCpALYAuAC4ALoArwDiABYBuADSANAA1ACxAJsAyQA5AUIB9QCtAE8AngCtALgAFgG/AMEAawBMAG8AVwBnAFMAeACOAG0ARgBRACkADwACAL//zv/Z/6T/w/+r/8z/zv9GAGkAcgA0ANn/q/9w/17/mf8IAC4AjADSANAAdgBgAE8AVwAyABUAGAAEAN3/BgAVABoA7f/D/w0Ax/+8/1P/I//j/vf+Jf83/1z/0v9PAC4Av/+i/8P/cv+I/3L/l/9P/0r/k/8TAMMAqwDBAE8AVQD2/7z/e/+m/wYATAC4ANQAFgEOAfEAgwBGAEQANgBPAIUArQDiABsBiQGYAX4BMQG6AIoAYADFANsA8QAoAWwBWAFfAXMBqQHYAcIBhgEqAfgAIQG/AeMBuwGGASwBSwFLARABSQEfARsB3QD4ANsA3wDBAJMArQCIALYAVQByAHQAEQDv/9n/x/+0/7r/2f+g/5n/qf+M/2D/5f7l/sf+5/7S/g///f73/vX+aP5o/pb+1v73/vn+Ef9G/0r/If9n/5z/jP9X/8D+Df8u/z3/N/9a/3L/a/+K/+D/KwAgALz/a/8//zf/g/+T/47/XP+V/33/Z/9X/1H/jv90/4P/Gv/w/rH+xP7u/vf+Df8y/47/6P/m/6//gf9i/2L/Jf80/zf/bf+M/5X/f/9i/2L/Zf8NAA0ACADS/4H/Sv/u/hb/Rv9X/4P/tP+X/3L/XP+O/7H/ov9g/x7/NP9y/3D/sf+r/1r/Xv94/6T/P/8y/zf/Wv9n/6v/vP+k/4b/zf63/qz+tf7E/tz+Of8s/4H/cv8//2n/T/89/zT/lf/6/z8ARgDi//b/6/8VACUAkAB4AHIAXgBeAL8AEAEmAQ4B6AAQAR8BHwEDAcMAlQByAKAA2wD+AO0A3QB2AEQAYACDAHQAogC6ANAA8QDZAOIAzgDDAIEAzgDdAMkADgEfAUIBFgFEAVYBggFfARkB1wCvAO8AYwE5AQsBrQCeAKYAdgA2AOIAGQHvANsAHAAjALz/aQAwAKkA7QCgAKkAogCxAFcAkwBTAP7/4v/2/woA7f/F/+L/DQAaAL//0P+x/0z/TP9a/47/XP9K/xP/gf/X/9v/+P+t/9D/mf/6//7/BgBpAEoAMABeALEAqQCXACsAGgCIAIoAUQCBAMMA7wBYAaEB5QGYASQB1wCZAJcAbQB/AJ4AxwDbACwBcAEJAasAdABPAOL/Zf/w/kr/Z/+g/wgAYgCKAGIAXAA0ABgAqf9w/3L/cv9y/47/x//Z/7T/g/9y/yP/Gv8j/4j/pP9g/17/f/9V/1X/l/+8/93/nP92/8H/w//K/57/hv+I/4P/tP8TAOT/pP+v/5f/vP/Z/7//rf/8/+b/4v8CAOj/0v+Z/+T/OwCBAD0APQAgAKn/dv+v/8z/Pf8c//3+Uf8A/zf/If9e/+D/4v/x//j/+v9g/3//0v/H/2X/mf/r/+//3f8rAB4AGADV/xUADwA9ADAAGAAEANX/zv9//4H/Zf9n/8r/BgDr/9L/0P+e/z//YP+V/9X/0P+v/8X/6/9tAIgAeAAwAAgAv/+//+v/ov9e/9v/HgBtAPz/NgDo/8H/pv+x/+L//v87AMH/pP+Z/2QArwCFAO3/nv+k/7j/BgAPANL/kf8c/yX/Xv9y/5n/Fv+3/m3+pv4j/4r/jP9I/6n/wf+O/23/Vf9V/zT/g/+0/yMARADo/7T/zP+x/7z/CgAlABoA0v+0/wgA/v/z/wAAHABIADQAZABMAAIAOQBGAEQABAD8//z/3f+B/5P/jv+i/3b/uP97/6T/cP80/5f/5v99AFUA7wDfAO8AYABeAAYAGABkAHoAngB0AIoA1//X/4P/EQA/AGAA8/+k/0QAUQB9AGcAqwC8AFoAJwBeAMEA7wDZABkBdQG0AYIBDgHOADsALgBgAHIADwDg/+T/4v/r/wQAKQDm/5f/iv+O/63/2f+4/7z/AAARACUATwAyAFcAUwBBAHQAUwBVAN3/1//z/+//DwBMAF4AcgCVAHQAigB4AD8AYACFAOQAggHIAaUBrgGLAQABWgA0AGcAfQDHABABLAFPAV8BVAHBAEEA8/9r/1z/jv9//87/WgBeAD8AkwC2AMMAgwByAGQAIwA2ABgASgB6AMUAXAATAJn/dP99/4P/dgDDAA4BIQEDAeQA6gALAXYAegCmAJcAuACDAJAAQQBEAEgANgD6/4z/SP/n/hj/1P73/gv/HP8R/z//LP/a/gD/s/5t/mr+xP7W/jD/uv+i/5H/ff87/xH/3P7A/nr+aP7h/jT/f/+t/+L/2/+Z/5f/6/8jAPj/zv+x/+D//v8CAPP/tP+O/zv//f4y/0//dv+8/+///v+0/47/Bv8N/9b+EP7c/af9L/5t/pD+Hf6//QH+A/4z/hf+fv5q/lf+of73/kj/gf90/1r/TP+K/7b/tP+K/4r/jP+I/8X/CAAPAIb/Of9E/6D/v//M/63/CgBeAK8AqQB0AMcAPQDg/xwAUwCFAH0AsQDiAE0ByAGWATUBFAHiAGQAYgCMAG8ANAAYAGsARAByAAIAnP9K/3j/xf+0/6T/qf/o/7r/r/9X/w//Z/97/xr/Bv83/wIA9v/2/7T/7/9RAMwA8wDJAAcBTwFUAWwBhgGCAbIBzQHVAZoB8gGsAaMBdwGhAXsBggGnAVgBsAF3AbcB0QFBArECgQKJAnMCTAIkAgMCsgEzARABAAEdAeYAGwFAAVoBSwFWAWMB4gDHALEA3QCgAMkAmQBIAL//6P/t/+j/TABMAF4A7/8yAOD/wf/m//z/oP83/2v/Yv9a/wb/Gv8w/0j/O//3/lH/1v7Y/r7+ZP5+/sf+Hv+G/2f/3/5o/m/+bf63/h7/Hv/h/ur+Qf+2//j/6P/d/5X/e/8y/zD/9/6o/sD+RP/x/3IAegAAAAAA4P8AAPz/l/8j/yn/Zf8CAL//RgD2/6T/e/8n/xP/Rv8IAGv/Rv8A/3L/e/+8/zsA4v+k/2n/XP9T/zD/XP8//3L/zP/H/w8Anv8w/wT/pP/k/+D/OwApAMr/Xv/M/wYAbwCkAIUAQQBaAKIAdgCrAJUATwAGAHYAsQBiABgAYv9g/zn/bf/X/+D/pv/D/xwA5v/2/w8A9v/B/8P/IABcADYAKQA/AH8AdgA9APr/xf8NAMz/DQBaAJUAoACrAMUA2QAkAfMAewGLAV0BZQGeAcQBcwELARABLAGmAJAAugDJALwA+ADbAJkAdgDMAKAABgAKAND/1f8NACkANAA7AO//DwDZ/ycAPQA9ACsAXgCTAG8AYADr/9D/9v/F/8X/BgDv/5X/6P/Z/2v/Uf8a/0H/Kf9w/1H/Bv/P/oX+kv7Z/bb9Af4X/kX+av6J/v39Dv74/Tj+rv7c/s3+lP7l/uP+6v73/vv+Uf8T/wT/CP8A/x7/I/80/xz/Zf+v/w8AzP+c/4H/pP+6/+T/Vf9t/yf/P/94/63/zP+m/6T/Zf/z/+v/tADJAEwAbwCiANAAugB0ACUAuv8c/0T/MP8RAL//jv83/0b/YP+B/+L/cv8w/6H+Fv9M/63/DwA7AEQAdgCxAAkBRwELAbQAtgDXAOgAJAEzAcQBrgGcAXUBUgFCASYBugBIACUA+P8EANv/HAAAAIEAVwDd/6v/GgB/AK3/nv/Z/xEABACV/3//zP96AH8AjACTAA8AMgATALj/dv94/3D/XP9a//D+Df/w/hj/Uf+V/wQAiv8j/0//Jf8T/83+jv9RAE8APwCOAOoAUwBtAGsAbQCxAM4AigAVAGQAVwDHAEcBTQFYAWoBIQHSACYBpQG7AZ4BkwE9AmgCDgIRAvIBKwIXAlUCHgLYAbABQQI6AhECFQIBAmQCaAK4AvMCyQKoAsUC+QIUA+gCxQLHAtACDwMNAwADywKXApICjALbAugCkgJxAlcCHgKRAWUBXwFaATcB/ADfAPoAVAHwAecB0QHPAXkBpwG0AesBkwGaAWwBGQEsATUBpwFSAQcBrQC/AOYAZwA7AEwATACk/4j/uv9r/8v+b/5X/gX+p/3O/QH+Yv5D/jH+j/03/U39d/1c/an9ff3W/Cr95vxN/VH9u/0s/Rr9MP1I/Rr9M/30/dz9Vv3f/Kn9yv3K/aP9U/1E/RT9Of2P/cr9e/0C/Zr93v0M/mP9bP1s/Sz9Yf3G/fj9v/24/e39If21/LP8b/xx/GD8E/xS+wD7C/uZ+rb6w/qZ+jv6m/qO+iP6+fkr+lP6a/qD+pn6jvqT+ub65PpN+8L7HPze+8/7OvyS/Ob8Vv1y/dP9EP5M/nP+2v5I/z3/J//3/lz/Yv9y/4r/2f9TAIUA9QBlAcYBzwHnAfQBnAGjAawBWgFLAVgBoQGsAfYBkAKSAp8CbwL0ATICPwIkAj8ClAKHAtYC+QIyA1MDUwMjA58CfAKzAk8DwQPmAzgEdQSjBPsEHAURBc8ErgS+BIUF3wU+BksG/gUABswF5AUJBl0GJAYfBnkGlAaCBi8G2QXkBRQGBQYUBs4FawVVBW0FxwUdBvgFZQU5BVcF/QTJBPAE1AQuBQ8FeAXkBWUFDwXwBLAEagRJBBcEWwQ8BE4EOgQdBNcDcANhA5MD6gL+AgIDjAL4AWwBRAHmAMkAZABTAIwAYgBXAEoAFQDV/0//wv5o/mL+/f0O/vj9vf1P/d38Jf0Y/eH8jvxt/NH7Zfu2+lf6Pfp2+nT6GvoW+rX5lPmb+XX5ofkG+mX6r/rM+tf6kPor+ur5Mvon+uj63fpH+z77Y/u1+0X7mPtY+4D70fs0/Nb8Hf15/Vj9Xv0Y/Tn9zP3Z/bT9hP3//VD+h/7U/rn+tf7A/nr+ev61/nf+b/4m/p/+cf5d/iT+Nv6m/t/+vv4g/rj9Nf1T/Vr9e/0S/i/+Bf55/Vj9bP3T/QH+6/1D/tz99P0t/hD+gP5q/mj+u/3g/b39wf1B/gz++P1P/Rj9pvw0/Gb8kPzW/FX8ovzL/ED9iP2V/cz9Z/34/bL9tv0k/nX+lP4k/ij+OP5S/hX+V/4I/8T+9/61/rf+qv4N/7//YP8KAAoAdAB/AIEAzAAUAaUBKwJXAlACfgKDAt8CTwOKA7ADzANBBDgEqgSKBfUF/AXxBXQFbQUIBUYFVQXbBX4GcAZsBjUGnAaUBnAG5gWbBYMFrQV1BsYGsAYTB+UGxAaABv8GcQcgBwEHDAdoB2sHFAh5CLQI2QgKCR0JbwncCcsJZgmACZYJzQk5Ck8KbQr9CYIJBwkHCRsJIgmaCLoHkgdoB6IHpgcGB40GhQXfBBIExgPtA9kDXANMAsIBFgGNAUQBzgAYADv/6v7c/WX9qPzG+4r6ifkr+ev4DPk1+N72Eva49cr1VfVa9Xf0XvOo8gryxvFz8YbxUvGk8AvwXPDK8IXwPfDy7+PvJ/A78G3wcPAC8OfvfO/u7/3vkPCC8bfxS/G88HPx3PG18tLyd/Oi897zaPRl9Wr2xvZ296b3KPhX+ab6p/sy/Cr91f2z/qb/kwDKAagCkQOQBFoFagb5B2UILQl+CSMKwQpuC5wLBgxrDMkMUw3KDUMOvg58DoINzgzWDOEMcQwyDL8L8gvkCpMKKwr9CaMJqQguCM0Giwa/BYgFfgReA2gCkwFNAZcASAAp/+39cP1v/C/8rPu9+4v7XvpV+tb5wvkz+Z35gvmt+F74uPet96X2Nvc99+D2OvZV9ST2lPZ+9zr39Pal9sL2b/d492P4GPgf+Ib40/i5+RH6CfsJ+x/7SfvN+3/83fya/ev9UP6C/vv+TP+r/+b/0P/M/63/LgBvAB0BGQHMAOYAtADGAfIBhQLjAhQDmwJXAm4DvQPxA7sD7wOnA5cDQwROBJQESwQ+BGEEIAQvBFYE9QTlBHUEQQSQBPkErgTcBO4EswQEBQAFfwXFBdAFzAWFBXAFtAVyBWAF+QThBPcEkAUfBsMFkAWrBb8F6gTNBNoEyQSjBHMElASjBMAEJwXjBH4EEgSIAxQDrQJ8AlMCWQI/AuECOwM7A44CowEAAQUB6gD1ANQAhQByAEQAUQBgAFMACACG//n+ff8NACcA/v/V/1X/Yv+g/9v/OQCvAAkBdgC2AG0A7QDoADMBygErAl0ClAKBA9cDxgTGBLcErAQnBa0FYQbNBpEGQgapBicHSAexBywIDQiSB98HQAilCJEInghDCQYKjgrBCjcLuwuwC34LtwuwC+kLJAyQDGsMTgyODIoNtA3MDb8NIQ2mDLkLNws6C4kLowusC40LFgs5Cn4Jygi6B00GswR7A8cCeAIcAnUBGAA8/nL91vwe/Mf6i/mP+Pb2/vXj9Cj0/vLr8e/w3+8k76DuAu617QPtmuyM67jrOet16mHqKOpd6mPp+OmE6b3pY+mw6ZPpAunb6TbqNuvt6zHso+yY7KTtLu7X7mjv0e8v8TzxePJ68ojzlfMx9OTzgvQk9gz32/cs+Db5WfkC+in6KvsT/Iz8Mvzj+2/8yP3K/V3+qP7q/vL+q//fAHcBkQG5AecBagF+ARwCqgL1AtgCPwLcAYsB+wHEAfYBEQKcAVoBiwH9ARwC0QEBAtgBpQFUAYIB0QFPAU0BCwG5Ac0B7gGeAf4A2QCiACYBLAEuARkBcgAgAKv/1//6/1wAYADg/8z/UwAOAfgAgQCIADIAnv9tAKQA9QCMALYAXgArALgA8QBHAQMBSwFlAZMBngHrARMCTgKBArkBiwHnARwCSgIVAlcC7gEGAk4CbwLAAoECQgMEAx8D1gJYA4gD8wIPAxgDOQPsAgIDOQM5A+0DgQNyA4YDpwMZBLgDuQQkBOIDCwMnAyMDyQJhA2cD5gLpAVMCjgK0AdwBEwIMAkwC0QGjASQBXwE3AfoABwGTAfIB0QGSAp0CggFHAQ4BsQBkAHgAKwDH/7QAYQHeAXUBAQLRAV0BrgEVAnwCkgLsAtgCPQK1AtQCmwIgAqoCAgMqAwcE+gPkA5wD3AOrA6cD+ANTAxwDDwOzAkMCaAJZApoB0ADtAPoA7wBdAQgCxAGuAXECAQIDAocC0gK6AmgC7gL5AsEDywRrBeoF9QW/Bo0G6waPBgAG0gVRBcwFSQYDBy0HagbbBZkF5gUUBrQFNAVhBEEE2QOhBIcEBwTtA5AC/QF3AekBKwJuAa0Aff/B/33/OQD+/yn/wP7t/SD+JP57/4b/m/46/m79Of3o/P393v1p/cr9Jv5J/sP9G/4b/uT9Wv14/IH8Gvzu/Kr83Ptu+2v68/o5+ir7A/uK+jT6+/ku+pL5YPoC+pD5zfka+kH6gvlH+c74tvhD+S/5+flB+oz6G/vw+3/8evym/P780vwA/aP9DP71/jf/+v8KAOQAbgH2AfkC3QJwA0sDTgQlBd8FVgaGBgEHTwaNBs8GnwfdBykH4QevB9gHNQiGCIYIswezB3EHWQfyBpoGBwatBVwFxgSjBC0EVgMAA/UC6gJtAn4BnAHmAIEAyv/o/5f/P/83/4H/z/7Y/kf+Lf4+/qn9Zf1c/Uz+Uv6z/uv97f2K/Rj9Wv1a/Wn9sfx0/Jv8Rfzw+zL8HvyA+7v76/tb/Nz7sPuq+7L7HfvF+u/6CfuE+0n7nPtG+vH6KPtf+5H7/Pqv+qj5HPqB+uj6/voz+wn7ePqG+uT64Pqi+ob6dfl3+Yn5T/oQ+yT7G/tB+ur5n/nA+Sf6m/qe+ob6VfqK+hT7mfqB+s76Evv/+yn8/fua+yr7lvuL+yv8xfz9+4z8gvvK+7X7Ovwz/bj8XP0j/fL9Jv4S/on+Dv7T/Sz9Nf3K/UP+if4+/vv+of5M/r39GP15/WP9Dv7X/Rf+lP7u/vX+4f4N/zn/E//q/sf+yf7h/kj/Yv/H/rf+nP9eAPoAyAEOAUcBEQLuAoEDGAWiBboF6gVdBvMHegkWCjIKfQr1Cq4LeAxcDQcNnA3rDdkNfA6+DqYPEhBwEJoQvRAiETYRrxHCEPsQqhAMEdoQkRCEEHMQtA8ND1cOcQ4DDvkMWwy5CysMLQzlC70LAAv7CZIJOgk1CB8IcQdSBrwFfgTeAxYDQAOFAv0BFwKyAU0BkACt/1D+RP24/Ez8mvta+636V/oa+lX6mPkF+VH48vaR9ov2qvYA9j/1kPSW9Fn0+vNJ9H3zJfN88qHx6/Et8kHy4PFZ8kHyZvJV8rXyAPMr8kXyCvI08hLzw/N39BX0OvTr8yD0TvTs9FP1oPU89hb28vZ49zP4q/ji+OX50fns+XT6UPuh+377+/uJ/MP8Uf0V/nr+zv1u/XL9KP6z/lz/g/+c/yH/rf8RAGQAqwByAKQAqwAzAV8BUwLLAm8CvwEIAtACeAKfAsICWgN3A48DuwN3A3cDgQOgAw0DSAN/A7sD7QN3A94DfQN0A2MDLAOwA9kD4gM3AzkDCQOiAn4CVwJoAvYB/QH9AZwBXwHMAO8A8f9RAD0AfQDkAFEAUwD6/wgAcP/U/t/+8P53/nL9f/1u/Sz9O/2M/D/8NPy4/P78bfzA/HT8sfzA/J79A/7J/vv+ZP5f/jH+Pf8T/6L/dP9iAHQAKgFxAmYC3wIOAhwDNwOABIUFRgXMBZkFuwYXB98HiAheCFkJ/AiNCRYKFAuWC/EKsAtYCzgMCAz0C/kLtwspDCsMtQzLDNsMvgxTDMoLpApaClcK7gldCY8IQAhIB8YG+gV6BYAEUQNtAiYBdABM/2b+Nf04/Oj61Pkr+fP3j/Yr9bjzkvIx8TbwF+/R7h/u8ux37BjrierB6RjpvuiS6LHoTuji54vnnucR6KjoQOnB6QrqOuoX6rXqgeuA7FPt7O3r7rvv1PB88pPzbPTc9FT2e/gQ+wn93v2B/zkA5QG9A98FfAeVCEEKNQsADXUOMA/iD4sQeBFTEisTwhOIFNwVyRa+GGUZVxlmGmYbjxwXHekcmRsJGtAZgBp7Gg8Z4Be6Fo0VxBWfFRIVChO1EUURzRC5EHYPFQ4ADR4MlAu0CvcJVgjaBkEF6wNzAk8A9/6K/Q/9lvvL+aX4Mvfm9Yn0XPOl8Q3wKO837g7tresY6xDqFOnr51XmtuQ640/iyeG44UrhyeH14fjia+Os4w7j0eIV447jWOT85CnmnuYo5+LnAun36m7siO4j8EfxMvNM9SH4nvql/SAA+wGGA4YGggnECyIOEBAjEs4UkRe0GQYbLBw2HZ0dih4TIGoinCOVJcwmvCf+J6onKSemJbol0yQCI9kgaB+mHSkbghhUFR0TgBC+DuoMawpECOQFEAQOAisAc/6U/Gj7+fk2+hP6K/nb9x32zvWZ9Xn22/U09Ub11vSO9V/2x/c7+LD4G/mh+Sj73vvs/G79Qv2y/bT9F/6j/bD9Vv0t/L37B/ux+mf64/l/+GX2EfVj8z/yfvEr8HvuYexT6w7qiOlS6Fzm8eRC5E3kmeMO40bhKuBR3yPf3t8Z4J/ggOAy4T7iSuPX5Mvlnuft6e7s0vDp88r2OPm+/IgAFQSzB+IKxg3NEDsUEhdiGb4bVx2jH1MjZSY6KYcqnCuqLAEuMC8VL8suBC3XKzMrBCqiKGcmNSR/IUIfXR3IGp4X1BMeEZAObQzCCeMG2QPSAML+0/uA+Yn34vUP9ef00fTv84rz6vJc85rz0fNR803zA/Rb9FH1GfYi96L36/he+hX8nP1z/jD/Xv92/20AJAH4ABkBEAFtANL/zP+R/3r+dP02/Ov6APob+Zf3EfU389Hx9+8i7+jtMex86p/ogOcR5lblY+SJ47ni6uHi4WLhkOGZ4Q/hxeHO4eviieNQ5SLoxupj7hLx7PTd9zT8QQDDA58Hmwq8DigSDBafGGAbwh2YH5si9SXNKaArPy0eLwUxYzNHNRo3OzcINkk1QTQoM1UxTC9HLFsp+CZsJKshQh7rGiMXIBMqEFsMpwhGBS8CEf+W+/34N/Ym9E7y//H98eLwIO/T7I7reOs+7NPszOsy62rqd+qv6+Dsse127Vzuye/p8WT0HfZp90r3Hfip+EX5vPmJ+T75C/ik9/n2gPYW9sr1b/Sb8tfwR+9a7uns3OpQ6FfmW+Wa5JPi1OAJ36DczNqk2QrZZ9jf1zDXutWK1cPVVtZA1qjWyNZ+1trYattw39ziD+bo6PXrhvE89rT6Jv5NATYFHQmJDoQSMhY9GWMcYCCeIyInMSmmKp0sOi6jMJMy9DcyPJU+wkAYPoM7oTbuM7kw7ixwKMskWB6DFkQPpwYA/3H3a/Iz7Mvo0eUe40zhTuF14h/ki+U76brtXvM1+9X//AO4BZoINQtpDNgMNwu7CAIFawIYAKP+Wvtt92H0KvO59KD1Mvcq+BX53vtn/6YCFQUyB8wIPAmiCN8HJAZUBA4B8vtf9rXvAeoU5LTd6tcE0uHNKcrOyOTIh8jHyD7Jw8u2zrrSfNYi2f3brN7t4WblBOl87cnyFviz/E4C4AiXD7wWbByuIWcmFCvxLx40VTfcOKM49jedNgY20jRgMowvGSxuKfknIieKJqAlWyRCI28iMSLIIbEg2x7SG2cZPRZoE6UQbQyUB2sCcf6D+vD21fMF8ebuZu0G7Znt0+4A8dLyQ/Tr9hD7AAHEBrEMWxHgFAgYvBkfHLAcYRwZGpsWMxMPD5kM6QhfBA0Ayfz6+mT5Xfls+LP3Cvf/9q33V/d0+Nf4P/fG9PnycPGT7v7rr+iz5R3iC9+A2+/XLNXZ0p/RO9BY0KDQZdCe0O/QjNLV02XV9Nae2DrbsN0f4M7hBOST5hnqku9P9YD79QAVBwwOGRVGHK4iaShDLDsvrDHXMlAzyTFKL+ArvSiEJnwkPCKrHp8bFBr+GQgbsRs7G9EaWRuyHFkdJB1DG4AYJhW6ETEOuQnjBKIApvwY+JD0yPGS73ztROzO63jrLOxd7b3uKfAR8rDzEPZ6+bwAtwb9DWESBRUTGSEZ9xsNHGIbfRcSE2oOagbcAzkBQv1J9vzwy++X7kzwCfF78aDwhPE/9UX2NPex93P2k/O08Pnth+p65qHiaN6Q2YHVGNJdzy3NbMzOy63Ld8wCzjHPfdAC0tfT+daW2X7bjNzT3ezexuCR5MjnxOwO8pD5JAFTBxMPiBdUHwImCizBMPIz/jZKOVA4IzVxMYwtrimzJS8iIx6EGrwYzxj2GXwbNh2sHX4fGSLVI8ojqyF3H0AcTBloFawQ/graBJz/+vq/9tbyK/Bp7qzsROsj6/jro+wj7k/wUPK08871vfhv/GUBuwbjDKMS6Rd1HWIgCCINI+0hRx+qG7EWaw9WCZYEW/7s9yT03vF+7w7v0vDA8sv0xffZ+lv8KP2x/rP+UPwx+dv1LPHB62/m8ODm2pPVUtHQzd7LDsqEyWrJEMkuybnKScxlzorQxdKk1H3V3tZ12Dnaht024ZvmPOyl83f7FAPyC+QU1h2dJXItHDT8N0k6HjsqOsA2vjEsLfsnviJ+HfUYPhXeEqgT7hUbGAkaYxy1H+QjciZmJ40maiTtIbQecRoIFNYMlgYlAMv51/NQ74PrxeiX5nfljeU55irnt+gV68Lt9+8V8p30C/gg/GAC3AjFD2YWoht9IX8jwCSvJbUk0SHRHGkX0A+6CvQG2QDd+jX2XvXU9Or1Dfj3+T/8C/9cA4gFcAbwBgMGpgLq/sX6YvU87w3pteN93U3YktTR0VnPGs3my9DLJszMzQ3ODdBz0RTTvNTr1ejXC9hs2Ana/Nzq4XfnIe4F9l7/pwjJEeobMCVjLj82TjtfPfc96T1XOwY2vi+9KAUimxttFiESng8ND3UQ/BF/FEYZKR7lImklhScjKE4n2yVmIgMdaRaVD2kI1AA9+rf0Se+d6g7ntuRF4yLjSuPd42zlbue06QPsAe+N8bP03vgA/08FpQvREjoY8hxxH6AhKSP/IdIe0BmdE9MLlwW3AVP8aPY/8mvw5e/m8LTzmvZH+WL8IwDhAnoEKwUBBCYB7vxI+LHy7uy65pTgqdr31CrRyc0+zA3LwclsyVrJMcqpy53McM5Dz0bQDtEM0eHRmNPL1nPbOeKT6RPyo/vVBcMPqRm4IyUt2TT3OdQ75jtAOps2BzB2KKsgpxlSExAOyQmkB9cI5QvqDusS9RhfH38ldykbLFUsZStdKQkmVSAwGXsSNQvKA7r8xPbY8W3tA+r750nnDucs54Dn1uj16rftE/Ak8gj13/fc+/UAzAhaD/sVGhx0ICgkiyR4JdcjRR+iGbsS3gvBA8n+pvqs9Lbw7+6H7/XwyfQH+Rz8CP98AkQGAAifBxYGcQJE/f73F/LM68nl2d8w2pHVyNF+z63NLc2hzAfMX8xqzLrNuc6Sz0TQA8/7z6/PatH11IHaI+KR6Xfzjf1oB9wS9R1JKasybjriPiRA5T+zPaU4oTA6Jw0etRZzEB8L+gW/A/cEHQglDb8SZxktIJklYCp2LeQtcywMKjkmhh8tGF4RxAnEAYH6ffXi8Mbs3OrV6Wnp4+hs6T7q6uq57Azvf/AG8l30tffy+2MBGgrOEYcYRR+aJH8oFCn+KNMmvSFQG/IT4go1AQ77sva48DXs3+oZ7OztqfGw9pn6q/1sAa4EEAZpBVYDhv/u+XH0Se/J6Nri/Nwo2NrTXNAez2HOOc5rzYfNjc6zzzjR7NEK0mbRUdCe0DfQ+9Fq1pbd4OS77Bf3VwIqDSwZmiQiL4I44D9yQ5pCSkDuOzw1sCvRIZMXiw4OB/YBlv7D/UQAHQS2CMcO8hW/HOQhxyXYJ8cnXybSI3wfHhnnEmEN8gbdACf8oPgR9bvxBvAX71zu6u267WLt/O1676fxhvPz9Vf5pf2XAwAL8RQYHsAltitDL3gx8S/SLFsn6B4IFjoMqQF89+TwK+2q6AbmWebC6Jrs//Fk9y/7oP00AOkBTwE5/037e/XI7o/pBeVp363ao9Zw01rQp87Izr3OFc9oz0zP4M4iz8/PnNAZ0QfRPdBG0PfSdtnQ4TnrfvRB/+gKwxZmIl8sTDafPbJB5kEsP0U7LjUjLVwjbRjfDkEHtQIL/9v8yP0oAUoFPwpHEG8WShvXHnIhaiFgICwfiBznF9USyw6VCloF6gBc/db59fUu803x9O4v7W7ssetM643smO9h8wH3d/u2AMoFNwugElQdoyYNLZ4wOzJuMiIvYio7Iz0Z/A8CCEz/YvXU76fuWOwZ6jbrvO1K8G/0fPn/+5b7bPt3+9/5y/dc9XDw/OmM5Prhdt++2/jYNdbl03/S+9Fc0vPQP88NzgnOO85AzjjPqM+v0IPSl9U03EbkJe6e+GED6w0VGFEj5C2hNls9u0IYRF5Bxj1TOSIzCCrAH5sWrg5UCf0EfgFPAHcBoAOJBqsKdA+WE2kWdBm9GtgadBtXG+MYUxShELsNNgkMBN3/ifuf9lDyHe+26zroMec553PnCuou7iT0KPkR/6sFqQqKD6MVzx0QJ00t8DC3MRAwUi7eKXwk0hszEp4KGAM6+0b19PFC8TzvcO7G7xbxvvLU9Jb2pfab9eH0Y/Ob8Fjuuuua5y/jZd/S3CXab9fz1InRFM7Dy0TLlsqNyV7Ii8dmyNXJEMwYziPQ09G41fjcS+c788j9dAhmE4sd7ShpMug77UGhROZD8D+ZO7k1Ui4PJUgbbBI2DEwHwQNoAfoARQKeA4MFmgjlC4oPFBJpFP4USxWfFoQXbxY8E/EPUwzwBkABgfwv9+LwQetP5xzkmuI84x3lnOfF6wbywvlYAVoIcw59EvQVABx5JEMu+zPcNS00TDHGLuQqEiT2GSUPDgcPAGL51vSZ8mrxZO+777/wJ/KX8ij0wPRH9HjyrfBA7urq+eja5dDhd9062zTZDdca1SXSiM4xzJfLncpPyQbIW8dqx9TIPMwC0OzRHtRZ15ne4egd9mcDSA/4GTIlTzAmOkdCE0j2SepHNENZPag27y+/KBwgAhfBD7QLTgddBJED/gKeAfEAWgNPBuEJmA0eEfMRZxJWFTYYiBdPFOkQEQx6Bcf/5/nA8uLrdObK4i7fOt4V4CfjeOZR65TyqPno/x0G6QvREOcV1RwYJkMxwTlxPWk8XDlhNbgvxydwHMcPogUr/qL4J/UM9Dr0rfLI8XzyU/OJ8ljxHvBL7ibsz+qw6eHo/+cT5hzjnN803KHYH9UZ0Q7MF8fIxPrDFsRbxebGOMgQymvNus+a0bHS59OZ1CjbIujO+H4HMRVaIbosnDf4REhNvE05SYJEED9tNjUwcCtsJIEb5BauEwsQBAwAC38IEASlAaUBJAIjA8oGMgwED5YQcxMbFWoVVRQkEQsKowFQ+7j1n+8T64DnD+TH4RjiQuSu5dfmGOmv67/uM/QO+wMB3wWyDaoYJCeeN1lCRUVYQUY8czYTL0sm3xufEAkI3gMnAlQBGQET/8L5n/T58XXvpuvu6B7o9eis6gjtu+5j7mDtv+kE5ADd7tSVzafHk8RWwpnBL8INxD/F+MZByA/IiMaqxbTGpcdOyJvKWtNP4mX2bAlFGkIm1y/9OJNBzkYXR7tE1T/wOmQ2NTXTM9owQSpwI1sbnhLKChsGUgHS/Bb7OP6MA2YJ0hFwGY0csxuvGeMVTRCICgsG+P82+Uz1SPNh8XPvpO066ojkkN5J23HZ7tkJ3SPiW+gc8A/6rQNoC/YScRsbJjAyVzmCOhY30DIKL0Us0SlxJHQcVBWtD8AJswR/AL/6L/Iz7FfrA+3K7qHxG/Sp9Zz2z/bU9Ozv9eo55MTdw9du09LPos1HzNfLlMo/yN7EPsBHvYG8ZL7NwPrDY8eey+fOFdRA31/xlAQLFPEe2iQ1KfIwcDzWQvlCQ0A1P3Q89DqhO0w5HTCSJIcbBBJIClMHIQh4BaUDhweWDoIShhWsGAgZhxahFUsV6BExDuwMBgx7CHEEqQFx/JXzeOsK5RHfjNrT2LbYDNmR3S/lFOyj8en2B/sE/30Dcw7VHlIunjftOS04TjT7MZcvSCqgIVMbrRZNEtwNvwv1BzkAxvYC8C3tx+uT7Lvu5/Go9Nj32fjY9+X0gvEq7ILlyN932wvYitUN0wLQec5pyxPIJcORv568CLyivJq/qsKExwXMitDu2d3rgAFyErwbfyADJNAqBDewQYJE/kBiPr88+DqXOek34S+IIaUStAjNBBEFowaVBeYC2QNoCaIPahNnFEwTfxEJEswURBeuGL4YexVtD2sKiQYHAQf4ge5R5uDfC91E3dncSdtS27vd2OBa5NPpWvB39gj/GQ5UIWEwazfzNpEyry3cK3crRymPJPogGx1AF+MQfgumBPL49e0551bkW+Vw6bft0fE69G318fN97iDrC+lG5tfi/98D4P/gvuAE4UvdINSnzt3IQsK7v5/AcL88wK3DxcgmzG3Nhs6Z1RLlcfmNDqwazB5MIpErzjfZQRVHA0f/QeI8bzt8O2I5RzPZJc4UWwmFBXAGfgbMAzn/bP2N/voDOgvADqkPfg44DvgPDhU+GkUbzhc3Ek4OCgwDCeECD/qe8Gzp/+Rm48/iG+KN4Bze29ws37vk5eq98d/8OQ1QIMQu+TPaMAEstylFLFAxETSiMscsjiMwGVYQQAgW/yn1Rutg5gPooOsA7MDql+nK58Pm0ObK53fn8+jH6FvojuYF5YTi6N6i2qbXRNWH0sHQb819y2vIF8cLxCPEi8XyyR/MJ9Kn39zzgATODGIO+Q4uFwMnDjtVSGdNSEq+Q1Y93DpgPOU4SS6GH3cVhBDyEB8QeAqr/wf2y/Kb9XX7pQHwBEgFXAU9B0UMdhGmE8QQsQymCuoMrQ/aDkwJXgC79vru7+uu6vzoEufQ5Anig+FG5P3n1OtQ8gb/mBCyH0QmqSOuH+MfoyayME443DiSM8ApoB5jFVwP/QngASP4a/LQ8NPuJeuP5RfgOd1D3tDh8eP3483iwuDE4DnhauIr4XndHtlx1k7ULdTc053Szc/OzWHMAst0yCLI3sduyY/RBOSu+TAIiAoSBoMCfQoQH083TEjpS3pHoz9HO7c7HkATPqg0jyY0HlcbVRujGFEPtQIH+HL1C/o7ACwDuACW++z57f36BSIOvhGfDt4IJgaaCOMMJA7oCl8E/Pwg9530e/ME8FXr5ee85qXnc+q37LftPe0s+EwPTiKeJssdbxY+FcwhfTTYQr0/rDb8KMsaaBPaFYUYfA7i/6f4wvbi88buN+dp31jaoNwD4vHjruKc3zzZdtUa2gPgIeIW3UXZVdST0FXPYNDv0OrPVdBczRvKLMbQxrTGoMgO0X3kmffjAvcCbQBPAHALKSDbNk1EJEdvQyQ7ajiFO4BCvEBxOCYumSerI/MgkBuLELUEEP4Y/1UCDQVTA7/9EPY58wX5lwJ7ClAMdwm4A4MAEgMcB9AHdQbhAkH/lvs++ST24vDy6nfn9eZQ6EHrHO2i67Pvof6oDhcYHBb2EL0N2RbzJ8Y42j0uOQYvPiKcGhUb8B/ZHHISXAhsAZv8IvcY8F3nJuIV4QDkZOV24yrfS9ia0xnUytgL3TbeD9yV10nRxsyRy8XNc9Hz1ATV8M9Sx63Bp8HwxdLPk9828Mz4b/nV9Wr2yf4IE2sqazzzQ1FDUzyzNHg0MjybQ1lDAj6INZ8ssCQPHrMW/w1fCeEJlgsSCzoJyQI8+WHz/vUQ/mQH+QxKDHQFdv/y/qEBrgQpB+cIHwZ2AOv6n/bb8urvRO5F7aLt7e5h7uXq/eVB5sTsEQIwKshBQjLSB9zv6PfYIpZTV2oAUlEoAAvj+3MCaxt+MYAkBAUf82T0qPRy7qHjyNhi2WTmg/I57jvfrc36vuq78dDM6QXxduGXy7i8ArplxOfRTdin07HPKch0wVq/Zsjt1ZvhA+0296L6SPj+/DYHSRfPJ886AETvQb45GzhLOGA7yz0+PW43IDHYLGYlRhzEEz4OWQfCBFoGAQxKCiACKPt19rH31P57CP8LnQmDBY4C0v+/APAEaAe0BaICe/+N++r3oPMo76/rXutD7Z7u7O3f6w3uk/jyCNsRaQ8YCtwJPhC2HpcvhDfSNBQujSbPHbIcPCLyIRAY1Q9BDJEItACC+fnyGexI6dnpneiU5Wri8ttc0xTQ99QT2ZDXgNQx0cHLScm0yaLNMc/J0sLRAcxCxIbEM8dRy9bUouT68CvyhO756nXvWv3nFUIrljZ3OFc0dC04Knsyqz7zRdtBTDt6MSUolSGfHYkYUxKTD7EOvAx6CaYFRv85+F32v/uuBHUL2AwWCF4A2/ws/2YEUQq4DOIKeAUW/zD6UPdc9UX0AvOP8QXxO/DL7S/q5uuY9CcA2AnnDckMBQtaDcQTjh21J+MuyS96KkAkJR75GrYXgRRIFOAScA8TByX91PKs7FTqPuzR7LbrVeYE3xbYJdXB1f3WlNYt1gHWh9GgzS3KmsndyFDMC9Dl0dLPVMwnyCjEfcke1w/pEPQa+Jj0Nu9J8aL/fhXxKGw1jDm7M0wsrSrzMSU5XT3+O1E3bC56J+AhmhoYElAMCwssC3ALdArSBWf9UvYY9fL5SALPCcUMuQnyBEMC5QGiA1oIJAyQDBgKEgZEAJL50fR/86vzg/Wn9gv2HPJ67dLoDOg17E/4OglWLm9KaDvcCyrpO+5PF91UF3aQY0IrGANk6C7pzgroMQMxtAtH78rpXeq06VDojtyF1z3kRPMw837nXtf9wGmwXMGN5dH2JO191be9NK/9trTLk9pI2i3Xts4jxNzEFtj66THxhPGW9j/8qQVXFBsi2yUeKJ0uSDSCOEg+SkXaP+w04SygKkAmNCfPJ/wgQRNzCX4GJAIY/xEAXwGw/az7a/zD/FH98f9bAq8CtwR9CkQNQAuNCMIGZgSdAq0CSAIcADf9ufl084juXu4470TuPe2p7k/zxf9tDwIZjxWpDwMO7RLwH34xvjvEOF0xdSbBHNMXABxQG3YUUw2sCeMC8fql89frAOQD4sTlUufq5WDjzNwn0gvOpdEr1/zXENhV1bHPfMoFylfKn8rnzvfSB9ERy8LH6MZoxc/OReB28ij55fmM9U/zr/reDW0l4TPePdE9KDjYLiYwjzf2PG87UzeLMCsnnSBxGxEU6gmPA08B6P/iACQElgHa+eXxT/AA9R3+PQdaC3EJAwZOBIgDlQWjCcAM7gvKCC4FNACl+174xvTU8IvvYfHN8drvYu2Y7GDwKP0OExQfjh1qFcYQ3xGLH0szQUB1Pyo3IyuEGtwTHRcwGYIS+QsIB08AU/cL8SHpGeBd3YDg/+K95KHlOOBt1FfN88/71B7Zu9v52XrSr8tzyorLw80a0tzT888byTTIoco0z4TYK+Z/8LH0jveL+e7+pwidGwAr3DV8O1w8tzZIMv81ZjtePJU5mjX2K5ghohucFwAPtwZdAvD+Pvu6/Bz/9/w695b0+fQq+L//MgjeCw8KYwjcBgMGJQimDBIO6Ap1BnMBDf1g+ij5nvUm8Q/uHu346znsWe3w7xf30gUEGbYhUB8CF9IRuhTCJEM4n0JZQF81SyavFgMT4xX9FaoOggi7A/b9CveM8NfmzNxV2gLd7+EA57roMOGv1LTOedCm1JLZTd2M2tPTZM8szgrN282r0LjQL8xvyvPLN87K0HTa7+Y88eP3XP1EAV4HTBNtI/suwDjRPSI9DjZeNPg3QTu6Ofg1EC6LIpgadBZmEZ0JxgOv//f5b/fd+rX+4P3D+nn4cfdM+gEC5wlIDRUOwQ3CC0wK9gsxDtAMaQipAwD/ufvB+mH4jvK07MbqZOqm6w3uYvLD9+YCRg9wF3gZeRp6HXQgOifYLlA23zaCNawspCOfGwMYohFoCX4EVwK5/nz3vPAs6R/id93n3evf7eKG5F/i59tR1xLWT9X61fHXUNn41erSf9DzzyTP1M+Sz7XMoMkzyQjKdcxa04rfS+yX9UL7LP9mApcKGhktKSE1Uj2YPx88YDaFNqs5Izo0NqIvuCXJG40VHhGrCnECifxj+Kn1OPdD/P39v/vX+Av4qvmx/0gIjQ4SECQQ+g+CDhAOjQ55DXIIHwPP/q77Nvp/+B30Pe0y6NfmHuhA6qLtK/BQ9CT+lQ8+Ib8ozSeQIhcf7iJ5LlE5sDz/OPwvMCMdF6ET0RBICF78ZfVM8jTwee5k6/Hjfdzo2VTb1t6s4xXm2+G62iPXvtd2193XVtgY13nTn9He0fjQ6s/vzZ/K6cS0xCDIRc9e1yfkyO5j9pv6SQHfB3wR4B58LNc1ETy2Pjg9Vzl6OX06kzfkL4Eo0x8aFywQqgs0BVb9MPhc9YrzVfXA+TL8x/rH+Tz7if7DAyELtxA2EzcUjhR5EigQpg4vDFkHzQJw//D7y/ej9Nnw4ut+6MbnFejM6TTtkfGS9yAEdhbEJpktYy3GKXAmPyjFL5o3nTnRNUotaiJHGKMThg0eApf1S+6B6xLqQOoB6prlQN+k3FLeWeFj5Nnkt+BQ2+XYrdqg3Avd3NsF2MrThNH00RrSHdEDz47Ka8ZQxQ/Ius3I2ErmIvKQ+p4B+wbSDBoWLyTcMJ07QkFSQng+9zuEPCs7njUsLQkkMxj5DrUJsAbOAKT6sfVt8oLx7PQF+cD5bPiY+Zv8EQIPCiUS5xUzFW0UnRONEh0SJBE3DcQGlwBl+2/37/Pk8LLsZOjy5SfmI+ch6ZnrJ+798Zf8UBYtL3Q+jzwaNH0o9SWALLQ11zfeMrArgx7gFKcQtA94AvvvTeLQ3jLfh+NN5xjm9+Br30vg8uLP5V3nROG819rUs9n03TffH9/Y20XWRtPt0wfTG8/5yrjGbMKgwxPKzdGh2N/hD+4N+D4BNApOExcbUSVcMIA6LEEWRG1DaECrPkA82zaKLf4iRhcoDdUF2wLN/pP6+/bW9MDy7/OM90T62/qf/BIB/gXuC6sSFxhMGZsY7ReUFqQUZRI6DlsH/v8W+vP1kPJi8PHth+rt5mblj+Uo5+vpY+788ywBxBi1Li48vDvZNxAwaS/wMQo2RDIXLFojfRkQEz0Raw8iAqnx5uQs323cft7c4PPhfeEa5KHn2urt6w/pi+Ab2BDWp9jN20HcTtvF15bTI9M41ATV4tCMy6DEn8DCwCbF2sy/1dDhpu2m+bQDEA5pF6cfmycgL1Y4ZT+UQtlBL0CLPyU8BjahLLQhJhULCucBkPwC+DT1nvMs8yT0hfcU+3j8f/wm/sgB/QZYDaMTQxgFGhsapxmoGBoXphNuDc8Eyfws9qnx4O637P/p5+e45hTnBugm6t3rJO8g9FAEUh16MeI6XjnBN3EzJDbHNgk1YCogIpAYOhE+DtkPoQvc+2zsJuWw4n3fWN/g34HfCuCF5Zjq2+0C7qHq2eE03P/be90A2qnVrtPR0dDQitJx1gnWItHKy7rGMMNUwiHGSMts08XfyO6u+60HKRSpHh0mvS1nNXE7mj3EPSg9CTz1OwA6GzXUKrcfLRO/CKD/V/on9VTxMe808ObyWPjH/j0DTAXQByoLxA6xEcEU8RaTF+wYYRrnGkYZmhULD+YFM/369QTw2uoh57Tkx+Oe5ETnfOoL7nPxpPVc+tkFNRq+LN44UjtYPBg6/TrgOsA2MSzzIG8WwAw3CLMHSgU++b/rvOPw4JPfZOAN4YTgJuDH4+3n5ut/7gTu/eeW4k7haeHr3YTYydS50V7Q7NF+1DDV19BjzPPGLsSMw03HWsul0f/acej49ZUDcRFTHoYoajAvOFE+OUE8P+A8cjneNz00jTBcKKkenhJJCVYBSPz79kHyU+6s7Ebu8/Ks+eb/4wTtCIQN+RHlFXoYdhmqGC0Y4Bd5F+kVwRLtDXMHCAD0+J3yz+yN5/Li/9/K3xLiNOY960bwGvXS+gEE2RZcKo04mj27PSM8DjvAO8w32C5QIhMYQA2xBzkFFANX+Wrsp+L33v/dR97o3ubem96D4cfmMOui7WzuIOuj5fHjduRW4rrcBdjF1OPRedEN01XUEtP5z6XMgcirxjfGGcpWzrnWKOL575v8+gonGTUmDTDROB8/+kEwQaY+5TqcN2oz8y03JrwdUhWtDXoHbAG/+xb2sPEV75Lv0vLD9x78OwC+BKQK3BAaFrYZEhwPHAYbgxkkGNgVCRKYDVgIqAIU/YX3mvH465bnnuTw4gjj6+RD6FrsT/HA99cAZBHKIy8zlDvMPgs/Bj75Pdk5jjFbJbsaQhC+CTQFSgJa+oLvqeal4hzhNeBN3yveKd6631Lj4OcD7JDtJO3i6crnCOZU5X/hwt0M2VrVPNOr0vHSR9E/z4/MocqzyK3IzMm8zY3TKN1o6JX19wJOEeEdxikGNL88NULxQ3FC3T66O+E2BzCrJmIdjRPKC6kFaAFV/Ez3tvMQ8T/wqPLK9v35b/zz/wgFJgt0EQ0XBBvvHJQdJh1UHAkaaRZDEcwK+gPg/R34SvLV7Nzne+Q246/jqOVK6Mfrqu9M9Jv6YAepGe4pQjWnOiA+Kz6wP8Q9DTfzKuUfNxQnCukDoP8K+TLu2eaC4tDhHeIq4lLg6t4M4EnihuQ06GLrVeul6cPp+uk96SznAuTX3yrbHdjW1I7SFNGWzzDNUcsvynvJz8kEzUzSr9og5dfw0PzfCaAXoCOJLjE46z9VQy5EUkIqPxI6dzMAK/MgUBg+EI0JNQMB/nv4IvTG8cjxMvOx9VH42fod/j0DBwnADmoTBxd9GV4bkxw1HKcaKxhMFPIOKwkfAyD80fSl7rTps+VS4//iI+QR5pPpQO5783H5bAMaFKAjQy93NcY6fTyxPg0/uzp0LxAkFhpiD34HcAGI+u3uzuYk45HiS+LV4jbhs96T3wrjs+WE56vp+ukM6OvnuOnZ6U/ntuSx4cfcNtm71l3U/dFE0KXOssuKydLINcl/y1jQ+ted4ATrCPcQBNoQvh3CKcYz6jvTQQdEb0MGQco8czZdLuYlGR00FMUMsQUCADD6aPZD9Ejz6/Ot9dD3x/nf/LQBqQY6C6IPrBPSFk8ZlRtyHPUbRxpYF/ISaQ3QB0sBPfpI8z/tF+ic5AbjV+MM5TTojexL8a72BAAfEFsffCpWMHI1LzhtO3w9SToVMbEnYx9jFTcNZQZM/tXxqui/5P3i+OHO4azgMN9m4A/kFeaN503p2+nw583niuk36Y7mdOTa4gTfcdt82SbWs9Jz0UjQSs2Ayi3KlMo8zCrRu9gq4IHomvOe/14MTxkqJlwwRjlxQOZD80M6Qgc/5zhvMVApECGUGOcQGwlrAgv9W/ml9vD0KfUO9uv29viU+3T/sgOpCNAMFhCAE6IWVBglGfEZgxnkFxAV+xC5C3QFAP8J+FLx/uuI55HkeOPx4/Ll0ui87S30+v8GD0kcOCVWKwoxjDRUOA05ljXXLRMngx7IFQwOcQfB/bzyQOxQ6FvlLuK+4NbeKd6Y4LzjfuWv5v/nd+dT5vXmY+fC5fTi5+Ch3nXbn9nx13vVVNP/0WvQhc24y77KcsvqzRvTUtlF4A3pHfRtAB8NwxkpJf0uijeuPdhAcEE4QHs8nzZ2L9Inox8NF4wPvgd5AZr7TfhT9Rn0DvSm9D72FPg1+6r+VwLzBUcJ/gxCEFITiRXoFr8XxhfdFpwUdhEUDQQInQLb/Ib2wfDJ6wroEeYT5gXnZelo7ez00wEnD1AbQiPdKkswoTX3ONM40zPtLcQnfB+pF0AQhwkW/8/2zPAn7YnoPOXG4qjgYeAs4mTjBuQb5YHmHOY55oTncOdU5X7jI+Kp363cUNv+2WzYz9bQ1WfTT9B9ztLN8s5o0Y3WMNzT4nTrofaxAiMPNBupJo0wzzh0Pr1BgEKyQdo9czhtMeMpMyEAGeAQdQnQAmP9d/mu9nb1RPX19Vr2s/eU+TL8O/9rAvMF5Ah3C1sO6RAoE78U8BUiFscURhJ8DvIJ6gSv/zT6wvT37zHsMOlw5ybnwugQ7HP01f9CC14U/BsuIxkpjC9jMxAztS7SKjQlMR8OGMsRVAnZ/0j48fLT7kvqtOZX4z3hn+DP4IngjeAN4fzha+Fq4hnjwuJT4SDhn+Br3mfc+trd2QnYNNfF1fDTndFu0P7PidFE1bjaIuC+5pvvtfn7BAAQOxv2JGEuKTZxO5U+eT/HPuA69jXzL80pDiKwGj4TjgxCBlIBx/xd+Yf3yPac9qr2g/ew+Ib6/vzr/6oCpAWlCLkLdw5OEXwTwRTDFNYTWhLHD8sM9ghqBBz/Svpd9v7yEfD+7Zbsqex57hr1I/8vCZ8RAxiZHq4kbCuDLzEwtyzaKVslNiBSGsUUdA1JBB39RffL8vftX+qm5njjEOK44RzhW+Cu4Dnhd+AP4aDh6OFE4XbhkOH03xXeXNx121Pazdni2M/WR9SD0krSN9P21YHa8d/E5RbukvdFAtoL4BUBHwQooC+nNX05wTrtOhU5BjbBMGwrNSQmHc0ViA8DCWcDrv7S+g/4t/Y19n31UfXX9T/3p/jH+h/9mf9MAoMFZQgvC54NvA/yEBoRshA5D/UMKwrEBtICrP7X+mD3lvRi8qTwn+8l8B/zHPqzAjMLsRGuF3wdZSN4KFkqDikNJpUjiR9FGycWERGNCfgBCvxe95vys+3D6fvlqONw4ojhW+AZ4FbgdeBd4Pfgr+GO4Y7hI+IJ4lvg994i3nXdwdwK3KXaJtgi1l7VMNWH1pvZ9N2L4pfor/Du+ZMDVg1CF38g+igzMHA19DfoOYY6CjmGNSQx6ys4JYoe6xebEToLBwZlAQ39Ifqt+GD3DvZr9dX1ofb196P5avt7/RwAJwP1BSgJHgx+Du8PqhDyEEsQyQ6kDNYJqQaVA0wAIf0w+uP3UvZX9Ub1YPf+/CgEsQrdDyoVSxoxHy4jTiXTJMIidCAMHWcZxRTdD0cJFgPK/WL51vQG8C7sdujw5YjkF+OI4Z3gzeDJ4E7hcuIZ4zTj8uJi4y3jY+IY4cPfMN+O3grettwi22LZudiA2FvZKNti3oji6ef07jL3RAD2CFMS5xqkI+wqnDD9MyA2BzgxOJI2RzN6L00p6CLTHDcXFxF+C2wGjwFI/fv5Gvje9tv1AfQl9cT0U/Vp+lj7rfxe/9n/aAKqBHQInQwiDo8QcBC1Do0LUwqNCRgIrgRoAYD+GP3o+qP5AvjA99r5Sv8CBS8LAA93E7gWMRoBHTQeMR3ZG+Ua+hfuE9cPmQyRBscAafyg+FD0ye+R7Djq/+dy5oHk7eLf4Q3i0+J64zfkLuSq43zj7uPh4w7jx+Fs4OPe5d1S3VXc09ov2dXYk9iw2N3ZS90/4fXmye3B9W79SgUgDjoWih5EJm0sbDAkM8Q15TYiNjI0GTG5K3Ylox9WGkwUmA5QCYEDAv9r/Dv6kPcv9mv1z/Rx9Ir1qvd6+R37xv1kAFsC6gTzB0oK9gu2DQAPPQ/CDigO5gxaC3wJygYDBMQBMgDS/ij9sPvQ+tb8AwHKBZMKmw7OEccUIBh5Gggb4hlXGBEWVxNJEMcMhAhyA6z+P/p19nry9O766/jpvuiY54PmUuUK5Trl9uTg5BnlveRe5KvkbOWE5Jbi8OBG3+ndbt0H3bfbgNlC2AXY8dcI2UDbIt7i4Yjn6e439gr+LAa/DQMVWx2DJQEsdTBoM5o1QzbVNc8zFjDfKjglwh/dGdITQw6SCeMEwQB0/fj6UfhC9nb1gfXO9af2Ifhz+Tz7QP2D/9oBmwSiB3QK/gy+DrwPKhC8D4gPpA8mDhcMYQlfBnQDyQDS/sf8xfq3+c/5qPy4ABEFsgjgC5cPChNxFjwYRxgfF4kVAROwEMwNUQpyBXIAxvvH93P0gPHr7iTszeoF6vzo4OcZ5yrn8+YQ50LnFuep5oPm4ubO5tHlTeQf4uTf7t7S3i3e29zJ28Xagdp22rXbi90O4IHkX+oA8U/47f/bByQQlhhGIYApoi9XNC43HjnBOWg41DSEMB8rdiVeINgalBV7D4AJCgQIAPf8pPp5+IL2PfXn9N31+/Zu+Ab67vvJ/rABfgQgB/sJmwy1DtEQwRLEE+cTMxOdEeMOoQu/CJkFcQI//w/8qfh/9W7zRPM+9uv6rf/tA7EH0QvoDzQURBcQGI0XLxbPE0MRDQ/TC40GzABr/Mj4bfVb8p/vrOxb6qjoKOce5kflWeX45Ovkw+RE5M3jvuN95GXkReMs4mzgdt6A3UDdNd1G3A7bLtqF2eDYA9lN2lHcj9+V5BzrfPKm+hgDhAuOFNgdUSaOLdUyaDY4OLw5rTmXN64z9y6qKW0jXR3zFjoQswk4BJP/9vs2+Qb3HPUF9Nnzh/Rn9Wj2Lvhw+lP9vwBhBNAHbgs0D2US7xS4FsEXfxd0Fj8U0xCHDCMIOQN1/vf5/PWk8pvvOO0H7MjsxfDV9ir90QOjCS4PGBTlGMgc9x2SHXIcWxo5F6gTug/7CZwDbf7s+bj1X/Hd7Vvq6eeV5tHlOOW45MHktuQv5Znmt+fe5zToNenx6crpWunI55jlduPz4RPhFt8f3Q7bONm41/fWitf02BzcfeEe6PruHvfg/2EJ4hI6Hd4m6C8WNw88Ej/WQMpB6z9LPPk24jA1KZMhZRmoEVIJKQKi/Mf3ufR88kTx1O9L73rwevIr9ef4ifx0AGgEYQjADIsQ0BTcF2kZ6BmwGo0YqRTNEEANygg7A+L9xffK8R7tZupi6AXn6uWv5rvpxfD7+TIDUgvuEf8XQR0DIr0kjSSqIsIfmxubFpIRFQwwBfT9Jfjx8iHuyOmF5ujjKOLb4bzhVOIO43nk4eVU5+Pogem76WrqV+uk6/3qnulN56LkXeKW4G/eXNx72m/ZB9iI1yPYA9k92l/dSuNx6ubyZvwUBlQQDxtfJtMwvDnuQEFF9EbAR8ZG2EIRPOEzCyuVIbUYWhAyCI7/k/iw8xPwpO0n7dTtwe7d8AX0fPcv+0//ZwOXB2IMShFUFQoYdRpGHP0coBz5GqkXkRJKDNgEmv3T9oXw3+rW5fvi3+Ho4RHjSORE5iHp1+7i+DoEKQ+QGLUf4yRLKYUsdSzYKfElsyD+GQMTowueA0/6hPGK6yHnZOMO4FfeQN2W3WvfseH346Lm0end6xzuv/DV8VrxUvGR8UzwvO1p69/oOOU74fLdQ9vR2KHWNdWR06LSg9IN05PV1dpS4sDqQvMX/rEJRRW9IUkufTmoQuBJeE1ETmlN0EqlRL47iTGTJlUbQxHQBwb/ZfYj8IbsIOqV6bfq3OzM7t3wUfN896b8mAG3BgwMzRAsFT0ZeRyVHmMfmR4oHLEYBhQHDhkHTP9Z9wbw1enx5Png7t6W3rjfMeKN5cHpFu758l37dge7En8cyyTdKpourjD0MKst5SdfIbwZahCFBzL/X/ah7D7lKOAw3IXZEdmX2vjcCuCk40nnW+rQ7WvwQfKS9Ln2OPdJ9jH21/X487Hwku1A6fHkeuEf3+rcr9qW2PzVCNQu04DTytO01RraAOLB64P31QN3EGod+irbNxVCPUp8T8ZQT04JS5xG8z4wNFUo2xtaDzgE1/oj87fssufI5MLjgeT+5nHq+e308f323fwfA4UJsQ9qFc0alh/lIhMl3yUcJZIiMB6QGCsRmgi8/7f2O+7i5qzgYtz+2azZiduS3tPifufp7ADzUPnbALQKbRZ4IOQoQS8bM+g0OzRHMYcqZyFsF4MMvwHM+HLwxOdN38fZ99ZW1gLYn9tr313jfOjS7YXycPZt+i790v49APUA1f/6/ZT8D/r+9QnxA+ye5kDiVd7X2rHX5dT/0cfPUc4dzo7PL9FN1cvb0+TV7sX6WAZREvIfpy0WOjxE5kuKUG9RcE7ESYVCuThDLBIfORLiBUf7gfIj6+DkvuB/337g9OL45jXs3fKb+eYAVgj3DjEV/xrwHwkkrifCKcgpUyhxJXEg4xj+D0IG/fvu8QfpSOGy2lLW+9OI0xHVyNjM3QTkz+or8tr5SgCsBrYN2xaeIYwq0TC5M9oznzH4LREoqx6mE38Ivvwv8mvr7uVZ4HfbANoM28bd6OH45qnrnvD49ev6YP8mBP0GHAc1BowF3AQrAvL+ifsM91TxROwM6EXjg95H2fvUXdHlzzTPFM6ZzUnO4c+b0kvYQ+B56WHzav4aCnwWLiMiL7M4J0FLR5ZJkEj0REc/1jbnK+EfdROmB2T8DfOF64zmh+Mi47bk8ufG7KLyavlXAB4HEA7oFLUa4R83JK4nfCnsKWopzScfJKcehBdED+oFV/xm8vfo7uB/2vzVB9O+0kjVzdm13vbkFuyV8zH7KQLWB3EMEBCMFDccESUuKwEumS0UK5QnzyKbG6gRDgfQ/MvyoOtS6HrmFuRw4kfjK+ZJ6k7vZPQ5+BP8IwCrA6MGZAmeCi8JHAd6BS4Dyv/Y+0P35fEJ7FLn5+Lz3AXYg9LkzVDKtMlqygzK98qfzCPOd9F12Kvh9+qu9M/+wQjcEzMfACsqNWA8f0GVQ2xCbT5+OFowEiZ0Gy8QpAVe/J/0F++m61nqX+qY7BnxgPYX/MACnwlAEJoVQRt2ICokCCfmKNMpoihjJgQjmx1IFhkOGgU3+3DxvugI4ZraS9YV1MrTldWm2SHfTuWj7KH02vuOAmcIMA01EDsSJxQ4GA0hwyhdLDUrKShzJDIgdBt6E1gIc/5F9nnuo+rY6hTsoeov6qfsJvHB9dL68P5wAe0DlAalCJMKYAyaC/kGpALS/538afdI8oTsSeXz3kLaAdby0T7OEctux7XFPsfPya3L982r0DPTWdek3v/njPD5+bQD3g3IF/kiZy2sNqk8R0A2QKU8ADcoMJ8nPh1nEgsIrP7u9m3yqO9A7sLtk/Cz9ML5eP8zBiAMOhElFgYbIR+1In8llSaBJX8jvCBLHEEWQQ8BB5H9ZPQJ7CzkRN302GzW1dXu1k3a295e5Ezrc/Jz+Q0AIQb8CigO4BAFEykUPRYWHAEkryiFKm4pbyU9ICsbvBTaC8AClvuI9QDxivBC8eTw3O/d8Onzh/fN+4b/uwFTAxEFkAXfBbsGlgZyA23/yPue+Hf08O+16pfkgd552lbWuNIOz+jLq8j6xnjI7cv/zvbQJdJa0+TVKtsV48fra/WY/sMIkhOzIOEsNzcTPqhC/EPhQg8+wTfwLnEkJhgoDfEDSvxq9v7ycPEQ8WvyXfbC+yQB0wZKDFkRsBW5GucfbSMtJVgmMybNJEEi7B39FyoQaAdU/qv19e2k5jzgo9to2ZTZPNvo3onjvuhe7vD04/sXAtQHtQxqEPoS0hQVFnoWFRiYHRckHifGJnsjMh68GIUTQg35BFP9lPeO8g3wEPHb8l7zBPNh9L/2lvmE/XoAjQE0ArwC9wLFAkAD2AKm/gf5NPUk8kDuJOrn5dzgQ9sr1/TT/NBJzsPL3cj2xifIMMtLzmXQQtNg1dzW8Nnj4JjqOfXHAKcLmBVZIC0sQzYUPbVAU0FOPYs2JS/qJyYf5hSbCv8BuPqA9sv02vTf9N31xvgC/QoC8QfMDU8SLxbXGREe0SFFJPsk5iMqIVsdXxhREuIKZALv+A3wMOll5MLgpt4R3qTeQ+BP5AHqhe809T779QDmBaYKJw9eEpYTqBMoE0UT3heqH3wkKCSOIIQadBQQEFILhgON+7r1YfFU7+DxR/ZV97j1uvUL+Iz6EP6nATUDFAPIA04EMwR3BOkD2/86+VD0l/Dt6+Tm5eLG3THYYtS40tDQF8/hzdPLsskRy1/P8NGY0xbVQdey2D3caOMm7Db14v+KCtUUBx8YKwA1QzvGPbo+DjtYNXMuNCdRHiYVfgzaBBH/xvtM+n757Pnb+l79DgFNBmELKhBFFU0aAh72Id8ldChNKIomJyP5HVgX1Q9oB/D+kfbt7pfoN+S24YTgQOB04ezjROfo6ybxFvbV+tf/oQQHCfEM/A8vEW4QFg+GDe4OBBZ9HE8euBsdF4MR+g1JCyIHqQBf+yv3L/TG9L/4fvup+i35tfmA+xn+4AHeA2EEkgQ+BJ0CowEDAoz/Z/jY8ZntpenG5QPjL+Cs2+jXNdYv1DDSNdGdz37MI8vczj/S3tPW1lHaCNxh3ZfhIem38SD8KQe0DwAZbSM0LaozTDkRPLE7ETZRMNcovSFSGggTFgsCBRQBDf+0/Sb+pP99AM0CNwZ4CssOEBXWGtsezCF4JXonRyegJYsi4BzEFS8OmAaW/g73RPAi6lDlj+Kv4ZPhz+IB5eLnk+ti8D/12PmH/lYDBgc7Cv4MDg6cDX4MNAxyDxMWcBwqH9IdURlKFE0Q8wxGCAQDev4A+t33PvlN/Xf+Y/3N+0v7efuP/SAA6QFvAoUCrgFrACMAVf+7+7j1NPBX6/zmwuPX4bvd4dnc1kbVZNTc02vSxs7ryyXNk9Bv1AbXL9l92pjb4N0M49jqovNa/Y8GsQ9bGvIkfC5VNFI4yTj1NpQzXy6dJzQgRhkaEl0LWgYyAyUACP/W/gYAvwCRA6QH7gvdD+AUsRmDHbogLCOpIxAiWB89G3AVzQ61B0YA7/hI8qnsoefq4z7iZ+Fr4ZjiCuX/58bqyO4A8473P/wZAfcEAgjUCYEK/QnnCMEIYw1WFSsbIh12G2UX6RJAEKkNRwlsBEwAMvzU+X775f4I/zf9CPwE/Fv8Xf6rAAkBoACKAPn+1f1D/sT+hvpx9GzvdutE59PkuuNT4afd5NpL2BfWXNWf1ArSTM/+zybTQNY82Knamtv92xLdcuJ66n70Bv/ICGsRdBvAJSguVzTkOfs73Dj5M28vMipnI44dexf+D/kJ4AaeA/EA9QDaARsB2AFJBqMLZw8PFMkY3xsjHoEgNyHbHgAcJhifEbgKAgW+/rz3BvLf7ZXpnuY05uPlVuWg5kbpDeuM7Tby6/ZI+jH+4QJNBqAIrQobC4cJGAgmCQIPxhfuHS8fNxyVF0YUphHGDXcIsAMAAN/8uPyI/9gByQCe/Tr7Bfu3+zX9Yv7U/jL/Df9+/vb9Iv4G/PT2LPEK7VDq0efL5e7j8uBV3sLbm9na2OzWAdQF0XjPCdCC06zWGdlY2mTbxNun3ank4OxE9dX9KAiKEjsc5iWyLi0zFDeUOE83XjROMfAswCTEHK0W/xDdCu0F5wHs/qv9F/4B/jT/ewM3COIKvA6fE+sXFBroG7YcTBvCGOAVYhHGC64GgAHO+pj0rfCB7VnqOuhJ59fmu+et6bHr3e2N8av14Phk/C4BGgVQB70IhQm9CLoHpgf7C+4Vwx6FIhYhjRzGFxsV0hGfDNwGZAJZ/n77C/2tAJEBMf6m+Uz3Efco+Db6H/v/+5n8FP10/c/+PwD5/Gz2B/Fv7TPqVOce5s3jJuB73WTciduQ2UrXB9PCz1vPqNIs1RXX5dgD2x3bKdx64d7phPOL/mwItRHqGwUmfi5ZNOk63D1LPNg4gDV1MAMpLiEhGfkQ4QnRAx39nPjq9yP4mffV+Gv8xwDYBDsKvA8AFBMYIBvWG5Ub2xtUGvQVnxC/C+gFJf9Q+UH0b+/O6xjpZ+aF5dLmaOgj6bnqCe6s8a/1V/r7/qoCQAb/COEJCAoNCqwJKAtIFKoffCWzJZMhQxstFgUTgA6DB6EB9v14+rP5Of34//78uveh9KLzX/Tw9lD5mfpB/Bv+//2H/ogABP+C+Ajymu686/Ho0Oay5O3haN6A3aPbsdnA1kbTnc3UynrNjtKF1JrWGNgh2NHY092V5r/u+vgYA9YMPRaoIpIs7TLIN4I9YT3SOQY3kjNlK7kheBmoEWYJsgPJ/sP4C/Yx9jP2jvWn+BD+ZgIZB9UNDBN9F9IbqR68Hu0e4B6SG5wVqhDCC/UEgP5d+QX0W+887CrppOaM5mLo5uiR6UDsBPAS9CL5gv7FAr8GlQppDNsMRg24DYINwBOYH+wnjSnFJSQfThjEE9UPiQlkAvj99fmO93P5v/3B/e/4E/Vx9A31x/fp+37+2//8AMgBgAHPAZ4Bbfy59DfuDevJ6K/mmeZn5H7gjNzs2avX1NT00WTP98wzzkzSrdW51j3X1NdK15DZzOEP65Xz+v3aCaIUjx9NKQMx3TTzObA9HDxkOFE0aC4TJWUcQhWyDcMFZ//t+N7zc/Iy85zzOfWb+cD+9wJbCZ8QrxbNGskdBR8XH3wfrx6EGqIUwg6TCNwB5/vT9onxkeyD6CTlwOOe5OPl2+av6Ivs5PAO9k37lwAuBdUI1QpmDGcNzg2rDWMSAh5oJwAr6ic3Id0ZexT8D8QJhwL5/GP4cvVO9837XP11+f30bPNh9Aj3oPos/Q//KQDvACgBDQNbBMUAH/gO8SjsYend5sbli+JO3vTabNhx1qLVTtRN0NPLSczJzy3S/9OH1lHXZ9jd3MPk5exA9hUCZAyhFWwfHykGLyc0bTkPPuA8azu4N0UxzSe5H9QWFQ7iBcH/L/kg9az0g/Wr9Rr4a/yIAO4E/AoBEYAV/BktHYYeox9qIasgzBwlF7oRgwq7A5X9Yvcq8Xvsduiu5bjkwOVn5uLmzeha7Anx9fXv+oP/NgS/CJwLUQ2hDq8PdA/rEuUd+iVVKocpqSNXG60UGxBdCaUBJPz59sDyMfRj+OP5UPdM9HzydfFa89v3qfrW/Cf/bQD8AHABWQLL/lv3fvEc7Zvo/eUo5f3i+d4C3KrZbNa70/bQQM6cy1TM5M2v0BPSE9Rl1ffWDdyI5BjuZfa0/+4JPRQGHtcmDi7eM0Y5jT2NPe47XTiXMiYp6B61FocOcAbA/sH4lPS78+X0R/Ys+OX7OwDpA6IIMg9FFWcZ/ht7Hnwg6SEmIoIfexqmFDEO0Qat/4L5EPQh7hHpKeY45RPm1OYh55noPOy/8Fz1P/q4/5sEDwg6C6UN0g80EZQVQSCxJ0Ms2ixUJ/MeKBgVE6wLbgPB/d33vvI980/2YPfn9HzyHfEP8EPyRfcG+hr8W/4gAFoBrQNTBX4BGvph9LDvc+rQ5jjls+E13dnaLtiV1Y/RddGAzrjL2cs+zvjOBtDX0HzRntMv2xvl4u7g9roAHAr6EocdKiZNLfMx9DfHO6U8xzv/OHgx1yieHn8Wbg0fBs3+ovfN8tHxZvI+9PD2APod/f0BFAj6DQgT5Bf7GsEc+h43IYQhNx8EHFoXExG4Cp0E6/3l9jnw++r+5iTlB+VH5dTltOd36pfuYfOy+LP8tgB9BVYJ9gsdDqsPyBCiFnYl6C8tMXgsoSTSG3cVUBFhCVn+wvbP8VPulvE/9/f3nvFI7Q3uNvCr89f4/Prb+hT9lQBPAwAGdwYEAP32IfNB8n/uael35ZXhutz02kbaz9bR0WzOossvzHXP7NGY0Q/QRtLT1WrbeOPJ6xbzlvt6BY4R0huPJPspWC18M246FD1IPNs3wDGsKRwjrh0eFgkNagS/+xD2K/Xv9QT1qfO09XP5Rf7wBCQMSxCJEyMXPxu0HikiVSPJIOsc0xoxGEETHQ0xBsz9Rfak8OXsH+nO5vbkV+Mf5KnnT+t97vTxcPb4+oz/fgRGCAQKbgteDfQQfh3eK5wwcy7FKJ8irRtDFioQ9QT9+QH0Le+Y7y30bfe981Dtou3x8Oby4PUN+NL3d/m0/Q8D1ASmBVMDQ/zG9rv2zPPG7IjmBuTw4GTcRtq/2NzTJ9AMz1/Ps8/qz47Qz85LzorSzNiW3pnm1u/6+NEB4QyhGO8gQSfILVk00zp4Pio//zqgNI0uWihXIFAY9Q8tBy/+Hfie9dHzSvJ18WTyovXZ+jUBcwYRCvkOkBPVFxocJSADIhQhnx/bHh8czhf+EdkKXAPo/Az3avHX6yvoHeUM43zjceUU56LoV+tx7yL0rPmA/pwBkATHB1ILJRSRHwkmMipGK90oIiQEIHEaJxFKB57/Qfd68rLxo/Fm7wDsOezf7Rrum/Aq83TzW/Sq9u36Qv2W/kr/V/6e/QL9cvr49SzxlO2a6XDkreEx3uvYaNRy0u7RY9H40KXRus8Y0KXRJtMZ1lnbw+Hc54nvbvuiB5gQ1RkxIhwqkTI0OzRAgUDsPfQ6gzRsLr0o7CAwF+QNhAYoAcP8hfle9dvwOfAD8jn1Hfk1/cIBYwYkDN4SuRdkGxMeAR8EIGYgcx9JHCwXKhI4DAAGIwAI+uvzle5m6nnnlOXp5LTk3uRZ5sbpFe0U8cf1/flB/soBTwVtCt0UBx/sJewqEyxcKrMnKCSrHnkVTgyEA4n7/fZk9BzyAe/M6+LrMexX7bXvrO928J/yRfba+Yb7Nf1p/fv77vto+wz53fU68r3uz+oe5l/iht292FnW8tOz0lHS9NHe0RLRNdGK0oDTZ9cG3KjgLOd37/T4QQIzC5oVpx42JzQxOzmPPcM+fz7NO6o2SjEiLNAjdBvnE8UMagaAAQL9iffY8i3yevJe8kz0b/fO+rf+uANfCQMOmhIfF+YZxxvSHS4eXBzlGIIVNhH5Cw4H0wEK/L32sfIg78nrY+mn52/mMOZ553npEuzB7ufxP/UD+R39DwWOD/sYhyK3J6Mp3ypGK3UpCSRjHAkVOAy4BSYBhfxT+OPyz+8d78bu/e9f77Luqu/j8dj0AffJ93r52PlK+mr7UPsu+hj4nvVN82fwfuxN50TiQt/Z3PfZR9gc19vVYNUZ1CHTptId07rVttgo3VnjGerN8fX6BgVeD7cYFiMDLms2MjzZPgNANz+tPGQ5tzM0LO4kZB3YFaYOtgiqAh78P/fa9N/yGfFI8JPwBvJB9L73jfuc/0cEnAidDM0Q0BT1FnQXXBeOFg8UmhDUDG4IxgOT/9j7r/dn8+XvJO3C6vXo8OeY5zLoWOkI6wrtUu/w8SX17vlmAtYR5h5ZIm0j1iepK8MqlidoIngZ9hDNC0oHNAKf/Oj3yfK77zPx9fJs73vs1O0k8WrxmfAk8XDxx/CD8pv0T/Wt85rxUvGe8Rbx4e2d6Kzl2OMw4S/eP9wX2zrZadcL2OrX0dZ81u3Xlttm3mHihOex7e/1gv7yBnYPeBnKI+sr8TJIOcM8jz2LPak8rznwM/Mt8CcUIRwbGRX3DtMIsgOrAET9cfmc9uz04PML84Tz+fRq9iz4x/pJ/okCHwaXCMwK8QzUDogPTw9UDmQMIApkB58E4wEl/3/86vlR+DT3f/UF9K/ylPGD8BjwWvBf8T3z7fgo/tACdwlUEBUWHBlJHNsetB5zHZUbmBgQFUUQWwwSCPoDdQFB/vX6p/he99j2CPXX827zTvLd8LXvZu/47gvu4e0u7sju3O647mzug+3D6wHqjOh152rlqOOk4bbf6t4X3k3do9sB26rb0tz53oXhreSQ6IbsAfLo99P9CgRwC6AU3By2IyAqxS8cNIs25Df8N5o11DG6Lf4ojCMcHlcZMhQNDywLKAhFBBwAmv3u+5D5F/dP9Xf0j/Nc82H0oPW09hb48vmM/O7+2wA2AuoCrQNOBAsFJQUvBBIDOAILAaD/3/5o/nf9evxV/Hz8Zvyl+2j7dfuR/df/JgGKAzQHwwr1DIwPXhLJE+oTAhR1E3kSWhDODasK2AexBSoDogD9/pj9E/yO+of5Xvjp9nb1v/NQ8jfxz+877ivtxOy862/qB+oo6sPp4+jS6MXoUuja527n4ubP5WPkc+NS41LjV+N646Lkr+ay6fLsJfCa84H3hvtV/9EDKAhbDLUQmBXPGigfnyKZJQQouykCKukpbCkjKPolHCOVIMQdEBpiFnUTgBACDXcJ0QaNBF0CIAD4/c/7J/ok+Q/44PaT9Wb0tPOl84n0uPWs9qT3jfgR+un7SP1Z/i7/zP8jAHYAvADmAJsAZwC0AAsBrAFOAk4CHAJoAu0DWgXzBfQGoAjQCn4LCgxnDQ4ObA1aDWUNegyZCkUJPQg8Bn4E/AJCAXf+nfyj+wv6LPhB96P2g/X08yPzTPLM8J/vw+4N7hXtNewk7EDsROyp6yPr++qz6vfqJevD68zrx+t77BPtvu1j7hfvy+9a8GjxdPM09Xv2CfgR+if8tv20/5EBDwOsBKUG7QjBCtYM7A4EEdcSSRWyF0gZcxpgGwIcDxxOG6UazBlqGBQXRRWmE6gREQ+mDOIKuwjFBQcDwQDh/m38ffoH+cf3bvZP9c30EPS484/zOvRX9c32afjf+XD7S/3L/t3/FgFBAuwCLgORAygEQwRDBHwEowTnBNgE0QSABIsE1gT7BDAFJgZrB6AIGQnCCSMKPwoCCmYJ1Qg5CGYHaAaVBTEEkALvAJX/+P1O/BL7Lvre+Nj3CvdF9hz1Z/NK8pbxRvAd72Pu2+1B7fTsku2y7vDvXfEC82j02/WH92b5m/pC++f7afzO/Or8pvxV/BX8j/sx+1L7Nfvx+rT6Mfu3+9z7r/ze/cn+cP99AJoBIALoAk4E/gWbB2gJmgshDUMOog8cEQ8SeRKKElYSbRFsEH0PbA4fDV8LCArZCDQHwwXABNEDpgLrAYQBBwGBAEwAbQA5ABUAqf9i/zL/Zf9X/y7/Kf9T/63/yv+Z/6b/wf8w/2/+Rf5i/uv9S/0l/Qn9ovw2/BP8FfwX/EH8afwN/S/+hv/FAPgBUQOABPEFPQcdCFoIfQhyCMkH0wagBRIEPwKQAJD++fyh+5X6dfl5+DD4Jfgh+Ej47fif+ff5RPrM+mr7o/t7+2X7Y/tU+x37+vof+xL70PrS+rr6oPpy+kj6Pfoh+uf5rvmS+Uz5R/lS+Uz5ZvnR+Ub6lfoL+7f7Yvws/fr9UP6m/vL+Df/y/hP/Of8R/83+vP7S/mT+Af4X/sD+ff+iAKcB2AJqBBQG4QdSCX0K3AsjDQUOvA5cD5MPYg9yD2sP1A70DRYNAQzbCn4JUwgBB7oFQQTsAo8BfQBr/xD+y/yY+7z6EfqN+Vf5Ivkt+Yv5+/mm+mP7CPxt/J386Pwu/VP9Yf1l/Yr9gv0w/Zn8W/x8/Hz8P/x8/An93v25/qD/3QDwAQkDvQOABEgFuAXDBcUFtAVBBRUFvgRWBMgDLAPLAv0BKAFpAK3/9f4i/mz9Cf2B/LD77/oh+kf5ovhG+N33vPfj9/f31vcf+OL4iflV+uv6OvuJ+8L7Rfw6/CD8BPzG+1j7yvpE+qz5bPlS+Wr5avlZ+cD5jPp5+078Jf3r/Z3+Mv8GAJkA6gBCAZwBNgL8AsoDnQSQBQcGdwZFBw8IpQgrCdQJTwplCqsKHQsZC8UKdgruCUEJRgjdB0gHeQbbBScFkgTZAzsDBAPxApQChwJmAv8BYQHtAJsAJwC//xr/VP6n/X/9Wv1N/fP89/xI/WP9nv27/f39OP5x/qb+E//c/t/+AP/S/uH+7v45/zn/4f7h/mn/TwAbAd4BvgKgAzwEowRMBUEFxARsBHUEEARRA+wCyQIGAhQBlwBEALb/I/8G/wL/Nv6l/av92f3t/W798fwR/An7EfqL+dH46Pck9z/3b/dt9/P3uPhd+ar5rfoa/AD9nP1J/u7+Rv89/zT/e/92//X++/45/+r+cf5x/n7+W/6+/n//zv+X/6T/CAAlAA0AKQB4ABUAgf+D/8P/CACX/5X/1/8PAEwACwFFAg8D1wOoBJAFOQbCBmYHvgeJBzQHHgfpBvMFXgVMBewEhQRoBJQEggShBBoFiAVXBfAEuwR1BJcDkgI2ApgBTAAl/3H+uP3J/PL7VvvX+g36vPmh+XH5Sfk++W/5PvlM+dr5bfrd+mX70fsT/K/8tP0e/1UARwHYAcsCdwMZBP0EPQXyBKgERwStA5kC5wFNAZcAk//a/pj+p/1N/RL9d/3c/R3+Ef9y//P/8/9yAJUA8/9y//L+8v4B/nL99/yQ/Cv88PtF/Fn8J/w//Gv8D/0C/dD82fyo/PH87vxT/SP9qPx8/C38F/z5+y/8mfyt/A39lf1f/m3+nf4p/57/rf+i//P/x/8n/1H/O/8W//L+Xv/X/yUAwwCsAZ0CeQPLBEcGQwf3B9cIagkTCkEK1wr4Cq0KEwqbCZ0JTAmCCIkHzwZfBq8F5QQ4BGEDwgIkAsgBYwGZACAABgDH/6v/qf9g/+7+ev5F/vr9e/33/Hb8E/yw+x378fqx+mL6UfpX+n36Yvoc+gv64/kn+jv6Ufqv+uL6hvvr+1n8hfwf/YT9DP7P/m3/7f9pALoAyQDoAD4BVAFLAVoBgAGNAY0BsAGAAQsB0ACeAN0AgQBVAAIA4v/x/6T/yv+6/9f/f/9c/zD/Ef/n/pv+lP6H/qH+kP5J/jj+Ff4V/sH98v3r/dP9lf3M/Qr+L/48/pv+/f6B/+//bwDzAFIB7gFDAssCyQInA/4CVgO/AyAEgAR1BI0EUgRvBF0ELwQQBNkDwwNpAy4DGAMfA8UCzQKvAqQCxwIcA2UDOwPxAskCNQPoAoMCNAIBAoIBMwHQAF4Awf90/xj/4f7u/l/+Ff57/TP92/y4/KT8gfxQ/CT8Ivz5+977yPtK/Ff8hfyS/DP9WP1I/Uv9Yf13/ZX9//1z/tr+1P4R/0//0P+v//j/JQD2/+b/0v/8/wIA/v9GAD0ARgBiAHgArwBaAI4AegBgAH0AaQDkALgAlQA7ABoAEQCk/7j/O/8y/+P+xP6F/jj+Qf4F/ln+d/5x/tb+2P7w/g//Z/9e/1r/hv9r/5P/f/8TAGQAmwCZAJ4A6gDQAPEAVAFPAY8BVgFSAV8BMQHlAecBNAJvApQCDQM5A84D/AMdBCQEGwQ8BAoESQQVBPED9ANNAwkDtQKdAhwC5QEBAmoBNwHbAPoAxwBgAPj/tv+X/zf/1v63/lT+X/4+/sH9lf3d/Kb8SPxI/Kj8ZPyH/Iz8C/1Y/Z79Hf4v/gj/1v4l/wv/5/6Y/tP9ff1E/Q3/tgB5AToErAScBhUHkge2CPQGfgcEBc4DMQGx/u78M/lQ9zL1rfMN8y/yY/Mg9Bn2bPhy+u/9tP+DAiAEBQYGB0sGlgaiBbkEXgOsAd0AFv/f/m3+qv7N/g//MAC2AHcBzwETAn4C8AFdAdAAUQDo/9L+8P5+/i3+Q/7C/tL/RgBJAQMC3wKcAz4EtQRxBFQE/wNyA80CJwKuARQBmQBEAOb/IAAPAA8AOQBcAK0AUwC/ABIBOQE3AdcAqQBtAAAA3f83/9b+M/42/vb9+P1B/lT+wv77/or/kf+D/8X/8f+t/6v/iv/F/zL/+f7l/rP+nf5m/pj+0v6+/s3+Df9V/0T/I/9e/yn/Bv/J/vf+s/72/dH9kf2a/WH9MP1R/WH9iP1n/cr9hP2R/fL9Iv6S/qP+Vf92/+b/QQA7ADkA9v8eAD0ASAAaAOT/xf/m/wAAlQAOAbAB3AEOArgC4wIuA1oDkwO0A5EDfwNnA1MDfwOGA5oDgQOXA2cDqwN3AzsDEgPFAlsC9gGjAS4BxQA9AN3/kf9n/wT/8P73/jT/P/8w/2X/XP9//5P/Rv8W//L+yf6U/oX+K/7v/Zz9I/3Z/LH8b/x8/Hz8qvyv/LX86Pzh/CH9XP2K/Zr9kf30/Vv+wv7u/iX/Xv+I/4b/e/94/4r/V/9I/y7/GP8E/+X+wv5H/kz+Lf4g/vb9A/74/QX+Ov5U/nH+of65/kT/iv9//4b/l//4/ykATwCiAOgAJAF3AaEBcwEoAVgBQgEQAYwAlQDJAOYAXwG9ARMC9gEiAmICmwL1AlgDGQSzBOcEOQWVBcoFCQY3Bm4Gjwa0BpQGkQaYBkcG7QXMBcUFSAVUBJwDNQPWAmICIgL9AYkB2QByADYAlf/w/lL++v2I/Qn90vy+/Jn8ZvxI/EH8F/yy+2X7VvsS+8P6r/qr+qn6uPr1+hv7B/sO+/H6Nfuu++f7ovxs/cz9Cv6f/vX+NP9I/1X/oP/X/1MAqQDvAAABTQGaAd4BDALPAa4BoQGwAYABagFJAfwAiABiACAA+v/M/6b/0P/V/7//2/8CAFMAZACMABIBewGnAYYBsgFlARQBJAEhAQUB3QD8AD4BiwGaAc0BMgJbAsICLAN/A78D6wNUBIUEggShBGwEXwQ4BC0EPAQiBAwEyAOtA5oDcgMHA8UCLwJuAasAOwDQ/zD/gv6//SP9kvzp+3v7KvvH+rj6wfri+hb7UvvK+0r8ZPxm/GD8WfwV/NX75fva+437H/vm+v76q/oT+gb6Efoe+gD6NvqM+sz6S/u/+0H8kvyz/N38H/2c/ev9V/7u/m3/q/8VAHIA+gB+AdMBSgJMAlMCsQLNAo4CjAKfAqgCgwJ4ApkCgQJZAkMCEQIkAhkCDgIcAowC7AI7A30DwwPpAygErgQPBXAFYgWiBQsG3QVyBWUFNAXuBGEEDARlA8ACHgLVAZMBRwHkAIEAMgDO/8H/zv/Q/6b/dP9B/wL/zf7S/of+Yv4r/vT9xv3B/aP9kf0s/dL8hfxD/AH8xPtH++T6w/pe+g/6m/k8+f/47fjM+N74A/np+Kn4mPjG+Af5R/ms+TL6XPqG+sr6SfvK+yD82/xe/Q7+tf59/4wA6ABCAcgB9gEgAkMCTAKQAmYCVQIcAs0BvQGwAZMB8gHnAVcC1gLjAtQC7gJYA5EDzgMXBJ8EyQT5BIgFNQbgBmgHQghZCYgKjwumDK0Nmw4wD6IP2Q+0D2APnQ7eDYkMEAtqCQ0IzwZBBfYDaALzAJX/gP7B/ej8JPyw+4b7Gfvd+tX64vqp+nb6k/q6+pX6q/r++nD7qvtY+3v7nPuh+yj7bfqj+eL41vfK9gD2IPWA9L3zrfNe8+ryr/K18qjymfLx8orzgvQ29SH2HPfL95z4Yvkr+t36o/t//HL9av45/6b/CgCVAJMARgATAGX/5f51/gz+wf2j/fb9W/7q/mv/XABsAboCKwTxBb4HYQk3CxoNCA/YEF4StxMWFW8WQhfkFz4YWxjRFx8XbxYWFfYSkRAVDpELTQheBbwCyv+t/B76LvhL9qj0WvOX8jbyU/KO8hLzzvPG9Nn1U/e7+BP6kfsz/Z3+JwAKAqsDVQUVB9kIKAsSDVQOSA8JEMoQlhA3EEgPuw30C+UJhwcwBVUCr/8a/YP6j/jr9tD19fRD9BD0XfTf9FX1yvUf9tr2lPfh9w34CfjF9wz3fva49c30pfOq8sTx6PD771bvfe7m7d3tEu4U7tbt6u1G7sPuce8e8KbwaPFQ8hLzJPQw9T72F/f59w75I/ov+0r8k/2L/mL/kwDrAWUDrgQJBpsH7AmvDDcQqBPkFg4aVx1bINQinyStJZklbiQ7I0IhdB4PG24XcxPYDmAKMwYZAnP+PPv4+N72a/WS9Af0hPPG8/zz/PPv8xv0nfSI9ZH24/d8+WP75/1XAI4C8AT7Br0INgp7CyQMJAyqC9UKfgmoB6QFlwNdAeP++fw++7X5XPht9w73yPah9tX2svYB91P3kve+9zD4pfgB+YL5U/qG+9/8cf59/3YA8AE8BJ4ILAu4DEgPwhAzEmYT5xM2E18QNg4/DEYIAwQlAIz8Ufij9C7zT/Hf777vDfAL8WbyWfST9Un2y/d1+TT6m/p0+gL6F/mw+CX4Pfc39rb11/W/9fz15fZK96/3T/hq+bf5xPnW+cD5X/lH+e75TPo/+mX6Sfv5+5L8x/w3/T79bP2K/WP99fyF/Az8lPtF+0f7Vvt7+6z7CPz0+wH8ZPwF/h0BaASiB5UKoA0eER8VBhkCHKYdvB7lH5IgPyD6Hh4dSRqdFu8SGA8LC/AGBANg/+v7fPnx95H2JfVb9Db0HfTx8+3zUPTG9L/14/ZC+M35mvtN/WL/hAFyA2kFQQcdCTQK+gqaC5EL2wojCvUK9QrWCR0JgggwCLoHGQcDB8UFhwQBBA0DIAJ2AOX+LP11+5v6o/nB+Ej4pPev9+r3EPkR+mn6APu9+2T8tfx6/Pv7Evsj+gf54/cb9j70pPI58bjw6u9U7/zunu6w7sPuZu878K3wJPGp8UPyKPOt8w70C/XO9dr2Yve496338/dL+P/4Tvmf+ff5m/om+4b7SvxC/W3+JwDjAQ4ENAcHC4YPnRPkFy4cVSCpI/UlQyd6J4gmHiWmImwfKRttFqoRuAytB0IDRP/T+8r4svZy9ZL0ivO68o7yePKZ8t3yZfPX80X0YPXc9pH4bfqt/Gv/5wFOBKUG4AixChkM2wxCDbwMqgsuCtQHKQWbAkwA8v3K+236avnB+Fz4MPjz9wf4S/ir+On4fPm++cn50flE+tv6tfvz/Ar+dv+6AAwCQgOQBNUF/AdYCxYNVA7xD9EQWxFvEUURHxB7DSwLkwgVBU8Be/3a+Vr2bPO/8cbvMO637bftLu4D78rwevK08zT1DvdW+Dj5qvkE+iv6V/rj+Rn5VvgH+MX3dve49yP4RvhP+LL4KPkd+Tb5Yvl8+Un5X/lc+mH75ft0/E39Xf40/0wA/gBiAGIAMgCi/wb///0S/fD7R/uj+137xfqt+oj6T/rm+sf8+AD1BKYH/Ar7Dk4TTxf0Grwe3B/YH98gcCGQIJweaRxIGcwULxH2DYkJHAUsAb39Rvr59wb3ivVn84HyZvI/8vLx6fFK8ljz0fQB93r5svs4/pMAfwPrBoUJJgtxDNwNnw4+DtMNkQ0vDAYKwAd2BbECov+6/Hb6d/lq+0L9Nf3//a3/ygG9A20FxgYqBkgFmwVtBWwE4wJWAbr/X/4x/gP+D/12/PT70fsK/BH8BPxs+1z6m/kM+d331/Vy86PxC/F98LDvOO/87kXvn++k8PDxOPIg8v/xm/IY89byb/KS8o7y2PKg84L0PvTT82z0XPVS9v/2b/eq9/f3iPjp+Ef5qvns+Vz6FPuH/HH+UQCDAu0FDwqjDjoTDhg5HP0fTyNuJl4ouiisJ50lYyOQIKMcwRe7EooNQgiIA5H/afw2+b328vR/85nyYvL98X7x7vGS8v7yKPP080T1tPaN+Fb7KP62AJMDjwZJCVoLtQzZDaoOxw4SDlAMIwqXBxgFegIIAN796ftt+v/4Cfhp9073YPeM9wL43vis+Uj6A/uu+wr8n/ye/XP+J/8uAHsBkgLZA0EF2AY9CHEJTAr1CrcLjAzzDAkNmQyNC1EK8ghOB0oFwALt/2z91fp0+F/2WfSJ8h/xhfBg8KTwY/Fg8srzXPVb9/T46vmi+l/79Ps9/Dj82PtN+6D66vkk+SX4XvfV9i/2FPb+9Xv1YvWe9fz1R/a99ur3Ivmq+Vf6S/v/+6/8T/06/mD/AABiAIgAZwApADQArf+z/sr9Cf1i/Jj7ZfsA+8X6+PqG+8b74/vf/E8A4AOaBmQJ4QwGEUIVXBkzHXkf6CA0ImIiWCHPHysdPRmKFM8QKg2gCDEEzgB7/cn5P/dF9jL1T/Oz8h3zPPQP9fj1tPaO99P4BPqL+039HP+tAJ8CRgWxB1IJwQo/DOMMwwxzDIQLzQmiBxMFyQILAT8CmgN+ATIAwQCEAXoCzQJwA6oC2QDzANkAuP8t/jb8O/rB+Lb41/iz97r3qfjn+TX7Av0C/87/Yv9w/9D/zf68/HT6gvg297z1v/Ow8QvwFe+a7qnuZO9D71HuiO6W79fw+vDk8C/xB/GP8f7ydfTn9BH1LPYN+CP6E/ww/Tn9LP1//fr91f19/er8Qfys++779fyj/e/94f7tAOkD4wefDBEReBQXGGUcUCDHIvgjgiTBI2YihyDaHf4Z7hX5EQoOWgo/B6sDyv9n/X77ifnz9+P23fV19I3zLPMo8/Py6vKC80z0dvVt93H5NfuT/YUAZwPzBT0I/QndCl8L0QuNCzsKnAjwBucE+QIsAVf/Z/3/+xn7oPpP+jL65/l8+aP5HPqr+gn7bPvl+1785vyw/dT+5v+6AAgCzgMFBp4IRgp3CwANNg5aD18Q4xBuEMAOHw0vC6UIzgXnAZ792vnY9m/0wvF67/Xt6+yY7G3tsO4w8FTxGvNt9aL3Xfmv+ov7afxI/Zz9QP2M/Cv8mvv8+lf6pvnK+K33NPfw9kn2+vUS9vj1pPXt9XD2W/fO92X4Lfmd+Zn6U/zZ/bn+ff90AO8AGQG9Af8BZQFiAFP/Sf4w/QH8qvtj+9n6cvpK+nb6uvqI+kH6T/oa/LH/vgK6BVAJAg0aET4V1xlXHfgeqyAFImgieSHeH2gdQhkLFY4ROQ0fCNcDfQAE/fX5S/g999v1wPTP9FH1yvVA9r32kPdy+PX5c/vm/IX+LgClAZMD1wWZB8MIKQr9C6gMkgweDMMKuwjVBrAGgAktCVgGugVBBasFagYHBu4EjQFc/xP/sP1g/G36ZPf79Db0a/Up9Rf0V/Un92z4Z/r1/EH/U/8W/z8AtACk/9H9H/u2+C33kPVL89vwQe+P7uztMu4Q75rure3U7abvpvBG8H3w5vAJ8cjxbvMg9Xb1Z/W79r34BfvQ/Fz9oP3Z/dL+LP8C/+H+2f2m/AT8bfwN/QD9BP0b/nv/cAHPBDwJpQ1MEcUU9xiVHDcf7yB/IX0hMCEKIFEeaxtBGMoURRE+DhsLvgd3BNwB8/9B/kX8Zfqw+Er3X/Zt9dz0PPSl80/zMPNh9ND1cfcB+S/7q/07AOMC8gR+BqIHQgiaCLgIKgi0BjAFDgRmAoMA1P5j/cr7dvr3+YD59Pil+GX4Rvhj+LT4EPmf+fn56Pra+2T8Y/3H/hQBkQMQBjkIfwpLDfoP2REME20TChMPEkkQFQ78Ci0HaQOc/9r7Evhq9IbxgO8Y7nPtdu1j7vLvS/Eq8xj19vZj+G/5Ufrk+kn7Hfu4+mD6APqo+TH5u/iy+Fj4B/gh+Br4H/he+DP4Tfgl+Cr4svji+Cj5evlX+tX76vy9/Wj+cv/QAAoC+QKiA6ADCwMeAoYB5gBX/4j9kPz9+y/7ffpT+k/6YvqQ+ub6o/sy/Oz8V/6XAOgCjgWRCHULVA6mEToVExgUGskbcR1CHscdGx2qG8cYVBUlElIO+wnBBfIBCv7z+sz4TPf49Rb1KfW89Sb2bPZV9yr45PgN+sT7KP2b/jsAvwFpA+cERwaXB40IUAknCjML8AscDDoMFwy9C3sLoAqACeMHDgafBPMCZQGp///93fzE+wD75fmn+NT3IvfI9gr3uvf6+OP59foa/Cz9aP4L/zL/Kf/P/uL96vzj+6/6h/l9+JL3VvbC9GfzcfJ38XLw5e+5737vqO9P8BDxyPFx8urybvMz9BP1Kvbw9rP3p/i++RD7Qfwj/Wf9Qv3Z/Fn88vtW+7/68PnC+X36hPs0/Ob8A/5P/6IAxwLmBcsJng32EGkUrhdAGs4cth5QHwEfWh6zHfcbcBl2FnoTMRC+DJYJggZWA7oA6v4Y/Tf7hfmi+DD4hffa9mH2WvZl9gH3s/ep+N/5GfvD/HH+ZAAOAr8DSAWWBlMHtQfqB1kHdwaIBbcEoAMOAscAnP/y/Sn8B/s5+sn5DPnr+NH4oviw+Az5Wfm3+bz6v/vA/PT9Wv8zAZwDVQUMBzEJjQuwDYoPvxAXEbUQIRDsDuMMIAq0Bh8DBv+G+yz4lvSw8b7vYe6M7abtH+7r7gjw5fH682v1e/ao97v4mPl4+sP6Ofq5+Xr5cfkO+ev4Gfme+A/4B/jI+N74//hM+fL4svjp+DP53/lc+h/7OPxc/eH+UwDXAIABogKrA/8D5gPiAw0DJwI8ATIAFv+N/VD8WPt0+uH5wPny+T366/r0+6r8RP3K/WT+eP9JAX0DSAX7Bh0JPQzFDwUT9BVBGNUZsho/G14bIRoBGO0UEhJJDtIK4Aa1AmT+Nfvn+Nz20/bg9Yz1LvUm9q33ovi3+RD70fvk/Mr9qv6//1EAYwEqA/sE3AbtCKQK8AvuDP0N5w4kEPYQPhDhDh8NLwsZCXcGhgM9AJL8sfkV99z0AvPu8Y3xu/GQ8qvzCPUs9oz38vhT+o37kvxA/e392P5i/xz/vv7p/eH85/v8+uX5RPiy9pf1tfSe8/XyZPKp8VLxT/EZ8SjxbPEk8iHzbPTB9Rn3+fe/+CH6hvuo/LX8hfyX/D/8DPzC+4T7t/u7+837cfyp/az+4P8hAd8C+wRxB9UKwA5PEmMVcRhTG0cdNx64HjIeMR2SGxAaExjzFKQReg4kC5sH2gTjAVH/vPz6+p35ffgS+Or3DfgL+A34GPhc+L34b/nw+fX6Vfyc/QD/WgAMAmMDhQRcBQUGOQayBsIGPAYABc4DqgLMAC7/sv1M/PX65fnv+Gf4Yfig+Bv58Ple+sP6bPsg/L78If27/V3+BP8CAGUBogNKBa4GvQitCt0MoQ7OD7IQsBAUEOUOIQ1gChwHkwMgALz8qPmL9r3zifEI8P/uqe5m717wi/G68ij0lfXI9qj3XvjO+Ov46fiV+B/4qPeO92T3Yvdr96b32/c1+JH4F/mm+eH52vns+Ur6C/pK+sH63vt8/HT9W/5a/4MAdQG+AiMDSwMhA3ADQAPUAgYCqQCT/zz+af0u/dv8gfxM/J/8QP3//V/+C/9p/0T/af+6AI4C9gN6BUMHyQmdDIgPRBI9FFIVTBYuFygXWRbVFGkSJw/PC5cI/QQhAbv9rfrS9631u/SF9Kb0vvTd9V731/gT+j77ePwm/mD/XAAQAZ8CXwSFBZ4IWgrfDOwOvBGREkQU4xOYE7UTShGpD5gLXAgBBMz/6/vj9yL03vHW7/Tuq+5Q717wz/HB89X13/dd+b/6QvvP+yv8P/yn+wP7kPoC+of5TvnX+I/4Pfjh98X3a/cZ90n23fVa9WX1jPV99Tv1+fRI9cr1svbS90X5uPoE/NX9Zf8eACUAUwAlAJX/Rf4C/aH7VfrJ+Y355fly+mX71vzY/jkB5AONBtwJRg17EPYS5RWQGCYaYRpYGk0aDxkaF0IVsxMrEZAOIgzlCXwHOQUhA4YBdP+c/eD7bfom+Xf4MPjU9wv4Pfhe+NX4BPq7+7j8tv1a/8cANAKPAzAFMQbNBjoHzQYLBm0FbwT+Am4BXgDs/n39JPxl+wD7oPqz+YL5kvmQ+Y354fmb+ib7yPvU/Pj9fP57/3oA/QFPA9wE2galCN0KUAw9DTwOmw6QDgoOTAxXCiUIZQVvAmf/TPxZ+dH2EfX88+zyc/Kt8kDzCvRe9eX2I/j2+Jj54fkT+jv67Pm4+Kr34/ZS9qD1tfSb9Iv0UvS79Gv1+PWy9kX3/PeE+FL5HvrV+qP7qvyK/Vf+gf+kAH4BNAKFAk8D3ANmBLAEXQTBA1wDHwO+AvgBKAGpACcA3f+x/2n/C/8N/y7/yv/V/1H/vP9BALIBugJLBIEF3wfgCloN/g/5EX4T7RRkFtYWXhYWFUUTnxCcDX8K2AbqAuX+5/tB+f/2O/VD9KnzhvNo9F71bvYk9574K/oK/HH+AgA1AcsCZQW0CBkLlwyHDvEPSBHzEW8RvxC3DnEMQQr7BsoDeADb/HP5QfeB9dHzGPNG8wX0NvTf9KH2LPhH+Zv6C/tw+yT7lfoG+lD5Yfhg9x/2RPXl9HX08fNe8zfzOfNE89Hz//Pk88bzGfSz9DL1C/bl9rz3k/if+Wf6UvuH/OT9NP8lAOQAuwG5AZgBhAFUAZ4A4v9g/xj/z/4C/9L/1ADEAWUD0QR1BkYINAoGDHANPQ+5EG0R2RESEssRbxGLECwPEg7HDNEL+gqQCUsImAZ6BQ8F2ATRBEUE9APGA24DHAPzAm0CdwHUAAYAP/+W/uv9GP2B/D/8e/v4+pP6e/pg+hz6C/ou+mL6rfpN+/v7gfwh/fT9o/7h/kz/tv8aAHYAkwAhAVgBmgGTAacBJAK8AgkDmgNdBPcEEAb/BpcHEggfCMMHaweYBjsFTgRYA7QBcgAh/0n+f/0j/fH8Y/2I/Y/9Uv6U/l3+UP7e/Rr9qPzj+9n6xPmC+P/2oPXe85DyvfGg8Avw8O/R7+XvtPCa8eHysPMC9cr1Yfa899H4sfnb+mP75/vu/BL9/f0+/o3+T//K/9v/OQB6AKYA1wDbANsAHQFuAbIBNgJoAmsClAJeA48DBwRsBE4EpgQpBUYF4wRfBO0DHQSdBJMF5QbSB6kIEwqYC+EMkw0dDp8Oow7iDRQNcQzEC2IKwQg/B6IFxgT0A4wDDQOqAokC9wKXA/gDFQSgAwIDlALYAZkAVf88/q38c/uM+nX5cPgs+EP5vvxrAPIEcAanBqkItgjyCAgKZAlTB8oGZQOpAB8Biv+D/579H/tW++n7bv10/1cAIv53/qn/zv+6/0X+z/tX+Uj3sfT58n7xBvBm76Tt++zu7XTuI+4g7wTwMvAU8TbyOPTx9Z/2fPd3+C35iPqc+4/7HftI+gb6y/nU+Wv6Efop+jP79fzZ/aj+NAB7AfMCuwQcBygJ2wrCC74Mig2aDbANXA3ADK8M2AzHDEMMPwwRDIsL+AoLCyELkAo7CqEJ5wh0CIQIZQhjCB8IbwfjBqwGrAZCBnoFowQdBB8DxAG6AJf/if4f/Qr8zPq3+Qr5e/gY+J33Qfdr99L3dPhQ+Wn6bPv2+9v8Ff4E/8r/hQAHAZgBUwLCAhoDFgNRA/kCawLSAuwCrQOCBHgFUgaNBrIG0QbKBgMGsQXJBPoDogKAAaIA4f6c/aT8//tJ+3P7iPrH+rr6/Poz+z77v/so+yb7C/tP+hr6LfkY+OD2NvX48+ryIPJP8dfwhfC48P7wKfIW81T0lfVl9ij4gvnd+mb8uP2Y/lz/HADr/y4ATwCeAIoACgCm/5z/uv/v/4gAiAA8AS0CogKpA5YEDwVpBd8FNwZzBoIGngZdBooFxASUBHMEqwMCA2YC5wH/ARcCdgJNA6wE9QWQB9UI4wljC1UMPQ0BDlsODg7RDZ4NjgyjC+AK3wm/CLgHGQepBkQG/gXFBe0FMQbKBhcH/Qb0BuAG8wW+BIgDCAJpAJj+y/wJ+z75qvco9qP0dPMH8+7y3/J78zj09fSV9cT24feE+Bn5m/lV+lz6mfoW++D6rfqx+j/6Mvpt+uz5ofk8+S35L/nA+XT6tPrz+g77mvvw+3T8r/zH/M78kvyd/HT8lPxp/Br8zfsn/Ar80/sa/Ef7D/w9/MX8af3g/Xf+AP/S/w0ABQGwAUUClwIyAx0EnQSeBZAFQAbYBjQH6gevB3wHkAfYBxYIvQhZCTEJVglfCZgJ0QkTCkQK4wl3CZUIjQgECLUH6wYsBvMFaQXcBGoEOgS0AxYDmwLRASYBxQANAGf/tf7e/Wn99/yQ/H/8J/zy+1D7Y/tf+yj7Pvsb+yz76fsu/SD+Zf8RAOoA8gGMAs0CNQPfAokCZAIKAhEC5wE1AYwAfQBaAFwAjgDiABYBKAFdAVIBggGLAVYB2wAlAFP/lv5h/Yn8i/t/+o35ovgL+I737vZq9vH1SvVR9SX1e/X49X72ovea+JT5ePox+zf7yPvy+8/7OPyx/J/81Pzm/AT99/x0/Hj8jvw9/Az82/xG/aP+D/+m/1MAegCvANsADgHQAKkAIAAKAND/2f/2/z0ANAAcABwAHACTAKkAxQCjASsCwAJZBCcF+AXNBm8H8QeaCG8JHgp/CrgKrQosC7kLPwybDGsMVQxbDF4M2Au/C+AKUQr1CcQJgglQCasITge3Bp4FnwQXBHcDmwLGAdcAAgDK/0b/rv4M/gD9D/xW+576EfqC+e34v/iY+Fb4/Peo92n3uveX95f3h/d697H3W/c99073K/di92b3fPfA9/z3D/hY+Ib4JPl6+V/5AvqT+sX6N/us+xz8vPwz/TD9vf2l/bL9fP53/uz+Jf/W/lX/dP+g/wYAYABRAH0A3QC2AKkBBgI2AiIC8AGlATUBTQE3AXkB0ACmAEgABgAyAD8AiADX/wYAMgDUAA4CmwJaA9kDOAT7BAMGEwefBxIINwh7CNEIIgmUCWgJMQmXCA8ILgg7CJUILAjuB4UHfgebBxoIaQg5CD0IQghYCB0I0gcZBwEH1wURBX4ElQO6AsIBuADX/8L+9v0a/e78evwE/Jb7w/ri+o76r/qB+iP6/fmf+Vf5tPhs+K33yvaW9mP2Tfb+9eD1tvXD9T/1ivXO9fr1gPbV9m/3Avhy+PT43Plp+rr6IftS+6P7xvve++v7TPxD/Ff8w/zS/CP9gv3I/W/+of4y/6T/FQBPAF4ABQEWAT4BQgExAe0AVgGWAcgBLQK/AaEBcAGTAeMBZgJvAlcC5QFCAZgBzwFoAZEBCwHmACgBjwFXAlkCkgKiAiwD5APVA5sE+ANfBEUECgS5BJQEkAT4A1QE5AM4BJ8ENgXXBSwGngYkB1YIygjUCe4JAAruCXEJkglkCUcJrQhTCKgHVQfgBgsGBAXIA9YCxAEkAbgANAB4//n+Ov5l/e78Kfyy+936E/pv+TH5vfhI+PX3hfd897T2KPav9XL1oPWg9bj18/Vl9s32cfcd+Mz4Hfm5+QD6Pfq2+ib7M/tw+wj8W/x4/HT8y/zh/PX89fxW/RX+c/75/j//Yv/S/zQArwAAAUsBrAG/AY8B4AEiAocCmQKXAqQCVQI9AlACLwLFAhQD1AJCAwkDmgOTA1wDbANGAw8DUQOyA4EDzgMjA5ICjAJMAkUCRQKwAYkBYQFNAcQBsAHGAYQBNwEQASEBaAGNAVgBeQGhAf0BlALjAtQCmQKmAg8DWgOnA7ADIgQXBFAEXQS1BF4FVwVgBfkE2gQTBUwFTAX3BEsElQO4Ai0CngH8AHgA1/+c/17/Kf8E//D+yf5M/hX+zv3R/c79k/1N/Qn9uvxm/FX8Qfw6/Az8ufuC+4b7nPtl+2j7Dvut+oH6Vfo2+jn6a/pR+lX6XPpR+vv5Avou+l76+PqG+xX8kvxQ/Hz8lPwW/an9sP1M/qH+t/6u/vn+E/+R/5P/f/+4/8r/GAByAI4AigCiAIoAgQDxAFQBxAEnAuAB8gEiAkoCeAJQAg4CrAHIAWUBsAHuAawBggEJAZMAgQDqAHYALgDV/7//4v+2/6T/k/9r//n+of56/rH+4/4s/6L//P82AGAAAAF1ARECQwKxAn4CmQKkArECIQNoAn4CNALRAfYByAHvAIwALgAaACEBfgHuATICYgKxAgIDQgOrA8wDwwOKA9EDjAMYAxoDogJBApwBLgEOAakAeABPADAAPQANABwACgAVAD0AMgBBAH8AigBMAAYA/P+R/1f/V/8//xj/6v6j/p3+fP5O/l3+kP6W/mT+Lf4B/iD+c/6H/pT+ZP6L/p/+av6z/r7+4/6x/m3+L/7t/f39wf2t/e39L/51/s/+P/8//17/Mv89/6L/1//6/+b/0P+x/6n/0P/S/5X/iv8h/+7+qv6s/qz+y/4P/0b/dP+O/8H/zP8AAOT/DwDb/wAAbQC/ABIBAAFJAQcB5ACbAAgA4v/r/+D/zP+g/1P/a/9M/yf/7P7l/sn+hf63/hj/6P+MAD4BWgHEAS0CVwKkArEC1AKbAoECuAIYAw0DBwNkAuUBYQESAe0AsQDOAGcAiABgAJMA8wAAAeYAfwCVAK0AwwDDALQAkwBcADAAFQD8/7z/xf9c/xb/xP6z/sn+E/9M/2v/U/9G/zf/Jf8w/0//gf9K/4b/a/+B/5z/6/8YAMz/pP9p/0b/Wv9a/2v/af97/3T/sf8gAGkAigB/AMEA9QAhAXsBggGhAWEBQgFuATUBWgFoAVQB0gDUALgAbQBnABwAFQD6/wAAoP97/0z/7v7C/ij+Ov5H/n7+mP7S/gv/Ef8u/+r+1P6u/rz+pv6j/uH+zf7L/sv+Gv8Y/y7/Vf94/0r/Jf+B/7//EwATADYAKQAgAD0ARACiAA4BEAHtANkAqwCkAGAAgwCDADQARAAeAMH/2//V/7z/vP/t/7j/ov99/zT/Xv9c/8z/CgBKAHgAfwB6AGIAWgCVAGAAXgAwAFMACgDm/33/Yv80//3+Df/P/gL/CP8a/8T+if6u/jf/dP9E/23/SP+8/63/5v8GADIAYAByAK0AegBcABUAbwCXAJsAeAAuAOj/1//2/87/CADv/9D/2//v/xUANABaAIgAzgAbAVQBQgGRAUcBNQE+AUkBFgESARYBEgEdAfUAuABvAFMAIAAIANv/uP90/4r/pP/X/+D/8f8NABwAHgBMADsAJwAKALz/pP+v/4j/N/87/+r+z/7j/hH/RP8P/yX/+/75/iP/MP9n/0//e/+t/7j/9v/v/+L/8f8aACsATACbAM4AAAHvAM4A5gAFAfUAJgEUARQB3wDZAN8A3QD6AAUBEAHkAMUApAB6AIgAkAB0AG0ArQB9AFMAWgCDAKAAeABcAE8AQQA5AD0AeAC8AJ4AgwByAG8AawA7AFMAOwAgAA0A7/8EABoAKwD6/7j/lf9i/2f/jv+8/+3/0v/i/63/e/9R/1H/Z/85/1f/lf+V/4H/qf/r/wYA6//V/+//NABXAHgAjgCMAEYAVwBXABEAKwD2//j/xf+4/9L/w/+x/1X/Rv80/yn/NP87/0T/TP9V/17/Xv9p/1H/N/9//2v/cP9T/1X/pv+k/63/a/9e/3L/pv+4/7r/kf+i/7b/uP+6/9L/4P/b/08AbwBiADIANgBEADAADQD2/9D/x/+t/4P/qf+M/57/tv+v/4H/cP+r/7H/xf+0/7j/6P8IADYARgBGADYADQACAAYA+v/X/9D/2//k//z/GAAEANn/nP+r/7T/kf+r/wYAHAACAB4AIwDg/5n/rf/D/7T/cv9w/5P/gf90/3j/2/8CAOL/8/+x/7H/5v8pACcAIABBAJ4AzgC/AM4A4gDdALEA0ADSANAAwwDDAJkATAAnAC4AJwAuACUAHgDt//r/KwB4AIMAVQAlAOL/7/8AAP7/EQAYANv/wf/H/8r/xf+K/0T/Qf/u/qj+vv7Y/hr/Lv9I/1f/wf8wAGsAqQC6AM4AvwDfAKYAwwDdAO8ANQFHARkByQCpAH0AfQAwACsAKQAIABEAAgAYAEEAigC6AAAB/gDQAMkAqwCmAJAAsQDbAPoAHwHiANsAuABnAGkAfwB6AE8ASgACAAgABAATACAANgB9AIUAXgD+/9f/wf+g/63/qf/F/9D/3f/m/63/pv+I/4H/vP/g/9n/IABKAEYAfwC/AAMB2QCkACsA/P8eACMAKwBcAIMAgQBkAEoAawA/AP7/6P/z/wQA7//z/+//KQA7AEoAfQByAG0AUwBVAFMAJwDd/+v/GAAeAA0A4P+8/5H/Yv8Y//L+0v68/q7+5f4l/1X/l/+c/6L/lf+2/+D/pP9n/47/iP92/2f/iP97/yH/zf6Y/tr+5/63/sn+zf7n/t/+8v4s/zn/HP8p/1P/U/+I/8X/6P8RADIAWgByAIUAeAB/AGIATwA9ACMAJQD4/xEASAA2AO3/4v8KAAQA5P/b/+//FQAjABEA+v8VADAAZwCKAG8APwANAB4ADQAYANX/0v/o/+j/7//v/+//8f/z/wIAHgACAOj/tP+X/5z/hv+p/3//Wv8y/wj/Df8u/2n/k/+4/5f/dP+K/3j/lf/v/yAAPQA5AFMAYgBvAJkAkwBpAFMAUQBBAD0AfQC4ANcAiABvAEYABgDx/7z/oP/D/+D/2f/H/9v/uP9//1P/T/8//wT/3/7S/jT/Qf8j/yH/Bv/u/qj+hf6U/q7+vP61/sn+Bv9p/4z/Wv8h/0H/dP+x/9f/6P/z/w0APwB0ALgAvwDFALwA5gAfARkB/AD1AK0ApACrAJcAwwCXAJsAmQDQAL8AtgCbAHgATwBEAEgAaQCZAI4AyQCxALEAzADXALoAmQBtAGQAfwBGAAgATACDAGQAWgBXAF4AdABRAE8AYABiAJAAvAAmAQ4B6ACbAJAAugCZAKYAawA7AA8ADQAlAAoA4P+v/8X/l/9//4j/l/+2/57/nv/M/9n/+P9GAG8AbwA5AD8ASABPAGQAQQA7AGAAZACIANsAlQBkAIEAVQBBADQAFQDK/93/AABVAFUATwBtAG8ARAAGABMA+v8nAEwAegCVAH8AfQByAIUAUwA2APP/7f8pABgA+P/b/wAAMABBAGAAZABTAGAAjACKAKsAngCxAOYACwHqAJkAdAATAKT/Wv9a/1f/cv+V/63/ov+x/8H/0P+x/7//FQBrAJ4AXgAjAAAA/v/2/w0ADQDB/1H/BP/W/tT+1P7H/uH+2P7W/u7+Hv8l/wb/D/9K/3j/eP+Z/6v/q/+k/3j/XP9w/1H/Gv/n/tT+7P7y/hH/HP9E/33/w//B/7b/uP/F//P/GABVAJkAuACOAFMARAAuAAYA5P+x/8X/2//S/6b/ff94/3//iv+m/7//nv/i/woA6/8VACcAeACeAG0AaQBPACsACgDi/7j/1/+6/87/6P/+/woA6P/z/7r/1f/i//r/IABIAFoAXgCVAKYAjADHAKQAqQCVAGAAYgAyAFwATAA2ABgAMgA5ADIAAAAVADYAGAACAAgAbwCTAH0ARgAcAC4ARgBcAEQAKwBIAGIAMgBrAHoAZwAjAAAABAAAAAQABAARACsACgAIAB4AHABIAEgAXABgAGcAegBIABgAMAAeAO3/EwAGAOT/sf9//4b/r//Q/+D/oP+T/6v/ov+4/6//2//2/7b/nv+0/7//kf+G/17/Zf9X/2L/e/9E/yf/D/8R/yP/MP8w/xP/Fv8y/3v/v//o/wYAAAAAAMH/q/+2/87/AAAlAEQAKQAeACAAIAAlAB4A7//Q/+T/0P/M/7j/e/+R/6//x/8KADkAEwDQ/6T/kf9//6n/tv+c/63/7/8uAEQAOQAKAAIA6P/M/ykAaQB0AFMAlwDbAN8AzgCbAHYASgA5AEYAfQCiAJAAsQDxAA4B/AD1AN0AyQCQAJkA5gAdASQBTwGlAS0CLwJFAvsBtAGEAVoBdwFlAWUBdwGLAUsBNwEoARYBEAHoANcAsQCvALYAxQDMANsAtABaAE8APQD2/8P/0P/S/7r/lf+0/9D/xf/t/+L/7f/d/8P/7//S/8f/1f/B/9f/5v8CAPP/sf9w/4j/zP+T/5X/a/9w/2v/Xv+D/1f/N//q/hb/LP8R/xP/5f7n/uX+Bv8a/x7/Gv8G/yf/N/8u/wL/5f4I/y7/Rv8R/w3/Pf9B/yX/I/8//2v/f/+I/5H/lf+m/8P/sf+6/9n/v/+0/6v/ff9e/3//mf+V/2v/T/9i/0j/If8n/yP/HP8l/xP/SP9c/3D/g//F/8f/zv/x/9v/yv+v/8f/DwAGAAAAEwBRAHIAdgCZAHYAbwB0AIUAKwD2/+b/EQBMAF4ATwA0AEoAdACxAK8AtACFAGQAlwCFAHYAYgBGAE8ARABPAEQATAA0ACMAIwATANv/tP/S/+T/+v80AG8AZwBKAD8ACAD2/9X/CAApAC4AHgATADQADwD8/9v/8f/D/6//q/+k/8H/eP9t/3D/k/+p/8H/5v/g/+3/5v/i/6b/jv+p/9f//v8eAAYA/P/k/7b/5v/V/5f/a/9X/y7/E/9B/2D/cv+B/5H/jv9y/2X/Pf8a/x7/RP9y/4H/0P/V/7j/EQA5AH8AoACQAEoA/P/+//z/CgArAHoAgwC/ALYA3wD6APwACQHxAOIApgC0AAcBRAFfAY0BXQFzAU0BFAGtAJsAgwAnABwARABTAF4AgwB4AD0A2/+p/9f/nP+X/8r/+v/o/ykAXgBaAHoARAArAD8A+v+m/6T/uv8/ALgA3QD4AOgApgCZAIUAMgApABEAKwBBAHoAxwA3AQsB2QC0AJMAlwBKAFcAUQBPAC4ANgByAGQAVQAVAAoA2f+p/63/oP+c/3j/q//X/+//2f/Q/+T/ov9E/yz/T/+V/57/v//O/8f/tP+G/23/Sv9G/0z/Z/9t/xz/Av/a/uf+5/73/jL/Kf/j/sn+rv6+/vv+Mv9c/2D/Wv/3/sL+ev5t/r7+5/7f/qP++f7U/rn+6v4j/0j/Wv99/7//AgAYACsAWgBpAFwATABiAD0AHgApAPb/1//K/8z/nv+O/8z/SAB4AHQAhQCZAJMA5AAZAQsBHwEoAf4AxwDdAK8AwwDZAKsAzADXAAkBGwH8AMMAqwCVAIUArwCxAIgAIABPAG0ApgCvAIoAhQCMANsA/ABAAUsBYQFWAWUBlgGcAWwBJgHfAO8AzgCtAKIAoAC/AN8AvABpAGcAdACMAH8ARgAVAN3/xf/M/w0AdACrAKkAlQBeAPz/x/+x/+3/8//D/7T/v//d/wAAKwDg/5H/e/9a/xj/Of9i/2X/jP9n/3L/g/+O/6b/jP9r/0b/HP8C/2L/mf+M/4P/uP+c/3L/kf+g/5H/ff+K/4b/lf99/3D/af9G/0T/TP9V/0T/Av/1/gL/BP/a/sn+5f7s/hP/Rv9a/0H/cP9w/3v/pP+T/47/nv+Z/33/eP94/0r/Rv+K/6v/2/+0/57/nP+I/7H/x//k/wAADQBGAGsAwwDSANIAtgCeAKsAvwCxAMUAwQCQAH0AegB4AGkAPQAwABUAzP+0/7r/tP+V/5P/qf/Z/+3/AgAeACAARAANABEAUQBgAIEAWgBgAIEAlwCVAMEAjgApAP7/AgBaAGkAcgBiAIEArwDBAN8A7wD1ANkA1ACtAKsA8QD+AP4AFgEQAe8AuACXAIUAXgAIAPz/HgBBAFUABADb/8H/EwBKAGsAZwArAP7/0v+0/7r/HgBVAEoA7f/g/+j/2//Q/6T/pv+t/4H/gf+M/63/e/9E/xz/SP9G/0z/Yv83/zv/Of9X/3L/Z/9c/2n/af97/4r/tP+G/2D/Uf+I/6v/jP+k/3j/SP83/5z/0P/F/6D/cv99/6b/r/+G/2v/nP/k/wQAyv/D/+D/5v8TAOv/1//Q/6D/dv+G/63/nP+Z/7T/9v8gACkARgAgAAoA4P/t/ycAYABEAEYAIwDv/8r/k/+I/3//3f/4/x4ASAArAA8ACgBMAHoAeAAYAO3/8f/k/7b/rf/8/y4AWgByAE8ADQDx/7//wf/S/xgATACFALwAuAB6AC4A7f/B/7z/4P8nAAIAxf/z/wQAVwCOAIMAawAKANv/iP+e/+T/AgAyADYAEwAGABgALgAYAAAA6P/2/93/5P8AABoAdACIAH0ASAAjAMr/zP/S/9D/7//O//7//P8NAO//6//2/zQARAA7AGAARgBgAE8APwBEAF4AuADkALYAegBiAFwAUQBRAEEAJwA7AFMAZwBMADYAMgAuADAAHgAIAA8A9v/i//b/BgAYAFwAUQBtAGkAeAByAFUASgAjACUA7f8KAEYAZwBMAFUARACOAL8A1wDJAJUAXgAjAEYANAAaAAgA2//b/xwAfwC0AKYAYAA7AGAAXABaAEgARgAwAD8AVQBtAG8AcgCBAGsAaQAyANX/eP9c/3//v/+2/5f/f/+T/6L/oP+k/5P/f/99/1z/dP9G/yz/SP+T//P/CgD6/7//mf+0/8z/8//r/5n/nP/b/+D/+v8NAAYAEQAYANX/tP+2/6T/kf/B//z/CAD8/+L/3f+g/4P/iP+M/4b/cv+i/9v/+v8VAAgADwDm/7H/qf+6/9f/0P/v/xEAJwApAEYAHgATAPr/5v/o/+3/AAA5AFwAMADb/5H/k/+e/+D/BADo/6//x/8aAFMALgAlABUAKQA2AFMAjAB6AEQABAAKAC4AMgARACMAAgDx/9D//P8YAAYA3f/2/1oAUwBRAHIAhQCTAHQATwAwABUAzP/v/xEADwANABgAKwAPAPz/BAAGANf/7/8wAGAAZwBgAFoAXAB2AHoAYgA/AE8AVQBeAH8AgwBeABEACgDg/7b/v/+0/7T/lf/X/woA6//Q/5P/ff+i/4b/k/+2/9D/uv+v/7//0v+r/4z/pv/H/9L/pP+m/6T/rf+0/9v/oP9r/5z/zv/i/+T/9v/6/9f//v8EADAARAANAPr/yv/S//7/OQA7AE8AXgBkAIgAfQBEAOv/oP+e/6v/0v/D/9v/x//6/wYA7//t/8z/0v+c/6T/jP+I/4z/pv/b/w0A8f/t/+T/7f/K/4z/bf+R/5f/mf/X/93/6P/S/8f/4P8KABoAGgAAALH/qf/V//b/EwAAAPb/CAAVANv/tv+K/0z/N/9T/1f/ff+M/3v/rf/b/9L/5v/F/7T/7f/8//H/r//M/8z/tP+6/wIAFQDd/7z/4P/z/wYAMgA5AAgA+P85AGcAbQArABgAYAC4APwAagGCAVoBMQE8AUQBWAE3AeYA1ADOAAABHwEsAQMB5ADUAMMAlwBKADkAIAA0AE8AjADdAOgAxwCTAGQAMAAKAOL/zv/Q/7z/ov/K/wAABgARACcABgDk/7T/oP+M/3b/kf/O/zkAUwCOAIwAUwAIALj/1f+2//H/BAAIAOv/5P8GABoAKwArAEgAGgAIAOj/zv/b/wAAJwCDAK8AqwC6AJAAfwAnAAgAGgCBAOoACwGpAJ4AsQB/AGQAZwBkAPj/hv9c/0j/af9t/zT/BP/N/n7+s/79/kb/N/8E/wD/Av8e/z//Uf99/3D/l/+X/2n/MP8j/wL/D/8c/zT/D/+s/nH+UP5q/pD+Zv5o/m/+gP6+/tL+Kf8I/+H+Fv8u/yn/V/92/4z/nv/t/3QAfQCBAEYAdADZAB8BEgEOAR0BAwEJAe0A1ADDAJMAhQCDAJMApgCTAJkAiAC6AAMBCQE8AUcBIQHxAAsBNQFEAVoBagFPAfEA8QDZAJkAUQBTAG0AjACgALgApABpAFoAlwD6AC4BFgHoANAAeABrAKIAmQCKAD0AEwANAOv/pv+i/2X/+f6j/mj+if6s/pD+Gf67/XT9cv2N/Yj9pf2e/U/9O/05/fH8g/yM/Jn8w/zb/Ej9iv2w/RL+df47/0z/YP/K/xEAcgC2AB8BcwGjAbsB+AFMAnYCogKJApQCogKBAscCDwMcA0YDRgNPA2EDdwNaA/UCwAKHAlUCAQLcAdEBCALnAbIBkwF7AY0BngGJAXUBYwFPAXcBVAFoAXsBXwESAdIAUwDx/5f/U/8I/9L+mP6N/jb+wf1l/dT8W/zw+1/7zPoR+hL5SPhv9+f2fvY19uj1VfX59PX0BPVn9Rb21fbb9yD5ePr/+1H93P6BAA4CeQOwBPEFHgcoCGEJRgq/Cj4LbAuWC1QL4gpRCmoJQgg6B5EG3QW+BBUEaQOMApMBtgA5AO3/3f8EADsAbQCmACYB6wFgAqYCHANuA14DDwPzAgsDOQNyA9kDLwQ6BOIDogNYA/4CiQLcAUsBGwHkAI4ApAAnALT/+f5b/tX9MP2i/Gn8L/w4/Fv8L/wR/Nr7yvuu+0v7vPoT+lf5u/gH+GT3UPdV9yn38vYk91n3qPcU+KD4DvnN+cf6d/s6/An9/f3u/sH/NgDZAJ4BLQLdAoQDKwSWBPUElQUUBmMGYQZPBg4G8QWZBUYF+QSCBNED9QKiAj0C+wHnAQwCPwJVAjUDXQRIBboFOQYBB68HLAhuCNEI/wjTCKkIaQgECHgH0wYQBhUF0wPWAr8BvwDi/8L+4P3D/L/78fqI+hH6Uvma+Av48fev93H3TPck9//23PZu9vj12fVI9bn0LfTv84jzGPOJ8gby7vHN8c/x3PFi8iPzEvS+9Lz1z/bu9yj5g/oT/Az+r/9fAWMDogXfBxEKcwyCDmUQUxK8E7EUQhXaFekVlhWtFHoT7hHOD4oNJgvvCGoG9APCAc7/EP6k/IT7pvoy+jD6bfqk+gf7UPvy+5n8dP1Z/if/8f85AEQAPQBEAOv/0P+2/4H/D/+b/nP+PP7r/YT9O/0L/ez8AP0N/QT9+fzb/Cz91f1z/vL+gf8lAOYAzwHqAusDpgQRBYwFRwbjBlMHyweXB/YGGwZeBc0E7wPqAg4CPAE7ABr/OP5p/WT8rvsd+5n6HPrJ+dj5DfrY+b75xPnN+cv5vvns+fD5ofl1+Yv5ofmh+b75+/kp+hz6O/py+hD7lPsG/Mv8hv3v/Y3+iv8lAJAA7QAoAUsBGQEDAeIA1AD8ACYBrAH7ATQCjALbAuYCqgJgAn4CjAJ8AmACJwLuAXUBBQHiAKQALgDB/5n/3f8gAIUAeQFtAqsD9QSWBtgHlQhzCVwKYQveC14Mlwy1DFsM4wtUC7wK7Al9CO4GbQWlAysC3QDM//f+Ev4q/WD8rPvQ+jD6cfmN+BL48/fu95T3V/fr9pz2R/bO9X/1E/Uv9ELzn/Jo8ony1PJa84rznPM69Cn10vW/9q/3ovhv+VH6dfs6/OH8j/02/lf/GAC2AEkBIAIfAw4EFQV7BmwIMAqfC0YN2g5JEH8RjxIBE1QT9BIzEgwRlQ8HDikMAgqtB6AFmgO5ASMAm/59/cv8f/w//F78s/zq/B/9gv3c/Qj+Ev5t/s3++f7w/h7/Z/+m/+L/EwAwADkAdACZAL8A2wC2AMUAwwCtAFwA4v9P/8D+cf4x/gj+9v32/Wr+Vf+KAPgBqQM2BbAG4QcvCRoKawqQCjkKfAlsCM8G+wQPAwUBJf8N/R/7b/nj96f2YPVo9MbzjfM1883ykvKf8oPyh/J+8iTyj/Ff8YnxrvEZ8onyTfND9GL1qvbu9xv5Rvp5+6T8lf1J/lX/4P8VAA0AKQDv/6n/q/+p/8X/GgCTAFoBUAKMA8IEsQVjBuMGCgeJB68HTwgZCZQJFgpVCrwKBwuCC+AL4AsBDNMLoQtlC+gKXAqjCcMIZgf6BXwEywI5AdD/Sf4j/T/8jfs1+9v61fqK+qD6tvod+8L7f/wJ/YL9Gf6W/in/vP8pANkACAJaA74EKAatB1kJHQu1DNENgg7hDtEOOg5aDfILCwrsB44FCQOXAD7+evzt+ov5O/gT97n2mPZ59oT2ifa/9rn2bvYL9p71m/Rj89rxT/Dx7tTtDO0+7DnsUuz77A3u1e567z3w5vDI8a3yXvPp88Hzj/Or85v0x/Xu9pr4ePqf/IP/ngNnCEQNABJQFnkanh7rIUAkbyVRJW4kwCJiIIkdAxpxFnIShw7iCt0HrwVLAy4Bhv9k/o39Av2q/D/89vuY+yj7gfoA+p35bPlZ+YX5+/kH+7X8if4lAJEBAgOCBJMFQAZPBsEFswRYA/0BXADC/iP9lPs9+h35Y/gS+B/4gvh3+Yb6t/vx/P39+/5//9L/GAB9AK0ALgGnAXECiANQBIgFDgfpCDkKeQt+DMkM8wxQDDULZAmRBrgD0ADZ/QP7Hfjd9ZPz7vFS8RDxWPG98UXy6vJR89XzL/Qk9C306/Oc8w/zVfKG8WXxnvE68ljzZvTQ9SD3nvgP+kv7Svzz/F79lf2y/Zz9RP3D/FX8ZPym/MP8H/1u/R3+J/9vAJgBlwJ5A4UETAX6BVYGbAYOBt8EtAOBAvIBrQI6BOgFPwdRCAsKHgxDDgMQChFIEfkQgBCZDzwO8wyaC8IJvAfxBXEEQgNIAoAB9QB2AI4AJAGuAY0B9QAYAAb/Tv6y/fn8n/w9/M373PuF/Mr9BP/BAPcCKwVvB2YJ1wryC4wMIw2GDTsNaQxFC9YJAggJBlAElwK8AA//U/2J+7n5iPhi9y/2APWw89Dyb/I68tzxKPGi8FfwT/Ce8AfxS/GN8U/xGfEf8SbxL/E38XvxR/EZ8VTxE/IC8wf08vTq9fv2Fvil+O34svit+Mz43vhU+W/5ofnq+Y769vuY/RgArQJnBZEIQwy9EMMUGRgGGyIdGR9xIDsh1CB8HxEeCRyvGYQXPBWnEiUPzQutCLgFgQM8AS7/dPwA+tb3Dvbf9AX0GPNZ8h7yXvIy8530ofZI+L75v/vy/R4A/QE1A7ADuwO7AwcE9AOlA2MD4wJgArsBjQF7AdQA1/8p/53+Jv60/WH97Px6/Dj83PsP/D38Nf39/tIAnwIiBN8FKAjiCgINUg6zDrEOEA5eDaQMWAuLCS0H4QTQAhsBov+e/UX75/ge99X1avRw837ykfHD8EzwIPBT8L/w8/Ab8afx2PJm9Mr1Ffek9wL4N/ie+GL5d/nN+Zf6v/qE+//74fzr/f/9cf5O/lf+zf4V/mX9TvwZ+4P6rPls+WL5Ovlx+bv43Piz+R370vyP/YX+cP/Z/yUAfQCiAsUFKwkeDDoOVBB1E2YWrBh4GUQZAhldGMwXvBaCFcwUwxKyEC8OUwxfC+EJ/AdgBd0CIQFa/9H9Vfyr+of5mviI+NP4qvnv+rD7IPwC/df9x/5r/87/3f+M/4H/iP+0/wQAFQBMAEQBiQI2BKIFcwbIBukGlAbgBtoGdQapBTwENQNoAuMBNwFKAHb/Qf4z/Z/8xPvt+vX59PgW+Jf3ZPcG93D2sfX39Bv0hPMJ8/zyDfPj8nPy4PGN8UvxhvEZ8UrwsO8675jvCPCt8AbyRPOA9H/18fVW9m727vad9634K/o++wj82vta+4D7+fsa/OD7OPzm/FL+dgC4Aq4E0AWhBscHxAn3DP0QrRQaFy0YOxnpGlgc4Bw+HEgb8RliGJ8WARWSE2kRdQ4xC0gIlQVaAxYBuf4K/Lz59ff/9mr2OvZf9mP2n/br9tT3jfnt+v/7wPzV/TD/tgB2ArgDxgQwBWAFkAVPBfAEXQT0A1wDcwL2AXcBDgEcAEb/m/4F/u39n/7BAMIB7gFqAXUBeQMdBmUI6wgXCSQJXwl2CuYKmwpSCTIHPQUFBA0D/QEaAI397fpm+eb3o/YL9Vjzp/GF8PvvKO8H74TuCe6B7dDtJu8w8CHxlPHP8YfyZfOo9Cr2ePfI+O75Y/vI+9r7aPuY+4z8T/13/t/+hv87/wX+n/z1+ur5V/nh+dn6mPuf+yj7Kvvx+qT6ZfqD+h/7p/vd/Hz+uAD/Aa8C5gMvBpAJhA0MES8TmxMTFP8VWxgHGtsZMBnLGJsY0Re1FpQVrBPGEE8N0gpkCQ8I2wV/A0IBgf8k/vP8HPzX+nr5RPiz9yL36/ZM9wf4+Phf+a75Svov+4b75fuO/Fj9Ev5o/sf+Sv+v//P/DwAUAWcDdAX4BTAF7gRHBnoHYgdUBlQGhwcfCD8H5AXFBZAFDgTlAZcAdADB/0X+g/wP/JD8EfyM+mL5j/jO9+X28fX99Kr0UPQx9Bn0d/Po8svyyfIk8lbxxfC/8GLwyvC08b7yTfPA8pLy0fPk9T/3RffI9r/2g/dB+b/6qvtW+5f6qfrG+638Ev00/I37gfw3/Zv+N/8u/xr/2P4uAA4CngOfBAgFZAfPC5QQXxOVEucQiRE9FAsXbRgkGPQXyhdsF0AXwxYBFrcTnBAvDp8M5wu4Cj0ISAXLAm4BngAN/6j8HvqK+DX4afia+Eb4evci92D36vdG+B34Xvg++UT6kfvm/A7+4f7s/sn+Uf/+/7gALAE1ASwBKAFsAQ4CegLIA0oFngV8BEMCwgHpA1gG4wYcBfkCPQPaBI4F+gP4ACX/t/6Z/1oAjP+n/fT7sPuJ/MP8Yft++UT4rfiU+bP5JPlN+CH43viq+dj5qPkx+V74dPgm+fj4wfjT+EP59/kC+u75kPnn+Qv7APv/+2z7eftj+wz8x/z+/Ej9wPwz/YL9if5q/iT+sv34/Sf/7/+mAKAAoAB4AJkABwE+AZoBygE0ApsCugJmAjgCfAK8AgkDDwMwA1EDFgPhAuECxQLNAtIC9wKBAwMEXQSHBLkEPQWvBfoFaAZ7BtoGbQexB80HBwhRCDUIXAiRCHIIQgjfB4UHTgcZB4IG/gWtBUEFrAT8A4EDywIZApEBKgGXAPr/cP8G/xz/vv6Y/hL+tv0d/Z/8ovx8/CD8t/u1+8/7Cvz/+yn8hfzJ/AL9cP3K/Qz+L/4x/nf+wv47/z3/2v6m/mj+L/48/lL+Ff7R/V79M/0E/cv82fy1/LH8n/x6/Ez8Bvz2+xP8JPxO/F78+fvG+/D76/vy++n7Bvwn/E78YPxM/CL8Nvxt/Er8bfyv/N/8SP2K/aP9w/3p/Uf+m/73/gj/6v7J/gj/RABeAEQATwB0AGsATAAeAIUAxQAmAW4B0QEGAikChQJ7A9MDDgQSBEEErATjBLMEfAR1BCYEcAMYAyEDsQJKAiQC/wEvAgoCiwH6AMMARAEOAR0B0gBRAGQA3QD8ANsARAC6/w8ASABIAPj/DwAlAGcAbQCkAKIAzgDHAN8AeABMAMX/l/9B/yH/Av/A/vf+1v7n/uH+/f7j/vf+Fv85/7H/AgAwAH0AkACIAKAACQF3AbkB0QG7AfIBJwIpAt4BlgGlAa4BiQFuARABxwCIAFcABgCe/2v/Qf8Y/77+bf42/vT9wf3v/SD+G/7D/X39k/2l/d79Pv7Y/iz/XP+Z/9n/qf+c/7//jv87/z//iP/H/8H/iP+r//r/NgBIAFcAbwA/AA0ASgCXALgAHQFsAb8B2AEZAhwCWwKZAnECWQI6AlkCbwKJAmICVwJKAngCwgK4ApkCNAIrAvQB3AGWAXcBZQEhAbEAbwAEAGL/Av93/g7+q/10/U/93/yb/In8kvyX/JT8b/xZ/CT8Efw9/IH84fwS/SP9cv2p/e/9V/5t/mb+d/7E/u7+SP+R/9X/QQCpANsA7QDbALoAdADQAEQBuwEvAm0CkAK4AssC4QIlAxwDFAOzAoMCswKfApsCpgJ4An4CFQLNAVoB0gA9AK3/Wv8T/+P+z/6j/lv+Cv7v/c79o/15/WH9Qv33/B/9bv29/f/9M/44/jb+M/6H/uH+x/7A/g3/nP/r//7/4v8nAHIAigDBAP4APAFoAYQB4AEpAvIBpQGAAYkBmAEqAeQAqwCbAKAAWgBIAHoAgwA0APb/wf/x/woACgACAOj/AAD6/+T/8//o/wIADQAKAPz/3f/2/xMALgAlAC4ABADH/7//ov9R/zv/O/8s/1P/XP87/xr/5f4C/xP/7P6u/mL+gP68/oL+i/6d/sv+Ef+G/93/4v/B/8f/+v8gAFMAZwBpAGsAegC4AO8ABwEkARkB0ACgAKQAlQCbAIEAVwAIAOT/ov9M/yH/4/6o/lT+ZP5v/oL+tf73/vD+if5q/ln+i/7j/gL/cP+Z/6D/cv9M/y7/ff+m/5X/ff9P/z//CP89/2D/k/+t/4b/Zf9c/zv/Kf9i/4z/qf/S/xwAZAB4AJAAvADtAD4BhAHpAfsBPwJdAlsCkAKBApcCWwJtAkECIAL/Af0B4wGsAaEBgAGCAY0BgAE5ASQB+ADXALwAgwBcADQAWgCIAJ4AqQCeALQAgQB/AIEAZAAlAOb/5v8eADIABAAlAP7/2/8NABgAQQAwAAQA5P/k/7j/dv+B/57/pv/d/8P/dP9P/1r/XP+g/7z/x//4/1wA1wAkAWwBWAF3AVQBdQGNAXsByAHuAToCkgK1AssCrQI0At4BpQExAdIAzACtAMEAbQBBACUAGgDi/4j/NP/j/of+Ov5O/nf+kP5o/oL+jf5b/hD+q/1n/TX9LP1n/an97f0m/lf+Uv5F/j7+X/5M/jj+d/7P/if/jP8NAKQALgFLAU0BowHjAbkBkQGYAeAB/QHpAf0B3gGyAV0BSwFNAVgBNwEHAdkAhQCOAFMALgC0/4j/cv8y/8D+lP6Q/mL+Qf5U/p/+xP6C/kH+K/5F/kH+Pv4+/nz+tf7A/vD+Qf+x/8f/tv9g/3D/sf/B/8z/0P/o/wAA+P8EAO3/w/+I/57/uv+v/4H/Qf83/3j/lf/z/z8ASgBGAEwAbwB6AIgAvADoAOQAogCDAKAAdABpAFUAIwD+/z0ACAC//7T/tP+v/63//v8KAOb/v/+O/7b/v//O/87//P9BAHIAbQBBABwAAAD+/9f/4v/S/6n/Pf/f/rz+rP4c/23/hv9R/0j/e/9//3b/oP+6/8X/w/+k/5H/cv9t/4H/gf+M/8z/4v/X/5P/kf9R/1H/a//d/zYAJwBEAD8AiACmAMMAoACmALEAugDFAJMAegBIADQACgACANn/5v/v/8z/tv+x//r/HAA/AJUAqQCtAMMArwDkACoBMQFLARsBFAEQAQAB2QCZAMcA2wDDAIgARgATALT/dv9w/4j/jP8s/wj/I/9T/3D/eP+i/9n/r/+m/+j/DwDi/6n/sf/i/xEAlQAZARIB1wCFAHIARgAKABwAaQB0ADYAHABaAHIAaQBpAFMAJQD2/7T/wf/V/+L/DwAnAG0ApgCZAMkAtgDHAKQATAAyAE8ANgBaAF4AZAA2AP7/0P+B/0b/Df/1/qz+pv6z/tL+0v7U/uX+y/5X/h3+Cv4D/lT+Sf6b/vv+J/9n/5X/6/9IAGQATwBIAIMA1wBaAZEB6wEiAmIChQJgAgoCsgGGAYABhAF5AYQBWAFuAXcBSQEdAQsB6gDSAIEAUwBGADsANAA9AFwAbQBgAPr/+P8VAOb/mf+M/+b/5v/S/+D//P/2/7j/jP+k/6L/a/9G/2n/Zf9P/17/a/+e/7//BgDZ/8P/5v8GAEEATwCIALgA5gDJAKQApACrAI4AqQDQAMkAugC2ANkA6gC8AIoAYgBrAGkASgAVAPz/5v/F/9n/6P/H/2X/HP8E/7P+V/5z/k7+VP53/ln+bf5o/kn+EP7y/bv9yv0I/g7+Iv5S/pb+vv7H/qb+jf61/qP+t/4s/1P/bf94/6D/x//o/9v/1//g//j/CADz/yUAPQB0AG0AYgBTAEYAdgCMALEAqQDtAPoAAAHfAOIA/ACZAG0AogDzANkAvACKAHYAiADJAL8A3QDJALoA2wDSAJsAgwBaABgAFQAyAH0AVwAIAKL/ff9G/y7/Uf90/2f/YP94/57/iP+R/63/r/+v/6T/5P/i/wYAIABeAJcAzgC/ALEA3QD4AMwAxQDUALwAxwDvAAcBugDQANAAiABMAEYAZABtAEgADwAwAB4ACAAIAAQA8f+2/5H/r/+2/5H/iv+R/4j/U/8w/z//Lv8w/0r/mf/z/+L/q/+v/6b/TP9G/1r/r//8/w0AEQARAAoAFQAeAOL/uP+0/+v/5v/Z/+3/BAD4/yMAXAB/ALoAogCKAH8AkwC8AK0A/gAZAQUB6gDBAN8A+ADQAKQAYgAPANL/tP+g/8H/1f/X/8r/iP8a/+z+8P7a/gD//f4w/z3/cP+i/5z/qf+k/6D/iv+i/6b/1/+t/8f/1f/+/ysAHAArAA8AAADv/9X/4v/M/93/QQB0AGkAbQBeAGAAQQAuAC4AKQAnADYAWgCDALoAugC0AL8A3QB6AHQAbwBrAE8ASABtAIMAmQByAF4AJQC0/5P/Z/94/5H/mf+g/7H/v/+G/5H/lf9t/4j/7f8jAAoA/P/6//b/+v8IAD8AUwAYACAAKQAwAFMAXABIACkANAAGAND/qf9c/zv/I/8j/zL/MP8T/x7/Rv9E/2X/f/+G/6v/8f/o/8r/uP/X/+v/DQBPADYA8//Q/+v/DQAaAO3/+v8IAAYACAAaAEoAigCbAHIAjgCKAJkAogCrAK0AXgBBAD8AWgCbAIMAXgAyAC4ATABvAJcAWgA2AEEAbwCkAIoAMgAPAO//q//M/+v/uP/F/9L/0P/B/5n/mf/F/8f/wf/2/+3/yv+4/8P/zv8AABMAPQAuAAQA9v9BAJMA0gD+APEAlwA9AB4AAgAuAO///P82AGAAmwCVAG8A+v+m/4P/zv/m//H/7f8EAAQA2f+//4r/SP8N/9b+wP7w/vL+y/79/uX+lv6h/u7+J//y/o3+h/5M/kf+if6W/sf+wP6+/sf+Df8G/1r/gf+m/6n/dP+K/7T/2//x/zAATAB2AFcAWgAnAO3/DQD4/wIAEwBIAEQAGgD6/2cArQC0ANsAxQDkANkAqQBpAGIAOwAIABEAcgDOAJcAqQCtAK8AogCiAHYAIADS/wIAXgBVACsA+v8eAB4AMACVAGkA8f/i//z/awBGAFwAngCZAHQAkADfAEcBEAGrAJAAqwB9AF4AdP/v/1MAVgHaAQwJjRP+AFb2efZ6/HcGkAV4DNIelAx4+rX0vvTZ/23+wfhjARgFWwIN/SX4Hf5iAAX+xf9EA+UBtwY0/B4CTP9nAIEAPwBZAuAIcgOe+G0Co/up/WT+WgE4CeoKRAaOFpMZjwPk+PTzu/tlCGIClwPSAp/2jfNh7LTrde8D+YP8DwNPAN8FOfo89Gn1QPatA9gC2ARsCwYFU/yK8K3mje9V9woCggnKCAIAjfZU8eDuxvZE+PQBVAQsBtQHrv5U9tz4nvgz+8cCoQZfCQsKGAOO/7b9X/v1/Of+SwTKBcUF2wLC/rD7yvvb/NgCIwPxA9MD7wAy/ID7o/4bAboCpgLiBQwE2QBy/xf+UPwoARwDdwStBbsDDgEA/wb/LAHkAJUAGwSmBRcCawBa/1T+z/4X/pQC+AOABLAB+ABdAtsAMP/4/U0B/gJlAwwCfgLB/xL9KP3U/qQAgQA5AEr/dgD+/0T/sP3d+lr71vyi/3//JP4h/fT7ofve+4z8g/wd/Z791P6O/979IPyJ/HL9bf5J/kT/LAFaAF4APQDh/tL+vv4KAPgBbwLgAcMAngCeAW8C5wGNAegC6gSBBRcE4QJMAhECsQL6AyoGjwYVBbsE8QV5Bu0F4QRgBRMHPQeXB2IHzQYrBzgHawdvB2oGygYDB24GaAZwBZYE9APhAp4DrQN8Al0BfQCO/4z/+v2z/Gb8Wvv5+4b6hfmn+K/3m/fq9+n2gPa89Tb0VPSb9PX0pvSb8iLyZfOR81HzGPON9Mr1bvZ89y/3pfa59r73Yvrw+638fvuC+5P9uf5P/xL+yfy1/rEC4AMVAjAAiP8HAc0CWQSABuADEwB1/hoApwP1BVUKiRGiFLkQlgm+B3ULZw90EkUWdBm8GP0TFQ5IClsHuQRAA9ICuAUaCCcF2v5Q+T332PYw9UH1y/cF+4r9Ff6vAFkEZwXHBbALAherGVkRzgoADSEVMxjvEjMNxgtrChkGpv5p+B735/Ng8lP1g/ep9Yru6+lV7SbxVfBP7iTvB/Oy9nb1jfFD7+Tu3+8r8I7wEO987Tnsheti7aTt7OjL41PhDuPr5/bpduhq53bm6OYU6T7sEfJw9cX3Qv17A+cIzQ7SFlsi2S0UMyMwsilVKLYtpjFRMJ0s8SgMJckdNxRICh8BwvnR9B3zW/Sm9NTwWuuF6OnpEe1F77XyNvnTAVIJZw1DDkYPUxHnE8MWdBmjGgIZBxWBEcMNSAjnAfT7qvdB9NnwTO3x6WXnYOZP5uTmTOgM6j3tKfKn9s76Zf8zBFYI8wqyDW4SlxbvHsYmzSTtHGwVKhXCGLkY5RPEC+YF2AJe/075n/I97QPoq+ZR6Urty+3l6lPp2+vU8L3zm/IN80v2M/sf/ev7afqe+Jv3afdq9kH0Z/CZ8ETxEfI587HwTO2u6v/qBe+T8A7ykfHb8M3vM+8Z7/PtZu098A73V/xX/Nz5WfcG9wj3gffz+sIEHhTcH+kmgSh4JT0ewBZuF1QfIifaKb4naiRoH1QXPwrz/Gj0GvNz9mr5f/p1+Vj2+/HX7oTuw/CL9DD6BgJNCzUSeBRbE74RARH1EUYUJBWMFNwTFxOyEI4KZALa+9v1LPHU7xbxd/Ft8FnvPO+q77XvBvA08oP3RwHzDBoWMRp9GcEXuRgsHl8kByRoHWIYbhdjFyESWwf+/Pr1U/Iu8Pntmeu+6Bjm6eRe5ubouOle6anpTu0v8rbz6PJa8yT05PUP9QLzOPKX8Avw5/HB8/v0dPMg8hbxke6+7Zfr4+hW53nn7emu7M/vsfAy8FPtk+l46Fjpr/I/Aq4Q6BnsHdIlVi6bL0MqNiW4KGIxFzgJOtM1AS6nI08X9wns/v34wvSA707thfDq8qvuseYV40fnaO2c86T63wJPC5gSChj2GdYYWhcqF3MYIRn9GIQXTRJKCj0DDf1M9U/sd+WO4+Hj2ONI5ATk2+Mz5WDooezH8B/2+v3+BSkMNBGjFVAYSR2bJ0QtFSc+HPsY6B54IMQYMw3rA8H/9Pvy9rzwb+ow5l3iuOGX5vnqlOrN58zpQvN++w77TPfJ9zL8zv+o/pD8Vvt6+Qb3MfQC84XwDuy/6c3oLulb6tfrgO9o8YHwnOxy5hvlYenV7mnzO/WF94H6xvuR+274cPby9iH40vpQAmkSkSPkLT4wNip/IesapBlcHgUkFCkWK3so6yErGIQLuPzP7yXpZup08Df2fPmN+Iz1pPJ98KDw9/Kp+BECJQ1QFp8bKR2bGxcYKxM+EDcQkw9iDloNIAzcCBkBb/dp7ljnC+T65PDnHuu47hnyRfTE9GL1fPcC+sf+/gXnDqgYyiHzKC8p1yEaGcQVjhn0HJoaShSnDdwIjwOf+wbyXuk046rgCOMt6DbrzerQ6PnoSezq7z7xgvFL84f3L/yV/Vv8wvlW9h30h/Jl8QDxUu9W7j/wOfH+8Grv9e1p7uLum+3M61nqcuth7oHyc/QS9EryavGp80/2g/ej9r/4LQQDFbkipStRLxotAyflIi0kdCgfK4Ar/SnPJjEiDhrCC7T6fe4d6r/pBOtx7TLwjfGe8QDxO/DP74Lxkfbf/lIJMBS+G88d4RsnGeQWHRPyDZQJ1QioCVEIAgXz/2P4le5V5nvi+OGy4nrlVurR74X0T/iK+ib75vxjAVkH2wzAE7kcZyb0Kw8qyiFrGTgWthctGOgUgQ+2CnsGDwCr+E3x7emU407hIuVV60/u+e017jTwU/Ky84jzRvNm9C/3FPtq/lr/I/2Q+VX1UPLw7zbtiusK7afue/G282f1qfPb7XDpvugV64Htt+1d7xHyvvT89WD3Ifoe+sv3u/Sx9J74cwR0F9AqDDZ4NK4rOSOBHhog5yGHIlEj7CQNJnoiwhiSCeH3Kukb4tbjKOo6797xIPQ294T4c/fG9KTydfS7+3gHmBOKGxsfAx92G1YVXA/GCZIESQFgApcFtAV3AQv6z/HT6Q3k3+HN4gjmNOsr8hv5OP6kABUAgv6m/oECKgukFhkiBigSJgshiR3kGxIaxhWwEP0LyggcBw0FjgCG+PDvVukc5nrmbufo6PLqhe2n8Y30VvS/8Wbvwe737zDzyPbx95L3T/bG9LPyX+9S7Ffro+qx6//uvfN19qD1TvLP77nstutK60vst+yo7RnxkveP+yv8XPiY9Frx6fGg9b8ABhRvKtQ2ljVOLPclfiJtINseYCByI9Yl3yVwIw4deRBH/mTtD+Ql5JDo2uzH8GL1SPoW/dX71PcD9LTzNfhlAaINJBjfHfoedxy7F0gRAArCAob9M/2XAH8DTgKt/Yn3cvD66cnlmuSJ5SHpRe/O98z/DASbBMYD6gVVDLwUiRoAHGUcNB7zIOolLSeQIIkVKAtKBbQDJgFT/QL43fJI8O7v6e4D7EPoa+Yz54rrPvEB9FbzpfF68qv1SPeB9TDzqvJn83r0nvVN9on06PD57Z/vJfOr9Vzz5e857rHtWuzc6mjo6+es6Ebr5+9/83z0A/L47u3uHPJy+GwDRRMhJjsyYDSrL2sq8ibmJWMk7iSrJR4nGCZDIq8b5hHpA9z0Seps5/zo1Ouq72/0cfmT/YX+/vxr+g361PzbAqcL+hTWG8EeYh4qHHAXJBBeB1z/PvtA+9T8N/1s+yj4xvMh7ifpl+bE5XLmPurf8IL4YP9cBTYKDA6tESUU6hP6EqAUHxobH4UgWh5EGVQTBw01BjIAQfp29UjyB/GB8n70UvSU8X/uwu1A7izuju0v7aLuBfHY8oD0m/Qc8pzu/uvb6z7se+xu7GDtRe9084H1n/SI8C3tx+uW6izpj+mp6cnrcu7g8W/0H/M08Kjt8esE7sbxGPrKBugU2iTxLw4zkTDJKqcm7iRvJfYomyp6KospPydGIf0VGAgF+8nvb+qz6sbuLvPC9lH6FP1I/ZT85/nA9/n3Hf3XBcIO0xW6GYkaoRh7FP4PMgpsA9H93fr8+pj7N/se+iT3fPKi7YvqQult6A7qou6m9Pb7ZwNlC+ERJRSxE+cSMhTJGMcbYhvAGHsVNBTHEaYMEQdvABn5w/LL7wvxrfLp8YXw2/CE86z0zvPP8ePvnu5P7vHuDvEK8v7wRe8P7tLtFe2v63vp++fb6JPsje9g8tDyfvIX7/zrhumM6XLpfuqT7F7wbfJk8lrwFu6a7C/tUPJI/DoH9BLkHugo+C1ALjkt8yppKFQnIShCKLknOifjJLgedBYPDckCO/in8ZLv9+9S8fn0h/n1/C/+Xf7i/S79Df3U/n4C9wfIDRsTxRacFyUWuxIdDZQGFgHM/Zr7kvnV+Af5lfin9uvzfvHm7kDsYOsT7drxG/nLAiIM8BDMEocTehPVFWYa9RufGDAU2xEWEsgQrQwgB7r/y/dX8hbxi/Eq8ZTvIu9G8DDzrvT/8/nxU/CV8HHyMfTm9Ur1+fJw8Pbupu8+7/3sm+pY6Sfr0+wK7YPrDOjI5PHjkeTI56Xp3une6TzqFuwN7t3ttOyo7fL0EwBVClESKhqjIq8oASxCLZQsHyvvKF0nrievKCwoiCObGzIU6Q1OB7//G/mg9fn0dvU09wj61Pyt/QL9Fv2u/iQBLgNPBa0IfAwoEFwSUBM5Eh4PbAuBB2gEEQJ0/9H7I/gF9mv1aPRX8o7wPu+97pHuBe9a8Pvx+fSm+nQF0RIYGcUWSxLhE2EaLBzCGLwUNhE7DxwMrQoZC2gGs/xD8uzt4vBZ8sDvGeyn7CbxCvS39Eb1UPQv8lzuRu6x8rj1RfTf8GLwu/Om9EHyRe9z7MTq3+gq5z/mJuW+443ixuJ+5U7oT+mR55nmL+gu63Ptz/Go+XwCdwivDLsScRtaIycoiykxKZco8yePJjAl6yPyIXodvRcrEyEQWwwLBrj/mPtD+Wz4KPkU+0v9Bv+rAIkCagRwBj8HBgcGB/wI9gu2DRAOvQ0WDYYL1QhtBdUBIv50+pv3JPbV9bb1QfWh9Dr0WfSo9M30GPXx9Yz37vkE/UIDQg1mGIweGh5fHF0aghflE6sPmg35CzII3wVbBEIDoABi+TTyOe5x7Z/tsOzx7anwHfPf9OL1nffL96P0mvEy8LLx2/IT8ofyAPMC8zryC/C/7pjsq+nN5wrmxOVr5qTmpuYy5sXm/eci6B7oNel/6/judPPN+X8AUwUXCV4NPhMPGU4dEiG6I8YkwiRLJPMjaCJQH4wbpxd0FK0RhQ4QC2AHOgShAXT/ZP6N/sf+R/5o/jkA0AL5BB8GTAcWCEYIjQgtCYUJ5wgCCLsGfQXTA4wCrQD4/V37sfmY+Dr3B/b69ZT23PZ697v4afoo+7n7FP3b/7sE8Qy5FVsa4xoyGYoWZxSmERwP2AwCCIYDmwBe/5X/OP7k+sb2yfId8bjwFPER8qTy//Or9fH37fqu+4P6wPeZ9Rj1jfSV8zXzzfJQ8kvxQfBh75vtK+t/6W/oV+h56UfqmOqS6l3qfOoR64HrJ+1H7wryUvbS+tv/kwOpBYQICQvRDa0PkRBREtAUfBiaHLweMR98Haoa/xdwFVsTKRGADhUMVQo7CkYKjQmtB/IE0AJSASYBqQFXAu4CsgOuBN0F0wY/B3AGkgRaA5kCUALcAUkBIQH8/83+9P1Y/Tb8Ofrv+Kv4wfjI+Gr5a/pp/Iz/HAPKBa0IyAsMDrEOyg1uDUINIgxiCuAIxQf+Bd8CMACF/q395PyY+3D6ZvkH+af43/dT98b2Jvby9NfzlvRa9rT2MvXK80jzGvOP8x/zBvKg8MruHe/48G7xjPBj7o3s7uw17inwg/B68P7wmvFY81n0nvUO90z3Cfh3+aH7cv0Q/gP+Vf9fARQDwQMvBGAFuQa/CIwK8gtIDB8L/QlTClUMvg6/D00QbxHDEdQRWRErEV4RnBCrD6oOHQ5ADb8LDwr/CCMIPQdtBdMDQgNlA6kDpAKeARQBngCBAGsA3QDTAcIBIQEUAXUBjwEJAXQAYgA9AEoAaQAsAwsKQBD8EVoPAQwQC0sLTwoTCswIjwYbBGMBygFrAvH/LPtw9i71e/j/+339FP0H+9j3EPTV81r1KvgN+Db1NvRT9c/0kfNJ8cfwD/B68G3y3/Tm9z33Qfd09avzyPHq757uJfDQ8jb00fPn8eLwKvHa9H73iflJ+YH3C/W/9uD6V/4YAL8AzP/SAPkCSQQVBT0FzAX1BY4HJQqNC3ALZwiLBiwGcAaXB6QHDAexB+sGmwWtBbAEYQQuA1YDRwQOBgYHzQZGCHIKQQw3DaULJwpWCLMHLgioCZQLWgumCmoJCglvCSsJQgijBrUEXgPdAo4CLAN7A1YD8gHfAMcAJgG8AhAEeAXVBZEIogzcDvIOgA5rDEYKAQcrBN0CkwDZ/Db61vn8+lD8/vo3+Nz4vvki+Z33xvT280Xy/fEg8s7zqfNS9MrxvPCU70TwRfLN8jr02vQO9EL2nvh9+KD6UPls+EL2q/ie+If8Ovtw+Ib42/WR9kv2evka/Yr/AACT/8L+ZPw6+4n7WgAHA6AF5gPuAv8DlgR6BfkCbgFPAO4B+wT3B4II6gfOBbYFtwYsBnkGywQlBaQCBP8w/48BQQRQBAwCav4o/XT8SP0p/8wAFQLWAmICLAMBB5sHzQcrBdgBbQJ4B0kLUw2GC7EJ3Ai7CDIKpwvjB5wGbwdzB8cKnQmwCAMGngWDBfoFqwU5Ay4B4f6j/VMA2f+d/uv/X/5gAFEAx/9V+mv3M/Z29RT7wPkr/Hf4H/jq9ff09vZA9m/33/nP+Rv70PdF91b2g/WI9RTzyvbK+of+8v6W/mr+gwAn/ED9mvtm/I7/jf4B/sEAVQL1AL0BKgHRBAMGHgLmADb+JfqU/IP81f+nATYARv35+2f9V/7zABsBdADg/zcBBgL5BJACaf/FAC7/tAO0BTsDkwW3BO4Bzv+t/En7z/6iACQBHgB6AB7/0QEDAb//AwJg/zYAnQLMAPYBWAPBBVsHwAm+BxMHugUDBuoEmwWHB4YD3QLK/U0BjgL6BSoD5wGRAdf/RQKo/jn/jf2p+i/71/1IAFsCCgB3/gQABv98/q389fns/gT9cwH2A+D/fgK2/VD7Vvsx+Vf8/f4sAUP+Qf9o+9H7/Pz3/Hz8mv1o/lH/CwMpArYDugC8/oX8V/+xAuECNwbfBJsFzwSkAn8Aqf8e/Gr5k/1B/1oDcwEnAJ3+U/2Z/4j9Ev4U+4b6mvsk/A7+5QHx/5sF7gbUBLgAwv5K/xkCGAXvA1oD1AIe/6QAM/6s/gj/V/zV/fH6NgCs+8z9Q/6b/sMApAJRA0AD9QUjBdgGDAmpBdoEJwMXAowFXggdCWgHIwX2/cj9kv6/A7ECKwWMANz9afe48znzw/UP/0z/AwQw//4Cqf2F/oz1kPfS+rwAjgcgB7IGGQQDAr39Wv/E+eb8Mfl++Vv50ftN/Sf/fgLfAvYB+fv1+Y715PhS+5kCRgMRBb4EAAHxA4kCRQJ3/oUAdANoBOYCOQCFACQEvQa1B8gGWAPM/U75dfu3/lYBMf7j/vX8C/1g/wL9dv8q/UH/W/7J/gX+F/7j+aj+2f+cA3cDWAY2B0kBgvjG9MD3T/3qBRcHFwd9//f3U/gh+Mv8bAHc+I784/7VAeoF1wP0Ab8BCgDIA44HXwaBA43+XP0GAuQDJASqBL4CcgNBAD8CoQGEAfr9ZPmo+Qv7BvwP+qz5aPnM+in/D/30/Yb6V/d894n3KP5TAFT+q/ga/6QAzQalAw8DYPzd8rz3JvvM/+0FVQK0A1YEbwKp/yH7tPrk+p/8cv3N/qoEdApPCv4KggjhBI4Ay/4//I4A4gNaBn8KfwXw/if8QgFmAskEvgR29835RvWa+8gBYQgWBusBIQNi+ff53/fI+2f9ywJrAnoCAwGj/V37bv3KAUcEygZe/7j6cwGcASIE+gOH/lv+7vet+gj+cwLpCIMAVgim/rgAzf4FAfcCFwcTB5oDlAS8/mv/5f66AvgFQAidB5EBNwOx/2sAuALnAeMCfgHKA18EsQXg+x345PVc9T77y/ziBa8AdwYEAAj/OwUv/tv/uvcF+zj8Fv+B/9n/mgHi//T7+/tv+RsBKP22/eH85vpu+y/5G/t9/QQFOQXxCjAFCwaB/1X/+gCY/sMA9v1n/8EDTQYTB0UJAgMRANL67Pdi9wH8tfv5+zD/wgFwA8ACuQQa/yX4sfo7+k0BGv+MA2UGlgTjBtn/ufsL9fHzF/L0++4EUQoLBUQDUv5z/l/7Sfki/mL8a/9Q/lMAIgRDBDoEJwXIAdMDPgbQAAD7VwB6BL4E4g2fB88GbgMeBzUBMv+i+l79uwO0BUcLtAHOAKP5DPzq90X8vPzX/wb/Pf99/5j+TQHFAmICU/3x+jb6Q/fj+0IBHAMUA7z+W/zp+xT9Nvr/+Hv4Wf6c/6kDFgMOBnAFbwKs+xf8qvmf/qoE7gJOArz/0fii8775B/25CXkGVQzBAIz/XgAKAAcB9gH9/un77fpP/TcGigObClAHNQNo+830PPEM9535tAMXBNAHSQZvBKb/0wG5/ur03Pa07qv4ovyDB38I4gjlBP374vq2+EH/aAGvAB4AGf7n+TD6RgPuBDMLIAdKBXoE5wT9/hH8Of9eACsHigjKC/0J/QlHCR4AFP2J9C/3Sf5cBTMJ8QW0AAP+0Pxr/zH+9QAuAEv71QFa+ngCAAOgA94BK/5d+0H+i/5MAH8DJQU6AmH9TPdn82H2vPrF/z4ECwPD/6P5+/FL7yv31f17/3gKrwJhBhAEtgWuBLADFgNi/ooA+fsS/RsBqQONC3YKLAsFBooFwfjA9/P1afhL+6D/nAPxBZQHwgRB/P71wfAb74T2hviqBJAEewoJCBYIngHh/Hv9tfz5BEgC+gi4AhkE7QAK/EX8rQCe/yoDB/u8/Hv4Dv6p/e4B8QPkA5cCQP17/b/6NgAnAm0HpQgsCGYEnP+7/Sj+7/8R/xwD6wM7CHwJGwYBCXsB/v8H+wv4G/bN+1T76ft4/wj+yAHRAcsEmAFWA1r9uPw9+h372QPEBnQI2AbKBUT/IALo/B37sfyR+7H+Rv0P/078uAXV++MCovxs+VIBfgKMA/IB9/ws9j/8u/2/BlwIHgJ++9v64fcE/C7/dwRZBLoFmwLYAnMBgwA9ArYAn/yT/6ICkAIqBrz/Of19+nj6Lv+rBToEzAVQAgP5/veD+oz68gFJBH8A0QYMAkoCVfxM+Wj7XvweADr8PQIo+Qf9Sf7lARUCuwSeBbr/CAKi99D/hv/MBc8LjwMZAcP8JPat9wD9cgC1Ap8C3/6TAH7+h/zf/of+Rf4x+wT9OQDUCcwKPgYYA+QDiP25/sX8x/rz/Pv5CPzRBAgHxAE8ASX6Vv3n+Oz0CveT+LT/9/7EBjUIDgcgBOL9Kvtd9CX1YPWJ/u4LQhBFEGQHxP7E+/n3jftGADYHYQPt/9oBGf4WAxUCHgWgAGv82PZO97L9gP7IAQcDJAR0BSQBXP9e/+MB1wPUBCUIwwqNCGAFXP9u+3X5yPhD/IH/lgFaASACgAHAAs4Ahfzy+1X8zvrs+VUCNAeiDYUJDAI7/VP6Zf0yBQYHUAem/vDv1+6c+JT+VwodDVkJcwd3+0f2efaF9xv7z/td+0T/qf8uAIoAEwDP/v/7MgenAQgCMP8c9RP8wPmhBAMHDhD8DOMC4fwd9vD5jABMAIkEdgIX/m/8yvvb/xUFfwUoCLwFsANR/TP0QfUG9+v/xwckBDAIxAT1/ncDBP1SBh392/+G+r7+fP4GANIAwAIGAqwBjgWgAGUBivp3+Nv1lPxZAqoC6AX0AwUEPwXu/CAFLv+nAS76+/n7+9z95APHAmUDBwFt/jD9OAJuAcP/Gv1n+O/47fPo9/j9ewiGC3gKFAN2/4H6nfLb9YL7UATWBDoHHAeEBvABCgIy/A8AxPsC+m4Bcwf8B0sGf/xsATD6G/ba9sL7JwN+BiUK+wTOAB35lfV582n8yAYKB2kI1ASZ/wL6NveC+VwDPgQEA44HAv/8AG3/yAEw/c4AAv3y/S0EHAJV/yD+SPxQ93D9vf1NAwsFywIMBJD+rvlw9e/61P7YBokGlQA1/Qv7nv2u+WcDyf6DBXcBR/42/G3/zgAAAFkHBv/fBb4CdP8ZBEz8NABdATMGsAQKBOIAbP1CBuH8uAI5AQj+Uf+BAOMBLgO6Atz7UfW981v5i/v9BPwCPQCX/Az3rPkv/K/82f+BAgEExgPpAQP5Fvjw9qH54AFlCn4LPglrAhgAL/7W9xb6hPtCCNYHhAY2Ba4BlP6M+un73v18/hX+lfhi/5kA8AEnAqH+6gJpAA754vgz/SYElQrVCkQGrAQN/yj9rwBUCVAJywKaAar7af+I/2QAgAElA/kEpwbEBGAAivV97lDyuvr9BhcM4Qn1AmL3JfVn9Qv6uf6t/xMCbQBoBN4DI/2u+Vz9Av/nAfQD1ADRAbr6dgB3BHIF0QM/Amv8kAA9AvoA1ftu/av6xv3jAlAHnwlEBr/6t/ZI9z33bf8gBa0KeQtvB0gA/flV96n1CP7EAVcFaQVL/az+/Prk/QH+UwBAAzkDtv89AOD7i/tZ/iYBbAQeAHMBLgNKB/0GOAKb+Tj5LPiCAbUEoQn1CkQGqQHz/Kb5V/mx+in/VgioBFgG9v1rADX7//jg+En2Nv5K/w0IRgW9AS3+x/fN+fD76wFT/2AArwCeA2kA9gEF/iX4XviS+aMBDwBrBWcFGwRPAJv88vZ585/78wLPC3YMFAaU/DH0rfgE/b4CHANT/5z/L/5uBkoHUgF5/Sj2c/vx/2QHmAtgB9UDV//l/qv9qv40/78AewMtB/QGgwIS/er3H/ja9nj8BgKcBlkMnwx5C8wAAPbJ7RHyx/knBwIPNRBiDDUDbvgb8cz1KfplA3oHHQ2kB14AqvlU9of5AP3cAUMH+AiDBWT+T/Yu9R34xP7YBqYPPw/cDaQA/vU98KH0f/2iB9IPahCDDKAAr/c+8ezy4PpIB9kNmAvjBA369/fJ92X7CAAOBrEFzwQGALX7Rfy2/TIFUwVwBXMB0vy1+eH5yv08AWcDtAVmBLQAgP6n+x76uPgb+2/8T//oAGD/E/+4//3+uP2E+5r9TwAiAhEC1wBVAKD/HADiADAFyAjYBtgB9vsh+N31iffr/XsGqAz2CNoBz/Zm75fwJPeGASMIPAaI/638P/rf/Nr+aAHuAYYDmgHQAn4BEv4p/LL7f/3HADEERAMVAp7/6Pxz+8T7FfzDAKUBuwNSBBIDxwBq/oH8Z/3fAG0C0QTyBIQD/gJPALL99/yi/wcB2QNPBRIEbARLA+QArv5T/bj9GQEZAq0CFwL4/Vr7w/wTAJICGQIt/rP8+fvH/IL+TP/r/xH/GQE8AU8Bwv7g/Vr9+/4lAJICnAE7/zb+Uf8yAtwEiwTOAOb8J/ol/ej/4gN8BDoC5P8K/tT8Cv7y/koAowHzAOj/w/z6+nn7Fv9QAtgEsQXqAln+EvtB+Un75P9hBLQFXwRgAAr8wfq8/EoA/QG3ARMAX/7c/jkBEgMgAh7/afyB/GD/DgJ8Ar0BnP/i/UT9bf7SALABBgIKAnUBOQAT/zb+v/8GAn8D0wMZBLwCAwGXAKEB8QKGA0ADIwOgA54DHAPxAuEChwK7AacBFgPrAyUD4wFUAakALgHeAdoBkQEEANL+OP5a//oAqQE/AOr+av4g/mb+aP63/jP+c/4k/ln+kf2Q/Fn8mfyz/A/9CvzA+eH3ePcj+C35U/g09132S/bd97b41/gq+MT2GfZb92L6qf0z/uH8sfpo+Uj6xv37AekDngM1Ac3+X/6rAEcE5ge3CSUIDgbTAxsEeAWhBiEIvglMCmEJxQcDBvcE7AQhBnYHkwhWCGgGQQQ3A7QDiAUoCOEJEAkvB+wEiwTQBQQIMQm+CaIIrgaVBb8FVwcbCToJlwd9BQAD9QBEAHgAZQFWAYr/6PxT+s737vZh+Cb5gviZ9Z7xzu537i/vDvEt8l/xwu8n7uXsiew/7QPt4+wL7lDvqfDb8IrwjPDq8KnxJfNF9HT1c/Yk9tr2GPg5+mn9qwDJAt0C9wJhA3QFYwjVC0EO7g7cDq0PyhLcFUIXUBakFCwUjhQyFpMXKBemFEERYA8jD8MPVw/uDIsJcweRBvUFbQUKBIYB+f4z/aL8T/3U/JT7dvrR+aj55fnj+db5L/k7+HT4rvkW++77xPul+8/7TPyy/bT/XQEHA/8DrgQIBdsF5gcGCiQMGA2MDMUKUAmUCegKKwwiDGkKIAc2BGQCOgJ8ArcBXv8E/DX4HfZT9UT1RvW984nxde/z7Rztqezf60brseuv69vrIezQ6x3sQuwO7ertBO7s7WPuYe/18C/ytfI581HzefMd9NL1NPfR+EL7zv0G/4v+Vf89AoYGeQsLEDMTjxLuEMARpxWWGsoeWB/BHHsZZhgMGo0c4x1yHDMYWBKNDukNnw4bDl0LawcYA5z/iP0W/fX8+voY+PP17PQi9C30MfQi9L3zTfO480H0t/SD9UP31fjY+Uz6ePoQ+9L8+P/WBMgIEgkRB7EFDwgbDgoT8xROE8cPeQ25Dq0S8BWtFFwPtQktBxQIAwl0CKYFDgEe/P34tPiN+dX4oPXG8f/uvu397GXscOxg64Tpc+c55kjmuOYh5xTnzOa85gDn1+bJ5tnmaOfP5wro1uiI637tIe5E7uzv8/Ip9+b6R/5lAWkF5wgOC2gOVxTiGfEbYh1fHywhiCGLIrUkUic6J80khCGyH7IeQx3RGlkYoBSVD68KUwhvBx8GMAN+/hz6l/cv9sL0EvTi8zbyc+877lvv7fB18X7yT/Or85HzXfTO9TT3IPld+5H9vP5G/zIAdwHAAiAEVwXtBeAGHwhXCiMNAw7pC9wJLwvADlcRXhGXD5kMOwolCj8MRQ7uDB8IywKmAPgBGAPRAfv+EvvO9871ffVp9dXzzvAW7vbst+x46wLrU+u460br4Ok76S7psOmu6pzsIO026yvqzutF7/nxefFS75Pu2O8h80/2yPZI9YjzyvMP+JT8kP4L/eT9CAIkBxoKMQtNC/AL/Q0aFGIbxx1DG3oYTBkWHrwiiCNiILEb3xjCGJYacRtlGUYU+w7TC0ULTwpKBxgDVwB+/hz8Yvku+G33qfVz9CL0xvPC8dzvcPAk8vnycvO781rzxvOt9Uj4O/qv+rr67frU/DkBUgYFCYEHDgboB/8LbBDnE54U8hKGEB8Q5hHHFN4VXxMsDycMcwtYC0gKaAnuBnoCCP5u++j6xfpF+c32/POD8HjtbOw17EvskOop6Brm5eXf5VnmOea35Ujkm+OB49nk8OXa5bDlfuUu5ozm/eVV5v3qce/z8OTure408vr4DgFsCeIKnAavBZYOWBoNIY4i6SFtIH8gTSRUK+YvUi66KBkkoCNZJbckjyGvHvYakBZIEWUNtAsPCoYG9AFp/SP68vYo9J/0Kvar89/tb+oY62Ps8Oxe7jrvJe6c7G3tq/B089r06vWw9pf3w/jy+SD8wv7ZAEoCEwJzAhsEJgYCCFwNrhAVDMMFugeUEAQXPxZ3EsAOfgsfC6wOURTNE2cNjQYQBFwFNgdyBcEDvACf+yT3E/Vy9YX3gvaO8tXu9esZ6tTo2ekz7G/q7uWu4t/jvOYG6Cfpb+oK6M7kKOXb6MjsSeyl6oXr3+sn7ZjvH/GJ8VHwcPDD8rn0P/dX/FMArQBnAIkEXgq9DQkStBeAGvQavhuhHxAk1SaiKAMp6SbsJRcl1iTdJbwlgyJHHf8XexW3E0wR0w3NCegF6ADP+1X6k/pa+Fv0PPHN70jtJ+sm7A3uVe2I6/XqLuwD7RLuw/BA897zd/Rd9tf4Fvta/RgALgGCAbMCDwUiCUEO/A8tDnQNjRCDFD0WUBb3Fm8WJRTBEu4T8BWeFE4RQw7YC8sJKAhoBjYFrgFL/V35jfa09an1BfT48HPtT+uV6fbnsOch55LlfuPB4QXi2uKB4y3lfeas5SrkR+PX5Crn3+ji6b/pyOnD63HtT+4C7mTtc+969F35qfpf+Rz8/wNpCnALkAwrE/Qa4BwFHTYgcSU7KHgoJyqXLakt4SpIKEApkSuSKbUiTh2fGygabhVLENkNeQsZBq3/XvyJ+9H43PPf8BzwFO5J6kHo2ekG69Xp3+jN6EvpX+oQ7Cfuvu9j8eHy7fO29dn4dfv1/LP+BwGKA18EGgWeBgoJuAqXD9oTRxDQChcMdxP5GJgXVxP8EToR3BAEEZ0TVxPCDtkIogWiBXcGGAPFABMAbv0h+NTyL/Hc84Lz3O7s6vPoIuhR5njmZOjm6EjkeuAI4QflMOaT5szmR+fy5QbmpOYY6e7q9uz07L3scOyy7KTtuO5g8Fnyh/cZ+zf7Tfi2+lwDnwxZDEEKQw7OF1gcxBzlHQck5Sb3Jd0lMipoLP8pZCVZJZQnMCZKIJ8blhrtGccUhg3ECaUIQQVa/zX76vmd95TyFu6k7RLuVesM6OnnyumL6uzo0ec76YjrguxV7VvvmfK39Kn12PdF+z7+HP/2/8UCPAYrB2AHqwiGC/INVxH2FEoUrw/CDuUTmRm/Gb0VhROuExITwxGeEj4ThBCiCrcG5gWtBdYCZf/2/c78Ofik8inwcPG08XvuS+rt5xLnB+Wq40nl/uZZ5SriSOGd41LlfOXa5ZPnAeil5wrod+rM69Hss+0V7zLwbfBT8DTwx/Ct8nn2pvmv+kP5cPqK/94Idw4HDV0JTAyVFPgcfh/5HzchYiLhIrYl4ymIKz0o/CPwIgMkDiRmIAIcAxqQGM4UOw+ICmUIygW5AfT92fqx93/zhfDz8HPyA/Gw7JPpkOph7ADs5Ov47MftAO7G7lbxRfS29Zj2afg3+3T9Hf4C/3kBxgTYBkMH2weYCbAL6Q0CEm8T4A8IDNENrhXwGnAXYxKAEC4S8BNBFBsTHhE9DGgHXQaVCBYIYwMM/v37//tk+Xf0lPGE8XrwWe3G6QDpRejh5UPl3+Y/6Bzmk+Fk4WrlsOci6Onn/OjM6VPp/+mn7vzwPvF87/Xvo/GC8xbzW/SJ9Iz1aPY2+cv5VfrJ+Uz81wDHB+oKfgl5BtYJZRLjGukcuBvaGkUbtBzAIMslJSjwJBIfGR0JHwkhQB8VG7QXaBUwEjoO8wpsCaQHSwT8ADf/2/wg+Yz1jvUO9432HfON73nub++F8JrxdvJi8obx0PB+8eDzcPaq99b3QPjh+fX6WPsy/Hf+dgChAXgCSAPmA0sECAf+CmsMawrBCG0Kug95Ek4RrQ9xDtwOtA93EJwQ1Q+UC9IHHAelCOgHYQTM/+/97PxX+v32NvWl857xWe9a7r7tLOwJ6e3nFulJ6jbqR+hA56ToD+lh6lXrE+0L7ubtaO3j7ZDvau++73LwMvJs84jzBPNT8zb0ivW+97T4ovgd+Ij4/vq+/tsCIQYNCCEI7gdHCQwO5xOLGGAZoRh1GBka+hvzHcsf2SDCH9kcbBp+GuAa2xlaF1IV0hNTEVsO8guiCn4JVwedBNQCcwEu/2n8/Prz+vz6fPmD92P22/Wq9JfzuPOu9Mv0tPPd8h3z1fM+9DH0qvSK9Q72KPah9tT3EPle+qr7f/1P/1EAtAB5AboCJATcBPEF8weDDC8QHA9NC/wHLwnWDg4TmBN0EUoMOgfjBEIGDgnyCDoErf/p/XT9Kfyr+gX5pPc69sv0IvTB8yPzLfLj8YnyI/N48tTwwu8A8LrwEvFa8YnxCPI/8rjyRvO28yHzXvJ28nvz2vQS9qX2//aM92n4gvk5+mv6rfpf+1P8vf07/3oAKAHNAQ0DmARrBccFGQYMB/wHIAk9CqwLNQ1DDskOUw9FEBURFxH5EGkRCRJnEsMSEhP6EkQSdBFFEQoRMRDwDoQNkAz9CzMLswlpCCsH/AVWBMACngF4AOr+e/1//KH76/qb+Zz4APh+9wT3rPZd9uT1ffV79X31f/UH9ob2J/d899T3QviI+AX50fnv+vn73/xA/RD+O/8TAAkBNAJaAxcE5QS4BaMGZAcyCK0I3AgDCUcJVgkiCakIIQhMBzkGIAU+BH8DZgJWAV4AE/8u/b/7r/on+lL5Nfju9uL14fQr9Irz0PJQ8uDx8vH78Q7yK/Iv8hPycfIw8wr0c/Sb9B71uvUx9qr26fY496/3Wvji+GL5ZvmA+ef5wfqY+2T8bP2W/m3/UQBAAXYCjAPyBLIGewj5CS8LbQy4DRMPYxBrEeoRJRJ/EvgSNhMOE3QS5hFKEesQHRDWDnINHgzkCvUJ9AjhB/sGBQYNBTwEigN6AoABMACk/1r/o/4V/iP9n/z0+037kPrY+Sv5w/ha+P73vPd29xz3e/Ys9jr2H/b89dX1A/YL9ov25/aD9wL4UfhU+Sn6bPvW/Dr+Jf96AFMCMQS4BdwGXAhmCREKoApJC6MLsAvYC2YMmwxQDJYLvwogCu8IOgeTBS8EAgMZAjcBFQBX/jr8oPpS+af47Pf29n/1i/T/81zzdvKu8T7xrfBX8FzwqfCp8GLwCPBB8PrwQvEv8dLwnvBN8UXyQPMm9PL0cvXo9dr2Hfg2+QT67/or/F792v59ABkCZQPfBNwGlwjsCUcL4QxBDlUPYRCkEb0SrBNnFDcVxhXgFcYVnBV+FRsVwxRRFPUTYhO/EiUSLREmEBwP/w1QDIUK/AiFB/EFbARLAwwClQC1/tv8Uvum+Qv4ufaT9WH0YfO88s3xKvGt8HrwJfDy7wTw5+8g8FHw5vCR8YzyiPOb9J71ofbd9xX5T/o8+1782f3d/2sCkATOBcQGLgjECZELJQ3EDt0PcBCEELAQ6RCnEHcQ+g+ID50Oew1TDN0K6QjTBtEECwMmAbj/Sf5F/Bz6GPg39r70dPMV8q3wSe8c7kXt8OyW7Nvrwuog6knqu+qB6xvsjezy7GTtiO7G73rwEvGG8Yfy0/MW9Vj2MvfL99P4oPoV/Dv9A/4W/z0AjwE5A8QE3wUKB6kIRgoBDGkNXQ5KD70QWBLEE84USRVbFVgVwBU2Fi0W5xXYFS8VRhSCE5USZhEqEDQPGw7HDJoLQQrcCJcHewZKBdwDZAIkAcf/bf5l/YP8e/tr+jz5JfhT98L2Kvam9ff0hfT684bzffNu833zbPOG8/rzavT79H316PV19uf2kPeE+Mn56PoI/B39CP4e//b/jACWAegCXwQkBnoHHwjTCNwJ9QoBDPUMhA20Dc4Nqw2PDWcNxwzRC+QKBApFCRgIcAbGBEADYQFB/7v9ifw8+4v50vdY9uX0RvMI8jfxV/B670but+2M7YXtZO1I7QPt2uxM7eHt2e6376vwWPEr8jfzhfSv9c324ffR+Nb58fo9/Dv9tP08/jT/tADpAX4CmQK1AkYD/wO1BGIFCQbrBg8ILQk9CjELBgy4DI8NJg7ADjYPcg/HDyEQhBD2EDgRExGCEM4PKQ96DtMNbg26DLILeArjCcQJUglRCBMHEgbsBPEDFgN+AqUBaQC8/zD/rv7r/R39Tvyj+wX7U/q8+SD5uPip+Nn4DvkK+f34vfhE+Dn4e/jn+O34/fiA+Sf6l/od+677Bvwn/Bz84fyj/Sj+5/6M/zAALAFMAh8DBQQGBdkFbgbYBlcHhQfmB0IImgjpCMEIUQjxB50H0QZJBpMF4QQoBDsDTgJNARMA9f7r/dn85fvv+if6PPkH+E73i/bb9Q31OvSl8yjzuvJm8jjy9PGj8X7xt/EB8j/ywPJe8+nzVPQC9Rb26/Z+90T4VPlP+iH73PvF/HD90/1Z/ur+iP/g/zkAiAAqAdgBLQKQAvMCbgMtBOUEugWUBhwHZgfDB54IoQmVChQLiwsKDJAMzgwqDYINeQ09DRoNQA3YDEoM4AtzC60KCAquCSQJbAiXB6EGtgXWBMwDFgMeAmMBZwBa/9L+UP6g/bX8Kfx7+/P6e/oY+qr5ZPkg+eD48vhM+WL5b/lk+TH5qvkp+sf6Cfs++6H74/tB/BL9lf2g/cP9vf1M/sL+Ef9E/8H/OwCmABsBxAFdAowCfgKqAhgDaQPRAwwETgSJBJYEgARSBAwEjwM5A80CcwLGASYBegCp/wD/Xf6R/ar89vt7+8f63/kv+Yr4C/iz94X3MvfK9pz2hPac9ob2bPas9vn2IPdZ9/f3u/hi+dT5J/rz+tX7vPyR/YL+a//8/4gABQG5AUMCogIcA6IDpQOnA8YDygPpA60DSAOmAj8C3gHVAcoBggFEAUkBTQFJARIBZQEGAn4CsQLfAiUDXANjA+kDqARPBeIFMQZhBqwG2AYXBx4HEwcOB/sGNgcgBzIHhwfUB+MH1gfbB5cHVwcIB94Gvwa3BtMG4wayBrAGdwYABowF2gQBBDsD1AJKAqUB8QDr/+X+K/6l/QD9HPwZ+yn6VPmw+BL40veQ90X3afeO94z3c/dm93H32/ds+Cb50fl0+jz7J/w+/f/9aP7S/j//kf8uAMkASwG9AQYChQIfA00DXAM1A0sDOQOvAjYCHAIpAtMBewEdAdsAJwBP/77+W/7V/UT99fyz/Gb8+/uN+9D6TPr5+eH5t/l3+WL5L/kr+SL5GflQ+az57vkh+lz6sfrV+vX6YfvT+2T8m/wH/U39Wv2n/Qr+nf6f/t/+D/8E/zT/V//z/0EAVQCvADwB8AGBAhIDdAM4BBMFEgYZB+gHqQgtCbUJ/QmDCgULXwunCxEMMgwTDKMLaAtJC+gKuAp4Ch4KpgkzCZcIHQhvB7IG5AUVBWoEewOxAkoC0wFPAaIA4v8R/5D+5/0d/aj8Vfza+wv7bfr5+YX5Jvm7+E/4/veQ93r3OPcT9zb3OPdI94n3B/iI+O34Nvn5+c76rPtv/Ev9G/73/s7/rwDgAa8CdAMbBHoE2gREBbQFEgbtBdUFoAVaBdgETgTiA3ID3wIBAksBRgCG/8f+3v3z/Br8RfuG+r758vgq+JT3SPfa9pz2qvZ19hD26vUU9jf2NfYh9pj2SPff90/4vfg2+aj5U/rm+lD7BvzW/GH9yv1b/kj/IACMAKYAMQHPAQEC+wE0AqQC1gLmAhoDXANLA4QDtgPcA8oDaQNIA0YDRgNEA0ADLAMLAyMDSwOPA6sDzAPtA/QDUgTUBC4FlQXkBXMGtwa7Bi0HcweUB4kHUwebB/MHTQhICBoIGAj1B6IHbQcVB9MGwgaEBhIGpgVGBbAEHQSBA7oC2gFWAckACAA5/1D+oP07/d/8f/xM/Of7YfvZ+jb6z/md+Yf53/ll+sP62foF+3X7CvyF/Or8Z/0S/oD+yf40/9n/fQAWAYIB6QH4Af0BFQI4AnYCkgKSAm0CUwKDAngC8AFWAboAIABi/8f+cf4K/nv9Gv3F/Iz8Svy3+yH7r/o0+tb5YvkK+en4yvji+Nn4BfkH+fb4CvkB+fj4Lfl8+bf5QfrZ+nD72vsR/HH88fxW/af99v1S/sT+Jf+t/0gAfQCFALEA1wBLAb8BCgJDApICjAKbAv4CQgM3AyMDbAOyA78DqwPTA/EDQwSzBAgFLgU9BTkFMgV6BZkFpAXQBfUFXwbPBv8G2gaGBj4G8wW8Ba8F+AXOBVUFuwRBBC0E4gNeA/kCcwIIAr8BTwHmADIA4P99/0H/Av9S/pj9BP3k/KL8ZPxb/I78mfw6/On73PvP++P7DPxI/Kj8If2a/en9PP5H/oX+Av9c/6v/7/8wAFUAegCvAL8ABQEQATkBVAFsAZMBmAFfASEB6gDvAMcAZAAIAIP/MP/H/iv+u/1//dD8MvyJ+zz7x/pV+vn5o/k2+Zz4Vvhl+CX4Pfhu+NX4rvn7+Rr6APpw+tL6mvsX/Kr8Rv3p/WL++/7V/3oA8QBHAfQBZAKqAtICOQOBA8YDBwRxBJIEnQR+BFIEaAQ2BPYDjwMcAw8DGgMfA+4CswJxAjIC0QGjAXkB+gB6ADsARABeAF4AZAA5AE8ApADUAI4AxwAJAXUB3gHVAYMC3QJ9A2wDhgPOA5QEVwWeBeQFDgZPBkkGagacBj0HrweBB2AHSgdBB9EGHwakBU8F2AQtBIwDCwNxAs8BPAG2ACAAe//Y/g7+S/2Z/BP8c/vt+pP6UfoP+s35ZvlD+RD5nPiV+Hn4QPgj+ED4d/h5+H/4efip+Bf5Gfki+Xz5m/nf+Vr66Pp1+xP8ePwU/ZP9wf0M/l/+t/4W/7T/egAbAU0BmAG0Ab0B6QHyARMCVQJgApsCrQKUApQCmQKZAvUCHwMsAyUDLAMEA+ECHwMcAz0DWgOGA3kDNwPNAlkC7gGnAakBpwGEAUcBCwHbALQANgAKAC4AIADx//H/EwAlADYANgBtAI4AoACpALwA2QAfAXsB5wEBAg4CLwIyAjICSAIrAkwCcQJzAlsCbQKXAoUCfgKOAngCMgIRAvYB2AGLAUkBKAEUAdAAmQCFAIwAZAAYAMr/Wv8W/+7+7v7P/qr+b/4k/u/9xv17/Uv99/zF/LP8kPyx/K/8hfxk/Cf8vfuJ+4/7nPt7+3X7p/vE+7/7/fsv/In8w/zk/Cj9Nf0d/Sz9bv2e/dz9A/5Q/nz+i/7P/gD/Av/U/s3+2v4e/0r/SP9P/zf/HP80/0z/U/+K/7r/zP/Q/yUAjgCBAFEAMgBRAKsAoACFAK0AyQDSABABnAHKAcQBwgGYAT4BLAFYAXUBvwEOAgMCDgIOAvgB9gERAgECxgGsAakBtwGLAXsBhAFqAXkBmAHaAdEBjQFdASEBEAE8AWMBZQFSAUkBWAFUAU8BdwGWAYYBTQHmALQArwDHALwAgwB6AIUAbQBrAEYAGgDm/9D/zP/F/8H/vP+2/8X/6/8CABgA/P/m//H/9v+p/5X/v//B/87/9v8gAH8AvACrAF4ACACm/1H/cP+t/6//iP+I/63/rf+B/4P/kf9c/1H/Ef/9/uf+wv71/if/f/9t/33/ov/H/93/6P8AAM7/pv+2/7r/CAArAEoAfwA/ABMAAADB/6T/6/8aAD8AXACBAHYAXgB/ADAA9v8NAAYA8f8RADkARABRAIEAxQCtAHYAhQBgAIMAgQA/AEYAJAFSAYYBggGjAawByAGkANIAlwCUAvwDOhEOHRMK2ALn+Hr8YgUjCpMIAAj6+Lj1kvRR9Yn8jACt/zH7nPbr7rjyGfIX/l/+XgAD+UD4MvKt8oP8nP9mAhwAD/oX93H+uP8w/wMG/ALSBZ/5AAHYASIC9v8hA2ICGQQNAwwEUAK+AmQENAK3BoH/kARD/jIDVfzZCP39qAL8/9QA5PyZAPMAh/4pAA/8cgCr/c4A3vunAXP72gEf+5cA+/4g/ub6bwCFAFT+WQLsDNL8HAIB/A3/qgeMBZAFSAAQ/r32ngFu/RsBeQGt/878v/3H92D/IwDm/BcC6wFw/ef9yvvZAKsDdwOMBWL+vPqO/18B2QNUBOcElwCH/kH+pALWBDID2wBaALb/VwATAF7/VwKIAKb+qv6gAIj9Zv4jAPX+FQLOAFb9PgEN/5ICNwOuATMB0P8N/5f/BgJgAmUBo/4l/xD+1P5v/qz+sP1X/N77B/3z/NT8U//e/f39FP1u/Wn9TP5I/yMAe/97/Xj/fQBtAIUCmAHM/3f+PQBnALT/eAAZ/vv+2wCe/zsAkP7y/Y3+J//3/jT/if71/Mn+Of/z/9n//f5L/Uf+xP5X/7//5/6B//f+df42AIb/AgAPABgA/v/j/kr/ev5qAc4A2gG6//3+cgBhAf0BTwM1A9kAwQAuAEoCJwPsAnoCmQJAARUCPASHBEUEpQMEAycDGQRzBCQEywIOAq0CIQOGAz4E3gO+AsUChwLCAjsDMAOlAZMDyQIfAawBPgGDApcCvwH4/87/iv8gAJwB1wAaAHj/Pf/L/kz/SACp/+r++P2I/QP+sv0O/sD+G/4m/hX+KP2I/bL9jvxI/IP85/tw+8D8AP32/Qn9JvvQ+n/6Vvul/Tb8CPy2+pv6avsP/WD/0f2/+0D7Tvzv/bP+i/5L/Wz9lv4PAGgBgAF9/0f+dP/2AdsCbQI+AdcAVQIcAh4CYwFoAiUDeALtACMAZAByAK0AAwFBAB7/0v5R/+L/PQBEAF4AegCpABEC0gI6BNIFrgZMBwMHLAgICqcLcA18DpIOUg61Di8QlxGxEecQ5g/HDuIN9g1bDiENBQvDCJYGKQUSBCwDggEw/5v8dPoF+SX4qvc39ij0MvNM8m7xPfDU72rvFe/e7vHtQe1F7SDtvO2M7gDuBO747ODs/u1f763w6PC28D/w0fGl8wP0YPWs9D/1PfVy9ar2/fju+fr6AvpV+qz7mfyI/S3+bf/2/xwA3wDoAoIELwSEAzADCAUlCMgNxBDJDOgHTAnlENoYFhrCFXASmxHmFNYY/htAHJYYKBPfEYQVphjUFgcSTw+bDuMLCgm1B/MHBwhdBGkAZP73/E37l/rm+qj5LvXK8WDyU/X59q/1D/Pt8MXwbfLL9Oj1vPWH9OnzGvX59p/51/pp+uD6W/xc/WL+AgBSAT8CaAKZAp4DegnyC78GiwTXCHcNDBHcDaYKpAwaDaUNuA/JDmkNQAuqB1QJbQxVCqQFgwIMAq8COf+W+6z7WvvT+ET1ovMQ9Czz4vA271TvCO2w6SHpyetB7UvskekT6D7qSey57EXt0uvh6kfsUO0y8ADxs+8A8LjwKfKP84D0qfUQ9qD12/VE+BH6YPps+xX8w/3L/vH/2wDaAZkCnwT8BUII7QrHDu8NoQs9Dc8Tthm3GvoX5BYlF7EZgx2mIL0fvRwTGasXnBrUHZgcmBeNErsQpg8bDvEM2gu3CXQFcgCH/sv+UP5e/LP5/Pd09d/y/vKs9LH1OPTo8FvvovAy89H0h/TO8yv0VPQP9dL3R/um/NX7xvuI/ab+GgC5AXADaAQVBL8DbAS9BooIWAhUBnQFoQZtByoGaAbzBT4G6QYDDiwXQAi++Uz6AwkhHrYZpwOz/Ir6FgbSETUQUQqj/dfwAvUmBMYLIAV/9cXtu/Nr98f1rfUj9Z7zhOwN5nHqd/Ep8oju++pw6dfmrea07JXzbPM76/Hjiegy8DD1WfQx7zzvkPBo73nzCfaN+Xv4dPN29Zr4D/p6/BT9Zf8gAPn8dPyr//AE1whDCVoKrBBAEGkKIwrjE94ffyG8GcYVDxfTHDYiLSXnJMQffBgvFcEZiCFLIbEYcxCHDpgOsg2cC+EJcAi+Aib7MPgW+jj8wPk09QfzrfBW7h/uuvBE84/x3Ox66rTriPB+9Ez0QPM585XzE/XW99H7b/7O/BH8p/26ABcEVwUdBvIGiwYsBrsGhAjHCuIKJgliB2IHmwfuB9QH1AelBiAF9AZ+Bu8D8gHnASoGyQeEA0kBBQECA5AFbwSMAokBKf+3/n8ArgHbAKn9H/tB/GH9Xvyj+Zv3pPef99n1CvRu83DzWfKL8ZrxM/HO8Ifv2u9/8MTvGe8c7mfuOO/P79rvne8t7xrwEvF68n/zfPJw8Rfy5PM+9uD2d/ZB9wf4O/qj+9n62fwPACcCrgHg/8wAcAWYCXINbhLLE90MZQiLDt8dCCdXIjoYoRNSGK4hwSYKJzQiXhtsFekVbR2hIjMdwxIKDHYMkAwnCqUIlAf0A3D9WPZe9dn4n/nK9iLyre0G6+fq1u3e8Y7yuO7r6Qvpju0d9Nr2Q/RM8jXz6vXn+NT8dABzAWQAIAARAqAFjwhyCoMKHAonCmgJwglDDN8OlA4zC5cHiwZxB14IvgexBRMCXP/f/ggALP9X/tP7QPta+2sHswzS+ovv/PDxAywZ3A5x/G/0FPMRBTkPzA2vB/34l+5a9aEEtg2BBf/zlO2483j3x/c29Sn1LfQk7OjmiOkj8Inye+4W7IzofuWZ5u7qd/Sb9eTr3uQM5TnuGPjT9hnxAO6l7O/w7/VB+U78jvcC86/19/l6/mD/zvx9/0EAhQDYAWEDGwnQD4gUohEYCKwGQxEzH5MmeyEZGKcScxUCIY8phigCIeQWbRFZFosfbSJXGxURsgtTChgKngrPCdoGmQIy/G33//aw+DT6DPlw9ZfwaOxz7J7wQfU39gPy5ezo6ynwJPdM+sH4//ZJ9kL4UPzdAD4EIgR6Ag0DrAS4B3YKHwuLC0ULxwoPCg0KWQyCDuEMQQn1BXoFCwbiBbYFPASLAe0ATADA/gv/V/7O/QP+yfyp/Rz/M/2M/BT9O/+nAdIAif5q/kb/NgAYAPb/NgBR/2P9uvy7/bf+Yf0++9H51/hj+Of2GfZo9nX0BvKw8aXxvPKl8dzv1O+u7znwdvCF71zw1PCG8abymfJS9Kr0yPP59Lv2Vvj2+NP2hPZ0+Fv54PrO+t/5w/pr+vH6/Py7/dz+/f3+/If+3QAGBYMKkQ25CTsDqgQjD84ZqxyuF9kRERFXFjgdbiE0INwa2BOlEAwWIh30HA8W4w49DFILhQrACYQIdwZ6As78D/qe+iT7ovqL+Wn3OPSv8H3wffMz9iv38PSR8Uvx4/RZ+UL76/pe+rX5Lvrk/H0AEgOEA+YCyQKyA+cElAa4B1MIjQgKB8AERQRLBgQInQd6BSwDhAFYAZsC9QR8BKn/afxn/QsBlQMkAuD/jQGJAVoAFQDxAF8EOwUWAdv/VQCcAfkCbwLqAp8CaP7X+sb7qf8HAf78M/hz9nj35vfw9kv2O/Uq8w7xdPCF8sHzp/Fn8ALwEfJc83vxX/Gt8y71qfXX82j0NPdc+JT3cffe+Nr5c/ku+Lj4Gfus+3H5dfnv+gD90fvN+Tn6Rv3i/Vv8L/sP/fEA4AM6B+IKQwlxBHEE9QzgF3gbkhbVEDUQKxbXHAQgoB7yGhwW1RJ3FWsbwRwqF/4PegxxDEgMwwrICK4GhAOu/nL65fll+5r71PkV90X08vE38W/y1vSl9n/18vEP8Izyfvc7+n75tvjK+IX5d/sd/owApwEhAZsA6gDAAu4EkwVBBasFmQWwBPgDuQSABlgGVgQkAnwCuQQPBT0DWAG5AYsEnwTFAjYCMAOHBE4E6QPMA9ICIQFpAGoBNQNgArH/e/1D/nT/gP46/JX6yfkr+Qf4eveD92r2BvX687Tz2fPH8kfxvPC88KzxN/HB8P7w5fF78/zzkvRp9Rb12fX/9qf4VfrR+cD5APoS+977SPwq/Xn9C/25+2f6YfuP/RD+Df2u+X75YPzx/+b/Hf2l+yP9r/8BAvUErQhZCUIGgwUpCp0RmRblFS0TCxKbE6oWexliG8MbyRisE8kRthQ8GPkWNxIQDoQLowkfCIcHawd9BWEBbfyH+f35T/o6+XP3uPU+9K3yJPKt86T18/Wd9B3zFPMg9UH33Pge+lr75fvc+/f8gf9XApMDJwO8AiwDlgQqBr8GswfqB9wGkAV6BW4G5gecCF4IJgaBAzYE+gV0CDEJ9gYIBRcEuAOBBbYFawUmBIIBw/80AEABagHQ/1D+e/0v/Kb69Phs+Cv52fgX93b1fvTK81bzQvNG8zTy3fCG7ifu5e/r8X7yePC/7njwyfIl85vyKPOF9BP12fVm97X5GPoH+an4Ovuj/dn9Hvzv+lv8Qf6l/V79af0l/W38hvsE/Yr/J/+i/Pj6qf2ZAmoEGgUOB+4HyAYtB3oM2hP3FvEU3xHkEQQWohk9G7obyBrXF80TthLNFfQX7hXcEAoM9Qn/COMH8AatBVYDJf+M+mP4sPhd+b34Vvb284zymPFC8Y7yU/WU9tH0c/KH8pP1/fgJ+6z7oftq+9r7mP3UAPoDMgVvBIgDFwS8BQYHAAi2CO8I/gdjBvwFsgg1C/YLJAkxBr8FsgYwCMsJiwlTCB4FogIfA/sELAafBEABsf4t/uv9w/3c/af92Pug+CH2EPYr9173QvZb9G/ysfD572Lw+fFr8rrwBO5A7Ofsnu7N7xzw+O6S7ZvtyO518RjzLPPz8nTztfTV9j33F/dp95H47/oo/bT9y/yx+jb6U/wlAPQBSv9S+9b5y/zVAeIDvQFT/+7+uQGtBSQLjQ4/DA4H5wbGDbwWHRrRF80TmhJYFQgZThsWHLsa0harEskRRhSPFTwTUw9VDPcJ2AaGAxkCbwJXAmD/ivoB97b1VvYO9wT31/WP8+jw5e+P8Vf1ePdu9i30+vMQ9pj4tvpb/Ej9Tf0P/S3+FAFHBP4FBQagBeoFzQaFBxYIAwnWCVIJ6wg8Cx0NDwysCfIIjAp8DIYL9QnpCDsIHQghCMcHUwczBqcDrgHlATYCngCY/YD7Evuk+vT46vfd93H3/vUg9PPy6vKq8nnxa/An8A/wi+9S7yPwkfH78aTwPO+W787wDPJg8iPzrPR09Rb2Cvd0+Kb5sfmx+f76KfyU+6D6ovpY/e3/0P8q/Vj7YPzB/zMBmwAn/3f9sP3H/84D0wbYBtgGQwkvC/YL2guKDZsRCRXhFoUWOhXHFGMVqhbyGC8auRcdEs4N1A5PEn4TMRDHCiwGWgNvAqQCXQK4ALX8MPhf9uv2yfcX93D1EvR98wLzXvI48n3z2/VK9/32PPZ+9mL3+Ph1+739gP6K/Z/8bv2TAAMEogW+BHsD6wP1BO8FnAZvBwsIagmUC3gKswcBB4oI8Av/DccMmQrYB+MGfQivCmwLOgmNBGsAvP+pAe4CcAEx/iT7bPk9+AL49ff79uf02/LC8WHxl/DR707voe/N707vHO7y7DbtXe+G8djxa/C97rburfAv9Iv2ufYG9aP0uPWc+Or5ovqb+lT7j/sX/K382/yx/Er8OPzi/aT/7v6w/S/8IP6gANwBaAGaAfwC/AWFCdsM8wy/CtkKiw5iFCgY4xgWF6QULBQ9FuUYQBo/GVAVERHPDiQQOhGbD64LQwf6A9oB1wAlACX/5Px7+mX4Tvew9gD2V/U79aT1G/at9XH0OPSr9TP4wPlG+g/6HvrF+oX83P6MANcAUQAuAAsBqgIQBNwEywQ6BDMEPARDBGwERAUVB1QJRwnNBokEIwVhCO0KTQu+CagHwQXQBUMH4Qk0CoUHRgPFACYBlAIyArz/6Px5+6D6IvmI+AL4Cvcn9WzzrfIO8gvwzO4O75Tvqu8W7gjtt+x47eTuQfCk8M/vq+4P7mjvRvN59un2GfbP9LH1SPfp+Hb6sPvp++36NPqv+kH8gv1//bz87/2+/jL/kv63/tQARgO5BDMGpQjdDNcP+g+GD+UQ4hS+GC8aYxomGuQZ8Rl1GgscnR0NHLQXKBMREScRpRDRDqULtQdQBGMBZ/+A/nD9ifuc+Nn1JPR983DzSPNI88rzJvTp81HztvOk9eH3OvkG+pn6Vvvw+0j9bf9jAbMCxQJ4AqICjAMLBSgGiwYWBn8FCAWfBOUEAAY3COMJfQgwBWUDPQVnCOUJtwlhCCgGgARJBOgFCwiSB4AExwBK/0gAQgFpAC/+Kfxg+ob4U/fE9mr2NvVT8zry4/Gh8R7wuO6e7jjvte8b703uLu6p7gzvi+9i8CbxDvK88mnzRfTU9G31xvae+GL6NPq4+IH3KPjF+rb9lP57/WL6u/jI+F379f5jARsBwv6t/PL9xwDaBIoIVAszDd8M/wvsDNEQLxbkGaoa0BkKGAkXXBf9GHwbxByPGkAVPBD6DV0OxA4tDmoLIAdmAlv+lPx2/H/8G/sL+J/0dvK08bnxA/LF8przGfRp84zyqPL88wf22/dJ+Vr65PpY+3j8Q/4lALkBnwKiAoEC7gIBBCsFGwZlBoYGFgY/BXQFWgjgC/0L/AgxBtUG3wlZDKgMrAs7CigJfQjICFIJ7wi0BjUDbAEGApICBQG2/Sb7Ifpm+T34AfeQ9eTzRfI18fzw6vDU70LuRe2X7fju5O7d7YHtou5e8C/xVvEv8vfy5/Od9D72Cfgm+Vf5DPmu+Zb7vPwu/Q/9mv1q/qf9y/wa/Xf9Pv0B/Kz7pPyo/roAJAGBAA0AbQBKAsMFTAq0DecNYgwPDBMPcBROGKgY1xcMFmQW0RWYGAYZLBnhFg0SVBAkDkkOJAy1CcIGiAODAKP92Psp+kX5KvhT9073QvaL9pn1CfZH9hT40fk7+pT5i/kN+kX7jvx5/SL+mv0q/UD9tP1k/g3/7P7l/l/+I/+p/57/If83/9D/sgGHBHMGJAYnBU8F7AcgDC4P1w/hDnkNsA0IDxAQPBDaDvIL+AhQBwwHmAZmBLwAnv1o+zn6EPky9x71mfIH8WvwBPDi7ontX+zJ6yzs0ezr7C7sjusS7DLtf+767uvuLe/l75HxiPON9MT01vS49c32Z/jH+RP6wPlS+TL64PsW/b/9Uf1X/PL7lPyA/gUBdgLuAt0CigNaBTcIjQvlDi0R+RHOEVwSSBT5FssYVRkGGSAYsRZ7FEET3hKjEi0ROA5jC2EJDQicBgYFygN8AtsA+f6w/TD98/x2/P37DPwR/K776/qD+sH6H/tf+4n7qvuJ+wP7ePo/+sP6Fvvg+jD6lPld+Wb5pvnl+Vf66/qP+/n7l/yl/XX+U/+xAF4DsgalCMEIfwhhCaULDg6kDygQgw/UDj4OqQ2IDfwMXwvXCGoG8AQZBN8CyQCH/lX8ivp8+Uj4Rfc+9hz1DPTo8j/yi/Eb8Q3wS+/07pPuRu717fXtJ+5R7tTt9+197iLvye9R8PHwFfJw86r0sfV+9iv31PdR+Fv5oPoP/GH91f2e/Xn9kf1k/mX/3QDCApQEeAXtBZQGnQdfCa4LkA7rEM4SUhM8E5sTpBTcFbgW3xb9FVwU1xLhEU4RuxByD1ENrwrMCG0HjwagBagERgMTAgUBPwDO/0T/rv6e/dL8YPxT/G38CPyU+x/7ivpl+o76wfpE+nz5lfhe+E34YfjM+BL5Ivlo+Sv6qfoH+2z7JPwA/af9o/68/9kAnwJrBUsIYQkmCUkJpAqUDOANgg58DswNMw3HDJcMEwyiCoQIMwY+BDkDcwK0AGr+w/yA+4z6kvne+OP3j/Zp9Yn07/Ne8+PyBvJJ8ZDw+e/L77Xvku+Q7yLvfe5n7gHvaO8a8DXxSvLh8oTzn/R49Vb2U/cw+Pj4Rfmb+X/6xvsU/Rv+wP6x/oX+of7b/8IB3gPDBQYHbQfNB/8IfwpIDHEODhAIEZQRtRE+EuQSWRPIEhgS6RAkED0PHQ4JDecLdAqTCDYHQgZnBTMENQNiAkcBxwC/AHIAHACR/xj/Mf67/dn9Rf7r/cX86fto+437KPvS+nj66vl1+SD5KPkS+ef4hPhI+Fb4ovhi+Sf64Ppj+zj8QP3//QT/UQDpAbYD7QUaCEkJkAnyCSELlAxsDbANgg0dDYkMyAsWC08KzAjCBrAEIQMVAigBAACW/iz9pfuD+sT5uPit9/v2NfZa9Zj0AfSa8+byPfKP8TnxPPFH8TXx1/Ay8ILv7O/Z8KzxYPLu8ojzXfSD9XD2ePcE+FP4vfhb+fr6xfyx/mX/iP/O/2QAkQGHAmkD8QNzBNEEAAZTCHYKNwvxCuQKoQvYDLkOSxBIEeMQOhDVD1gQ/xA/EesQUw/XDVkMzQtYC9UKnQnFByYGUQUPBfUEXQR9Ay0CSwHoAP4ABwHXADYAGP+Q/jP+Sf4F/lP9W/zG+2j7Pvt3+1b7k/rL+Vv5ifm3+az5qvm5+aH5+/kH+9j7Zvz5/KP9Tv4L/30AmQILBWwGCgdvBx0IYQm4ChcMsQyfDLsLwwpKCucJVgkSCHAGrgQ9A0ECTQHk/2/+Ev2L+xz6PPm0+Nj3dfY79Tb0tvNc8w3zmfJ38WfwUu8t71Dvo+9370fv9u6r7lnvm/DC8T/ySvJ+8kLzo/QQ9jT3B/jX+Kz51fqk/A7+SP8KAN8AVgHjAZQCewNqBB4FlwXxBbAGiQfDCOUJXAqFCtAKnAv1DCIOHA8RDwgP7A5ED44PZQ/LDvQNvgyNC9UKgwpBClIJFAjTBugFVwXCBPwDNwNzAuMBKgFvAO//rf9B/5D+UP4b/ib+7f0w/S/8rPuE+3D7NfsO+/H6T/qo+Zb5s/nl+c35vvnA+fn5tvp7+yn8hfwU/eD9J/+iAMUCoQTBBR8GeQafB2QJ2QpqCxYLNgqqCVsJkgmbCakI/QYIBWUDmwJVAoYBCgCF/tL89vtC+4z6xPlh+A73/PVT9ar0NvRy8wPy1PAE8Mvv4e898DLwwO8M75fuMe8V8B/x0fEc8gbyU/KR8xz1N/b59mv3/vcQ+ab6Yvxj/cz9Xf45/yMALAEtAtIC0gJYA5gEVAYUCLMJYgqQCrYKeQvADAMOKQ+OD4wPSA+mDyQQixAzEAIPdA1KDJ8LGwtaCmoJRAgGBwMGegU5BZ0EsAMrAjkBxwDQALwAUwCX/7X+Xf4o/tP9bP3s/Br8Uvvb+uL6Fvsd+6b6I/r3+f35MvqK+vj6Mfsz+037yPux/PL9rv75/nj/MgCGAU0DGgVuBhUHxQcyCFIJ4ArlC+MLOguXCkoKLgr3CV0JWAjnBj8F1QMNA5AC3gG4AD3/6/0J/Yf8Cvxd+zb69vjL99j2Nfak9f307/MW863ygfJ+8nzyJ/LV8WzxOfGa8XPymvNq9LX0RvWp9XP2jveN+AH5tfme+hv7OPxT/V/+TP+8//r/3QDeAeYCkwPiA18E7gRcBZMF/AXoBa8FLAbeBvMHcAjVCC8JRwmhCUwK+gpPC34LXQtjCy8LHQvmCooKFgphCaUI4Qd8B88G3wUNBT4EwQNYA9QCPwLCAT4BhQANAKb/ff8w/9L+Wf7O/b/9yP1//cP8K/yj+4D7fvu5+wT8t/tH+8767/pL+8T7F/yX/HT97v7zAFACkQOCBH8FYQZDBwkIewiXCA8ICwhWCFoIxQciB1gGJQVDBEgDXQIxAcz/1P7n/S79sfyl+3T6PPkJ+AT3PPaT9dH0wfOM8rfxcPFA8STx2fBe8DTwSPC28B3xyvGM8ujyZfPT81n0NvUQ9gb3m/dW+Dz5O/qA+0P86vyK/f39M/7J/ub/eQE5A9oEBQYMBxoIPAlMCigL8gvbDLgNtQ6eDxQQnxChEG4Q8Q+2Dy4PfA6RDTQMMwuTCu4JpgkzCUQIRQc5BicFNgRcA2gCkwG8ACMAuv9K/wj/x/4M/kb9ZPzj+1b7C/ut+mL6FvrN+bf5y/kT+jT6T/pe+oz6+Ppz+wj8pPxj/U7+o/4A/4z/MACVAEkB/wECA2YEZwX1BUIGxgY0B50HqgfFB4MHDgdzBgcG/AW8BRwFWQRjA1sCowEZAYUAx//E/rT99/xv/N77L/tX+kH5C/gG94b2/vU99VL0afPb8v7yI/Nc80DzOfMN81PzA/QL9R/2zfY/94z3VvhH+Tb6zvqh+y/8x/yT/XX+cP9XAL8AEAGTAeABWwIjA8wDOgRvBLUE/QS/BVIGXQYqBpkFdgWbBaAFfQV9BRoF+QQ9BTkFfQW2Be8FQga5BjoHjgeXB7oH4we8B7EHlAdXB94GVgb4BZkFaQULBZ8E/ANuA+wCeAIGArABjQFfAfEAuABnAPP/uv/O/6n/l/99/+L/dgDZAF0BMwG0AQgCiQLjAkMCmAFlAVIB8wCiAIEARADx/zL/2v6x/ln+IP4r/vb90/27/Q/90Pyf/Gb8TPxO/MT7Yfvb+mn6vvn2+Eb44/ek9+P2VPb+9RL2Y/aU9qr2+fZb91f3NPdg9zT3mfeb90D4rfho+cv5D/py+u/67vtm/CX9q/2u/gIAcAHbAi0ESgUABqwGhQchCKIIBQmYCQQKpgrtCjwLdQuyC/YLsgsJC08K3AmuCagJSQm2CCgIlAcKB4sGEAaIBecEXwSlA74CNgKjAfMAOwBI/6b+Bf5T/e78ovwe/In7IfvF+sr6lfpn+qn69fos+xL7Iftf+7D7BvyZ/Or85Pw5/YL9yP0F/lv+2v40/5X/IwAUASAChwINA1YDoAMSBHcE2gQABfsErgSNBBAEcAMqA8sCZgLGAQkBXgDD//D+L/6//VP9C/3A/Cf8n/tf+6n66vlv+RL5IvnT+HT48fef96b32/c1+C74afhw+Jz4JPnW+YH6zPrM+lr7Q/xC/Rf+Ov5b/pT+zf4e/6v/UwDSABAB5gD1ADUBagGWAaUBsgGeAbQBhgGaAWUBGwHoANQA/gDzAPoA/gDSALgABQFqAYkB5QEnAkoCpgIPA7IDaATwBEEFwQVsBk4H6gcPCFYIwwg8CaoJ/Qn5CfAJ0QnJCZsJdwlQCQcJwwg9CLUHeAciB5gG+AU0BVQEbgOkAtwBEAETAM/+Yf10/Lf7C/tM+lD5S/iU9wH3RfaT9cb06fNW8wTzHfMU82HzQPNR81PzZ/Pt88T02fUq9qH2FffH97L4lPmX+jP7ifsV/MP8sv0m/uX+O//d/0oA6gDIAWACDQNyA7ADHQThBJUFWgYTB3gHjAfUBywIaQhGCCEIGAg5CCgIpAdmB/AGiwZHBu0FzAVXBcsEfgRQBMwDIQOmAhUCuQFjAT4BMwEHAfEAxQCeADsA5P9//0z/Qf8n/+X+uf7S/vv+O/8s/wL/z/68/qr+kP6s/rn+t/68/sL+CP9i/4z/qf/b/ykAAAATAEoAigDBAKYApgD1AOMBbwIlA2wDGgNPAz0DWgNWA4EDDwPHAhcCmgFfAfMAgwAaAJ7/C//N/kz+0f1C/Zf8//t3+0D7L/sA+6D6afoL+oX5Rfkb+TH5K/ni+Jr4zPit+L34Pvlv+ef5LvrB+nv71ftZ/N/8Rv3I/Uz+7v6r/xoAmQAWAaUBQwLSAksDfQOIA5oDrQP0AxsEBwT4AwEEAwQzBBAEzAOKA/4CsQJ4AlcC6QHjAWMBoAD8/6T/nv+K/yn/x/7A/s3+AP9a/23/l//4/1wAuAB1AQ4CawK+AkQDzAOoBF4FdAXdBQUGTwZ+BsgGFwcBB9EGnAZwBiYGogVcBQsFWwTgA3cD8QJxArcB9QBeAKL/y/76/Qn9CPwF+zT6GfkW+Er33vZC9oz19/RH9OLzXvNA80bzXPM98xjzrfMo9Iv0BvW69Sb2mvY499L3j/g++Rb6vPqf+2n8Kv1Q/l7/lwB3AVkCQgP0A+EE3wV5BisHyQdyCM4I+ghQCZQJkAlMCV8JfgmUCYsJxgnPCbUJmwlzCSgJ9AieCEAIzQc9B5gGKgbtBaAFZwUCBVQEhAPoAn4CDgKlAQUBiAAwALb/ff9l/z//4/5k/vT9ef0P/ab8W/wn/Ab8F/w4/Fn8ZPw0/L37UPsx+zf7gPuR+7D7xPsi/Lr8w/1m/vv+7/9iAJUA7QBwAfQBzQJGA2EDqwOnA7IDuwNIA+wClwLpAVYB2QBIAEoA0v8c/4f+Ev4f/WT84PsW+9X6MPqW+YD5jfk6+Q75uPg5+Oj3pvfA97P3qPff9334HfmF+ab54fk9+qn6WvvC+y380Px//Vv+N/8cAPMAsgFvAt8CoAMoBKME6gSXBQUGXwb7BnwHxQetBzoH1QaJBjEGwQWFBU8F1gSWBFQEPgRdBFIE0QO4A6ADbANhAzcDEgP3AssC7gICA+4C0AKHAmsCUAI/AjYCUAIyAgEC9gHcAd4B9gHrAZwBQAHQAM4AHwEzARkBKAF5AdEBfgLDAz4EJgTBA1wDewOMA2UDHAPqAlACngEJAdIAAwHOANf/qP6P/TP9KP24/Mr7A/sl+kf53vjX+Gn4qPeL9m31UfVM9RH1sfRZ9PrzQfRs9PD0iPWm9XT1RvWi9Z/2HfgQ+Xz5kvkR+lb7kPxj/Yv+iP9pAEkBwAIvBMUFuQY/BwkI3AiqCZAKMQt7C8oLBAwtDBkMdgyvDHMM4ws+C9kKmwo/CpYJygj5BxEHXwbdBYwFwATDA9AC0wEmAY4Azv/S/uL9k/1p/Qn9rfxO/Cf8zfsh++b67frX+p76Pfon+mL6w/r4+vj69fo1+8j7U/y6/A/9ff3R/Sj+Q/6L/hz/l//O/xUAgwCtAIEAgQDFAMwAvAC/AOYA+ADFAIUANgA9ADYABgDt/57/RP87/x7/E/8//7j/VwDvAPwAzgC0AFoAPwB4AJcAfwBtADAANABTAH0AtAB4ALr/Hv+W/jz+sP2P/Wn9LP3z/Gb8a/yM/GD8z/ua+1j7N/s1+xb7H/sh+xn7Sftw+4/7ofvE+9r7ufu7+9z7sfxI/YT9yv1Q/s3+Wv+4/wgAHgD6/0oA8wCAAbIBxAHjASkCeAK1AqoCegJDAhUCgwLhAh8DRgNhA5wDvQPiA8EDpwNTAxIDNwNTA5MD4gNBBFYEgASdBK4EvgRzBFkETgRJBJ8EBAVPBUQFTAVTBXQFiAVTBRgF0QSHBBAErQN9A4EDRgPUAmICqQHMAOD/Jf9z/sH9MP1v/L37EPuX+uf5K/l/+N/3c/dr9xH3o/Z19nP2VvZH9nP2ufbw9oz39feK+CD5qPla+ib78Puq/JP9G/7E/lz/KwAsAfgBmwJaA+IDZATaBIoFCQZaBpYGsgbYBv0GUAeUB6IHbwcvB/YG0wZoBuoFeAUaBXUE0QNaA+wCbQI2AuABagEHAdAAmwBTACkAGgApADIAVQCXAPgAQgEzASoBbgHcAVACjALLAiUDfwOyA/gDBQTvA84DlQN5A14D9wJTAtwBeQEbAd8AsQD4/1H/ev7c/Vj93fyM/Pv7JvtE+lL5ovgu+Nj3evf09l32S/ZA9hT2B/Yf9ir2B/Y19mr24PZZ9w/4q/hM+QT6uvpN+wT8YPwA/d79+f7X/2kAEAHEAZkCdAM8BOwERgVXBZkFLwbpBhMHFwfjBmoG6gUJBosG8AbuBo8GGQb6BRQGEgbmBWIFzwRhBO0DuwPOA7YDnANWA+gCiQIgAt4BowE8AbwACgBK//n+AP/U/of+Qf7e/WX9bv2P/X/9MP0N/TD9Lv0+/Uj9Rv1n/VP9Nf1h/c798v3p/Tz+tf7S/s3+O/+k/6T/7f+MABkBhAHrAccCvwM6BHMErAQwBYUFugXOBYUFHAXLBKoEnwRzBAEEhgO8At4BPAEyAAv/wf2o/On7VvuI+r758vjx9xP3DvZn9dT0bPQX9NXzgvNc88zzM/Sq9Dv1zvUQ9k/2zfZF9zf4M/kr+jH7TPyt/bP+nv9nAB8BsAGSAmcDMQQCBcUFggZIBwkIcgiXCGkIAAidB4kHZgdBB0MHsQcYCEQIBwjsB7UHAwc8BrYFRgUaBQYF4QTABLAE2AShBAUEWAPdAoMCRQLEAU8BGwHiALwA5gDxANsAcgDS/3v/hv+4/8z/mf92/1f/Hv8I//f+pv4+/iT+Jv48/pj+1P4T//b/AAH4AcAC2wJ4AjICHAIBAhUCMgJQAmsCGQKuAXsBcwEdAUgALP/T/QT9bfyR+7j6E/pi+Wn4ePfP9mH2/vVw9cT0UPQv9Ez0gPS19NH0wvTN9Cv11/Xa9pv3CfiK+FT5Ufp++1n89/zG/XX+LP8yAFYBfgKIA5QEfwWYBtAHtAiACQIKdgriCoQLCgx2DMMM4QzmDAANIQ0aDbMMBgxuCw4LeAquCZoIgQecBuQFRAV6BJ4DlAKTAYoAjP/P/ij+j/3u/D38mvsW+8z6SPou+hz68vkI+h76PfpB+hj63/kh+ob68fpS+8b7QfzF/GH96f1z/tz+LP9r/4z/5P99ANkAIQGCAcIB6wE0Ap0CmwJmAjoCHAIyAm8CAgNpA0QDHAMJAxwDHwM5AzcDSwMJA5cCdgIiAhECtwEsAd8AgQAAAET/kP7V/S79afyf+wf7ffpT+vL5TvmP+Dn4Avjh9+z3m/eQ92v3h/eZ9xj44Phf+cv59fmg+mX7Afxm/Kr8Df1s/S3+rv5T/zsAsQA+AQwC6gKKAzYEagSFBJ8EowTcBA8FHAU7BcEFAAYFBvoFrwUlBbsEfAQdBA4E0wNwAwAD7gIAA9ICjAJ2AkwC9gHjAS0ChwKdAp0CzQINA2kDngPcAyAEUAROBGEEmASqBO4E5QTCBGYEMQQkBA4E8QOGA7gC3gFAAbwAZABMAP7/gf/Y/un96vxB/Kf71/ow+sD5M/m7+FH42Pef92L3BPeW9p/2mvaG9lj2VPZf9qX28PZb9933k/hQ+db5TPrb+rX7uPzG/bH+dv9EAPMAiQFkAhYDFwTaBJUF4gUvBmoGsAY2B6oH8QcACNIH2AffB50HWwcGB5QG/AVpBeoEFQQUA0oC0QGRATcB3QCeADkAr/9p/3v/f/9p/zv/N/9R/2X/dP+O/ykAmQDvAD4BewGAAYIBngGaAXkBowHwAUwCVwJZAmYCVQIyAiICCgIpAnoCaAIeAq4BSQEzAfoAcgAIAMH/Jf9q/gP+sv0l/YH88PtQ+6v6Fvpz+df4T/hv9+X2lvZW9i/25PXH9a31uPXQ9fz1JPYh9mP2v/ZZ96L3MPiK+P/4bPkG+sz6n/tg/BL9tP2q/m3/MADZAJwBAwKvAncDVgRIBRIG8gZ2BwsIfwjrCDoJgAkPCk8KMApECloKpArdCuAKdAowCtQJ/wglCLMHVQcDB6EGIQaMBQYFcwT4A08DaAKuAQUBYAC2/1H/8P6d/kH++v2n/Wf9LP0w/Rj95PzF/Lj8pvyD/B78Ivxi/Hb8xfwf/Tn9If0o/Sz9Kv1W/Xf96/0+/kz+hf75/nL/iv/V/1EAFgHeAfwC9gNHBEkELQRhBIkEFQU0BWsFWgUVBdwEwATuBMsEJgR9A3wCuQGVAOL/Ef8Q/lj9rfwM/E37nvq8+ev4Cfg696P2Nfb49br1UfVa9X/1lfXg9Xf2o/aG9ov2v/Yy9933yvhv+Vf6PPsv/Cj95P1d/jD/tv+MADMBIgLfAnsD+AN6BDkFzgUsBokGmga3BsYGtAaJBqEG2gbRBgEHnAYLBlwFxgRvBAoE3APMA8YD0QO4A/YDLQRDBEkEfgR8BIkEfgRUBGYEdwS1BBoFTwU/BS4FIwXfBJsEXwRLBBUE/wMVBBcE+ANaA9sCcwIBAsYBVAHbAGAAtP85/9b+gv7I/RL9Yvzg+yj7wfon+o35yvgf+MD3NPfp9qr2t/aa9mX2RfZC9jX2TfZz9q72Efdz99L3hvgD+W/5APqV+kX7Bvx8/Fr9Bf6f/jD/BACxAAkBWgFUAakBBgJvAvkCSwOpA7YD5gMDBCsEQQQHBKUD5gI9AhcCqAKPA40EDwU5BXYFugX8BTEGJgbdBXQF9wSuBLcEAAVtBYwFGAV3BO0DhgMaA8ACRQJ7AbQAUwArAGcAuAAJAS4BBQGxAHoAXAAgAKL/Of/W/n7+nf7y/in/x/4m/rb9iP10/Xv9Qv0C/dD89fxa/dn9L/7v/bT9v/1O/rT/PQJVBWAHSAekBeYDrQIiArABowFYAR0BJAFPAaMB3gESAQ3/vPwW+3/6k/p7+n36Fvpq+dH4Z/hh+Or3//a09cD0UvSm9F71x/W89Uz14/T59Lb1rPYR93P3J/de9x/4M/kP+pn6G/u/+3z8af1J/iX/r//x/1cAHwHLApgEPAZgB24IcQmVChEMYw0VDkkOTg5oDqYO+Q4TD88OFQ4JDd4L6AopCjwJ7Ad5BmAFUgQwA2YCygFHAZ4ATABBAFUAfQCBAE8AUwBkAEgAOQBXAIEAmwCKAFwABACg/zn/5/6s/kH+Af48/of+lP6u/of+qP61/qz+5/5a/87/IACeAFIB+wF8AugCBwMhAxwDVgNhBKsFqQb2BgYH+wa3Bv4FuQQ3A0cB9v/q/jb+6/3p/dn9Df0i/D77Gvq9+Lz3fvc498/2vfb29oH3qveD9+v2cPYx9iT2DvbD9Zn1bfXH9bf20Pew+Dj5evmx+TT6+PqY+0j8Pv0Z/ov+Bv+G/30A/AAoAWUB0QFQAq8CMgOEA/oDOARFBNwEtAUsBk8GMwY3BvgFiAXyBPwDLwLm//r9Jf2L/gECrwV4B1kH6wblBiQHfgfbB5kH+QYmBu8FJAfGCPUJVgmHB8UF5AMZAlcARP8m/pf83Ptg/Fb9Cv5i/ln+Ov7G/ZP9q/3e/fj9PP5K/+IAvgK3BJQGDwjDCDEJmwn1CfkJuwkxCZAHQgaMBbMEewMRAoEAn/4S/dj7g/r9+I73dfam9aL1aPak96X4QfmJ+VD51/gN+KH2SvUK9Crz1PKD8lDyHPIt8v3xgPEJ8Q/wiu4c7YDs3OwN7nHvMfGt8rLzGPXI9iz4mPnz+lv8Nv6tADkDowYgCtUNYBHQFIsY8hrSG2sbeRqeGZAYmBcvFmUUiBJ3EGgOBAyFCXsGAAPr//b9/vxp/D386vzk/Rj/gQC7AdsCSwNYA2EDRgNLAzsDZwOTA00DegJNAQgAR/4K/Ln5h/de9eDzT/M78z3zvfME9VT2jvdX+Sj7pPx7/bn+tACxAqMEgAZnCKoJNgqXCk8KdwmgCOgH5wYuBYEDLwLQAogFggj9CWoJvgfkBagE3gOXA98CfgFgAO3/SgDdAG8AYv5s+4j4lPYE9V30bPQ69D70+/SU9nP3E/fz9YL0ovN5827zv/Px8xH1Ovaz9zH5L/mM96T14/S09UH3evkf+9H7CvyS/ED9BP2J/L/7uvrZ+i38tP0l/wYAugCZAPUAKAGvADf/Lf4Z/in/IgJ5Br4JPwzbD74TshVWFdsU4RM1EgYRwBH/EpUSThFBD7gMWgpMB5MDJ/8M/Ir6SPo8+4392f/1AJwBQwISA2kDOQNnA1YElQWhBgkInQlTCp8J8QeeBfECmf90/Pv5S/h69233gfe+9z34+vgG+qr7k/1z/qj+sf8kAgYFYAdbCSgLlwwYD8wU5hsEIB4elxb8DOcE+P9P/dP7APpe92H0K/ID8enuPuqV5A/hLuH85HrqsfBz9jv6SPyQ/Ib7xviq9AXxZu8j8Onx/PNy9Rb2bPZ09STyg+3o6NHlW+XC6HvuW/I184bz6fOz9FT0v/Or8zv1h/kcAKgHdw7JE84WVBjlGmYfRSSKJRojpiChH9sexhy2Gf8VzRD8CtkFcwF7/Tj5UfUJ81Pz1fXL98r4ivqY/fMATQOVBfEHPAnaCeQKGA21DvoNaguaCCYGbAOp/2X7dvcr9BXyH/ES8ULxo/Gj8evx1/On9lL5iftB/jYCLAZ3CRcMqQ1JDuINMw2XDP8L0AoVCScHWQcyCk8L6go9CuQIbwc0BRoDIALXAMP//v92AOIAjAAF/vH6Zvln+HP3p/Z59kz3uPdC+D75PPnY9xb1sfJd8Wrx0vDq78HwTvJs80LzvvKD8o/xJPFx8n70H/ZX9zn4mPia+Bf5EPnz98b2gvZr9VT0UPQk9Dj0+PMf89TyS/PV9i38vABtBbkJBw0oEEIVEx5kJdMmpyRzIs4gcB66G4YZERZOEeUL0wazAgD/f/pX9abyefN29Uf2Hfib/CwBjQQIB6gJuwuHDNIMWQ4KEXQSJxF6DpIMSgoZBjMB2/yc+Fn0i/Gi8HTwXPCr8CzxhfK79N72Tfgc+pr9wgHABHoHPwp+C4ALggvyC58LcAt+DscRKBKQD9ELKAnNBn4EeAKBAL7+v/0J/YH8ZPw2+rD2hPMP87P0ZfVs9rT4dvre+2b8YPwS+w/4ePUr9G318vYf9sf1uvVB9Yn07vLr8dnwmu4U7tnwOvRA9rT2C/YH9iH22fVW9tD15/TV8/nyVPSF9SD1YfOu8VfwV/A/8gb3mv2FApwGewpnDSQRxxlMJRgrfimyJlclUyMeIEIcJRmeFPUORgo7BUQBlPw/9Zjv5O4T8qfziPOx92L+YwOCBlQJfgyIDWkNxw4qEi8VyhTWEZUPIA4ICm4De/2N+Bn0IPAS7sLtDO237EHt0+5a8WXzIPVK9yb7qQB4BSgJ4At9DZMNkgywC1MKBAj4BW4GggsDECoQuAy+B3IF9ANaAV7/OP5M/o7/xQBKAgMCmP1w+Ij15vW39iH2bvYH+Gz5/Poq+2L5IvfZ86/yFfJh8RPyA/I68ln0b/Tb8nbwmu4t717wW/Iu9YH14vUk9xT4Gvj69d/01PQj9Yn3qveN9vL0U/Ij80j1OfWM8vftK+2F8Hv1o/saAGwDWAY2CakNwxGYF5YfQiM+JAsmvybjJPoe9hnXF3gURRAWC/gF1gIN/7b6Pfex9R322/X99l/7EQA5A+wEogfeC0MOsw4ND3MQlRJEEkUQDQ81DesIcgMIABv+Bvqp9evzN/Nv8vbxbfJj82z0/PWt9535TPy+/gcB/APCBiwIBwhVB/0GWgbtBU0GWgbMBaAFcgV9AysAFf6i/5QGXBLhG4wemhr2EBEHWAEY/5X/x/89/9D/xP7S+u3zOetA5BDin+WR7Ibz/fgM/G79f/0M/LX3J/IR8Ojwb/Sn+Nv6x/ng9c3y8O/860TpHOYa5nzq6u9v9Kj0h/JS7wfsmesW7ELsIexN7D7vbfoLCpAPLwlt/yn89/6mAscKiBdeJSssXCtnKtQlTB1cEucLig8oFasXkBYxFXwTVQyLAXD42vSt87/zxviaAWwI/gc7BVEF6gUdBNkA6gIUCKULfA7CEF4S1g7+BwAD8//T/Qv6O/j5+Xv77vuG+o34S/at8wryh/J29YL4APsv/lUCEQWhBDIDYAIpAvABJwISBOgFFwmtDKINdA3mDEQN/Qt+CXsIkgf9BkAGqwVgBW0CG/7h+b/2JfW/8/Py0/Pi9T33rfcJ+Hv4APgM90j3cPg8+XX5zfmH+WP4HvcW9QX0dPMd86z0mfWl9mX2N/NB8i/yWPHE8bXyv/Or9Tj37PcB+bP3Rfba9vz1B/bt9Zj01PR39LbzFPMZ8sTxf/Mq9sv54f6dAhoFZgeTCq0RRRthIVAi+CFfIqEiHyGRHhAdXRqKFnsUUxI+DngH5P+A+x/7zPqA+R35Svpb/KP9Nv4T/57/DQAWA0IIUAzGDTcNnwyTDU0NvwqfB+4EYwPNAUoAqf81/af40PVT9eX0/PJf8eDxMvPf9JL36vkD+4n7yfw7/x8BjgKDBesIxQr3DAsPBBFMFJoSqQ8NDwsNBw2PC5UIqAfIA6b/6f0v++v4Y/Z98/jz1vSN9Bj1O/Xz9WH2+vVT94/4lfi++XD6oflv+TP4K/fx90X2ZfWZ9TXzCPVl9Wj03vYy84rwTfF07sfwZvJj8cn0G/QS84P15fS59CD0H/Mv9+P5NPpQ/KH7PPvX+tb34fcX+Yf5iPqC+2X93f9bAlwFPwcXB20HhwlTDy8WDhpbG2EavxkaGTsX2RY6FeEThRNNEtYR6w+8ClMFpAKsAcMANgDJAJ4BeQFQAlcCogA9AMH/2QBlA0gF/wZ2B+4HeQgACIkHZwVlA98CcQIKApEBYgAo/q/8wfpl+hX5+/Yz9rr1iffK+H/4+vj1+Qj8GP/mACkCcQI1A9AHdBbgI4UishyEEjIMyg3BCpQMCw0yB4kGVgPi/WL3/+nn4mzlmOrP8RD2L/fm94X3Nvc19jr0ffMb9jr86QGgA2gB4vqb9a3zp/HN8bLxA/HM89r0AvVo8kvqVeYp5l3ovO2Z8JTxz/Ed8Uvx6fFa8JTtlfDX9XD6t/7Z/V79dvzH+b78xP7S/jICZgSlCEwO/Q26DE0LpAe/BnwHlAncEG8YjBnoFhgSJg5QDOAK8g1LEpUSGxOuE/kTRhIEDV4I/AUSBsYGOQhwCg0KtQeMBZ4DjwGS/lP91f95AZ4B7AJBAuT/2P5//X/8Rv2o/ET9v/9SARMCuP9C/S/8rfo6+xj9IwAXAr0BhQJtAkQDEgTfAoIEKgguCggM7gsjCsgI1QZpBRwF5QQ4BLQDewN4AngAHf1M+jP5Mfna+Qv7/fto+wX7hfnY99j2GvXd9ef2Svcv+fj4cvhj+OX2ovVn9VP1Z/Xu9k75o/nq+cj4efa99vr11fYL+Jz4X/kX93n2//Zp85D0J/It8u/zxvRp9yv1/vVB9Qb3I/gK/LT9Zf/PBKUD0QSVBU8DswQHBCgEogfKAz4EQQQIAFIBRP+c+6r+Tv4R/0sDzwH+AlsCNALKA80CnANoBNUDRAZPBtQHYwijCW4NUAzjDIcOpQvvDfEPqA73EQERZw8dEGENsgtnCtEGXgcQCWcIEAkfCBAEEgMGAr//bwDdAOv/jwEnAk4C/wG4/3z++f6F/p/+OwBl/zf/yQCJATIMgQ+bCv0LgQPFAJsC2QCDBeEHoQQZCdAFVwL//Ur1L/bC9B35fP4w/6j+evzz97T4//N88qP0xvHP+dn4y/mZ+nb1jfOn9h304PaC9iP1wf19+GUBKPjY9jLz6fMT95zzzvha8YPywvSN9qj3pfYd80f0ZfPj+b78Wv1Z/kQA+/sWBjP9iP+M/L39dQQABuoHAwSRAQz8N/3ZAIMCywLCBCoBxQBTCBb9DwUMBEcBJQoKAEwFAAgeBZcKcQnKA9gC+AGrBbEHaglQB8YBOALg/fwDMgJ3BsQEPATcBGoByAFK/1kC9QCdBD0DYgeuAXABpwHS/LIBif7MAD0D1QFgBzUBkQGt//j/4P9l/9UGtgPqAl8E6gJOAt8F9/42AkME2//1ArAE2QBXBcoBiv9FCSQCaALpA+4CaQAfCBkBO//nCDj+7ALsAgH+RwEe/wj+sf5dAU8A6vzfAn/6vP62+nL4LP+8/OT96fsi/MD5B/l7+u36P/zT+PD7jfjM/dj36gAJ+Or3kwOa8T0Aw/1Z9zcBm/mb/EADkPB6B5D0APgcBQPxEAS4+rD7zgOA8YAGfvd7+hIJ1fjBAz8CdPx8BNn9gQKQBy35sRGs9nwHUAQz+U4MpPqaBrkJ7vmCCfsBWvZGD7v2IgdeBfb2PA5U+Vb9dQ468gsG5gKN+FsEbgHD+IIGh/yTASUDTPXTC3r0HgW6AO36Ewdp+NACHANY+H4GRAMg9B4R3PTPAbgFefaEBjj+iv37BmL+U/3rCxrzQA1G+kcGAQLQAJ4KJP5NBh0Ibf+dBCkKe/j1DwL6eQvL/mwIuvxVChn0Pww995YEfgKP+7AGrffUBJb2QAgt8qkNWO4LD+/wHgWu/ib5tgNF/GX9dwHe+5sEdPrmA+MC8vSYEGDwGwsX/BT9sgYt+WgChQK19MkJ4/LVCkT47QBIBXv10Qiu+agETfs4Bwf5/AcQ+WIMU/WbBasDsfnTCLz/3/7rAzL/2PtsBvn0zQYO9+sD5/7qALT9RP9r/LX+SP/t/QMCb/7y/ncBkP7N/vAEBfmeA7j/RfedCR73FggF+bj/ngOt8mYMKO9aBnr31/0c/IT9/Pp5/SsA+PXYBLHykf80/zr7DARn/fX+m/6y/S0CdPqFBMH/AwIuBZb+9QWY/e4C6AKR++sL2PnSCu7+LwJMB9n4Pglk/hP/MAWp/VMFbANT/eoHuvpgAscAbf9gAjv9eAIXAvD7twTZ/Cb+EQAKAAv9ZQZf+9oEfgF7+JYGP/qH/sQE0/2t/w4CmfreARX8e/+8AEP8fQDD/Tb+zQFw+mAH9/mp/RII7vaUBn8DJAEtBHABMADoBbH+OAcrBL4CCgSiADEERfxlBv398f8oBnT8oP+DBQT4bAgx++T9+gVO91YGMP1HBE/6EgTn/iT2Vw+Q8OEHCAJe83gKafXI/WEDbvv++o4F2fUu/1gBkfiMAP78L/7S+vf5HQTX8zQCJQMy9bQK/PVL/T0H4vBHCaf9+PPdEbHw6wj3/KD9Ggin9g4Hgv6Q/skESfnaBlf+JP4WD0DzDQ8z/sD8+Qz89yELTABU/owKCvli/7gIY/bcA+wC+/a6B9n4YPyXBY71AAP9BJHx3gtZ93T9RwlB8gUL8fw/9zkN0fQb/vIJEu6eCHD7WviSBMP4Fv/1AgT3uQZl+AsBT/9y+uYH7fWtB87/qP4WCKn6Mwnj+wUGswKwBqf9cQkwCO31nxAd+Cv+CxB89LQG3A3Y6jMT1/p/9YERVvORA7QApgI++ZQE2QPX8M4RtO4LC5sAi/6wCFf8twZd9vEMDfVIB5UDdgARAKEEVPlCA9L6FQDiA7D4KgsH+JkA6gBE+LwFXfkfAzkAG/kHCX34Ogf6/XIAzgWJ9ygL5/snAwgCqAQk/C4FoQRS+eAKK/wAAK0DBvy2A9b+L/5y/7IBKPnKA6P9w/y7/YYB//jpA7D78gHW/JD+mwcb8Z8OkfOnARgIrPGyDeL40vphCyXuuAwi9F8B7wAm9hQIWe9RBRr1UARg+uT/vvxE+nD95vppBSP4kARu+83+2v5xAi7/OwOFAHj8lQNQ/ggFKQDZA6z+IgIO/ikCRQR9AH4EHgCaAXIAfv6ABBL+SwS8/+QDyfxyBan6SALv/3n9eQbU+fUEUv57Ab78vgQ8+yQC/wNr/78BPQUd+4sGPv0wAMkCgv6RBij9Tgeb+uMBnP+0/eoFQfkkB1r4d/1YBubynA0X9FsCKwfb7ScUhfSTA/gFffg8CW/3AweaAZD17hUn8PwKMgDW/B4KwPQkDP304QL0ASH6mQqn9hQGefuh+b8GYPr0AXv/YQFk/KcD7/2t/3QAZABt/H8Ia/fMCAz+3AGeA0z8aASv/EoC/vqBBx/2LAia+2X/wf9Z/n73K/6G/UH6wQW/9vQIfe4HCTnzZABLAXv7DgYJ/bH+5QRp+MIByQLh+ZAJ4/srBx4A1AJe/5QG2vbfCbv9hP2lCFf68AQJ+9wDDf3yBtACgAG9A7H/tP9cAIECngF5AckCQgFU/o4Fx/xsBgD78AH4A5D5tQQz/Tz+vQN89/MFLPvX+jAKme2YCSv8pPeZCpDyCQv9+EH8OAe493kBtQQw+oIETALd//EF7fjdBYb9jf1wAwABFAO8/hcHY/snAnT/8P4iAtcA2wIhA0cED/+PA3X+oAAu/dX/rQIIAqgHdPwtBG/+N/jKCiX1YAfBA0H5og139jsD/wHY8v0LLfxT/AkLBPiKAMgIE+0sC0f5JfqZBcj7zwEa+nQI8O/yBMMAZfPLCXb15ACABIbzVgsp9y0CiPoP/4ABD/1mBwQAqPweAvb7G/uJB832gAuJ+eoFxwCQ9ykHWPtK/AAKXfa3BCkFePd9CoT2LgWW+X4BuQEW/bcJbf6b/sYEpvWmB0733ARaCrT1uxC59HEH+/sz/toJoPWwCx76kgKMAzv4EgnV9uUBN/8I/KUB7P6XAHj8TQHZ+nb/IgLE/h0BbwRM/vUA2P4i/kADIfvRBhIDV/lXDnP2DAKeBRT2+QQrBBD56whVAI39JAT4+DkAUP4jA18BIwN+AQ/6kALW/oL7ywxe9xkME/q+/ksGzvNSC7/7qv4ZBkX3TAVT//78RwSR9ggH6vCqCY76T/85ANX4nQQE9yMA/AKX9+cE4Pow/YYBt/ucAU78NQHi+vYDq/1vApf8OQPz/An9ff9zAmL5fAk0+qf9LQJm+dsAMAAKAoX+UwJc/UwALgHL+cwFVPuw+xoIhvgzBp3+eQFB/9r7HQGeAXMBYwFp/w4EZPcnBzP9X/6nCEz6ZAAgAnj3dP8CBe3zXQvw9v4Cif7W/OMB9f66AGH7rQVF+W8Hj/vBAzQAgv0bBOP7KQXuBBL+dAi1+3gC8gHj+wkLJ/y9Bob/Rwa/9sUCFQWV9U8PtP/M/ZkFVfxQ/uUBFgMiBBoFzQG6/FEAw/8E+rQN2fjZCHoE9PPgCpT08gb+/FkC7gcf87ANu/SnAw4HePUVCaf7bf7TA8L+i/5nAwL/S/1fAX7+Qf9vBOYABgBjBun4bgHbApD8bgOXAMICHPyaBkj6qP6lBo71ewb8AGL+EwKFALX3tghx960CagFC/fz/1f+yA773JQix/Pv+ZwO8//39aAGc/8AH5vfuCQT6cPoFBqL4tQKxBUL7BAXL+dX7bQD0+OsD0v47A9j5kgKV9fUAGvrrA1cAjvybBd/38QC6/3X5jv/tAIn8wwNi/1j9AAGl+7ABoftHBvf5sAhr9wgCkwAJ+JcK+PrwAWQAf/xfAe0Akf/EBsf6rwX0AaL6EgO0Aa77OQiz/rf7RQeM+soDQQT1/sUCggGo/s7/ygOh/sgDhgHG/ScDhP0pAL8A9fzt/6v/Jf+gAO/9wf1v/sj7/gKB/Cb+ywJr+owC2f9a/SX/tAGqAn//Cwga+GUBRgA++xMFKga2+DEQK/eA+04MM++rCF4AQQCvACMFQ/ehAaz+evllCrL7eQEWBj36Gf41Aar74v3gAd4BUgHtAxb9Kv2R/x78AgUMAswAfv5uAYn3EAHjAdf1FQnU+e4BjALO+mICm/cpABv+HQTk/CMFJ/8K/uECgv59/S7/CgAnAosBywRa/0j89/5Z/O8D9f73BJv+TAKQAEQBfP6L/tsADv4eBakAWwK9/TH7VwIN/W8CxgQ7/csCcv2+/m8A2f1iAogAvgQaAHAB8wCb/Gv/EgGH/GAFuP0ZAmQCL/4qAVj7GACM/BwFggE+BA7+8v6c/Vn8Xv+DADkAgQJoAY78fwAc/9v/HwP1Anb8XgU5/b78aAQm/kD9VQLc++gAlQPoAlH92QOK+Jv+CgCC/YsGpgAo/igE3PlO/tQA1vyMAGQEBQE9+hQGR/mB/4UEofvzBX4E9/l3Bhf8M/0QBp/8jgLuBJX/xAFCAYX81f8rAO39IgRyAPP/MQSX+o3+J//7+7gCLgCjBCkCfP76AOz8JPwuA17/nQThBPQBG/5/AGf6sf6zAlf++wYrBY3+tQRb+VT7RAC+/MsE2ATw/rz+Mvxs+WcALf7lAUsDkQN9/zADD/8C/6AABv8XAjoEygU8ATEE0f18/IwAqQCNAf0GpQEOAfH/Xv0W/2H9igNw/ZoB6ACR+6kBYwGc/0cBAgCQ/kz/0wGtAH4B6AC4/Nf9p/05AGMBhgNp/zH+Fvsd/Sr9cv9yAwUBdADq/lT7hv3l/gMBbAGG/0j/z/5S/uT/eADR/eH+ugB7/6IAPwAs/VH/Xv0gADAA5ACV/0ABnP1H/sX/Iv7SAEsBmQBgAJj+Lf7N/hr9oQEjALn+JAKt/Hz+aQBe/BMACQHO/3MCMgJx/poBOvx//y7/owEcANgBfQAv/q8Ad/6i/1gB7QAFATv/awCC/j3/KQJF/gkDeADt/zAAEQAw/xkBrwDU/iMAAP+C/pUAFwI/ADADV/8h/1P/vP+1/jkBowGQAM4A+/6g/Xn9yv8LATQCggF4AAb84fxY/WkAjgCzAhEA3/ym/AD/n/xjAcEASP/5/lP96f1B/DD/gv3+APEAlwAA/6v9H/0X/oL+5AAuAOH+vP9s/WT+cAGgAAMBYAJ//1P/JQDH/hUAaAH4AccATAAW/6n9vwDo/5UDMgIEAJP/1vwN/yv+ZAJZAqwBowH2/9z9df4uACwBHgKyAwIDVwAEAFf+i/5rAjEEZgQiBEoCcgAG/w8A6wEpAlEDcgO7AVMAcgC8/ykAuwO2A9QE+AP7Acz/JwC0/3gCtQRQBKgEiQLv/yUAP/8AAMYDywL2A40BXP9Q/jj+gQCJAakDzgO2AMD+v/2Y+/H8tf6f/roAjf5T/TT8H/iM+jf74Psd/Xf7gPnI9v/24Pbj+Yn7rvtl+5P4C/hY+K34M/uU/PX8EfxC+wX7Ofpm/Ez+hv/zAN4BdgC0/wsBNQEsA44F+gVeBVoFgQUjBWoGvwYeBxYIlAduCHMH6wYyB4YGgwfvCL0IlQjeBv0E+wQKBGAF8QWMBUcElQPKAc4AcAGTAJMA2QAaABH/s/72/QL9S/2G/fb97f1O/jj++v+uAfsB8AEsAW0CzgPzBRUHawdDB+YFjwbEBpAHCgdVBZQERAMyA94BngBK/8H9Sf6q+3/6CPov9ur1vvTf9JL0yPPh8pLyVvOP8crx5PAq8RPyFPMD9EH17/UO9KP0vPX89af2PffY9174Zvkb+Qz5kvkC+Pn5jvqO+rX7QfnQ9+r3L/mm+h39n/7N/pP9S/1F/hwApQM/B3QKcwuICtoJEAu5Do0TmRY1F1EXPBV3E1EUjxUAF0kXnBXqE/URRg/VDVkMVAt4CsMIYQbqAoEAcf5v/Hb8evzj+6b51vdN9lz1sfXH9ef2Ffck9ov2HfaW9sv3UfiF+V37lPsy/Kr8qPwt/sH/CQFDAhwDbgOiAzwEnwSeBg4JEwqICj4JTAnqCS8LbwwkDlwPGg1VDEgK5wlrCjYJBwlICMMFFgPMAJT+Yf0t/PP6qvnM+Nn14fLr8UzwB/EC8PbunO4q7AXszusZ7dfukO8d73Xvie+A74PwuvCV80X0ifS19Fv0zvWI9az2dPiN+Xr5kPfi9Qf2fPct+SH6jPpl+s35//gu+j/8hv9QAhkGqAlsCcAHsQdWCwISARi5Gsga3xhLFwQXRBlHHQMfXx27GtwXIhaBFOkS8xHYELwP1AwgCTAFgAEI/zb+ev6z/j79iPgL9YrzRPPv89z0n/QZ9Jfza/KJ8mb0TPWn9lz4F/lB+mL6Zfp3+7j9OQCJAUwCnwJxAoUCBwRcBe4GcQfaBnsGcwbDBaMGXAgrCWQJOwhIB1kHTQjBCPQI8AnXCAoHDgY0BfoFogUzBLwCDALtABn+2fwc/H/6+/lI+I/2oPVO8hnxm+9l8KTw1e4s7vTsAe3X68jsie0n7ibvY+7q77bwI/BL8ebyiPP79Jn1YvUT9wT3pPcB+fL5LvrG+Nn4ZfgM+VL5Ovn7+7P8WPui+vP6Kfzv/80CYAf9C0EKfgdLBrcL2BNwGWkbnBo2GGAWqBYSGmAeCiCSHQ0ZOxeqFjcUoBIKESgQBg8oC4EHTQM/ABD+T/3X/UD9YPo09S/ymPF+8gX0//OP8+7yL/Kc8dTyXfTk9R73K/de+Bn5n/lP+nD7lP64ACICeAJ6Ap0CugJmBPUFrwf3B7QGowZjBgMHjgfHB5sHqgltCjsIZQYrBPEFoAgmC6oL7wiiBd0CjwO/Bu8IMggVBZMB4v+m/xP/Sv8K/i/8L/sX+Z/3yvWi80bzVvOi85DysO++7RPtLO4c8EjwRPA474zuW+808NXx1vIW843zAvWr9XD2zvXd9aj3Nfib+dP4xfdD9yT3QPhf+Y37TPpS+bj3B/jv+hr9NgDrASAFzAitCpQJ3AhfCxwR+Bd8GwEd2xseGd0YExucH08jqyHkHGcZqRd/F5QWBxUmE+MQmA10CroHtQScAZL+WP0Y/XD7APgK9HPxDPI78zfzgvMn8kHwje8u8KnxQPMB9O3z2vSc9lH4bPkN+jr7FP0L//b/8wA3ASYBHAL6A8YGfQi2CLUHiQaCBpwGHAd6B9EGbAbiBUwFJQW7BMMD9QLjApUDNAXhCRIO6gqmBA8AZAA6CdEQ3xGhDkIGlv7o/Ez/zwQqBkABM/uJ93T1ZPR384zyN/O288fw3OzC6hTn2eYd6pLtl/B67VnoO+aS6H/rVu5a8MbvcPDr7r3u0PC78fbx4fIl83v1avam9H31jvVj+LH5f/qj+4L7f/0R/8gDlAsWD3EMVAncCRoS9RtbIIghTR+0HOQblB3YIlcn5iWgIA0cGByuHOMaVBc+ExQSYxDWDFQJIwXSAJ38sfoX/D/8efiM8q3u3O5I8OrwcPBL76nuxe0u7ovvBfFB8ufxgfIP9ej3B/h+9yP4vPpd/jAAbgHeAcYBcAENA8oFDwjtCOEHlAc5CKgJHgqFCbYIkQhWCMUHUwfNBk8FkwVkB2oGLwcPBbsD9QREBS8GjQaCBuwEIwWlA7ADvQPnAd8AjAAVANL+mP3D+nr5bPkd+Jj2jPXH8rvx4vCK8PPw5u4w7pTt0+w07Qzt4Oxo7QbtD+7t7iDvs++C74jwFfIh81Hz4/Kf8tXzrvQR9dz0FfQW9oH3Jfic+BL49fcA+Pr4/vqm/tMBGwanC3EMLgptB6wJHRItG6Ig/iAsHokaOxnUGzoi+iYfJh0hVhxBG70aURlLF5EVBBQ2EZoNGAoQBmwBsP3H/Bf+mP3C+b706PDy7/Xw9PFX8kDxG+9V7Z7sFu4I8FbxK/KQ8oL0T/aN9lj2b/es+Y78T//dAJEBdQHIAQEEPwc0CqcL+goTCtQJmwqGC7QL+wvpCzoLaQrlCWEJNQiLBpcFjgVVBVIEtQLRAX8DdgcnCrkJvwa0AWgBiwSlCGkMmQpTBUsB1P6Z/6wBzgAI/yf8avlt98b0L/Lc76jv8/Ao8RHw3uwa6XXn6+dB6zjtz+wn6wfpxulg61ntoO5D7+7vAPGw8b/xY/ED8TjyOPQI9773c/e29ZT0rPbN+U785Py9+/37Yv7cAxkMzA2LC58HkAdQEAAZSx8RIBUdWBp7GTcc3SA8JPAiuh7xG0Ac9xtgGZoVWBIrEXkQOg7QCsoFzv8I/MH6pvzk/DP5vfOY77juyu6o75Lvre4h7m/tvu0n7sjuve7G7hzw/PKi9eT1SPVB9Qj3P/pW/br/PgGYAfgB9QJ0Bd8HhwkCClEKCAxCDQUOyg0WDT0Nng3pDZUNrwz5CeMH9AYKCZAKQAg2Bw4EoQTiBcQEeAXLBIoDcgOcAxoD2AJGADH+Ov7Y/lP/Rv1C+174+/as9g72EPaF9PHyMfHR7wDw8e5T7aTt5u2E7gPvr+237Wzuou4R8Dnx2PER8kXyxfKL9Fr1SvUe9Sb2Sved9/f32vYc9yT3s/dS+SH60Ppt+qn6Y/uQ/FH9KP5iAFsEXgp6DEcLLwm4CLQN0BT2GuEd5By2GaUXPBitG2gfgh9JHTQbsBobGncXphS6ETEQpA+oDskMIAkMBHj/oP2m/rn+TPzr+O/1o/Re87PypPKY8XjwoPBE8bnxYfHJ7zrv/e9k8l71CvfF98v3Y/js+TL83P4FATYCZQMABbsGEgiCCCsJXgoKDEgN4g1wDWAMbgvmCuYKBQuZClAJAgi7BrEFlgRnAykCIQHZAK4BqgTVBWoEAwIz/gb/vwEmBNUGhQUIAhj/CPyC+8D8c/ue+t/5e/g7+DT1L/In8AHvP/C68OrwKfAP7vvs5eyV7mvwWvB/8DfxLPGu8ZDygPEA81T0ofTj99T3pveu9vD0x/Xu9mz4Lvo7+vj65vqC+5v8+fwM/nH+x/6rABECwgKbBS4INQtxDMILSAwQDiwSYxVuF4UYLxijFzMXiBf4GWMaIxlZGDkXGhdjFRcTVxGZDy0OBAygCjEJjwZlA3gA0v7g/Rz89fnO+IP3ovUV9CrzhfLg8WjxjfHV8drxcPEx8aPxpvIz9Hv1DvdI+Pr40fmp+lP8df5cAMYBKgPPBEAGEweSB0AIOgkjCtIKHQv8CjQKRQnZCKkItgj1B7kGvwWUBJ4D6gJZAm0CUQMJBrcGwwUYA7H+BgA8AcYDYgdSBjoEewG//c78zvzr+pX6JPl9+H34C/b48wryrfB/8KLwKPFh8Ujwfu/67o3vBvBa8IPw2vHq8iPzvvQo84fyYfQX9Jn3jvco+bz34PYM+Yr4bvs/+qT88/pr/Pf8Ev27/Sj97v4s/8f/qwA5AFH/kwCkACQCbwTKBdMIcghlCCUI3wfkCpoNig98EdsRfxFZEW4QCRL2Eu8S+RMxE9IT9BLCEIMPPg7KDXQNnwwBDLgKNwj1BdMDLAPcAcH/x/7g/fz86fsr+gX5nfdd9h/2A/Zq9kn2ivUa9Rb12/Xw9l73CfgZ+QT66PrI+4f8Zf0V/jv/vAABAvwCOwMuAx8DcAMOBEUEXQQkBBUExARGBdkFRgVFBJ8EgQXCBkwH0wbBBXoFmwXOBYQG5AXPBN4DpgLwAQcBMP/n/cf8Hvze+9D6evnf9z72I/UP9Uz13/Q+9MPzlfNj89PzGPPI8yb0FvX59FX15PV19E32QfVl+Ib26Pev9//2t/uU+Rn7T/o0+tT5Cfsy/E/9fP7s/FT+AP2j/Qz+3P5g/+//3f9T/3//Yv7M/Wn/6P8DAR4CMQEhAUQA6gC3BK0FEQdZB8IGbwmYC3UOHhEEEo8SrRLREjkUkRXNFd4VyhWmFowW8hWMFB8SpxBTD0kOMA2CC4sJKQflBFgDxgFy/1z9hPs2+jr5LvhQ9xT25/Q89Fb0BPUc9d/09fTu9Ir1CfaL9hn38few+Fv5ovos+277bPvY+9T8u/3H/oj/nv+r/8f/4P/XANUBDwN/A2UDsANDBOIF+wbYB24IUwg5CMoI2QhBCRIJsQc9B/wF7gT/A1MCMwEYAKb+af3E+wT6Ivnb9+D2kfYW9enz1/P18j3ymfLN8pzxmvPH8nnzI/Wz9En0o/aI9R/2CPoL+Br6v/r1+fH62foN/dn66PwS/jX72QC6+nf+Pv1B+m3/wPzO/4H/1f2a/QH8ff0O/hj/uQGU/tj+jP/X/dv/MP90/zcBvwCxAF8BUwBPAKkDiwTeBm4I+wbRCBkJ2gkoDXQNsw74D8UP/RDbEY4RphE6EB8QzxCRED4Q3w5IDVoLfAnOCDkIngbjBD0D4AHvAHD/W/6R/c78uPzE+zP7a/qU+Wr55Pg++ZD5Q/kd+SD5F/md+YD53Pnu+aH5vPnR+V76GftW+7D7YPxi/Mv87PxI/aD9F/79/rT/pAB1AWgCKwLbAoEDIgReBd8F9gZkB4kGTwYQBnAG+wbTBukGTQb9BPED/AIDAt0AKf++/rP+1/2I/RX8mPsQ+dT5+vjl9sz69PbJ9//4wfV/+BT2AviJ9pf6ZPe4+iD5uPd3+2742PuI+D38DvfY/m/5t/5t+uv6Nvy09YX+IPfS/Hf4xP4b+Yn8bfzv9TP+vPVD/PH87fhl/ZT+7vYGAJL8uPqFAs3+4P8AAbkBPP5nA+v/AwJPBokBzQakBWgCowaOBbUEgggjCHQIewoDCU8KrwozCxgNBQ7yDYAOyg0WDZwNWg17DYQN2Q2cDf4MUAzSCpYJKAhMB1AH+AWQBdEEOwP1ArcBPwDt/5D+3P2g/S79Jf1T/KP76/r8+gP7rfrr+tn6ivpi+hz6+/kE+hH6Kfp0+oP6NvqT+sX6tvqg+qn6APu4/LH8DP5+/p79Uf+q/q3/AwEJAdgC0AI5A8wDcgPpA7QDzANGBTEERgPjBMYBXgPNAUgANwE5/9X/BgBG/X//wv7T+ML+Nf0Z9IIG4e/Q/zT8jPCpBdHvSP3j+Vv3kPku/QP25vzV9pX6/vf7+T79S/aVAPr1tfls/Un02f1i/uDzWgPS9wD64fwd+zX49QAh+2f/5P/p+OkBOfrr/3oAegBx/sACIv4F/goCp/0/AEUCZ/9UAYMAlf2JAaL8tP9hAXf+kQH1AMP/mAEZAfH/DQNpAK4EvwNeBX4HwATIBlIGYQYZCeUJUAlVDMAJHwvOCuoJ4ApKCm4LAwuzDD4LbQp+CUgIIwjyCG0Hfgc1CGsFAAalA/wCLQJLAcEAdwHH/3QA8P7d/O78A/vo+vj6hvtJ+ab6AfmP+Df49fcr+QT4Fvpo+db50PoL+3n7RP2Z/Df9tv9t/oAB6wGYATMECQPcBNUD0AV7BiQE1AeIA84FxQVTBasFnwQDBBoDGQSCAe0D2AEIAOIDnfxXApr9d/0eALj6FQAz+y76df7G+Ib6n/6z9Pb/OvLc+5D6c/I6AjXuT/3z9Rz3yvu19wj+R/Tr/Rn0Kvbz//TzRQJb/Gv38v4B9zD6Tv68/kL7hQKJ+0784v9e/ab65gNZ/FcAOQPz/B4Cb/x7AZT7ygEcAsL7YwbV+3ABBwQj+EEFZvyz/GMDgv60AOMBeP+VAFUCwwCEA3sDoANGBRQGNgUACA4HOwVfCy0HhwkJDc4IiQs2DCUKXArnC9YHTQtsC+4HPwzcBvAGfAcLA+MGEATfBG8EyQKXA+r+zf5LAWX6SAJO/HD9HP8N+qr+VPk9/Ab8gPno/Gn67Pns/Cz4FP1J+z36/f0p+rH8EwC1+b4CyPu/Ac/+VwCXAO4BwgIrAtwEtgDHAloDpAK+Ai0EjADuArP+6gUUASD+BQR0+i/+uQZz8VkOgPFLARkChe24DJjqaARL9ib7N/1N86kBpfGY/c73tviW+yv3evxo9pj77vx494MC3/TI+3kBtfSBAtT85fnfAKP+zfuD/6n/8vj8AyH7zgAOBAH+AAFPAFT7qQB0AJP/oQFjA8P8GgBG//35cwE3/cj9zQES/if/wP6d/KP9o/2m/xz/KgEeAHkBmv1YATT/5AA7BQgAmAaiA6wBZQagAP8DMgdxBA0I1gnOAzkKZQVFB6QKAwfkCoAJYQmgCkYIXwnFCoIGbAuVCN0HygoUBm8JmwVfBiQE1QbJAo8DpgXi/ScFo/6l/ZUDwfplAWL8Uf3n/vD56/8k+e759/409+/9iABX96EEM/bF/GD6s/kuAX/4ngCIAI7y7ASi+Gf6GwTY957/T/3x/Dj8dP9f+5b51f+G9tEBbP1a+34Bo/kA/0L2e/2r+qv6WgNZ+dH9yfkO+732Qv2F/i38gQPs/Gr5lwK19If+ngGC+BkGOwD/+zgE6/tC+/UF2fyeA18GbPumAqsDRP17BgcDlf1zBq//x//CBhcCQgFqBG8AiP2fB1H6QAZyA1v+eQb9/i3+DQPp/TMBhQKp/WMD9PvHBYT9nAGiAoP8DgHjAbz+HgImBt77EQeA/jYAWwSEA+MCxAawBJkAYAfeAQcDtQkCA60HBQvqAD4LdwNsBAgK7QCODEwCNgcFCYv+jQlBBTj+IwqtAOz+CAp9+rYIHfvFAjIAefsbBIv7fwBt/Aj+SPqR/f35bPlqAaP2hvtE/YTzlf9I9zD6hfev/Dv1ufuT+i33Ev4h9rX85PP9/kTzpvrS/1zzFgML+in6jvrr/WX1hv0mAfz32AJN/TT3UwMI9XIACvxb/u0AmP22/xT4lwD59+4EqvfDB63/1ftxBMz9ivo6BED96//QBcj9lgSq/uj/vAKkAFIB2/+NAdwBjQE0B2f6xAkL+p4BvgSL++cG0gUe/AsKi/ul/awEfP7YAuEEcQQ2/okGuP3FAEYDvwDGA/YGbAHvA9MDmf+ZAEsDgQO8ANkI0AD2AW8HPPuQBI4CzgC+BOkDhwJk/nAGkPwoAdAFafzXA1YJh/Q7DZL8EvawEFbvuAfdApT3dAU1AUj4cAXH/Br6SwRs/cj7AwRM/2v34gpr9f/9nwlI8JoLL/u3+QsLRPM7BTD92vvg//L9qP4M/pMBnPhaA0D4T/3DAIL2NAUCABX32gQ39uP7dwOG+JcA7QC5+1P/uP8x/n/6QwS1+2v8agn3+Tr+GAWb9+UBZwCH/msADALE+4wCmv0X/icFcPu5BFYERfs5CBz6nv9jAw/8vwNtAGQEZ/1nBdz+Qf64Bd3/NADfB538egQ4AqT6GQca/7//UAzq+dgJzP1IAwv/AgP9CQ724hKG+BwF1AIyANQEO/+1BzL8dwi6/4cCDgeZ/JQGRADGARQDXgNwAS4DngWA+fAJcP04AuMC5wRQ+Y4MVvhgAIcHE/evBy3+lf+0Acf/5fl1BB37pAAA/6YCePfQBQT47P7oAkf2fwXD+OwCkPo/AK773PnOAynyvwaL+Vv5xQWx9AgAxv3j90H/Wv+w9m8CYv809ToCl/+G81MKAfd3+EAIpfGIBSr7+v+G+GYHj/irAAMCQPsL+x0G5PwI/+gK9/R5AZcFzfaqCy4FHPr6COb68fyzBBYBCQGsBjsAqvuuBOL6BgKaBvz6uQsA+Ir9IQg584EKCQPR+DYKbPl6/kUE/f3HACAFcv8v/O4GxfqBAMYEDf1YA+8FGP2LAfkECPptByn/JQC/CHf7hQWMBZz7OQVsBMz98ARmB3D7Wwe+B6nzrRE9+I4AcAsw+l4F1Ade9X4M7/iDAAcEOwCT/eoFwf+Q9dQOffN3BFUCj/vG/eQF3fKnCKr7qfgOBxP1eABvALb4sPv1BWz0U/9fAXryygNM+R39x/82/OT45ACT+FD7fgE0+nX71gS29bz+/AXk7k8I8foZ+e4Cjf0x/hf8Hwi08+4HAfms/icAVwAv+xEFOv7S+ssJcPNPCj7+jvynBkj6jAPTAYb/5ADUABb/wgHwAT//lgYi/EQFS/vzAq4BK/6NCFD8TQHPBkz6hgjSAAD/RAYj/dUIwf0HA7b/PP6TBef+zAhBAvgBLgVF/B4CAwEKAO8Fu/sdCTQAzwEvAh0BcwGiAN8FBP82BN/+tP9IAigB7P6xAuD92AGr/2UBBvr3B3r5KP2qAj77HP9eADL/cv1EAKL/f/xEASb7bP3Z/6v42wIeACj75/7iAA75xQBG/UH6uADQAqb1AQnh97T6ugUb9NEIdADP/nz+vQEW9kIBmgEz/hMCFANH/uP+9QdH9LcG5fmx/yEG/f64AFr/SALn+TADZQEt/jAF8ATy++YFHf4W+v4FOP6LBqUImgGZAFMAdf6q/BcHi/7IBpUDCwG0AFD+mfy3ATYCiv+sCWL/8//JAsv3YQEHBN/+4wewA3gACgBLAWn8VQUJAbcENAUxBnf9zgMY/2v6GQdVAEQFAQQpAub8pv9c/2/+8QPoAnoAPQXS/8f8RwHY+SAEjgL8/y8EIQHw+78BfP5e+nIAJAGbANUB8wBm/E/60fvc+XQAA/7PAdv89fo4/KP2Qfqq+WsApvnm/2v6JPfx+qfzV/45+Hn4vwEP9X3/FPi++T72/fkq/cv8uP9F/N38yfn/+1L7/f5S/hsGJf8m/s0ByPsW/7MCuQEFBgYC0gC3BBD+9QCHBMwAGwRsCd4BngGmAiP9qQGeBYcCdQkJA43+pf36AGn8tQkLBg4B0Ae2+o/9lgFT/7MEiAjPAb0DcwEL/+ABiwYiBJoIqAf4AZsFzQKnA5sHmgbyCP8IHwY9Be4GlAT5BPcHhAYqBtwGsATxAkQBgASXA+oEaQU//1sEGv3h/I4ALfyvAGsAyf6Y+6n6ePr190j8L/xv/hb9TfbF+j70aPbs/DL3gAEr+gP7EvkV70r8rPZU+639wvbM+AT4cPat8y/8vvnX+AAAhPjh+TX4d/ZS+Tn/Vv37AUX8V/oyAgf2lAJT/8j9CQNo/tz77wD2+8z/+gCp/18EmAHb/BX+AAAo/ioB+wRg/xYDBgB4/Kb/Lv93A74EzgNSBAUEXP9ZAhAEXQblCckJAgoYCAgHOgdNBl8JfgsXDIEMFgrVCDAIAAhHCQgKBgx9CjsI0wZ0Aw4CxwJnA+cElAatA/IBv/1J+zr8FfxR/1EA7/1m/Jz4+fZu+P35q/13/bz+aPte9/r4cfcp/K7++v8/AjD9WPtg/Hz8gAFtBawG7wPZAxwDjQFPBcoI3AlnCtwJIQgEBZ8E2gREBUgIQQl1BokCTP+u+6L8tfyTAKD/Afx7+F30EvTS9br1Hfiw9iv1B/ao8qvwQPNP8B719vhG9df4pPLi8Mjx5vee9Rz/0PzQ9XD2rfMX8mX66/1Q/p4BPPvG9qb1TPUx+3oAPwKBAh7/I/hA+Kv4S/1MBf0EjQRcAGv89PsX/skCbgZ4CgQKTwgkB/0B7gQ0B4kOzhFWEoQQVAt+CU8LGw74EkwU/BEsEI8LhQoSC24LlQ08DnEM+QkOBm8CcwGjAV0CIgQIAtj+w/qa+FD3kPn1+vj6f/q4+Cn3z/bU9y74AvrV+l764vp7+qb5O/pj+579Gv8NAB4A2P6f/oP/VwAZAWgCAwI9AjQCFwL2AcgBIAKmAqYEqwUABeYDEwJGAxUFpwYwCCoInQfKBQIFkgTXBRsGBQZrBZYEcgPaAUEANAC6/0z+Mf7K+0n7g/of+D34afcs9gT1VvTY8pnykfM28hbzxvM08jfzLfL18k3zI/Ns9BD0F/es9qT1U/eH9+T4mvvP+SP6nflH+c76V/wC/0v9zvya+2r7H/3f/LD9rf2j/bH+JPy8/NP9lv5nAJMBIwMvAoEDTwZ7BhgI+QfeCJYLqA6fEBoRYxAgEaIRMBLQFNUVyxOtEh8S0BH5EdkRjg+YDeAN+QsACn0IewbCBHkDJAIKAkQA3/wv+7r6SPoN+qP5UPcK90D2YvVu9vn2jfa/9jT3TPdo+Uj45/jD+lL7Nf1F/jj+BP/8/9sAkgLXAyQElgQMBKkDoQS7BJsFOQbdBR4FMAVlBVcHbQdjBroFmARqBt4GhQfmB8gGrgYfBnYFCgf5BrcERANrAv8BQgH6/wj/of5R/aH7P/pF+QD48Pb49Rn27vS28y3ylfDI8Y7y1fFc8zjy0fEO8UHwN/Gi84j1cPWi9Sf1JfNl84j1gfcl+g/4EviJ9jf2XviV+CL5dvrF+l/50fn0+PL4PPmO+sn8Pv7U/FD7x/pk/HIAfQP3Bx8LdwjGA5MDDgkREYwWphbBFJUSNBG/En8WHRppG1IYQBXyE64TBROQEWMQShGGELcLcQdvBNYCBAMWA6YChgFb/Jf3OvYE9974pfho9pT09PPQ8i7zn/Ri9b32S/b49Z/2rvbL9/347fpj/cT+Ev6Y/W3+HgCqAokEsQULBt0F5AXRBtAH9AipCPkH9AaxBxcH8wXHBZ8H6gkkB5IEYgLTAzcGPgbiBa8F5AOXAqYC6AIUBtQE+AE5AUQA8f/q/k/9rf0b/oH8o/l49/L2SfZy9XH0ZfWa81zwZO+S7+3wyPGu7xLvTPBp8PPwBvLB85Hz8fIy8rbzRvXr9sT26vee+IP3vPc991r4TPrb+o76APtI+g75lfrT+wL9of7Z/X39z/6L/gv/LgAkAW4DsQUWCs4M7glhBqoHwQ8EF68Zdxd6E50RIhPnFVsbCB4rG9wVJRI3FFMWaBWoE1ARxQ9uDWgJ2QWLBHMEZwP4AZsAnP05+ND1Y/Yt+eP5Dvd38zPxVvHW8rX0iPWv9er0bPSq9HD2bvh6+Y765fu9/fj99P1Z/kYAnAMeBVEFrAQOBCgENAWlBgcICQhjBvcE8gRTBYwFkgTiA54FEQe2A/4Ar/+ZAgwHbQdUBn8D1ACpAEgCtAVlCFQGXQIgAMkApAIiAgcB8wA9//b9A/sg+aH5CvnJ9373xvaL9AfxQ+8L8U/zePKZ8K3uYe7T7rvvv/Fx8kPym/B378zw3/K39IX14fRc9Sn1KvbG9kz3lvkB+SL5oPhC+Cv6cPt//Wn9h/zd/K395/5vADkB5gJGBQQKkg6ODM0HyAbyDaMXURzpGnQW5xI+E+gWEB2dIM8dVhcSEnkSuhYuFzQUgBDtDSkMwwieBUgDNQOTAXb/u/0o+4b23fLs8hL2T/j79H/wfO217Wvw7vKl8+Hyt/EZ8UPyE/Uw+GL5tfnF+oX8VP7n/iz/lQCeA8wFYwYOBnQFiQbSB28J5AogCkYIBwa2BScH4QfKBpQE6gKmAlkE9wLt/zf/EwBuA44FkwMLAYr/Kf8cAgsFAweMBYYB2v4YALgCDQPeAXIA9f7n/Ur8GvrL+Zb51/jU9032UvQ88WHv3vF7877yFfAV7e3rh+2s71/xZfFR8GXuS+6t8BrzNPVG9S/0oPPe8xv0hPbO98H4vfiB94L4//iL+d362vu+/E78pPw5/Vn+CgCjAXUEjwgvDnQNHQnDBcoKLxVRHO8cixjOFKET+RYXHT4igCLTHIkV5ROrFx0aWxiGFE4ROw/rC6IISwaYBsoFNwM7AIr9d/n99GH0Ffes+T33F/If7t3tnvAX9Jf1zfQN87nx5/Er9AT4Nvpw+sz6ufuG/bz+cP/IAb4EsAYvB+YFDwW8BX4HvgkqC+8K/AhzBnQFpQatBw4HMgU7A94B+ADm/zD/a/++/iP9Tv5T/bz8+fwQBLQLkAUL/0z3DP6QDMYSsxGmCYP/u/1NAV4ILBA9Ch7/g/cE+CH9pf3B+ub3ZfXB8+Htguo37KjtLe/87nnsMOtW5UfltutL8f7yKe2m6I/ps+308Tz0gPTt847ysPFo9HP2bff198b4PPuK+u/4Pfi5+5X/FgGVADUBlQOmCkAQRQ6mCR8IoxC4G9Ag2x5HGpcWzhfzHXoloijHItAZ3RSKF5Idsx3wGLISBA+cDeYKNQj1BQ4E3AEy/7r8LvoW9Xvxl/Id9m72o/H16/rpvezZ8Dnz4/I28Lftl+5Y8V71gvi4+Bb41/g++8r96v7o/xcCxATgBg4HsAbaBm4IogprDNYMcAtDCegHCwj9CfgK+AjfBVwDfAIrAuwC6ALHACb+E/zZ/MD+JgHUAEYA2P7M/db+sQDeA9gEeQMuAQ0AXACnAWgCHgK2ANr+0Pxa+1/7ifu6+lv5evcC9Zvyt/Ey8ujywPJ08N/tCO0r7b/uDfDc77fvEu+27unuWvDR8e7xLPOi8hTzNfME84n06vUq+CH47PeM9av1tfdb+Sn83fzo/GX74vo7/fYBsgYJDeoO6QgPA/wDpxAVHXEguhsBFU0SKhWQG+UisSVBIJUXcBI3FcAaOxvpF/ISIRD3DCwIwQXKBfkGtwQNAPv7vfjC9BL0o/aj+bD4IvIK7TPsX+9R8/X03vOW8UjwyvAN80v2hfk9+oD5yfnT+5r9+/5WAXEETgf+B78G1wU4B+MJeAx7DbUMYQtSCaAIOQoEDIkLdAgYBbYDlgSbBSQEuAJjAX4BBAP4A50CrgHOADsAOAJGAzEEJASMAtwB9QJyA2ED/QGXAET/F/4C/bv7aPv++uH5KvhL9in18fIe8hXyJ/Ku8a7v7u1+7ZHuce+B8K/w/e/07rTuze/78TLzjvKH8uDxy/ID9Gn1kfYM94b2ovVi93/4B/s5+pv5v/r+/OL/TACIAFEAlwIMB/kO8hILDQkGuQYIFAAhcCMkHTIWYBQhF0Qe8iSVJpsgNRc6E3QXLR2IHDcXAhJzEEcOZgl/BRgFYQasBEEA0/sA+G7zevIe9Y34J/e374/p9+hv7bTxVfLY70ztv+yZ7Tnw5PPc9mb3fvY498D5DPxE/QL/ZAJXBYMFJgRpA8UFXwlMDNYMXQtoCdQH/Af7Cf0LNwvqB2wEYQOiBWIHlgS3AWAA+AGuBJIE+AFCAWQA0AAAA34EjgUhA63/pv5PAL0BKgHn/lf+f/2c+5j5afgH+b34tPby9O7yavGj73zvYfFw8fHu3+vs6nvs0e7j78/v2O1h7NDrIe608UXyXvJ38cHw8fCi8hH16faM99D1Tfa691n5vftq+wf75/uG/cr/gwAGAKYAewNzB3YMEhLIEOMJxQVgDGEaGyJbHyYYkxRzFXkaiiCZI5UhHxqxExUTlRdgG2QYvxICD0gNewqTBQsDCgRUBAABwvvJ97v0n/KK86X2mfdC84LsdOlq7DzxF/Ts8p/vye1T7sPwp/NS9sP3g/fO93P56fuP/Vf++gAHBPgFBQYCBZcFSwhuCyMNuAy6CmoJFwnlCWoLFwwPCtMGHAXaBkIIOQbRA3cDSAVmB/gFjAMCAxUCXgOuBL8FgQXHAqn/XAD8Al0ElwJa/439pvyy+z/64fl1+cP36PUA9Rn0afN+8ejw0fF38TrvEe2W7PftJu/N783vW+9E7t3t3O6T8EDzYfOZ8ovxJPG/8TvzQPZ9+Nr5xfdn9YT2BfkH/aD97vya/e/9lv4j/8oB0QQPCBMKSg9tEewM6QYoCOkVfiJtI/Aa1hP9E2AZsB/pJDgl0h4dFc8QGhbWHYweZBg/EewOqw0aCrQGiQa8B4MF6P92+h34tPVr9bj3afpN+MXwb+rV6STvOfUo9kryUe4n7W/vwPL+9WH4XPiR9gP26fjW/Mn+7//IAQEEIwV8BC0EHwYHCRsLdQt/CkMJQgiaCB4KuQsOCzkIIAXmA3oEzwQKBIkC+ABEAdAAEQC6AIcCSgcPCEcEjADs/n0D/gqhDmENhwerAHr+kwFwBkAIWgMk/A73oPUi9+73Svex9OjwZO2j6vjpm+pi60Dsxeto6nfnTuUn5vXoFOxK7d/rw+kN6XHqWu4Z8lHzE/Ls79bvb/Ku9Nv3d/k/+j36p/jw+Sj9eABAAa0AcgDoAkkGrwycFAIUfgsgBcUMrB1hJkEiqxnwFfYX2xs5IXImWSWwHMkTkRKTGYMdgxkdEi0OEA6GCzwG1gISA4YDBwFZ/En5A/b28bTwzPMk92f1L+/R6ZrpDe6Q8m7zyvAf7vzt7O868jL1Lvhw+Jn3cvhN+wj+fv6o/nUBcQQzBhAGigWjBp4I1wrlC6wLvAqfCbIINgm8CjoLggmGBlwFtQc5CN8FxQKSArgFywd7BvQDzQIPAwoECAXpBi8H3gOB/6P+hgEiBKICgv6U+0f7L/v9+Zr4qPdf9nz0sfIG8jPxCPAQ72bvdPD173Luauy77IjuP/Dz8BzwDu827+3wGvPc84TzyfJm8hTzm/S59gb38/Vt9b736Po4/Hf7Lvoj+mP7p/0pANMBkwEG/77+OgLbB2AMoA8TEcYN4QdsBogPfxz/IeAcOhYlFPIV/RiUHbkh5CAkGr0SaxFNFcsYvxfUEygQfQ2iCsIGJAQZBEcEgQJx/iz77/j29qv1X/aQ9+v2bPO07mHsy+1f8XfzVvMn8tjxNvKx8on08/dE+kz63Pkf+6P9iv+BAEUC4wT5BmgHNAcOB2gH/Af8CGIKXQvFCuQIlAdrB1gICAq0CgoJrQUhAy8EHQhBCiIJBgeLBIoDOATkBY4HbwewBHMBl//Z/8EAHAAz/kz8ivrG+IT2lvQV9PzzhPMX8lXwnu5T7X7s4Oxs7tPuKe3/6tzquexJ7/PwjPDL79jvHvB98L3xv/N49br1P/Vn9R/2nPan9tD3Qfor/K38z/u4+nX7Gv1R/5EBJwP+AuQAiv94APQDkQg8Dh8SXRBHCXwE8gmkFsgfNR+8GUAV/RKdExcYMx/lIpUeSBbfEU8UchdEF1oU3xEfEGENxgngBikF2QM0AqsAr/9w/TH5o/SZ8qXzFvbY9hL0ru8g7cXtD/DC8ZTyh/Ic8kDxufF89J331fhc+O/4Rft5/Xz+Qf82AEgCiQRABq8H6AcMB1IG4wZnCNgJ2gnXCHoHLwb1BYYGnAZGBXIDNgLUAHoAwQCrAFUA5gBuA/YGNwgJBkECYADuAkgIcQyfDK0IHANE/4f+ogDJAl0Cnf6U+aT1EPSN863yaPFl8KHv6u0a66boCOjF6HPqJuzj7H3rVukG6G7pDO1V8GjxjvBx7zbvO/AI8vD07vav99/33feV+I35A/uJ/Dn91f3C/isA9QB0AM7/MwEyBaoJKw6JENcP6gpwBiAKRxXXHlMgwxuRF80VXxXrF04dkyGPH/kYMBQGFLIVbhVqE9ARbhAoDq8KJAfKA6QAkP5+/tT+1/0f+/v2mvPI8erye/UF9nTz9++V7lDv4vBr8hf0e/We9Ur1C/YP+F/5Q/mb+dX7qv7QAEUCAAN9A1YE8wXuB/wIuAgUCPEHjQiCCYMK4Ap9CkUJQAgUCIkHCQYSBEADQQQGBWwEjAIFAW4BNwOfBJ8ETwPrAbkBUwJsA0kEHQSbAn8AU/8uAOgAw/8+/Sb7dvr7+QH56veE9g31RPNz8vHyD/Mp8pnwlu/h72vwhfAc8DbwXfGd8qryIPIB8vPyM/Tu9Jv1jfZK9+f2FvYL9mv3M/gW+N/3afgD+bT4SPhp+Db5sfnh+fX6h/wW/Wn8wvut/Cn/1AIMB6wJEgnzBaoEFQlAEB0VDxaAFV8VEBXgFLMWGxrLG0cawRdsF9QYGBlEFy4U6BHnEG4Qdg9uDTkKbAYLAz4B0gA0ACn/5vxx+Zz2wfVA9vX1n/SI80bzhPOT857z/PMg9KvzLfQm9lH4cfk6+Sb5GPp++0/9af8ZAawB4wFvAlgDGQSmBHoFPgZdBioGSwaaBmoGqwU7BQAFOgRYAyUD7QNzBPgD0AIKAv0B5gLKAwoE6QO2A7gDZwNIA5MDVASCBKsDaAJaAd8ABADU/gz+hP3m/CD8Hfs7+mT5Gvhk9wz3T/ar9Qb1yfSL9Nr0Z/Wb9Xv1pvVs9uX2HPcy91f3lPfH9xT43vi1+SP6Avpi+eT4Hflf+WL5Dvm7+OD40/iC+NT31Pcf+Cj4WPi/+Bv55/iY+Bv5YPqs+1j9zf5VAIkCMwSYBAoEWgWJCU4OMhEEErQSmxPyEz8U3BU8GA0ZDBgYF3AXcRgQGCsW8BM5Eo0QEQ/TDUUMyQm0BvED9AGBAJn/of4s/Uv7fvlh+Hj3APaS9Cb0tfQR9T31cPWp9Y71FvVG9WP2y/eT+Lb42fhS+Sf6kfs5/cT+dv9t/5X/AgDHAJYBDgJdAssCgQN+BPsEzQQSBGkDIQPxAqYCcwIKAiICxQJaAy4DHAJ1Ad4BwAIfA5UD+gPtAzcDnwKoAhwDVgMJA8kCsQI2Ah0B1/+m/gX+vf24/Yb9sfwg/F/7V/rj+cL55/nE+Un5yPjy+Bv5A/nK+Az5ZPkM+ZX4jfj9+B35qfgq+CX4CfjA93H33Paf9n72d/Z59k32B/bH9Sb2rvbE9qX2KPb19Vr2u/b/9p/3T/jy+HX54fl7+l379vvL/CT++v/7AQEE8QXgBl4HcgipCjMN1A4SEGIRzBLNE9gTTxSEFV4WfBbwFWoV3RTfE/gSDxLYEKIPXQ75DFgLtQkACC8GMwRxAjkBgQBa/+D95vw0/Iv7iPq1+XH5YvkO+bT4jfh0+Dn43/f592X4wfjT+C/5o/kE+jb6kPrx+lj7svs2/AD9qf3y/T7+if6d/s/+T/+6//z/IABPAFMAMADb/6n/3f9pAFIB8AH2AY0BkwFFApwDaAR6BIkEZAQ4BDMEqgQ5BVUF/QTCBMAEOQU5Ba4E9AO6AtwBYwEmASEBQAHOAL//2v6A/jz+Af6C/c788vsf+3/68vnJ+Yn54PhN+Jn3/faN9kL24vV/9Sn1D/Vp9an14PX+9QD2KvaR9vn2lPcA+MH4ofk7+or67/q/+1P8dPyX/Bb9Fv3Z/Av98v2N/sD+m/5Z/m/+x/4a/8f/ZABfAdIC8QN6BJsEcgUtBwoJWgpPCyIMswz3DHsNnQ6vDz4QUBA3EIAQexBHEKkPgg5RDVkMfgvMCjIKegkKCVYICge0BdoEDAQUA+cB1ADd/xj/of4F/nD9sfzT+3P7Nfur+k/6mPnG+GX4mPgM+V35evkv+dX4xvjn+Pr4IPkg+Uf58vmt+n77SPzO/Fj91f3r/RX+Nv4+/l/+qP49/x4AngBsAY4CYwM9A8cCAgNYA+8DywSbBRkGXwYvBg4GHwYsBmoGXQYFBt8F1wV9BfIEZgQZBK0DCQNOAmMBgwDF/+f+Xf7V/er82Pu8+tT5K/ng+IL47PdO99j2lPYO9rj1ffWV9bH1ffVR9T/1nvX+9T72T/Zd9qP29vZi9+j3OfhA+GX4A/l6+QT6cvrS+qz7K/zW/Dn9dP1w/R39T/08/hj/ff/O/7r/gf9l/6b/1/8TAHQA6AAhASQBRwGCAdoBDAJbAvkCuAO+BJAFKgY3BiYGwgZCCMsJugqAC/ILJAxFDBUMTgyxDHoM+QuwC7ALyAtqC5kKtQmgCM0H7gYoBuQFXAWfBGwDSgK7AUAB3QBtANn/Of/E/i3+yP2g/YL9nv2c/TD9dvwB/Mr7zfvr+xX8NPx0/Nv82/yt/Gb8h/zD/Fj9W/7n/iP/Of9t/8X/SgDMACgBfgGGAZYBuwHgAQYCTAK8Ap0CMgLuAdwB+AGhARsBdgCr/3D/kf+D/yH/kP4k/tX9d/0E/Xz8sPss+6/6iPqv+qL6UfoC+vv5C/qo+YL5vPmC+WT5Tvl++e75+/kT+nb6zvr++jr7cPuq+wH8w/yE/en94P3X/c79KP6b/vv+Bv/E/kP+Lf5x/of+/f4h/w//Ef/U/rz+5/5K/9L/BABpAL8A7QDCAccCnAOFBE8F1QUfBk8GKwd5CHoJ0QkjCnYKrQqiCpMKZQoLCqYJlgmJCSYJwQheCCwIrQfcBhIGcAWjBMEDRAPJAv8BXwEQAcMAXAAEAJH/AP9b/u39u/1s/fz8ePwt/C/8Q/xe/Ez8/fu1+zr7IftL+1r7ZfuW+8b7Lfxr/Nv8B/3o/N382fwU/WP97/1x/s/+Zf9IANcARAGeAfQBUALJAvECYQMdBFsEZARmBIcEvgRqBAME1wPXA2cDxwIvAqkBKgFkABMA6/+K/wj/cf7g/SX9tfxg/OX7Y/v++rj6cPoE+kf5IPny+KX4VvgL+Cr4KPhN+KX42fjn+Pr4c/nL+Sn6l/rr+gn7PvvI+2b8Lv2r/e/9EP7B/Y/92f0t/uH+g//k/x4A7//M/33/kf9PAMkAJgFHARYB7QDkAPUAaAGWAXkBbAFHAUABPgEdATkBhAG/AesBxAFdAfoAAAEFAVoBCgK8AksDqwMOBEEEhwQjBc4FxgaxBx8IXAiPCLYI2Qj8CDMJlgkNCmIKYgoEClIJYQiiB3gHLweEBuIFHgVdBMoDHANmArkBAwEyAJf/GP+f/hn+e/3d/CD8n/so+9X6k/oh+r75jfmL+W/53vh5+CP4M/g9+BT4Jfhs+I34yPhD+XX5bPlH+TP5Jvlf+Yn5y/k7+nT6C/tS+3D7rPvp+zr8P/xO/Ff8tfw5/bv9W/4h/2n/oP+x/87/HgC/ACYBNQFaAXABvQHlAVsCwgL1AlgDSwPUApACUAJOAoUCwgIAA8ICxQKkAisC/QHyAdoBvwHgAf0BDALRAW4BRwGnAfgB7gHIAdwB2AHGAbcBzQEeAj8CaAK6Ag0DFAMjA00DXANcA7QDCgQFBCAEZgRbBPoD5APrAwUEQQSABOcEGAUnBfIEwgRvBC8EOgQSBOkDsgOEA0gDMgMyAzADGgPNAnYCEQKRATUB+ACVAPr/pv9//0H/7v6u/mT+PP4D/or9M/2k/Aj82PsB/BH8KfzP+0373fpP+vf5wPnU+dr5tfmJ+aP5nfmf+SP6V/pR+lP6Rvpl+qL6hvrv+pH7CPxx/K386PzO/OT8Jf1R/XT91/0i/m3+rv6Y/sD+y/7j/in/hv+8/8f/tP/Q/yMAYgDBABkBPAFEAYQBDAIGAgECMgJdAt0CbAOlA6cDngNnA3IDqwPZA/QDwQNwA1EDHAMnA1YDcANCA9sCqgKvAo4CmwIUA1wDUwMuA4wDyAPXA+QD7wO9A1MDlwPgAy0EdwRzBDoEIgT/A9UDzAOPA4oDfQNwAw8DlwIrAvYBwgFaAbwAYAApAOT/Zf/N/ov+df4+/tH9hv0J/a/8gfwX/L/7lPuN+4D7rPv2++P7mvs6+/763frQ+uv66Pro+hT7Uvt7+3P7avuW+9P7BvwB/P/7Bvzj+/L7Cvw9/HH8gfy4/Pf8SP2j/b39zP3i/ST+Tv6o/tz+4f4W/xz/Jf8w/4j/3f/O/7j/yv/m/8r/MP/E/uX+RP9t/0T/5/7S/iH/dP+x/3T/NP8A//3+Kf8w/3v/jP/g//r/AgAlAEQAZwCmACgBTwEZAfMAMQF7AacB9gFgAuMCQAOEA8MD+gMBBMMDwQOtA6kDDgSABKEEpgTRBNoE/QThBJYEZAQ6BNUDpwPtAxIEPgRfBBcE1wNuAwIDkgJKAgoClgEqAe8A0ACFABMA8//B/4b/cv+V/0j/7v51/gj+4P0M/iv+Iv7//fb9F/5Z/mj+PP4o/uD9e/1j/U39Rv0l/fP80vzq/Av99fzf/NT8cfz7+6H7kfu1+8374/ve+yT8P/xT/Ej8Lfyv/IL97/2t/Uv9Qv2r/Uf+t/7u/m3/tP/g/1UA5gAUAUIBtwEDAmQCgQJxAngCrQILA24DfQNcAzUDHwM1AxYD4wIWA/UCgQKJAscC0AJ4Av0BrgHCARUCYAJTAoMCaAI/AroCGgNcA1MDSwMfAy4D0QM6BJgEkgR8BHoEggS5BMkEwgSfBE4E2QOIA84D7QPTA3kD5gKOAoECcQJIAgwCWAHMALgAhQAeAN3/dP+d/h3+/f39/RL+vf01/f78uvx4/Hb8jvyS/GD8HvzY+5z7ZfuC+x78Q/wv/PD7CPxi/JT8fPzn+z774vpS+8T73Pu7+4L7CfsO+zX7rPvj++X7yPve+xH8ovxe/bv9tv0j/bP85Px3/Uz+NP+B/xb/Ov6T/ZH9c/77/ur+V/46/lL+Tv5z/pD+7P4W/wD/vP5X/n7+0v4y/1H/r/9vALoAqQBXAFMAugBJAYsB1QGOAtsCqgKmAskC0ALsAhIDoANoBCMF1QX8BT4GrAZBB74H3QcLCFYIuwgKCVsJeglZCVsJVAkvCeAIFAiQByIHxAYWBuUE7wM9A6QC/wG3ATEBRABt/5T+cv2J/Bz85ftY+wD7NvrE+Sb5ZfgH+Pz3B/gU+OH3ZPci95j2n/b99nb3m/fJ90L4tvj0+JH4O/hC+Fr4Evkx+V/56vnB+kf7v/oh+m/5wvli+rD7QP0O/rT9Zvxz+8L73fys/kEAMwFfAc4A/v+R/7//fQCuAVcCUAI6AnECuAKbAi0CVwLCAgkD6AK8AsUCegIyAk4CwgJ9A1IExARUBH0DGAM3A/wD8AQvBkwHOAf1BbkE/QSsBr8I+QlaCmAK3wntCI0IjwiTCNEI6QjyCMoITQhrB00GMgW+BJAEkATcA5sCoQFkADL/yP1e/a394v29/Uv9h/xU++H5Dvk8+Qb6kPrD+vj6uPpp+jD6+fnn+UH6R/uo/MH9mP65/oL+o/4L/wQAOQFtAj4EwwWPBmEGjgU5BaIFvQYdCK4JYgqACVcHFQXDA+kDwAQPBUEEYAIgAC3+Xv0E/bz8Pfzr+kH5kvck9rP01/OE80vzj/OG80jzMPOk8jPxU/Au8EfxrfO29dr2APbg88DyUfPA9FP32Pmh+/T7a/pC+G33Z/jZ+iv+6gApAvUAj/0W+8r77v64AtwEEwU3AwcB4f4S/sP/hwKYBD8FQwTfAnwCCQNdBI4FBgeTCEcJown1CTQKrQq5C/EMIA53Dk4OsA3ADH4M1gzIDQ4OKA2/C0YK1wi4B+MG7QVIBRcEaALqAMz/wP7c/fH8EfxY+5v6y/m7+An4gfcn9x73afeb94f3EfeR9mr2ufaH92n4+Pgo+ST5//gb+bH5+vqo/KX9Iv4o/hv+fP4E/8P/rwAmAWgBhgF3AXABwgH7AQwCBgLUAuQDwAS7BDIDwgFEAZsC2ARNBmMGhQVkBCIEjQR/BR0GjAVJBHADSwOKAyMDvQF0AIb/0v5f/sr9a/zz+nf5IfiC9iD1MfRe80vzZfPD8n7xE/Dv7mzvUfBH8VbxGPBk757uIu+48PvxN/PX81b0dfQx9IX0v/Ui9/73XPj6+D/6/Pr++ir7yvsa/d79JP5o/sL+8P7J/r7+wP5y/90ASQHDAHYAkwCvAMUAhQAyAEgAyQBWAZgBGwHbAFkCqwXTCAoJewY6BOIFpgpTD1ESEhOOEQgPaA5eEWYW5hnMGY0XHxVEFNkUghW7FR0VExSYEg8Rhg8DDpcMYQuTCp4KZQq2CK8F4wKuAWgCwQN3BOADIAKtAAYAwwBvAvgDmwQkBMEDUATVBaIHTAm4CroMrA4TD8AOdg+nEjMXvRoHHH8byxqmGykeCSGXI34kOSPLIC8fWx92IGAgIx58G6AZJBjjFdwSxQ8SDbwKQAjFBU0DGAA9/Gr5svic+P/2pfNn8HDuOe647gPvj+527fXr6uq36hXr6us+7H7so+wi7WTtZex966/rxuzg7mfwzvBi8IDvke577s/vxvEy8+Dz7fOR8+Tz8vSE9kX5Rf4NAxoDR/5V+tP96wY4DuYPQw43C9QHmgbjCSwQXBSgEmAMQwduBo8I2Am0CF8GDgRfAeL9q/pb+fT4qPdP9QH0+fJP8GXscul06a3rPe0L7NDoAuZA5UjmTOh+6vjr6OuU6kvqXeyJ7yTycPND9HT1HPde+LX5Gfvq/DD/6ADwAVMCeAK+An0D/QTnBsAH1QbPBOgCZgL3AqADdANiAr8APf8B/o/9cv1E/V785Pq8+Qf5iviz9073GPhX+vv7Pvu/+IH33PkX/lIBcwJMAkkBFgGQAugFuwm0C4QLqwq/CtMLywz5DLgMAA1/DbgMrwrRCIMHtAbQBSAFmwQ/Aov+ZfvE+az5MfmZ9zv1qvIv8ejwoPDa7y/ve+6b7ZjsPuza7DTt6+z/7H7tKu5Y7nDuJu8w8M7wgvGo8qDztvN/86r09va/+Bn5ivh0+BD5bPmb+Z35RvrZ+k/6M/lb+cf65vwJAXgFOQXw/rP5Yv5wCrETjBSWEDMNjAx/D88VyBwPIEUdURfSFC0Y2B0BIL0cYhjmFj0W9xNeER4R5BG/EOsN5Ar1BzEE7QBaAN4BcQIPADP7PPY79WH4Rfue+pD3GvXM8yrz7fOq9qL4n/ee9bH1sffR+QD75fvz/BD+Fv97/3//kADuApsFEwdZBxUHXQbQBXAGwwikChMKgwccBcIE5gUkBy0H1QWyA4ABYgC6/5X/Ef88/nf9ovwn/LD7L/vm+hT71ftO/CD8GP22AOUJaAtFBNH7kPwWC9IWPhgVEZ8HJAIxBPAJQBJfE7MJKv2R9oH6NAI0Ajf7I/O57zzvoewk6sTqP+tY6UrmdOTp5Pjil+Hz48vo2Oro5nrhRuFr5t/tv/Gw71rs4epL7CvwCPVd+cD56vWN89n10Pqc/QD9S/ue+iz7pPxv/rr/agG1BFMKXA2aCEQBiQEaDdgaSCB/HGgV4xAsEhoZDCIGKO8l6xxUFWwViBwmIpsg2hogFgUTew9TDDQMsg3WDAcJGQTm/7z8vPpQ+639Ov6r+unze+7D7lD0K/mG+Lbz/O637VDvkPJq9jP4lvZh84zy9/RP+JP6z/vQ/AX+wP4g/s79gf/FAloFvwWsBDkDawIUA2AF3welCLsGqQM0Ag0D9wSxBTYEygECAG3/P/8N/1H/a/+j/kD9HPwi/Dr8F/yd/Fn+PwDu/rX7cvqr/ckC9QViBdUDMgMoBF8GmggoC/sLaQp3CLsI2QqqDF4MCQtnCtgJvAceBXIDkwM3AzUBd/61+3X5hfcA9qD1D/Uf82Dwou3T7FXteu1u7A/rDesS7Dfs2evo6z7s9OyD7dXuV/By8JDwa/LN9Pz1TfZd9m/3ZPkQ+5b7Cvz8/Cv+Xv9TANkAfgHVAZEBXQJsA5cDywJcA4wFqAmqDoYPBwkMAlcF5BLLHSofxxlMFD4T1xcKIDQnayiDI8wcHxqgHoElGijIJFkgDx5sHEoZVBeFGOIZCxdbEdULMggABgcG4QcjCE4Eaf2o9+D1Xvhp/Hr8Sve08SXwv/G082311fZW9l7z7/C/8Sv0HfZD99b38/e191n3mfdJ+Xb8m/4X/sj7WvoS+/n81v42AKYAP//H/N777PwF/jH+9fxL+9r5MfnR+GH4Dfjz91f3VfX38mvyzfIU8/XyifKJ8SXw2u8J8XryMPM78wnzSPP283T12PY4+Tf9dQmJC3T/3/L08+oKOh0SHMENvP/y+30FAxAYGdkXpgrD+kr3jADxDGkN/QG++er3hPgn9Wjyv/aU+9j3VfBZ6ozrIe6/8CX1uvfX87brJufx7eX58f+w+9Ty6PBY9m79ngCLAYYBLgDy/U//swSbCUwKFAg2BysJQQr2CPoI9guID1MP5AoECLUJmQxhDX4LtApTDPMMBAxVDH8PwhD2DSsMnxDoFl8YYBRrEeET1BgXG7oZ9BfgFzMYrRYnFq4XQxhjFRcRqQ/IEOAP+wvrCMoIwwiKBQkBnf4S/pP93PtB+f/2sfWU9HDzZvJb8gjyoe+c7Efsiu5171ru1O0Q7/vv+e8g8O7x6/Na9e/1Tfa195j5+Poc/Ov9LgBlAQ4BNwFCA3YF/AVyBXQFWgayBhIG3wW3BikHlAYPBRAECgS2A5AChgHqABMA2v50/bH8+fwC/fv7FPvC+2j+w/wi+WT33frd/+IAPv7W/Lv94v/lAZACgQN9A1sCXgD0AfEDQQU9A84AaQBdAYP/Cf3u+478pvyY+dj2ZfVX9Qv1jfR/85TySPA37tDtZO8o8e3wRu7P7MLtUu9Q76/tJe5E8HvxY/Fy8B/xw/Jj83H0a/UA9jT1XfRT9bL4k/rA+WX4zPgS+2D8Ovxz+xX80/sk+zD65PqU/O78o/vj+Sr4tPjQ/NsC7gfnBMf6OPQV/MMNUhg/FBIJhgPYBxISKRvFHrobOhUFECQROBiTHmAeTxlfFTkUOxI8Dp0MDQ+UEUEOwwV+/vP8zv/sAioDnP+y+D/yafDt89H42Pno9UbwAO6374ny0fPp84n0n/QP8xPy6fO+9/z6dPyS/Kf7Y/t6/FP/tgP7BkkGjANiAvkEfAn0C7ALEQoxCR0J3wnvCnMLvwuOCnsIsgYvBkAGSwYZBoMFJgTwAeb/l/8+AQYCEAEG/1D+6v6q/s79RP2x/swAYQHK/8/+ov/pARwDEgMjA1wDaAKyAU0DngUFBvkEiAOJAmIApgBq/mD/0wEz/un7FPit+OP5cvqp+K72rPSN85T0DfX29mH26fNk8k3zBfba9vP1nPOg8wP0TPRB9V/2kPdQ9/r1T/VH9iz4A/lk+WD6Xvqz+V74Jvne+/r9tP1r/C38Z/35/t3/QQCgALgAMADg/zMBJwJTAsIB8gFkArkBpgD+ABUE/gdzCSMIWQdYCJAKsQyeDxsTOhXHFLkTlRQ1F+0ZuRpMGUkXYRUuFCgTuBJiE0ISRQ4EChYILAg1CNEGogUMBE0Bof4F/kT/dgDk/6v9BvyE+0z8Tf0Q/jr+2f2D/Dz7Pvt//OL9Ov6E/b78x/z3/Gn9EP4A/4P/Pf+3/g3/wwCqAtMDggSUBOUEXAVSBgcImAnnCS8JUQgyCKsIEgldCekIqgcOBsAEUgRbBO8DrQKNAb//WgCGARALVwqZ/yf3qvmmDCoVUw8zAcD8Dv61B2YHWAarA7j/3/cO90r6SP1T/Yn0uPWw88/xeuus7H/zBvq18jToKOUg6rDxt/Hu717rc+g75mToyOzm8Bjw2euz6j3tcPD774nvNvIO9832qPJs8T/1z/s3/Uz8PvuR+yL8jf1RACEDHAN//9b8F/4iArAD8wLJAGgBgQBI/8T+JwLGCOcLRQkBBGYEGwv3E9MXlxYVE/wP7Q8FE4EWyRjBFxsTgg7RDTAPKBAjD/INKQyaCKoEdAPMBe0I7QjUBA0Abv0d/nv/LgE+AY3+T/pN+Lj4LvpW+6b6mPh79j/1dfRS9G316/Yz9r/zHPIq84z1oveE+PL4B/lY+P/4Fvue/cf/MACR/5P/WgASAaEBkAKpA54DtQLEAfABeQOJBDwEywKEAUIBcwHpAS8CuAIRAncB0wGLAU8BxAGTAxEFCwXeA/UCVgQ5Bt4GRgX0A0sDBwPRAX4BWgH+AIz/Hf7r/dH9Ev4z/XD9Z/2k/IP68vkW+iz7Xvqw+Nj3fPc/9832e/Yf9v71xvQH9CPzwPLz8pvyofFC8frwLPFP8fvxTPLU8hbzRPMK9Pv08PaF9//4BfnP+dn6y/x6/oECdwTZAAT/AP/xB64LWQlVAlIBtAOmB7UHBAWDBTEEhQL+/+cB2wJXBScC3wAyAOL/2f/8AOIDpgX3BKkBxgPxBSsHUwebCSgNTA5BDMUK6w16EXcT/xDXDWIOiA+UDtENWQ7nDp0ODAyYC9sM8g2cDQANCgw1C7sJOgeOB/8IwQh6BfABSAD1AKsAXf7Q/J/7ifvk+Jv3OPer+M73Mve39sj2n/Yx9iv3efgr+kP5KPko+fD70f3C/l/+vv4C/8r/HgDFAI0BEQKwAfsBegK6AhwDwAICA28ENAUOBigJzg+DD8wKCwaKChsVChjiEgcLsAjCCRkLpwh0COMGcQSg/an6yfmc+xb7Kvg69l7zRPCI7t7xk/V59mnw++po6pTtGe/I7Brrh+rx6Wboj+dU6nPswu1T63Xqz+pJ7EPtG++q8mj05/Tc86P2UvsR/y/+7f2V/XcBTAJGA4cEAAbYB0YFZgQtBKgHvAdjBusD2QXFBTMGHAWWBmQJHQgKBzYEpAX/BugKxwodCRkGOAe/Cs8OBxAoDeQKnQnuC94LWQycC+cLiAp7CIkHTAe9CF8JCwrQBxQGQQQYBSsHXQlGCBoFswJvAhYDiAO8AhYBcv8q/Uj9If32/Sb+lf3k+sv5yvi2+Fv5afoJ+0j6nPgw+Jv5tPqJ+1r7q/qX+kv7xfqD/N38nP2R/Vn83vsK/Ir9Gf7S/7f+QAPCAlD+ZwDWAiIMawrNBgsDfwXzB2wJ9AbYB7gIuAhWBOwCDAfDBS8HNAJlA28ChgGG/+wC/wNnA+f+xvsn/+IAoP8n/En7bfqs+az2A/aW9uX2bfUu8yrxivBS8bvx2PGw8c/vyO5b76XxLPO38TXxhPG88pvyyPN19HH3NPc69iX1ofYb+Uv7+fvM+pn6Yfsz/g0AKgH8/78ABwEyAw4E4QICAycDGwZYBmkF+wSeBRoIiggJCGgGXwbDBysJXAjsB98FuQZmBwcIWwdGBVoFoAXuBk8GAAbnBE8GWwfaCbII9Ab1BbgHTQvuC98JmAaBB3MJmQrgCN0HdgfRCM0HAwZfBiAHaAd5BhMFKQURBVAEjwOjBG8ECgQVAjEBrgHcAawB4gASAcUAtgCR/63/7f+kADcBVAEgAAAAFAHHAlIE+gPNAkgC5gIQBDwE6QM6BIAEKwSyA2wDdwNGA5QCVAFaAMX/g/+k/8f+3v1a/R39GP38/Jr7Rvok+R35vfgN+KL34/da+Bj46/Yf9oD2rvY19nj1cPWg9XD1K/UZ9hP3GfdU9rL2M/gb+YT4ffgd+eP5NfvR+wj8Qvuy+0T9vP4c/xr9h/zk/In+2P7X/ej8mP1K/yUAt/4Y/Vz9rP6bAIz/3/69/dL+8//xAOoA2f8P/5X/SgCp/9z+qP7kAMwAOwDD/YL+AAFOAh4CpgDJANwBewHEAaQCFgOGA5ACMQTIA3UEvwPiA5MFXgX6AzEBngHJAiYEUALZAC4BaAIYA64BxgHjAqoE1gSbBNEE9QU6B1EI1AdFB+sGSgduCHwJxglqCbYIKwpyCu0Kwgk0CqsKJAsdCzQKUQocCrALDwpxCdwGPQg6B8kH7wWLBHIDuQELAQD/qv6X/Cf8xPmt+JT2SfbX9Qr3eveh9nb1DfWX9Vj2Aff09jL3cffJ97r3BvcB9yD3/fb59qz2IPeE9r/2p/Z49+j3Fvib99j3dPgF+ff5iPob+/n5k/pw++j8Xvzl+/37uvyM/Lv7rfpe/K38E/zi+mH7bP3T/Xf9VPvy+3/86v4T/9f/TwBKACMA9v+/AZsCzgMGAlUAa/9PAM8BXQLuAZkAQgGDAHMB2QCdAsMDEgRCAz4BQAFIArMEFAaYBqMEzQJLAVYD5gUsBsEFyANhA5ACwgJwA7oFsAYiB18EFgNAA9gEMgcfBmAFHAOOAgMCrwKkAmUDPQKTAScAsf94AAsBBgKoAmEDUALPAeABagTFBV8GngXlBPIEkAWTBZcF/gVaBnMGXAUnBbAEngUTBRMF4QRBBUYF4wTEBMYEMAWiA9gC+AE4AmgB6gBpAAYAUf+n/c78FfyX/Nj7B/v9+VH6m/oQ+yj7EPtJ+677yPut+g/6sfk/+jn6Wvpg+gL6ZPmW+Qb6O/qS+RD5F/lB+fb4dPgW+Gz5V/oH+/D5Yvld+Zj5Hvqb+s763fqe+hb6VPtX/Eb9Uf3T/bD9b/5U/tT+7P4AAD8AgwDr/0wAJgGjAdEBmgHuAWQCQANYAxkE2gSrBUEF6wMjAyAEngWeBZAEoAMcAyoD+wGTASQBhgG6AI4AwwBuAYsB2wAsAbwA4gAIAOD/UwA5AVYBVQCT/1wAsgFDAkoCuQGlAesBzQK0A+YD+QSDBa0F2AR6BP4FrAabB4gFjQTMA1AEhwS2A5EDtQJlA4wChQKWAf0B4AHzANX/Pv5k/mL+o/7R/Sr9g/yj+5T7+PoS+yP6t/m++SX6bPvV+1X82vuM/G38If22/XH+Lv+o/i/+nv0a/7YAagFEAXYAiAAHAZMBrAGWAbcBSAInAhECJALCAmsCsAEUAU8BLAEWATIA2f89AJX/av6k/Pz8Of1R/ST8R/tn+sP62/qp+sH6v/rQ+gT6wPnN+dv6bPsU+zf7t/vL/Mn81PwE/UD9If0Y/cn8U/3k/R3+Pv5b/if/vP8JAeYAKgFJAQ4BbgEvAl4D3QI2AvABogK2A8oD7gI1ATUBoQFTAkgC5wFtAv0BrgGiAGMBmQLeAzEElAILAbT/mQBlARQDCgIGAD3/9v93ATwB7QCQAMQBdQEcAGT+TP8uAScCMQGg/5z/8//iAM4A4gAIAC4A0v+gADkBPgHxACgB6QE9AkIBzgAuAe4B2AEyAOD/YgCnAUABLgCt/6YArwB4AEQASgBVAKT/jv8gAHgATAD3/nr+3/66/wIAiP9g/2L/8P5S/tz9T/8wALH/Mf6y/Un+HP+I/2v/gf89/0z/Bv/O//j/NgBn/w3/Zf+O/9n/+v8pALoAGwHDAL8AYQErAjgCnAFsAU8BSwFfAeUBHgLcAWwBVgFfAWUBUgHIAaQCYQNwAxYDhAP8AwMEYwOHAhUCVgG2ACcAQQArAEoAwQDSAK0ACgDF/wQAsQB9ANAAcgAFAdkA8QD8/wAAYADm/woAOf+4//L+Yv/l/lr/BADB/w8A5v8bAQoAegC8AA4CJALtAG8A8f8oAZAA+AAZASYByQBa/y7/lf/ZAMwA7f8j/2/+h/7p/bv9I/3d/JL8YPxx/Aj8PfwG/E78n/v0+0P8Xvwq/SP9f/0H/Xn9Uv7A/i7/of4I//f+Of+V/zIA/gD+ANsAHgDr/9L/kwCvAHQAgwCkAD4BVgG/AfYBxgHoAOb/jv+8/8z/lf87/5T+9P1W/Vr9CP5k/m3+M/3m/Lr8yv2W/jL/NP8L/zv/i/4W/z3/ZABPAIUAVwC8/yMARABhAQ4B/gDYAQEC7AJ4AlYDBANcAwsDcwJdAsoBhQI1AZEBuABjAQkBwwAFAd0AuQE8AV0BHACZ/9b+iP8cAAoAKQA7/wAAyv8wADn/zf5P/wj/Df8r/oD+qv5w/1z/qv6o/qb+Yv8C/yf/CP/1/rH+4v2J/m3+4P/O/wIA2f85//r/af+iAO3/BgCc/4r/7f/E/sr/TP/v/x7/I/8W/67+Wv+q/oP/Hv+0/+L/VwDzAGkA+ACBACoBBwFhAUQB0AAhAdIA+ACMAN0A2wAmARkBeADZAMkAXwHzAIgAVQBcAIwANgAgAJ7/lf9t/3b/Sv/q/gL/8v7u/rn+m/6S/i3+Mf5b/sn+Of+X/33/nP+B//D+sf6A/oL+UP4k/gX+Jv53/kj/e/94/2f/1/8yAKn/tv90//j/DQACAGAAvwCCAV8BZQEbAeYA0gDDABQBFAEmAfgAEAFNAU0BtwGLAb8BjQGyAeUBkwGwAX4BygFzAV8BSwFCAYIBeQG7ASEBJAFcACAACgCDABAB6gAhAYEAjACbAKsA6gBYAesB2AFSARIBXQE4AtEBpwE8AXcBDgGkAN0AvAAUAYEAjgBIAFUAwQCMABQBrwADATMBHQEHAYwA1wDXAHgAIAAwAKkAfwAjABEAGgDM/4r/qf/D/9L/nP97/4j/xf/4/x4AZwBeAGQAgwCgAD8A+v/Q/0QAfQBPAHIAHgBnAOv/+P83/yz/af9e/2f/Fv+Z/5n/CADK/3L/Hv9b/i/+sP2H/uf+CP+3/pv+if7T/ZL+fP6B/9r+2P5b/p/++/4a/9L/cP99/83+Bv+m/oX+7P7c/jv/x/6s/h7/V//k/23/dv/7/sD+Mv/Q/5cAQQANAHT/SP9X/9n/OwDm/w0AEQAnAEEAOQBXAFcALgAwAAAAKwANAH0AUQAuAA0AbwBHASgBmgG/AL8AJQAcAN3/w//6/4z/3f+e/+j/Z/9P/+X+nf7H/lv+LP8I/wD/bf5M/uX+/f4IALb/2f9r/5f/g/+G/2sAcgADAXIARgA2AEoARAHoABABpgBMAEYAzP9GAOT/WgDv/z0ASgBPAJkAEwBGAGL/RP/a/g//Ef/C/gj/6v5K/1X/Rv+8/23/r/99/5z/pP9c/8f/MP/r/7z/jgCZAHIAcgDm/6kATADdAIwAogBgAFUA5gDtANAAbwCFAK8A8wCTADQA5P8VAFwA6P+k/4j/l/97/3//jv+4/6//Wv8N/yb+Sf4I/kP+L/4r/nH+zv0O/hX+2v6C/uX+Xv+I/4z/sf5P/zn/7f8aAEEA2wBnAMwARgC4ALgAYADQAFUAwwBTANcA4gBUAV8B5gB3AQ4BxAFaASQBHwEhAZEBQgF5ARsBWAF1AUQBKgHUACoBvwCBAHoArQDzAMMAewGJAfABvQEmAQ4BDgGPAecBcQJdAtoBmgFoAb0BcwGJAZMBhAGLAVYBRwEUAQMB1wDtAAsB1wDiANQAzgDXAMMA3QB2ACMAw/+B/3T/Sv+r/6v/e/9R/2X/Xv8L/8n+xP4C/wD/5/71/gv/cP9e/7r/CAA0AFEAGABnADkAUQDv//P/KQAaAEQAAADS/zf/Jf9T//3+/f6x/sD+lP6z/sT+1P40/+z+7P5f/jr+n/6x/lX/Zf99/wT/t/63/uf+o/7c/tb+3/7U/uX+Kf9a/17/AP83/1f/0v/8/63/uP8y/63/zP8EAEQA1f/8/z//af+X/8f/LP/j/jL/If8u/8D+uf5o/mj+Q/4i/rX++f5B/xb/AP8a/0H/k//b/0QAEwDF/xgAawDZAAUBAAEUAUIBXwGPAYIBUgFNATcBOQFLAbkBpwF7AWwBXQFJAVQBTQESAegANABIACsAIwDz/87/CgDV//P/8//o//H/eP+c/0r/T/9r/7j/KQATAGAA+v/x/7T/tv/+/87/rf9l/9X/IABVAEQA/v8uAD8AigB4AGAAQQAYABEACACkAMEA2wDOAM4ADgHoABABlwCxAEgAWgBtAGkAxQC8AOIAqQDXANsALAE1ASwB0gBEAOj/r/8EAAAAPwB2AH8AJwCv/8H/4P8aAPH/Z/8y/8D+s/6z/r7+Yv5D/qH+3P5V/y7/AP+x/lL+Zv5x/nz+Gf5H/oX+c/6x/tr+Xv8u/xH/6v4G/y7/T/+D/5n/7f8PAGkArQDOAKsAjAB0ACUA6P/z/0YAkwCbAFMANABkABoA9v8AAAYACgA5AJMAkACeAIMArwDfAN0AIQEzAWwBRwEhAeoAkwC4AMUAEgFYAaUBjwGlAZoB7QCQAG0AugDDAMMAIQH6ACwBJgEAASwBJAEkAaQAqQDzADwBVAFCAS4BigB9AIEAtgCZAIgAfwA9AD0A7f8yACUA/v/Q/3//q/+4//7/zP+g/6T/Fv8R/w3/Yv8w/yP/Of8W/2v/Wv+K/6L/AgBMAGQAVQAEAJUA5gDtALgAjgBnAEEApgADATMBGwHDAKkAwwC/ALQA1wC6AJUAyQC6AMMAvACOADAA1f+4/6v/pv+g/5z/ff8//wT/o/6J/pT+df4I/qn9Zf01/UT9bP2p/f/9Lf4X/q39WP1L/ZP9DP65/tr+xP6f/qz+7v4//6b/0v8EAPH//P/Q/xEA/P/v/+D/wf/V/2IAqQDFAHgARgDHAMcA+ADZAJ4AqQB2AFEACgDr/0EAZwBXAEEAYgB0AD8Ayv8y/6b+i/6S/gL/Bv8A/6r+ZP5f/ln+m/63/ov+ZP5v/qP+9f45/3//tv/Q/57/0P9VANsA8QC2AJAAQQAlAJcAHQGEAWwBYwF1AVgBVAE+ARkBngB9AIoAtgCKAHoAaQBeACAASACXAKIAdADv/5f/jP+p/wAAVQBpAGkATwArADkAKwBPAHYAlQBtAGQAfwBTAFMAngDkAN0AogB0ACUAx/+B/3b/hv+i/+L/+P/4/+D/wf/Q/9v/IwAKALH/iv+e/6D/tv+v/7z/ov+V/8r/SgCTAFUA+P+0/5X/af9l/2n/MP8A//v+Jf8y/+X+E/89/5H/gf9V/4j/iv9g/3T/vP/b/+j/6P+//9D/1f9l/0j/Bv/1/iP/hv/k/wQADwAVAAYA7f8TAC4ANAA9AFUApADvAP4A+ADvANQAigBXAH8AfwBMAEEAMgD+/+//DwBMAHoAqwC2AIgAMgBRAKsA6gDmAKsAqQDSAN0AxQCOAHgAZAAaANv/tv+M/2v/a/+m/5P/0P/K/+D/NgAlAO3/oP+2//z/VwBkAFoAAADV/93/9v9MAJMAjgAYAH3/bf9r/5z/q/+B/2n/Qf85/1r/nP+6/63/q/8IAEoAaQBGADkAcgBtAHQAAAFAAVYBJgEWASQBAwHzALoACQFWAVQBMQH+AAsBHwEqAR8BPAH4AO0A3wCmAMUAsQCZAKQASAA2AND/x//X/87/q/87/xj/MP9t/4r/pv/F/57/Yv8C//f+YP/Q/9n//v8KABEAPQBtAMkA8QD+AN0A8QDvAO0A6gCZAIgAbwBcABEAGgAnACkAQQARAPz/BgBXAMcAzABvACcAJwAKADsAgQCFAGAAIADz/8r/6P/k/5P/O//3/u7+9/4C//X+3/7n/qz+3/4h/wb/8P7c/gj/J/8y/yn/D/80/1X/YP+D/7//1/+i/yH/Lv8l/9r+6v71/hP/Kf94/4r/uP/V//r/PQD6/8P/q//V/wIAOwBBAA0A6P/K//b/AADQ/8X/uP92/zn/NP9a/6D/2f8pAHQAbQA0ABoAPwCkAN8AHwF1AY0BagFPARIBLgEmASYB6ACXAH8AcgBXACUAEQA2AHQAIwAGACUACAA2AI4A0ADfAOgAFAH4ALQAVQDO//r/RACmAMUAzADdALwAqwBBAP7/oP8n/wv/P/+M/2L/dv+g/8f/1//V/9X/zP/d//7/4P/S/7r/k/+V/0r/Vf/d/yMA7f+m/5X/iv+g/8X/uv/Z/wIAHgAlAHoAhQAuAOj/0v/X/8P/oP+t/5H/iP+x/zIAaQANAOT/4v+x/1f/cP+O/7j/OwCmAOgA2QCmAKAAgwCFAHIAhQCkALgAogDMAAcBAAHtAMcAgQBKACAAPQBKAEYAPQAuABMA2//b/xwAXgBBAOL/2f+r/6b/yv+8/93/BAAPALb/jv9//zT/8v7s/ur+wv7Y/hz/Of9G/1H/Qf8R/wb/Df8w/3D/nv/V//j/5v/x/08AGAC0/zL/N/9///b/KwBBAGAAHADO/7r/0P8EACsAYgCOAKsAlQCXAFoACgDr/8z/8/8KAPr/x//H/+3/zP+//7b/hv9//3b/Sv8a/8D+sf7f/j//nP+m/2n/LP8j/zD/P/9T/2X/iP/O/+v/8f/o/7j/rf+6/8P/uv+T/5H/nv/X/yMA+v/8/9D/iv+t/w0AGgA9AFMAUQBaAHIA0AA3ARABvwCQAFMAOwBPAJsA3wAAAR0B8QDUALwAawANALb/Zf8s/z//iP+m/7b/q/+R/6n/kf9w/0b/MP8N/x7/af+M/6D/r//O//b/2/+//5P/nv/K/8X/9v8nAG8AugDBAL8AogCQAN8AFAEqAf4A5ADZAOIADgEUAfMAxwDMALQA0gDJAJ4AogB0AEEAHAAlACsAgQC6AOIA1wB9ACkACgAcAFMAZAB0AJsAoAB9AEoAXABkAGAAdAC2AN0AgwDo/5z/vP/i/ysAbwCDAKkApAC0AAkBLAFLAV8BewFfAQsB0ACDAG8AkwCmAMwAzgDJAOQAzgBvACkAKQDk/3//N/87/3D/qf8NABMAuv97/5f/uv/r/+L/pP9l/w3/Mv+T/8r/pP+i/9L/3f/B/5X/nP90/3j/xf8aAEYABADK/+T//v8nACMA5v/d/wQAIAA7AA8ABAArAEYAYABMAFwAXgA2AA8ANAB/AJ4AfQCgAO0ALAFuAXABCwHoAKkAkACxAMUA0ACpAMcA+ADXAJcAjAA9APb/BgAKAO//rf+k/7z/kf92/4b/nv9w/1P/T/9g/5H/q//X/+D/w/+X/9f/JQDS/5P/af+D/2n/J/9c/2D/cP9l/4H/gf8u/+X+1P7w/i7/V/+V/5P/cv+B/3D/ff9c/zf/BP8P/z//Uf+0/8r/ff83/xP/4/7a/ur+Df9G/0b/dv99/zn/1P51/of+Zv5S/oL+qP7y/rH+Uv4r/hD+4P0X/j7+F/7p/cr9Bf6A/oX+TP5B/on+wP7S/sT+wP6s/sD+1P7a/g//C/8W/zv/Vf92/33/Z/90/5z/pv+O/3L/Jf8P/wD/Kf+I/7//x/+//+b/yv+c/6n/zP/Z/8f/v/+R/z3/+/4h/0H/jP+2/4z/Vf8a//f++/71/hH/Pf9l/3j/af9r/4P/BAA7ACMAEwDk/6D/k//t/4EA8QDXAOIA0ADDANcA6AAUAUIBQAFYATwBPAGJAc0B8gEkAkECgwKqAocCgQJOAgECoQGpAcgB7gH7AecB5QEGAgYCDAJFAnECRQLeAVQB/gCCAQ4CfAKMAn4CVwLjAaMBcAHPAS8ClAKMAmsCLQIZAhUCIAIgAkMCSAIcAi8CBgLgAbsB+wFBAlcCNAIDAv8B1QHaAV0CugL+AuECxQLQAp0ChQIKAuMBAQIIAggCWwKoAn4CNgLrAaEBQgHQAIwAbwCIAK8ArwBcADkAgwCmAIMAUQAyAB4Axf+c/6//nv+X/+D/zP+D/3//k//B/4j/TP8l/xH/Pf99/6T/uv/m/8H/v/+t/5f/q/+c/3j/Zf9a/yX/Lv9T/+D/iACBAAgAkf9M/yP/Av8E/zv/f/+//+v/4P+6/6b/ov9M/+f+1P7y/gL/Jf85/2f/mf+O/4b/jv9P//v+ev5J/jP+EP4m/hL+M/4g/sP97f06/lD+Pv4K/v/96/3T/e391/3O/fj9Jv4r/kX+G/7D/ZP9cP01/VH9QP0E/ej8Av0P/QL98fzD/Oj89fz3/A/9Qv0w/Vj9Vv0S/bj8lPzA/P78Rv13/Yr90/2w/Xv9nP2n/fT9//0d/hv+Tv6N/uf+xP5x/ij+R/6m/qH+kv6j/p/+wP7n/uz++/73/uz+nf5q/k7+Uv68/hP/Of85/0H/D//U/iX/XP+G/+//2f/K/7H/kf+8/w8ACAD6/0oAcgBeAHQAngCrAIEAWgBVAEEAVQB4AK0ABwE3AWEBqQGyAXMBNwFPAZgBzQH7AeMBvQGeAcgB4AH7AScCAQLTAY0BNQELATwBXQE1AeoA3wCmAOYAXQE3AQcBHwEUAUsBhgFhAU0BSwFEASoBCQE3AU0BcwHaAc8BNQGvAMwAEAEhASQBMQFYAV0BagGuAQECFwLGAUIBzgDSAAcBUgE3AQUB2wADAUABRAEhAdsApABeAFcAeABiAJcA6gAkASQBDgHiALwABwEbASEBRwE+ASQBCQHxAPEAEgEhAVIBbgEqAQsBEAHUAL8A+AAoATcBJgG/AKsApACbAOYASQFlAWUBJgEAARYB3wBrAGAAXAA/AD0AYABtAJ4AvwCTAIgAOwDD/2v/Sv9B/yH/D/9i/5n/2f8pAEoAEwDD/0T/D//3/tT++f43/6D/wf+0/8H/0P+i/23/Mv8E/+X+9/4C/1r/lf/D/+L/CgAPAP7/8f/6/yAAIAD8/7j/sf/6/0oAmwCtADAArf9y/3j/Vf89/0H/J/8a/3T/sf/g/wQAHgDz/8P/cv8c//v+yf79/pf/uP/F/7b/v/9y/+7+vv5o/v/9/f0z/oX+m/5k/h3+Af48/mT+gP6L/m/+h/7W/uf+y/6+/rH+6v4c/yP/Bv/y/tL+s/5q/nz+wP6s/nH+ZP6W/oD+VP5q/nr+b/6C/sD+9/7J/rH+of6d/oD+ZP6C/qz+7P47/0H/Sv9T/yX/AP8s/4j/v//M/6n/bf9t/9D/zP+M/2v/dv+x/wgATABrABEAuP+M/8X/WgCIAFcADQDH/3L/Pf+//z0AVwAnAAoAMAAgADsAeABpAHIAiAC0AOQA3QDbAJ4AuADtAFQBzQG/AZwBUgHzAJ4ATAATABUAFQANAFoAzAAFAfUA6gCTAFwASgCMAPoAKAHoAPgA+ADQAOQA7QBEAWEBcAF3ASQBLAE5ATMBNQExASgBCwG4AH8AngDFAPUAMwGCAXMBbAEkAdkA7QAbAWgBYQGGAb8BtwGhAYYBfgF1AQAB8QA5AT4BbAFsAZMBVgEFASYBVAE5AQAB+AC/AJMAkwDHAOoAqQCVAKAAgwCDAH0AqQBvAO3/Yv9a/9L/JQBEAJMA5ADHAM4AxwDOAAkB2wDFAOIA6gD+AAcBHQEmARsBAAELAdQA3wDbANAAVQA2AGAApgCxAHgAOQA9AEgAigADASwBzgB2AGIAJwD6/w0ASAAeAO//8f8KABgANAAwAAYApP9i/1H/Gv8u//L+9f4G//n+GP+K/8X/pP/Q//b/uP+D/zL/4f7f/in/XP9I/2X/af9w/6D/vP/i/9X/eP87/z//Lv9I/3L/pP/M//P/DQAKAKL/bf9g/1f/Uf94/8z/2/8YAP7/8//6/5X/TP8n/yP/4f4e/7b/CAATAB4APwA9AAIAnv+k/8z/+v8aAEYAJwCv/5f/xf/O/7j/bf83/1z/bf9t/2v/a/9a/zn/bf/O/+v/pP+r/7j/nv+X//H/JQBPADAAv/+V/6b/0v/k/8H/bf99/5P/l/97/xj/9/7u/sf+x/7S/tz+0v7C/gv/dP+v/4H/Lv/y/tz+vP7W/vn+uf6q/tr+I/9c/4P/cP87/wb/Vf+O/4j/ff+c/4z/iP+I/0//GP8G/+f+Av9R/4z/vP+k/5n/lf+D/7z/3f/t/9f/ff9n/47/vP+r/6n/1f8VAEgAfwByAPb/uv/X/+v/PwA9AEYAWgAVABUAEwBEAGQAfQCkAF4A1f+Z/8P/5P/g/+b/SgB0AHIAYAAaANv/6P8rAGAAeAAVANL/5v/i/wgAPwB0AKIArQCVAM4AfQBgAEgAOQBEAEYASABKADQAKwB0AJAA1ADHAJcAUQDx/7H/ov/H//b/BgBkAIwAdABBABUA9v8KAOL/tP/m/+3/wf+6/9n//P/k/8r/sf/d/+v/vP+2/63/bf9G/3v/nP+8//H/2f/S/+T/6//g/6L/Zf9K/z//iv/2/1wAfwAnAAYA/v/i/xMACAC//7j/cv9r/8X/BgDx//z/NgBKADsADQD6/wgA/v8AAE8AXgBXABoAFQANADIAUQB4AOYA+AC8AKYAjgBpAHQAZwB0AFMAUwCMAJsArwC6AF4AJwDr/7//7f/z/6//a/92/7T/3f8/AMMA0gCtALQAdgATAL//ff+Z//7/DQBIAJAAsQC2AGsAdgBvADYAJwAjABwAMgBRAGcA6gAzAUcBLgEqAd0AbwANAMX/wf8jAIgAuAASAfgA+gCrAE8A9v/6//r/w//M/xMAaQCmAMEA+gAZAd0AtACOAEgAPwBpAIgAtAC/ALEAuADHAJUAWgACAK3/q//x/1oAxwDdAMMAsQCVAJkAkwBXAGQALgAYABgATwA5ACUAZACFAFMAMAAcAAgA8f/K//j/NgAwAN3/tP/b/4z/Zf99/6v/vP+0/7H/qf+i/4b/dP+6/6v/qf/H/6L/ff9g/5P/1/+//2f/hv/M/+j/KQBnAG0ASgAgADYAPwAlAAAABgDg/8X/tP+k//j/DwAEANv/g/+m/+3//P/m/57/P/8I/zD/U/9t/7//8f/K/6T/cP9E/xP/If9V/1P/k/+0/2L/Mv8W/1H/jP90/2v/iP+t/6T/uP+0/7//oP9//2n/k/+0/8f/BgAIANf/r/+V/6v/pv/Q/+j/6P/d/63/r//+/x4A4v/i/8z/pv+V/6//mf97/1H/Jf/f/iz/jv9//63/jP+R/33/dv9w/0z/NP83/3j/cP/B//P//P8IABEABgDZ/7z/lf97/2n/nv+//+L/IABPAGAAIAAKALz/ov+0/8X/wf+v/8r/zP/k//P/OQAgAOD/6/82AHIAPwAPADkATwBrAKQAyQDmAK0AdACrANkAwwDkAO8A4gDSAN0A+ADkAPwABQHoAKAAUQA0AB4A2f+0//P/YgDFALEAgQBRAGAAUwA9AK0A/gAZASwBFAEDAccA4gDBAHgA+v/Q/20A1ADvABQBAAGeAEgALgAnAA8A2f+v/47/ov+B/5f/BgAnAA8A1f+8/6b/dP92/7z/8//S/+T/WgCrAJ4AhQDQANAAhQBnAFoASgA7AEQAhQDHAOQABQEAAccAOQDi//b/6P+r/7//NgCZAOYAGwEUAegAigAnAAIA5v+t/7//RgDHAN0A3wAQATMBEAGpAFwAVwAyAGcA1wDqAOgAEAFJAUcBvwBaAGIATwAcAEYAegB2ADIA8f9EAEYAZACZAI4AUQDQ/7H/6P8jABUA5P/i/63/oP/M/+b/9v/F/5H/U/9P/3//dv89/yn/J/85/2n/dP9X/x7/HP9l/6v/tv+v/4H/J/8y/1X/dv9a/1r/kf+e/5z/mf+V/47/g/+D/23/Zf+4/+3/BADi/7b/k/+x/6//e/9a/yX/Fv8e/yf/MP85/0b/Sv9T/zL/z/6f/pD+rv61/uf+D/8e/zL/Of9E/yn/0v68/uP+GP8I/yH/Zf+T/7j/ov+T/7T/2f/V/+3/2f+4/6L/uP+i/5f/qf+x/87/CAAnABMA+P8KAO//5v/2//r/AAAIAPr/zP/Q/w0AEwARAEQAGAAEAKv/cP+T/2f/Rv9V/xH/Ef9E/0z/hv/B/+v/0P+g/0j/Mv9K/23/uP/O/7j/5v/t/9v/+v8PAFoAUQAwAPP/sf/Q/z8AgwC/ANAA3QD8ANcAwQDBAKkAZwAPAOT/+v/2/w8ACgAwADkABgACAPP/1//H/1H/J/9n/8r/zP+x/7b//P8GADIAOQAYADIABADb/yAAWgAnAOj/4v/6/zYAQQA0AJAAfwDx//b/FQAeABMA+v8KANv/oP+r//r/TABaAC4ASgCKADQAx/+e/8P/9v8wAHQA2wD+APEA+gAUAdkAjAB6AHgAUwD8/woAIAAgADYAlQAAAdQAlwCKABMApv9r/3b/x/8eADYAXgCvAJMAcgCFAJ4AgwCeAJUAVwBVAJkA1wD1ABIB8wAFAfEAqwB2AEoAXgB9AKkA1wAbAfgA6AAJAR0BFgGrAG8AYgA9ACUAhQDqAB8BMwFfAXUBHQG4AIoAigCZAI4A4gAsAQsB6AALAQkBAwGKAFMAIwDo/8P/8f9IAGsANAAPAOj/tv/M/+T/CgAVAAgADQAyACAA3f/B/7b/rf+k/57/g/9K/zL/Rv9p/0r/NP83/w//uf7S/vD+Bv8s/x7/RP9a/2v/nv+r/6v/mf90/6v/yv90/1P/bf+i/7b/tv+g/3b/l/+t/7//CgAlAN3/7f/o/7//zv+t/5z/tv/o/w0AEwDM/7//oP+R/63/6P/t/6T/Sv/3/rX+x/75/g//Yv9g/1X/Yv9X/yz/J/8l/wL/5/7u/j3/U/+B/8X/HAAVAAQACAAEAOL/a/87/23/pP/S/7z/nP+D/5f/k//Q/w8A8f/m/+3/+P8AAAoADwAnADkA9v8GABwALgBnAJAAsQCOAGkANgARAND/ff9E/zD/If9r/63/q//F/63/nv+t/6b/gf9p/0T/Qf9E/zn/f//Z/+L/zv/+/xwACADz//b/rf+R/7b/4v/m/xEARABrAFEAPwA0AO//r/+m/6b/f/+V/8r/zv/m/9X/pP9P/yf/Df8P/zL/N/8u/2L/jP+M/5P/DwBeAEEAJQANAB4AHgBIAHoApACeAK0AkAB9AG0APQAeAAQAMAA/ABEANACMAIEAXABBAE8AQQBkAH8AkwDOANkA7QALAfoA/gDSAKAAbQBaAGsArQDdAKQAbwCVAJAAcgB0ACAA5v+O/yX/Vf+t/+//fwAOARkB2QDOAOIAigD8/6n/rf/Z/9L/DQBcAGsAZAB0AJMAWgAIAPb/yv94/5P/2f9VAMUABQEfASwB9QDMALwAsQCQAHgAxQDfANQA3wADAQcB5ACpAIMAYgD4/4j/l//S/0wAuAAFASoB7wDFAJcATwAcAOT/4v8rAG8AkACkAHIAOwDk/6n/uP+T/5X/zP/H/5H/kf/D/9L/zv/M/8P/xf+x/6L/5P/V/8H/w//V/wAACgDx/93/KwBcAHIASAA9AFUAJwARAPj/w/+x/8f//P8GAOv/rf+V/6b//P90AH8ARAAjABoA/P/F/7H/x//m/+3/LgArAD0AMAD+/xoAIwAwAF4AaQBiAFUASgAnAO3/1f/4/0YAQQBaAF4ATwArAAAAGAA9AEQADwA0AAoAuP+i/6//4P/t/wAAKwBIAFoALgD8/9f/2//O/+3//v/i/7r/1f/k//P/IAA9AEYA5v/O/+j/wf+T/3L/hv+O/+v/DwAaAB4Ar/87/xz/Zf9g/23/wf/v/7j/cP9g/2D/dP+Z/33/eP9//5X/vP+k/4b/Vf9I/zv/Ef8N/yn/Z/+G/5X/nP+k/4b/O/8y/+z+wP6j/qz+xP4A/2f/af9T/1r/pP+i/4r/V/8Y/xb/Ef8I/1r/w/8VACAA/P/2//7/2/9n/wv/yf6q/hH/qf/6/ysAEwAAAAgA1f9T/0j/P/9G/4z/IACIAIoARAAPACAAGAA/AG8AqQC/ANAAAwEOAQUB/gALATkBLAEDAQkB3wDXABYBQAEZAf4ABQEqARkB0gC0AJAAYgCXAOIAAwEuAQ4BfwAcAPj/v/+8//b/CAAcAGIAsQDqAN8AoACQAKYAaQAGANL/8/8CABEAXACbAKQAlQCIAGQAJQD8/7//v//Q/5P/uP8YAEQALgA2AAoA7//+/0QAcgBXAFoAJwAcAEwAfwDfAPgA2QCTAHYAUQANAMX/g/+e/6v/VwCeAIwAcgAaAMP/v/+2/z//LP89/4H/qf8AADQARAAcAOb/v//b/+b/9v8uADkAQQBvAGcAOQBRAEEAAgDZ/7j/6P8rACcAAAAaACMAFQANAB4ANAAaADQAQQA2AEQAVwArABEADQACAPz/8//g/6b/pv/D/7j/tv9y/4H/g/9P/0b/Sv9g/4b/af9r/6T/pP+D/7//+P+8/4b/nv9p/1H/nv+p/7r/uP/F/7b/v/+i/4z/qf/g//P/+v8AAAAA/v/+/9D/af9M/23/uv8jAD8A+P/d/57/l/+V/7//zP+g/5f/l/+I/0r/Hv90//r/DwDz/x4AGgDz/wYA0P+k/7//zP8lAFEAOQAVADIARAA7AEEAMAAPADQAMgD8/8X/Yv9X/8H/MgApABUAAgDH/7z/wf/v/zQADQAcAEgAYABKAFMARABeAIEAsQCtAIgAkABnACkAxf+k/6//oP90/2n/Zf85/0j/iP+m/4r/Qf9M/zf/MP8w/xr/T/9w/47/0P8CACkADQD6/+v/qf9y/23/jv+8/6//vP/8//7/zP+x/4z/mf/X//b/2f94/3L/tP/Q//b/JQAIAPz/8//F/7z/rf+D/4H/v/82AHYAmQBkABoADQAPABEALgBaAE8AhQDJANIAvACDAIEAsQDFAK8AeABMABUABgAjAF4AcgCDAIwARgA7ACcAMAARABUAZwCvAL8AvACKADAAJQAYADQAXgB4AGkAfwCgALQAjgBiAEEAPQDv/8z/vP92/yH/9/49/6b/CgBnAJUARADB/5f/mf+i/6//zP8cAFMARgB4AKQAdgBaAFMAYAB2AF4AdgCVAMMA4gAJARIB8QCeAEoAKwARANv/2/8eAHIAsQDJAO0A3QCVAHQAVwAcAPH/zv/d/7z/0v87AGkAlQCFAEEAIwAYAA8AGgA0AA0A9v8KAEwAjAB/AD8ACgDS/6T/l//V/9v/5v/Z//P/BAD+//7/9v/x/9n/pP+R/7j/HAA7AEgAXgArACMAUwBcAFMAMADi/3b/Fv9T/9X/1/9i/zL/e/9X/zv/hv+M/5X/iv+8/xwASABIAIEAegB/AEEABgAPAP7/CgATAE8AOwAGAOv/7//z/ysAGgDZ/4b/mf/D/w0AKwDk/8f/iP+T/9D/IwARAPr/+v8KACcAGgAPAND/xf+6/6//dP9y/3//2f8EAAAA7/+4/5X/Zf9X/2L/cP+B/5f/3f/6/6b/lf/z/2cAeAAuAAAACAD4/+//ov9t/1z/g//M/ycAGgDr/8X/0v+2/8z/OwBeAF4AXABRAEgAMAANAD8AcgBKADkAPQA5ACMA6//K/4j/XP+D/5n/ov+X/47/6P8PAAAA1//F/9n/1/9R/zf/Zf9e/4z/1f8uAA8Ax/+8/63/g/9l/zn/Of83/zv/ov/m/x4ANAA0ADAAKwAaAA0AYgCFAH0AegB4AHYAgQDHAOYAdgAYAPH/vP+0/7//0v8KAB4ANAB2ANsAGwHZANsA3wDdAB0BQAEhAR0B/AAJARQBAwEDARABzAB0AGcAigB4ADsANgByAMEA5gCxAIoAYgAaABUARgBiAI4AhQBGADsASAAVAOT/rf+k/+v/GgAIABEA6P+2/23/LP8j/z3/Zf9I/zf/O/80/0//hv/D/xUAGgANAMP/uP+B/zv/NP9i/8P/zv/x/wQA6P+x/5n/sf/Q/8P/3f/x/+3/DwB0AI4AigBvAFwAawD8/8z/e/9V/3D/uv8GABwABgDi/+3/zv+p/3j/Zf9V/yn/Of+e/y4AigCFAFcAWgAEAJz/nv+Z/6n/lf94/2X/eP9y/3D/Kf8P/w3/+f4c//X+1P7y/vX+Kf9R/3L/xf8AAPj/GAAYAOT/2f/x/1MApgB2AFwAGAApAEQAQQA0AOj/lf9G/zT/oP/Q/+D/1/+8/7r/e/9//33/q//Z/ykAVQAVACUAOQAYALb/r//K/33/af+T/8H/q/+i/6//pv+O/7b/0v/M/6T/xf85AFUAIwAYAPP/pP+v/8P/IwA7AA0A7f/V/+j/6P8CAAAAEQDm/5X/a/+v/+///v9cAIgAbwBMAGsAgQCBAJUAxQDDAI4AigDMAPUAzACxAL8A6ADzAO8A6gDdALwAfwBnAGQAXABtAJkAwQDUAMwA5gCbAFcASACZAKYAbQBEABoADQDb/wgAHgBeADkAEQBXAEEAGADi/7z/eP9K/3b/ov/K/6v/q//k//P/9v/4//b/1f9t/2X/jP9y/z3/Gv+M/57/vP8wAD0A8/+X/1H/RP9R/3T/4P9kAIUAegBeACMADQAgAFUAZwBGAN3/yv/t/9D/sf+x//7/7//i/8H/Z/9r/1P/YP+m/9v/AgD4//P/nP92/4r/lf/K/ycACAC2/3b/ff+g/6D/qf+I/9X/BADz/8r/zv/x/9L/3f8uAHYAigCTANIA/ADJAL8A6gALATkBVgFlARsBsQBMACMAdACXAI4AoAC4AIgAZwBgAEYAEQD8//r/6P+4/7//AABTAFUA7/8GADIAtADmAMEAbwDt/5X/2/8VAF4AkABgAFcAgwCFAIoAmwBrAGAAogDXAOYA8QC4AKQA3wAsAV0BWgEZAaQAdgAeACAAKwBGAKAAyQDXAJ4AdABiAE8ARAA0AA0AzP+v/9L/SgCpAO8ACwG6ADsABAAgAOj/AgBXAHgASgAYAOv/+P/r/6v/lf+O/4P/e/97/4r/uP/D/87/1f+M/5f/jP9l/2L/Jf8y/17/e/9y/2v/Pf9r/1z/Sv9M/1H/Kf/q/iP/N/9K/1r/nP+B/yn/AP83/3L/O/8R/z3/af+k/87/CAD2/57/mf97/0j/AP8y/4j/oP+p/6//nv+O/+j/+v/H/6n/jv+4/9L/xf+G/0b/Qf9M/1z/a/92/3D/RP9R/23/Of9G/0j/jP+6/23/Vf9i/4H/xf/i/+v/4v+0/8H/7f/S/7b/ff9G/1f/oP+v/4r/cv9i/33/gf+g/47/hv+Z/6n/zv8KABMA5v/d/+j/BAAwABgAEQAcACkAHAAEAB4A8/+x/9X/NAAuADQAbQBnADYAKwBKAHIAVQA0AA0A4P+T/6n/uv+V/6b//P9IAE8ADQDk/wgAOQBMAAAAzP+2/87/5P9XAKIAgQBgAEEAawB/AGkAIwDg/9L/7f8uAF4AqwDxAPwA3wCOACsA+P8lAD0AZwCpAGQAKwA2AL8A4gCkAH0APQAnABMACABnAIwAmQDHANIAtgB0AGsAmwCXAF4AbQCtAF4ASgB6AJUAmwBiAJ4ApAB4AH0AdgC0AJkAkwCtAJUAqQCxAIwAawCKAFEAZAC6AAcBLAH6ANQAmQAaAAAACgDX/ycAZwBKAGcAfwCvANAAigA0ABgAJQA7AA8A9v/V/6v/zP8CAGQAhQBiACAA6/+V/0T/N/9R/57/+v87AEQANgAnABMABgAEAP7/HABnAEgAJQAcADIApgDzAAkBFAHZAJUAWgBkAFEAHABaAOIAKgE3ATcB4gBVANv/2f/i/8X/pP/V/ycAXABKAAAA9v8EAPr/LgAnABEAwf/o/1oAawBgAE8ATwBeAC4ABgDo/47/U/9g/2f/pv+V/4H/a/9E/1P/HP/W/s3+vP63/gb/GP85/2X/bf8w/yz/J/8h/+f+8v7N/qP+xP6z/qP+m/7J/u7+1P6S/pv+nf7N/vX+Gv9e/3b/gf+R/5n/pP+Z/23/V/8y/0T/hv+m/7H/zv/z/+T/BgAeAA0A7/8YACMABgA0ADYA7/+v/7j/5P/Z/xMARgA2ADYABgBPAGcANgAVAPj/4P9e/zL/XP+v/xoAVQBIAFMABgCe/7b/6P8jADAA/v8IAAQAuv8NACsAOQAeAA0AEwAVABwAIwAPAOD/v/+r/9f/BgA7AFMAOwAcADkAYgCDAHYAlwCmAJsAmQCBAEQAPQB0AIgAmQDHAKsAOwAaAB4AHAAKAMf/hv97/5P/zP/o//P/CAA9ADkA8/+g/2D/Vf9g/3L/g/+O/5f/nv+r/7j/1f/6/8r/dP8n/wT/Sv+0/wgAEQDi/+b/IABKAGkASAAeAN3/sf/x/08AhQBTABwAQQA/ACMASgBeAC4A2//M/5P/0P9VAHgAfQBkAD0AQQA5AFcAegCpAKAAYgBnAJMAwwASAfwA2QDOAKkAaQB2AN0A8wD1AB0BHQEdATwBQgFLAQABtgDZACYBMwHdAOIA0ACeAJ4AawAwAPP/1f/z/2QAtAC0AKYAjACMAHgA+P/r//r/3f+m/6T/1//g/+v/GAAgACkAPwAKAO3/vP9g/3L/nP/Q/9D/rf+6/5P/ff99/2X/N/8l/1P/qf+t/7T/qf+x/7j/CgAwABMA2f+r/3L/cv+r/+b/OwA5AFMASAAeABEA1f8CAN3/pv/H//7/TwBPAGcAawBaAD8AAAD4/ycADQC2/9v/IwAVAOD/yv/F/6//jv+x/8f/tv9//3//pP9w/0T/bf+I/4z/l/+I/1P/Mv8L/wb/Kf97/7b/hv9G/zn/Rv9R/3T/nv+G/1H/CP8T/xr/Xv+k/4z/g/94/0r/RP9T/3T/uP/t/xUA4v+c/4H/V/9///b/JQAGAKv/jv+r/9L/uv+i/3j/iP+0/8r/CADO/6//q/+D/3L/TP9M/0//Qf99/5n/pv+O/0r/a/+m/9f/zP+4/5P/dv9T/1f/bf+p/woAHABIAGcAUQA2ADYAAgAcADsAPwA5AA0AHABXAIUApgCFAEwA+v8NAC4AOQBEAFEARAApACsA2/+8/87/2f8NAH0AkwBIABwAQQBXAF4AaQBVACkABgDr/wAAAAApAFwAgQBiAFEARAD8/8z/9v/+/+j/KQB0AIgAdgBBADIANgA2ACkA7f+v/7j/5v/O/9f/AgDV/6v/2//6/wIA/P/O/8P/uP+i/8z/DwB/AKQAugDqAPMA1wCeAHIAPQAYAO//+P85AD0AIwAgANL/oP92/23/af8w/xH/XP+i/7T/AAD4/+T/7//x/woAMAAuAFUAfwCeAHQATAAcADAAmQDSAN0AgwBtAJ4ApACiAIwAZwCXANsA9QAxAT4B0ACrAOgAKgFEAW4BWgEOAcUAZABPADkAUQBnAHIAxwAHAbEAaQArAA0AHgA9ABwACgACAAgAHgAKACUAUwC0AMkA0gDkAKkAWgDo/7z/1f8IACkAZwCBAAgAyv8TADAAKQAlABgACgDx/87/+v9MAIgAegBMAHgAlQB2AIgAigBeAC4APwBeAIgAoADBALEAVwARACMAAgCi/8H/GABTAGsAkACKAHIAXgBeAIEAgwBcACsAQQBEADAAEQDS/7b/x//2//7/3f+O/zn/O/9t/6n/9v/2//H/8f8gAC4ASAAnADIAHgBvAFUA+v/d/9D/zP/i//z/6P/F/zf/4/7L/tz+3P4I/zv/cv9t/0j/Uf8w/x7/Sv+6/+b/5P/d/8P/eP9G/4P/4P8RAO3/2f/V/93/DQAYACMAPwATAAoAPQBIAEEAOwAwABUA3f/K/8X/1f/z/9D/vP+8/7j/vP+m/4z/hv9K/0z/Sv9c/1f/af9P/1X/f/90/57/vP+p/4z/jv8//zn/Z/9g/3j/Zf9a/3b/oP+G/3j/iP99/1X/U/9M/yX/Jf85/zD/If8//0T/dv+r/87/pP9X/zT/e//S/+D/pP9r/2X/hv+4/7j/4v/t/8H/uv/b/woA4P+6/9f/pv9t/1f/Sv9//7z/6//t//b/q/+M/4z/Vf8l/0H/iv+t/6v/nP+0/8z/HAAuAFwAUwDr/9D/2//m/wgASAB0AK8AyQDbAAkBAwGvAHoAjgCBAKAAzgDqANkA8QD6AOoA6gDQALoACQEDAZAAegCZAG0AgQDbANQA6ADxAN8A0gDZABQBNQEZAS4BFgH1ACoBCQH4ACYBCwHfANsA0gDoAKkAfwA/AI4AzgC8AO8AtgBGAPP/8f8yAHYAYAACAPP/4P/i/8z/5v/v//b/JwBXAJ4AlQB/AB4A7//d/6L/lf90/xj/Pf9g/yH/Rv+6/w0Axf+g/6D/cv/5/rn+1v7a/hH/Rv+p/wIAov9c/3//lf+T/6//1f/H/9f/yv/o/wAAAgATAEYAQQDz/6n/q//H/7//4v8NACsAHAA5AEwAMAD6/93/8f/6/8z/DwBGAIoAvwCxAPoA0gAjAPb/JwA0AEQAeACDAGIAIwAcADYAJQAwAAYA7//g/5P/iP8AAAIA7/8CAC4ANgAwACsANABMACUACgANAAoACADx/9L/zP94/1P/XP9M/zf/T/80/yz/Kf8T/0T/T/8h/wT/3/7Y/vv+Qf92/7b/0v/B/47/g/97/2f/l/+2/6n/lf+t/7j/DwA5ADQAOQBIAIoAuACTAHoAdABvAG0AbwBvAFwAHgAjADIAAAAuABwA8f/X//7/JwBcAFwAIADo/5H/pP/B/9v/AgDz/xwAGgAIAEwAIwDt//7/8f8RACsAKwBBAF4ASgBMAD8ASABIAJcAvACvAL8AzgCxAK8AhQBpAHQAoACtAKIAhQBGABgA9v8VABoA4P/O/6T/U/9l/5X/tv+v/63/cv+G/6b/k/9p/0r/Df/S/uP+J/85/xP/Jf9p/3j/Pf8a/yX/y/6F/ov+o/7A/tj+Bv9P/2X/Qf9X/3b/Lv/1/qb+nf7P/jf/mf+8/7b/oP+//7///v8wAOL/uv+X/6T/2f/H/8f/1//6/ykAEQAeADIA5P/H/9v/6P8KADkAMgBcAGQAXgCkAK8AvACZAIMAhQBvAGkAwwDoAPgAKgEfAd8AtAB6AHoAtADbAPUAyQCvAKkAxwA+AYQBhAFEAe8AHwFNAXUBkQGhAWwBLAHkALwArwCeALgAEgE8AVoBWAE1AR0B4gB/AIMAjABrABgA3f/k/93/KwBMAFcAhQCDAG8ATwD4/6T/iv+i/9n/AgBEAH8AWgDi/8X/8f/8//b/BAAeAN3/oP/S/xgAJQAwAEYAFQDm/7r/6P8PAPj/AAD+/0wAZwBrAIEAUQAaAO3/BAAPAAIADQBIAH8AlwC4ANsAFgHxAK0AjgCmAGAAbwCtAKYAjgCMAK0AvADZAM4AngBBAOj/7f9KAEwACADt//H/EwAuAFEATAAgANn/zP8KAFcAeABBAAYAw/+m/5z/qf/H/4z/Pf87/0T/7P7L/uP+Lv9n/0H/O/9X/yH/AP9t/8r/w/+O/3v/dv9c/z//Vf9K/3D/g/+G/3j/Vf9y/5n/pv9R/z3/eP97/2L/pP/V/57/MP/U/uz+I/85/wT/C//3/uz++/4I/xj/GP/1/gj/N/8j//X+rP7L/gj/Yv/Q/xwAHgDi/9f/xf+//woAGAAuABEAEQAyACAANAAgAGsAwQCKAJcApgCIAEwAOQA7ADsAPQBRAHIAYABnAD0AIwARAOD/6P8lACsA6P+R/1H/NP8N/xz/TP85/0//k//D/+v/vP9t/zL/LP8n/xz/RP9K/3j/q//Z/8f/vP/Z//7/wf9R/0//e/9n/2n/gf+k/+j/9v/M/8r/qf9g/2v/dP+R/6n/8/8YAF4AZwCFAJsAoACgALQArQA2ABEA7f80AFEANABeAHQAcgB0AHIAdgBKAAgAKQD+/xMANABKAIMAlwCDAEoANAA2ACUA+P8AACMAGAArAA8A/P8EAPb/9v9BADQACgDK/4z/l//6/3oAngCDAFoAcgCVAMwA8QAfAQUBfQAgAAoACgD2/+//SACBALEA0gDmAKQATwAjAO//0v+k/63/3f/F/8r/AADm/33/YP+B/87/CgDd/5z/ff9P/0b/Vf99/6v/pv/O/+j/1/+//+D/CAApABEAAAArAIEAcgBcAF4AVwBVAFUAUwBPAEwASgBIAFwAegBTAD8ALgAKADAAMADo/7b/2f/t/+3/8/8IAD8AVQBTAFEANADt/5H/dv/S/xUAPQBEAJUAiAAlADQAVQCDAH0APwApAEEAcgCiAO8ArwAgACMAhQC4AM4ApABrAD0AWgB2ALQAyQB2AHoAlwCtAH0AYABEABgAIwANABgA8f/t/x4APQBXAC4ADwAVAC4AAgD8/y4APQA2AFoAkAA9APP/uv+e/7b/7/8pAJMAlwBKAP7/nP+i/9v/VQCtAJsAdgBvAGQAhQA0AAAA/P/x/wIARACBAIEAbwBgAGIAiAB4AEgAXgBVABEABAAwADkAFQD+/0gAUQAjAFMAcgA7APb/iP+I//H/EQAIAO//nP9X/3b/jP+R/6b/4P/F/1f/C/+o/nX+ev7S/tb+4/4W/+X+t/7n/vL+0v7S/vn+AP+s/sn+qP7H/tr+y/4N/0b/jv+X/0j/wP53/mb+d/7J/rf+4f4W/xj/Df8u//f+fP5F/mr+wv77/gb/+/4h/wD/4f47/6L/xf/b/8f/cP9M/0T/e/+p/8P/1//8/z0AVwBiAIEAqQCeALYAlwCeALQAfwC2AKsAsQDtACgBaAEZAdsAkABVAIEAfwBkAHoAdACVANQAFgHMAJ4AigBkAIoAsQDdAOoAzAC2AAMBOQFLATMBMwHzAI4AXAB6AHYARAAuAFUAkwBpAKAA1ADkAMwA7wAbAdcAoACmAIoAfQANAMP/+v87AEwAXgCVAJsAkABaAPr/x/9P/2X/tv/k/w8A/v8cABUAxf9//3T/a/9T/5f/wf9n/0j/Of8y/5n/4P8pAFoAHgCp/0H/XP+M/8z/7//x/+L/r/+g/7T/8f/z/9L/+v8KAA0ACgAcADYAJwA5AD8AfwBrAFMAPwAcACUADwAwADIADQBVAMkA5gDHAJkApgCXAFoAWgCXANkAyQCeAKIAgwCBAGkAhQCTAIUAZwA2AFUATAAcADQAKwDi/8H/OwCZADsAx/+V/6D/l/+i/57/gf8h/1X/nP/S/+j/5P/O/5f/bf9R/2f/Zf+R/8P/4v+v/2f/Wv9c/3j/pv+g/8z/zv+r/7r/nP+K/6T/3f8IAD8AVQBKAEEAJwDx/93/+P8aAA8ANgBKAC4A8//d/8z/r//r/0QAdAA7AO//1f/o/w0ABAAuAC4A8f/O/57/iv+g/8X/vP/6/0QAUQBGADAA4v/B/wYADwAeABMAMgBBAE8AfQCDAHgAhQCvAMkA7QDxAM4AmwDDAOgAzADSALEAwQCxAG0AUQBcAIEAigBvAEQAVQBeADsAEQApADQAKQA7AGQAawBKAPj/uv/Z/9f/nv+i/8P/oP94/1r/bf9T/0b/TP9R/0j/GP8h/0T/Pf9R/2L/uv/g/7T/Zf9n/0//XP+K/3T/Sv/u/uP+J/8y/xz/Wv+r/7z/1/8RACUAIwAVAM7/oP+k/1r/Uf+Z/57/iP+0/+L/BADk/8H/k/+O/5z/uP/O/3//U/8//5X/HAA0AAQADQAwAAoA+v/r/6b/f//B/xMAMAAlAAQAKQArAPb/6//d/8P/AABMAFwARAARABEAbwDXAMcAmwBrAD0AHgAuACMAMAARAAoAUwCZAKsAsQDbALwATwArAC4AGADZ/5n/kf+X/7H/1//O//P/BgAaAE8ATAAAAL//l/+X/9D/v//x/+3/x//D/xwASAAuAP7/1f+2/8f/xf/o/xgAPQAyAE8AYAAwAMr/uv/4/wgADwAAAOT/8//m/wgAIAAjACcAHgA0AD0ACgBIAIEAlQCZAOoAGwE+ATwBJAHoAIgAigDMAEsBRAEdAQUB5gCtAF4AngC0AKYAeAAcAA8A+P/4/9f/rf+k//b/PwCKAGIABgDo/+D/8/8nAEYAXAAYAOD//v8aAEgARAAEAAQACAC6/7H/k/97/6b/EQAyACcAHgD8/87/AAArACkAaQBTAEYAcgBiACAAAAAKADkASABVAI4AtABtACcAJwAIABEA6/8RAH8AVwAyAOj/1/+v/5X/sf/Q/63/kf+R/3v/Xv9//6n/uv9n/1r/e/9X/x7/0v7q/iP/YP+p/+v/pv9R/wT/E/9K/3b/iv/V/9v/+v/z/8r/0v/B//b/VQCXALwAugBtAEoABAANAB4AGAAVACMAUwBvAK0A6gDqANkAtgBvAFEANAANACkATABnAD0ANABkAFoAHAAAAOT/mf9V/1f/pP/F/3L/Zf+x/+L/v/+c/23/Xv9l/4H/pv+I/1z/Uf+p//z/YgCXALwAsQBaABoAHADk/7b/3f8aAH8AogCBAFMASgAwAEYAawCkAN0AtABnAIoAmQDFAKsAYgAIAA8ANABKACMA9v+4/7H/4v8AABgABAAKAAoAVwBkABEAx/+x/6//rf+v/6//qf+6/+v/+P8CADQAJwAAAPj/nv94/3//gf+D/4b/dv9X/5P/BABiADsA1f+e/7//6/8cAC4AEQDD/4z/wf8aAEoAEwDK/87/2f+G/1H/E//C/qH+2v4T/1r/YP9E/1X/TP90/6b/yv/B/9X/vP+r/7T/pP92/3T/cv90/7//uP+B/zT/NP8u/2D/iv/V/2QAZwAjALz/l/+4//H/SgDFAJAAYABXAGAAgwByAKYA6ADiAJAAQQApACUAEwANAGIAhQBrAEgAYAByAFUARACIAF4ADQD4//j/6//i/zsAYAA0ALz/Xv9n/33/N/83/3j/g/9E/xz/SP9n/1z/YP+v/7z/0v+6/63/tP+6/7H/q//8/9n/vP/4/87/4v8AAPH/tv94/4b/nP9V/z3/T/9y/7T/4P8cABwA6P/x/y4ARgBeAHIAGgD4/+v/4v9EAG8AgQCxAKsAbwBrAJ4ApgCMAFoASABKAEgATwA/ACAAMAANAPr/6P/K/+//GABPAGIAYABgAEgAJQAyAP7/zv/6/w0ADwANABEAFQApAFwAbQBGAPH/AAAPAA0AAADo/yAAegCmAH0AZABKAAYABAAuABgAIABXADsAvP9E/+X+D/9l/4j/iP90/6//5P+x/3j/YP9G/3b/g/90/5P/iP+t/8z/3f/8/0YAaQD4/47/RP8a/2D/wf/D/2n/Zf+V/2X/Mv8c/w3/Mv9B/3T/rf+0/zD/GP9n/3b/V/92/63/l/+K/0H/5/4A//f+E/9n/6L/0P/V/wQANACBAMEAhQBtAKAAfwDFAPEA/gAxATwBNwEzAUIBWgEWAbEAUwAeAEYAbQC2AO8AxQC/AOoA8wDUAJkAfwB6AHoAjADSAPwA4gDzAA4BHwEAARQBGQEJAegAugC8AKQAqQCTAKYArwCbAJUAgwCKAKAAigCQAH0AfwBVACMA6P/M/8r/xf/X/yMAUwA/AEQACgCO/yz/GP/h/tz+xP4Y/0//Vf9G/yf/LP/u/i7/uv/O/57/jv+V/5n/uP/x/xwAJwDS/63/x//8/yUAVwBkAEQADQAIAGcAzgDHAMkAigA2AB4AKwBcAFcAMgBTAHIAngB/ABwAJwAlAP7/IAAYAOL/uP/F/zkATwBVAEQASgA0AEoAPwAYACAAJQBvAKQApgBeAEgASABtACUA/P/m/6b/mf+x/+j/+v/g/6n/l/+g/57/sf/D/17/Hv9i/5z/k/+k/4j/cP97/33/rf/4/8z/x/+p/4b/Rv8e/1H/f/+t/5f/iv+R/5P/lf+x/9n/0P/k/9n/7//V/9n/+v/b/6b/cv+t/9L/GgATAO3/pP9g/0T/RP+v/+L/7f/4/+j/pv94/5H/eP90/4P/oP/Q/7T/vP/o/9D/yv/X/87/kf9X/0H/Lv9e/4P/k//M/z0AeACXAGAAEwACAAgAJwBnAIEAkwC0AIwAhQCiAIwArQC6ANsAFAHHAIgAYgCBAJcAfwBcAGcAKwD2/xoAPwByAIMAfwB6AHQAXgAjACMARgAeACAAQQAuAE8AYAByAIwAeABrABEAzv+x/7//v//Q/+D/DwDm/+T/w/+v/5H/MP8u/4j/wf+2/8f/q/+V/8P/GgAjADYAFQAAAOL/f/9n/3j/g/+O/5P/nv+O/5n/FQBEAJsArQB/AG8AEQDZ/8P/+v9eAH0APQA5ACkASABcAEEA+P+//9L/xf/8/0gAbQCgAMMA6ADUAH8AMAArAHIAxwDxANkA7QDoAPoALgHmAPgAHQH1AAsB+ADHAMEAugDqANsA0ACbAG0AigDkAAsBMQEfAdAAkABIABEA5P/8/xoAPwBgAIUAlwCkAFcA7/+M/1r/bf9l/2D/CP/f/ur+AP9i/93/AADo/7z/5v/k/1H/C/8C/3T/2f8AACAA5v+T/5H/x//d/9L/zP+t/4r/wf8rAK0A/ADtAKIAjgCKABEAxf/6/xMAyv/d/+v//P8AANv/IwDv/6v/hv+c/6//nP+X/wAAUwBMAA8ACAAcAOv/zv/k/xMARgCkALoArQCMAFcAYgBnADYA2//z/zAAOwAnABMAXABeAAQAtv+e/63/2/8AADQAKwD+/w8AGAD4/9L/6/8PACsAFQAuAA0Al/9r/4b/pv+t//H/5P+x/47/ff87/0r/ff+t/9n/8//k/+3/2f/z/wAAAADi/87/8//r/zYARACbAKsAkAAyAPb/6//K/6n/0v8RAJAAzgCeADsAiP8c/8/++/6T/ycACAD6/8P/XP8Y/yH/Uf83/zT/GP/E/uX+8P7s/lf/iv+O/5X/hv87/xH/MP9E/6n/4v/O/6//wf+g/6D/4P/2//z/BAAGAAQA9v+x/2v/Yv9w/3//pP/k/+b/nv9i/1z/f/+//93/v/9y/4z/pv+//+3/0P/D/9D/2//o/+D/uP+I/y7/BP/j/uX+Av8Y/z//iv+Z/4r/pP+M/1z/C/8A/0T/w//6//H/tP+c//z/PQB6AJkAlwCbAIMAZwB4AFwASgBgAJsArwCvAK8AvwDdAMwA1wCvAJMAaQARADkAhQCpAN8A2QCgAG8ATABcADsAGAD4/woA3f/X/1MAZwB0AFEATwBtAFcAZwBXAGQAPQA5AFwASABpAHYAbwBvAG8AbQBnAGAANADM/7z/8/8wAIgAgwCTAIgAQQBVALoA7wAFAccAXgAgABUAzP/x/ykAKQB9AK8AwwCQAG0ASgAKAPz/DwBBAD0AAgDr//z/FQACACAAMAArACsAHgATAPj/rf+M//j/TABcAFoAZwCFAIwAVQAPADkASACMAKsAiABXAHoAxQD+AAMBAwH1AJsAiABaAEgAXAAnACAASgBiAIgAjgCBAG8ASAAAAM7/f/9e/7b/BABpAIgAbwBXACsA5v/b/xgAWgBgAG0AfQBIAAAApP+v/8H/q/90/2L/Sv8l/zL/O/+B/3j/dP+t/6n/Yv8C/9L+2P6o/uP+N/9R/zD/5f7n/vX+J/8I/xH/E/85/1X/Sv8n/yH/O/+M/7//dP9i/5f/l/9r/47/EQBnAGcANgA0AGAAUwACAMH/xf8VAHIA5gAfAaYAZwAEAOv/IwBIAH8AkACiALwAigBVAAQAuv+//wgAUwBPACsAMgAGAPH/9v/z/+L/r/+e/6b/mf9//6L/v/+t/6L/6P/Z/8X/0P/m/xwALgAVAMz/lf+//9X/AgBcAEoAHgDr/9f/w/+X/5H/sf/Z/9D/xf90/1H/cP+8/yAAQQAEAO//mf94/3T/Vf8//z//ff9I/xr/Hv94/6v/tP/X//7/4v/D/5n/lf97/zL/P/83/zf/YP+i/8X/vP+T/4r/g/9c/17/cP9//33/Xv9c/4P/uP+m/6b/pP9//2v/YP9//4P/ov+m/9X/CAA0ACsAawCVAFMAUQA7AAgAxf/d/xMAFQDF/+//AgAuAD0ADwAEAPr/tP+O/63/x/8aAEEAoAC4AG0AFQDO/8f/2/8CAFoAkwBaABgACgAnAFwAigCbAGAAYABRAHIAZwAYAEQAogDSAK0AlQCQAIUAlwDJAPMAEgHtAM4AuABrACcAEwApAEgAKwAuAHYAoACKAJUAbwBcAEgAJQAnAMX/gf+t/8X/zv/S/wIAVQBrAKsAlQByAFoACADr/0YAbwB6ALEAqwB/AJkApgCZAJAAhQBiADYAaQCrAMUABQEqAQsBCwHUAKkAiABIAD8AegDMAO8A0ADkAOIA2wDzAJkANgBaACkA1f/V/xMAZACbAMwADgH6AAMB6ACZAF4AGAD8/yAAfQCpAKIATABGAGAAbQA/AAgAzv+c/3j/lf+k/4z/Z/+v/ycAQQAcAO3/4P+R/8H/IwAKAN3/uv/k/zkASgD+/9v/jP+T/5f/dv+K/2X/Vf9I/yz/Pf8a/wv/+/7y/lP/ff9//4j/iP+M/33/T/8s//3+4f7N/hP/a/+X/8H/ov+O/5H/jv9//1H/TP9a/5H/BgAcAOT/vP9y/0b/dP+2/xMA9v+t/4r/Wv9V/2f/ff94/zv/7P6q/nP+of75/vX+O/9p/8X/9v/i/7b/pv/M/woAOwB6AGcA/P/t/zkAfwCVAH0AWgBpAEwAYgC8AIEA7f+T/4z/l//K/z0AZwBpAGkAdgCVAIEAjABnAGAAkACkAKIAvwAbAR8B3QDXAOoAqQBcAD0ACgD6/+b/oP9M/yP/YP/H/wIA+v8cABoA3f/O/8H/k/+G/6T/zP+2/6v/x//t/9L/xf/S/8f/mf90/0r/NP80/63/DwAjABUA/P8cAEEAZAAjAKn/jP99/2n/iv+O/7j/1f/K/6L/nP+k/6v/jP8w/xj/RP+K/9f/NAA9ADYA+P8cAGcAegBrAEoAbQB/AHoAfQB6AIwAwQDOAMkArQBtAD0AHgBBAG0AjgB/AIoAZABKAEQAPQAlAAQAPQCKAK0A9QAHAaAAVwAwAEYAWgBTAHYAxQDFANkAxwCDAEYA7/8YAEoAHgDm/2f/Rv/m/1cAZACIANQAtACMAIMATADZ/8P/AAARACkARgAwADkAJwA7AEoAMAD4/+v/QQBvABMAOwCDAN0AJAFoAVQBMQGXAAYA+P/6/0oAkADtAAAB0ACXALYA1ADHAN8AhQA0AA0AHABkAMcArQDJALwAwwC8AKIAeABBAD0AMABeAFwAVQBeAMMAtAB0AC4ABADd/7T/uv+2/+//1//H/woALgD6/9n/v/99/3v/mf9w/0b/Ef8T/0//e/+X/2n/P//3/r7+AP87/yH/Gv83/1f/I//L/on+lv7c/g//YP+g/1X//f5G/3T/dv9//4H/hv+K/6n/8f85AC4ACAAPACUAegBkAJsApgByAKQA3QDmAMUAgwBMAA0A6P/D//r/IwAKAAIAzv8KAD0AWgAeAOL/3f9//1z/Zf9p/3D/jP/H/+v/BgDg/8X/x//D/9n//v/z//z/1f+//63/jv/K/xMAIwATAMr/lf+g/4P/Yv9K/2D/RP9P/4H/e/+i/7//nP85/x7/MP8p/xz/T/9V/0T/Xv9w/7j/sf97/0z/jv+R/3T/MP+x/nP+aP5k/pD+fP5U/nX+y/77/gb/3P6q/p/+ev5U/mj+of77/iz/XP+X/4b/iv+k/7r/v/+M/1r/Zf9t/2L/sf8TACUAKQCgANkAgwBpAHIAjgCmAGkAgwCOAHQAngC6AK8AgQB4AIEAcgAcAK3/mf/D/w8ARACIAHYAIAA0AGAAigCFAMUAAAHvAP4A0gCpAG8AhQDkAP4AQAFAAUABAAGtAIUAZACiANsAtACvALEAVQA9AJsAEgE5AR8BCQFAAfoAawA/ADkANgBKAJcA3QDoAMwAogCpAFcAwf9w/1P/P/9t/57/1//d/7r/BABvAF4ASgAyAOL/g/9K/0b/ff/z/zkASAAaAD8AKQARABMAIwBVAGQAYAB0AIwAhQDDALQAqwDZAMcAcgAjACAATABVAFEASABaAIgApADMAMcAXAD+/yUAEQDm/8f/+P9RAI4ArwDmAB0BAwG4AJMAmQCbAEoAYACMAF4ASABiANQA5ABXADQA/v/x//r/x/8KACsAHgAaABEACADk/6b/kf+Z/6//+v8nAOj/iP9P/23/lf/Q/+b/9v8PAOL/xf/F/6//iv+v/8f/yv+4/5H/nP9n/yf/Mv+X/wQA4v+T/3//Z/9K/4j/6P8uACsA8//d/9n/2f/Z//H/DQDm/7z/oP/b/zkAjAC0AHIABgDg/ysAZACVALoAyQCpAJAALgANAD8ASgBgAH0AZwBTAPH/r/+O/6//xf/Z/xEAHgACANv/+P/4/7z/vP/b/6n/Zf9//9n/tP9w/2X/a/9c/0T/Sv8R/xr/Av8N/z3/J/8N/wv/cP+e/6b/nv99/5X/f/+M/8z/5P/Q/6D/lf+v/+j/EwA7ABwACAD4/8X/qf9//3j/g/+O/57/k/94/6T/xf/i/xwAHADo/8f/nv+m/+b//v8GAPb/1//o/9L/4v8lADsAPwAIAFr/Bv80/23/yv9IAK8AmwBtAEwAaQB6AGAAMgARAPj/GAAwADQAPQA/AEwAgQBrAAIA1//t//r/1/8nAGIAjgCQAFoAVQCDAIwAgwCBAJAAugDUAAMBBwELARsB6AC0AIwAkAB4AJMAigBPADQARgByAKYA2QCXAGsAGgAwAHYApgAHAQkBwwCMAFwAcgBnADkAQQAVAA8AJwAjAFoAQQAnACAAGAAVAPz/wf+r/47/a/+R/6n/yv9EAG0AIwAVAO3/zv+8/4j/iv+p/4j/cv+i/woAPwBVAEQALgDm/9f/v//b/9v/yv8wAJsAwQC8ANsAlwB4AEwAFQDr/wIADQArAJAAwQDiAN8AtgBgAAgAAgATAOb/zP/Z/xEAdgDkAA4BQAFaAQABmwBIAM7/r//2/0YAmQDXAOQA/ADbAIgANADQ/9L/8/8gAC4AHgAPAPz//v8lACcAKwA/AA8ABAApABgAv/9//4j/eP+t/wQALgDt/4P/MP8a/wb/AP9M/1P/eP97/0H/P/9e/yX/BP9P/z//RP+B/6b/x/+k/33/Rv87/yz/Df87/1r/XP90/6v/vP+6/7z/x//r/7T/mf/b/+L/2f+t/93/1/+8/9X/8f+//3L/dv+I/0//bf+R/5f/iP9I/9/+hf6m/uH+Kf9n/5H/jP+e/4P/Xv9M/2f/af+Z/7z/w/+4/4j/kf/O/+j/8//6//z/AgAIAA0AEQD+/87/w//g/xgAPwBMAPr/6/8rAD0ARgAlAMH/kf97/6b/w//O/9X/6/8nAE8AgwCBADQA7f/k/8z/g/+i/6//cv89/zn/Rv9V/2v/e/+g/8z/ov9X/yH/Hv8w/0j/Wv+D/6D/gf/X/yUATAAwAPj/g/85/1H/v/9IAHoAbQBRAHIAiACIAIgAegAwAAIABgD2/1EAPQBRAFcAOwBEAO//5P/6/5f/Yv+V/8r/CAAnADAANgA5AD0AMAAGAOj/zv/r/9v/5v8nAD0AMAAAAAoALgANAPP/4P/6/+L/2//X/8X/0P+V/6//wf+V/6T/4v/+/wgAGAA2AG8AiABkAAAA2//m/+v/DwBKAHgAngCTAKAAfwBpAEQA4P/D/87/2//o/wQAQQBBACUAPwAeACMASgAYAMX/l//D/9D/0P9GAKQAogBXACMANAAYABgAVQBEAO//BAAyAH8AzADqAAUBwQByAFUAZACVAKYAoADFAP4AxQDJAO0A/gDBAG0AVQBKAEYAUQCQANQA2wD6AGUBrgF5AQkB1wCBAIEAtAAkAW4BagFPAUcBSwEkARkB9QDoAKAARABMAKkAvAC8AN0A2wCtAIoAtACQAEQA9v8rAEoAOQAwACMA/v/M/+j/3f+t/7T/dP89/2f/e/97/2n/If/a/sv+z/7S/t/+5/4Y/4j/wf/b/7b/iv9R/1H/jv+m/6v/qf+4/9n/tv/K/zAANgD4/+D/2f/S/9D/1f/t/yMAMAAnAPj/iP9a/3D/vP8eAFEAJwDz/7j/q/+v/8P/6P+g/xP/5/5G/3D/dv9//5n/1f/r/+v/6P+8/1H/MP8//17/tv8IADAASgAKALr/qf/B/w0ARAAjAAAA0P/M/wAA/v/O/6n/oP/6/ycAKQApAA0A1f+c/2f/tv/m/+b/2/+R/2L/eP9y/6D/r/+B/33/dv9M/zD/9f7A/sT+9f49/2L/Xv87/zT/XP92/0T/Vf9I/0H/Vf9n/2X/U/+I/6n/uv+4/6b/2f/m/6T/a/9a/0z/l/8EAFMAVwAnACsAeADDANkAxQCVAGQASgBEACAAQQBGAIMAUQByAGsATwA9AO//sf+Z/5z/LgC2AKQAegAuAOL/6P87AIgAsQDSAKsAjgCOAIUAmQC4AKYArQCIAF4AOQBvAKQAkACgAI4AlQBrAGQAfwBkAIEAoADOAO8AGQEfARIB7wCpAGcA9v/i/xoALgApADkAVQAuACcASAAcAA0A6/+X/5H/hv+G/zf/Qf/F/yAAKQAIACUAGgC6/zL/C/9c/1f/Vf9p/4b/rf+O/5X/v/+g/6T/yv/B/9X/uP+8//r/DwAuAEwAPwA2APH//v8TAAAA3f8nAH8ASABXAGcAYABMACsATABIAPz/tv+4/xUAfQB4AKsA1wC4AMwA6AD6ALgAYABEADkAUwCFALYA/ADfAKYAegCKAIwAaQA0ACsAbwCZAGkATwBIADsAPwBvAFEA9v/8/xoANAAPAPj/7//r/9X/w/8EAPb/x/+i/8P/xf+M/5P/xf/F/5X/nP/O/93/sf9a/2v/gf+X/+b/HgDo/7H/v/+e/3b/Xv9w/2n/lf/H/w0AUQBEAPH/uP/t/zQARgBXAHIASAAeAPj/EwARAN3/zv/k/xEADQDB/5H/sf/b//7/+P8GAOT/x//K/7b/mf/O/ykAVwBGAGIAaQBgAFwAVwA7ABgADQDK/9n/7f/r/wIAMgBRAGcAKQDt/w0AHgAuAF4AWgAaAAAA+v8IADkAXgCKAJUAdgA0ABoAFQAPAAgACADv/9D/7/8jAFoAEwDV/8f/CAD6/+T/1f+e/3b/af+t/6D/jP+m/93/CAAnAAYA4P+V/1H/MP8Y/zL/Rv+k/+T/AADg/93/FQAPANv/tv94/z3/TP+G/6D/g/85/2L/2f8wAPb/0v/S/7r/eP89/0z/jP+m/8f/9v/Z/8f/zv+//6T/qf9c/0H/V/94/9D/BgDm/7//pP/Q//7/TACFAGQAKQDS/87/tP+8/xUAYACFAKQAaQArAEoAWgBXAFwAYgBgAG0AjgBRABMANgBXAI4AngCtAMUAsQCkAFUAWgBEANf/2/9XAJcAbwBXAGcAgQBaAEQALgD4/9D/nv+M/6T/2/8GAEgAoAC0AGQAaQB4AGsAYgBKAP7/x//+/1UAlwCpAJsAngDFALgAcgB4AJcACgDz/14AjgC6ANQA/ADXAF4AKQAaAP7/tP97/8X/PwBeAGkApACtAEgAAgDb/+D/uv+k/6n/pv+r/7//BgBKAFEALgDX/57/qf+//1wArQB4AFoASgBMAHoAgwCIAIgAEwCt/6v/zP+m/6b/2//r/87/wf/r/8X/7//g/8H/w/+6/7j/tP/O//7/IwA9AP7/l/9l/3T/a/+T/5n/Zf9c/2L/dv+X/2L/If8p/33/x//b/8r/lf+D/5n/0P/S/6T/lf+r/+T/6/+4/7z/2/+2/6L/qf+p/8H/+P8gAEYAIwAIAPH/v/+c/4H/q//X/w8AJQAgABgAFQARADsAkAB4AEgAEQDo/8f//v8wAA0A6//M//H/BADx/8H/nv9y/2L/cP92/5f/uv/B/wQA+v/k/xEAYgBMACAA3f+Z/47/qf/o//P/r/99/57/pv92/5f/BgArABoA/v80AGQATwBrAHoAdAB9ALoA+gAAAfEA+AALAd8ArwByAEEA8/+r/5z/sf/V/8z/AgBMAFMATAAyAPj/zP+m/8z/5v/8/zIAOwA0ADQAMgA9AGkATwDQ/4z/wf8EAAQA1f+//+L/SgBtAH8AlwBeAC4A8/8IAFwAUQBVADQAMAB0AMMA2QBiABEAEwDk/9D/wf+x/w0AMAA9AHIAUwDX/7z/5P+8/8H/4v/Q/9v/zv/r//z//P/r/8f/7f/S/2X/Mv8E/w//af+//+3/DQDi/7H/Zf8y/3L/x//m/wIALgD4/63/g/9P/yn/Fv9I/47/AgApACkAAACr/5X/XP9V/yX/RP9T/yP/Hv89/5P/9v9VAIwAZwBPADsA7f+p/4r/Yv9e/5n//P/2/+v/8f/z//b/5P+c/1z/Rv9E/8H/FQANAB4AFQAlABoAMAATAAIA9v/D/6L/iP+2/+//PwCOAIoAQQDk/6//w/+m/47/a/+T/woAOQArAA0AHADo/7b/5P/+/wYACgAjAEoAJwAuAFMARgBVACcAzv+k/7z/qf+K/3j/k/99/4z/1f/v//z/7f/S/9X/gf9l/3b/nv/o/xoARAATALr/kf+m/5H/eP9c/2D/iv/Q/+L/tP+Z/2v/eP+p/7//EQAcAFoAgwA9AFUAVwAjAB4AKQA0ACMACgAgADAAdgB6AJkAtACrAM4AHwHxAKAAjgCeANIA4gDMAH8ARABpAHoAfQBkADsANADd/+L/VwB/AH8AZwA9AEgADwDt/0gAbQBtAGsAfwCrALQAmQBvAHgAZACBAJUAoAC4AIMAegCQAJAA4gD4AOgAzgCKAH8AkwBRAAAA7//t/xMAawBVADsAHgDg/8f/zP+8/57/xf/Z/8X/ff9G/2v/iP+O/6v/0P+e/0b/Hv85/yH/Df/W/sT+Bv/c/vn+I/9B/5z/7f8KAPr/x/+e/2n/TP8//4b/8f9BAEEAIwBIAFUAUQBRADsABgAKAD8AZACIAGAAcgDbAPgA7wDqALQASgA9ABoABgANACAAVQBtAFcAMAA2APz/l/9w/4j/lf/k/+D/zv/k/xMAEwDt/xMAJQA2AFoARgBRABMA2f8EABoAMgBVAC4AGAD+/9f/8/8KAAoASgDXAOgA5AC2AIoAeABrAHgAqQDJAAkBMQEUARAB2wCeAFoAIAANAEgARgBcAH8ApgDFANkAtgCbAAgAbf9I/3T/0v/B/63/rf+4/+///P8KABMAr/+B/4P/hv9w/2X/2/85AFwAigCKAHgAaQBpAKIAxQCQAIMA1wBEAWUBdQEhAc4AwwCgAJsAfQCKAIUAawBvAKYA8wAmAR0B7wCgAGAAEQDv/8r/oP+8//b/ZwDQANcAjACKADsAGgDr/8X/vP/H//z/HABMADkA6/+2/17/Hv8//1H/TP9l/5n/uP/m/93/q//H/7r/eP9M/y7/P/83/2D/dv9i/xj/yf68/sT+z/7c/uX+7v7l/r7+s/7U/u7+kP5X/pT+qP6W/r7+rP6m/ov+W/6s/sv+BP8W/+z+x/5t/nH+xP7f/sT+4/40/0H/GP8c/xr/HP+R/7b/jP+M/57/q//O/+//nv+I/57/v//x/9v/vP+T/6T/7/8RACMAGgDr/+L/1/+t/6n/zv8RAEoAdgBtAH8AYABiAJMAbwBeAE8AHAApAGkAmQC8AK8AvwCXAH0AgwBtAFMAZwBXAGkAOQDv//r/NgBVAEQAJwAjAMr/rf+//93/JQArAPr/6//v//b/EwBPAHoAmwB6AGQAfQCbAIwAiABBAFMAUwAaAA0AKQBPAEEAUQAwABwAJQAlACUAEwDd/8z/1f/r/ycALgAYAD8AbQB2ABwAyv92/4b/0v80AFcAsQDoAPoA5AD6AO0ApACMAHIATABcAEYAawBrAEQAZAB2AFoAHADv/7T/nv+p/8X/GABkAHYAbwBnAFoATwBIAFoAjgCtANsA5gDtAPwA1wDmANkAqQDXAA4BEAHSAHgAsQC4AIMAtADiAK0AlwCpAFUA+P/d/wQAgQDzAAcBlQBEAP7/xf+g/8P/v/+T/7r/x//X//j/4v/t/8X/mf9M/wL/zf53/qr+C/8p/0r/iP+e/4j/af+M/4z/P//7/gv/Zf/O/xoALgAPAOj/CAAwAGAAWgD+/6//nP+2/wQAVwBXAC4ATwBEAAIA0v+p/8f/7/89AIMAogC4AJsAtgDBAJkAQQDZ/4z/jv/b/ycANgBKAHYApADtAN8AyQBVAC4ATwA5AG0AxQDqAJ4AWgB0AIwAtgCmAEYA7/+8/47/yv8GANv/wf/B/6b/bf9a/0T/+/7C/tb+MP9y/yf/vP7Y/vf+Fv9t/8P/wf+K/3T/iv+e/2X/gf+4/+L/r/9R/w3//f4G/yf/cP+m/+b//v/+/+3/ov9e/1H/YP9a/0j/e/+v/+3/GgA7ABMA+v/8/wAACAANAAAA1f+0/5z/sf+Z/3j/Zf+R/8P/7f/Q/9L//P/H/57/zv/z/87/ff9w/yP/CP9K/7j/tv/D//P/0v/H/87/v/+R/4z/sf8KAE8ALgAgACMAOQBgAD0AKwAwADYAUwCmAMMAYAAgAAAAOwCOAIgAZwB6AFoAWgCQAI4AKQC//9f/FQB4AFcAMgB2AGIARgBMADQAFQD8/7H/AADD/2v/U/85/1r/RP87/2D/k/+T/9X/LgAuAPj/1f+i/6b/7f8IACMAYgBkAEYAgwC8AHgAKQDv/4H/e//Z/y4ATABPAEoAMgD8/wAAKwAKAPz/BAD6/8f/yv/2/9n/5v8nAFMAXgAAAMP/kf+X/93/AAAPABUAGgAGAND/v//H/87/7f89AKQA1wC/ANAA2wC8AKYAFAFqAVYB8wCvALEArQADATcBSwEfAeYArwC/AJkAKwA0AFwAngD6AEABQgEmAfoAfwDo/9X/9v/2/1MAZwAeABoANAAKAPH/9v/H/1f/Mv8y/zT/O/9V/6T/DQBEAEYAgQBMAMf/Lv/n/i7/hv+4/woARAATAAoAOwBeAHQAXgBaAD8AQQBEAKQAEAEuARIBJgE8AUQBAwHDAE8A5v8lAGsAuACeAIoAsQCrAJ4AZAD8/+3/qf9a/0z/TP9i/7T/AAAjAFMAPwDx/8z/xf+8/9L/BgAnAEgAHAANACUAzv9B/zf/dv+M/4r/jP9g/wT/MP+V//b/KwD6/+//AgDZ/9D/NACbAK0A0ACMAFwA8f/V/w0AKwBgAFMADwDx//z/FQAAACAAHADr/wIA+P+4/7b//P9VAJkApgCTAH8APQDV/8z/0v8lADAABgATAOb/4P8NAAIAsf9e/1z/f/9e/2f/pv+6/7r/uP+k/1P/Gv9E/17/eP+0/8X/w//D/8H/v/+//6//Z/8h/wL/1v7W/uz+D/8//yX/HP8p/0H/gf+B/2n/g/+R//b/JQATAMX/jv+R/1P/cv+V/57/nP9y/33/pP9e/+X+0v79/kT/bf+B/33/SP9V/3T/LP8w/33/ov+g/3v/cP97/3T/Xv+m/wIAHgAnAEwAbwBMABUAsf+R/7j/0P+X/7r/3f/6/0EAXABKAAYAq/9//7b/xf+R/6D/1f/V/xgAgwC6AIgALgD4/woAx/9n/6L/EwBkAJMAvACVAIwA1AADAccAeABkAGAAaQBvAIgAlwA7ABMAIwAlACkAEQDd/7j/oP/O//7/VQCVAHQAXABVACkAv/+2/wYAbQCTAGQApgDHAKIAegCKAHoAgwBcAEgAIwDH//H/PwBXAF4AXABrAIMAVwA9ADkAMABEAH8AqwDdAOgAxwBvAB4A8f/O/93/1f/m/9f/+P8RABEAFQATABgA8/+c/5X/cP9e/2v/r/9vAN0A/AAsASwBEgHSAFUAEQDv/yUAbwB/AH0AhQDDAAABAAHbAI4AZwBcAGQAkACpANIA1wADAZoBuwGWAXcBPgHkALEAtADXAAUBXwF+AYABPAEHAegAyQCXAEYAJQATACsAigC2AMMAoACkAJsAaQAeAPP/8f8VAB4AKQBnAK8AzAB2APr/l/9y/2v/ff+2/7//tv+T/33/ov90/5z/mf+x/7z/v//v//P//P8jACMAAgC//7j/4v/r/7H/T/9B/zD/Uf+D/6T/kf+B/xr/7v7a/rn+4f4s/4z/l/+g/4j/eP8e//n+E/9T/0b/CP9I/0//Wv85/yf/Lv9B/4H/l/+g/5P/a/+T/4H/E//3/hj/YP9t/2n/tv+k/3j/Qf9E/3L/V/9///7/EQDD/1H/1v6+/uX+MP9e/0b/Df9a/33/Sv9g/4r/mf+//3b/nv+v/9n/5v/K//r//P/O/8P/x/+6/3v/U/+i/+T/xf+m/2n/J/9R/7r/vP+g/3b/Z/99/3v/g//d/+D/uv+k/8H/k/9l/57/1/8eAD8ARAAyANf/YP9g/8r//v+v/33/RP/w/gD/sf8YADIA5P/D/7j/oP+t/3D/rf/8//7/MABKACcAx//F/x4AYAAgAKn/ov/o/wYAKQB2AJAAjgCMAJAAgQBMADkAUwBvACAAKwCOAGkADwDm/xoANAA7AD8AMADS/47/HABnAIUAxwDvAPgAfwAaAAYADQAaADkAjADdAMEAeAC8ANsAqwA5AD8AmwCMAGAAUwCFAFUAeADzAEIB1wBnAEoAVwB2AGkAjAC8AMcAfwByADkAv/8//zL/eP+I/17/f//2/yUAAACp/6T/cv80/zn/YP+M/2D/I/9P/8f/CAAYAMX/qf/H/wIAGgAAAGv/Gv+V/7//3f/z/08AYgAnADAAeACtAGkAPwCeALEAhQDSAFYBXQEZAfgA5gCpAEgATwCOAMkApADOAOYACQHdAP4AugAjAPr/CAA7AGIAgwCBAM4A/gAfARABvwCXAG8AWgCbAJUAqwCeAGkAiACkAN0AAAGxAFUARgCKAK8AoADtAOoAlQCDALoA+ADmAK8AuACkABwAbf94/9n/8f+t/6L/iv+O/2v/a/+4/+b/pP9T/0T/Vf+O/6L/vP/d/8z/zv+k/3b/U/90/6D/x/+k/6b/tv9r/33/k/9n//n+7v5I/7T/7//Z/+L/pv9V/3D/4v/6/63/ff+i/7j/q/92/33/jv9I/2X/hv+G/3L/U/+D/6T/qf+t/5f/cv9R/1z/yv+G/x7/Df+g/ykANAAgAKL/gf94/5H/l//D/93/3f/r//P/8/8CACkA4v92/6T/4v+2/3v/mf/6/8r/T/9P/4z/q/+g/47/qf+g/7r/pv/K/y4ACACp/23/Z/+i/wgAGgAEAH3/RP9X/1H/YP+k/3L/Mv/Y/tr+Fv8L//n+7P4T/zn/oP/Q/zAAGgBI/7H+4f66/zIAJwApAD0AMAAYABgAtP8u//f+ov9GALEABwEUASYBSQEhAe0AcgCe/z//Wv/x/4EASgByAGQAXgCXAIoAPQDd/8f/XADxAOQAzgCiACkAGgBXAIoAlQBiAJUAsQD1APUACwEbAQ4B7QC6ANkA5ADZAOQAJAFYARIBzADfAAMBDgGpAG8ASgAcAGAApgDfAF0BFAFgAJAAcwEXAlgBuP85//P/oAB0ACkAYgDk/yP/C/99AAYCwgE/AH//OQDoAJMAkf9I/1P/qf/g/0YAUQDB/77+G/6q/iP/Qf9X/8r/9QBlAQMBPwC6/wQAegCVACsAZACgAEYA6P9nAAsBzAArACAA+ABqASQBVQDd/wAANABeAKsA/gAuAS4BHQEJAdIASgBp/6z+5f60/6QA7QCVAHgATwA/AAQAxf+T/8z/NgC6AHsBpQHQALr/zv9VAPP/Xv9l/7//jv8//zL/HP/a/gb/w//+/+//q/8l/wT/P//i/3gAVQBl/5T+xP47/x7/z/6S/rX+N/9M/xP/7v7A/t/+iv8nAD0Ar//f/i7/6/9BAPz/a/87/yP/Ef9n/+T/ZwA9AGL/Mv99/6//O/9m/pD+Pf/H/ysAcgDZAKYAzv9t/7T/CABGANQAJgHfAH8AawCBAFoAbwDbAN0AfQArACkAiADqAOYAxQAlAAgAiADXAMwAawAcAGIA/ACEAfsB4wFEAYoABgDz/6sAQgH6AJcAwwCBACUABAB2/7H/VQBtAH0AAAAyAO0ACwHHAA0Ag/+I/4r/5v/m/1P/yf4c/2cARADC/jH+x/5MAHUBJAFPAIP/Gv8T/7P+gv6m/rz+NP+K/8r/qf8W//n+I/8w/8X/ZwCQAKAAzgCmAO3/RP8I//X+YP8nAK8AbQC//1X/Of9c/7j/rf+6/xEAjgD8APEA1wBKAOT/AgDr/6n/PwBCAc0BcAGxANf/+/49//r/wQDbAOT/kv5D/gD/CgC4/0z/Xv8s/+7+Rv9MAPH/cf4r/nb/fQDm/67+qf2//S/+bf5v/hL+1/20/Yf+uv+4/4n+mP2l/aH+1f89AKv/IP7k/eH+Yv9//1P/V/7g/YD+7f/Z/8n+b/6m/u//3AHeAygEuAK9AWEBigC2/zD/l/+2AK0AeACTAG0AXADx//H/dADMAN8AcAEnAxsESQTGA/wChgNGA3oC2AJnA9gCAwKpASQCVwIDAbQAuQFOAhcCLQICAwQDUAJMAi8C7gG7AZYBYAJ5A1wDCAJR/5P9rf0m/vr9Gf6A/iv+tv1u/SX9Afyo+W74VPmv+l/7V/rZ+OP3evet9yL33PYp93r3Ffl3+8n+/P+p/U39Qf92AKIA0P9r/xUArAH2A+EEaARnAwoCagHeAV0CBgKiABP/O/0c/FL7Sfs4/Av9w/0//0UC9QXLCSgQYhhNHKcXJQ+NCXcIjQhCCF4H5AX2AzcBMf7l+y76k/i4+JT88QOpCigOVw8AEKYPcA1ICtgH9QerCNgGwgIW/+H8Dvvy+Nv3XPjI+BX5h/ld+TT6y/nW95/2uPcw+qT6AfkV92b0dPC37DTriOt466XqBeqe6Qfq/Ouv7djvvfF39OT4x/xy/wL/1fsA+jb6GvzJ/sv+Yv6x/qsA4gPnBJ8ERAMeAlsCFwQNCqsUCCCYJDse4xNeDfMKDQhRAz0CugWCCHsI9gYlBdgBCPz39xr6LAFICCcMQw6YEM8Qhg2ECFgDEf+S/O78M/64/XD7nvij9or17vRX9SD3vvmx/C4A6QPbBSsFvwNCA94D4AMHA6EBVQCe/8f+7/3D/CT7Jfpt+if8Pv68/00BLQLCAp4DUASNBFAEaQO8AgECxwAL/6L8C/uZ+tD6Mfv9+4X8mfzQ/Ij9Tv7S/78B/APoBakGZAe3CWwNAQ7BCiIHKQe0CN0FfQCr/UX+pP9o/iL8hvsz+z/6rvnR+3L/VAEIAPf+3wAiAkH/Gfsd+eL4Z/ia9vv0gPSl84LxqO8j8PLxovIb9M/0tPX9+DT8I/0Q+9b5C/26ACUDEARdAZr9R/u9+4n+DwBy/2H9D/1T/0YAbf6R+636Av2MAHQDdwSFBM4DrwLaAVQBNQG8/7X+3f+/ASQCzgARAGEBjwMtB/UMbRSZG5gfCiBiHn8c+Bl7FWYRRA8rDqULxwdpA/X+Kvv0+J74k/qS/pQCAwayCGAKZQpbCdAHLAa3BCEDLgHu/sD8lfpu9tDw3uxv66HqbOnF6LDqQ+2i7nHt/Ol76VTsgu+t8z/3ePq5+/D5yvqM+vf3w/UK9Hn22fzuAdAAmvgo8zb1P/q1/jUB0AKtAokCOAS9Bl4IFQenA0oCAAXkCGEJngZCAzQA7f1b/Ef7IPmG9h71T/ohC5wkSjetMg4dVQwHDW0WjRiIEngPSxLwEwcNRADt87/nHN723f/qdPylBtkIEQqUDvkR5g9aCvYGQQl4D3gUnhS3EEcL/gVdAYP/N/8a/eT4xPam+hkBqARiAuL93/xR/ycAD/3o+qr8hf5Q/sH9pf1e/BD5UPf0+Gz7iPrt9XXxE/BR8JHu5utP62vrjew27X3r5ecY5CTjW+Wu6jXzyPhH+fX39vZT+hf+HPwH+bn5qvwP/Or3Tvcb+cT5bPhe9wT61v6XAC7/DwCcBoQLdws3C1MMIQ3XCnYHdgd7DaYYhSIMJCsbxg31BeUJJhNuFeMOSQndCh4Pnw7JB5b+pPf69bn5hQAFBrUHVwW4At4DdwYQBsoBrP4yAMYERAiPBn0Arfp9+MT5Uvun+037CftB/Hz+BgC6/3T9Fvuw+6L/CgRaBcEDFQLpAdgCDQNNAfv+/f0//+kBtAbcDVYVFBcyEbkJ/gdfCxoNcwtyCikMwwxhCL8AG/uQ+af4L/cw+Gb8w/9D/jz7qfqc+1f6CPfp9qv6TPzc+PnydO4K69DmWuRv5b/n0ugB6DLmWOdc6RDqtunQ677vUvFV8sT0efj1/DkAU/92+if1uPJs8SLyP/cR+ij46PXe9r751vl5+LT4rPucAecGwQg+CUAIkAnXFEox4U/iUNowaA6BB1sV+hloDlIEXgibEeIPLwQL+JPsTeJ64SfytAsNHCMe4xqhGmkcuBkED9ICuf79BO8NXRBNCPL4IezT51Xo4+in6bftQfT4+nYCTwhDB9X/Jvvd/64JrQ9zDtwJTwZLA17/s/kd82HufO1W8Yf3BvxT/J76zfkd+yT+vQGLBBYGyweFCkwMQgtLCB4FRgXUB3kIyAYVBIkB2/+m/o4AIwNdAiQBmgFwA1MDx//7+5P6sPv3/B39Ff4//77+0PyN+zL6v/ZB8jvwbfK69db3H/ZI8rTwOu+37ZHsq+5m8qz0MfYO94r43Pjo9XnzwfXV+4z/qf2q/Nz9sf4c/4ABRQTHAP35HPey+Nv86vxb+Zv1J/Vi+aL8gfyt/L/9iP3O/eoAMgVZB0QIBgr5C60K+wTw+7fxcuk66uP7hhnVLd4t4STKHp8YJA70BroKxxT9HN8gCiC4GTULAPbY4+ze3+aW8f76dAWiD4wUbBI6DFEFQgFAA6MLRxWUGsQYsBBjBvb77vLg7BHr4OxY8Yj4h/6s/hn5T/Mc8vL0ivr8Ai0RQiMALXcmTxfcC1oG5gAW/TkAcwZzCRUHMQGk+tzz/ez66Zbv6/sQBuoJVQrBCvoIVQLb+sX3yfnw+4H6s/fN9N7uK+Y44GjgzuTk5uDn++qn7jPxxe1v6BHpou3L8m33HPr590rybu7+7djshuyZ69bqp+609eX2B+9v6K7n1Ogk7JvyS/iD+gX56fYd+R4Faxn7Kfg6GVGHWUNFHCNEFO4dPyhqJNIYixP7E90KHPfR5Rjf3tt22YLlVQA+F44exxsfGkAcYB4vHecY2Rf+G/weeRyCEq4BqO9t48rfXN9e32rifudI63vu0/On+G74Cfgu/0wMUReVG+AZSxUkEEwKSAPR+6b1mPHx8BL0fvdm94/zwO+b7y7zZvmFAI8GVAv6DwgUkRTGENUKFgbRA6oC/QGQADf9wPce8ojuae4G8j4ESRoqGmYHSvpoAlcR+BTvEmIRvxATEcoKCgLx+hrzPege443vD/+O/0/2W/Ij+JT7jvf+8i7zgvgt/IP6CPpN+DbvYOPY4Mjnmuws7N/reO0I8JLyNPLI7i3tu/SP/c0CegRPAIj6c/cP+vT9Of1R+s73TfjC+7j/Gv9T92HzfvdX/A//9f5IAMQB3gFkBFwFLQQqA8oBlwNBCtQRCRCmBBz89/k2+gD7Rv+OCosajCVjJk4iOR6fFmMLOAn4FKEf6B6jGFwUfw9bBLj11+ke5i3qKPGx+ZUDyQl3CNYC2wC8ArUEMgenC20RjRV0FiYThQrK/xP3KvOc8/30ZfW09Qn2ivVu82jx7/Cu8dz0yPtmBHsLxQ+RFJUbBx8sGlcRaQzpCzgM8gteDF4M1whUAbf5H/b39Fjzw/I49xz/YQQ2BN4BcwEZAusBOQFaAVQB0v9T/LP3tvO571zrN+eQ5ojpKOoI6LjmreY66FbpaekU7FbudvDz8gP0X/Td8mHx0vLb8rDxa+2j5wnnu+kR68jpaOch55nowO/9+az7WPhu9s76oABnBR8NtBSBG8woP0DYWOpZZDlPFJoLvB5PLTIo3x1jF0oRswS693Hvr+b22uvV9ORCA00aHxzpEnwOWhJ0FzcakRr1GHwYdxx/IPMbSA1/+q3rMOQ/4xrmL+gI5uLhE+Ml68vyKvMl8Ljyr/z8CP8S8hiAGksXMRNXERYQ8AsdBCD8vfjN+aL6lfj8873uhesd7E/w+fSm91P6a/+0BvkM1Q8pD9oLUwhvB7gIFQkdBpYBZv5wBVMUlBZ4BVbxyOzm9Wf/zAULCkwJ0QZ3A/YBJwMHAQT47uwG8DAA7AlRBXL6gvT88v7wI/BH8d3yCvJf71LxxfdF+UfxxucI6DzvlvSK85nwKfC/8MrwmPFn84P1tvVa8/D0TPwnAp3+vvS67RnxZfokAfABJ//V+pP1uPIn9an64fx9+tn45vrG/b39Gvrj9mv3yvrv/UT/rf+R/T34HfNJ8bD23wwOMztQnEkWKCoQxxHUHRQkYSbjKVEq9SJJGBwRXgqY+fHfONFm2/rzsgb6CpEGOQFl/8ICBQmFDjcSbhVFG1Mjbim2KJ8fUBHrA4L9s/6ZAEv7VfCd6BTnzuao5cvlheZB5vDnZu+X+k0DygYXB7wHHwsUEJATihIODsgItwSUAlQB4P1s+FHzrO8h7mPx8fr0AT3/P/fq9cb9EQdpDXkS+RXRFcESfhAKEYwRUg4pBzIC/AI0BfEC3fxK97jzl/DO7mnwUfOp86nxzPB/8yD30veI9bjyxPF88oTzZfMe8h/xie8c7R/sVe1p7gztzerN6srun/Kc803xmu7g7kLxRPUF+dD6ivpN+IT2W/dr+oX8vPq/9pD01fUt+XX77f0RAKf9ivhE8+PxwfO89V37lwXTFyIuvToiNqsl+xgkGFEetSc/MbY1nDL8KIIfbxhkER4HZPfC6JHk4us49xX+w/1P+PrwIO058EL4/gDKBaYHrQokEXIZrx44HZ0WxA6uCQUJYAqpCt4GtP89+LXyA/GA8bbwlO1k6nvpg+vf77H0pPfR+Lz5PfwLAYAGagtsDisOaQxfC+4LTw3pDYwMAwlQBLgAKf9kALQDFQQu/zv4BvVo9jb5ofv//cf+lP75/v4AnANeBSkFKQKi/5sA8QO8BTkFSwTCAvb/jf0v/I/7kPk19r3zJfN/85Hz7vII8urwXe8/7cHr0OtF7ZDvC/E68gTzrfNS9JL0kvQ29VT2gff/+ET6MfsZ++34Yfak9dH2OfgK+az52PmG+ID2nvWC9nj3JPdF9lf3MPol/ez+8f/bAFP/0/sc+t77Rf4p/1H/bwD0AwUL8hN4GNMV0A+hCyQL4w40Fh4eRyKYIakekRzIHEYeOB3VF6gRFw5zDl4RPRSMFHcQWQmiAov+d/1Q/rf+Kv1R+pr4RflL+/H8Zf1I/Lr69fme+ij9CAAoARz/F/wZ++77QP1X/k7+lPza+dj3AfcZ91f3OvfN9j72MfaQ9w/6d/tS+wD7EPuW++j8e//zAu8FGQfPBmoG+wbDBzUIHQgECF4HQgYLBpEGCgcLBu8DXQE//4D+fv4t/oj9MP0q/a38OvyO/Pf8K/x2+pj58PmD+s76nvoa+hj6NPrh+aP5pvk++UD40/Yf9vX1T/XL9H70zPMh8xbzdPO481n0I/VB9Vr1VfWX9T72Yven+PL5Nfv5+1n8hfwq/Un+af+O/1f/Hv+u/uL9A/53/pb+Dv7s/If8hfyi/JL8BP17/Uf+kf8HAcACIgTYBLAEwgT4BZcHaAlUC+wMQQ7vDykR5hEqEn0SJBNvE40TjhThFscYthniGfsYDBjxFpoVORSCE0wTxhL/EIsOUwz7CRcHjwM0AAv9A/v1+QX5Kvj59jD1uPKM8KHvxO9i8HbwEfDW7zDwT/Cq7yvvmO9i8DzxVfJW9Of2yPgh+p/7GP0r/k//zgAAA3QFHAcYCEcJIwqFCoUKhQqKCugKewteDEINmg36DU4OhQ4gDo0NIQ18DEALWQnqB6MG7gQ3A08BBv8z/Wz7b/mm94b2zPXl9KnzZPKP8V7wQ+/k7n3uuu2s7Lzr2+th7IvsKuxK6zbrq+u97FzuSPCs8cXyRfQ39jv49/ks+0P8kf3f/vb/XgAeANv/BADm/17/y/56/nP+EP6m/vv+Sv80/0//2//i/9f/+P+XANIAWAHlAfcCDgTlBDIFGgW2BYYGxwfVCBoK9AtiDpgQkxJlFG4VtRZhF30XNxc5F+8X2BjiGWMaQhoaGaMXbhUOE7ERhhDhDpQMZwoHCSsH7gRBAnL/Kv08+2b5lPcd9l/0DvJB8LvvqO9U7+Lu/u1Z7drsfuxH7BDso+zU7ZTvLPG68hL01PQ79W31PPaB95z4hfkF+yH9jv/KAbsDNAUkBrkGnQfcCN8JrQpzC+YMpw0ODr4O9Q6YDjMN9gv4Ck8KmAmXCK0H+QY1BgAFzgPfAvQBqwAW/9H9pPzj+5T76/qz+Sr47vbX9eH07fPb8hbxru9v73zvSe8i7/jue+7v7gjw6PCG8evx4fKX85j0mfVz9h73Zvet9x/4Nvna+Xr5BfnJ+fH61fsh/Tr+Kf/5/pv+lP6A/u/92fxv/Lz8gv0x/uP+Z/8//z3/I//5/jj+6/28/owA9QITBXwH9ggvCZIJgQrVCxYNCA9tES0THBTFFAgWTxdwF98W0hZlFysYOxluGgEbQhryGDEYwxfbFq8UihKJEAEOJAv/CH4HMgUiAhH/pvxI+tb3zvVh9FHz3vGg8ADw3O++77nvRe8j7svtKu7e7oXv7O+p8B3xxPFP8/L0ifbF97T4xPkL+9D8Bv8sAbUC+gMyBYQGqgfgCPUJTwtpDCoNuA2FDpAP7Q/FD5kPcA/WDuQNWg0EDeULWgr8CBII/wZCBhoF2wIYAIb9Y/vh+Z74GfeI9VD06vK/8bTwL++f7Wjs+Ou66/XrFOxY7N7sVe2X7VPtfu2i7dvtbO5v75nwzfE385L0lfWG9mT3n/eq9zn4ZvlE+q/6G/uy+0j8pPzf/A/9Hf3H/P/7xPut/GH9xv0Z/kH+jf5X/lv+5f5w/2L/af+k/9L/wwArAtED2gRlBVIGVwe4CI4KQA3rD+wRbxO0FJsWkhiNGlYcMx3/HIIcvxxxHRoeLh51HY8cMBu0Gd8YyhfTFSsT6A/DDBMK9wf4BS0E/wHw/gj8t/mk92f1GvNe8PHtUuw96zDrpOtv66Hqq+n56NboQOm46UPqu+qK6+Pske548AHyU/M69Pn0cPbv+ED7LP3j/ooAGQIiBIkGaQioCaQK6QtCDTEOMg/NEGsRRRH9EIYQJBCbDwQPRw4aDeAL7wruCWkImgYyBRcE9wLIASAAW/58/Bb7NPpQ+dv36PVd9MPzD/Oa8YrwkO+R7lDtwuzN7B7tTO127a/tQO7e7jrvie/97xbxw/JW9MP1DvdA+Dj5x/le+hn7wvva++P7sfzX/eL9D/0V/OX7OPzD/Kf9gP6C/p/+7v5t/7H/EwDHAIsBZgJyA3cESgVyBa4EVASuBIEFqQZiBzcIGAikBwcIfgkoC8AM2g4iET4T3RTqFlMZXhtYHH8cLhx2G5UbWBzkHI0cYBtEGeYW3RTgEiARxA4BDCQJ+QbdBaEEQwKT/+T8Fvpt92f15/Ne8irxQfAA8KHv2e437lntG+yh6gzqW+r16j/roOsU7M3sou3t7pPwNvKX87P0UvYz+DT6Ivyj/db+NADYAX0D+wQJBrsGbwf1B5wI9wl+C7oMZw0KDgAPuA8dEHcQKBBRD3cO/w1BDtwNIw04DJcKJQjtBSAEeAKZAAb/uP1K/Cr7HvoX+ab3sfVs89zxFPEa8I3vi+/L76PvDO8b7y/v0+477pftTu2f7Qfu0e5v7/3vMvAu8ADxCvLJ8m7zDvSo9FP1T/a69yb57vmZ+j77d/ta+//7KP3p/QX+A/6+/jn/lf/g/zIANAAuAHIAbwD6AHsBIgJ4Av4CpQN1BH8FXQa6B54ITgldCawJMQv1DNQOYxBWEiMUtRVgFk8XKBiWGLcYvBgWGeMYGhnaGJYYTBhlF5QW/BRqE6IREBCFDiIMVAlVB08G8ARAAyoB+f7f/Cj79fk3+En2OPTL8gryNfG88Fzwfu/u7cLsjezp7Djtce0q7qnuLe+Q70/wYfE28hLzJvRa9dj2gvgG+oT7wPy0/ar+EQBWAdQCVAR/BW4GUAerCOUJqQohC9wL1AwUDd0M1gzWDAcNig3TDdcNRg18DF0LHAoHCQsIuwY2BZ4DQQL4AJz/av4h/c37e/rp+DL3tvVv9D3zXvL28YTx4vBI8O7vfu9d73rvZu8i7zHvte+x8B3x/PDv8Efxc/Gc8WDySPN+9Iz1R/Yk99v3BPgW+Ib4KPmx+X36lvvS/Cb+Vf99AGEBjQFPAawBlgGAAQgCSAM2BIcEGgWkBVYGcwasBtwGtwbrBo4HyggIChQLqgvFDBUOQQ+yEIkRdBLyEqMTcBQ8FcgVIBbSFrUWrBW4FDcUxxPTEuQR+RCeD/0NBA1FDEsLDwqTCFAHBQb9BAoE/gJSATT/Yf1k/JT7XPoK+dv3yPaD9YD04vNC81vyM/FR8C7wHvBc8LHwkPB08Gnw6PBA8bLxSPL88przVvQg9aH2XPiL+Ur6R/t2/M79U/8dAQcDqAQZBnEHsgjfCdcKnAtvDBINpQ1sDvcOtw4rDqUNFg2dDA8MdQv+CjAKXQkyCDQH/AVWBM0CRwHo/3z+9/yC+1761/gn96D1q/M68kDxjvD37xXvH+6t7Z/tYu0M7RXtHu1T7YztqO3Q7TDuSe9X8FjxTvJl8wz0bPQ79Uv2c/eK+Iv5RvoO+5T7CvyH/Hv9pv5y/0QAHwG5Af0BbQL5ApoDvwPtA3UEBgWQBQ4GfgbPBtMG2AYXB4EHDwiGCP8IVgmzCfsJYAoAC9wLWwy4DFMNAQ79DuYPAxAkEDoQbBCGEEkQLBDOD4wPfw+tD6kP0Q6lDTQMjgpmCRIJiAhDByEGXAWjBNEDHwMiAt8ARv83/Sv8ofsH+xj6zvjH99P2C/ZM9bn0L/Q38/TxH/Gx8MHwCfEs8QPxWPEi8qryH/Nw80X0O/UD9vL2BPhF+bb6gfwo/pn/CQF+Ar8D1gQQBp0HBQk9Ck0LCAx+DMMMFg05DVgNjQ03DaIMTAyRC3IKZAmCCIwHVgblBJoDQQILAaL/s/69/Zv8Xfuq+WH44PZB9avzpPLr8YTxJPGv8E/w5++5783veu8m7zHv1u8n8D/wv/CU8YHy/vID9AD1jvUJ9pb2YPcd+Kf4cfli+hL7Ffxp/VD+m/65/kr/GgCiAG4BNgIuA60DBwT3BBAGmgasBsQG/wYBBzIHwweJBzoHrwdECL0IaAmUCXcJmAmQCdgJLgpTCoUKvAozC6MLAQw9DP4M9g25DhoPGA8RD1UP6w9uELUQlhDxD90PKhDVD/IO6w2bDD4LzQm4CN0H1QZPBYQDKwJAAS4A+/5n/Rz8EPsT+iv5O/gO9xn2f/UP9RH1qvT/8+jyDPJu8XPxcPE18Tzxj/HT8Y7yYfM29Oz08/VZ96X4V/r2+2P92v5kAMgBOwOhBLQFtwbjB/wIkgm+CTAKygo+C4YLqgs6C8EKTArLCXoJnAiUB8IG0gXCBJMDnQKeASsAxP6w/cf8v/ti+g75jPfO9Uf0hPNa88fy//Ga8Szxw/DD8OrwrfBP8DDwePDk8Ivx3PEn8tjyZ/P487X0U/Uz9kj3RPgX+X75DfpE+qD6Cfu/+9/8rf2F/k//zv8lAJAACwFAAbsBFQKDAhwDbAPIA9wDgATuBDAFaQWeBcMF8wUSBlQGjQZ+BlIGXQa5BuUGWQfNB7EHmQf8B38IyAi/CP8IZgm+CT8KAwtzC4sLpQtIDL4MeAz2C6ULHwu0CmsKNgonCr4J1wglCLMHHgdHBjAFXwSlA+wCAQJWAX0AQf9v/tP9Qv2O/Jj7/Pp/+sT5A/lT+OP3+fc5+Hv4jfhP+GH4tPhH+fX5nvpL+yv85vxl/UP+Jf9RADcBzQEGAgoCcwLzAhoDIwN3A8gD8QNsA7wCKwJ+AXMBsgG/ATwBXADK/2D/s/4I/lr95Pxx/Pb7p/vi+if6lPkH+Y/4C/g692r2Mfbq9WX1GvXl9AD1r/Vh9mL3wPfY9034d/iR+IL45/gb+Yf5K/q/+lL7vfvp+/b7Hvxp/J38/Pxp/eL9h/4j/yMAFgGsAUUCVwJiAlMCIAJkAjICIAJiAtgCaQPOAwEEDgSIAxgD/AISAzkDRAPDA28EOwXOBTUGWAa7BhkHCgcpB5kHDQiTCCYJegkTCswKVguCC1ILBQvDCs4K6AofC2ELaAtlCyQL+ApECpYJ5AgHCAEHJAbKBboFjgWqBM4D7ALlAd8AVwDZ//n+Dv78/Bf8Cfsc+kP5Tfh694v2qfVI9UH11vSs9J/0c/Rf9IX0SPWQ9VP1O/WZ9S/2ofYK96T3Evia+P34rvlc+q36N/u/+0H8a/yk/PP8Pv2K/e/9Xf6F/uH+GP8E/zT/nP/2/0YAYACpAMMAhQA7AAQAEwAeAPH/yv/k/wYARAB4ADAACADv//z/OwC4ABkB/gD4AAsBMQGcARMCgQK+ApACbwJ+AroCrwJ8AocCUwIZAvABEwIgAhUCDAIBAuABmAGNAc0BxgGTAa4BowE5AQcBggHgAeUB0wHcAfABygHKAYkBXwEhAb8AGQGPAbIBoQEcArwCCwNNA2cDUQNpA5cD1QNSBMQE7AQrBdAFPAZ1BtMGqQaCBlIGKgZPBgUGAAYbBiEG5AWxBaIFaQUTBaYEyAMWA1UCnAEHATAAa//j/mL+dP26/BH8Yfs/+t74vPfV9kf29fXq9QD22/Vp9Ur1T/UR9RP1pPUQ9mP2X/aa9j33qPcE+IL4Ovlk+ZT5AvrX+nX71ftv/F79Mf7C/iP/dP+K/yAARwFMAgIDRAORA+8DQwSQBMYEhwQHBDoEWwSmBBoFMAU0BREFrAT0A60DsANEA+gC8wLNAmgCOgIcAhcCEQKpAZMBRwHBAEQA6//D/57/zv/r/+3/+P8RAEgAPQDK/zv/Lv+R/+j/BADt/8X/7f8wAMUAFgHfAJ4AYgBiADAAJwB4ANkAJgFHAYkBxAGcATkBAwHoANAA8QBzAfIBSgIiAjICUwJMAlsCWwJmAmICUwIOAv8BAwL2AdEBCAIkAvsBewE8AeQAjgBiAL8ADgHoAIEAXgBpAB4ABAAaAKv/HP8p/zT/LP/1/m/+PP5J/jb+Ff4Z/o/9x/xB/D/8P/zP+zX7zPqk+iH62vnh+fX5n/lq+dH5Efpg+q/6tPqQ+jT69/k9+pn6tvrV+jP7nPv7+1n8sfwE/Wn9Cv6d/vX+Lv+V/z0AqQD1AAkBTQGTAfYBWwJ2Ao4C2wJTA9kDCgRbBM8E5wQVBSMF2gTLBLAEmATABPcEEwXwBMkE4QTcBHUEIgQDBPQDpQOVA1gD/ALUAsACNwNlAz0DsQJvAucBKAHbANcAyQBPABMAOQBtAB4ABAC2/2X/cP9R/3L/hv9//4j/1f/+//H/MAAlACsASABGAOv/BgBTADsA1f9i/wD/Ef9y/3L/e/9l/3//qf/g/+//xf9l/wj/3P65/ur+8P7J/gD/Gv8e/wj/6v7q/qP+qP51/hX+3P3Z/Sj+qP6u/qj+pv5d/jH+c/6N/lD+/f3e/RD+Dv4x/pD+kP4Z/tP9Af5o/of+Tv7r/X/9f/3k/ar+RP9g/yH/3/7f/gL/If9w/9n/nP+G/6D/sf/D/9n/2/+6/6T/lf+m/0b/9f4A/zL/lf/M/w8AmQDBAMUAxQAQAbIB4AErAi0CRQJKAi0CGQL9Ae4B6QFBAsIC7gIEAwkD8QJFAs0B4AG5AY8B5QERAikCMgJ4AvUCUwMlA80C4QLFAm0CywJ8BGcDwwOUAv4CbgMUA54D6AJDBAsDsQIhASQBYAKSApwBxgHZAAYAOwDi/7gA+ABVAKL/+f5y/xwATwCG/yQBzAPkA0gDMQFQAqYE3wVLA7QAEP5G/Rn+wf+lAXcBnf66+oP3g/W59h34HvpT/O/9uP2o/A36M/k2+vT7Nv52AAsDbAMLAX//LP8GAJQCxgOxBbsEkQMFAZv+Bv+QADoC/ABw/zX9JPwg/GL8G/up+i769/ny+Z35UPn/+NX4A/nl+VH6+/ng+AH5T/ql+1v8f/wp/N77u/u1+1D8ef0+/if/AADi/8/+8v2Y/Zj+9QBDAlsCdQGZ/+H++P9XAgIF8wVfBOkB7QDpAa0DnQTUBEEFPwXIA9wBgwClAaYCeQNGA2AC9gFTA2QClgFKAH8ANgSWBtsHBgVaAEX8gv2kAh0IPgnwBNH9rPuj/X4BgQNZAtcAjP/L/jz+tv0k/Kf75fs0/+4BFgHZ/VT51/ij+a77Gv2h+8T5pPfz9w/6Q/lE+G72Cfgl+q36zfZn8/P1t/vO/6T/zvw099LysPPH+vsEZAlrBWf9Nfj9+RL+8QJlBfIE6wHK///9uf4lABkBGwFuAXMEEwVHAcj7TPpE/cUCVgYiB/UC+v3v+lP8/gAaBRwFTAD8+p35jvzC/msAfwDJACQBEwKZAvMCoAUTClkOTA+ADmgOFxGuFRwb/R/AIKod8RnmGUIe6iI6JGohCh3rGQ8ZOxnLGOMVphGLDuALoQlUBpEBjf3++qD64/mw9oDxu+w966fsCe7N7K3pvub/5cXmbeiM6W7p/efi5vrm3eho6v3qRuuM61frSuvf6mzqWeoe60zt/u2S7aXsLuzq7dDw2/LK8BvsTu2g85j5jvp79kbzkvQO+W0AIwNaADX9M/vx/5YGMAorCpIEAQJKBfcJlAwtDN0Mjw3VC3IKOwqSCTIMbxP0GtsbkhPgC8UK8RHmHrYmaCRmGt0RchK1GMYhwyjpJlAdVxOYEJcUiBfkF9YWvRI1DcQGNgIdAbcB7wPxA2b+QPZz70rtwO8D9Hr3hfUn7ovnU+aN6j/wZfM182vwwu1T7c7uIvIm9j75m/qJ+VP4A/tpAK4EggZ7BvQGdQmtDBoPgRF7FEQXmhfyFXUVbBcLGQQZ+BfWFs4UWRGIDbkLNwsHCXcEGv/v+vH3QfUg8vzu1+tv6D3kdeC13oHeDN7j2wjZrddH1kbVw9Uw1/rXWdcR16bXBNdq1jLaruDu4yjgANq523zjeupz76LtjeoF6nTw6fgk+y76tfdk+Wn/kQj3DMAJSwRRBS8LtRDrF/kYvxQ1ECkPpBRXGMIashw+HKgb7xwpIH0eExtJHMYkTysCK1YkIB23HWsjIyvEKw8lEx18GDsZxhx+H+4dmhe8DzoMCQvtCN0FaQNEA4MARfv+9UzyGfLy9Kb3NPUZ79vpmukA7PXv3/JK8ofvF+2t7kXyVfUk92H4Gfkk+f34s/kh+4L90ADfAmYCEAHJACsCbQVgCqsNjArGBPQDlAn6D3kSvhF3ECsOKg1oDmgQfRJ/EqEQig2hC7wK3wmVCB8IUQgNBYv+cfn2+D36c/nV9c/xT+4R60jpdumy6QHoDuXU4WjgVuD6373fAt8W3y3eptzb2tjbmOCJ47fiUdxG2gze9eOf6EvneuV25GLmIuhP7A7vHPUM97ryK/KT9ZcAlQVBBKsAvwDbAqQHLg05EoQVEhNtD2gO+BToG/saGxi3GIghNCjKI5EaKRacH8EtQDM5K10iyR1jH3Uk4yloLCklCRw6FqAXARuqGgEWyRFMD64LLQRQ/OH81AI+BBj9U/Nh7mPuoPCg8xr1WfKO6+3ml+j47uby2fMt8i3yU/Nu86LzKfVB+mv/uADG/dP7iv0IAqQFqAcqCIkG4gOXA9gGFgvgCw0KugpJC0UJpwYHCKsNOBFTD2MLNgkFCSMKxAsSDvcORQy/BtcD+gU1CGMGOQPiAIb/GvxG+Av4Wfkg+YX1r/Bx7aPsY+y07KHsXusC6VblDOPU41nmNuaa4qff6N4K4Sri7d9d4LngiuGd4K3cId1a4ibnrebr4mzgjONG6d7sQ+8O7wHt8e0m8aL3mv25/kP8G/52AtQE4QQVBR8L5g95EPoNSw3cDpsTARhfGggbpBvwItIl1h3zFNEa6ixaNQ4uNCMnIIEj/yb9KUYr7Cn9JIgcHRWFFt0bjBtWFWcPSA0RBxv+RfyqAhkGzP/u9G7uGO4Y8IPys/Jq8cruBOuO6PzpUO8V9O/zDvEG8GnwhPHv88z4qP7H/z38X/lC+wcB+gUNCLwHbAa1BHoEXQa+CRUM9guoCawJZAxJC8MH8weYDecQzgw4B34HvwoXDNULbAvTC7YK4wdwBVgGcgg+BmoB0v4a/5r9qPnJ9+v4v/gZ9NXu4OzA7STtYeoO6Ivnk+Yc5HLi5uMZ5U7juN8K3oHff+E/4dPf/OGW4m3hut9k4LbkOefa5RXlaOeV6/Htb+v16gvuPPSx99T3Dfiw+Ov74f7qAqwELwaxBwkIJAmoCTcNbxFfE3kSbBDdD+8SlBgbHRolNCdPHD0PbBK9KAI3cDDBIfAdcSLMJlMobil/KikoPiFlF7IVlhquHKgYCRXaEyEN5gAy/J4DjgqlBor6SfFa8LDzOPe39qr0K/Kg7vvqPOoS79fz+fR48m7xSPLj8mnzwvYM/gECzf7M+Jz4qP5fBD4GBwYvBogFSwSHBAgHTAq2CkYI4AYMCc4K5QlECDkIqwo0DGMLRAr5CXQK0AoPCpsJwAlOCW4I3QcnB20FWgNIArMC9AHU/uX5s/fD99L3EPbr8dnuOu0x7IrrM+qb6Enn+OQj5KbjVeN94jvhk+Gv4TzgJd/h3lLgWOIG48Dgzd6X4RHkpeU45THnEemQ6iTqKuyW72jyjvWm9UX2f/UC+Hf9SQQmBiICHgAEAysKtw6hDmYOAw4+DssOlBGRFRcYihkaIackERslD94SsSc2NFguqyCfGv0c/iKUJzUpfSjQI2IbKRRiFhsdEhxAFc8QoxC6CgYApPx8AoYI2gSQ+sbxie9H8cT0OvZB9V/xuutS6DPqSPCu9Ez0G/EI8EfxD/N383T1m/ry/T38PfjH9+D7CQFdBBMFKARbAhsBdQFJBKIHaQh7BlcFWwc0ChoIowSLBtAM6xBjDcAHGQb5CSgOZQ97DcEKMggmBioGvgc1CL8FLAE8/rL9L/yR+Ir1Ifan9nvzr+3l6pXrqewK67Xox+Ze5Mji5+Ka5MLlG+Vw4mThEePU4+HjT+Qa5MvlyOTi5A3mzed26UjrIe7E7/ftO+uW7PHyFvv1+lr4YPVN+Mn8sAGzBL8FxQVqBPYGRwuTD4YQ9Q4xDm8R3RRtFi4XTBmbIL8mRiCVFJITpyT9M2sylSYfH94fPyPJJzEsPi6eKLkfjRiZGZkeUB+iGUETvBH7Dr8FFf5GAHwHkgcg/qvzW++W7zbyJfUT9ZzxjOtW5wPnVuxI8gLz1e6T7Izuw/A38S3yCvfc+2D8X/kP+Hv6lP6QAtgE+wSEA4ABzADBA3cIwwomCR8IRQwiDrgKpAUUCOgRORenEosL9AjCC+cQRxN8ExURCAyCBkQFEgkTDCMIEgE7/Qv9uPrQ9Y3zRvWT9ZfwC+mw5TnmR+dl56XlyeMS4AfdQt1R4ffjxOJB3uzbBt5O4Rzjm+Mk44XjD+RF437lg+YW6YjrLe0g8OzvV+1Z7WvwB/g7/dr7kvmC+Xj8UgFLBGUG2AdABskHzgi8DK8PVw/hDr4OFxG2FN8YBSGMI7oZQw5mEUolyDOML+YjtR3hHW8iJSbOKk4seyaRHG4VXhe1HaEdBRgVE5YQnwvwAQ39xQDQBcMD4Ppz8djs5eyu75TyCfOd7zfpgeNF4xjp2u9S8WvtQes37LHtY+5U8Z33Wfyc+2X4ifdR+hr/7QMXB3oH0AUfA4MCZwWbCncN3Qz2CysMtQxaCmoJhwzbERsVCRICDREKqgu0D18TqBMDEDYKZQWDBeoHtwnyBigBDPzP+en4AffW9FrzKfJd70brTedv5R3lQeb15mTlveKP32beFeHm5PXmvuP63wbfk+HJ5QTph+hi5sLl8eb66bjrTexT7ajvzfGp85ny1/B18YD2CfvL/uH+uvws+8T7vwA6B5sJhQf4A1gDbghaDdUPpg6nDYMPihIWFyofRiDfGCwQkRUYJlcv/irkIRoeOh9UIjcm+ylEKG0icxq1FkwZ0BteGfUTPQ+cDVsJjwEL/Qz+pACJ/t/3zPBn61zpLuvx7V3vHey45vLiMuOa55PsHu046gzo5ugg6wnssO5w8+X2LPgJ+ET4Yvoq/TwBXwRiBTAF9ANeA1wFqgmYDeUOfg5JDg8P4A3oDCkPzhLLFmYWpRIhD5QOrxGWFUwWIhNZDsYJ9QegCLwKJQrwBPD+uftJ+yf6Nve+9PHyAPEy7Q3pA+gZ6EzoEehH557mu+Ty4svjA+e96ffohufG5cPm6ug/63PtWe/y7yjvruw57Gnu3fKt93/47PeB9c/0QPY7+hD+sgFTAoYBgwDkAFwDgAbUCfALiQv6CmELYgzrDbMO0g+/EK0SnxPnF3Efnx+WFQcNRBROJT0vWCvPIkMd7Bs+H5EmUS00LRMlQxsiFnYZzx/2H9gYdBKjEDkNngZBAhYDegSsAZT7X/ay8SXuh+377w7y4vAH7GblH+Ll5STtJ/Bi7f/pJ+kV6g7sYvDo9cn3ZfZT9eP27PnS/Mr/rwL5BBIGcgWrAygEhQeFDA4Q2hC/D6gMoAoyDHcSVxhXGG0Tvg6GDesP4BK1E+gRpw0OCSEGSgX6BaoEngD0+8j4EfdD9D3wNO1E7C7rfugB5ULi4N873/rfTuGZ4bjf79wi24HcauAl5IrkK+M+4u3hceP/5QLpkur86VXo/OaG5wzqb+1o7z3woPCG8X7vQfAt9Of5EP5Z/o372vmz+dP7lgEzBukIDgmlBkcEMgW8B1UMvA7PEK8RnxBLEsQY9Rs1FyUSrBhUJJ0pXSeHIgEgth41IUUnpCyrK1Emkx5+GkkdxyKOI1QceRXAE8kR+A0UC4oKKAl1BHgAK/76+un2fPRk9KD1mfWL9Pvv6upp64zwJvT685nyRfIt8h7yq/Up+gT9uvzT+7z85/4oAegCqwN6BPEFgwfDB+4Gwwf1Ck0NBQ4CDZELGQtMDNQOJxGaEjcStxCuDoAOUw9eD8sMfAmUBzMGVAS3AS7/7vxe+tb3PfX98QfuVupz563m2+bJ5uDkNuHf3iTe8N5O4HfijONB4xHhY99x4HHjNuYT6EvpUOj65vTlIOZv6Lbp6usE7pruAO4a7p3vFfJS9iL5qfpQ+VD3zviJ+17/KQIwA7ADHANLA2wEzQbTCPkJmAkdCeEJNQt7DbkOvhEbGPwbJBj1DjMNKhcEI+wnhCbcISUc3RZDGOEgqyjxKNIg4RZGEq0UyRgKGIATrhBUDhkJcAMmASEBTP/N+xT7hvop9yTxS+wF7LLuRfKv8lbuTel46OrqaO2S74Xy1/OE8WzvqfF19uf5LPu+/LX+vP8YAJsAFgF+AhUFjgfBCBYKyAsPDCYLaAvcDt0RIRLaENoQPhLrErYSvRLkEoISLRELD1oN0Ay3C7gIdgUoBDUDKQB7++j3YfZH9OXxEPFp8PHttuk/5vjki+UV5lPmjeVF5WzlYeSa4ofj1Oba6j7sG+pQ6P7mFOcw6bPt4u457n3rUup57Erw+vPV897xT/HD84b2afhp+kX8Tv4g/gz+tf4uAVIENgcICpQMzgxoC1sJWgqbDgsSDRRjF+kcBh6PF2MQHRP5HY4njCjWJQgimB3RGpMcmyKkKIwoBSGhGFAVuxd+GGEV6BF+EJENtQdXAqYApP8j/Uj6svjw9sHzgO9962jqqewl8EjwNO1m6oXquOs/7ezvyvMg9ePylPEz9CP44vq6/F3+nP9rAIQBEQLdAokEGQfXCBgKQwzRDjkPDw0oDc4PHRI2E3oTpBRUFZwU2BO+E6YTbhKrD1ENUwzNC+wJ/AW6AmoBRv/t+hX3ivXx8hfv/Otm6jnpd+eb5gPnrufG5fviUeFJ4v7jyuRQ5YDlWeZw56Lm7uUc5rLntOnD68Pu+e/c7/3smevT7CvvNvL79DT33vZl9hn2o/ap+Db8EwDCAWQAwv5H/qAAEgZ5C6gORw64ChcHggaqCVcPmBIAFNUVERvQHkEb1RQWFN0ZSyGlJuAoMCisIgIchhmAHTckdSdmJBAdPRYlFBoU4RF9D4EPoQ42Cv0E9gHA/uz56vXZ9Vz4sPip9bHwr+su6drq7u3U7+7vRe9K7drq4epL7vvxffM89IH1c/eR+Nz4V/mr+vn82f92AukDvwPhAt4BnQJzBhQLKg0kDIoK6gpQDEsNyQ4DEI4R8xFXEcQQ1w/ZDSoLXQn2CKYJuwggBVoAuvxi+rP3VfUv9G7zofGB7lfrqOgB5ZDh0uH344XmoOaa5AviAuHM4UXjLOSY5SToH+ll6TPnCef95bHmzukC7k/wJO+e6/TpZ+sB773zj/bG+B34T/bn9KL1X/kJ/b8AuANlBroHAAaJAvwCTwbBCsQOeRDaENkPyg1kDD0MQQ6CEgMY/R0mH+Ua5BRBE50WwxtTIIckmSVDIh4dDBrnGj4ccBzfG2Ib0Rq+GMsTGQ79CV4IPQeABuAGRwZxAiL8j/Y69Ez0D/Xb9ab1gPSd8izx0e8F73zvtPFT8xb1xPax9xb2pfP/87n2Ofq6/Mn+DwD4/77+IP5x/sH/gAFWA64E0gXXBb8FXAXhCQASIhHPCyAFfAdgD+oTGxXaFdIT0Q40Co0JywzfDJ8JTAXRBLEF/AOE/Zb2Q/Tg9Yrz+PBP8NXueutg6P7oQe3m6xXm2+MR5K/oXOlV657rHOml587maOjK7Bzuge0O6gzoyeqw7PXvcPBG89T09PHN7SDtMvBz9A759v3t/6P+Kvv39773r/r3/mcDdwbPCT8M4wuNCf4FOgTkA4MFaAlMDwIUvxQyEdAMNArmDLYSUxaHFjgWbRgXG5kbLBwKHTMcBhu7GgEdeR8kH8Ub/hb/EqMSKRRBFMkR9w6XDHAICgRKAkcBlv4q+5T59/mQ+Q34mfWX8zTyCPJE81302fNN82zziPO/8wL1Nvff9073ovdb+Yb6pvrB+i38hP0i/sn+r//+/1P/BP+g/yEBgQPyBNQEqgTBBcgGjAfsBwMJwQo6Cy8LyAtBDF4M2AtPCqMJAwkoCC8GKwS+Av4A+v0d+xz6Zfqo+W33fPSY8RLvGO7u7MXtAO4c7ujtFe327tjspuuy6Yrrv+w67+3wUfPT8/jz5+//7EfsPO9Y89zzxfeW9qP29POa85TybPMQ9gv7HQFsBL8Bt/v+9U32lPm3/kkEAweFBwUGVgQmAaYABwGGAeoC/gWqCZYLFAu7CH4GDgTxA8EDBgV7COcO7BM8FTYTfhAPD+EO6w+lEpkWdhkgGw0cvRwwHJQaCxciE3kQKREvE/YUDhXfEwoRQww0ByYEZAKDAPX+o/57/6L/7P4y/F74EPSw8XDxCfMy9Tj39/cg99f1NvX99LDzmfIJ8770J/cz+b/65/vC+y/7gfq8+bb4H/i4+Gj7AgBSBJwGWgaZBUcEOgLbAL0B3wRGCC8LuA1GDzgO3gumB1YEFAPeA+gF+QaBB3gH8gRkAOz8ZfoH+Iv2/PXI9rj3Vfc89u/zF/IT8KfuUO/172LwWPGJ8T3yfvJ28r7vQ+8g70H0gfdM+vL5bfe29fPybPTL9Hb3xPmW+9z94fzj+WX4Hvdi9+D4ovjv+kn7JPxL+xP8d/u/+078rfwx/mj+Jv6t/Uz+tf7x/7gAxQIVBOcEkATcA9sC0QF2AiQEFwcQCT0K+ApKDGQOQBBMEf0Q4xAlEikUQxYOGJcZYxr5GjIbLRulGkgZmxaXFKoT3xNRFBoU5BKyEHkNCAoDB98EaQMgAhQB9v/5/o3+Vv2v+i74T/a/9eb1tvWk9VX1ZfUL9QT1afWY9CL0jPJG8zb0UvYv98n3O/jd97z3nPhX+lD8FP0u/cn82/zL/vUAtANEBY0GTwZNBp4FewafB/YIGQl1Cb4JuAjxB8oFZgQHA4UCkAJwAcEA7vzQ/Hz5rvks+Mf3Tfjq9Wz4E/c5+Av1lvFi8HPyv/Xj9q/3Lvii+Bb41fbJ9KHvDu9l7tz07fis/i79Avol9ZLyGfGb70DxOfNR+L327vn69cT2xvPN9Fr1ivh29zb3ePfH9TP5APg6+/v5Mvy5+13+8v5z/rP+Df3H/Fn+NgC/A3oHWwlUCSIHAAXiA8gD2AJHBIsGZgmrCgIN4wyzDOAK9QoIDLQNFg/MD0sQExGKEh4UnBWXFg0XpBY1FZsT0hFMEdcPpg7LDkoPSRBpDxsOHwtCCKgEzQFXAB4ACgBNAfEAawAi/uD7x/nD+OH3GPiq9w73h/cn9933YPeI+L73pPc19iz2bvYn9+z3ZvdX9yr4+vqi/Kn94v0B/gz+y/4u/84AjwFhBM8EAAZTBQsGRgXOBbEFhQXIBj4GQgYFBAAGQAYBBwADGv9N/av9FQA5AIgAZwDvAC7/Rfyd95T0t/TW91L71PyF/Hr3Y/a981/0y/Sv9aL3vfb59oX0yPZs9jr36fbn+AD61vfl9MjzOvbZ+PL24fcK99b5pvfg9jb0r/U+9MP4RPoF/rL7yvsn+gv6a/oY+oP6dvrs/ET9ov8yAAQDDgLzACX/vP6F/gcBJAIDAsf/6gB4AmUGtghvCWQHZASpAYwACgJGBQMJ/wv5DB0L0gpKCqIK9AtlDfIOJw9rD3MQyxEPEnETkhOJE1YSHxKCEkISSxK1Eb0QWw6UDLwM9wzSDCAKXAiiBZMD4wHg/xMA6v5GAEX+nP1G+sT2YvVE87n0pvQ+9vr1zfYt98P1pfZ89Ln2WvX59vb2Lvi/+MT7Wf59ANIAjADFAEABNAAPAOgAIAJBBYUFmATOA1kCQQWEBnYHBwjvA54ALP0S/pz/wgIZAnkBVgE0ADkBtf5++1D3IPn592P7EfzN/nL9NPq/9bryBvJn81/58vmG+gn2rfOB8lj2/fnF+vn3zvVc+Jv3dfQY82bvg/XJ+Tn9V/mj+Wr5IvnY90D4Dvdg9wf26/b3+S3+VQJXAob/m/x7+xH6rvm++Vr9Hv9iAPL9kP7F/Nb+DwAVAuT/oABt/vn+UwDMA68FQQWpA/MC7AIAA1oDdAUgB0sImweXBXkG1wVrBdkFBgeQCWAK6Qu4DSMPYg9oDk8N5Q5HELISnRH3EQsQ+A0vDEMM3w5nDzIPqgtECmgG+gOLAf0BGAPpA4wCYv9N/Wb+n/6d/uv9U/1G/Sn8AvqC+Zv5kPmq+0P8L/xM/GP9NP9EAPX+5P3o/1kC/QFTAwoEoANZAl/+zf6KAHECuAMHAbMCzQHLAhv+1/2TAFwATv5k+Rr8+v2PAakABACI/ef+cv2g/aH7BfuU91bxqPIo9Cz9Cf0Q/kX3OPS68iH24fde+MD5jfMy87n0K/kF/hoAsf/R/aj8Hf0O9+/45PW5/gj+/gBY+873WPY69lH6tv/sAvoDu/1I+F71SPfd/FH9+/7R+9H54PoeAAUBvwOd/pn8lfgC+lX6xQCCATkDYQHl/osBWwI+BC0EmwWhBJ8CkAKt/3j/hQCLBE0IgAtiDGcKKQUkAZMBhQRjCE4J0AqNC0cOMQ71DPQLCQsyCtUKVwzyDXsPWQ51Cy8LBAzvDcMMSQ4YDZ8OMw1gDLALdwmwBj4G7QOWBBkGngU5BncGIQZkBH//dvxZ/qD9vPoU9qL4Tvdb/lX/vwAz/fL2mO+C7zH05/h7+in3tPjY9Jj0pfbJ9/j1RvW28J7xU/NT+nr3qfhK9732O/XF8nT14fQm+Rr6vPw2/CT8uvxa9Qv40fM8+wj8MgBb/koA+ABw/7v7Zvzv/fb/C/0W+oL5x/qx/1YBJgQnAkQBHPr++j38lwWYBB8DwPw2+qj+tP2XA+cBJwUmBoAEPQMzAe39ePwkAgABZQiuBiUIw/zM+i38r/9ABkEAdAPc/iACXgP8BQAGngNiAtX9N/9G/88EQgOUBhoDcAZbBzwG0QaGAVP98/wEA40GiQabAn4BRAAZBnMHMgpwBioD1wMRAJX/kP5fBCwN0BR/EswFMADY+60ACALeBh4HYgfnBq0HwgZVBUkBcgBt/63/wQDoAJcFOAQPA7YA9v9CARX8Ivxx/ncBKwBh/Xf+7v7k/zEBuf7u+yLyMvIO8iH2mP3X+uoCJv5dBED7+fZm9Mzwn/fB8Lj3qPdUATz+f//l/gAAtPpa9pz7Ifj1+XnzVfpe/A8AngHrAz0F7wBV/zf4QPa++VL7Zv5a/e8AQgNaBoQB8f8//CgBXft5/Vn8KPuv+in8IgT/ATAFEQeuC4IEk/+g+nb3vvf2/TcGbAhGCL8Dbf5T/8n+MwbkAxUEoADnAeEEEQKFBOQA0wMLA1sHXQaEBuID0gW0BskCIwAAALYD5walDRgIfgIM+Xr3UP4IBYwMtwaG/XP2bvhs+9cAFAbVBYQL7QM2ANL+5Pp9/x34NgoxBJUKPv6nASACIQYTCvgIngbI+OMCl/VcBT/8EgmTA3gFTgL9+2L/AfmpAcQBVgj0BggF0PxQ+anzhP1Y/Y0IpQPNBDf/gvvt+jn/4QJn//f8xv1z+6P7If1p/YoA3PsKAtj0qPKn7B/4cgDnAUMEq/3q+TH5I/1w9nP26vd5/dX/5vwG90b4DvSm/wQD+grkBbv7te9i68DyqvzS/7P+T/h4+sP89AZ7BtgGQv3n+1X6CfuvAOv7SwPm/4UEvP5sAbQBdwRPAPMCF/7P/kX+VwK+AkAGTQg6Bz0IuAKeAScAYAC8ADID+QKnA/IBzwQvDNgJTAUHBrkB/wHX/a8CAAGIBY4FlwU9Aj77xPtK/0oH0QgNDf0E+P1M/7L4LP2XAhcJighBBAj8Zv6Z/54BOgLCAeYC1QgqA2L/9fyl/ar7R/4ZAV78xf/l+eQAugL7BngAru/G7wn28gGh/pMBcvpVAm/+JgZuATsAp/Yv8pv6NvyQCfMCQgHD/Mf5BP8w/+f9qQYuAJoGXv1q/sb49fcA9mv8ZwOKAMsELgXJB9UD0P+A9Of0ovUI+sEA/wP+DKASkges+6z0VvMH8yf3Rf4+BNcDlwNk/Ar5A+/r8aT3pgKgCLoH2wC2/fn7Rfle/BX8T//y+SUDvAJPC6MBPgEk/OADrAQKAmwDuwMXCfj/pPox+/kEmwL1Bb/9OQGI/VX6MvzH/1wNUwp/DQME3QBcAwP7xP4S+3gF5wTKCk0DkQb1/G74Pvlq+zMGoggME+cO4g2v/yz76vd8+aL82fyB+kD4lwN9A0QKHwt4DDYHhwRM/wb8i/Fp8wT4Pv3HAuECOQowDRgUDQi0/Vb45fYE+j/8mATrAW4BXP+i+lwD0QSyA0T6+/Yj8/L2gvNZ/M7/s/7z+gH5TP7A/DD/evwe/832QvZi9176rfxRBagHEwoHAyMA7vde9/L4sP0vAgAD3A2vAFgDU/+mB6wE3wAn+nfu8e4p8IoDwgaoDKQFlPvH/zL8ff8Z+2MB7f1s+T34mffOBUIGEgbnBN8C0v59+jn96QMVCX4GMgIpAjUBawAu/87/5v+R/SH4mPi5AcQJOQad/ij+6QETBaAAPv0e+nnzsfez/gANdxAiCRIEcPqC/jT/zgOJAiAFPgYDApP9TPnq/EgD5gNQCdAHiwRT/Pn8cP3g/4v+pvpeAyIJ/gzBBfX8Jvth+3MCLwa4CJEGUwNlAZUDEQX3ByAC0v+4/In+dvpO/hUCdANnCJsFfgYh/dv3n/Kc+Bn7JwCu/qD9gwJhAdT8v/ZU+fL2HwHr/4YDT/88AX73rPRm+cj7P//K+wABxP66AmIAlPsI90z6LwJw+MnvC/M690f+0QbpEnoO1wVX+pPzhPOU9kr1G/Sy+CkChQqkEegROwij+wTwqfMU9uv7xAEmBqwQAQ4jDQ3/+wEw/Z/8RgC9+7H8/veABK8FCxCrD/IOpQgi/pn8U/fH93jygvZu/TMJVhLLEwoOVgg4BAv9kPmq94b6Efzb/xsBIALCAmwEgwr0DUMM8wKn/dn6IQE3AxL+IvfC9HH8Ygf+D2QR4wtEAZr9/vdH+dj3E/yc+1n8IwW8AksBUAKMApQJJgHNBFL50PyR9pT8OAR2AoYIxf9PAQj6kPxm9xr9sAanBtAHXvy3+wn4zfZ09YL48ARsAz0AuftU/qkA2/pa+nn9ywS6AHL9+PgB+ecBvgQSBh0EXv109S7uFe/p9un9UQVeA6cICQbYBKv9NPfw9JfzqvSc+2kFAgjxB2UDOf9MAOYAlQCUApAALwL3/mP9x/r5/t/+vwFYBqT/PAHw+2f/Pv0I/p4AYQOwBu4BPQIk/O777vvV/24Iyw6fENsKgASv/Az+/wFBB+YKMgrtCIMHXQteCAsGa/p/+oL7d/4ZAgwEKQWpA9QAnv8hAfoAgwJl+vf5fu8d8RH3nQQvFakX5BInAiv6RPE18QDuRfas++0ARAbgBiYLBQQCA0X5sPPD6xnq7fDJ998A1wCA/u73yPH17W/0Hv9TB4IIeQO1+zL1sfJJ77LzWvgLAaUGWgj3DG4L1gfx/6P5APME86v13PuXBTAIDwplBWMDJwDH/zYAvP76AAz+FQC1ApMIbwwCD6gHWgAw+NL3eftwARUJdQt8CZsC6/s3+H77vv7uAXcB3AFEACsAGgOxBU0GcwRtAuL/sf9VACAENgdkDEINUgstCT4GlgalBhYKwgtfDnIPVQ93DcMKqgkACu8KlQqOCsYJyQePBoEFwwPDAxwFoQasBMX/p/tX97H6Zfvv+qH2dvDr82P2gf+JAisAd/tK9QvxY+yx7Tjy4fdb/DYA0P+Z/Er1kvIS8670GffF8gfzo+wC6y/qpPAG+jv/CgCu+fn2e/Gw7pvrue+f9in8gv7B/4sBiwG6/0T9xv3kABwCCgLS/3v/3vvY+Qz88v2/AYMAZgJzApgEAQSlAXf9f/gL9qL1g/dR/UID2wcVCWMIrwW5Ac79T/o8+yv+twR7Ch4RDxlvIBkk7yEmHe8U6Q0jCq0MYhMsGtIepCDzHlsaaBNTDAAF1f9h/bX7BPxk/Ln+4P/m/7P+w/wS+Wz0i/FK8lL0rfd/+nj8Df2J/CP90v6//+b/3P6//dn8AP1+/qYArwK5BC4FdwMUAbr/uACJAkMEMAV3BgYH/wYVB0wHygXhAoj/PP4//4sBUgRBBbgFvwU+BB4Aj/v+9xb1nfTr9v76EP73/r39+PrF9TjvQuma5wTpFe1h8XP0E/UM8l/vN+w26jnpIenM6YvqLu5K8MbxhfLQ8nTzl/K/8YHwye877pfu7u8S9LL4R/t//Cn8N/u8+RP35PUZ9sv32PtcANsF9QdgB5YE7gFlAbYApQPDCLUR4xiYGnkaQxsnHqcevB3BHDMdrR5DIHMiriQ+Ji0kfx6nF9cSVhCRDaIKoQmjCTsIeAWhAcr9gvlG9RfyUvFF8tnz6vXo99H4/fmO+lL5IPdY9vP3Jfog/Ln+QQI/BR8GrwWUBJsCSgDf/uz+RgDVAe4C6gKlAWAA8v75/Gn66/i2+Mz4mvjh+az7yvtl+qf4yffx9yX40fjE+Xv6i/sN/aj+pv8eAFcANQGbAvEC5gKEA4QGgQo5Db4Osw5sDQ8MCwubCpMKSQmqB48GVgZCBjkFhAO8APT9YPzx+gj6X/lA+Dr3Ffde+Jj4hfde9U3z7vKM8j3zb/Q/9aD1T/W+9JPzlPI48unx2vF88oTzsPMH84Xy9vFl8V7whe/U7+LwGPMg9Rf3ZfhE+JT3RfZP9Vv07PRs9mL34fd0+Bn54/mf+UD4kPUN82PzePUj+K36zPq1+0IBugykFg0XTxKsEH8UcRoAIaIoCS6iLzYvOi4ULUoqNCVlHoUYgBgFHV4eHRpBE/UMWAZ4/476kPfR9P3xJPEL8yn1V/XI8/jw2e5g8Fv07PcD+VH6CP7DALIBswIHBGgEVARdBkwJDgutCsMIFAagA3EClwJfAQD/Zf2w/Zr9Nvz7+Tf4Z/WP8+LzJ/Xe9lv3B/g5+F744vjs+Sn6Yvo6/NL+7wDAAlUFWAYTBfwDxgPWBH8FngVWBv4HUw3DF7ggIR6zE6UIHgXDCLINbBLfE3wR2AyzB6gEIADN+SfynOzD7mf1Hvpg97nvfekW57rm5uj1697uye+N7/jwLfLK8SPuK+oZ6iLvjPX0+HP3z/R88tvwX+8c7nLuPe4675HxK/Wf9yX1au966nbphOx98PDx0/GK8Cbxn/Ie9TL3EPb687zyv/X7+cP8dvzV+3f+WwkTG9wm3SOKF24QoxU/I5kxAjqmOYIzWC2HKjYq2Ck3JvsdxRZWFyIdkx6mFDQFNvn889H0UPe7+G72ifHj7SntH+7s78fwue/h71r1o/34AUoAAP3k/Ov/owRnCv8Nqw0DC3AIFQe0BksGZwXxAtQAmQC8ALn+aPkb9CbxjPCn8YjzA/SH8qjvIe6i7trv+/Ef8y/0avb1+fb9qf/N/lL+x//QAkAGhgijCZEIAQcmBg4GvQZ5BqMEzQIBApICZQODAnQAkP5H/s/+DwA+AdkDLgimD6waQx3yFx0OvwhsDqAX9SDDI18dDRQvCWgC+ABPANL+zvhm9OfzAPM87yPmad/Q3svgqeQd5+rmXeVs4mPiVOU16ZDtau9m733wEfIK9Fb0U/J48of04fc4+eH3qfU68oPwmvFE80v2Efew9sz1+PPv8yb01fP687bzxvQi9/z3SPi696f45/nh+aP9wwoqH4Mqjx/VCukGjBmAMcE+bkEcPFAxqyZfIuUm9C7eMDsoBBuTFEwWhhKNBKP2MvMj+Nv61/gq8yDrIeTy4LvkBu2F9Ff3ifSr8JPzF/xoArgC6gI1CM0ObxH1DyENewvMCpEL5w2pD5QOYQi6/1/5j/g6+x375/az8hDxcvA47zbtv+tV6yjsEO9M8uP07fUs9pj2nvg4/m8Eygb8BYMFfAfhCWwLxQwqDegMaQycC/kJ0gdMBewCxwAc/wD/lP6J/IX5E/f29t33Z/ik92/3Bvf5+QT/RRYuK4ci7gTK6XP3nBrvMoQ33yXjDrb/KvhBAKINHRV2DL/2CexG8P/zb+uK3PvdOu0c94Lz5uSS2UbXNNy46UH3+fum9+vpl+GA5yv1y/5I+kX04/b/+yj7PfNe7oTxpPdC/f3+Zfvq9I7tpOuW8Vv8PATSAP322PF09cT7bf4V/uf9Df/bAG8Asf4E/HT6DPzP/u8AcP/y+a31AP07DzAjJCduFaD9FPgSDh0ueUEmP+gt6xqiEX8W1SNKLUcsuiBYEvUK+QktB+X+0ve8+bwA7gFh+Mrp4t9U4GzpTPVK/BH6YPI17IztvfZFAjUI9AbKA80ERAjICMwFOAS5BgcLWg0WC0sEtfts9hP3EfyFAMP/rfh37wbr/u3r8yL3t/bk9eL1IvfR+CH6a/xi//wCZQa/CAAKcwmQB7gHOgvtD2IRWw7NCbcGeAV3Bm0HAwcVBUgCbf+6/KX7nPsd+5P6FvtX/C38Uf3S/9X/hP15+77+IwWgCvMMTAx8CbUHugfKCK8KpwsaCj4G5gKAAdkAZP6O+kj48/dl9mfzHvCF7dzsVu5a8PbxTfH37zPv+O5+8S71Q/fK9kb1GfYi+Wn6Avoz+Uj46vkB/Hv9v/su+GL1Z/VT9/X5XPql+EH3JPbc9B71E/fh+VL7IfrC+cr63/yT/Z79X/7xAD0D1ATXA20CPgEDAnIDAwR1BP0EUgRkAIr6W/RT8GXxkwV5KV86QRvU5ZHTNPepKyFJZEX2KycP0P8TBdAZVTGBOUkpEw8SA04HGAhR/WL3FwJ9D4AL2/UT3uXTydyi8JAA9gHG9qPnFN3w3ufvfASuC3ID9PsF/nECrAHo/8EDNAzhE+QUCw0DATv67vznBKoLKw5WCXb8V/B87434rwDpARv+nfnV9lb2rvYk9375O/9BBZwGCwN0/1L+9v9aBXQNVhIcDzYHngHPAZgG4ApWC/4HtANrAPb92Pta+rz6j/tY+4P6Vvjw9DPx5+8a8xr42fw4Ai4BSPrO8x73XgMuDbYPjAw9B0EEZgSjBv0JOw0pD7QLFAbuAUgA4/6C/cn+LwIGArf7G/Tf8DXzyfdo+7v7GfkI9X7yOvKy8/b2MPpV+gT4bfWC9Db0kvSR9vn3NPfO80XyH/NJ9OL1d/YK96T3l/eH9yn3pfbD9+f4EvsB/g0AQf90/D/8ev7zABwCLgOGA6MBdP/dACsEzwZNBkcEMgL8ALgClARfBJ0CGwEw/2L8Xvjv9SD0UPvdCr8UmQoO9DbrhvioDlcdYh7FFiQQvgwjDXwRTxwpJQsjIxkhElkRNxBCC0QIMwsZENwNxgFD9MDtGfFl+B39BPy197zyke6i7SrzQfy9AdkAxP79/qkAHAJ/A7AGhAtiD1wPKgupBfQDygXBCNoJvQgOBoQBpPwy+r/7t/5c/6b8Lfmq9n31VfXk9cD3vPqQ/M/7gvlP+I35zvwRANgBVQI2AlYBegDmAH4CbwT5BMED2AHUADQA5P+D/6v/qf83/xn+BP9rAoISbSD8GcUCoezV9rYSTyg8KWEVwwAG95r2iP83CLwMOQV58/foiOnR7m7u1Opm7RP1k/UI603dU9rs4zTyxvvA+ePvLOfh5XrqVvPR/dUBL/sq8Z/tmPFU9gL4mPlU+wr8Sfmt843v6PAM99798f+C/eP5B/aw86n1bP21BNgH9gbGBM0EDgt4FEUYBBR1E1sdLCZlI4YaTxcJGoQcwRxQGmgVIRAqC0sGsANwBdUGrgGO+hX5yPsy/OH53PmY/V0BMgMuA40BRAHvA+EHdQkUCBEHcgXYAXr+3P4eAGP9T/hX9ZD0yvNX8oTxXvL28//2PvkF+XD4zvoR//kCSQZsCfUKJwpxCfcJMwsMDN0M8AsdCQMGmgOLARz/vf30/TP93Pl39of0EPR09a33Zvl++Zz4FvjG+Ib6tfwE/44AJgEOAcwA7/90/+T/qQAOAa0Aqf/9/Vn8HPxI/Zv+J//c/vj9Cf0A/e39LP9KADEBYQExAdIAtADDALQA6gBCAX4B5gCi//L9O/2C/V3+1v4P//f+av44/of+Z/9KALwAVQDb/+D/+AAQBGsFjwMYAEr/EQI6BPED3gGTAGL/L/45/df9k/8CAAb/lf0u/cH9+v0Z/in/mAGcAwQDjgB0/+gAQAONBI0EBwSdAp4AV/8u/7wAwgElALL9Yvxy/Qz+Of2U++L6yPvm/Cz9g/yL+xP6Wvp3+0v9av5H/t38uftl+8v8Pv6Q/nj/tP+N/pn8pfvq/Jz/MgAh/w7+wf0x/hH/+P9fAYQBkwFfAa8AXADz/0gAngFFBIgFDQXAAq0Amf/MACUDXwQfA2kAsf5U/kr/zgBzAlsCjAA6/lH9sP32/ab+IwBzAUIBPQAc/w8AowFEA5gE1AR+BJwDAgPIAyoGyAiFCuoJBQntCFQJjQn1CYgKfgvRCzULvAogClYJggjICMAJ9wnGCGAH3wWTBSwGlgZNBo4FkASXA0gCKAEZAU0BCQE5/wv9bvvu+Uv4mPZa9Z/0rfMK8gvwjO7C7cXtre5q7+DuFO6d7W7u9e8R8o/zlfPq8uPywvRp9974bPlU+T75aPmj+Tv6WvrK+kL7fPyc/cr9qf10/TH+g/82ACYBHAIuA48DhwKsAT0CBQQSBhwH6QbKBtIFdQRWAyYE2QUsBjAFGwR5A+cBGP+l+2r52frjAh0NxhAiB5L56/brARQQwBYyFr4RHgxmB0cG5AhcDVQQOw9yCsUF4wLx///9+AD8ByYLXwaJ/k/6yPvFAKsFlAfRBL//BvzB+pv6WPsU/VH9fvuH+VH4SfbD8+3z2PeW++D7pvm59oX1l/cP/DQAQQIXAgcBjP8c/+0A4gO4BT8FUATYAl4AUP7D/aj+8f99AEz/kvzw+YX58fqB/P/92v6q/gH+6vxQ/Fr9MP/qAO4B9gFJAcH/DP7k/Rr/sQASAUEAvP5G/d38Wv1d/ub/ogAuADf/lf0a/eL9CP8yAI4ARgDH/yf/Wf42/g3/KwByAAIACgANAPr/zv9IAEcBOgJDAs8BEAFWAaICVgbGCAEH2QO5Aa0DeQb1B/YGkAXgA54DxwKMAvcC+gP8AyoDyAGIANn/Xv+MAJsCagTvA0wCIAA0AO0AVgG2AHQAqf/W/gH+3fyx/Df9fP61/vr9b/xw+zT6fvkX+Rj6B/sd+3D6Fvq4+k37xPt3+4b7N/tl++/6MfuR+9T8yP13/lL+4P30/V797f1t/jD/dv8e/7z+ff+4ACcCIgIVApcCqgL4ALX+2v6DAGACkAI0AhcCyAG2AMH/vP85AU0DhAMGAq//Of9rAD0CtAMcBQ0FWAORAdoBjAOpBTcGgwVQBFMCHgIKAv4CgQOgA8kCfgFVAO//mQAmAYYBzwGYAWUBxgG3AdoBUwLCAkID1wOfBNgEQwTjAssCSQQ1BrkGjAWcA/IBNQGEAXgCKgMWA/0BBABH/uf9Nv7w/nT/yv+Z/9z+Wv0T/DX74Pqp+tX6Ifsk+2v6Ovkz+Pn3EPnj+Qj6KPmr+NX4gPnh+Wf6LPuU+7/7gfqL+bX57vkT+nD6jvqD+s/54/nB+iL8ovxt/E783fxf/vn+C/8w/44AmwJmBEsEzAM7AzYEbQWEBoAGdgVBBPoDLwSjBNgEcQQBBMoDlQNIA3ECAAGTAJoBnQIyAvoACgC6/3L/Vf/3/s/+ev7Z/aL8gfw+/ev9qf2x/A/8pfti/N79Qf9vAFoB4wHdAmED6QP3BCgGSgdiB80HZgf5BjYHoAi3CXMJoggHCH4HpQY+BvUFtgV2BXgFpgVIBb4E7QOtAmQCqgICA7sBVf9b/kn+kv4t/vL9nP1l/RT9Df3Q/F78//vu+4X8/vzf/GT8Efyb/AP+1v6U/iH9f/xM/Gv8+fy9/az+3P5b/jf9FfxH+1T7uvyP/bL9JPxB+qP51/oN/W79cfyX+tj5qvmk+kD7/PpA+4b7P/xq+zD6cvg3+J/5fvvh/Hj84PrI+Mj40PqI/S7/RP9X/k39CPxo+zj8E/+oAsIEqQMzAQj/J/8WAdkDyAYBB3wEDgHO/6cBDgR1BncG+gX3BNwDbwKDAC4ABwE/AgEC3QCB/6b+gf+2APMAkAB4AF8BIALYAvkCAwSmBN8E2gRyBTIHiAgoCNsFagTsBGUGQwf7BoEHKAjICNwIXAixBwMHtAaPBisHWgheCGIHOQXgA2YEdwSwA18B8f/w/uv9x/wJ/Uj9If3f/B78J/yU/GL8NPwR/Bb9fP4p/yD+GP14/Ib9If+T/4r/Rf64/dT8v/0C/0YA6P+N/ib+Wf5v/uz+V/9sAQIFRwa/A5r9wvux/9MGKQqMBzsDI/+G/dH9Z/9jAbkB0gDj/jn90Pz6+i/54ffU+Rj9n/7e+zr3M/Sh9Fv32/r7+y/71fgv9xv2OvbJ91r6a/x//P/7ePri+C/3r/d/+r/9tf5f/kH8uvpI+nT8lv7Z/2n/CP51/gv/UwDo/47/pv8WAb4CswJdAav/9/7S/1IBdwP6A5kC5v8x/uf+PwAtAtEBeQFBAJP/Mv8R/1EAVgEKAu8Af/9d/rP+q/8uAIr/HP8n//P/bQAkAbcBJAI6AmoBNwFkAsYEQgapBmcF6gRaBZgG5gfbB1MHOQYQBpYG9AatB2QHsgYbBloG8gZWBvoDRwE5ALIBwwN1BD0DkQE2AH8ACQEIArQB+ABi/+r+3/6q/lD+Qv1p/ef9R/4u/SL8u/sg/Kb8Jf0f/R/9WfwK/If8Tv5a/xP/ef0r/FX8Ev60/8z/pv4f/Tb8Df19/5MBzwEKAA3/6/9aAXkBjgB2/2f/DQBlAecBcAGk/wH+qvxR/YD+hv/K/0r/1v5s/Uf7tvr9+zP+EwBnABMAof6a/bv9N/+iAG4BXQFYAYwATwDN/u397/0EACcCVwK3ASkA+f6o/F789/yp/84AsQAG/579Wv3e/c7/3QBjAa0A5P+2/1wA8gGXAjADXAM8BHoFQAbdBa4E7QP/A4UE1ARqBCAEMAMfAywDMQRvBEYDBgL+AL8BrwJSBIsEhwRcA/EClAJNA8YDcANzAuYA8f99/+3/oP/H//P/ngCrAIj/Dv7F/C38g/zL/DH+8v75/jb+8/ys+3j60Pp2/Bn+rP69/WX7P/oP+ir7X/sv+9v6Hft3+2z7mvv9+439x/6g/+D/+P9a/8L+U//iAOYCiANZAjkAfv4V/sT+ZwAAAT4BNQG4ALj/7/1N/cH9Df/fADICeALJAMD+6vwf/cH9qf0Q/lv+1v6Y/ln+o/2f/Er8cP1y/3kBQwLSAq8CqAKiAuMCDwMLA5ACVwLCAi4D8QI+AeL/w/8+AZEDrwXvBXcEDgGJ/sr9OQDeA+UGNwgGB/oDlQCb/ib++v9YAwkGEwfKBR8DZADw/s3+pP/zAEEC/AMNBVQExAHv/f763Pnl+ykAZwPuAuX+cvqY+HD6zv14AGQAXf6y+4P6jfvg/bz/0P9m/rz8afxn/aj+2P74/Zr9Nf3m/BP82PuU+0L7aPvW/I3+yf6y/ef7Vvu+/DD/9QB+AQcBf////Xr8lvuY+xj9gf+/AagCRAGJ/rf7qfot/Dv/pwGZAnYC8AG7ARwCfgLwAZP/ff03/WX/WQIFBFoDrwDG/Q39b/6iAOkBoQGQAOD/DQCRAaUDkwO3AYz/6v7g/5wB2wLYAvsBwQBTAHMBuAInA2gCTQEcAO//gAEqAwEEzQL0AdwB+wHgAc4Ak/8G/+L/0QGgAzMEGAMdAYz/9/6B/5cAPAHHAND/Ov6T/W799v3n/RX+3P2y/fj9bf61/gP+u/2e/Z/+af+MAAsBcAEZAbYAZwA2AP7/TwDOAJoB0QHrAawBYgCD/+H+MgDdABAByQC/APoAzgAzATcB8QA0AMr/zv+QALIBVwL4AWkAaP50/UX+cv+kAJAA4v9T/yX/z/4e/6n/yv/6/7//XP9F/uv9Pv4Y/93/+P/b//f++P2e/Zj+XAAnAnAD9gMZBPYDYQMsA3wCBgJoAQoCSgI/ArsB2QBrAMz/iP9p/6L/Wv89/+z+9f7H/rH+Sf70/bv9Jf3Z/JD8fPyQ/OT8Zf3G/an9Qf7N/jf/RP9M/w3/7P6X/8UASAK+AusB2QDt/wD/1P7l/sD+R/6A/iz/RAA0ALj/wP6S/tr+a/+8/5n/AgDkAPgBJAIkAo0BvwCk/8D+9v0t/vv+mf/+/x4AawA2AOT/D/9D/tT+w//JABIBPgFEATcBUgEWAQ4BMwFLAXUBuwEKAiICcQI6AusBWgE+Ab8AVwCDAM4AiQHyAfAB4wHGAfYBnAG0AIgAOwCvAOgAyAG0AdgB4AFjAegAHgBEACkAYACr/3v/tP8TAL//2v7n/t/+af8I/7f+Rf5D/jj+7f3k/af9Af4F/kH+F/4Z/mL+y/4//+r+J/8N/+z+pv6Q/tb+XP9t/yH/Mv85/0j/TP8s/3z+Wf6Q/jf/U/+B/7r/dP/M/+//ZAB9AFwAsf9y//j/igDOAGcAIAD2/9sAgAGsARkBogA7AO//7/9PABYBKgG0ABEAegAJAe8AUQBKAAYAw/8W/+H+eP8uANcA7QC6APH/zv8uADQAx//X/zsAzADbAIUA5v/H/9n/vP/b/30A2wAQAdQA0ACkAKkAtADX/xH/if7h/nL/sf9l/3D/yv/M/7T/Uf9w/5H/zP/X/1EAPQDz//j/x/8gAFoAjgBiALT/dv+6/0YAGAD2//P/7f+t/0j/4P+MAOIAegAeAEgATACKABsBJgELAbYA6ACEAdgBvwFSAdAAaQA/AGQAxQDZAEQBkQGNASgBigB2AEQARAAEAG0AwQC2AEQAGgA5AAQAEQCZAK0AFQAEACkAUwBgAFEAbQC8AK0AtAC0AJ4AqQDmAFIBcAG6AP7/lf/M/yAATwD2/woA0P97/4z/a/9T/17/ff9G/wj/Ef9T/3D/7v5f/oL+TP+V/yz/wv6f/vf+Kf8N/8T+xP61/u7+E/8E/0b/eP8n/6z+vP52/2IA6AD+ADEBqQGEATkB2wCDAK0A5gDfAB0BVgEZATAA+/5z/pD+Mv+c/5H/Yv8j/67+Bf4+/tj+g/9K/z//RP+K/zIAfQB6AIMAaQBIABgAIwDg/y4AXACQAGQAiACrAHYA8/8T/0b/g/+G/wT/C//5/lz/2f/2/+j/q/97/0T/Qf9R/2n/w/8KAAIAWgDHAKQAdgA9ACAAHAD4/4r/hv+0/6b/qf9a/yn/D/8//0z/C/+j/kH+W/5z/tz+Of8e/+r+W/7T/Q7+3/5r/+T/BAAaAPj/0v+m/6L/tP/D/7r/rf/M//P/lwDkAMkApgCvAIUAVQA0AEQADQD2/4EABQFWAUsB7wCBACsAKQCBALoArQDOAAkBdQGuAb8BlgGJASYBiAB2AJAAgwB9AFEAZAAuAOL/Pf9R/0//Qf9T/23/Rv8j/23/gf8VAA0AiABnAGAAQQDDAJYB4AHGAWUBeQEkAdIAGAD+/3//pv/b/ycAlQBgAGcA/P/b/1P/k/9c/0b/Gv8G/0//Wv+m/3v/kf8P/83+xP49/0b/8P7U/hj/XP8y//n+Jf+m//P/HgAwAHYAZwCXAOYAJgGhATICrQJoAisCuQG5AeMByAHYAecBoQGxADQAOQCVAIMAuACTAEQAQQDv/4P/NP80/5f/EwD2/9n/MgBkAE8AtP9a/zD/J//9/or/HAAwAD8A3f/4/xgAUQBKADQAv/9V/4H/YADoAJUAXACIAPoAsQCMALQAtgCMAKkAXQGPAW4BugCVAGcAtAALAQsBugAeADIAGADk/5H/J//A/oD+Zv5v/pv+Pv4K/rL96/3e/Y/9S/1L/an9nv29/df93v1l/WH9zP32/cr94P18/l3+d/4N/0//TP9r/x4AbQBcACUACgD+/8z/8/+pAFIBdQFsAV0BLAHiAOIANQGWAdoBxAFzAUsBMQFHAbABzQHRAfsB2AGCATEBwwDbAAkBwQBnAGIAkACrANAA8wDvAKsA0ADJALQATwACALz/iv9B/xP/dP8eAE8A+v/b/3D/Vf+r/xgAQQD4/+j/5P8pABwACgBvAMMAhQCKAMUA9QCIAP7/2/8IANf/zv/F/7z/Vf8//4j/pv+M/3//jP/l/sf+3/40//D+Ov4V/ln+wP6L/nX+lP53/jP+df7N/on+Gf4S/l3++/4s/xz/P/9E/17/dv/m/xwAGgBPAMMAAwEdAQUBMQGCAXUBXQGaAWUB7wC/ABsBMwE+AU8BcAHwAdEBTgJMAgwC8AHNAYsBCQHxALoArwDSAK8AyQCVANv/mf+V/33/5/70/cj9Nv6L/rH+D/8L/83+Sf4O/lL+bf5U/nX+vv6s/rP+qv7H/jD/C/92/7r/DQAaAFoAgwA0ACAA1//X/7//uP/t/4MAogBBAIUAeACeALwA5gCvAIUAPQBKAGkAawBnAGcATAApADIANgB6AIEAigCKAMkArwCXAJMAtADxAJkAUQBBAJcAzgD8APgApgCtAOQAoACkALQAngCVAHQAXgCgAJMAlQBEADAAngCeAAMBHwE5Ab8AbQC6APgAMwH+AEkBkwFsAfgApACFAD8AZwBtAEEAzP+x/1P/a/9g/z3/P/9P/6T/7/8lAHQAVQA0AD8AYgBpADAAyv/k/ysANgAyACkAGADx/47/Qf8C/7n+9/75/sT+c/53/lv+Wf5f/l/+zf4G/+f+uf5i/6//Yv99/8z/EQDx/ykAGgDX/2D/TP+B/4H/nP+M/6D/bf89/4z/3f/X/4r/MP/3/j//hv+K/6//rf+6/5n/TP+q/pT+z/7W/gb/E/8w/yf/LP/f/uH+T/+//w0A2/+m/7z/sf/6/2sA2QAdAVYBkQFYAYkBtAG/AbIBHAI9AukB9gGnAYIBSQEAAdAA0ADOABYBSwFEAeQA2wDiALgAdABVADQA7f/V/9f/1f/O/87/0v/Z/9v/vP9M/7P+Sf4g/on+AP/J/rf+yf7L/tr+x/5k/mT+pv6S/pv+t/7J/tT+AP89/1P/x//4//r/7/+6/6v/zP/8//j/JwBEAEEAQQBEAEYASABIAEgAIACx/5f/jv92/3//MP/u/qH+y/7l/tz+Ef8a/z3/Ef/S/tb+7P4Y/3v/5v8RAEoA3QAmAd8AdgA9AGQAogA1AYIBZQF1AYsBoQGeAfABAwLPAWwB8wCrANcAMQF5AYIBkwHuAeUBjQFzAZEBdQEoAQcBJgFuAUQB/ADBAM4AzgDOAP4A7wCiAGsADQCe/yH/n/5v/lv+lv6+/s3+wv6j/rn+tf7a/sf+1P7w/pv+df5o/rX+Fv8p/wD/J/+p/9f/w/+m/7b/qf/Q/wYARAB0AKQA3wAfAdcA0ADbAMkA2QAbAWEBLgHBAKkAogDMAI4AlwCkAJkAcgBXAH0ATABvAIgA2QAhAWUBVgFCAQUB0AC/AMEA9QD1AAsBPgHUAJAAkADFAP4AAAHSAKQA7wDvAK0A0ADtAHoA8/8pALgA8QCxAIgAXgAeABUA7f/v/6v/dP/o/ysA/v/K/5f/lf9P/+f+nf6h/vn+Uf99/7b/pv90/5H/tP/k//H/5P/g/8P/r/8KABoAv/9l/0j/Lv/3/gL/XP+Z/2D/D/8C/+z+s/6S/n7+of65/in/YP9g/0z/D/8E/w3/Mv94/5z/iv9p/2n/Jf9E/2L/mf/m/6//l/9n/7T//P8eAP7/6P/Z/5z/pv/S/7j/pv+v/6D/mf/t//P/GAAPAOj/+v8GAFEAcgCOAB4A7/+R/3j/mf8u/+z+O/+G/3D/af94/0//5/7C/rf+8v4L/8n+qv7n/in/dP+2/+v/5P/6/+D/uv+O/4j/nv+r/9f/CgDv/+D/6//x//7/9v/F/7r/zv+0/2D/hv+D/zT/Yv+M/5n/lf9a/xz/O/+O/7//qf9c/1P/Bv/7/hr/Xv/H/47/f/+e/6//r/9y/zv/J//y/r7+5f43/0j/jP+8/6b/HP+o/t/+E/9T/5z/v/8IAOT/GgCQAOYAAAEWAVYBhgG7AfYBRQIkAuMBygEBAikCnwKoAqoCjAIVAq4BmgHIAcoB0QHTAVgBFgHxALwAxwCvAM4AxwCeAK8AkACrAIoACADx/zsAgQCMAJsAzADUAMcAwwCgAGAAAgBg/0r/Mv8l/1r/7/89ACcASgB9ALoAWgA/AEEABgANANv/cgCOAGcAjADkAJ4AMABgAEEA8/+T/6L/tP/D/wgALgB/AK0AdAAnAKv/Zf8//3D/ff9e/47/pv+k/7//5P/Q/9v/tv+e/7H/6//o/7///P9MAFwAhQDdAKQALgDX/9L/DQA5AG0AkACpAIoArwAFASoB1ACKAKIAvwDUAKQAYAAaANX/pv8rAH8AaQCt/z3/U/9B/4b/2//Z/57/g/+I/4H/iP9c/xj/P/8Y/wb/zf7Y/rH+cf6Q/rX+VP4Z/kH+L/42/mj+zf43/0b/Mv9l/4r/f/9T/0//Xv9w/5f//P9MAHgAgQBEAIwAxQD1AO8AyQDDAIwAwwCvAGkA4v94/3L/l//2/14AmQA9AMP/w/+p/6//EwAjAI7/Fv+m/vL+Zf/Z/9D/w/+K/wv/T/+2/wgA4v/+/zIAawByAEQAaQB0AIgAvwD+AFYBOQEZASYBPgHxAHoAIwAPAAAACgCrAOIAxQBnACAAKQAcADIAVQC/AHoAKwDz/wAAhQDzADwBQgExARsBAwHHAEgAGAAYABgAGgATABMA8f/g/zkAdgB6AD0AaQBPADAAGADm/wYAAgDd/xUAZABaABoABgACAM7/RP/S/qP+4f4E/yf/XP9B/xz/LP+2/6n/XP89/xz/Z/+t/6T/zv/Q/5f/iv+p/+//9v/B/6//ov9V/yf/Wv+R/9D/BAAnABUANABKAEQAXACDAFoASAAwAAYAEQAEABEAGgB6ALoA1AC8ALwAbQAaAPH/+v+DAJ4AoACFAIMAUQBEAJcA8wA+AS4B5ACkAEQA0v+p/w0ANABGAHgAmQCZAEQAMAAGAMf/eP+R/6v/k/9B/wj/SP+//1wA0gAWAS4BTwEdAYwAQQDr/6//6P9TAIoAcgCIAKAAtAB/AHIAgwBKABMA5v8GACkAbQDMABIB/gC6ALEAYgAGAPr/JwAEAKD/uP/2/2AAZwAKAIz/Ef8j/0//e/9B/wj/Lv9y/+v/QQCQAIUAaQATABEAHgAKACAAUQCMAN0AugCTAH8AbQBEAA8A/v+r/7r/+P96AMEAiABeAGAAcgBKAFoAYgBTAHIA7wA8ASEBogArAEoAKwDx/7H/k/9//z3/Wv+m/1X/Fv/c/sn+vP6h/tT+Av9B/0H/NP+x/xEAGAAgAD0ADQAGADQAUQBXAAoAKwCFAK0AZADz/7T/3f8lAB4A5v/M//b/RgBEADIAxf9y/0//dv/B/zQARADm/3v/E//f/hb/I/8I/yP/9f6b/oL+Av9a/yX/Df+M/+D/tv+8/+T/vP+m/8X/7f/k//b/5P8EABoAAADX//7//P/Z//P/5P/2/7z/bf9I/xb/D/9M/9D/AADr/7H/ov+T/4z/4P/X/7j/gf+D/7T/k/+i/+j//v8CAOL/YP8Y/zv/+f6h/r7+tf6b/pT+rP58/qb+2P7u/vv+7v4p/z//Bv/P/uf+Qf9T/1z/v/+8/6T/lf/r/zQAHgDo/5X/iv9p/93/ZwC/ANcA7wAQAQ4BPgEHAegAiABgAEQA6/8NAC4AIwD4/+//6/+6/7H/pv9l/w//2P73/m3/2f8TADAAv/9l/1H/Uf/F/wgAGgArADAAOQAlABMALgA5AIwAWgDX/+T/aQB/AH0AuACZALgAmQDfAAMB9QDfAN0AjwH2AfgB0QGYAY8BbAFqAVIBPgH8ADUBPgEHARAB6gADAfMAyQDQALYAoABGADsAEQAKAEEAfQDBAJ4AxQCmAGcAEwCm/4P/0P+//7H/oP+r/zAASgBRACcA2f97/4r/0v8pABUA9v8NAFUA0gA1ASoB/ABRABMAMgDo/6v/0v/8/0oAlQC2ALgATAD+/7r/iv8///X+GP+k/w0AJQBMAMkAAwGtAGIAZwAaAOj/SgBvAH8AmwB4AI4AgwA9ABgACgDd/2n/cv/r//b/uP+k/6D/r//m/wgAPwA7AAoADwD2/wQAx/+g/+3/wf9l/zL/dv+Z/zn/7P6Y/qj+qv4N/33/O//y/pj+yf4R/wD/D/+D/+j/v/+//8r//v+2/5H/nP+i/4H/V//Z//z/EQDd/6D/pP9K/yz/T/+I/17/Sv+r/6T/gf9X/zn/C/8I/yP/T/+I/3L/T/89/2X/P/8s/5H/af/y/vv+Qf9X/x7/Gv+R//b/UQAKAP7//v+V/8f/EQCgAK8AgwBPACMA8f/6/0EAZABaACcAHAD8/5H/iv+8/5P/Wv90/9n/IwAIABEAJQDH/6v/0v9IAMkAzgDfALYAoACFAHYAwQDJAMEAjgC/AK8AiABrAKsA0gBtACsA8f/F/7//PQDFAA4BNwFLARsBxQBgADkAEwA7ADkAkABeAAYAsf/2/1UAIwD6/33/YP9M/yP/Rv/D/8z/AAApAEQA3f+8/9D//v/d/9f/7f8cACAAdgCFAL8AYABXAHQAgQCiAIoAkwCBAJkA0gA1AXMBgAGGAdgBggEqAfgAHwFUAVYBGQHUADUBOQFEAUsBHwG0AGsApgBpACUAXADZAHkBbAFAAQcBugCFAO3/BgCIALQA+AA1AUIBVgExAeoA2QCVAGcAVQBaAJ4AvACQAI4APwAEAFUAVwD4/6v/wf+t/33/mf/Q/zYAUwBBAEYAQQC2/1z/af9P/0r/5/7n/jn/Av8n/33/e/8n/9z+yf65/m3+Qf4+/i/+if5q/hz/zv+m/0b/+f6o/vr90f3p/Rn+X/6W/mD/6P8GAOv/lf/9/lf+VP6N/iz/V/+k/+//DQCQAKAAigAPAJH/Wv+c//7/DwDv/0QAjgAaABwALgAjAPb/nP+0//z/XABgAG0AYgBrAEEAPQBTANn/e/9t/3v/dP9e/5P/mf9p/0r/MP9P/zf/Lv8//zn/Df8l/3b/tv/k/+T/3f+x/9X/vP8IAFMAjgC/AAsBPAEHAdAAjABvAHIAYAA/AG0AbQBEAFMAKwD+/8f/yv8NABEA9v8EAOT/vP+K/5n/zv+x/6v/nv9r/0T/LP9E/2X/pP+6/xEAOQAuAIP/iv/S/jT/SP8RAMcAwwAJAVUAoABrAL8AjAC0AJcAmQCvANkABQHZAF8B3wC/AM4A6gAOAa0AhQAYAGcAOQBTAFEAKwAVAOb/BADZ//b/IwDD/8H/cP+p/9n/yv+I/1f/dv9r/2v/Gv/h/sn+AP9B/6n/CAAPALj/oP+p/xz/LP9a/5z/q/9TAOgAFgG6ADQAJwD+/+j/IACIAJAAmQCKAKAAoABEABwAYgBVACsAGgB6AGsAHgBVAG8AsQC0ALoAogCkAFwAEwAnABwARAB/APEAzAANAMX/1f/k/7T/CgAyABoAtv9r/9D/sf/F/93/8/8CAMX/JwCBAKAAzgDtAAAB9QAWAeYADgHbAIoApgCVAFEARACIAMkAvwCOANAALgHvAIoAXgBIADsASACpADkBcwEWAcMAvAB/AFcATAA/AB4Axf9//7T/2f+I/6//5P+8/3b/Kf9G//f+zf7u/kj/nv/H//7/HgAjAM7/0P/g/8r/jv+2/08AMADV/+j/OwA2AGsAuAC2AIoAJQDX/wgANgAuAJMACwEuAR8BSQEbAaIADwAwAEEAMAAVABEAuAAxAUkBBQG8AEoACgBGAEEAVQCMAOYAIQFEAQABIQFYAaUBvQHcAdMBQAEDAUABjQFEAegACwEfAdIAgwAYAJH/Qf9X/3v/wf8CAOb/pv+k/23/XP+M/47/cP8u/yX/T/9y/4z/cP+I/5X/g/+V/6//e/87//v+y/6q/uf+U/+K/2f/Mv8A//X+gv42/n7+wP6S/mj+n/6j/m/+V/4r/iv+Jv4X/kP+UP6C/rn+5/7P/sf+6v5c/9v/0v/B/7z/kf8N/+P+cP/M/5f/T/8s/+X+t/4L/1r/SP8p/wL/5/7U/vL+4f7j/g//dP/S/wYAMAANAPj/EwA/ADYAdgCbADIACgAnAGQAlQDQAM4AeAAuABgAGAAGALr/dP9r/5H/7/82AAIAtv+T/1H/E//7/tj+s/5d/m/+z/4A/xr/Hv/l/rz+5/7a/vn+Pf9B/2f/YP9l/5f/5v/6/6D/Qf9T/0T/Wv+x/93/8f8GACkAbwBgAPb/wf+r/9D/w//Z/zAAPQARAAoACADZ/9f/6//4//H/x//F/wIAjACTAFEAfwAnAM7/4P8TANX/eP+O/6n/CgARAAYA/v/H/8H/wf/K/1EArQCOAIMAjACQAJUAsQDxAAkBAwESATMBHwE+AWEBkQGJAUQBFgHQALoAogCDAJUAbwA/ADYAcgBRAK8A6gB/AEQAHgBcAH0ANAAyAA8A/v8gAF4AkACbADYA8/+//6//vP/d/w0A6P/b/87/w/8YAA0A/v8IAA8AAADX/+v/tP+B/87/NgCMAJAAVQApAO3/xf+D/1z/k/+c/2v/Z/94/57/4P8lAHgAAgCO/+D/+P/H/9n/GAAwACMACABPAIwAZAA2AAIA2f+0/93//P8CAB4AdgDFANsApgBBACAAx/+i/+D/QQBKAFwAYgDOABYB9QAkAWMBTQHkAJsAugDJANkAIQFNAQUBqwCBAKAA3QCFAGAAqwDOAMMAFgFEAWUBYQFYAWEBIQHiALQABwH1AKsAHwFHAfgAkADJAOIA3QAFAQ4B/ACBAFMApAAqAWUBIQEzAakBZQHtALYAlQB2AKQAQAFjASoBzACMAHIAPwACABMAGAAGAAoAQQBvAFMA6P+8/0EAVQAeAEgAfQBGALr/lf/b//7/7f8eABEABgDx/1wA0ACgAIUAoACmAJkAHAAAAEQAEwAAAD8AjAC4AKkAmwCiAD8A/P8pABoAEwACAEQAUwAgAPr/UwCDAD8ACgAIAPz/l/+T/6//v/+M/3b/pP+R/0r/J/8u/0j/7P6H/tL++f7u/gb/Of9K/yf/Ef9R/zv/Bv/w/jf/Jf8N/yf/eP+X/0T/O/8R/9/+pv6h/vv+J//5/l7/w/+//2n/LP8c/7n+gP6H/vf+V/+8/5P/V/9R/wb/Av8A/wT/y/7S/tL+7v7c/ur+Hv8Y/zL/Fv8L/wL/4/4W/zv/NP8j/1P/eP9a//f+2v7w/tb+kv68/gD/N/87/3D/k/+V/6L/q//O//r/2//S/+L/6//2/+b/vP+i/4z/v//K/4j/Rv9a/4z/jP+t/7H/yv+0/6b/vP+0/4z/g/+r/8z/ff97/6//r//X/9v/CAARAMz/jv+I/6v/9v8EAPH/IwBBADAAHAA2ABwA+P/H/6//iP+e/+b/IwAnAMr/9v/x/8z/pv+O/3//uv/O/87/EwDb/7b/2/8KAA0ALgAuAFUAXAAuABEA8/8eACsAAAAcAGAAjgCgADQAyv+Z/93/CgDV/+L/2/8IAB4A8/8IADQAAgCT/x7/C/8n/1z/2/+IAMkAUQAEADAAXgCgANAADgHvAI4AjACXAPgAIQEdAQcBtABkAEwATwA9AAoAEQBTAFoAPwBrAH0AZAAYAM7/wf/K/9f//P9XAJMAawBBAA0A+v8CAAgAJQA9AOD/0v8AAPr/JwBaAH8ASAD8/+3/2f+8/+v/BgAjAEwAQQBrAIMAfwBnABUA0P+v/5f/3f8gAAIA+P/6//z/6//S/+v/5v/m/6v/r/+e/5H/tP/g/8r/vP/Z/xUAGgDm/93/5v/z/wIA+v/F/6b/TP8C/17/tP/i//j/SAA9AA0A7/8CAOv/8/85AFEAXgBMAD8AhQB0AEoAMgBaAIgAqQCIAFwAIwAKAA8AFQAgACkAKwAyAB4A8f+4/3j/pv9t/1X/a/94/3L/Wv+R/7b/wf/K/9D/x/+c/5P/uP/r/9n/wf+t/9n/5P+e/3D/oP+//+b/MgBpAJAAbQBGAPz/tP+p/7j/zP8GAIMArwCVAFwASABMAFEAXABIAP7/ov9g/3L/2f8jABwAOQAEALr/nP+B/57/oP/D/7//BABKACUAKQBnAFMA/P8eAD8ARgA/AAoA5v+e/2v/tP8TAEoAmQDoAM4AVwApAEQAQQDM/9f/+P/8//P/1/8CADIAVwBVAHgAqQCXACkAMAAVAEoAVwCOAN0A7wDmAPEABwH4AOoAtgDHAIgAdgBnAEwADQBeAAUBiwHjAf0BlgHUAKD/eP+e/1EA4P+0/zEBLQL1AgkB2QC8AEABvwBV/7j/kf+IAKIAuABWAWoBtwFuASwBZAD4/xoAAgBnAEYAgwA+AUcBKAEkAa8AeAANAAAA5P8GAE8A4gDMAJcAUQBvADIA0v+G/1P/lf94/wAAJwD6/4P/1/9tAH0AXAATAOv/1//H/93/EQBKAKkAugCQAEEAKwBkAKAAiABaAFcAMAA7AFwAVQAPADAAEQDr/+3/3f/k/+T/Yv/3/u7+BP9r/+D/sf89//3+If83/2X/4P/t/6n/dP8w/xz/If9T/8z/9v/Z/4b/J/8n/0b/P/9a/2n/uP+//+T/xf9V/zf/7v4j/63/SACkAIEA7f+O/6//w//H/9D/0P+8/23/O/99/8r/xf9y/z//Vf9i/8f/BgAPAIP/4f7f/iz/a/+2/8H/V//N/rH+vv75/n//yv8NACcAIAAYAP7/rf94/8H/MACDAJkAkwCDAHQAaQB2AKkAtgCpAKQAngCZAHgAOQDz/5n/mf+V/6b/nv+x/5X/lf/V/+v/2/+m/6v/1f+r/57/eP85/33/jv/D/+b/6//B/zf/yf6N/qr+E/92/4H/P//n/tb+Sv+c/9X/k/8s/zL/Mv9T/2v/wf/V//7/NgByAIoAbwA0AA8A5P/b/+b/8f/m/7T/v/8CAB4AJwBBAH8AgQAuAPb/CADX/6T/AAB6AFoADwAVAFMAVwAjABUABAC4/3L/f//g/zQAYgCbAMEA3wDMAPgAPgEbAZ4AgQC6AK0AmwD4ABkB9QDHAOIA6gDMAG0AKQAgAMf/uP8gAJAAYgD6/7//+P8wACUATABgAC4AzP/b/wgAPQBPAGsA2QDfAMEAEgEoARYB8QCpAG0AEwDD/8r/BgAwAFEAJQAIAOv/uv/b/+3/2/+0//H/KQAVACUADQARAOj/1f/v/zQAawAeAOL/7//b/+b/8f8pAN3/sf+Z/17/O/8h/0z/lf/m/7H/1f8NANn/wf/Z/xgAKwA/AHYAawATANL/BgBRAGQAXgCBANQAtACQAIEAbwBPACUARgBrAJkAkwBIAD0AUwA5AEEAKwBcAHIAHAAlADQAJQA2ADkA7f/2/xwANAAKANf/xf8NAPr/BABeACkAzv/M/xUAWgBpAEwAFQAwAA0Apv+4/+b/BAD2/wQA2f+6/6L/cP+X/63/w//4/zIAdAAaAP7/HgAEABMA7f/r//r/pP/K//z/5v/t/+v/KQATAPr/DwAwAPb/qf+D/0r/HP/9/in/SP9c/6//EwCQAOgAjAAcAK3/SP/7/kb/ov+B/0z+K/7J/jYA8/9EALb/zP+i/8P9X/5u/d/+7f2Q/uf+Pf+BAI7/8f8a/xP/x/6U/lH/hv/H/0z/Z//k/6D/pP8//zf/I/8G/wL/V/+i/2D/dv85/9z+3/6+/u7+qP5U/lv+C//V/wAAtv8p/6z+PP5Q/qr+vP4N/yP/N/+g/+3/ZABMABMAWv8h/2D/tv+p/yn/MP8n/0b/uv9PAN0AvACDAJUAXgAeAEYA+gCPAYABWgExAWgBmgGEAXsBKgEfAfoA+AAdAd0AeABEAHgAngCOAF4AJwCm/2L/l/+0/8P/5v8/AK8AGwFsAY8BpwEoAWsAQQD8/z8A1wAUAUsBQgEJATUBZQE3ARYBDgHXAFUALgBBAIgA1AD4ACgBSQFwAWwBWAEbAXgACgD4//7/HAB0AKAAbQA7AA0APwCMAJUApgDDAI4AYgBXADYAHgCVAPEACwEqAd8AigCeAHIA2f9w/4z/8f8PAG8AjgBpAPb/iv+8/6n/kf+t/+b/+P/t/+3/AgBRAJcAmQBcAMH/a/+g/xoAjACOAKsAxQDmANQAfQBaADAAEwBvALoAHQEbAdcA4gDzAB0BFAEOAQUBhQBIAFEAkADMAM4AmwBgAFoAOQBMAGsAZADx/9D/2f+B/57/6//d/7H/yv/m/+j/gf97/+3/8f+x/4H/Wv9l/1X/eP+p/63/RP8P/xj/Gv9R/7b/ov90/xb/i/58/sT+1v6s/r7+BP8N/9r+5f4R/9z+n/6h/s/+Bv/s/s/+jf5O/lL+lv5B/4z/XP+I/yz/7P4j/3L/x/+g/7r/8f8nAFcAjgC6ANAAzgD1ALYAugDMALwA0gDxAMMAogCKAEQAMAAYAPH/AADd/8X/3f8CAPb/HABKAGsAPQAjAO3/pP/Z/xEAmQDHAAMB/AD4ANIA9QAHAb8A/gAzAWoBuwHCAVoBSwFJASYBEgH+AOYAzgC8AKkAlwCKAHgAZwBEAOv/iv+I/6T/jv+c/4r/rf/Z/yMAVQAYAOL/cP8h/6b//P8uAFMAfwCDAGkAbwCBAEwAPwBvAFwAKwAuAAoAMgBkACkANgCFAH0AdgBVAFEABACp/6b/7f80AD8AKwAyAEYAIwA9AG8AvAB4ACkAEQCx/7b/8f9eAIEAXAAPAO3/uv9M/2v/ov9c/yP/XP/O/0YAfQCIAGIAXABEAF4AfwB0APz/l/8a/yf/7f90ALoAvACeAH0AOwC8/6D/0P/d/8H/l//Z/1EAXgCBAOIANQGTAVQB+ABVAAYAr//M/zkAegCBAFUA8f+M/2v/TP8h/zT/9/65/tT+s/65/gD/GP8L/8D+kP6d/oX+Zv5o/sD+1v7u/gT/cv+G/0b/CP+z/rz+1v4p/zv/P//Y/qP+LP+M/17/N/9R/zL/D//n/tr+5/7y/jf/wf8jAG8AHADg/4H/D/8e/wb/+f7A/sn+TP87/0z/O/9E/3//Vf8c/xj/E//U/rX+Ef+R//H/KwByAIgAgQBiACUAAgDo/zQAkACxAKYAawA9AO3/jv9M/2f/pP+k/9v/6/+m/2X/YP9w/4r/dv89/4H/a/8Y//3+Vf+8/+b/0v9a//D+uf6x/p/+y/4n/0H/Df/w/i7/cv+//wQAPQAlABwAKwAnAAoAVwBtAA0APwCDAPoA3wDZALYAigA/ACAAfQCTAMEA8wAUAeYAtgCZAM4AMQF5AXcBMwEuAUQBKgE5ARIB9QDvALoARAA5AHQAmQCeAEEA7f/B/zYAWgBtACcAnP9i/0b/mf/m/+D/HgBtAIEAlQDBANsA8QDMAMkALgF7ASQBwwBKABMAJQBPAEYAaQB4AGsAUwAuAGkAmQBnADsAAAAAAE8AlwCpAKIAmQCgANAAxQB/AE8ADQD6/+b/r/90/xz/Ef/W/vn+Df/f/rX+Yv6J/o3+Sf56/rz+9/7l/uf++/4h/1f/Wv+T/8z/+P/D/5X/tP+x/+b/HABKABUAxf/O/xEARgCDAJkAfwBXAH8AkACIAG8AOQAuAGcAzAC2AIwAJwCr/9X/JQAnAAYASACpAPUA9QDHANAAeADr/8r/1f/D/6L/0v/o//z/PQBnAKIAtACXACUAnv9n/0//hv/D/wQAOQBvAI4AzAAAAcUA6AB7AYQBggFLAQkBoAB2ALoAzAAQAfoAvAB9AEEA/P/M/23/z/6m/g3/E/8l/1X/Fv+j/h3+Gf7l/nT/cP/1/rP+y/6z/s/+Vf/x/yAACADX/7T/lf/Q/yUAKwD8//P/BgBvANIAngCQAHQAeAA9ABgAjgDoAN0AuADBAL8A/ADkALEAdAA/ABUANgBMAFoAjACZAKYA8QBLAW4BGQGbAD0ACgD8/3QA1wDkAMEAjgCIAGsAaQBTAFUAVQB6AD8ARgBrAJkAjgBcAF4AMgD6//r/XgAjAO3/HgByAHIAbwA9AOj/hv+T/8H//P/+/7j/vP/K/3b/cv89/wj/P/90/7H/r/9e/w//Kf+8/woA+P8eABgA7f8PABwAAgC2/33/uv/6/8P/jv+4/87/x/+0/3v/Z/9r/6D/BgAKABgA1/+c/7H/pP/Q/+//2f+2/8X/pP94/3b/3f8NAA8AEQD2/7j/ov+k/7///v8VAC4AVQA9AF4ARgDg//H/7f/M//b/JwBIAEYAdgA7AEYAVwBIADAACgA2AEQAUQBeAPr/6/80AH0AWgD6//P/+P82ADsANADZ/8f/AAAnADsAx/9c/3T/1f/g/woAIAAYABgAHgAgABwA6/9e/+z+yf4R/3L/f/9X/zf/HP8l/9b+rP5z/jz+M/4x/nr+pv6o/of+of4P/3j/iP9y/33/Lv8W/0T/kf+6/8z/8f9GAKAApAB/ALwA2QBvAEQASgAyACsAlQDiAAcB4gCtAFUA8/+v/7j//v8cACcAPQCKALoAogDHANkA5gAfARkBvABiADAA+P8TAKsACwEqATwBBwHDAKQA3wDHAK8A2QBCAUQB+AC2AH0AkADJAC4BfgGuAV8BOQEWAQkB0ACpAJsAoADSAOoAIQFCAeoAlQCrAK8AoACMAGsA8/+M/7//wf/H/7r/v/+x/7b/pv+R/2D/af8R/0j/dv9i/yn/SP+g/8P/w/97/8z/gf/B/2f/nP94/6L/8/89AHQANgD8/7j/oP/g/4UAugCXAGkApgAFAdcAsQCeAKAAxwD1AEABLAEdAeoABQEoAfwACQEZATMBLgEAAbgAwQCkAGsAfQDDABQBtADHANkAmQBaAGQAeACgAIgAdAC2ADAAw/+R/6T/nP9V/1X/cv9E/0b/e/+c/63/dP89/xH/Rv+8/z8AXABKABwAzP+T/2v/jP+2/87/pP9w/1z/nP+X/7T/w//M/+b/r/+R/4r/hv+B/5f/uP+R/0z/7P77/hj/C//Y/uH+C//q/sn+rP7W/vf+6v7Y/iP/Zf9B/x7/6v7a/uX+8P4W/2L/gf+e/8z/k/9B/yP/3P7J/iX/Of9R/zv/Rv+i//r/AADH/7b/qf9X/0H/mf+t/8f/7/+MAK8AZwA0AAQAFQAKADkAUwBXADAA1f+8/2X/Kf8a/1H/iv+0/5n/eP9g/7//OQAwAPP/hv9I/0j/nP/K/xoAEwD8/yUASgBaAHgA8/+I/yP/CP8y/5X/4P/Z/woAKQAlACkABACV/33/dP9c/3//cv9p/6T/CgAGAOj/0v/6/wIAq/8y/zL/bf9a/1r/iv+8/7j/1f/S/wIAEwDi/9n/zv+K/zL/E/9T/33/lf+v/6//iP+B/2f/Bv/l/tz+NP+I/4z/x/8CAEQAdgC4ANQA1ADXANAA0gDDAJ4A2QAqATMBLgEqASEBFAEoATEB3QDXAJMAVwByAGQAmQD+ABQBvAC/AOIACwFNAaMBmAF7ARABvwCTAKsAtgCvAK0AyQAxATUB5ADHAKIAXgARALj/jP8N//3+Av85/1H/TP+i/3//HP/W/uH+Fv/3/iP/kf+k/87/HABRAOb/tP90/3T/XP9P/2D/a/+V/wYAlwC8AJcAPwDS/63/EQBaAJcAqwC2ANIApACZAM4AvwCTAIgAPwBMAF4AVQBTAEgARAA7AEwAhQCtANsA4gCiACAA7/8GAEEAfwDtAOIAbQBvAG8AdgCXAJUA6AAAAfEAtABaAJUAqwCbAKYA0ADSANIA/AAWASQB3wCxAIoAPwA0AGAAZwBeAD8ACgAjAAIAhv9c/1z/SP8P/wj/+f7Y/vD+5f79/uP+6v4s/0z/P/8j/zn/Gv/3/uP+E/80/z//TP9r/6n/wf+r/4z/mf+M/6L/oP/K/+j/0P+0/8r/wf/O/6b/f/9P/3D/8f8wAEQA0P+D/7H/zP/B/4z/g/9g/yH/iv/6/+b/jP+8/xUAEwDk/7//dv8W//L+GP83/5n/l/+Z/8r/kf9g/5H/xf/z/9n/1f/b//b/DQC2/6v/+v8TADAAUwAwAOj/tv9GAIwApADqAOIAogCBAGQACgDV/+v/DQDFAEIBTQEqAccAUQAAANv/0v8PAMz/q/+2/+j/TwA/ABMA3f+0/4P/dP+B/1r/CP8w/3D/zP8RANv/f/8//zT/SP8w/+r+Df9P/33/lf/t//z/NgCkANcArQB6ADsAIwBBAIEArwDXAK0AkAB9AD8AKwAuABwA5v/Z/8z/qf/r/ykAHABGAFwAWgBcAFwAWgBBAAQA8//6/xMAawC4AMcAqQBiAEQAPQA9AD0AVQB6AFUAUwCMAH8AUQBaAD8AdAC8ANkABQEhAU0BUgFUAXkBXwH4AKYAzAAJAQsBJAGYAeAB1QGjAUcB/ACTADYAGgAPAAYA6//B//b/NgA7ABwAxf+G/6T/oP9M/wD/7P7y/vv+N//K/ysAIADH/2v/U/9P/2n/v/8jAD0A7f8KAGsAqwC0AIgAPwAKAN3/CgA7AAoA8f8GAEwApgC/AD0Ayv+r/4r/Yv+R/6b/tP8AAE8AWgB6AMMAgwANALr/sf8AAEoAWgBRAEQANAAnADIAYgBTAPb/sf/S/9D/pP/b/w0Azv99/33/zP8CAMP/bf9X/1r/Yv97/+D/NgDM/3b/r//8/woAIABEABEA3f+k/3j/Wv+D/5z/ov+t/6v/ov+i/3b/MP9//63/l/9n/1r/Xv9l/1z/MP8R/+f+yf68/uH+4f77/ur+4/4I/2X/qf+K/4b/jv+Z/5H/eP+X/33/V/8p/zv/iv/B/x4AXAA0AA8Axf+O/7z/2//O/7b/5P8PAFEAXABMAK0AugBMAMP/ov+r/8r/HABPAIwAcgAKAP7/8f8EAPz/QQCbAJcAXgAyAN3/pP+8/7r//v9aAFUAKwA7ABUA/v8AAAYA/P/o/xoAKwApAAQAjv+T/x4AhQCeALYA/AA8ARkBlwBkAEYACAD2/xgAPwAyAD8ANgAwAOv/4P+t/0r/If85/zv/Vf9t/9v/CAAGAPj/v/+0/7z/r/99/3b/Wv8e/3v/sf+6/8r/1f/Z/9n/zP+G/1r/jP/D//H/2//i/yMAMABPAGcAMgB/AJAAUwAuAAoAGgAPAD0AXABtAJUAUwAYABoAuv+r/+L/x/+m/3T/a/9l/0//nv+//2D/NP8j/3L/1/8RACkA5P+X/63/+P/v/+b/JQDpAY0BTAIXAqwB0QGLAdEBgAEVAk8BZwCB/1UAZwAjAPj/7f/v/1cAVQBi/zn/a/9P/6b+qP7W/tz+Bv9T/3v/iv+O/5f/nv+t/17/qv7f/iX/Of9//wIAHADd/+3/GAAeAHgAjAAaAMH/EwBVAKYA/gD6ALoAogBtAPP/uP+G/3T/rf8TAAoADQBkALEAvwCmAE8A5v+R/6//AAD6/3IAigDXAGEBjQGCAQUBmwAaABgAkwDHABIBMQHSAOIAIQEOAa0AaQCBAHYAHgD+/zIAOwAlABEAaQDQANQAFQC/AAgAKwAIABwAlQCbAMcAkADJAOoArQDBABIBXgA/AEQAOwAaAOj/0v8CALb/nP+//6T/mf9I/4j/5v+//woAKwA5AD0A/P85AEYA5v/r/4oAiACtAI4AeAB4ABoAPQBrADsABgDF/63/w//g/8r/zv+k/4r/nv/k/ysAIADO/47/sf+x/3j/af9n/1P/Bv/q/lr/oP/Z/+b/2/+r/0H/cP+//wQAUwAcACUAMAD8/4H/bf+k/+b/SABKAEoAGgDo/8f/7/8AAOT/a//H/uP+U/+O/4z/oP+V/7H/x//K/9X/1f/k/wgAzv+Z/7z/5P8YAEgAawBpAKsAegAlAP7/1f/M/4b/iP9r/3D/tP/d/x4AHgDd/8r/oP9K/1P/N/8p/yP/+f4L/1X/dv+G/5H/nv90/wj/xP5+/qz+9f5V/6D/cv8w/zv/mf/2/xUAIAAPALz/eP9t/5P/2/8NAD0AIwAYAAQA+v8eAKD/bf9r/1P/pv8EADkAcgBvACsALgBVAFwAvADtANAAlwB9AH8AYgBGAFEARABTAEYAZACOAJUASgBaAHQAbwBgACUAEQD6/9f//P8pAGIAiADUAB8BKgEbAQkBzABKABwAGAAuAGcAkwDDAOQA4gCOAGsAIAAuAC4A7//D/2v/NP92//z/tgBNAU0B6ABXAMX/k/+V/4j/cP+i/9L/EQAlADkAQQDx/+T/vP+R/1z/Xv+2/xwAgwDSANQA3QDdAIMAbQBPADsA2f/D/xMAdgDFANIAwwCbACUAk/9r/3D/iP/F//P/KwBPAI4A5AALAdQAvwDJAJAAWgArAFwAogCtALwA6ADQAGcA8f+x/9L/5P/z/ycAOQA0ADYAbQCXAEoABgBMAMUAxQCBAF4AWgBvAC4A7f8pAD0A5v/g/+L/O//A/oH/eP8VAFcABgBt/1/+Cv44/if/4v9gAN3/6P8W//3+U/+k//b/4v/d/2D/7P6j/sf+NP9i/6n/kf/B/3v/6v61/s/+a/+t/xUAMgDK/1P/Yv9l/2D/uv/2/3QAcgA2APz/4v/+/zYAVQA0AK//T/8//zD/8P7h/mv/1/8GADAAHAAnAPz/4v/S/6D/l/+6/wAAGgDz/4b/Yv+D/8z/1f+g/4H/T/9X/7b/9v/o/xUAGAAIAGsAlQB6AEEAKQAnADAAOQBVAIoAmwBnAAQAFQA7AHIAdABPAFwAOQANAPH/8f+Z/2L/SP9p/zf/If9n/1X/oP+x/93/0P9g/xj/xP7q/hz/Mv9n/5f/f/9R/wb/P/+R/2D/Jf8T//D+Bv9r/87/3f/F//P/EQAeAC4ANAA/ABoAq/+T/6T/yv8VAE8AfQBcADYAEQA7AC4Av/+6/wgAEwD+/y4ATAAjAM7/6P8KABUAJQApADIACAC2/9X/JQCOAIUAXAApAPz/3f8IACsAHgAGADYAXABiAGsAUwAAAIj/NP+t/yUAWgCgALoApABiAGQAigBMAP7/CgA0AC4AWgB2AHQAegBkADAADQDd/7r/iv9p/zf/Gv/1/jf/BgBXAF4ATAD8/4P/E/9T/4b/Sv9w/8f/RgCkAAAB7QDJAOYAAwHxAN0AigBiADAAoABwAQgCOgJtArMCwAJXAtwBoQF+AXcBtwEIAmsC1ALjAvECuAJXAjQC2gGuAdoBGQJVArgCSANYA2MDbANIA08DVgMaA+gC3QLWAgcDGgNYA4gDZwMUA/4CsQJ8AnYCmwKqArUCgQJ2Aj0CRQIeAt4B5wHpAcYBxgHNAZEBWAFaAWEBDgHOABIB5AC8AKYAcgD6/yUAOwDt/5f/8v7j/tj++f7C/oD+ZP4+/jb+b/6Q/jP+wf2r/b/9o/2r/Y/9p/2c/Vj9O/1L/Wz9LP3d/Or8GP31/Nn8lPxQ/FD8cfx4/If82/yd/G/8U/xr/MX8/PwH/f78S/1s/Uv9QP3x/E782vvr+0P80PxG/R39vPym/Kr87Pzq/Mv87vwo/WH9mv3K/fb97/2p/bT9Af5Z/lD+Ff72/fj96/0Q/jb+Q/6H/pT+mP6N/qb+pv5b/m/+qv71/lH/P/8C/9z+9f4l/1f/dP9e/2D/O/80/3v/g/9w/xH/xP6o/sn+1v6U/qj+5/4l/0r/SP80/9z+gP5i/sL+zf4E/yH/P/+O//z/LgAIAPb/NAAKAMX/2/+4/87/uP8YAIgAlwC2AGIAIwBMAJUAfQA7ABgAPQCgANcA/gDvAMEAEAEbAQsB1wCDAGkAngCeAL8ABQHvAPMA9QDkABkBSQFHAUkBpwGeAXcBTQFaAZ4B0QH/AdoB4AEBAucB9gHTAbsB0wH4Ac8BuwGjAXcBgAFuAXkBaAGJAbAB4wH2AesB4AHTAa4BZQEqAfoAAwEHAWUBowHTAcoBfgFEAeYAdAAPAMH/yv/2/wYAbQCxAOgA9QDqAM4AcgAYAO3/nv9y/6b/+P90ALgAwwBtAHQAbQAuABgAMAA7AOv//P8uAGcArQAbAUABGwHXAIEADwAEANf/2f8TAFMAsQDQACoBXQE3AXIAuP80/wv/Wv8VAGAAawDMAD4BUgEzAUsBdwEhAQUBzAC4ANQAzAA1AY0BcAESAd8AsQBaAE8AfwCBAIUAsQCVAFcAVwA5AGkAxQDtAJkAHACi/3L/0P8lAI4AqwB6AD8ASABgAGkAMgD8/9L/8f8YADAA1/8l/9b+5f4N/5X/r/+t/33/V/+G//P/KwBBAP7/ov+i/7//q/+4/5f/ff+p//7/8//z/8P/sf/+/0gAawCgAJAAPQDr/23/Qf9y/wAAXABgADsA6//d/yMAZAByAFMA+v+g/4P/af8w/yH/N/+O/8z/uv/b/+b/wf+V/6b/ff97/6L/k//Q/yAADwDi/9f/iP+p/wAA+P+8/5H/XP89/3D/vP+I/4P/iv/i/xEAIABVAD8A/v/M/9f/dACmAJUAdAAuACAAZACkAKYAiAA/ADQAYgB0AEEA3f/S/6T/e/9E/0T/ff+m/87/1/8wAE8APwAlAOD/w/+k/3//q//X/yAAUwAnAA8AHABnAJMASgDV/5H/r//z/3gA+gBYARsBxwAFAVgBEAGtAHQAPQBnAKsAmQBrAH0AkACgAFoA+v/t/wQAzP/H/9f/nP/Z/ykAegByAGkAMAACAA8APwBeAIgAiABcABEAAgAuAEoAYgAwAAoA/P/r/8r/g/99/7b/3f8pAGsAVQDr/6D/tv/o/1MAbwB4AKYAvwDdANQAdgCx/2X/jv8PAGsAbwBIAPr/2//Q/93//v+i/w//4/7f/uH+/f5l/+//EQANAOv/ov9a/9/+vP6x/pj+y/4G/0b/dP+X/3L/Xv9i/2L/Zf9l/1H/LP9p/87/LgCQAOYAIQEJAboAegA2AAIA1//g/7r/oP+///b/IABRAGcAEwCG/2v/4/6s/uz+k/9MALEAqQB0AHIAOQAAAMX/pv+8/+T/7f9eALwAqQBcADsAAgCG/2L/Vf80/2v/cv9R/2n/Rv8u/0//kf+8//b/8/+0/6D/uv/x/xgAJwDH/7b/8/8GAPH/uv94/yH/Jf8l/0T/MP8p/zv/Rv9P/z3/9/7H/hb/dP/B/ycAHADz/7r/pP+X/2v/af90/4H/k/+i/7H/tv+2/6b/e/9w/6L/BgDr/7//CABVAGsAQQDV/7T/zv8KACcAHADQ/6v/AgD4/wgAHgDZ/6//Pf8y/zf/U/9B/1P/pP/D/+L/JQAlAAIAGAD6/+3//P8VAFwAYAA9AE8ALgAcADkAeAB2ADkAFQDi/+j/KwAwAPz/7//i/6v/uP/t/9L/zv/Z//j/DQDQ/9D/xf/v/w0AJQB9AK8AgwBeACkAMgBeAEQA+P9V/w//6v79/lP/dv+D/5P/pP/H/wgADwC4/z//Kf87/1P/Vf9I/3v/tP/o/+//IAA9AC4A6/+r/3j/I/9G/3j/pP8cAKsAwwB4AEYAbQBtACUA0P+O/57/zv/O/xoAdACKAI4AlwCDADYA2f+V/33/V/9r/7j/4P8EAFwArwCvAHIAYABKABMACgAYACMAPwCBAJkArwDSAKYAjACMAIwAjAB2ADsAMAA9AHIAzgC2AGsA8//k/zYAmwDvAAcB7QC/AMEAegAVAMr/4v9aAIoAjACiAKYAUQBIABUAxf+6/6//g/97/5z/xf+g/6v/2f/M/w8AYgBiACMA+P+m/3b/lf+8/0oAVQBBAD8APQAlAAAAKQBRAFwADwA0AG8AawDJAO0A+AAUAd8AvwCbAG8AeABgAHoAmwC4AKQA0AASARYB4gBaACUA7/+M/5H/oP8YAH0AjACKAHoAUwAGAOj/6P/k/wgAkADdAMMA8QASAboARgDx/9f/1f/v/y4ARAA9ABMAuP9R/xr/XP/M/wYA5P+6/2v/Mv9g/3v/gf9y/z3/P/+Z/9X/x//V/8r/w/+D/4b/af9G/wv/3P4T/yH/8P4E/0z/gf+r/6T/vP+K/1P/g/+O/2X/Xv+B/8X/5v/v/woAKQAEANv/vP/8/zYAEQAEABMAFQA2AEEADQACAHj/iP+Z/9v/IwArAI4AgQAAAOL/1//r/4oArQBBAJP/D/9P//r/VQBTAGQAPwAKANX/tP9//3L/gf+p//b/KQBcAGcASAANAA0AYACvAMcAxQC/AJsARADx//b/MgBgAJcAvAC/AFUAJQA0AG8AcgBPAGIANgAaABgAEwAKADIAjgCQAMMAJAExAcUAYgDo/6T/iv+2/9L/1//B/57/uP/B/yAAHgCT/yP/9/4s/0z/bf+c/3j/gf+//wAAYgBRADkAOQAeAMz/iP9n/2D/yv8TADsAKQBMAFoAaQCMAG8AdABKABgABgBkAIoAmQDUAOIAugB6ADIA0v/K/8H/tv+O/8f/5v8/AGsAXgBcADsA/P/k/+v/1/+2/+L/+P/z//P/7f/t/+//BgBBAEEA7/+e/3j/Rv9R/63/AgATAA0ABgAVAEwAdACmALYAlwBeAD8ATABRAO3/2f8lAIMAxwDSALQAgQCDAFUAJQDV/4j/YP9X/8P/7f8AADIAQQAgAA0ATAA5AAYA5P/t/8r/uv/S/yUAVwBBAEYAMgAYAPb/RgA7AGQAZwB4AIoAawA9AGsAmwBtAEwAbQCgAFoAXgCBALYA9QDfAK0ArQCMAIoAXAA/AB4A6/8GABEAHgBiALYA7wDtANcA0ADXAIUAOQBRAG8AogCkAKYAogAYALr/7f8YAOb/uP97/4r/5P/M/63/kf9P/zn/Z//b/+j/pv+M/4r/hv+Z/7T/oP+Z/2X/rf/X/9L/wf+X/7T/rf9E/+r+O/+B/7z/6/8gAAIAg/9X/1X/V/9i/2n/hv+t/4r/e/9//3//ff9r/z3/SP+G/7T/1/+4/6L/tP/S/8X/3f/Q/woALgDi/+L/v/+k/6T/qf+x/8r/BAAnAEgACgDQ//H/HgAwAOj/+P/4/7b/vP/z/xoAOQAnAGIAqwCxAJAAOQDk/87/0P/t/ycAPQAyAD8ARAAGAEoAbwBnAGIAXABBAAIA7//r/+b/5v/m/+b/+P8pACAA5v/o/x4AIADV/4b/dv9l/0H/a/+I/3b/cP8CAKQAwwCMAN3/Uf9V/1P/qf8jAPz/tP+4/xwAcgAlAOv/tv+e/6T/f/8c//3+N/+v/+L/0P+v/7//nP+i/9L/uP+D/xb/Ef80//3+Of+r/+b/x/+4/9X/HgBtAGkARABTAEEAYAB0AHIAVwA2AFwAhQCrAIMAUQARAPr/5P/V/zYAXgBvAKAAxQDfAMUAxQCpAJkAOwAjAFUAegCDAEYAiACkAH0AWgB6AIwAfQBgAPP/bf9G/3b/BgBXACkAIAA7AAoAIAB6AHgAbQANAPP/FQDS/5n/1f8jAEoAfQCIAGQAIwAGAAIA7f+e/1r/T/9t/5P/jv+K/1r/k/+K/4b/yv+2/17/cv94/0b/Qf9p/6T/wf+c/0j/YP+r/wYA+v/Q/6D/iP+8/zIAZABKACMALgAIAPP/CgA/AEEACAAKAEEARAACABoAXgATANf/0P8aABwAPQA5APb/zP+r/wYAqwAHAeQASADM/3v/lf8gAJsAugBrAG8AdgBpAIEAngCDAIUAMgCm/63/HgBXAHoAUQAyACsAJQAyAGkATADm/+T/1//8/w8ACADv/8X/2f/F/wQALgDz/ykA6P9X/yH/Bv9R/63/4v8GAOL/tv+O/6//x/+4/57/+v9nAFEACACp/57/mf+//w8AXAArAAoAvP+g/y7/BP9a/6n/QQAIAO//+v85ACcADQD6/7//qf/d/1UAlwCxAJkAhQAlAPb/+v/6/+3/ov9y/4j/cP9l/4b/rf+O/23/Vf+Z/8P/gf+I/4j/tv/X/9X/4v+2/3T/wf8IABoA3f/x/w8A/v/S/63/e/9G/+P+9f5//57/hv+2/+v/EQD2/+v/9v/m/7b/qf+0/7//xf/4/28ArQDoAPoA7QC4AEEABgDX/8f/0v/H/57/l//K/0YASADt/9f/ff9E/zn/Xv9i/3//bf9P/0H/cv+X/6L/uP+v/5n/uP+i/5n/lf94/6//0v/8/zkAfwDMAJkAigB4AG0AGAAKAGIAmQBiABoADwApAFcAJwD8/wQAqf+G/3v/Sv9E/3//GACZAO8A6gCkAGIA8//O/+D/2f+x/7z/GgA7AAoAVwCDAH0AgQB9AH8AVwDg/7//tv+r/93/PwCmAEYAAACZ/+T/ZwC6ANcA1ACeABwA3f/F//H/UwDoAO0ApABEAEYAXABGACcAPQAGAL//sf+6/6b/jv+m/7j/8//K/8f/x//Z/7z/k/9p/0r/TP/Q/zsAVQAwAOb/MABXAFcAWgBXAD8AHABcAL8ABQH4ALEAlwCrANsAEgFJAe0AhQAeADkAtAA8AVgBWAE+AZAARABVAH8AigBpAEEAXACXAPwALAFPAT4ByQB/AGkAKQBrALgAGwEfAeYA3wC2AMMAxQCVAE8AAACx/w8AdgB6AG0AGgBe/xr/SP/S/xwA8//D/6v/7//v/wYAEwDd/2X/Z//z/z8A/P+6/8H/l/9//5f/tv+O/2n/Sv+I/8H/hv8e/wT/U/9e/4j/uP/X/6//pv/2/ykAAAD8/0QAegAyAAgANgD8//H/+P9MAFcAEQD6/wYAUwCFAGsAhQBcANn/q/+8/woAVwB/AJcAZAApAPz/BADb/9D/+P+4/3//pP/M/+3/yv+0/8f/5v+r/17/Zf+g/7T/zP8GABMACAAVAEQAaQB/AGQAUQAEABEAKwAjAB4A7f90/0z/Zf+0/+3/3f/o/9L/9v8EAAQA8/+4/6L/uv/H/3v/iv+i/7b/EQB2ANIA5gBIAIb/I/8Y/zv/mf/Z/6D/Qf8T/0H/jP/i/4P/J//s/qz+4f7Y/kH/yv/t/7//8//o/8z/7f8YAP7/1f+i/2X/Ef9G/7T/GgBcADIAMgB9AMUAugB4AEQA8/+m/9v/kADMAKsAZABeAHgAfQDBALwAqQBEAPj/6P9EAFMAPQCeALwAxQD4AOQAkwB0AFUAPwCFAIEAkwCiAJAAqwAJAQ4BugCvANsA2wC2AFcAAADk//b/JwBGAGAAGADk/1EAqwC0AKYAkABrAAgA4v8gABoALgBTAGcAYgCbAIwAjABKAO3/uv99/0T/1v7h/kb/Mv8l/yf/O/92/47/kf+p/6D/Av+1/nX+aP7N/vv+a/+O/zv/Bv8s/1z/l//H/+3/2f8EABUAOQCDADAAAgAGAPP/zP8KADAA3f/S/8H/4P8RAF4AvADmAKYANAAIAGAAaQAlAAoAHABRAIwAEAFlATMBpABRAA8A+P8PAEQAVQA5APj/7f8eACkAOQByAGIAGgDk/6v/gf90/8H/tP+R/2L/dv/X/6//Yv9X/23/q/+p/4z/mf+K/7H/5v8PAAQA+P+X/1f/Ef/j/gb/9/4L/17/Z/80//n+jf5d/lL+sf4a/17/ff8u/+X+rv71/hH/N/8p/0z/wf/O/xMAUQA7ADkA8/8lAGQAVQBrADYABAAuAEQASAA2ABUAPQA7ABUARgBGACMAMgAVAPj/4P8KACUA+v+K/2n/iv/+/30AiACZAG8AUQA9APz/7f/d/93/SACmAAMB1ABgAA0A8f8KADYAMABcAF4AIAAPABUAGAAYAAIAzP+4/9n/EwA/AF4APwAVABEAeACOADYA1/9y/z3/g//i/xEAawC6AMUAugCeAC4Atv+//6L/r//Q/3j/V/9p/3j/hv+T/4r/RP8E/wT/Av/a/uH+9/4l/1z/Xv9l/zL/P/9K/3//l/9E/9L+wP7a/gv/Zf+V/6D/sf/B/+j/GgAPACUA9v/O/+///v9pAHQAHgA7AFEAWgA7AOv/GgBcACAA4v/D/7z/FQArAHQAzgDJAHYAJQAaAB4AUwC/AK0AqwDQAKQAogDbAO0AzgCXAIEAgQBpADYAEQAKAHIAmQB9AD8AJQA7AKIALAFhAXkBKgHfAPoAFgEsAQ4BJgEuASwBWgFfAUkBNwEhAf4AmwBeAEwAFQBGAEwANAD6/wgA5v8wAGAAawCOAEwA3f+G/zv/x/6W/rz+l/9pALQAWgCp/yz/8P43/5n/vP+m/5X/4v/o/zYA1AAmASgBAAGvAIMAdABtAHoA2QAqAckAkwCIAJAApgCMAHQACAC6/5H/r//x/2IAoADiAAkByQCIAD0AKwBaAF4AbQCFAH8A4gAzARIBxQB/AEoAMADg/9D/w//M/7z/1f/t/8f/tP/2/+//7//F/6T/tv8AADIABADr/+j/4P/z//j/k/83/9r+7P4l/0//TP9i/0T/MP8j/9j+kv51/kX+X/6f/rz+LP9l/z//5/4C/xH/4f7j/vf+C/8e/0T/iv+O/1r/Sv9t/8r/IwAnAPH/zP+Z/6T/6//x/6n/eP+t/9v/MgBnAFMAOQDK/wIASgB2AC4AuP+i/zL/5/4G/3//AADO/0//Sv+K/7z/6//V/8P/5v8NACAAWgArACAAHAAwACkAOQAaAO//1/8GACMAJQAaAOT/1//b/+L/0v+2/+b/BAANACkAbwB0AFEAXAA2APP/tP8GAGIAvwCxAJUAkwCOAHYAOwAYANL/dP9K/1H/Av/u/g3/Mv+X/9D/ff9g/1X/I/8I/wL/Pf97/8X/6//d/8z/+P8TAAoAzv92/1H/cv9e/2D/dv+Z/+T/BAAnAIEAvwCQAHgAUwD2/xEARgCDAIgAUwBGAF4AogCiAGkAQQAIANv/w//b/+//awDvADMBWAFWAfoADgFPAVIBRwE5AUABhAHGAdwB5QGhAVgBBQHdAOQAEAEbAR0BSwEzAfgA8wDOAN8A3wDbAOoAxQAFAX4BngG/AZ4BWgExAcMApABpAFwAjACiAMUAxwCKABUAEwAEAK3/Uf8T/0j/Zf/w/qP++/6c//7/DQAjAAYAa/8y/9T+s/7H/uX+Mv9V/0j/C//3/tL+ev61/hb/LP80/zf/T/+K/9D/VwC2AK0AYgBTAGsANgAaABUAEQAgAHQApACFAG8ABAC//7H/DQAeANn/wf+4/8r/KQDFAAcB5ADzAPEAxQB2AGQAeABeAHoArwD+ANkAqwCbAIEAWgAKAPH/1/+//xoAPQAuAA8A2/8KAE8AcgCFAF4AawBaACAAZwDFALoAugCZAKYAkwARAJP/hv9g/17/tv/t/7//jP9I/0H/Z/9T/3b/jv+I/5z/0v/i/9X/zv/F/8H/vP+6/7T/sf+e/3b/nv+Z/1X/Rv9K/2D/nv/K/+3/w//B/+//+v/i/7j/7f9RAIEAYgB6AFMA4v/x/wAAEQA0APr/pP+k/6//TP8h/0H/Zf9y/9n/FQAwAAAA8/8TAOj/4v8YACsAQQByAJAAigAcAO3//v8/AIoAawDx/7z/yv/o/+D/7f/D/6T/qf+m/9X/JwAIANv/v/8KAKQA3wCXAB4A3f/z/y4AiACeALwAYgAPAOj/9v/X/7z/x/+c/xj/s/68/s3+qv4G/2n/4v8TAPb/tv9t/+f+kP6q/vv+If80/zD/Gv80/xz/Df8l/wj/t/7W/gL/Av8I/4z/9v/k/3j/g//r//b/EQD4/9X/iv9V/3b/Xv9c/2v/lf/O/8z/5P+t/zL/vv6u/vn+nv8aACUA8f/d/8f/q//d/xMAUQB2AGQAWgCOAEYAAgDz/w0ABgAeAAYA3f/B/+3/8//Z/w8ARACDAIoANADk/63/V/+e/0wApgBvAFMAoACgAK8AdgAEALz/mf+e/x4ApADBAHgAdABiAG0ASgAnAOD/r//D/7r/wf+c/+3/NABvAH0APwArAPz/jP9c/0r/f/+g/8P/+P/t/xwANABRAGQAHAD+/7b/tP+0//P/YgDFAC4BXwFCASgBuABtADIALgBnAGIARACFAOgAQgFqARsBkAD8/93/GgAyAFEAmwD1AAUBwwDoAOQA8wAUASYB9QCbACsAMABaAKsACwFHASwBxwA2AMr/8//k/9L/9v8uADkAAgCI/1z/YP97/7r/6//+/5f/e/+e/3v/cP+k/xoAQQARAJf/af9R/zT/U/9r/8P/qf9e/1X/Lv++/qH+tf7c/in/eP/k/9X/1//i/4b/Uf89/3D/l/94/y7/T/9w/47/vP+x/8f/ov+p/wIAVQBXADQASAAjABMABADi//j/3f/M/+T/IwA7ADkAPQA7ADsARAA0AAgAGgDO/1z/k/8CAFEAfQCkAGIAMgB/AE8AGAAuAB4AMAAlAE8AYAByAJMAdACVAKYAmQCmANsAzgCKAG8AZABGACAANAARABEAOQAPAOj/mf9e/3T/Xv9y/8z/HAAaAMf/jv+2/8X/3f8NAAIAKQA/ACkA4P+V/3T/Qf9P/2v/Fv/5/iP/gf/2/zQADQDk/5n/Zf+R/8X/9v/X/9n/LgBpAEoASgB/AHYAEwCO/4P/rf+V/5P/zv8wACAA8//Z//7/KQBeAHgAXgA7AFMAegCXAIwAkwCZAMcAlQCKAGAAEwCI/z3/dv+r/wYAXABvAFUAFQD2//P/4P/F/wIAbQCgAHYAVwBnAIEAbwCQAKIAgwAwANf/1//r/6n/1/8/AHoAOwD4/wAAzv+4/9L/JwB4AKIAwQCmAKkAZAAEAAYAKwAaAFEArwDDAFUANgBpAHYAdgB0AFcA7f9I//3+LP9P/1P/iv/z//r/IwAwACMA2f9B/y7/Uf/b/+v/7/9GAIUAkwB0ADIAGAD+/9X/+v/8/8H/vP8PAGAAigC8AL8AlwA9AOj/3f8nAFwATAB/ANkA5ACmANAA3wD6AJsASgD6/7b/AgCBAKkApACrAOYABwG2AFUALgAaAA0AIABVAH0AjgB0AHYASgD8/5X/cv8T//L+Av8y/6//xf+G/4P/pv99/2n/cP9w/2D/MP87/3//iP9P/1f/g/9i/zv/HP85/wv/9f5M/0b/Ef+z/pv+yf4C//X+3/65/p3+df6N/uX+D/83/4P/k/9n/2L/af9g/yX/Bv9G/4j/1f/2//7/6P+t/6D/wf8gAJUA5gDkAI4ALgDi/wIAUwAjACMABgAKAEoAdACxALEAYgApADsABACr/2f/eP+p/6n/4v8aAD8ALgA9AAgA0P8CABgANgBPACAAawCXAI4AjgCFAJ4AuAC/AAMB6gC2AHgAVwBpAIwAaQBpALgA6gC6ALQAyQCOAFoAMABrANQAMQFwAV0B3wA/ABwAUQBiAHgAmQB/AKQAmwBtAFUA8f+R/2n/wf/M/xwABgAPAFMAogCFADsAsf9a/4H/oP+V/47/8/8TAA0A+v/O//H/BAAVAE8ASADv/5f/r/8pAGQArwDdAKYAbQA7AFcAYABaADkADQAVAAQAJQBPAGcAPQAIAOT/0v+B/47/q//F/xUAdACiAHIATwBXAGIARgA5AAAAWgDHAPEAqwBiAGIAQQBIABwA/v/m/7j/7/82AD8ANAAlADQAYACBAJcAZAAjAPP//P/m/x4AZwCDAJ4AaQArAPj//P+6/5P/2//D/6v/r/+r/8H/yv+D/4H/YP9I/zL/5f61/v3+U/+V/+b/nv90/3j/e/9V/+r+vP6S/qP+9f4T/zT/Yv9X/5n/2/+6/6v/sf+c/2f/P/8p/0b/dP8rAKsAogBkADAA7//X/9n/3f/d//b/HAATAEwAtADkALgAaQDv/5H/O/9r/+D/MABgAIMAbQCKAHoARgA9AN3/yv8aAGsAawBEAGQAbQBiAGIARAAYACcAAAACAD0ASgAVALb/x//4/zIAYAB6ADkAzv+T/7j/zv/r/xEABgARAAAACADm/7r/nP+t/5P/iP+V/5n/mf+K/0b/Mv+Z/+L/8f+Z/1r/P/9R/2n/wf/B/5z/a/9i/1z/MP8Y/wT/Kf8a/y7/dv+T/4H/af+D/5f/AABPAF4ABADF/57/ff+D/+//DwDF/5f/w//x/zQAUQBpAJAAZwA9AAgA+P/4/wAA9v/x/1cAhQBrAEoAXAAgAOj/BADk/9v/5v/+/z8AQQAaAD8AVQBpAKAAtgCDACMAIwAYAD8ARAANAOj/yv/z/yUAYgB0AFoAHgAGAB4AXgByAIUAkwBEAD0AMABRAGQATAAAAMf/+v8AAOD//P+r/yf/9f7q/gb/Jf9p/0b/Uf9X/3D/V/9R/0z/O/9a/1z/dP94/5P/vP9IAFcANAACAAoAMgARAO3/vP+T/6n/UQDFADMBQAHbAIgAbQCBAJ4AegA7APb/RgCIALwAugB9AEoAPQB0AD8ANgATAOT/x/8EAG0AzAADAcwAvwDtAN8AmwCQAK8AbQA2AHIAzADkAHYAXACMAKkA0gDfALgAgwCBAH8AwwDBANcA2QDHAKYAbQCBAIMAegCIAOYARAEbAdsAjgBgAGIAdgBcAHgAfwB/AKsAsQCMAFUAVQANALr/ov+v/8f/nP+B/5f/4v8/AIUAegAYALj/g/9I/0r/iv+c/7H/6/8jAHQAUwAYANX/zv8AAA0A7/+r/47/pP/x/2cA1ACeAD8AFQAGAOL/tP+4/7b/+v8TAIEA2wDZAJsAEwDO/4j/cP9r/4H/pP+8/0gApgDxAOIA6ADiAJkAGAD4/ycAMAArADYAfQCkAHgAigCFAFwACgAVAFEAJQA7APr/9v8EAOT/uP/m/xoA5P/H/7//rf+T/2n/pv/Z/8P/tP9n/2D/T/9p/4b/V/8R/17/jv+K/47/iv+G/2v/Rv9t/4H/l/+6/7z/BADZ/5z/r/+I/3b/ff9t/zT/Jf8u/0j/iv+2/+v/4P+i/4z/pv/k//r/6P+g/1X/RP9M/z//Kf9X/4z/sf+6/wIA8//X/9n/2//k/+j/6//V/4P/O/8e/yH/pP8CAMr/g/9I//X+/f4E/yP/E/8N/zn/af9i/47/l/+B/7T/6/8EAJz/RP9E/z3/Fv8T/yz/Rv9X/5H//v/g/5n/jP+X/3v/Mv9l/6n/9v/t/4P/Pf/w/hb/V/+6//r/ov+g/9L/v/+X/1X/Zf9X/0b/Ef/W/tr+9/4u/7j/VwB2ABUAiP8c/wD/Lv89/3L/V/83/3j/vP/4/+T/4P/d/7b/uv/M/+D/4P/O/yAAgwCkAK0AtgCgAH8AlwB9AG0AfwCFAKsA1ADOAK0ASABVAEgAgQCTAKAAiABgAFwAvADtANsAogCgAMMAmQCKAKQA3wDxAAcBKgH6AMMAgwBtAHYAdgCOALQAjgB2AHQAcgBvAIoAxwDqAP4AyQCTAHoA6gBYAbAB3gGlAXcBcwFqAd0AfwCeAKYAtAD+AEIBLAHbALYAjgBKABwA8f8RAA0Azv+0/+D/OQA5AFoAbQBIAAoA2f+X/2X/Mv8l/1r/6/89ACkATABBAPb/x/+I/3b/eP+p/wgAJwBpAHgAxQDiALoAigCbAKAAkwBvAE8AiABrAGIAxQA5AUsBBQFrAO//6P8CAAIARABBAD8AOQCkAPoAHQFjAf4AVQAYABwAYAC8APwA/ADSAIEAUwA/AC4A+P+M/63/8f/+//P/EQBeADsAEwAeAC4A/P/X/9D/sf+K/6v/0v/v/6v/Uf85/zn/Uf+M/4b/Rv8a//n+O/+g/9n/nP9g/4P/q/+2/2X/bf9y/0j/oP8TAAAA0v+Z/3//f/9p/yH/1v77/mL/iP/r/xEA6P+8/8H/x/8RABUAOQA7APz/5P/K/3T/LP8l/17/2/8GAOv/lf9E/y7/TP+V/7j/uv/F/4H/AP8T//D+Df9l/8z/x/+c/2n/af+p/8P/zP/Q/+v/KQA7AE8AaQA9ACcAQQB4AJ4AuAB2AB4AGgBPAE8ALgBrALQAogBGAO3/1//Q//z/eACkAKIAgQA5AAQAzP+e/5H/3f/o/xMARAByAH0AYAANAMz/7//m/6//pv+//w0ASAAjAA0ADQDv/7T/k/9g/2X/qf+r/5z/7//F/6D/BgBPAFoACgDr/3j/Gv8w/4b/4v/r/8z/8/8AAPr/6P/M//b/CAAKAPz/r/94/57/uP+x/5z/4P8eAPr/1/+K/0H/HP8c/33/jv/Q/w8A6//Z//b/GgARACUACADg/63/iP9//+v/GgAuAFMASABVAGAApACOAC4Anv+I/5f/FQBtAG0AtACXAHIAbwBpAGsAaQCFAI4APQAeAL//qf8CAGQAyQD6AMcAigBGAC4AMAAyADIAGgDO/5n/wf/r/yMAJwAAACUAHgDi/7z/iP97/4P/qf/F/4H/lf+v/7H/uv/Q/w0ACgDt/xEAJQAKANX/sf+Z/8f/5v/t/+L/k/9c/3T/Wv9n/6//4P8EAOb/0v/X/9v/5v/o/wYAGADO/+T//P8RAFEAgQC2ANkA2QBvADkAUwByAIwA+ADSALoAigBnAEgAIABMAF4AYgBKAPb/iv9I/w//Av+//+j/1f/v/woAxf+M/7b/9v9tALEA4gDqAMMAYgAjAEoAXABtAJMAZwBKACsA/P8eACAAEwBpAIgAUwDb/8X/DwBXAG0AgQCgAGcAPwA5AEgAfQCXAMcAuACQAJMAmwDzAJsAEQDr/zsAdgCpALgAjgBEACMAHgATAAgA6/+t/7T/AABGADYA9v/H/57/v//V/8X/kf+O/6//cP8h/yn/Z/+r/woAEQAcAPb/1//Q/7j/a/8y/3v/5v8yAEEANAAVAOb/IABRADsAHgCv/+b/EQDz/7j/ov+p/7j/IAB2ACMA2f/M/w0AFQAnAAgA2f+g/3L/T/9l/0T/TP+V/8z/CgAlAPj/Zf/U/l3+TP6Y/j3/nv9r/yz/CP8E/1z/Qf8E//X+z/7l/iP//f7A/sT+2P7u/gj/Jf8l/xj/P/8u/yH/6v7J/vL++/4j/0T/pP+6/wIAOwD6/xoACgCe/1r//f71/i7/nP/v/8r/dP9K/1r/Kf9X/4z/ov+2/8X/w/+r//j/WgCOAO0AFgGxAIwAfwBKAD8AZAB9ADsAVQByAHYAgQCeANsA3QCKAFEAZwBgAIUAuADxAAcB/AAmAXkBWgE+ATcBRAFfAS4B+AC4AIUAcgDoADcBAwHiAL8AeABgAGQAYgBgADkAx/+g/7//5v/M/9D/EwARAPH/BADz/wAA2f/M/8H/uv8NABgAKwAKANv/ov+T/6b/xf8cAFUAHADK/8r/AAAuAHYApgDbAMwAgwA5AOT/JQA5ABgAgwASAWEBdwHBANL/4f7h/oz/egAxAbABkQHdACsApP+2/xUA4gBwAZwBNwGQAGQAoADdAPwAEAHmAPMAEAFJAZgBrgFSAboAOQA7AFwAiACTAG8AJwARAFEAkwB/AFUApACOADYAegCpALEAYgDt/6n/w//o/xwARABeACMA6P+I/0T/Vf9B/2n/g/+G/3L/Rv9p/2f/Fv/J/s3+Av/l/gb/a/9I//3+C/80/yn/Pf85/0z/LP8R/zT/f//O/y4ADQDi/4H/Lv94/+D/JwBg/1r/zv9iAFMAjv+R/5H//v+X/5P/Fv/a/tz+0v5Q/kf+ev61/hb/+/59/0T/RP/C/tT+Uf/K/0wAcgDxAE0B/gBGAHIA/gD8AAsB0gBBALr/NgBWAZEBdAAF/pj+PQD4AfEARP9V/7EAPwKhAe3/M/51/g//iAAHAWgBBwFkAAoAQQBfATEBYgCI/5f/6P8cADsAe/8s/3v/PwC/AKAA+P9G/zv/g/+p/6T/cv9P/0j/yv8AALH/sf+6/zkAogCvAJAAHgB4/z3/r//o/wgANgA5AG0ACAC2/9f/6//B/33/5v9PAEgAJQBeAJUAZwBRAFEASAAwAO3/7f8PABMAXAB0ANAA2wCmALEAaQATAP7//P/6//b/8f/8/0gAlQDQADUBSwEHAW0AAADi/93/4v8AADkAbwC6AK8AxQDfAA4BSQEbAbEAsQDOANsApgBrADYARABiAJUAuAD6AB0BwwBIANX/YP8n/1H/bf+G/9n/CgD2/wIA0v+0/5f/Zf+B/2f/2v61/l7/UQAmASEBKwC5/qD9hv2z/noAbAHdALb/5/63/vv+tP+bAEcBrQBr/+P+BP8a/3L/egCAAZoBtgC6/0z/zP8eAG8AngAgAMz//P9EADIA8f+v/1H/k/9XAMUAUwDX/6D/SP9B/xMAxQDmAK0AIADo/+T/3f/g/87/k/+D/5H/pv+//3v/GP/u/lH/8/9TADsAnP8P/1z//P/H/9v/NgA9AEoA8f8nAGcAogDUAHoA8//D/7r/ov9a/yz/YP97/6T/+P+Z/0r/cP+x//H/bf9G/4r/mf+8//r/IwAwAOb/JQCvALgAPwDH/8P/oP+v/20A9QBnAIUAhQB9AKsAGgBcAC4A3f/D/7//dAAJAWcATACc/+3/RADx/3T/cv/M/ysAuP9c/+f+CP+T/7b/2f9c/3j/MP8y//f+Z/+G/+L/ZAC8ANQAbQBtAJAAxQDvACEBAwF/ADkA6P+V/4b/iP+m/+b/CgA7ADIA7//t/z8AjACIABwAkf9n/4P/w//t/ycAJwARAIoA5gDoAK8AFQCm/5H/lf+g/6b/2/87ACkAEQD6/6D/U/8w/zD/jP9t/zv/Wv9P/5H/5v/6/+b/q/+0//P/DQD8/6v/TP8G/xr/Zf+K/3//af+K/23/dP+i/23/D//7/mn/ov+t/9L/DwAnABUA5v/b/+j/1/+8/9X/tP+g/6n/2/9vAO0ANwEoAd0AlwAEALj/6P8EAPz/yv/O//j/2f/k/z0AdgAeAJf/Zf83/z//oP/m/9D/wf/r/2QAfQBaAGkAVQBKAAoADwAAAB4AKQDz/yUA0ADvAKYAfwA9AEwAmQBPABEAwf90/1P/Xv/V/xgAPQAIAKL/af+R/63/uP/X/xgAGgD6/xEAAgAlAC4A/v/k/5X/Xv+G/8f/2/+k/+//PQBnAIoA4wHcAbz/b/5q/mkAWgG/AXUB2wBXALj/v/+O/zn/8/8WAcUCmQLz/7T95/1cAJ4BPAFIAOb/HACeAHoA2f8j/zf/fQBDAqoCBQEu/xP/awBWAeIADwD8/3IAvAC6AFoAx//F/2cAZADd/8z/5v+6AN0Ayv+X//7/PwBvAAgAAgAaAEQAPQAeADIAQQCgAGAA/v+M/1z/cv/d/14ANgDi/8H/sf+4/6b/nP/4/w0Atv+v/x4ABgAVALj/af+0/xoAaQBIAL//Lv/S/lX/6//D/3j/Z/+B/9f/QQB0ADAAw/+G/63/x//Q/9f/8f8wAC4A8f/H/3b/P/9y/5H/nP+G/2n/af89/3//kf+r/3//N/8e//D+9f7w/vX+T/9P/0r/gf/2/yUADwDb/+D/DQDx/+3/5P+v/5H/Uf8n/3L/tv+X/6D/7f8CABwASgArAAgA6/8AALT/U/9e/4j/HABBAGkAgwBpAC4AKwBaABwA1f+0/5n/uP+m/7j/AgAKAMX/Z/8//0//E/9P/57/hv+D/6L/4v/+/woAFQA0AGAALgDv/+v/3f+p/6b/oP+k//j/KQCvAKYAaQCmANcAtgB2ADQAUQAGANL/q//M/08AeAB9AG0ANgANAO//HgAjAO3/w/+g/9D/DwB9ADcBoQEzAZcABgDD/47/ov/t/yUAOQAKAD8ASgBVAEgAUwAgALz/kf+8/+//GAANADQASgB0AOoADgEAAckASgAjACUAPwB6AIwAdgBIAHoAwQDOAK0AmQDHAHgASABIABUApP9//6T/9v9PAEoANgBiABEA4v/m/+j/6//x//P/4P+R/3T/yv/X/wAAAgDK/6b/hv+v/8H/x/+8/7T/KwCiAMEAdAB4AH8AcgBcADIAaQCvALoAsQCTAGQAgQCTAKYArQA9APj/uv/M/z0AbwCiAK8AuAALAX4BagHDAF4AYAAyADQAmwAUARQBxwCbAJcAugCiAG0AngDJAIwAgwCKADAAHADt/87/uP+O/8X/DQAcABUAIABMADsA8f/S/8f/w//X/yMAaQBgAAIAv//H/5z/cP87/z//bf9K/1H/dP9M/yP/Av9E/4P/e/+p/8H/pv9p/z//Df8W/1f/iv+0/63/1//r/8z/f/8c//L+Jf9I/1P/Zf9a/1X/uP/k/8z/l/+I/6D/2f/z/+L/r/+0//b//P/O/6//eP9n/0H/2P7C/u7+T//F/yAAJwDV/4j/Zf80/0b/k/+2/8H/4v8cAEwAcgB0ALQAiAAcANL/2f8wAHQAVQBGAC4ACgAEANX/BgD2/+L/AABRAKAAtACbAHYAgwBTAB4A1f+K/6v/OwCiALQAtACpAJkAeAAnANX/2/8EAPb/HgAeAOT/7f9VAMcAlwAnAMP/cv99/7j/6/8EANf/JQBIAD0AEQC4/87//P8gAO//q/+v//r/KwAEAN3/7f+bACEBSQHtADkA5P8EADAAawBtACsAKQBeAGsASgAnADYAPQB/AFEA2/+k/8P/EwCmAKQAogDvAFgBmgEDASMAg/+I/ysA1wAdAakA/v9KANIA6AC2AEwAZwCTAF4AMADZ/5X/yv8pAHgAfwCDAKQAtADHAKkAvwDBAMMA2QCeAF4ADQAAADAAaQDQAOoAvABtACsA5P+m/33/jP9T/0j/6/8gABEABADd/5n/iP+Z/93/DQDb/7z/uv+X/3//7f85AH0AjACk/yD+iP02/l7/SgBKAFr/rv5G/xEAjgBIAH//YP/b/z8AKQDk/xoAJwAKAP7/JQBtANkAVQBi/wj/NP+g/xgA+v/t/6YASQFWAVoBGQEuAND/nv8aANQATwGsAVIBmQAnAEwAdgBcAGIARgA/ABEABgBMAG8ANgD+/9L/8f/2/wAADQC6/8X/6P8CAL//e/+G/2n/q//k/+b/EQC//3T/U/9K/wL/AP/s/t/+BP9E/0r/+/61/qb+s/7H/tb+5/71/gL/Ef8a/yH/Kf8h/wb/Yv/d/9D/wf/H/8X/xf+2/5n/yv/K/6n/wf/B/+v/FQA2AA0A4v+m/7r/GAAgADkAMgBTAGcAOwC4/1X/Rv87/xP/Pf/D/+//7//z//b/4v+//+j/8f+p/2X/Wv+B/8z/8f/z//H/1/+k/5f/x/8uAA8A4v8VACkAEQDH/23/P/+G/93/DQA7ABUA/v8TAFwAZABcAI4AKQCZ/y7/XP/Q/zsAqQD4AAAB9QDUAIgAVwDx/3L/bf/V/wAAv//F/5X/Xv+p/9n/ff9g/1f/Pf9g/2D/k/+0/8P/yv/k//z/pP+I/7H/+P8EAMH/f/9X/0H/dP+0//z/MABXAE8AdgB2ADIACAC//5X/5P9RAKQAkwAcAPb/+v8YAEgAKQAEAM7/wf/M/+b/IwA5AD8AXgCbAK0AqwCBAAoA4v/o/93/tP/V/2IArQCDAFUAJwBKAGAAfwCkAHoANADH/6T/3f82AD8ATwBGAGAAmQDxAN8A2wAFARsBAwFiACsAoABAAVIBZQGAAYkBNwHmAAAB1wBVACUAJwAgADIAZABvAF4AaQB/AFMANgBBAG8AVQDD/1f/SP9R/3T/zv82ADkAhv/5/tz+Vf+v/4z/f/9t/zL/Vf/r/1MARAAGAKv/Lv9t/8z/LgAIALr/jP9p/33/pv8aAP7/4P+I/17/Vf8Y/xH/I/89/2f/wf8AANf/sf9n/z//pv/d/wQAaQAAAfoAGgDb/0YAsQCvAKkANgDQ/8H/6P9eAGIA2/+K/9X/ZwBKAPP/fQByAAQA+P9aAKsA6ACBAPz/rf+T/6v/BABkAHQAgwCMAAgAjP8//zD/Pf9r/6D/l/+V/z//If9B/4P/k/9n/2D/gf+r/6L/0P/o//b/NABKAHgA7wAOAegAjgAjALj/mf/z/+3//P8rAAYA3f+m/3v/Rv8p/xb/Yv/D/+D/zv+c/3b/YP+B/4b/oP92/x7/5f7f/gj/SP9R/4z/rf+4/5f/SP9T/1H/dP9n/3//zv/r/9n/v//H/4z/v/8gABgAtv+c/6v/oP9i/z3/e/+k/8z/DwAuAAgAr//K/wQANAAnACAAMAAeAPP/0v+6/+j/CAAnAIgA2wAFAR8B8wCpAE8ASgBEAFcAQQAcAAQAHgAYADIABADQ/+v/0P+x/4H/dv+e//r/VwBrAG0AXABEAHQArwDfABUATP9c/7//YACKAKQAgQByAJMAVwAnAFUAZABgADsA0v+x/+T/YAB/ADsA8//g/7j/Uf8n/xj/T/94/4j/nP+m/6//zP8TABgA5P/F/6//4v8EABEAGgAjACcAPQB2AI4AiACvAAcBBQEhAUkBXQE+AVIBSQH8AAcBUgFAAVQBcwGpAfsBLQIpAvABrAGTAU0BHwEhAVoBpwHwAR4CDALNAWoBHQHOAKYAlwCFAGIAEwDv/+D/5v8uAHIAdgBeAEoACgCc/6T/sf+t/63/1f8pAB4AHAAAABUAMgBvAJkAXAAwABgABAAPAFMAmQCeAI4AYAAVAL//Uf9E/zL/U/+B/7T/2/8GAA8A5P+2/6b/V/94/7H/gf99/7H/6P9TAIMAvwDiAJ4AgwCOAFMAKwA0AH0AvwC/AKYAigBaAAYA7/8yAEYABgBBAHIAZwD4/6b/dv+V/6T/uv/V/7r/oP9l/47/uP8VAO3/6//+/+v/+P8NAMz/bf9r/4j/eP+I/4z/zP/M/+b/7//F/33/Xv9i/4z//v8PALj/af9P/0//N/8a/xj/z/75/lP/Z/+D/6L/jP+c/3v/eP+i/2X/GP8P/zD/cv+M/5P/gf9c/4b/l/+X/4P/Sv89/2D/ov/Z/+3/jP9K/xj/Df8c/0H/hv+i/5X/dv+e/7j/ov+D/7j/v/+e/87/7//b/7r/w/+c/4z/sf8EAGsAkAAwAB4ARAAPAMz/YP9K/2v/8f+gAJ4AVwDv/wYAbwCxAKYA2wDvAGQA4v+r/+b/YADqACoBWAFAAdQAXAACAO//9v/6//r/6P+Z/2D/jv+p/8f/4v+K/2L/Z/8//9T+zf4c/1H/tP8NACAACADO/6b/eP9w/3//e/9P/0j/Uf9e/2f/nv8GAAoAMgA0APz/1f+2/87/uv+Z/4P/mf+G/3j/tv8aABEA5v/O/+L/1//o/8z/v//K/+3/MgBeAIUASgD2/+L/6P/z/xgAWgBvAGQAVQDm/7b/OQAKAEQAkwCxAGsAKwAuAOj/AgBEAIUAJwDZ//z/NgCrAO0AOQGEAWMBJAH6AFEAKwCvAA4BGwEsAU8BXwFAAa0AawAeABUA5v+t/9v/uP9c/1r/Xv/X/z8AbQCkAKYAYgDO/1X/Of+t/xoAIwAIAD0AfQBpAAQAe/97/9v/0v/F/+L/+P+2/2L/oP87AIEA5gCpAEQAx/+R/5P/lf+x//P/9v/o/zQAIADz/5H/HP8n//D+yf7n/hP/kf+m/zAAhQCbAFMACgATAOv/6/9aAMkA5AALAccArQB/AEgAHgA7ADsA/v8CADkAQQApANv/tv/+/wIAEQDt/9X/vP+X/9n/KwA7ADIAFQDb/8r/4v8VABMAyv99/2v/dP9//4r/rf/Q/6v/gf9R/zv/cP/V//b/RAAgAOD/CAANANL/0v/6/8P/Z/9l/wIAQQBEAC4A/P/x/5P/jP/t/z0APQDx/5P/YP+e//P/+P/d/wIAKQBGABwABADx/7j/x/8TAB4A5v+t/xP/kv63/uP+D/92/+b/IwDr/7b/w/+k/4j/cv+//wYA6P/b//b/HAANAEgAgQBpAGQABAAKAHIAZAA/AAgA4v+c/2n/sf8EABwAIAA0AGsAegCQALYAogCrAGsAGAAKAAgAHgBcAHIAcgCDALYAqQBTAO3/tP/M/7H/pv+0/6T/cv9p/4z/zP/r/9n/v//o/wQA6//K/9n/yv/z/w8AJQBrAIUAigBtABgAiP/S/qr+8P6M/wYADQDt//H/x/+x/9f/GgBKAHIAOwDd/5P/lf/B/6b/uv8GADQAbQBrABoAtv99/63/zv8GAG8AXAA/AEQAQQBXAI4AogCIAFMAPQBPAG8ASgAeAPj/NABaACUAXgA0AOL/v/+R/4j/lf+R/33/k/+I/5n/e/+X/ysAjADQACoBCwHkAMEAYAAlAE8AegDHABABAAGgAEYAKwAnADAAIwACAAIAjv8//1X/Of8//6//UQC4AK0AkwC2AGAAGAD4/wYA5P/V/+D/DQBtAFcAPQA/ADYAMAAlACAAAgDb/xMAdADUAB8BJAEQAegAiAAwABEABgAAAAIAAgArAJkAvACxAJMALgDV/47/Mv9e/8f/FQA/AIwA6gAfAQcBrwCIAE8A+v9PAKsAuACrAMkAEAHtAJcARABRAA8A/P/B/4H/wf8NAC4AYABRAAYA0P+4//z/6P/S/9D/4P/8/9D/tv+8/57/pP8TAN3/lf9X/zn/LP8R/3L//v8PAMH/cP9c/z//HP83/zT/YP+T/9D/6P/m/87/iv9g/zD/Kf9T/6n//v/r/47/iP9y/6//6/8KAHYATABXAG8AaQB4AIwASADk/5f/rf82AIMAWgA9AB4A2f/M/8P/uP/t/5P/Hv/h/tb+8v5T/7j/1f/k/xoA6P9p/6n/0v/S/9D/pv+v/+3/6/+x/5X/dv+v/wIAIAATAAIASAAYAND/sf+m//P/6//H/63/0v/t/+3/+v/+/wIA7//m/xwA0v+p/6//0P8TAD0AdAByAB4A6/8NABgA0P+m/7//tP+c/wv/8P49/4z/EQBBADAAx/9E/yn/Uf9w/zn/Rv83/0T/pP/m/8z/w//i/zYAYgAEAOD/zv+t//b/ZAC0AMMAugC8AMcAFgEsAdsAoAAuAEgAUQBvAIgAgQCTAMkA2QDQAJ4AHgDg/6v/r//x/wgA/P/Z/0EA8QDoAMUAmwA7AOv/9v9aAPoAEgGDAEgACgAyACUAEQAwAEgAJwDk/57/v/+I/57/wf/Z/xMANAA9AOb/CABVAH8AvADiAPUArQA2APP/+P/k/wgAUwDZADEBGQGkAPj/pP/H/+D/zv+X/4H/mf/Q/xEAawBVADQANAAaANv/rf9c/xH/Bv8//7z/BgArABgANgA0AN3/ov+v/3T/P/+G/wIAhQCtALoA/gAoAe0ArQBRAOL/jP+O/+j/OQBnAJkAogB/ACcAtv92/3D/Gv8R/3L/xf/g//j/RgByADsACADH/8z/BgA/AK0AuABcABUASACQALQA1ACeAGIA8/99/47/zv8rABoAAAAAAPH/BAAjAA8AAgCk/2X/SP+K/+D/2/+e/5H/kf/b/1wARAA/AKL/I/9I/9f/RABBAA0A2/+Z/4P/cv8//0b/ov/i/9n/5v/S/8f/af9w/+3/GgAGAOj/CgA0AFEAUwCQAHQATwBgAL8APAFPASEBwQBMACMAbQBVACsAzP9c/1r/T/9c/0H/Hv8a/3//zv/x/87/tv+G/w3/CP9G/1r/+P9tADIAAABg/zL/dP+T/7j/EQBTACkAEQD8/6T/Vf9e/6n/x//m/yUAPQAnAP7/BgDH/4H/e/+t/ycAOwDt/7j/3f/x/w8ALgDm//r/+v+8/6//sf+x/87/JwCQAPEAIQG6ACkA0v+O/+L/HAAKANX/mf8p/zL/ov+x/8r/oP9G/xz/O/8R/7n+gP6F/p3+7v57/8z/4P+i/3j/GP9e/4r/YP9i/4r/vP+4/+v/GgBBACUAMAByAKAAmQD6/8H/uv+g/+//YgCkAH8AVwAYABgAMADv/wgAOwBiAC4A/v8lADsAJwAPACUAIAA0ABgA+P/K/7b/w/+2/57/0P/v/wgATABkAGQATAATAPH/7/9cAHQAUQBkADsAJQA0AH8AzgDiAPUAQAFuAT4BCQGpAEoAFQDg/+T/aQASATkBYQELAbYAbwA/APH/pP+D/2D/kf+x/93/ZACxAIUAegCvAIwA+v+V/5f/q/9//+3/UwCQAOoA4gALATEB2QB2AFcAYACmAO0ACwEbAf4ADgE5AXMB/AB9AEgABgDo/woAXAA7ABgARgC8AEQBdQHtAJ4AKQCk/xz/cv/i/zQA+ABJAeoAgQA2AA8ASgBIAF4AaQBXAGIAkACvALoAfQBTADAA5P/V/wAACAAaAF4ArwC6ADAAv/+2//r/JwDo/3v/P/9e/6L/DwBGACkAlf+D/6v/8f87ACsA1f99/2L/YP9g/2f/U/8a/wj/E/8C//n+Qf8c/7n+pv4R/1z/nP+x/5n/TP8R/1P/qf/B/8P/3f8CAOj/CAACANL/4v+//7z/AAAGAOT/AgAAAHv/1P7c/hj/bf/i/wYApP9i/y7/N/+c/+T/q/9a/yf/qP6A/iH/zv/X/4b/sf/v/7H/g/+c/5P/l/9a/5H/1//M//H/HgAwAOv/+v8wAD0A9v/z/8P/Xv85/3D/q//x//z/q/90/47/dv+c/xwANADo/8H/7/8YADsAGgDz/9f/EwBiAHoAbwAwADQASADv/7//jv9//3D/Sv9E/3//6//6/yUAWgBpAAQA4P+8/3j/v//Q//r/GAAeACcAPwCDAH8AMADS/4j/Z/9R/3L/dP/V/1UAVQCBAGcAHgBVAF4AawBGABwA5v/o/z0ApgDkANIA8QDkAIgAIADV/8P/yv/S//j/NgBnAIEAgwCxAHoAaQBTAFoAOQAlAD0AhQC8AJcAgQCOAKQAZAD8/8f/1//F//P//v/d/xoAaQBPAOv/+P/x/7H/vP8TAGcAfQB9AHYAbQBMAPb/pP+r/+b/GABTAHoAfwAcANf/zv8aABEA5P+x/4P/Z/+R/9L/SABvAIEAoACeAMUAgwB0ADIA2f/K/8z/+v+FAMwAlwBkAA8A0v8PAEgAAACX/zT/BP9g/zkADgFAARkBxQCQAH8AbwCTAPwAKAFJAU0BOQEzAWUBhAExAbgAaQBnADAAKQBIAEEAjgDDANQArwC2AK8AgQBPAHYArwCtAKAApADfAP4ApgBIACAAEwDr/7//rf92/47/gf/o/+b/rf9w/2X/nP+r/5H/Z/+K/6//4v8GABoA5v/Z/woADwAaABwAyv+//63/yv/g/63/TP9X/3D/Z/99/7H/0P8AAA0AFQBEAGAAdgBBAB4A/v+8/6n/0P89AEoA7/+r/8f/0P/b/w8AGgD8/87/8/8GABEAKwD2/8P/cP9I/7z/NABnADIADQDX/0j/Av9e/8H/Yv/y/pb+UP5J/ov+E/9i/3T/Kf8l/w3/D/9n/6T/hv9//47/vP8uAD8A6/+V/5P/0P/r/x4AlQCeAFwAJwDo/7z/nP/D//P/MAArAAAADQDg/+D/JQA5ADsADwCe/2D/RP9V/2D/tv+c/3j/+v9GACAA+v+r/0T/8P65/uz+Wv9V/zL/D/8I/1X/+P8EAOT/mf9l/23/NP9X/33/g/+O/5n/q//K/yAAYgBBADAACAB//yX/J/9T/7b/KQBnADAA+P8jADQAUQBkAAQAzP+Z/47/tv8CAAoA8f8NAPH/zv+M/0H/P/89/y7/e//g/+v/1f8GAB4AIwAYAND/iv+G/5n/xf8VADAAGAC6/z//Qf+R/7b/tP9//zL/9f71/v3+6v4N/3D/tv+I/0z/YP/V/2cAuADbAJcApACTABoAAgD4/+3/PQBpAL8AyQAAASEBpgBPABMAuv/F/57/dv/H/yAATACkAOIAyQDkAPoA2QCgAHQAVQBRABMAKQBcAIgAYgBkAIoAawA9AEwAogBBAA8A4v8uAHQA1ABLAUIBRwEQAeoAyQCFAFoAMgBaAG0AbwBvAIEAogB2AFoAVwA7AP7/4v/2/xgAIACVAAkBTQFCAfgA0gCmAFoAJwDr/+j/OwCiAAUBRAEsAaYA9v97/0j/jv/+/z8ABACx/3v/Uf99/8f/UwC0AI4AEQDi/+D/1f/o/xEA4v+p//7/bQBEANX/nP+O/0j/TP9i/7T/rf+e/6T/q/+D/yX/O/9c/0j/SP+v/+T/5P8EACMAFQD4/3b/YP9e/47/yv8eAG0AeABeACkAWgCKAHQAlQDBANsAxQC6AFUAHgAcAAIAyv/K/woAGABEAIwASAA9AAAAtP+O/4j/qf9B/zL/N/9c/5f/w//Q/xUAAgC6/0z/SP+T/9v/VwBrAP7/dP9a/8P/bQDXAOIA1ACgAB4AJQB6AHIATwDQ/8z/JQC4AMwA5gDMAEEADQANAPr/2//+/xEA+P/d/wAANgCMAFwACAD2/wgAEwDM/9D/tP+O/1f/V/92/xz/J/+i/9L/yv+x/93/7//Z/3v/+f7a/g//lf/Q/+//JwA9ABMAuv/O/9D/cP/j/qr++/5g/4j/rf/r/+v/mf+G//H/NABBAOb/rf99/4b/yv/+/zIAEwAaAEQAIADi/47/iv+I/6D/uv8GAC4AdACQANAAvwCDAF4AaQBEAEYAiACeAJcAlQB0AGIAqQCpAKQAjgCBADIAaQDvAA4B3wB6AJMA2QDHAH8AVwBMAEEAhQBSAb0BtAFuAckANgDX/87/CAAjAFEA1AAqAQMBZAAAAAgAtP9E/2X/YP8j/zD/qf8eABoAIwD2//j/CgDV/1r/5/6m/mX/YwFzAVoBXP+o/gr+Kf80//H/OQBAAXUBRwE8AQIAmf9E/0j/Df/b/4EA4wHYAUIB3f90/xP/8P4n/xwA2wDzAFIB8QDSAGQAaQCI/xr/Gv9V/4wAYQGYARIBkACm/x7/Gv9e/4r/6/94ABYB2wDfAKAAHACr/z//9/4c/6T/BgBiAFwALgBt/wT/RP+r/+v/3f/o/9n/4P/M/+j/AgDi/9f/CgDS/8f/uP/K/6L/oP/D/7T/tv9//9n/KwDb/23/jv/d/6v/HP87/6L/2/+//8r/BAARAPP/tP+m/6n/vP8PAGcATwD8/ycACgDz/+L/uv/M/8r/5P/z/yAAvP8n/8v+5f4y/6//5P/Q/5f/lf/S//j/7f/i/w8Amf/Y/nr+7v50/+v/HADx/w0A0v/K/6//mf+m/5H/l//v/xMAcgCtAK0ARgAjAGAAdACgAA4BLgHzAHIATwCDAHgAawC0AMUA/gC0ADIAPQBKAEYAXgCBAFcANAAuAA0A5v8GADAAZACMALwAtABRAA0AGgD2//P/KwAjAOL/zv/M//H/YgByAC4AGgD8/7z/lf94/57/x//r/6n/iv/v/0QArQDkAMcAIwCx/2X/wf8wAEYAVwCFAHIAMAAcAFoA4gC8ADAAjv87/33/3f9MAHIAIwARAOT/nv8u/yH/Zf99/4b/jP+O/5H/pP8KAHgATwDg/7r//P8EABMAHgBgAEYAKwAlADAARgAyACkADQBvAIgAXgDX/7T/jv+R/9n/HgBeABoA8f+T/3b/4v9MAFoAbwBcAG8ATAC6/1P/af/b/xoAVwCBAKYArQCKAEoAGADF/1z/MP9M/0T/a/+I/4z/q//6/z8AOQDr/5f/f/+B/3D/V/+D/6//6/8KAAoAIABEAAYAtv+T/0H/Df87/3T/x/9IALQAtACgAGIAcgAnAND/Yv9R/4j/bf+R/wgAEwDH/3v/sf8wAP7/qf9X/0H/Gv9p/7r/5P/d/xgAfwCvAIEAYAA/APz/6/8AAFUAkACBAKAAqwB0AOb/lf+//9X/4P/r/wIANgAwAO//7f8lADYANABMAIgAfwA9AB4ABgC4/4b/x/80AFwA/P/M/7b/Zf85/2f/jP99/2v/g/+B/3v/Pf8p/wb/SP9e/47/oP9t/2L/g/+x/4b/Pf9R/2v/Zf/m/xwASgDt/4j/kf/8/3YAegCpAKsAaQBTAE8AOwDx/7//5v8AAAoAEQBBAIgAMgD2/7T/gf+x/9L/xf+I/0b/V/+p/wgA4v+M/w8ACAAcAFoAkwCOAE8AKwDt//P/HAARADsAfwDFAHQAXgBtAAgA5v/z//b/7f+c/2v/cP9i/+//SgBrADQA4v/v/xMACAAjAAQA8//i/7z//v9VAGsAkwADAfUAYgARADYAMgACAOb/yv/i/8P/tP+//63/dv+B/7j/tP/m/9f/Yv8w/wj/BP8Y/zD/SP9i/3j/g/92/zf/4f7C/gD/Qf+T/8P/zP/m/woA4P+g/+D/mQDbALEAKQDb/+3/8/9eAI4AqQC4AG0AhQCOAD0A8/+4/zn/4/4C/2n//P+TANAA6ACkAEoARACXANAAxQDoAA4BDgG6AMMA6AAfASoBMwExAcMAdABkAKQAwQAFAR0BUgEqAdsAogC6AN0AMQHCAesBYQH+AA4B7wB2AOj/yv8VAF4AgwCvAM4AxwBnAGsATwDS/6v/rf+p/6b/kf9l/6//NgCDAPEADgHbAHIAEQDK/0//Of99/4P/hv/8/20AbQDH/3//e/+K/6//pP/H/+3/HABBAIgA4gAFAd8A8QDbAIUAXgBKADsASACOANIA2QDHAK8AiAApAMr/qf+e/57/sf8RAIoAtADMAKYA3QAdAaAAEQDO/+b/BAAgAA8AKwA2ADsAUwAcAOb/hv9B/2f/e/+O/9n/HgAjAC4ARgAlACcADQANAND/dP9g/1z/e/+c/6L/0v99/1H/Qf8W/z3/MP++/rn+7P7n/gL/BP8a//n+7v7j/sf+AP8h/zv/g/9w/xH/Lv9V/1z/g/+x/3v/HP/1/gv/CP9E/2n/iP/O/87/kf+K/33/dP/O/8r/vP+0/4P/cv+V/7T/cP+Z/+L/pv97/6//0P/d/+3/3f+O/zT/4f7S/mL/8f9IAGcATwAIAO//+P8RAFcAiACxAHgAPwBPADYARgAPAO3/VwCBAJsAvwCmAJUAMAAGAAoAHgBgAHYAjgDBAMkAqQCBAKAAxQDbALEAgQBaAHIAlwC0AIoAawBgAFoAXABgAEQAGgAAAGv/SP+M/4r/V/9T/3b/zv8PAAIA/v+M/yX/HP8u/0r/V/+M/9v/lf90/33/f/+M/6D/uP/D/5z/GP+1/oD+xP6K/9f/zv+g/7j/LgBXAF4ATAATAO3/uv/K//7/3f/S/8r/sf/o/wQABADx/6n/Yv90/9X/RgCFAGIASgBIAEEAXACVAMUA4gDkABABwQCMAJ4AugCVAHoAeABgAB4AOQCZAIUAUwAyACkA/P8wADQAOwAGALT/0P9cAMMA0gDMAKkAYAA2ABMASAB/AD0A1/+g/+L/MgBgAIgARgDH/z//Jf83/1f/bf8p/yH/5f5E/xUAWgBMAA8A+P/K/1r/P/9i/6T/w//m/ysAVQCKAIUASgA5ACAA4v+2/23/Pf+G//j/ZAC8ALgAiAB6ABEAzv+c/6D/0P/D/xoAjgCQAK8AzgD+AN0AdAB/AFwA2//M//b/FQDFAE0BkQF7ATUBPAEbAcwAugD6ADcBaAG3AbcB8AHKATMB3wCgALQApAB0AIwAjABiAC4AXgC0AOoAzgB6ADsACAAjAFUAqQB2ABMA8//4/xEA4v/b//P/1f/g/7H/q//H/5n/f/+V/6D/T/9a/3L/af+D/7b/4P/k/63/1f/S/9n/rf+k/+D/8f8EAE8AegBBAAYAv/+0/+T/CgBBAGQAfQBKAAoA4P/Q/2f/T/9//0j/Kf+k/9X/bf8u/w3/NP9r/5n/hv+p/3v/2v7c/iz/qf/z/ysANgD6/3D/If94/xwAawAuAO//CAARABwAaQCrAMUA2QC/AMEAogC0AKYARgACAAgA3f/M/+b/RgCZACcAov9P/zv/P/9l/7T/zv+2/2D/+f6u/sD+CP9R/9X/2/9i/zv/Lv/n/sn+9f7j/rX+Wf4t/gr+Jv5+/tj+U/9V/0b/V/85/+z++f7s/tb+vv7Y/kT/kf9//3v/oP/o//P/v/+0/6b/e/+M/wYAiAB/AG0AigCtAIUAVwAgABEAGgA0AHQAegBEAEwAjACkAHgABgDK/5f/jP+0//r/NAB2AKIA1ADJAGsAMgBXAIMAwQDbANcA0ADFAL8AuAC2AK8AzgAkAfEApgDDAMcA0gAHASwBQAELAdIAjABrAHgAkABgAFcAjgCvAPgAOQE+ARYBsQBMABMA0v+//9f/JwB0AH8AegBGANn/zv+Z/zn/9f7n/tz+m/53/tz+dv+t/6D/af9T/yz/vP63/vD+3P73/mD/1f8TANX/g/9i/0j/jv/t/wYA9v+4/87/KQA2AGAAogAQASEBwQB6AGkA5v+t/xgAbwDfAAcB3wCvALEAgwBcAGAAEwB2/3j/sf/t/zkAkwB6AFwAXABKAFcAWgAGACkAegCpABkBIQEAATcBCQHbAKIAJwD2/xwAfQBtAD0ADQAIAMf/jP/Q/ysAdgBTAO//5P/M/9L/x//b/7z/pP+p/5X/SP8A/+7++f71/uX+HP9E/zn/Bv/9/vL+wv65/uf+MP+D//H//P8IAMz/Z/8h/zD/af9p/5H/f/90/33/iP9g/yH/YP90/6L/+P9cAGQAbQBMABoA/v8PAAoANABpAIoAdACOAIUARABGAJkA6ADmAIwAOQDd/17/jP+e/+T/KQAaAEEAUQBIAEYAPwBVAHIAZABcACcAXABeAGkASAAwABoA8/8NAOv/7/8AALT/tv+X/63/GAAGAAoALgAeABMAzv/i/+j/sf/D//P/1//F/7b/g/90/33/lf/F/5H/jv8IAO//9v/F/3//TP/j/rz+lv6d/rf+7v4w/0r/pP+R/zn/+/7f/qb+cf6d/vn+P/9//3T/dv+O/5f/k/8//+X++f4c/5f/2/8GADsAKwBGADAAJwAyADsALgACANL/l/8GAIMAjAB0AIgATwDx/8f//v8GAO//AADF/xEAkACbAJ4AVwBkAG0ANgBGAGsAYgBkACcAWgCxAK8AZAAYAAgA+v/F/9n/IABXAIEAeACMAIEApAC2AKsAqQCiALYAAwF5AfYBEwLlAZEBYwE+AfMA7wAHAegA7wDbAPEACwEdAdkAgQCBAJsAawApAK3/l/+8/8H/JwBrAKAAvwDUAHYA4v+e/3//l/+R/6b/hv90/5X/5v85AEoAMgDz/+3/CADK/5H/0v82AK8AGwEQAQ4B0gC/ANcAngB9AFwAEwAPAEQAbQCkAMkA3QCeAGAA6/9//8X/FQBtAIoA+ABaAYsBVgHUALQAkACeANAAHQH1ANkAFAFHAUIBJgH1AJsAdgBMABgAEwD4//r/DQCVANcAxwBiAFcARAAEACAAFQDQ/7H/v//d/6//kf9r/z3/TP89/3L/v/+c/zn/T/92/6n/pP99/4P/bf+K/8P/GAAYACkASABcACcABgDm/57/hv+I/3T/Z//K/9n/q//K/8z/v/+0/9n/RAB6AKQAvAC2AD8AAAD8//j/CgA/ADIA0v9i/yH/RP9y/6//yv/H/8X/pv9n/zL/9f7j/gT/dP8aAGIAMgAPAAQA5P+4/8X/ov+R/5X/vP8VAOv/pv/H/9f/6/8PAAAACgDH/3L/Sv8R/xr/dv/K//b/GgDv/+j/BgDZ/7//rf92/4H/2f8uACcA6P+x/4j/l/+M/7b/0v/b/8r/lf9t/yP/s/5X/nr+vv71/v3+Gv8Y/y7/LP9i/3L/Uf9t/yf/x/4E/3j/0v/i/7H/uv/8/xUAFQAaAAYAzP/V/ykAkADJALYA0ADzAA4B3wDUAPEAvwCiAIUAVwB4AIoAlwDOAMMAfwBRACkANAD2/6T/gf9R/2D/zv9cAHYANgArAEEA+v/B/wAAYgCtALwAugCxALgAxQCTAEoA6//2/zYApgDJAKQAVwAyAC4AVwDbAC4B/AByADYAQQCDAPUAcAF3ASEBCQESAdQAkwBaAGsAcgB/AK0AwQDQAIMAJwANAAIA0v9B//v+9f7C/vv+I/+D/8r/9v8cAAYAgf9c/1H/TP8N/yf/TP9l/6L/yv/o/7//pv+///P/HgAlANf/w/+c/4H/uP8uAH0A0ACgADAA1f/S/9n/jP+K/33/jP+G/8X/GAA/AFwAEwCk/zv/7v4C/2L/5P9vAGsA7//V/wQAEQAPAA8ABgD+/+j/xf8EAFUAYABGAPb/ov92/0H/NP9V/6D/uP/M//H/tv9n/4P//P8lABEAwf9y/0z/SP+2/wAAEwC0/4r/gf9K/1X/mf+i/1r/Lv9g/3//iv+Z/6L/q/+Z/2n/Xv9r/23/kf/D/8H/7f8IAPb/xf+4/8P/sf+D/3v/oP/k/xMATABgAEgAJQBcAKkAqQBXAB4ARgBeAEgAJwA5ABEAGABBAEEAiABKANL//v82ABUADQAVABUA+v/K/5H/Uf+O/7H/BAAGAAYAKQACAOL/r/+4//b/9v/H/7//2f8lAGQAQQBIAGkAPQATAOL/v/+e/87/2f/B/9n/zv/g/8f/vP/Z/+j/k/90/4r/q//x//j/4P/g/5f/rf+2/5z/0P/z//z/CADo/4H/TP8n/w//8P71/g3/If87/0z/XP9w/2v/XP+B/1z/Hv8n/yn/Hv9E/0z/dP9//87/KwBGAD8A+P/F//H/EQAjAEoAoADxAPMAvAC/AN0AtgCOAFwASgBRAFEAbwCbAHgAZABrAF4AKQAaAAoAxf9y/0b/lf/4/xoAIwA9AE8A8//t/y4AWgByABgACABMAGAAeAC6ALoAjACxALEAcgBeAF4ASgAuAF4AbwCFAJUARgBVAGcAXgBiAGIAeACrAK8AXgA9AIgAdgBGAA8A+P/6//j/KwCFAIgAkABrAFMAUwA9AO//qf+G/2v/f/9//5f/v/9IAGQAgwCFAD0ADQDM/7z/v//z/1cAcgDQAPgA1ACTAHQAVwACAMz/8f8CABgATwCKAPoALAFSAUAB2wBpAA0A9v/z/wgARgBtALQA4gDBANcAxQB0AD0A+v/k/+T/DQB9AJ4AlwCgAMMAxQCbAFcARgCMALEAlwCXAJAAxQC6AM4A0ACmAEQA/v8EAPH//P/+/ykA1/+m/6L/r//S/7j/2f/V/5n/lf/i/xUA7f+8/5n/nv+R/6L/q//o/9n/jv9I/5n/xf/F/8f/sf9K/+7+LP80/2X/bf9i/8X/7//S/6v/pP9c/3L/q//o/+3/sf+e/57/oP+0/+3/AgD+/wAAEwBIAEYACgDz/+//4P+R/4r/EQD+/7z//v8YAOT/FQAeACcABgDb/6v/f/9M/yf/E/9I/33/v//F/6T/v/+x/9X/v/9R/zf/Wv+x/xwARAD8/wgAHAAuAFUAMgAgAAgA6P/6/9f/xf/H/8f/6P8nAEQAQQBBABEAnP9g/zD/RP+R/+L/RgA2AAYAzv+g/4H/rf/S/93//P8nAPP/pv+e/6L/rf+g/4j/oP+D/3T/mf/Z//7/2f+Z/8f/jv9y/3//g/9g/xH/TP/V/3gA5ADdALEAtgBvABwADwAVAC4AhQDBALEAugCkAKYAlQCeAHQAPwAIAPH/CgBIAFwAXABcAFwARAAgADAACADg/6T/rf/v/zIApgDdAPUAwQC0AMcApACrAH8AfQC4ANcABwH4AJkAOQAeABgARACkAJ4AlwBiADIA8/8YAKkAogBeAPz//P/2/6T/eP+8/xMADQDS/6v/V/8a/1f/rf/H/+T/GgApAA0A1f+m/4z/jP9P/1f/Qf8e/wT/MP9M/1X/Yv+T/w8AJQDr/9f/qf83/yz/ff+x/w0ASABMAHgAQQBBAGcAgQBvAHgAegDMANcAqQDDAMcAugC2AKsAuAC2AF4AUQApAB4AaQCXAGsASgBcAHIAVwBgADYAEQANAPP/zv8IAFcAYABXAEwAQQAgAAoASgBEAGcAXAA9AJMAmQA9ABEAZwBtACsADwAKAOv/w//m/w8AHADF/9L/tv+D/9n/yv/k/7H/r/+4/xMACgCm/3T/HP9i/2D/sf/k/+D/x/+e/5f/Vf9T/2f/r//B/7r/iv+6/8H/8/9EAEoARAA2AEgAZwBTAG0AaQARAMX/r//H/+3/4P8EABEAHAA7ACAAUwCTAJsAfQBnAKYAmQCIACUABgArAPz//v8cAAoA/P+p/7r/v/+c/9n/DwDH/3j/O/8N/5f/9v8aAAoAEwDV/3v/g//B/9n/8f8wACcA/P8EAO3/CgAyAFEAJwApAEwANAA/AP7/lf9M/1f/mf/H//H/yv+i/2f/ff/Q/4z/af9w/2L/If/1/iz/Sv8//xb/D/8e/y7/P/9K/1z/P//w/hP/Pf9G/1f/Zf9w/3v/oP/i/wQADQACAMf/wf+M/yn/k/+k/4P/cP+6/xMAQQBcAA8ADwDg/6v/xf+8/9v/xf/+/7YA6gDkAMcAkwCvALoAuAC4AM4A6gDOANkAmwBEAEQAfQCVAJUAjAB9AF4AIwA0ALoAEgEdAfoA3wAUAQcBCQHqAOgAtACmAMcAwQD4ANcAkwBTADIAXACFACcAPwArAAoA7f+8/+L/+P8jALoALAHtAHIADQAYAH8AvADdAMUAvACFADAAx//M/9v/6/85AIEAcgA5ADsACgDv/+j/4v/K/57/vP/F/7//vP/i/2kAwQCvAE8A7f+6/3b/jv/+/z0AQQAYAIgAzgDXAM4A+ADkAMMAaQB6ALoArwCbAIwAfQCBAL8A5gCTACsA7f+c/33/e/+g/yUAfwCbAKsAawAjANf/sf/S/yMAHgA7AFoArQAHAdcAjAA2APb/xf/2/1UAgQBGABwA8/+r/4b/rf/t/8X/4P+i/4r/Wv8//yf/MP+g/33/dP9r/3D/XP9P/9r+kP7J/vv+O/9a/zL/vv6f/qj+yf7n/pb+X/5O/nH+Zv5+/tL+3/6h/mj+aP58/pD+pv63/uH+Lv9p/6//4v8IAND/iP99/4j/f/9t/6b/4P8IAOj/1f/b/9v/8f8wADQAGABGAHIAkABXAPP/pv+t//P/DwAYABwAHAAgACcAKwAuABoA0P+Z/8r/zv+t/93/EQBPAGcAfQCKACkAAADv/7r/tv/F/+L/IwAeAPz/CgATAG8AngCFAGcAXAD+/8H/kf9y/0j/Wv+k/8z/vP+0//H/qf+G/5H/oP+X/5z/2/+v/7T/nv+O/7T/4P/H/8P/0P/b/9D/qf+M/2X/RP8w/1H/Rv8//3//2f+2/9n/6/+0/4P/Df/H/tT+BP9a/1f/Ef8h/z3/tP/z/wgAAgDS/57/Pf8R/yP/iv/D/zQAcgBeAEQAWgBnALEAlQBKAEEAYACkAKQAhQCgAH0AgQCvAHgAMAArABwA6P/S/6v/qf+x/9L/AgAjAG0AOwBBAEoA8f+G/5n/mf+V/8r/AAAUAY0B3wAA/6f9Hf5I/08AogB1AeMB+AF4ADD/YP9XAFcApP+t/8cArAGNAfgAsQCxAMf/lv51/lP/KQBvAFwAngCZAKAAVQDO/63/hv8G/+7+iv8lAMkACQGkAIgAqQBnAB4AMABaABoA1//S/+3/VwDQANQA/AAJAfMA1AB/AD0AYgB4AJMA0AALAV0BNwESAQcBCQE5AT4BMwEfAQsB3wCrAN0ANQFzAXUBXwEzAeIAtgCkAJcAdgBEAHoAwQDfAAcBBQHmANIApgCDALoArQC/AN8AAwHoAJMAcgBkAG0AgwAyAMP/XP80/6n/CADt/3L/Wv+T/7H/7//V/2v/Yv9R/3v/kf+O/3L/Uf9p/3b/wf+v/2n/+f7P/tj+4f73/hr/dv/O/8f/jv9e/zn/Rv9a/8H/CgApABgAHAAKABUAAgAlABEAw/8TACcA+v8GANn/w//D/+//SgA2AAgA0P+4/9f/5P+M/1H/N/9K/0b/dP+r/8z/wf/i//r/4v/B/87/q/+G/1X/Zf+X/5P/w//k/9D/rf/S/+b/5P/6/0YApgAFAUsBSwE3AQsBvwCOAFwAZAAuAOb/1/8GADsAr/9y/0z/5/4G/y7/U/+v/+//sf9l/0j/Lv92/9f/4v+V/2D/eP9n/6//BAAaAAgAAgBPAD8AFQCx/y7/GP8s/1H/nv+T/0//kf+e/93/HAD8/9n/pP+c/6T/nv9t/2L/XP9e/7//1f8VAFMAEQDK/6D/mf/v/wIAVwDtAPEAwQCvAHYAuAAQAV8BRwEHAccAhQCKAPMAzADUANAAmQC8ALYAbQBiAIEATwA0AEYAigC2AKAAugDXAO8AvwCeAJcAcgArABEACgArAJkAtgC8AAABPAE3AR0B7QCIABEA6/9EAIMAngCBAHoARgAaACkARAAuAEgAXAA0AO3/sf9y/1z/iP8TAF4ARgA0AOD/zP+k/3b/Wv9n/1z/a/9i/4b/sf/k/w8ALgAAAN3/v/9//2v/g//B/9v/3f/4/ysANAARALj/Yv9g/6//GABiAG0AXgBTAEgAWgCIAI4AVQDX/7z/BgBMAG0AsQDvAO0A0ADSAN0AuAC2AJcAlQBnAD0ASgBvAHYASAAwAG0AegDHANkAoAA7ANn/zv8rAK8AzAC4AJ4AZwARANv/w/9GAMUAtgCxAFwA7//F/87/FQBeAGIAUQAlAPP/8f/Z/9v/xf/O/6n/f/+O/47/Qf9M/5P/5v/o/9v/dv8n/+z+x/6b/qr+9f4R/wb/0v7E/sf+0v7C/sD+AP/Y/tz+8v5G/yn/4/7c/u7+5/7s/jD/HP9I/wb/+/4u/z3/l/+m/87/6P+//2n/g/+g/63/jP9R/3v/Uf9V/1f/iP+x/7j/wf/H/7r/iv97/5z/yv/H/+L/7f82ABgAzv/b/xwAJQDX/6v/sf9e/1X/uv/+/+L/0P/o/w8A8//8/z0AVwBGABEABAD2/7//tv/F/+b/KQArAAgAHgAAAAgASABnAD8Azv+p/7H/oP+m//z/DQAlACUAOQAcAN3/V//9/vD+4/47/6T/tP+K/4r/f/9g/2v/Df++/uX+O/+B/7//rf+G/23/jv+O/+D/RAB0AKAAgwBXADQASAArADAAkADQAMMA6ADiAKAAjACQAI4AjgB6AEYASgCgANIAqQB9AFwAgwCtAOIAyQBPACUAOQB2AIwAoADFAKsAyQDBAJUApgCTALEAvACbAEQAAgA7AIUArwDqAPoA7QDHAGkA/v+x/7j/CABvAKYAigCeALoA3QD8ACYBLAEAAdIAvABpAFcARgBgAIgAngB/AJUAngCgAMkAxwCkAEgABgAjADAAFQDd/8f/wf+r/3D/Zf9i/3v/dP8L/xz/9f4h/4H/gf9K/yX/9f4E/0j/kf/H/17/Xv+T/8f/5v/Q/8r/EQAVABoA+P/b//H/JQBnAL8AqQCIAH0AawBkAEoAIABaAIoAiACxAG0AfQDBAKkAkwDOAN8AAAG/AKYAXAAAAOv/+v8wAFUAcgBcAG0AgwB6AA8A3f8CAG8AegBRAEYA7//d/7b/nv+k/6D/sf/V/7H/mf+t/+b/4P+i/4z/dP87/0b/hv+4/87/cP9c/4b/TP8E//v+BP8T/yX/TP90/1X/Gv/J/uf+J/9V/0b/J/8T/yz/Kf9G/zD/J/9P/5f/uv/Z/wIAxf97/3D/kf/Z//7/GABaAEQA5P/g/9f/6P/H/9D//v/2/ykARABBADAA4v+Z/5H/l/+g/63/1f8RAFEAlQBGABwAIwAyAHIAYgD2/+T/IwAlAAQANABcAJMAoADBAPgAtgCiAKAA+gAhARYBFAHzAJUAOwANAND/0v8NADIAawB/AHgAgQCeAFwA9v+p/5f/hv9t/6L/0P8KABwALgBRADYAUwBgAEoA+v/B/9L/tP+T/33/jv92/1P/Qf9w/5H/af8T/x7/BP8R/1r/ff9y/1z/eP+I/+D/xf9//2D/NP8e/yP/lf/K/7j/iv+m/ykAVQCDAMUAcgAaAMP/6P9XAH0AOwBPAGcASAARAAQADQANABUAGAAcAAgA4P8TAGcAfQCpABYBNQESAc4ArQCOAEoANgA2AE8AgwCrAMUAqwCXAEQATwBnAEwAEQD6/+j/rf/F/zkARgAgAEQAegDSALgAlQB6ADYAHgAeABwAFQARAA8ACgAyAJAAeABvAHoA+P+R/2v/Of9G/4z/pv+0/6L/lf/b/8z/oP+B/5P/dP9p/3v/l//F/47/V/92/0T/Kf+Z/87/uv+D/3L/dP+V/+D/EQBnAKQAXgAeADsALgDv/wgAlQALAVQBWAFAAQABYgAGACsAQQBEAEgAXACMAH8AUQBpAIUAoACDALQA+AD1AN8A3wDxALoAvwAsAT4BMQHqAIgAjgBMADkANgCKAKkArQDtACEB5ABtAFoAZADxADEBTQEfAZ4AlwC6ADUBVAH+APwAkAA2AAgAHAAjAAAAr/9c/z//J//A/lf+df6q/tT+uf6+/ur+2v4a/2v/gf9r/z//af9p/zD/Jf8u/yP/Bv8l//D+rP58/ln+3/71/uf+9f75/gj/I/+X/w0A+v/m//z/NgAuAAgA/v/O//H/1/8NAAQA3f+t/8f/EQDB/2n/Ef8j/3L/7/85AGAAOwAeAAYAuv9c/y7/TP9M/4P/qf/F//7/DwAIABoAOwARAP7/HABiAGcARAA7AMX/T/80/6D/5P82AHYAYgB9ALQA9QCiAHIAVwD+/7T/rf+x/+j/NAAIAO//2f8wAPz/uP9t/x7/Bv/3/lr/9v/+/47/Wv8//1z/NP8P/yX/0v7E/sL+z/4Y/wj/Of8w/2X/Rv94/7j/Yv8n/8T+zf77/ur+T/+m/7//iP+k/w0AkwB2AHYAPwAKACUAOQB2AFEANgATADsAKwBMACMAHgAGAA0AUQBgAGkAVQBIAL8AEgHQALEA6ACrAKkAgQCFAJAAVQCBAK8AHQELAV0BtAGyAXkBBwH1AL8AkwBtALoAJgESARIB8QAzAacB4AETApEB/gCXAIwApACpANIApACeADYAYACbAK0AYAATAPr/Vf9M/8r/7//F/1H/J/8//2v/Xv+k/9D/f/92/23/Z/8h/zf/XP9y/8X/x/+4/+//nv9l/0T/iv+m/5H/3f/D/0YATAB9AFEAJQApAJn/wf9e/4j/r//i/5MAGgAcAEz/oP90/7r/SAA9AI4A5P+XAFUAhQCIAFUAQgHiAKUBMwESAcMAvwChAWUB/wELAQUByQC/APwAkwBPAeoALAHdALgAJgHXACEBegAyAOL/RABiAEQAXgAeAGAADQBrADYACgAIAOv/YAA/AG8AawCbABgA4v/o/5H/Uf/9/hz/5f6O/4b/Of/s/sv+Av8A/0H/CP/j/o3+9f4n/2v/I/8E/xj/Zf9I/xP/Gv/S/tT+7P5G/z//LP83/0H/U/9w/6//mf8W/7z+4f5l/6D/pP/F/9X/iv+i/9f/AADH/47/kf9M/2f/iP+p/9f/zv/8/xgAAgDg/9n/kf+p/8f/9v9vAJkAkwC6AA4B/gAAAbgAbwB6AGsAkAC6ANkAqQBtADAADQAeAEEALgBKAGAAPwAYAD8AaQB0ACMAHgDK/33/3f/O/xoAMAAYAHoAoACZAHYAHgCc/xH/9/4N/wb/9/4e/wv/CP8C/9T+pv5H/jP+Zv6m/pj+h/5+/tT+J/8w/0H/9/63/mL+Wf6F/pL+df6A/on+mP4c/3j/yv/t/wAA4v+M/5X/g/9t/4H/+v9RAGsAFQD4/wQADwAGAN3/zP+k/7r/BgARAMr/jP+I/8r/VwCZAI4AXgA2AO//rf+p/87/HABaALYACQEdAf4A1ADmAL8ArQCgAG8AYAB9AKIAkwCkAJUAzAAzAYABcwFAAUABEgHiAOgAYQFdASEB8QAdAV8BYQFYAU0BKAHiAK8AXADv/4z/LP8c/3//qf8NACcAvP9G/17/f/+G/5n/pv+X/2f/Yv9r/5H/xf+m/57/rf+c/2v/YP9r/3b/iv+c/7z/BgAIAOb//P/d/8f/6/8YACcAjAC0AJAAUQA5AFMApgD6AO8ArwB6AEoAUwA9AGAAegCQAPUAcAFfAboAXAB9AKAA6gA1ATcBJAEhAVgBiwGcAb0BygH9ARUCtAFEARkB/gD+ABIB1wCXAGAAiADJANAApgBpAHoAaQAVAAoAHAD+/x4AXADBAMMAQQCk/3D/Wv8W/wv/AP/S/sf+5/73/pj+Zv44/l3+5f4a/yX/Lv8p/z3/eP+X/6//AgBKAFoAPQAVACsANgATAO///P/+/1UAfQB2AG0AYgBVAEoAKwD+/wIA6P8GADAAegDDAMUAoABBANX/f/9r/0T/1v6o/n7+kP7h/gj/AP/P/qz+fv58/pT+o/7S/gj/If+V/8f/2f/+/9n/wf/2/1UAXABrAGAAZwBVAEoA+v8IAA0A9v9VAH8AZAA5AHQAwQDOALEAawAyAAgALgBVALQAHwH6AOoAGwEZAQkB5gCKAAAAjv92/zf/Pf89/1H/O/8c/wT/NP8s/7z+o/6m/nz+gP6Y/sf+AP8C/yH/CP8G/wv/+/47/0z/D//E/o3+of4N/2D/e//m/ycAYAB9AJUA5AAoAQsBegAuAFoAbwByAH0AfQB9AHgAkACbAE8ARAA2AEEAMgAlAOD/9v8rAJcAEAHiAHYACADM//j/EQAuAGcAhQC8ANsAHwFYAW4BaAEkAUcBJgHmAKYAiACvABkBLgEUAfoA+AAuAZEB/wEgAiQC2gG0AbcBbAE5ASEBFgFHAWUBNwFCAUsBZQEuAaAAMgC8/5P/Lv8E/yH/V/9p/33/oP+G/4j/Vf87/yX/AP8p/0T/RP9c/5n/v//Z/6v/jP+K/5z/0P/t/woAr/9K/6v/JQBVAEEALgDS/7//lf+m/xwANgAlABgADQATAFoAmwCgAGkA/v/r/7r/l/+X/5P/lf+i/wgAegBvAIEAZAD6/6L/ov8AAK0AEgGxAHIAbwCOAJAAmQDBAKsAQQD6/xUAOQBKACUAJwDd/7H/DQBPAJ4AaQAEAPj/HgAgABEACAD8//7/SABeAAoA+P/F/4b/Uf8R/8n+Av/7/u7++/4R/zT/+f6u/rf++f4W/x7/Kf8w/x7//f4u/zn/Bv/7/h7/U/80/zv/Zf8s/+P+BP+G/6L/gf+0/7j/g/9i/1z/nv9E//v+Gv8W/0z/g//v/1UABADd/8r/pP+m/2n/cv9c/1P/Z/+K/9D/0v+Z/6L/0v/H/wgARgAcAPr/1/8pAIoAVQBiAHYAbwBvAGkAfwCKADsATwBgAHQAfwAwADsAYgCDAG0AogDQAJsAegCOAK8AmwC8AMkAqQBKAAYADwD+/yUAZwDXAPUAzgBvABMA5v+r/7H/4P+k/1z/Of8e/1X/eP+D/3L/Kf/P/pL+jf65/vX+/f43/1f/Sv8c/xr/Lv9V/4r/eP9K/wD/GP9V/3T/Pf9y/9X/7//+/wYACgDi/3T/XP9w/4j/iP+I/+j/tv9K/1f/Wv99/4P/vP/H/5P/e/9M/2D/tv/g//P/BAD8/7H/cP9X/0j/oP8GAEEAawBIABoA+v8nAF4AoADDAK0AeABPAB4A+v/m/x4ARABVAFMATABKAGkArQD4AEABJAEqARYBzAA/ADsAbQCmAPgA8QDxAAcBkAAKAL//xf8uAL0DQhB2ChwKOAJvAEQFtQf4DS4K+wv0BsoGhQReB64GugUWBhwF/AIC/538hvr+/BMAuwFsAcEA0P95Afr/Mv9l+233jvUV+av9xwI9B5oG7AJQ/Ez3EvNc85D1QfoE//QB8QIgAg8A3/yg+AX2TfZv+bL9BgIKBPcC3/7R+VL2HPV+9pv5j/2T/2X/mfy7+ND1evRG9ZL3bfpv/GX9Av0J+6r3i/QE82z0QPhY/ZwBtQIjAMr7ffhl+JP6A/7EAcED2QOOAjQAp/32++X7JP4+AfwDKQWdBLcBF/6Y+8/7Yv4rApUFcAY/BUsDQgGe/xj/GgAHA3kGDQitB5AEIQGd/i/+XABEA+QF2QWSBIECSQFEAD8ArwCeAWsCFgMDBHcERQRWA9wBbQD4AKkDsgZIB5UF4wFr/43+TwBQAvgDAQTYAikC8gEmARwA5v+VAC8CjwOLBE4Cdv9I/Jj7pPyK//sBVQIKABT9Yvw+/dj+x/4T/xwAcwHeASwBcP+r/cf8tv1B/u3/OwDSAJz/2f2f+1j7Vvvo/Av/BQFtAK/81vnu+aP98AEmBFACaP61+0z8+f77AUADyAMAA0gCEwJ0A+sDQgOSAncDrQVXB2QHdQY9BR4FEAZTB14Hngb7Bt4GbwfjBuUGAAauBGcD+AMHBlgITwitBc0CpALuBBIIXQk9B9MDHQEnAo8DuQTrA60CGQKdAr4CfgE6/tj7F/wc/2gCkgJ8/qX4EPb59wj8Uv67/eb6jfiX9zb36/aw9u72uPeT+Dn4T/XC8Zjv3+/88pH2DfgF9onxEu787ZXwd/OO9fT2+/bu9K/yaPEV8mj04PYo+PP3Ffem9Wr2ZfjQ+iv80f0C/3gAeQFcA4kE2AQ/BRsGlwixCi4NaQ8OEEcOkAxLDZQQmxPJFhgZSBkUFXsQGxA1FccbMR96HdkXgRTHFjod/CAlHlsY8BMQE6kU5xd7GR8XcRF7C54Ixwf+B9UG/wNaAJ3+OP6P/an6OPd29Rz1o/S780ryRPDY7dzsse2p7qXuIu216kroYOZG5vjmi+fx6FvqGeqv5urhdt/U4GHkUuj76vnqJucm4jDfjuGO5krr3+sY6ZfmZedW6anr9OyT7unuS++3713xyvPM9ab6SgBMBSgGTQZ7BvsJoA/vF28d5xxZGH8Xsh4TLNM1MzUyKLEZ/hbUIukyqDjiMLEgDRJFDAYR1BhDGwsVNgqLAU7+zv8ZAU//avtx+Tz7Yv6w/YL5YvWA9K/37v5wBfkE9f6u+cH60AD2CJoQIBM7DWcFBAXmCmsP6w8jD1QOdw3eCyMK/QYKBEUCewMwBQoEXgCn+7z35PXn+Fz9Q/61+Xf0evIA81r16vdw+Jz2oPNV8l/xMPCi8M/xWvEB7fLnr+P04Nbg2+Me5r7jbdzw1NzRStLT1oDbVN222nTXqNbg2AjcEeHx5Nnm5Obs6AfvwvRN+Fv5Pv77BFUMYhHXFJ4XBRo2HZghiSfyK/Mt5C38LV8uMS7fLKopZSZZJRMlLCMpHcIV0A+pDTYOsA26Cs8Elv78+iH7LP2u/iL+SftT+ND3KPuK/3cBjAD6/0sB5gMJBgwHAwehBsgGfAdLCLwH4wZ4BWoE0QRoB1gLXgwVCawExgRDCS8OBQ70C0QKNwsMDP8Lagv1CkQKqwg1BqEEswT8A9oBo/6G/T79V/wz+VT2U/Wk9QD1ivOC8e7vuu2Z69rqpera6jbqmehC5yXmnOQ843/hG+KX4wHjst9s20XZVttO4MPkL+Ve4ZDcytrK3ZHi8eSu5RflleTQ407lneoc8vn33Pn6+uH+FQWBCjkPJRSDGSwfDyhLMK80UjNQMfcxbza3Osg8vzqoNO0tHSmpKB4ovSSlHDAUyQwBCXMG+AOL/hf5dfYt9zf41fbs9Bv08vT59hb6cfyl/R/9M/2T//EDrwdpCJ4G0QRlBbsG3AZ4BWwDvwGQACUATwAhAVMCQQLzAD7+3P6SAjMGVQXgAy4FmghUCScHEAY4Bz0IkAc5BhUFZwPoAHv/Uf/M/zr+uPrS9VHzhPNQ9B/zTPAU7m7sxeux63Dsaeu66ETmV+Yi6Arod+WR4h/ie+ST54bnfeRH4EjfX+A15PHm++fF5Nffc96p4t3oLeqD5ujjYeV66Czsv+4j82D1ofZs+X8AyAg+DtgQERS6GW0juzBvOfk4RTGSLvc0Pj+dRQNFGz1KMqIqkSiNKWYnGCHIFzAPSAizBGMB6fsg9VLxBvKq8mTv++oW6Uvqwe4E9XP5zvg69s/2lvusATMGBwnvCKUGHgU/B/gKkgyiCocHfwVeBTcGZgQ5AP/7JPzN/joCcAMlADz7/fmR/5QHyAsCChsGcwQIB5kKLQ47D+QNAAtPCFMIzgggBwcEXACu/rT9TfsI93jy5+/f74rwHvA07YXo8+Ou4tjl+eg16czmuuPw4u7j1uV15xXoYOiO6FbplelK6MrnKehE65DvafDC7L3ngea16vfvZ/Mv8qns3uf85jnr2/CE8wv2hPiq+eD4Rfnb/0cJzhGhGBoeeCPRKX0tEC77LHExizsEQ3pCKTt8M9Mu4SqrKKYncSR7HI8QjwYSAav/L/7l+enzG+8W7MTqgek76dHqQ+3W79Hxq/Ne9f738fxBAk8GDAmiCucJNwi2CIwMwQ8yD7oMbQpcCK8FkwN/A9wD2AE1/RL5Dfhi+ej8Zf8v/tf64fl6/ggFewgUCAoHxwfqCs0O/xBYELEOnA2CDVQOLQ57CpsEAgCY/oL+jvzx92HzRPB/7mvtgOz76vjnquXs5Xfnlud25jDmS+f86dXsju3G7D3rV+uq7dLwx/Ko8rnxWfKN89r0WfT88k3xOfEU84z1OfXU76Hq1+kL7inyNfM28IvqOuUJ5wDu2PdV/3oA2vuH95/89Qw4IOUrsSqXICcboyFEMuxA+ERLP3Q0USt4J3Yo5iqjKTkjHxo8ECIHWgBq+yT5KvgJ+AX0Fes245DheOaB7Z/yGfSn8VjuBvBF9/j/sQV5CHoJfwgVCa0MshCHEYQQuxDCEBsOXgpeB+wE9QI6AhcC3/4b+aj0DPQX98v54Phe9Vzzt/aE/TICFgPIAR4CcAXVCu8PvxDUDBcJ0wj5C3EORg03CH4Bjf2c/Z/+sfyF9yvysu4M7Q7tsuwx6h/npeUm537oIOjX5mDmOOjw6i7sX+y86zfsIu3t7ibxDfNu84fysPFv8rn0n/ac9n/zpPCd72XwOPJ28ovxzu4h7ETrxOwL7jvuWuxM66nriO689dP9WAGDAAECXA00IEIt8itsIVYfFyzdPv9JG0kKQAE22S81MK80DDa0MHEkFhfODewJwwccAuf5p/Nj8STv7emh4/fgl+OB6cbudPDV7jrtYvAC+AsBoAifDDgM+Qk1C/QQ2xZDGA8WMRPwEAsPxwwJC4kHOgT8AEL9svjR9PPygfLl9M/20fS47iHszfGj+2sCmARGA5MBQQLdB5cR7BhnF/oP9wl/CoYPFRPFEcIL6gTz/zn9+fvB+iH4EPS47vnqYelz6EvnT+bf5qjos+hP58vliOa46QrtoO7d7ZLtiu4A8IPyDvT99Hz0gfLz8i/2QPjK9RDv1+ss8ez5OPzm8vHomuVo6mfw2/L08WPubunT50XqovCD9+36Av2X/Pz8IgKnC+QZlyhwMPMqoR8vHxwvxkJ6TDlJjj43MhgoWScSLj4zUC5VIO4QOQWG/w7+8fxz+d/0qu8x6lLjGt+a4CvmHu0q8Try8O907tjxi/m+Aj0KLg2UDPoIiAgiDIkR1xQWFLUQ9QrqBdUDJgT1An8Av/vc9lbxGe0961jsOO8d8x71fvHk6wvsgPRSASMKdgygCjgHzQZpDOcX1yFSIo4Zjg8KDMEPXxV8FoURwQgKAEf5ZfZz9iD3BvWC74vqPOf95fflgOdJ6onsF+0m7Cvr4utp7ifyy/QO9mn1mPZP9aT1ava+98j2l/Lh8qP0u/ai8p7sCOhd6vLsPe4B7Wrqv+fk4d/h9uQH7PHtgess56rlwOV+6mrxM/nO/H34KvZq+dQEqRL1Ii4ybDP3IjAUdhttNj9N3FFPSPQ3mCnmI+Ep7DPtNXws5BvbCrgAaP5l//j9lPkd9nTwrOfK34vePeSe6zzxGPMp8OTr6ey59P3+IgekDJENNAqUB+oJVQ+6EQcStRGVD9oJ/wP4AJUAw/91/iL88vYr8Brr3umt6xvvVPQM+b34TPRo8UX2oQFfDhQVIxSXD4AONxLoGSIiUSa8IrQZ0xJtET4TmxNLEJgJVQKf+1j2NfOJ8VzwXu7c6hHo/eWR5Izk+Ob26Tnsp+zi6zbrhevN7RbxyvOU9JHz9PHs76PvUfCu79Puu+7x7pzsSecS5ZXpAO437jnpuuaY51Ppaet+7z/wmOy+5aPlF+83+wj/bffN7artdfa9AYIIjAcSA+H+UwLdDBYaWyesMXUxnSWFGBge5DKPRM1HD0EPNwcrZiAwIbooDS9KKo0cmQzi/0n7B/09/+/9zfm68uDpJuKc4nvpbfCE84rz2vGq7znwxfVQ/sMFcAqJC64JKQeHB40LRg/yEEUR1g4ZCQAD3QDNAaICsAET/336aPQC8Jjv3vFt9ff5M/1//FP34vMS+ScFFRHjFQUT4A3xDAQR2hjGH98g2hr8EWIMdQtTDBAL2gYFAdn6lvTV7qzqr+gU6VjpL+iJ5SfjjeIp4+nkfug17DbtmOzV7FDvnvAk8fLxKPPr8/bxn++47hTutu4A8EjwVO8U7LvqaO0V8przte+i64XtSPMl+PD5T/qi9xLxmO8r9Rn+vAKDAIn7ifZq9Gn37fq4/78DoAVlA83+A/5NAyQM4Bd4KK80+y61GEANphuPNwVJ40mAP+cuBB5QGKshRS6eMBQkyhAcAC/5Fvr9+5f6bffH8vvqEuL43Q3iFulG7mzx9vGU74HtoPA8+bIDFAtnDRAL4QevB2oLGxAYEp8Ryw5oCWcDXgD+ANMBXgC0/bH5wPTq77Ptku8z9CH66/0p/Hv2y/Qh+0oHdBKiFlUUFhCxDsUR2BiCHwkhtRrsEXEMMgwEDRALYwZcAAT6svMo71vt+Owu7MvqY+lB6BDnDeb55eXnkOtL7jzvCu/87qPva/BA8XPyVPQD9Crzze+S7abtMO7I7M7rjOsl7hTuoOva6rPqqu1U73Dx1vJB9dH2QPYH87fxZPTp++8A4P9v/Ob6pvkB+az7OgRfC20KxwLZ/Lv9Awa5EEwZ3SKgLVgw3SPfE8YVciujPx9ETj6bNLImLxjCFfMgbyoqJmYWKAZ/+o71dfaY+CT3KPNn7i3om+Ec4VLn9+248Ezy+PMx9Af01PcKALEHxAvWDEULIgkLChcO9hD9EI4PTw13CRMFWAM8BEUEmgFJ/lT7C/gn9fX0ufbc+GT82QCtAl4AZf1GAAsIzhEPGboZ1xRTDyYQMxeuHQQeCBgaDyEIzQR9BeUEgwDV+OXxZu066gjo2+aA5aLkBeX/5Qjm1eQZ5W/o0+zP79/vW+/m7rfvXvI29FL0TvL77xXvAO5o7Ynsr+vh6m/qyunL6BfozegR7XXx8PQs8X7tyO7G9qb+1wDv/Vj7nfye/2ICtgMABVoDzv+j/p4AAQSPAUr8K/lt/LkB7wOtArwAnwJ4CtoalCegJtIWFw6qGDstizp9PAY3nCusHZwX5h70JqcjRhfyC+8FQgE9/AD41/OV8FzuE+0V6pDmMeVw5z/rDfCq9BH3GffH+QUBJAnvDWsPaw/gDzkSARZFGEYXvBMzEIQNFgv3CRsJ2QX6/+362/fy9G7xM+/g7l/vv/Al9ez5Qfpl9tv1l/zGBi4PeBFrDxEMlwzUEQ8Z5BuLGN0PFgjdBXoHKgicA6P7yPNq71ntN+wj6xfqmehL5+3myOem6HvpROu37YXvT/Dn7+Pv7vH19DP2bvaj9ATze/GX8HPx9vF177zrYepX7Tryh/Rm9NTvDO3v8Fz42/zI+533y/cw+sP8Af47/ZH9wP5z/ov+RP0t/Ab8vvlZ+b37SABzAvH/5vwD/mMB6wiKFnYoei9eI1cR9hAIIwY3HT0fOhczayjRHB4YIxzIH2sbJBGRCCsCnfzV9Rfvv+sM7d7uSO2H6FfmteiA7Hrwsva3+9v8fPyCAXQKshAAEuYReRKfE34VfRfqFnoTfQ/rC00InwQGAtn/YvwW+B717PIO7y7rK+qB6x7t4+0E8GL1EPv4/RH/SwFfBtcNeRUTGToYnhTyE6kXXB5IIO8ZVQ/uB9UGFgitBVT+0PUk70nsFeuw6hTpzuZ+5QfnEOpy63zq1+kh7AvxvPV89yn3N/ZM9dn1uPe4+NL3tfQq8XXvk+5X69joNurs7VPwhesl5kbmtOx68oTz5vAl81b2evmW+Ub4E/p0+hz8PQDNAgsBjvy0+hIBAAHF/Jz29vbU/E0BVQKMAuoA7gQKE40kgyqbG9MN5RNuKes6BD4FOAcuzSKcHN4fTCXzItMXcQyTCKcGOwMc+mzxfO0S7zXx+O4o6jTmiuY56/zyV/lA+7n5LPvFArkLNhHLEWEQmw8kEV8V7Re8FuYRkQ3bCrsIbgbtA0oAmPsE+PH13PMC8PbsaOyS7W7ubO/U8A319vs/AGAAvv4kAtgLBRXcFzgWkBMwFI4WYhvcHC0WDg5rBywG7wh5BgD9pvLn7J7see6P7PrpvOZh5Tbmrucr6uHq3+rj7BHyTPXw9GDyffDU8M/05Phm+UH01+5j7M3sq+tO6izpCui45grox+sY7n/rR+pG7mnztPV39hj6+v2g/Sz7APv2/a//Rf6Z/8IBrQOYAdf6wPSF8lf1oft6/jv/pP+g/0QDZRDPH2gk6BaQDHQW9SzrOm460jTiMIIrnCYeJwUp2SUWHHgUfBG6D4gIhP3V80DxFvNx9NHvZOhl5KHlIuq88Br1xfU89K31ePzhBH0KTAzSDIsOxxEhFa0W9xPCEMEPWBAEDz4LjwaXAmr+bPvy+QD4evTA71Xtte0y7gDubu608dn1Nfif9+n4Lf75BpENWhBWELYPQRHYFYobDRySFjAPMw3NDjMQXgxTBUz+jPp9+EX2WfIh7kHru+p37ELuqO026hfobOlv7ePvpu+I7qDute+h8cPyKfJh8czwB/Fi8Arveeze7EvuT/C68CTxKvFI8Ofvv/Dk81b2lvkh+s765PjL95z4SftF/LT9+f7n/oX89/fT9j34efsm/pcAlwCN/pz7Zf8+CUIXASJfJJ0dQRZLF+8jljG1NjM1qjH8LzYs7SYkIjIgvB0BG1oXGBS/DdYCMPhp8/L0nPYE8/vsRukO6DTooOnN7KPvw/Ag8nD2Yfsd/k7+7f9eA5QH1wrmDFUMxgk1CPYIcgqiCucI3gbLBJQCkwBH/sr7Xvg89i/25fbw9lf3QPhF+RD5Ofg++U/9PQJnBSYG9QQ5BecGbQp5DVcOvQsECEkGDAe8BwMGLQJ+/kv9PvsJ+BL0cPFi8BHwO/Db8Hjwnu5Z7QvuRPA/8sXyBPOw8zL1sfVJ9mD18PRa9Wr2Nve49WPzM/HN8unxwfO98+DzEPYv9iD3SPeU+dz7Q/6L/iUA2AEXBJUF5gXPBh4H1AeaBjEGHgXCBFAEzAMyAi4A/f3N+6n6y/kW+9n81f1A/Tn9yv3n/scA2QMhBj0HbgiZCusNVBDfEUETjBTVFPATKRS2FGkUAhTCE9QTQRPfEZcPGA0fC9YJPglPCBcHiAU+BOECGQJsAbwAe/+m/pb+5/7f/l/+4v2c/WH99fyx/M78Av1e/Sz91vzx/LH82vuA+977Kfza+yH7TPqh+Vv5yfnZ+sL7IPy1+3v76/ro+sj7s/yI/bX+v/8wAG0A8wBBAiYE7wX9BgIIHQjLBx0IjQjXCKIIlQhECJIHJAeeBsUFPARxApMA4/7x/M76Evne9hz13PNI8rHwR+9w7mTtQuyk6w7ssuw/7RzuIO+x8Pnx1fPv9W/3qfiF+Uj9Iv5+/mD/a/+TAS0CmwL+AgQDswKeAQMBJQCD/87/Uf/T/br8afyt/B390vxc/VP99/wU/X39s/7z/yQB1AKqBG0FHwacBlkHRgjgCGcKnwuyC5gLRQzbDOEM9QwUDewMIgy5C0UMpAz0C/wK5grZCqsKTwopCu4JmAlfCWQJNgleCHgHrAZlBmgGxwV+BP4CXwHt/0j/Ef9O/gT9NfuY+R/4NvcR9+P28vbR9ij29fT88yv0AvX69QH3D/jO+Ar5TvmK+ln83P3l/lwAFwKyA4AEIwUABioGEgbjBlgIpwgUCC4IKAixB08GSwQYAwoCdgAA/7v9YPzB+u/4P/em9dXzHPKV8Kzvd++779/vmO8X7/juue968NLw//Gr8xz1mPaG+Bb6wfpU+9r7rfyC/W/+bf/fANgBOgIMAj4BJQDd/1cArwCTAFwAYgDH/zT/LP/D/4MAsQALAecB4QKGA7ADSwQYBc4FhAYVB4cHdwidCX0KggtFDDIMMwtICrcJHgrtCsQLmwzYDGIMWgs9CrEJ0QnqCfAJEwplChEKegneCPII9gg5CN4GwQVRBWEEZwOdAp4BSADw/rj9s/xJ+xj6zfny+Zj5HflP+PL2r/Vl9U32gfcL+NT3GPh9+KL4B/lB+g77RfvC+wT9wv4yAOoATwFlAWoBsAGkAqUDnwQ5BeIFgAb/BuUGFAZPBS4FbQWQBYMFSAXRBKcDgwIdAbT/df4d/Rr8QPuK+jj5V/eI9Y30GfSV8wnzifL78U3xuvBG8D3wwO+F74Hw3PFh85/01fXe9jj3TPfQ94b4hfk1+y797v6V/6n/6/+ZAF0BjQGsAeABxgFYAcIBpAIUA9sCYAJmAsAC/gJPA3kDngP2A4sETAWIBdAFVgbNBt8HTAkNCnAKogqkCtkKQgsIDFENXw51DmoOYg5iDlkO7Q2cDXcNkQ0YDW8M8AvVC2wLdgr6CG8HFAbCBIgDNgIfARUAFv/O/V78KPtK+kH5O/iz96T3Tvd59qb1WvXF9R/2L/ZH9qz2PffA90T4efjG+I35hvrK+u36Uvs//Ij9n/6K/zkAlwDOAPUA3gGtAycFrQXxBc8GLwcnB8oG4wYnByQHsgYmBt0F5wRYA94BQgFEAAv/q/0r/Af74vqM+sP4X/bi8zry7vH/8SbxYvDK8AryePr/BvIEdfkz6sjd5OHm7t/5CgRQCfECz/lb6vnjouQA7mH7nwQyCGkFyv1D8hTuEu7v8wH+oAUgCXEHYgBg+nv2BvdF+1kEVQw1EBMPxgg5AxUA4gCUBgUOBhQLF3AV0BHLDBoKRAp1Dm0T1BZHGHgWhxNaD/EMnQzhDtIRsxMMEyoQvQv3BwQFMQTjBBkGPwfBBdgC1v52+vn2XPWi9QT35vdp95X17vIC8B/uOe6Q7xzy/PMG9c/0yPPs8u7yLvVn+Lz6Svxm/qAAjwE8AZgBOQNKBcUHjgpvDBoNrwyYC8YLdgxNDRUOKA6TDdgMrAuLCXwHGwZ2BY0EIQNbAhQBJf+b/Gv6qfg5+EP3g/U69gD1gfIG8hjwlu8w8ArvBPBw8DTwaPE87xrwGfGH7/7y5vIN8x/2e/X59nL42/cr+V/5hfkL+hn7Ffwa/Ir9Ev7l/msApgAa/+//yv/F/30AEwBhAQ4CRAPkA0EE8wV1Bh8IaAlrCg8KxQpiDLINMg/ZD2QRiBIVE/QSkxIFE8gSWBLuEe4R1xL6EtkRERFfEGIP5w1FDDwLfQpfCVMIcQfZBSAEPwKBAJz/i/4o/aP7IfrK+C/3wfVz9OnzffPA8iDyvfGG8YDxY/Fl8d7xgfIE85XzxvQ69r73Dvla+s/7hv2e/x0BLQL5AhAEfQX0BsoIJwpqC/YLUwytDLEMdgzpC8gL2Av5C/YL5gooCUMH1QUCBQoE7AKwAcr/Iv6z/Df7Xfkn94H15fRk9CHzsvFM8BzwsO787rXtv+wr7UXtLO6b7/nv9e8p8LTuxO9w8fjzr/X89Zr2EfeZ9675MPqV+kP8Df3i/YL+2f3Z/T7+Mv94AIUAewFHAUQATACkAGUB9AHUAnsDvgJAA+4CdAP2A88E0AVQBxgIKgi1B/kGjAc3CGQJJgsvDMkMjgw4DMkMkQ0bDswN+w7gD7AQmBDxDykP0Q6WDjMOqQ0uDWkMPAvECRcJaQjeBggF6AIhAWD/rf1e/L373fqs+Tf4Fffg9ef0ZPQS9DP0jfS39MD0z/Sf9JT0e/V39kT4qPkh+rz6Bvzx/Bf+k/9rANUBNQNxBC8G7gepCGkIjQi7CfMKZQtUC7QK5wkQCVoIMAiZB2EG3wQ9A/sBfwAi/mz76vnV+Ov43vgN+OL1EPT08XDx6fHv8JbxC/Dt8BXwAvAN8BPw5PA38YHyjPJt8s/xOPIq8631lvYA+O34rfiV+Nz5Rfne++P7jPzc/mb+vP87/+H+XP8YAPUA7gHoAiICnQLcA8gDFAacBpwIhwlpCn0Kewr8CnULWA2hDtgO3Q9NEPYQshA6EGIRmxGmEcQQahDVD1oPuw3QDLEMWQwGDOoKcwk5CG8HdQb3BC8E8QILAWX/Iv6c/ej8vfsd+7r6HPqp+Cv3VvaI9Rz1t/Qe9Qv2Hvem96T3Dvce9xX3r/fk+FP6rPv6/df/MQFOAlkC2AKlA+4EbAa+B4oIQQl1CQ8KKguJDPkMGQzYCwwMUwxhC0YKDgtJDvobDSinJL8NZ/p79kj/pAXpAZMAhv249xHmZtah0V/Wlt2c5JPpS+pp5I3Yj9MT1HHeN+mt8n36o/5z+xDxTenK55HsAPXsAlgNLg/VBhP8XfHY8fv0ffo9AHgFuwa5BL7+4vW98TTyf/gy/+gF5QarA6X9dfuM/GgByAgYEiEZqRnxFEoRHRWuGuQcQh6TI6sqRiuaJBUd4xpTGV0V5xN6GFwc1hbFCtUB7P4r/A73XPM99en2i/Sj72TtJOwA6erl/ed67z/1m/W983r0/fYJ+Ob3bPs1Aa0FYgeNCD8KOwrUB+gFYgdRCm0Mjw34D7sSxxE6C+UEWgUmC+AQQRErDuwJqAc2B/8IdApLCFMD9v/yAdoEvwPq/Df4Vff4+In58fcd9s3yPfCu747y1PJ37wfqC+lJ7F7uAe2R6QnnZOUz5U7lzeX/5MvjmuIh5NTm2+gh5z/m4ufj7bryz/Gr7n7tLPGp87f2ZfhB+ub3cfSn80/20/vT/cP8+Pok/H3/bwKDAiwDWgZIChsOfBbZJZEySC+uH9sWniEHNRM+0jvpOHE2VS+cJqsjhyWMIK0UWQ4SE7gU3AiR9vPrxess7ibvG+8t7ZToa+QB5T/rSPCB8KfuwvHx+sYDsgauBHkDxQXzCjUQdRM+EoYNLQlwCO4J6gm/Bu4BBf7O/P78pvpT9cvvwO3D7g/wtPBw8C/xtPWS/E8BUQDD/+YDlA6gGSkdyBoWF9gaLSDFI6khbR3CGMUUJBPmD6cL9AEY+ODxJ/KL8d3rvuNz3kTd/d0W3xzemNtt2SraUN4w5Cbn6uaw5Y3nl+7K9dP2B/Q08h30I/i+/Er81fgX9K722PuY/W/53PFB8LfxnffS9QzyZOrm5j/o3e2A8T/tieqJ6nfx2vaH/M3+vvzs+RL+wwyIHHcmpixeMlszziqFJbUukD5mRexA1j31OdEwOiTuHT4cYxc0D1wIfgSI/fzzQOo75OLhlONm5enk3+MH5VLoluoN7nLzV/n//fgDpgwdExEUyxNME5wVXxjZGdEa5xUmEDoMQgiWBCf/Sft/+J/yS++w7OzoI+TX3xDiHuYs7FT2A/ub943xwvmxDuYepx54GGYafiIVKpcqJimAJPAd7RlWGmEadBJCA/P3kPXG9lvy/+XT2/DYhNve2/fZQNbR01DUsthb4IPj8uAs30Tkyu4j9UH0WvGX8PjzivgD+835bvgA+Hz54ffY9PXyNfHv8PPr8ebV4oflF+r16FnmxOAV3qPgP+j28dD3kfgc9zX43/yhBscTUSETMdk+hkGzND8lNCpbQA9S5VE4R9o9GjIVJ2AjGiU4IK8PpQGn/dv8KPYv6ufgg9y63qTjz+WM5N7iheZq7IXyiPgL/T0A7gSmD7satx3rGRcWnhdnHBEgnB83GaMQ1AncBsAEaQBQ+/30Oe4N6fXmE+aT4oTg0uGF5TLoq+m27jj5VwKBBXIFCAqcFwIjwSaHJQMnRSwRL20sMCiBI7gb+BQaEn8R/Aps/SPwKOoz6lnoduGn2sfXNdgF2CfXZtmI3C/eQt9F47zoEuxV607t1PD59Pz18fO18qXzYfaO9VPzAPCM7jTtIO3S7a7sGecd3VLbed8y5E3k+eBS4F/g6d/l4trq4/La9in3HvpVAmENlxYuIVIxi0JDRcE3iCtnNHpMjFkbVr5Km0CANVcsICo7Kooh7w9oAYj9Vv0V9wjrN9+32/febOIP4Z/est/k5ArrnvGC+MP9gQApBTsPwRkKHbgZsRYDGIMdViE8HxoXfg5UCekGhgMt/m74lvE86jrlvuNq4ljfJt2v3snhyeNP5KnmZO1f+ZQE6gkHCyQOeRfAIP4ltihSLDsvri7RKR8kkCAvHY0YDhNNDREFZ/rf8KDrVOqc59zgntqB11jYjtlV2uvact2r32Dh5OT16IvsZu1+78Hz8/fJ+bn2xfXp9sL25fZh9PnyTPLW8p7xJO9T67LnPeH5213gVebY5drdvdqL28Lg2+bn7Kzv5O4c8Ar3CAfJGLYqwjbnNfArbyXTM4pNnlpaVyJMHUSdO9I2IjY1M3cpmRmNDtMIpwP5+YXtBuQG4VLiseFV3MTYi9nz3gHlzumc7rTwO/WH/p8LmRTgFM4SbxPPGGYfcSKNIVcb7RROERsQIw3nBvEApPpB9ffvXOui5qThIuDi4ZvjIOPU4erjZOg29KkAhQWNBEUEDw+ZG84jGyZaKGYsZi7CLE8oWyS4IDsceRfoEaEJFv8a9drvAu5y6yDjn9tU2L3YKdkN2NfYLNqo25neuuNE6RbsNu3a74LzJPZx98z4RflY/Tr+x/rN9hj1tPgr9/fyIu/F7QDsQOc+4inefd8V4dDf3tu92qje6OMZ6JPpMOue8Pv7BQ5aI8kxti1yHoQc5DJQT2RZj1D0RJk+fDubOzM9jzo0LJEZLg91DqgMOwAL8Hrl2+RJ51Hkndw01xTaNOGi5rTpg+vS7R7yW/zuC2YWHRW6D6oQ4RiCIRElhSJ7HMcWAhTkEl4PLgoiBA7+3/dO8kztA+c54Q7g3OJR5O3h7N4i4M7mJPK8+pf89PvkAMAMbRhFH+og/SEJJq8s/i/9K4ckeR+JHfYcPRk+EKUDEvmC9DXzl/CJ6KXfn9kU2HHZC9r+2RvZj9hb2zrgyuRk5drnbOxc8PjzWfQN9YX1N/hF+5r7OPnw9pv3SvoR+mT07uxc6aPsse1U7Ejk9NsU2xbfDeHt3FXcxuKZ61Hup/Er+vEHxhqPJJIizhyqIvQ380jZTTpKX0RQPRE38TmLP086iymNGmgVEBNYC/H/RPWH7fzo/uZO43Tcvteo2VngYeV/6UbrqOqi7ST5tAgAEEoP4w6cEqoY1h1XIisiMB6YGhEZkRf/EtMN7Qi9A7n+PfoM9CjsoOYo5djlbOVM4ynhAePR6ajvVPGV81j7KQV/CvkL2Q/3FrQefyXqJ+Mk0h5OG7Yctx/7HWAUKQct/mz7R/tX95zu5Obd4ZzfF95Y3RDds9wN3DTcrN7P4CnjU+a16hruZfAE8xL0t/SA9sf3rPnV+IL7Yv7T+2r2mvEQ9PP3yvVm7+roH+SE5H/mu+mY53rgb9495pHxa/dZ+SD+Gg3gGbMb1RWnF08oHDm3QBY/iDrpNZMwZTL7OAs6pS6cHIITZhO8E90M1QHL95zxnu5c6xTnZOPe4knlDugK6tjqX+pH7Lvz4v9ACDwJ/QZKB7gN3BVXG/wbuBk4GA8X5RVXFE4TXhEADX8I3AS0ALn5cPMz8dTwu++T7DzslO/l70TuJu9H9sb9VQBMANEBTAfYDnoWOhrdGKcVwBNLFScZ9BrAFu8NNgf6AxwDKwBe+srzLu5k6hvn6OMr4QPgXN+P4Nrge9/73RngjeUn6Zjq3+u+7ZPwF/S09n73wvbX+HD9jAOEASz4PPTH9a/8Xf7Q95nwVuny57vqruxL6YHm9+h07hnypfH19WEBOBEDGMITcBCGFzkoMTWWOC043TRtL34ski+yNW4yxSUmGtUVzhTdDwoHGv/V+Nr0IPC36knlgOJ242Tm4umb657rSOk961D0Pf/CBDwEkgTICC8OXRMEFzoYVBfvFn0XkBb7E6wQiA05Cu4HygX8AM/5i/TM8xb1Svex98PydezJ6y30nv0aAB39p/v9/kcGqw0dEEkOHQvrCywQKBOJETgMeAfZBZwG+AWDAKj3s/Ju8W7xJu/X6VHkOeEu4pDjyOLE4FXfZOBi4y7n1enW6PXoz+wf86b1SvWx8vHzgPseAJX/9fn88xjzGvrA/gz8ovJB7XjtHe/U6wvpJ+0f8wb3I/N48iL5ewbrEpEZZxkvFWoYaCSwMGU3pjbdMQUrLSk9LScvOCqmIDgbORf+EWIK4QK1/Dn4pfaQ9Fzu3eYM40vlPOoY7nzvCu0T6zLuQffF/xgD/wNCBiMKlQ3rECMUWxUvFf8VhhfVFVkRdw7TDSwNuQs6CQwE8fzK+Cv6P//dAID7WvXI8y35jv+WAVcAWgAQBEMJLQzVCjUISwaGCN4NshBWDSkFoP/8/2cDmgOQ/pn3MvIe8H/uluzo6xfqEOer5Dbj5+JS4vzhWePC5eHlS+VL5WHnSO1F7zrvMu1A7iP1rPuV/f32XvBG8In2zP3O/YT4MvL770DxQvE876Xu1vRx/H0Acv86/Kb+mAnaGs4l6yHHGIoZOCeVNG44uzXpLjQoLCbxKGcqayN+GOwRsBAVDqUGvPzT8xLxsvOv9bnv5uRF4LzjEes98Mjxg/Bs7hTxCvmLATIFCwV2BQ8IqAwWEFIQTA4vDrMRwhOyEGoLIwh2B1cHbQcZBjICn/wm+fv78wIuBTQAJ/rt+o4CUgknCqYHRQdsC/IQhBJJEGAMPQohC1IOiA8PCuIA1fow+i/82PsD9mPuk+mq6FrpQ+jh5VLi/+Di4Xnk/OTo497ieuNK6ETp/uhJ533pbO5u8ePxJO/578fyofTu9Afzd/HR7ynyFfd9+L/1nO7G7DPvAfR/83vxLfkYA4QIdwQlA/YLwBr8JSMm+iFzImcq2TK5NXY2qzQfLjgnCiUIJ+UigRmuEI8NBgzfBOb6qPKs7wjwOu/J61zm0+JZ44XmuOsg8FPyifHe8e72zf7qBE8GiwYJCO0KNw3GDeEMlAyeDXkNOgsyCK0F7wOWAc7/7v7W/Hf5VvjR/SQCKQDm+pD6AQLPCRoN6AqNCYUM0RLJFugUMhHXDcAMOg6uEFwPNAdt/gD7P/yc+2L1Qe1b6KPn4Od15c7hqN4V3nTfwuDR4NDfGeAW4hflT+fs6F7pq+nu7c3x9vEQ8ejyy/dz+5r2i+/H64jwtfdU+dD3J/B77nvs3OwJ7Hvst/QD/mUFOQO//yUDwxGcI00pXCZ8JT8s4DXhONs7xztxOHQyTy3wLOsoUiIFGncVlRJKDCICQvYx70nvQfBL7r3nqOOG4qbj6ec57PXvRe8z76Lz8/pLAdkDcAZDCVAMEw8LD+0NsQxkDiYQKQ/6Ci8GbwIe/2T+Lf4c/Of2AvMw85b23v3c/h341fM1+L0GFBA2DkcJGgpTEiEa1h3LG60W1xIZE5kWyhdjEq8HHQEwAH0ApvyE81bsfek66pfo2+P23zbeyd7q4b7jreGZ3kHeBuED5x7rbuxf7JnrYezw7zn1MPqw+5H4IPKV7g3zfvkJ+3r3xvE878bvb/KE80fvfuyR7Dfxh/mzBE8KdwZ9A8gNSR91Jsgj7CLDKjk1ljj+NA0wjiyrK3QqlCfHIL8XuA9NC3MLBwuWBMH4nvA48sv3bPia80rwofGL9LX3SPoM/FP8tv0kAUsE0QREA88BlgEAA5EDUQC/+tj3Aflw+or4b/SG8Wnwo/Gt82/0afPV89v3MgBlCJkK1QZWBL8L7xeRHmIbYxXCE1QYnx3yHAkX+Q5zCfMHjwg0B6EBHPpG9ez0PPbk81zu+Ou17QzyovDY7Ijp3+qp7qvw6u/n6oXo+egg6wLrpugB5ZXkDuU35xTnSubR5QPoLum86Nnp/+nS7RHwyPP19Gb0rfJ+9Gz5BPxl+xr47vlGAy8QfxS8DwoJsg0HHP0muSdLIZAdsh+5JlcqdSenH6QZPRlHGrEY+xMQDmEJzAg1C+oKRgU7/zL/VgQYCAgHdAOmAIQB8gR8ByQGSAKI/wb/HADV/8j9m/km9gv1FvWt86LwXu5u7t/w4fIU8wjyAPMv9l766f0jALkBtQS4DzcXyhJ2CkkLvhjIIf8fLxVtD+UQvRXYFaYOfAe6AKD9Lf6vAB7/8fdv8vzzsvh7+mL1UfAD8d31kPm99k70l/Kp8T7x4/Ig9KvwR+wf5zHnpOb65uDko+Kl4vfjpOaX5LPj7ONP5srnjOsc7hnvLvBq8WH0gvbc+QX7Ovzm+sP9KgFwAxAJXA99FA0SxBAXExcbCSHbIFYfcR/II5wk3B9GGWIYZhvmG1cW2Q8KDF8LBQvoChEMRgooBjcB5QEdBsoIWAiPBrkG+QbEBpsEYAJMAuIDowQnArv9D/oz+F73uveH9xb15PDs7ULuQPGN85rzmfJo8sH1xPmM/ID+HwYgDtwOiQljCA8SURx5HzUauxUTFtcXwBaCEsUPlQ1HCe4EFQKIAAj8Yvf19dP2v/Xo8A7tSu1w8Obw/+6U7VjuGO5j7IrpX+pS7MrsT+tJ53LmmebI59HnEegH6dzqfO327LbpBef06WzuJfNo9FDyL+9F78bx7vTr9k34Pvm0+OH5SP17AaIF+QzgEtIU7RJsEs4WSiCyJvMlZiJmIhskmCETHWkbbR15HBYXiA9qC8UKvAo6CSQHAAYmBFcA4v0u/5cCOAQPAx0BBABrALoA/ABDAsoD4wIN/+r8Zf3K/fX8lPth+0H6q/hf9l/06vS49yX65/gO9qL1ife2+p4AXQ6fDlIB8vjEBMUZfh1jFXgKfQ19FJIYeRVuEH0PcQzkCOMHMAgXBE398Pvt/0QADvm+7TTtWfRA+PDx++cH50XooOnQ6K3mFebU4djg3+GK5KzlH+LD4Yji8ue57BPrRuut6z/wFvEJ86r3+/mX+hz3TPn1+V76jvrV+8H/7gHtALT9Jf1zAU4HNw3TECYQkQ2GC1cRaxvLIJ8fWhxdHb8eBR2nGXIZyR1rHvMZvxKxDkkOXQ4yDzYP4wzTBkkB7v7t/9gCjANRAI78sfqZ+kz5mviB+nH83Pu+99z0IvRA9uD4ffpf+xj6Cvk7+Jv5Cf3Z/2EBCAD6/0MEIQuQCqoCWAH7CSkUDhVvDjsILAgYDSsRwhCPDckJEgaTAyUF8AZKBXwCRAEzAXL/KPuF91359P0t/kb4yvGh7+bw//Hj8VXwB+y+5njj9OIq5Nbj4uL14TXi/+Ix4ozfKeGn6Xrv3+155yXmLOys9rX85/ve+Fv34fn3/CYBvwWJB1oFlARrBy8Ljws1DW8RHhaWFXQR1Q+mEX4YTh06HZIYGhYiFsUURhSEFUwYgxZDES8O0Q0zDq0N3Qy6DKcLVAl1BgwEBQRTBUAGegQWAYT9r/oc+t36eftI+r32C/M08nTzVvPL8rLzO/WT9Z/0wPQo9pn3Sfum/pAEQAsaCBQBEf9SC7kYLBrQEbMJAAvdD8sTJhPTEPoNjQksBkcGIAdUBiEDowGAAYH/tflS9JD3qP6QAEv4w+4o7FDvC/NC8yXwCey86L3nTedJ5xHoZujY6P/neOZp5HXivObH7djxoO7q6AfnPuwg9Cb27vQy843z8fUU+Bv5yvp2/EgA/AIEBcAEjQSGBiwL2RGtFMMSAg8nD0UVeBtpHAMaxhejFxcWVxa6FqMYvhjlFXASoQ71DPMKTAp+CzoMTAqTBVMCHgIFBGEGPwWMAg0AGv8e/1P/BgC4/xz/Gf5t/O36ofkW+m36Yvq4+qr5sfe09VD3n/z9BFYGmP0p97j8XwvxETMNmwW0A2EI/gwiDk4MBQvsCR8IxQdNCPUHEAaVBUgHrQcQBG3+WP0+AbkESgJ++7v2pPWT9Yn0DfPE7+Trmulz6D/oTeeD5q7leObD5lrn3+Zf50fqe+zX7pzuBe8u8JzzzfZp94/2c/Yp90j4t/kd+277t/vk/NX/fgLgAYsBmgECBWwIlwqhC6kKsgsMDJAOkRCTEuYUyhVUF/kVGhT4Ev4UtRgkGgMYjRIkDpwNXA8REZMPzQvoBwsFNgTeA48DnQJEAfoA2/9U/qP7/vrq/F/+5/00+vn3bfdU+fj6BftP+nz5MPpZ/uMG+QSq/Ir4CAKkD4oSJQo9AMQB0wgyDwcNPgkfBoED+wERAvoDLANWAfMAOgJoAon+pvq8/LsBFQSp/835Ovdy+Cb75Prt+JXzu+/t7lDvw+7k6zPqvuiH6lTqK+pS563mn+rL747ya+1O6hPrL/J+90v2W/L58Xv1FvgM+dP4g/px/N792f+6AL8AOQATAuIFkgm2CsAHHAehCRcOKQ99DYcMEA5QEFsTGxUhFB4RLg+UEAIUJxY3FGEQXg2xDnkQBRDBDWULZwp0CvcJvwjgBpYGQwf2BpMF0gLo/+H+JQC2AMX/iP0W+7z5fPk/+lf5B/jx9/f8awLH/0L4+vXs/uAKmA68B7gAcgAsBnYKjwuDCpwIfwUWA4QDmwQvBGsC9QLMA+MCQf6U+VH6TP+PASv+GPgW9dT0XPXM9Zb0HvJs7/ztQO7T7pruxuzc6kjreO1l7nLrkOoU7gLzSPOg8GPu0vDH9dT3Dvdv9Kz0r/VD91j4Efqe+mv6KPty/Vf/h/5c/Un+SwMBB28HoAVEBTgHdApZDDoMuwtFCwINjA8TEf4RORKzEQsQWg/REOISyRPvEjYRyw7QDCkM5QthC6kKFQlOBxEFAQRDBLcEhwSIAxECDQAW/1z/5P/HAPEAiADB/1n+S/3i/bIBkQOyA4UCsf6c+8j7kABIBb8FtAGY/c37kf2IAKUBYACM/zD/Jv7i/Y3+JwCGARoDywKlAZH/oP0m/gYA0wFcANz7+/Z19Kn1Q/c694H1bfK08CDviO5+79TwwvFX8NTvkO8t8gP0pfMw853ye/XD9yj4JPY/9Un2Hfjb+hP8Ffzj+/j6Wfy1/psALAFgAP4AvQGrA6UDUgRzBNwEkwWtBeoFKQVPBZsFbAYRB5IHpgfdB10JlwyQDikPiw5FDjQPwhCgEn4TfhPfEeMQXxCBDzEOywy0C4oKkgn1B2sFOAQPBQsGFwdMBS8CUwCJAekDsATBA6wB3wDQADMBRgBE/+r+Sf7V/UD9nfxU+2X6BfuY+yb7avmu9qL1zfaa+Dz52Pcz9if1kPUu9T/1HvUR9VD0rfMi9Nz0wfVi9ef0MPXF9T317vQj9f73fvn6+L/1wvQI92r5V/o9+Ej3TPea+Pn3y/d693v4pvmo+X365vp1+6f7KP2d/t3/jP+0/xQB3APBBbwFjAU7BYYGNgdmB8MHRAiCCCgIdwimCVoK6gl7CoILPwyAC/EKdQvoDIINOgyAC2ULSgx7C5kK3Am0CrwKAgp1CawJZgmPCNQH7gYvBswF1wUiCVQQEwx7Aef4mv2FCXwORAoIAIb6v/gT/Dj+pv9Z/vL5c/ee+Pv7avsE+vr6jf23/lX6XPVY9l37ov9v/m36yPam9AD1e/b9+G74/fQ58SPwCfN69Pv0sPO282/0TvTX8zDzaPbE+UX71vng9vL0G/bZ+Pn7Fv1u+2L5pfhl+pL8ef3w+yT84PuY/oL+N/2c/XX+GQLWAl0Chv96/iP/TgJdBH4EtgOfAkQD0QMeBW8EVgTWBMUFxgbPBj8HSAcGB1sHlwioCS4KCwpECmgL8Qx9DVEN8QyGDSYOzA1wDY0NMQ6NDt4NegzNC/0LXgxZDK4LTAq2CAgHeQYvBowF8gSlAw8DowGmAJX/t/5z/hv+1f39++753PjX+EX5Q/nz97/23fUL9oT2tPYL9k/1lPQZ9J30w/OJ9FD0kvQP9W314/St83Lz/PPu9CD1C/ZH9nH30vc99173MveI+Ff66PpA+xL7WPu1/Dj+2P7j/jH++P3k//IBGAODAo8B4wFXAjIDJgRvBJgEggQ1BggHmQcmBlYE/wMRBdMG/QaWBpUF4gW6BUsG3gYGBzIHZgfmB08IkwiyCDAIzgjECXQK7AmNCM0H0geaCIUJNgmDBz4GJAbzB0kJ3AggBwsF+wSvBVYGUgb+BYgFrAQVBBIDqALIAaMBKAFMAOr+4P27/W79KP3p+yf6U/jH95f3fPeN9k/1xPRo9HLzNfMy84bzj/O78zP0BvXG9H/zlfN19Pz1Xfa69a707PRe9cX1x/Uh9hn3Xvey9lT2fPfj98H4pfj7+Y/70fvy+9v8rP6MABMC1QFYARcCgQI4BMMFKwc4BxsGkQZdBvkGOQbVBqkG5waEBvUEXQQBBAsFagQyA58CGAPrA5sEcgVwBUMEJAQGBWwGpgebBxcHdQb/BgQIZwj5B3EHnQdPCHIISwhKB2MGuAVyBccFpAXnBNEDSAP8A2oEwQNrAvABFwLfArwCxgEQAaAAGQFhAYIBLAGbANf/E//s/qb+bv2n+x764fld+e34w/ec9gX2gfVT9Rv0gvMd87jzEPRb9Iv08PTF9d72D/hI+Bb4UPdj+Db6ZPws/eP7fvuY++z8yv20/R39LP2g/YX+9/7l/jf/pv9KANIAugDqAH4BvgJ8BDgEhQSKAwcErgSVBdMG7gZsBlAEoAPmA2kFkQZxB/sGNQbMBWMGjwanBgkGfQVwBZkFNQbdBVQGHQaiBZkFuQYNCLEHQwdLBhYG0AW0BRIGNQauBkcGCQY5BfkE+wQ0BUQFGgWjBIYDzQKqAtQCjgL/AcEAjv/f/nz+nv1//En7T/q5+bX5tfnu+XP5u/jj9y/30fas9g73a/cs+IH3zfbe9qb3k/j2+ET4sfeF9wf4Jvnf+SH6dPhp+Dn4RPps+zP7Kvvk+vb74Pte/PL75PzB/bf+dP/M//P/+v+QAF8BbwIEAwsDZQMiBLAE4QQKBMgD3AOABAEExgMAAywDNQM5A08D3QKkAvQBvgKBA1QEPgSBA70DswR5BucGAwZ9Bc4F8AatB+EHPwf/Bl4HsQfFB8MHSAeGBtEGFQe1B2gGLgUQBPQDLwSnA+4C5QG7AZgB7gEzAZkA2f8l/9/+Df/N/ln+T/1e/Mr7kfsS+xb6Tvni+Dj5L/lR+EP37vYc92T3Hve09oL2ifby9tL3iPjV+Fb4PfiY+Dz59/ln+hL7X/vR+yr7wfqe+iH7TPwW/UD9Lv2B/Kj8C/2V/Vf+Nv4i/l/+vP9rAPz/2f9T/xUA+gAVAj0DLgNxApYB0wGpAT8C6wF+AUQBiwEIAv0BhAHFADEBagFoAS4BXQEDAjUD8QPMA+ADcAPrA1wFxAaqBxUHHwZLBgkItAhICG8H5waOB5AHvAc2BzcGhQVxBM0EiwT/A9YCIALLAr4CqgLcAZgBvQHeAXMBCABT/2T+Sf6+/nf+Wf5n/Tr8aPs1+8X6pvn9+Lv40fjV+Hv48/fH97z3b/cn95/3efjk+Bn50fje+En5lPlV+kD7Svx0/J/8I/0k/l7/xf9l/83+Kf/S/wYAxf+0/7//IwD2/wgACABpAHgAigBwAUQBfgEwAMUAsAGiAkMCwgHKAUgC9gPZA04ESAPhApsC3wK8Ap8C2wLSAlgDkwOlAxQDXQJbAtMDggSJBL0D/ANDBM0EVQXHBfoF3wXiBawGbweJBxMHmgbcBhUHcwdQB/cHPwdjBtYE1wOGA38DigP5ApICFQJfAcwA+gDBAEwAHv8V/qP97/2c/Tn9Svx3+xT75Pq6+lH6Kfp1+fb4lfg1+Bb4D/go+Gn4XPgC+Bb4NfhA+F74sPgD+Tj5ufnX+tz7JPwk/BX8U/zF/KX9v/3r/Uf+kP4y/3L/jP+//6IA1ABfAU0B3QB7AQwCQAMEA8ACyQJhA94DvQOXAwsDjAInAlACNAI2AlcC4wHIASwB2QCKABwAjgAUAZoBtAGaAe0A8wBEARwCnwKHAjIDIQNeAyMDNQNTA0ADuAM2BIIEaQMpAicCDQN7A2MD5gLYAhoDVgNRA7wClAKOAv4CyQInApMBWAEbAZsAvwBRAIj/vv5Q/rv9+fwr/BL7dvoC+lT5Bflu+B34/vcf+N/3afc69yn3vvcU+JH4j/gj+Gn45Pg5+jP7kfuY+4T79PuD/CP9BP3+/Mz9Jv6j/gL/5f6x/qP+pP8aAEwAIwBVAPwA/AAbATcBoQG9Ab0BUALqArgD+gPiA6cDfQP4A3ADqwNeA4gDNwOZAq8CUAKdAmICfgJgAosBEgEWAZgB2gHaAUUCmwLdAgADDQP+AhgDrQN9A6UD0wNJBDYEEATkA8wD2QOiAwoE5AN3AwADugKOAgoC8gH7ATQCjgJmAtEB6ABKAGIAOQAwAEQAGAC8/1X/0v6l/e78/fsT/EX8Q/yh+4b6t/nO+O346/gK+bv4iPj/+GT5RvrZ+t36zvrb+o37c/uR+6f7Kfyi/NL8bv3K/YX+zf4EAN8A8wDXAGIAoADOAFYBRAF1AcQBuAI1A+YCNwNaA84D5APDA3QDQAPkAxAE4QQIBQsF8gQiBGoEJAT4A/ECeALrAeMB5wH0AZICZgLFAiACUwIXAkUCEQI6AtYC1AIqA2UDPAQmBEsEzAM9Az0DCQPoAk4CQwJZAngCHgLNAREC2AFjAcwAuACZAN3/oP8PALYARgCT/z3/C/8l/6r++P24/a39Zf0L/Zn8UPyy+3D76PoO+xv71/rQ+i76UfoP+gb61Pny+Tv6bfqv+pf6A/to+9r78PtZ/Pz8nv0S/lD+o/6J/hX+rf2U/tT+eP8rAKIA+gBLAdMB8gEZAhUCzQJWA4QDYQNYA8MDewOwA4wDRgP3AowCmwKXApACFwIvAlMCYAI6Au4B1QHTAUUCmQL+AtgCnQLhAmMDXAMwAxwD4QIwA6UDwQNeA6YCCgKeAdwBzwGnAXUBLAGKAE8A/v97//n+gP6Q/qH+of6N/mj+kP6d/pv+df7y/Yj9Zf2R/WP99/zL/FD80/t5+1r7e/vO+qb6wfro+q/6J/or+h76gfqv+hT7lvsc/JD8Nf30/Xz+2v6s/uz+Bv/7/iH/pP/+/z0AHgAGADIAZADFAG8ACgCT/87/cgCZAJkAHwFJAUIBuwHPAXMCjAKSAmQCcQLrAWoBmAHYAV0CPwJoAkMCWwIiAu4BaAJ+AkgCOgLUApwDGwQXBBUEFwRvBEMEfgSdBOUEGAXyBP0EqgSQBCQEcQSLBDYEdAPFAm8CVwJgArcBugA0ACsADQARAFP/Zv5A/Tv9pf0M/sH9xfwy/LD7X/sF+1f61vnA+ez5C/ol+t/5hflb+Q751fi7+LT45/hS+er5Rvr1+nP7kvy0/fn+jv+4/+L/3f9eAEEAFgGcAXoCuAL1AioD3QISA7wC7gKdAmQCTAJmAr4C0AK8AuYCyQLNAtQC5gK+AmYCFwLnAQ4C/wEBAj8CgQIcAgYCuQGhAZMBXwHxALgA6AAoAQECTgK1AtAC2AK+AlcCnwLCAiMDlQPvA2EEbwRxBBUE8QPRA3ADMgMWA24DEgPSApkCSgLaAWwBjwE5AdQA7f/s/jb+o/0l/d/8YPyl+9L6Qfru+XH5svgS+Lz3SPfT9qH26fbK9rL2xvbu9tP2Nvfm90j4tvh3+aT6svt0/Pn8nv3r/Y3+Jf8KAG0A+ABfAZ4BWwK8AlMDUQOXAxkEwATfBJIE1gT1BIgFogV0BV4F/QThBKwEnwSoBFsEZgTOA5cDUQPHAmgC0QF5AYMAQQB6ANcA8QDtAPoAtACXALYAxQDqAPUAQAG5AQoCJwJFArMC3QINAzUDqwPBA2cDVgNuA0ADtQJXAusB0QFwAUIB3wBrAOT/7P5m/gz+4v1N/db8lPw2/Kz7KvvX+nT6MvrR+Xr5VPkD+Zj4/PeD9z/36/YZ9+D2K/eH94P3FPjO+HX59/m2+iT7wvtx/B39Ev7U/qL/AACbADUBrAETAlkC6gJPA3IDsgP/A0EElAQGBVwFvAX4BRsGUga0BtgGDgYeBWEEHQRZBCQEEASwA1wD6ALdAv4C2wJrAq4BngERAqoCywLNApQCUAKOAhIDyAPtA8YDgQORA4EDhAN0AzADMAMCAwkDpgIVAsQBdwHqAD8A6/+D/xb/s/5i/iD+mv0L/Uz8DPwp/OD7e/vd+pD6NPps+cj4efhj+If3CPel9sL2ufbG9s32rPYr9/32s/fx97L4Evnc+dv65/sz/eD9lv75/vz/tAALAbcBTgIfAxkE8ATMBVgGlgapBvQGTAdDB1kHEQcOB6EGSQb1BeIF1QVpBeUEMQSeAw8D7gIAAyoD4QKqArECzQJpA9kDuAOEA3cDWgNwA8YD1wO0A8wDQQS1BLkErgQ4BOkDIARoBFAE4AOiA4EDhAMyAwADlALKATMBbwDz/8z/Sv8L/8f+L/5Y/Sn8rPtF+/H6rfoW+kP5Y/jY9+r3DfjW9yf3ifbZ9YH1ffX49UD2EPZu9tX2h/fh93v4EPm8+Yz6LPsM/MP8nv32/SH/CACMAAABfgGBAhIDGAM9A2kDZwPiAwUEowTUBKYEgARQBAoEpwNIA/ECDwMWAzADvAIXAoIBQgEkAeIA5gAZATcBTQEzAWUBqQG9AfIBEQK7AXkB5wGFAiEDogP2A18E2AQeBQIF4QSzBJgEiwTYBB4F7gR8BBAEEATiA4wDQAPzArUCYgL0AXsBrwCx/7f+Jv7c/aX9Hf2D/BX8gvvv+k/6t/lU+eD4d/jL9yf3svbK9ov2t/YE90j3r/cY+IL4cPiI+Mr4fPkp+jX72Ptm/C79Dv5T//P/gQCXAPUAYQEKAskCTwPIAwMEbwTCBPkEGAX7BM0EtwTEBJgEIAStA3IDWAMfA9gCsQI6AvYBJwKkAokCPQLrAbABuwEOAisCbQLmAlwD9ANqBLAEUARZBJQE5QRnBe8FHwZ1Bs0GxAbpBs8GoQY1BhIGqwUPBcQEgAQxBKsDCQNZAtgBEgGkAAQAT/+C/qX92/w2/MT7Vvsh+3/6Yvl/+Av48/fh95D34PYU9pn1K/Xu9Ln0evSb9Ab1nvVd9vL28vYg9173MPg6+dz5uPpU+837lPyp/fD+0P94AJYBcQJLA8oDKwSFBH4E4wR9BeYF8QUZBosG6wbuBmUG6AWvBVwFJwXGBF0E6wO4A+0DVgR8BGYELwSeA1MDCQPzAuoCGAN9A7IDvwOKA1YDRAMqAwsDzQLUAn4CJwIBAicChQK+AskCpgKUAmACLQItAkECLwL0AT8CzQJjA2wD7AJ8AjoCCgK0AYsBQAEoAe8AgQDr//D+kP4M/qf9cP3q/F78dfut+nT6Dfpz+dP4oviC+GP4TfjS95L3HPe/9oD27vbT9qP20fYv97X3/Pde+FP4sPiA+TL6ePq/+lD7Cvzf/Ob8Uf3c/f/9OP7H/qD//v90AKkAAAFuAb0BQwJ4Aq0CDQMnA4QDuwP2Ay8EFQTVA/YDKARHBJYEsASjBFIEFQQHBBUEGQT4A2wDHAP5Av4CeQPrA/QDDAQbBBIEPARJBIUE2ASIBSYGcAa9BqwGsAbVBiQHQwdDB/8GwgajBmgGDga0Bf0ENgS4A1gD7AJZAuABHwEVAE//qP4+/oT9h/y/+xD7ffoN+l/58vjT+E/4vPc097T2PPa89Tv1zfQk9Cv02fMg9ID0zfRa9ZD1/PVC9sj24/aU90b4G/kC+tv67vt4/P78o/1m/in/EwDQAHMBiwHnAVUC9wLZA7cENAV6BboF7QUOBvUF2wX4BQ4G/gUSBjcGZQawBu4GNgdVB1kHUwc6B+UGlAZ1Bo0GmAZ7BvkGPwdKB/sGaAa2BTQFzwSwBOcEiQT2A3QDPQMPAwcD8QJMAnsBAAGMADAAtv9E/wL/4f47/5H/mf80/7z+wv5y/yMArQDzADMBdwFwAUsBEAEWAfUAFgExAX4BfgH6ALgAXgDd/wT/Yv7y/Vb9jvwG/Jz7j/uG+wX7Lvpx+Rn5pfj390P3p/Y39sz1l/WO9dX1G/bZ9Ub18vQ09Tb1oPX69bv29vYZ99b3vfi8+XT6fvvj+zr86vyV/W3+wv52/+v/WAF8AooDRAMqA+YDtAMABaoE+gWMBYsG2gavB+wH2AcsCIEH4QdTB7EHbwcwCA0IOQjsB/cHWgipCOsIpQirCIIINwiSB4EHfgf0BokG/gXBBZMFPwXWBAoETQOOAkUC+AF1AQ4BkwAuAMX/g/9a/0H/U/87/z3/hv+p//7/PQB4AL8AvwC0ALQA0gCeAIoAbwAnAJz/4f5S/uf9Z/3m/HT8jfv4+oj6XPo/+r75OPln+L73Q/cB95z2JvZ29ff0u/R69Dr0svMy86rygfLQ8jfztvP281/0rvSM9Uv2pfYg9473Rvgd+U/6+PqR+3T8Z/1k/vn+Vf/H/1UA+gAOAiUDzgMSBNwEwQXRBvMH4ggPChsLBgwdDXcONA+xD4wPig+QD6YPHxB5EKUQXRCpD8IOgg1iDJQL6grUCcYIbQdABqYEAQRNA8cCzwETAH//9v07/XH8jfvz+p/56/hW+Ej4e/ha+I34KPj89/P3QPhh+HD4vfhQ+Tb6mfoD+2j75ftk/M78mP1k/tT+HP+p/zYA9QD2Ad8CdAOyA/8DsASDBSEGWgaJBo8Gjwa5BqMGRwatBdoEPgStA8sCpQHXAK//i/5I/Ur8ofvD+jn6yfmb+SD5iPjm9xn3Uvbi9ZX1oPWK9WX1rfXd9QP2Rfbn9lX3dvfA9434UPmI+pj7ePyG/W/+7v6g/6kAVgHwAcACkwMtBFsEfgR3BIsE9wRyBQ4GHwYABgMG7wXBBRMFggQxBNEDoAOGA1MD6AJmAv0BvQFjAQ4BCQFAAU0BWAGEAYQBkQEVAroCZQNBBB4F6gWWBgwHmwc7CL8I/whSCbsJegkiCeIImgg3CGAHnAYfBngFuwTxA1gDXQKcAboA4v9i/6H+wf3z/Bz8LPtw+sT54vgh+IX3F/f09oT2Vvax9Q/1xvTG9CP1Z/Vw9QX2fvbe9gT4x/e7+Lv4oPgY+or6t/sG/E784P0+/hj/Jf/9/kH/q//1AMgBJAJIAjoCYgKXAokC1ALdAk8DxgNDBCsE6wOcAxYDDQMfA1YDnAPeA/8D4AOTAzsDGAP8Ai4DSAM9AwkD6gLFAu4C/gILAwQDWgMmBI0E1AQYBZcF/AVzBi8HlAfFB+EHwAeSB1AH/wbRBigGRAVsBLIDJQOQAi0CrgHiABMAYP/f/mb+7/3Z/DT8gvsq+/r6kPpe+s/5Mfln+HT4Cfjm95f33fff99b3Cfhg96/3V/e194n32Pdw+AP5aPlq+QT6APpV+rX5Bvp2+qD6H/u5+0/9uP02/i/+kv6b/s/+V/+V/1cAigDzAGUB/wFXAmIClAJ+AoMCUwJ8Am8C1gKXAnECTAJBAkoCJAKJApkCmwKMAnYCIgIMAsoBeQFLAUsB4AE4ApACUwMtBDMEvQOpA04EEwW8BX4GYAf3B+YHNQgaCL4HWwcTB8YGtAbwBiAH1Qb6BTkFggTVA/MCQwIIAtMBLAGXADAARv9o/uL9Cf1E/Ub9cP2K/TP9Gv0v/FD8aPuq+0D7tPoO+7r6mvv++pj7afrB+k/6Dfrn+S/55/mg+M/5XfkH+6n6lfpl+nb6lfp7+ib7nPv5/MP8sP0j/cX86fvc+xz8O/2w/Xr+5f7w/o3+wf0q/Ur8gfxN/XP+3P6c/2v/s/5f/v/9CP5o/qL/wQDjAZkCHwObApICuALgA6AFWQegCM8JXApICm0KxwpsC2ULfgt7Cy8MkAxODF8LAgrrCCUITgeJBrgFegRIAyACwgFhAbEAoP8z/pX9If33/E39oP2R/Vj9uP3p/V/+7P7U/qz+4/6XANwE+A0SENYJHwMlA6sIiwtzDH8KQAtwCr0GwAS9AxIBtfm59vL4b/yk/2H9dPhW9vL2Jva/81j2MPgy9xz3P/dT+kT6Efeq8uTwCvRY88DyBPN58wDzxfKS8nDxG/GD8I3v/PB29dP4S/gH9gv2xPZP+AT4Tvmm+ob7L/vH+mv8r/wg/GL6tfuR/QMBkwMZBFQEtQQABgsIAQw9D5sP2g74D7YSRxVZFsoUdBJWEJ4PBxAVEXUQpQ2ZCskH8QVKBSAFnANAAbT/5P+tAB8BHwGi/6X9w/xa/SX/fwBeAFr/2P65/kz/WgBpAEz/av58/rT/igCTAGX/cv2M/K38Dv4j/0T/R/4+/f78Lv0g/p3+PP6l/e/99f76/2QARADDAP8DYQl1E8cZmBKdB7QDnwn1Dl8Q3A49DCIMbAiMA2QA1vzc9CTtQe+59ED4w/eC8errUOrn6lno9OfN7BTuLu6I8O/zO/Xa8T/rj+cZ7dH0BPi8+br6Xvo9+J/3BPii+E37AfxP/ScCJwcUBoD+nff08zXz3PNI8/r10fjh+bL2KfVz9P7wl+7t7mr0j/g++3b8UQNhF5coCideF/oN7RQYIQ0rXi81MzE1DS8LJmYfOhrQD04E2v4c/xwFsQlbBB32L+pR5o/kPOUS6sXww/XH95/7gAHHBaYEGwFdAiAJ/RIuHMgfEhwiFkISBQ6hCfIG7ATJALr86PxO/oz6MvJ36uvpr/JTA60MNAIo9hH3ZAQsEAoT3REXEdwT5xLnEj0U4Q7zAkb6Lf7kA8cFdwEm9ubunOxJ6gbk7+F+5Q/kuuE646LoQOkK4wPeCd0x4nDnHOkR6zrt2O1Y7OXso/EU8dDtyepH6AfsUe4C7gHoC+fv6bPoJOxS7/3xG/G/8x372QOxFOoqMUASRMc2hiuQL6k/N0Z3RK5CPUHSOzgvDSMVFj0Hvvdz7Fnql+6Z8uTuXOQF29PYrNvX3xrmpvAo/cYG4Q6CF3odph0QGvUYLhxtIjYnlyWQHVkTzgq0AWr2sOyt5qziyd6G3dffyeAf3RvY7ddn3ZrlEu+/+CACJgs2E5YYARtLHCkdLh6GHqseoB72HhoeAiioM6giZAQn8Ezwefgz/Z/8m/Wd9wf2buyP55jnquP82nrjP/WqBKUNnweK/Xz5aPts9CDvCfjJ/BL77vdi+Zb27esF4ITTsdS63Jjik+QS5ULpOedT5mTmieMW5EzhSeIt6Djy5/kV9+HykOsr6J7r//Fk+dT+YgeuEEscKTHaR3pMmDiMIygm4Tj3RUlEzz1lN8Qr0Rx8DjkDHvXX5Kjcz93X5tTvT/A15xvdV96M5r7vqfqHBywVvh1qJFgr5y5BLLIjXR0gG6sc5h5JGu8P+gDs9H3rJeF22YDUENNa0wjXnt8w5v/nIedh6YnxCf1mCXUTihtWIdIlrShDJy8iTBulF3Ac0iwGOdMpVBNdAgr5g/eT9XX0PfLV9Yr1yvDK8LTspOF12CDeA+zb+n4GVwcQBPoAQfzc82rvPPR39FvyEfXZ+D334+2l4gPWLdIQ2A7eGuSa6dDrremD5pnj494p2QDVztJn3PntMPhN88Tq+Ok17Eryhffu/NEEDRJsJPg/umG5aV1PKi6kJcEyhj+oQo89hDW0K+AaHgeh9qDmHdNqxQDJ6tmZ7Qn4fvQ76zropO0A9ioBuRDsIJEtOjZ4OxQ6kzAUIbsQ+QZ7BkEKsAgP/0HyduZg3DbS3MktxyvKs9E43gHvyfwkAhQDkgQkCS0RgRt5JJgpPy0WMLMvEikUHFENNgAv+Tb+/RLHIlcY7gG171Dqte1G8zj3JfqXAsAHxgiuCaMGifn663rr4vNIAHIITgdpAC76KvO959DhweFQ4K/eU+GX5sTqYuhu33PWMNJA1t3cUOMB6rbuofHY78LqOuMu3WfXBdbU4GvtFvUq9nX0RPHh7xTzN/ZG/UMHGRWYJrVCFWXxbWlVFDJLIcknODNbNk4xdSseInkQOvzZ653bCMrRv8bEo9bx7ej/zgNv/i/8/gC4BwYRQB/8LV04Qz5SQks/tjJ2Hh4K2PsL9cbzFfLn7IDle92p1fHNfMcMxy3NbNiW5wv7Xgx8FgMauRolG1kdciEUJn0oJilRKBMlSxwsDcr7Yu3C5YnvjQ3tGaoJ5/j48M3xYPWC+zD9UQBeCH4JIAkLC2YHI/Nw5FLnX+/s96T8L/xe9wv1b+/Z5AzjguX04HrctOKg7sfyqe5O6NDf+NyP33bjA+ey6S/vbfJ28DPsEeSl2N3N8M6o3KPq1vLu8ervBvAr9GL6Ev5SBnoRySLuPfFjoX2Lb/pIUStoJ6wuwTBTLZ0ndR9gEfL9re1E3/bLQrpGt+rIS+Sg/bILtwtxCVcMvRKuF/Me1CqdNI47jkDfQCI2YCAZB0fxJebS49Xiit8K2x7Z6tff1GfQcc1e0ALaG+qe/4IV8SNEKGon9SXuJPgj+iEkHxgctRowGbcTSwj59qHladpe2hXwOBO8HkIQYACt+vX8wgIRClYL4A2tEXERyhBZDjADrurq3GHgtumg8/X5Afzj9mvyLe2X5tblwuWD4e7e/uZe8ij0hO5n5gDd9thu21ve4+BF6KPxdvLe7nfqAePk2vbVwtsH5UTsOfGa8+f5YP+IA2wDzwGZB38UPi5OVrN5P3m9VVo1syq5K1YpfiIVHTQWJQ1fAfD0k+lr1aO/krZgwXTaXvXRC7oUrBWjGNwcdh7dHR4jhyoSMMA2FjqwM2kgHwhK8rPgvteY0+nQANAq00fZUtue2obYB9jM3S7rnv8cFKkj2iv8LeYtACtmJV0dKBVXDxcM2wzjDNMGs/mj6mnfJ9xE5sb4tQw2E7UQxhUkGosYghKQDusLKQy3EKAPuwtYA2v1DuW63LrefN5i4azoDvGB9en2G/YK76HqK+jN5Zzn0+yp8MLvBe9+7NTlkuBH3nLdxd9S56HvIPLu7Sjn1d2W1BDU5NrJ4ELkyepj8w/4nfzOAAQDBwRQDCkiPkmDdf9//2IoPysxuTCHKiwjnByFFhQNPgGJ9vfqpNmOwaezObzI0x/uHAXSFLAagB0nI4omUSUEJYgoRC1uM5U5oTXII2kM/PWI4i7VEM+Vy+fJTc7B13Dfg+EP4Q3h2eQI8NwB5RVDJcMtTjHaMSkvridEHKEQ9QcfA4ECzANoAd/3WutI4XHeX+UR8kX+ahDoI5gmICDmHnkfHBl8EdEOYw3pDXoM9gMZ+Q7xEebT2HzWFd7P5bTsaPTq98P1APMF74nqbucx5WjjwOXU7VDy1O0T6CXk+d6H20TdCuWb74LzxfL/8TTrbd4V1B/T5dnx4TLoeu1H9kr/eQGB/64BcgosFw423GRTfFxrDky/PNc3+C3WImYa6BR8DH4BaPmE8xno1dCKvrPApdGD5gv7ZA4kGq8gyiZJKe4nKCb7JMMjjyYzLjUuFyDnC6b5m+is2PTOssmhx+/LDNaz4KnnYOuy7BbuIPUuA4cTuiD+KMgtzC95Losn8xs2D70Dlvth+CP6zvoJ9mnuDOjy55bvRPjZ/XMGhhquK2MpMSJJH8oZ5A8kCS0H/wMAAJ74DfD07H/rHuNo2V7cj+Ws6rvvM/ZH+QX2tPFd7wfuguxn5izf9uLb6RTpo+XL5VLnmuTi5B7tkPRq9MftNujN4vXhbuIl4czhCuEe42jnce/l+Vv+vwC0BdgTAitPTVNtf21wUmE6nTYqN0EsgyCUGF8QAQQf+OrwPeid177Dy73GzBPjFPYyBYoS9xsXIi0n+ydnJsAlVSXLJVEqoS5RJVIQ6Pwq7jrgMdSozVfKpMt61N7f5+ev6yXu1u9/88L+mw5fHB0kqifLKSAqNya6G5AOoAMT/Dj3rPYB+Yb4pPLG7oHywPd2+n7+xggWGv4lfCSpIZcgPhoSDgMEgAE9AGX6MPOe7hXvk+6k6CzkteXr5zvpRO4+9pD5jvWm8DXuTe5P66jha9yH3oPjLuYq5Tzni+p06Qzq7e6C9OP0EPEu7E3n9OUY5nDkd+WA6sPrdusd8yH7Af49AC8LLx3nOChdLmvmVw0+zDSjNc0uEiQtHR8Xkw2/AGf4sfTo6H/SXsNoyh/f0fOBBRcTmhqjHyklJCd1JGIieCBpHrIhJCmnJnAVOgJv9Ojog9xr0qbNj85l1Xrgputv8h30xvPO9ab8SgfgEkschiHrI5AlIiWeHksSKQVN+9D1EfV+98r4Sfbq9cL7NwFtAqoCZQaGD9AbUSGAH90d8xlAENgENv7R+VHzte2b6yDt6PDN8cvtweut7aLugO968q72Vvja9uP0zPAg7Z/ln9vw2FPcY9+M3+zgEejG7kLzbvZo9HztbOl96QfqcOf74prgTeSm60HtJuw08FT0X/aF/GQM5yEGQUphAWeSTwg75Th9N7osfCJcHpYarhCcA3f4H/HY46DOacNUzFvgLvN2Aq0PiBdSHXkh0R85HAkc3R22Hrki5ihJJGQTNgIm9hXqM90g1CjR69O126jlnOwS7/fvyPGO9dj7zwQND00XshxGIHMimSAfF1wKGACC+Sr22/Vn+Gf6Nfs9/ykFuAiPCI8IfQqmDKsSPiEqLospAxrjDG4Da/qk8BXq6+fZ6afsAu4I8iz2YfEo5//kXOtl8DryDfX4+Pf5sff175PmieCD2b7U89d24R7oMep97pj0Qfkb9qPsw+Q34hHkT+Ys6fntVvHi7t7nXeVo6hTxgvYbAcsTby+OUpVkVFYHPZcylzStL1AnbCYWJj4dyQ42Bff+7u9/1wLGwcgw2r/sNvxWCTUSyRaKGaAZbRZTFN0UhhdyHl8pqCzrH7UMC/1l8J7irtaa0U/TB9sF5Z7sMPDn72/tAOwR8Er61QUuDx0X0h5mJBkkURwyDzICs/nz9TH2Mfmx/CcAjwPyBs8JMgq7CZAK7AzREOIX4R/zIlMefxQ5Cn0AEfd57qjoGeh26/DvrfMh9nv19e8769vrAu4i74zyNveg+BD2X/FB6+bjdtxi1/rVHtxr5EDpEuzZ8Nz28vRI7d/mh+U36RXts/Lx9xr4X+9+5WnmlO3g8Wz02fxMDMEhEELVWAJQnDV4KMgtvTBVLVksCSv6I20YaBDlCUP84ORy0KjP7N6o7zH7HAOCCQoOXhJXE3sPig1/D/ATuBt3Jscq8B8WEN0Fo/1s8YHkPt1o2yrfLOf27KTtUesB6o3qH+759pEBGgr7EBYZciFHJMEeixPRCIkCGP/g/Vf/UATGCFILkw0eDHkGpQMxCTYOJQ/fE6kZexk6FXsQ7whb/tr00+yi6PrrqfDh71bvgvPK897u9OxX7ZvraupY7svyfvSs9JPw8ej14wzgBtnq1MDZQuJ45gXqSfHc8+vubeih5TnkDOWA51/qvPDd99X4VvSJ8vT2b/yIAw8RkiqdRSFLujuVL84y5TUAK+YgbiF2I3AcmhIhD1MKzPoT5gLc+OGY7EP0lvntACsKqhBtETANzAp8DEwOdxBGF5offx4TFKELGQba+/bsnuKJ4Pjh2OUZ6o7rQOpe6SDqIOvF7Un09/w2BZwNZxdwHrEdFBdhEIkMtgj/A70BBgWjCZsKxgmyCPQGmASkAhUCiAUaDa4TLxZVFi8Vmw9qBgj+cPgA9bryC/GD8CzzQPYL86HsjOmq6OvnU+k07ervw/Kx9DXzx/Ba7Mrkvd1E3Qjhj+Ja5L7mR+gU7LPvdexW5Pjf3ODU5efvWPjT+PX0/vIF8YLxNvmXA4wMwB2ZOYhIbT4VL4Msay+2KiUldybOKNIj0xr1FnwTKwSp7FzfuOSs77f2o/thAccHbwyRDVIJtQR4BZcIxwziFJgfbiHtF5cPtwtVBbX5i+9M6yLqJuxg8NXxmu646ULn8OUE5onq2PH4+MMALwxpFgIZxBVPElQQKA5gDFYN7hCHE4MUzxPCEJQLWQdeA+f9jvzJAqwJtAttDCgODww0BYL+bfo5+Of22PYV+eb84v0J+Ojw4+yc6XflJ+Ow5QnpKOyr7mXu2+1461jn6eLU4TvkquXT54LqIO+d8rrwMu3d5hzhtt9D42vrevBV9cP3xvTy8XPxNfhqAeALRh4RNJ9AKDrkL5EwxTLWLNMkwyVrKCUj5R1/G3sVCwV48szpTuok76nz/fhBAHMH3QyQDDIIuQTIAz0F3AjKEEwZNxoDFesQzg0eBYz3Oe7f6+/rZO1E8frzmPFv7aHq2Oc65UrmtOtK8rH6lQWLDjYRcA8iDpENQg3OD4IVShskH6Qgex7eGoAVcAu7ASD+Uv67/cL+aAKeAx0BWP30+Mn0pPLA8uH07Pko/q7+m/7I/dX4GfHF66fpFOd65n/ph+r66afpL+he5OXgDeHJ4Szix+Yb7Krtku2d7bfsauce48/iOOUa6errJfAW8RDvUO/M9csCugzGF7MnZjGGMMss1TJZOIIz+i+oMcMylSuXI6MfDxaSB6P5hvOM8jnxpPIC9Wz4G/tA/Q8AEwC/AN4DnAgMDpYTURnVGVkW6hMTEUwKoACw+xP6dfaq8onxCPDw6qbm1uX/5HPjyuTi6bfvI/X4+jf/PAGGA/QGKQxQEToWWBqnHwIm0yamIuAclReNEmcNlwqDB3cEYgDP+5T5LPbK8b7tBu3C7yfyhfXf9wD65fu4+k75BvcL9XHyYPCG8Z/vH+zV6UDnAeXG4m3hkuAO4DLh4+NO6F/qv+nY6C3q3+rf6EXo9eg86iDr4usK647oG+z19C7/zghOFkIj+CPSIDIlki6UMZcvdDQjOvw5WDXVMBYrkh1tD+kG9AEQ/nb6Lvo8+dj2B/aD9cPy7+5L8S/5dv/7BPkM/RMhFdwTYBS7Ep8MBwimBxMHIwXTA9UB5vpI8vftxOp85ejh/ONi6OXqcu6X87n2F/cS+QIAcAbXCu0PcRj+IKokySX/JHUiSh4zGtsWTRKmDngKxwVlAYX8NPdE8ZvtS+xj7DXuS+/m8LTzFPa09gv1BPV99RP1OfVP9fzzEfCk7W3rh+hX5vLiyd5P3aPgKuR05JTjouEb4BDirOV75+rorevc7KjqDesg8OT1WvqD/4IJRxWhGucYHhghHigkgSURKPMsYzDaLtQsbywhKMUgCBn4Eu0P1A4VDqgJ6QPIAZ4Aafzo9RTzYfSQ9UP38frk/4EC2AHcAZoD/QSqBLYDtwSsBqAIvgmXBxoDU/9P/QL6P/Wz8kryMfFP8E/xkPJU8fzuKfBo9HT4ifyfAtkKdRCDFNQYOBuHG8AajhtvGyEauhlEF6sSNQ2NCPkC2vt59lzzmPEG8NzuQe9H7yfuVux960fspu137m/vC/FQ8qTyS/Fm78DtLuxd6pHn+Ocm6orpG+fk5t7n3+Vd46bjbOWt5nHoRerk6Vjphe069Lj4f/waA60MmhLuE2AWixptHuwgOyVDKsYrwilMJywmryNsHwQb4Rb7E1ITZBPuEHwMaAm+B9gENQHV/1cAwf+m/rr/CAK7Ad/+Rfw++2P7iftL+8z6gPut/Sf/xP6j/er8BPwD+yz7n/wX/lL+Cv7E/p7/wP70+2f6hPuR/Tn/7QCuBLoH7QhwCpcMOg6CDqQPARGkETsSXhJxET8PBA1aCgYHeQM9AIj9A/vg+Er3e/UU87jwHe/U7aXsmeuT69Tr6Osq7LTr/epb6u/pMukP6V3q1OqW6krrJuye7HvsoewX7WXud+++71HwU/Am79Tt1e6H8r/1hvi5+2sALAZXCrMMfg4qEqYWpRp/HnMi8CQaJY8k7yP4IccefBskGPAVjxUBFVoSnw5DDEoKkgfaBBQDJwLYAToC6AJLAzkDzQH5/gv9Zvw++9f4h/cw+Lj4M/hO92H2SvX39Kv1ZfbR9gD4EfrC+zv95f5/AOIAKAFKAvQDiAXgBqUIjgo9DNAMpgykDCkMagtNC4sLzgqqCbsI/gewBuoE/AKDAGb+3/y/+8H64fnc+Er38/WF9LLz1PJs8RzwxO8A8Ifvj+7b7Q7tNeyD64Xrm+s+7ArtFO4v77Dv+e/W7+HvSPC58c3ykfNF9MT0TPVf9Jj0zvWb90f5WvsO/sMAbAThB4wKwwzXDwoT2hXAGHwbKR2jHQIeLB7SHa4cHBv2GSEZ3hfKFWoT/RCsDnEMeAqlCOAGUQUzBGUDLwIxAWIA1P45/TT8e/vY+Sj4Nfi4+Ff3l/UL9az0sPOG8zb07/Ol8zL18Pa69+T4EPui/P/9aQByA8cFeAdWCeMLxg1vDo0Olg5SDl4Nnww4DF8L4Qn3B/MFMwQEA70BZwAu/2T+9v3m/LX76Pqt+s/5WPiJ9/v2e/WG8yvyVPFp8Cjvou1C7Dbr5er/6vXq2Opr61/sEe0P7hnv9e9i8CjxW/Jh85T0uvX09tL3hvis+TT6WvqZ+un7uP2v//IBhQTIBksIRAofDbYPQxHeElgVzBeRGRUb4RuFG3EaHRrVGQYZ+hczF6MVxhKJEOUOUwz/CB0GFQQGAjAAOf+1/mb+K/45/b/7Hvre+H34e/hA+D34u/gQ+ZP4LPhw+Lz3Pvat9Tz23vYc9yz4XPoM/Ej9J/9SAR8D0QQpB40JSQuZDCgOIQ8jD58OyA3hDFgL+QlcCOMGpgVqBEYD/wGFAEr/TP6e/Wv8TfvV+gT6sPg09xT27PS28+7ys/L/8ebwlu9Y7nrtIu2h7B3shOxx7QLucu5L7yfwDvHl8ezyCvQA9U/2pPeg+Gz5hvoz+9H7Hf1c/y4BVQJGA6oEqQYfCHMJGQtpDT0PoRDkEV8TthQxFcgVpBZPF1oXBBeqFsQV8RRIFNkSHxCwDcILuQn7Bs8EZQMmAV3+F/zF+rP5ovgE+Kb3r/dP+Mb41fjr+Bf5G/kB+Tz5ZPlO+bj4jfig+FP4Kvgs+LD4bPkr+jz7f/y2/WD/GQEyA5AFtQcmCfsJNQu6DL8N9g3ZDRgN1QtXCsEIbQckBsIEdAPEAab/3v2z/E37mPl7+AL4PfcU9iX1h/T/80Dzc/Lp8RTx9e8V7+Lu1+627r3uEu+77zvw7fCU8Ury9fIM9Dn1/vX09h/41fiA+Ur6KvvE+178d/1B/iP/WgB3AUoC8wIQBBUF/gXgBuwH7wgYCosLQA33DiYQzxA0EZQRyRHmEQASBBLWEZQRKxFJEAAPbA2PC50JvAfOBS0EwAKhAZMAnP96/i79NPzl+/T7ufvR+1f8a/wt/Gb8nfwg/Hf7WPsd+6n6zPph+837sPvl+zr8Afwi/Nn8of4/AKEBTQM0BaEGTAc5CAUJkgkWCkgKIAqCCSYJ9Aj8B3MGTwUvBPcCKQJ7AXoAHv/i/cP8rvuT+jj5Kvio90r3o/a49fD05/Pz8krycPEq8aPxPfJx8v7y4PNx9LH07vS09T72Bvfo9/L4DfrQ+nD7yvsP/G38B/1a/RX+9/7D/woABACXAB0BagEMAlMDnwSQBdUGfQjUCasKpQvDDG4N+g2dDn8PFBCPEG4QqQ/WDiQONw3eC4oKdQlsCEgHWAZRBf8DPQOXAukBNwF9AAgAtv+v/6D/Yv8I/53+Gf6p/Sj9T/1n/Q/9kvwt/Mr7JPt2+h76RPoD+4L78PuQ/Fj90f0v/uX+BAAuAUECqwM2BSoGlAbwBgMHvQbGBrsGKgapBX0F8ASVA8ACKQI+AdD/x/4B/oX8pPqh+XP5aPm4+Iz3d/aQ9dj0VPRD9Af0zPMb9Iv0kvTU9DT1C/Xu9Jf1svZb94X34feK+Of4Rfnq+UT6bfqb+sX6APtf+5b7yvs2/MP8ef0+/tr+XP8cANsAtAEcA9oEuAWcBvEH/AjjCf4K/wuvDAINMw3+DGkM6wuuCxsLEwpdCTgJ0QghCHwHpwZ0BUcE4AMgBFsEVgRxBBsEXgPAAg4CeQF4AJf/gf9P/5j+UP5k/r395vwn/Kz7QPvr+pf6VfoL+g/6gfr8+oL7DPxg/IX8Av3R/TL/vwA2AoQD2gR/BX8FtQTvA/YDBQTeA60DlQN0A9ICHAIUAU//Yf0a/Mj7z/us+6P7QPuD+qz55/h9+M73Wfdg93738fds+HL48/ef96/3O/iK+Lj4W/nn+Rb6O/qr+qb6afo7+jv6tvqL+1D89fyE/ef9cf6s/sf+AP/B/9kANgJnAyYEjQTYBBgFfQUbBoAG0QYnB50HBAjICHUJxgnwCc8JagnyCKUImghRCPkH3wcACCEICQjqBxYIRAj+B6oHOgeLBpMFlgR/A7UCIAKJAf4AUwCB/w//sf4t/r/9sv2R/U/9AP3u/L786vxu/dz96f0M/ib+Iv5X/u7+C//f/gv/Vf+O/5f/eP9B/0T/4/4k/qD9O/33/In8cfxF/Ln7+PpT+kj6yvpF+0D7+vrZ+gD7uftF/Gb8WfwE/P37VfwW/Vz9Yf05/U39hP3T/RX+Bf4g/ib+h/6z/qj+d/5t/mL+UP53/nz+Wf6H/sL+Vf8NANQADgHiAAcBoQGyAZoBfAKBA+sDHQT1BHQFlwXOBXcGrgYeB74HZwjvCAEJUgmNCbsJVgkBCbYIjwieCBkJfglvCfQImghTCNQHJwcSBnoFCAV3BLYDxwLTAX8AAP+4/aj82vsb+z/6ufk++aL4dPjW9x73d/Ym9uD1/vXb9bj19fVC9sj2i/Yk9yn3m/dh+OT4aPnw+Tv6qfoD+7X7SPz+/H/9F/5Z/gv/mf/o/1UAeADbADMBvQFQAmIClALsAuYCAgPWAgQDlAKXAscCsQI6AsQBmAFAATEBewEkAfoAiABEACkA5P8CAJ7/nP+i/+v/qf/O/ysA/P/t/+j/gwCmANcABwEdAb8B9gGJAhQDXgNyA1ED9gNhBAgFrwX6Bc4FrQWVBUEFowRqBA4EbAQbBCgEHQS9A8oDWwL4Aa8AEQDu/iP/yf7C/mL+tv+qAr0D+gM2AGL8WfdC863yHfQI9236yfyG/W77gvij9D3yHfGC8073ifud/tIAKgHg/7r8h/lh9o/zuvJC9noCyBpYHAwfpxVPCKL4bOrp7L3umPs2BKwQ0RCCDvwAtPFz52vj2+mq8qEBgwz5FbYXexB3BBH39O6m61bzTwDNDqYWlBjBFBgK5/7B9Rfy/PLu+fsEpw3kEZUP4ghk/hj1EPHR8Q/4UQD3CZkPEhDCC5UD/vpF9HTzl/dp/7oHQQ7tD2AMBwbR/UH3dPO69fv7yQI2CZYLCwvaBHH+Tvkv9lb2o/nr/9QE5AjkCPsGbQC6+uX2bPbE+Rr93QL6BWAHJwX0AXT8Qvgv9jr3H/uG/7ADmAREA+///fua+En2LffT+J38sf8KAqICkwC//Uj67/h3+K75bfxt/4wCpgKUAp4Ajf7W/D/8SP2f/lIBpwOpBYgFdQQHA70BrQBtAEwCFQTzBfAG/gfhB6wGqgREAycDBwOrA5AEwwUHBgkGggQ+AUv7Nfil9o3+yA0vH9IqOCqQHZUKZPfJ6MLiCubD8pkAig2iESoLJPsO6HHZWNVZ3OfqY/tpCsoS0RKdCd36Ketc4bbhu+of+xgKoRMaFBkOGQTX+Gnw2Oy/8GL5+wR5DSwQ/wscA//4nPH370LzK/oUAzMLVBBUEN0KSgJe+hv2dfaj+xcEHgx5ED4QHAzjBCr9c/cF9kT4Ev5qBE4JpgoyCPkCxfxh+ID2CfhK/AoCmwdPCpAKjAfJAuf9VPul+5b+ZwMfCOYKKQotB7ECKP7X+uz55fv4//oDhAYMBzEEKf94+q/3m/e0+H771v5zARUCvQGQAN38ZvmY9gH3Pvmo/AIApAAlAFH9JPuS+SP4U/eB91H4RPoz/ZT+s/zN+bP3FvUW9Q73GfnY+ej6Ev3i/Rf+df5u/dz7pPzU/mAA1QFCAyQE6QOzBMQEnwRSBCMFJAbAB3IKmgttDLsNKw5FDsIOHxAFEDsPXxCiEQcSSxLrEnISIBFHEJsOcwt5CCcHpAUHBFgDVwJnAAr+dvzM+j75YfjS90X36/b09uP2wvbM9RP1d/PN8bbwSvBi8FrwM/F38TXxtvDK7ijsDuq46QbrGu5P8d7x3O/O7n/ux+137ubuAvAu8zz24/nO+nX7L/td+WX6Zvxc/zcDmwXbCi8Q9xMIFPkR6RKLE84WiR2PIYYhFx9DHbsaExgHF08UFg+qCwML4wmKCEAG+AGJ/EP51vn5+fL5P/qJ+YH6Mvzc/cv+Bv92/4b/eQFgBfkGxAaaBmgGbQc4CaYKNQuVCjwOhhIIExITnBBUCwcGXQaWC94L5QnYBi0COP7E+wP7B/h69HH0gPZl+k39DPw4+SH2j/OD8uPyjfNQ8ljxWfJh8YbuPOoq5Sbgo91R3Nrdct8a4d7f7NtZ2b3VNNQ914HcFuIi457kfeaU6Mbv+PWY+/r/ogcbE4oeXC2YOs07MzXMMKs0KTbDNKA0XDJXKuEgIBusFXcJ3Pnk7kDsJ+5l8DTy5PMD8oDvyPHS97z80v85Bc4NiRXvHE0hdR/gGTcVZxIuD50M0ArlBCr9APjc82js8OJY3TPbN9ps3TfkZenL6j/tZvII+l0Eagt1EEIc8S1yOQo7xzn6Mkwn+iDzINAgYRrLEWUIvwCu+1vyueXk3ErZYtlZ4Pjs8fKF8L/uSPCF8OfvMfFC8z31F/m8/C38ffie8RjpK+Pv4ePjmeN94n3fWtpJ1jbSXdHjz3vOu9HK0yPX3try4vHtn/TN+ycDDQ0JHPQu/EPYSg9GEUCaPIM74jk3OuI1BCroHn8WVw7XAPrwgOLU2craB+JQ6knvXfGf8iH2N/0dBHYK8BBtGOQhiCumMUov4iYqH8wX9BCGCyAHx/+Q9dHus+qT5HTcY9ba0+LTrNkS5STvXvWT+jUBbQdeDD8RrhgXJPwvZz61W4Nj/z86Gg8MoAhcA0kL0xK0Bf34h+2I5lbiaNZUxAi+8tiP9mkDIA5mDk//he8y8Fr27PL68FHzTPkGAj0DDvc/4+/Vis2byhXU0NxJ2/PS9tAG0rrNVMqAxbHDQ8js1m3ttv38A54Ar//1CTAZ6Cz/QohQ+k02RZBDiENAPMwvHyThG2kXPhM1DfYD2fUn5LPXDdpy5LnqHe9p928CjwtNEucXFho3GqMdZiUAMDk3ujQnKpEfYhjkDYMAK/fs7wroD+TL5TDmVODN2W/Xltg83sfom/Tv/aYFYg5JFWgYThi3FbQSexRNIR40akzgTpYu0wsX+XvzTPCI9QP+S/jE9Dfxue8I7STeFc06x33cPfoQCbEUfhWkCrH8sfVy9RXwNOs27+73uANDBBP6T+c/17XPMsvXzunW6tlF1mvUUtYD1NvNEMefxaXJr9SB6I34tgNRBawE3AbiDdccqStsP/pQzVFUSW4//Dm9K2AbhBfBFCEPbgjGA5v8J+3/3/HVrtN/3EroRvV7AzYRSRoBHVQfSiBkIIwjiChmLlsz0zK9KZ8bVQ9lAwv1z+qp56XleOOB4/Tkh+Mt4Pjfb+E65ZPuA/uWBogPlBYoGrcYYBYXFm4XexcpGSMeFSeSLOEkLxZuBqT6n/Lu7xv2EPtr/Az5c/R581DvjOjK4o/k+u4P+hgFSw1IDS4F2PmU9NzzyfJ28mL12vZ494H12+2l5Yjcf9Xy0QTVTt5233zZL9Q7zmXJPcYdzMLRQNMt3l/szvcx/r39SP0C/2QJ1hqZLQpH3lj/U9hCnjWwLrkiLBeZFmkWJBM6DsMFevwv75XfEtPZ0nbjZfWXA/IS9h4fJJsiIyE+ItYimibPKysxSzgAN88puhajBm36OO1z5R3lWeUQ5RnlyebX5t7iJuB94Z7p1fbDA6sPZBhJHK8bKBivFEgP4ArIDVoQLxPIFzEfYyE9Fu0IUPwC8xnyUfUf/YkC/QQjAJz2O/NI7lzmWuRz7Ev4DQACClcPQwnJ/srzGu5u7pzzCPds9vH3kfaH7TDkv91H2O3Qks8y1wDfluKT3brSwsrgxh/HOc5A1j/eT+b48Mf6sf4j/2b+Z/9BCi4c3DXnUBZdxFEjOQoqSCNCGXQUWBXgFZ8RzAoqBh37sOp02iLRO9rZ7nMEcRZvIkIppCejJI0keSRGJlUoOytXMe80TC8bHfQG8PRP5vTdBd3w3nHg7uA84n7jZuOQ45DjO+aC77D9/AxxGBgeVB8YHAQWbw44CVIGBwPB//39zvy9/a4Jthz/PLRBvBiT8L7epOPN8YEHBxz/FbQLhvbb5pnoReCI0xXPxOckCVAYYSZwIboHSOv52fTdKumo8ufxqezt8/TzbuQ/z2e/JLtFu1jEjNdM4+beMNc11QPUp9AEza7TWuQ497EFXw6WGE8ceBksHwY04kuWTFM+hDULMh0uWiaoICoaNQvL/H70w/NT9arv2+Zz5ZbvVP7jCQkVZh0KIHoigCfeLaAyITKrKrYh1h87IMYX6gmy/SfyPufE4L/fdt7b2i3ZZdow30Tn7e7A9Ez5IACECK8PRxWlF9wXkRVdEAgMhwk7CJQGTQNzAb8BuwQQCZIRARgkEa0Flf/i/+AD1gerCmQJmAZcACj4v/XX857wtu4d9CD8U/+TAS0Cn/yF9QvuZu1M8Hf0APZb703pNeVN5EniYdsI2WzWONZm3r7h6t7Q0BDJoMlVzwzZNd2v3qjjMeoa87v2tf6dBPoINxV9JuQ+H1UjWiJMrDY7K7sktB47IBYjzh7HEVUFg/wv8afkoNpa2CHkc/fUCdkX3yBtIzcfAhxxHxQmiCuDLB0rGCuXKNod6QuB+mHsc+Bx28Xe4OKs4qvfk9xx22HdbOLp59XuIfryBu4QIxfxGewYTRLuCzkKVgtWDewOwA6fC+oH8QXOCO0SchSrCOv/9v96AlcFPwoKDNIHHQRX/tn49Pgl+kL4/PfC/k4EKgOgA10E6f239oTxnPNl9bD2APMJ6ZTjQOKZ3o7cbtuK3BzXa9WS2TTXFdIbzDHMC9DI1qnfZOD+3hrkE+iq7dfzY/14AvkJfhgeKEw5ck3JUbhBPS1+J/IkviJDJ78rlSWbGCgLff008EHoCuFA4CTttP/eC0UTLBnSGKkSaRG6FqEf3ikSMMguJSoXJLYXBwYi+czw4OeG4i3l7edl5F3dYNcx0wjUzNpH5eTwC/1zBzUNHxAtE+wTehG8Dz4SexdZG74byhc0EUQKXQTsCREb4hy8DpcDIwAY//v+6AItBPwDoAPO/Gj7V/+f/hD5w/dE//MAE/+4AvYD4/4F9DfsHewk7eLusOmc4tDhFt+o2dLZf9ot1kPP6dEg1wfWz9GKzbXMVdCI0xrVudgl4bDpfuxn8yb7+v2QADIKpxmGKOA1fkeUTFhEFDW7KZUmnia7KSAsZCe6Hl4P7wD19BXrDuc16Uvz1/+cCOcOkw9DDv0NXA+KFDMdMCgVL5AsiSe5H3wTkwUW+7b1FvG07J7r1ug/40rcGdY808XUmdzQ6MzzAf66BbMJOgvWDMoP1hHWE1UZySALJgMkfRxzE88JZwOTDU0h+iHIEkQGb/4t+eP3jPx9ABwFDgZ//yD+7v5l+4L2bvgoAfkCWQI8BqEGz/7U8FXozOZZ6oXtZupL5TThBtpp1SHTsdSO0jTQbdKw1sbWvdOv0hTVctJB0lLU3tqX5OvsOfPL9BX3dPy8/zwJghhwKH01iEFOSiBCKzTaLhIuki7fLwkzqy/6IxoXcQfy9jbtlOp77nf2Bv+tAlMCWgPsAh8BsASNDXMYLiO6Kt8q0iP+G8cTHwvwBmkFKgHp+zf40vL05+3dP9lT1+LXa95J58LtrPGg9QH5PPvK/5EGvQ3dFsgf0iV1Jt4hWBxQGCgYfxyiKrox0SGYDQUBuvpn+Cf6+f7OANsAzflq8bPvCu2X69nwcPqvAEb/7v7W/gX7OPLR6kDqTu1N8ZTxbeuR5DLcj9Z61NPV2Nbc06nT/NLm0IPPSc5fz/3RctLM0wbXJOBP5h7r3+/q8pD33P7zBeoRHh5pKqY2l0HmQ3Q5QzG5M+Y0zjSZNjg47jGTI7sVigjt+pv0zfQD+2v/+P1f+1v5SPiw+Gb57/+HCfcT7Rx2INEf/Rq4FKQRQhCvEdkRJg5yCAkBP/cD7MjktePa4kThYOMA573nR+cL6VbsX+8V9Af9ZwhWEtcZVhwYHNIbvxxxIA4p/zqaPcYpzRj0ELUMTQhoB4EK7AcAAN/yQ+pR5h/gB+Iz7FT0FfQ/8ELxHPIj8IPtauym8J71x/fr9h3z0Ouq47DftN8I3gXdXtwZ20HXU9JYzOLJs82G0GjP9815zmfTI9xb5ZTqdu0O8hr6DQNjC9ITvh0VKqo4bEKvQGc5ITevOY88DD0mPY06DjPYKYMeDxGLBBX+T/++AtEBHvwF9gPyaO+b727zrfhB/+MHqg4DEAEOBA1hDeQNcBBTFGgVUBPmD/oKFQJH+eD1RvUo9BLzXvKU713qFucJ5zjo1+lE7h710Pw7AxsGNAcvCesNkRTDHtAviDUhK1ohYh4wHuwbJxngGd8YExHfBE78v/OY6qnpSvBX8kbrH+QE5MjimuC+4evkReiL6n3uRvAy67TnOef+6FrpLei26a3pnudA5M/giNwN2GvXYNrA2zLa19ef2TTcNN6P4m7n1Osh8RP3o/0sAwgKEhJ1GN4flCnvLQktDS3HMeY0gDOgMjwznzHQLR0pGiWfHxMZnROREpMSAw4SCNsFKAQcAK/8Of1D/pz9mv0R/6D/o/7o/NX7Mvws/QT9L/y4/Ej9t/s0+uz5PvkG9zz2cPjU+YL4RvjJ+a36xfo0/C3+9f59AEYDGAV1BngH/gfMCK0KGQ6GDzQPzQ60DawLCAqsCXMJmAn5CaUIqQYYBX4CFQBB/8T+e/3l+3P7ovok+WH4fPfF9RbzX/GA8ebw2O/U76rvN+6R7APsweu16mPp5uh96b/pXOnv6W3rt+yT7ErtW+9y8PLxofR490z5rfpt/B3+Jf9g/08AJALfAk8DzQT1BbYFYAWvBdAF3QVsBqgH1QhvCRYK3gthDU0NHQ32DWoOOg5aDwoRiRFiERURXRA0D9wNVwxLC68KlglACCQHiAVLA6EBwwBPAKv/AP+F/nz+Jf9w/9L/wwAqAYoAPwCrADMBmgGbAjcDyQIMAnUBgQBe/+f+fv7e/f39of76/Uj8efts+x/7cPsz/Y3+Hv8IANkAJgH8AGgBgQKKA7kExwVwBlIGJgbqBewE7QO6Ah0B1/8R/1v+Ev27+2v6j/hf9sn0XvPj8QPxL/F78dXxTvJe8mvyGPOo9Gr2iPit+j389fwL/Tf93v16/qH+Sf5k/uX+wP53/on+Pv53/a394/68//b/SgBlAa8CvAIAA1AENAWTBTwGmwf6CIkJfgmiCIwHXQYlBaYEXQR0A+MB2wByAFX/dP2B/EH8hvs1+w/82fwh/eT9C/8GADkBxwLhBIsGgQdcCNEIMwnWCdIKPgsbC9UKUQpPCkYKmwl/CF4HLwbWBLIDrQO4A14D7ALCAnECWAEuAHL/5/5x/iT+JP5H/gr+nv3S/LD76/r7+Rf5kfir+N74sPiV+GH4r/cg9//2ofbF9RH10fQ59U327vac9u726vfG+AL6NPw8/qb/sQDlAfwCogMgBK4EYAUFBpYG9gYgBywG3ATKA6YCvwG3AUoCUALjAY0B+gBiAL//RP+V/0EAwwCnAX4C/ALqAg8D9QITAo8B6QHnAWUB+gB2AHL/Ev4S/U78c/v6+hv7vfs4/Iz8jvxv/KT8I/2e/Z3+AABaAccCQwQTBTkFaQX8BU8GeQYMB8cHIwhTCFgIzQfPBv4FegWSBOQDFwRSBF0E9ANLAxMCngCR/6j+vf0u/Sz9Pv03/R/9Hvyr+qP5X/md+QD6uvqh+xH8Q/wV/Kf7d/u3+1f8pPyZ/Dr8N/uD+kT65/nP+eH52PnU+Xj6o/u6/A7+XP/M//j/DQA/ADwBkgKPA2QEmwRsBMYDQAPjAokCugLxAvUCOgKhAcwAIADF/17/iv+V/33/eP9r/x7/Df+S/m3+Jv4D/lf+o/75/if/GP+o/i3++P0I/iL+EP4Q/m3+rv5q/jr+UP6F/ur+P/8//4H/MgCXAA4BagGcAZwB4wEPAyAEkgTnBCMFUQUjBewEtwQ4BBkEWwTCBLsEWwT6A9cDHAM9AhkCIgJ7AVUAzP8//37+3P2w/XT9+fx2/EP8nfzQ/Pz8Nf29/df98v2J/hP/Uf+//2kAgQBPAA8Ag/9a/23/P/+o/k7+ZP6z/mf/iAAqAYYBmgGeAX4BKgEqAYQBtAHYAeUBxAH+AF4AWgBvAIoAaQBMAEYAAABR/7X+DP64/bv9tv3O/d79rf1L/Rr9M/1T/Xf9kf2a/QH+rv4R/xr/hv/8/3j/5f7s/iz/ov9rALEA7QDQAIEAfwC2AO8A0gCVAAUB9gHfAgIDDQNsA3cDWgNPA84D4AOyA78D3APTA2MD8wLLAj0CggE8AfEA8wB/ANL/Xv8E/4v+A/7r/Z79Pv31/OT82/y6/EH8+fvu+wH8BvxF/H/8Qfxt/LX8w/yS/LX8Hf1T/WH9sP1F/pD+of6N/r7+Of+m/5UA0QHAAlgDwQP0Aw4EOASFBJ8EfARJBCgEAwRuA9gCXQLTAR0BkwCFADsAvP+//w0Ayv/7/pL+vP5m/vj99P0S/v/9p/3g/Uf+UP7k/X39U/0j/WH9q/3y/WL+tf5+/uT9nP2Y/Xn9ff39/cv+cP/K/xUAyv+Z/xUApgAQAeMBxwI7A0gDZwO2A+IDMQQEBdkFWgZCBiYGzAXqBD4EvwOpA30DMgOSAlAC/wESAXIASADV/2L/D/+q/g7+e/0S/ar8l/z5/GX9d/3s/AH8dftH+zX7PPuL++D7u/u1+xP8SvxI/Gn8If27/cP9zP2V/QH+fP7l/pn/KQD6AGUB4wF4AuMCswI6AoMCpAJmAh4COAIpAggCpwFzAWoBXQFNAS4BzABPAAAAoP+D/5X/l/94/3T/cP8Y/3X+Qf5x/nX+i/6z/rz+nf6z/ur+9f5P/+j/SABTACcAFQD6/47/YP+Z/6//ff9e/33/af9l/4z/4P9KAJUAzgAqAUABKAE5AcQBnQKVA4cEDwUuBcsEdQR+BKwEjQRfBEkE1wNCA50C0wEAAXoAeACOAIwAGACZ/0H/Ef/Y/gb/f/94/6D/ov9//+f+ev5t/mL+Sf5Q/nX+jf4Q/kj9w/yH/GT8TvxO/IH8f/wp/E78kPzS/Hv9yf49APoAKAFjAcgB6QHGAecBOgKXAqYCogK1AocCGQKhAVYBNwHfANsA5gDJAIwAZwAjAFf/lv5+/qz+lP5f/l/+t/6m/nf+b/5k/oD+hf7U/kT/vP8yAHQApgBKAPb/NAB9AFUAegDSAMUA/P9y//3+V/7//Rv+2P5K/zv/N/9P/5H/5P9GAPoA5QFKAn4CUQPVA3ADLAM3AzIDrwIMAgwCzwFfAeoAVwDX/yf/UP69/WP9Fv0d/Vr9j/1R/Tf9gv20/ef9R/6L/oD+of45/8X/BgA9AGQAcgAPAJ7/Gv+d/lv+R/5k/qP+z/6W/nz+sf4P/1r/XgB3Ad4B4AHjAeMBrAFjAQABvACKAM4A5ACTAA0AuP+I/zD/Hv80/zn/Gv8a/xz/6v6m/pT+uf7c/jf/SP9M/3v/lf9p/3b/bf9p/6D/EQBTALEAKAFSAXABdwFWASoBPAFCASoB+ADxAAMBugAgAKn/f/+K/6b/MP8N/67+Qf48/pD+O/+V/9X/JQDFADkBbAF+AZoBhAE+ATcBcwGlAacBhgExAeQAqwBEACAABACZ/1X/T/9X/2D/f/+4/wAAtAAuASQBLgE5AU0BTQE3ATkBMQHoAO0A6gCXAEoA7f8j/7z+vv7P/tb+vP7L/hH/U/97/9L/dgA1AcIB9gH4ARUCQwJxAqoCugKXAqQCRQKhAWwBYwFEAZwBBgIDAsYBWgHQADAAyv+t/5H/cP+O/63/5v8uAEgAEwDx/87/jP+I/7T/v//M//b/+P/t/9D/pP+4/7H/Yv8y/zD/5f7A/s/+nf4o/ib+Hf4b/jj+PP4x/mj+c/5b/nX+h/7h/lf/LgCvAPgAGwEAATcBKAHdAMcABwFjAZMB2gHuAfsBxgFPASwBvwAcACMAaQCrAMcAkwB6AKQA3QAQATcB8wBVACkAEQAjAC4AEQDF/2v/Gv/s/hz/Qf/S/nf+qv63/sv+2P4j/zf/BP8h/5H/7//v/23/Sv+O/7z/tP/V/9f/k/9y/9D/+v+g/5n/8/8eAGkA4gAdAQMBqwBnAHYAegBcACAALgBnABoAFQBaACkAzP+X/6v/qf9n/1P/qf/S/6n/Wv9G/+z+rv7w/if/Kf9E/z//T/8h/8f+W/42/mL+av51/uD9S/1e/Xn9xv3y/fj9Jv4O/u/9//0z/nP+m/4L/1z/iv97/3j/nv/t/0gApADZAN0AJAFSAYYB0QEDAg4CNgJKAiACIgI2AmICNgIeAiAC9AHYAWMB2wBiABUAqf9K/xr/Av/l/uX+Hv97/3j/a/9y/3j/ff+V/9v/HgAuAD8AbQB6AGcANAATALb/If/f/oX+PP4I/uf95/3Z/f/9Zv7E/gD/Qf9i/23/e/+X/wgAwwA3AX4BvQHnAeUB8AFMAmsCIAKWAQUBAAG4AJUAdAAlAAoAv/+T/4H/k/+M/4r/TP8y/1P/iP+6/9L/tP/x/wQA2f/D/5z/pP+8/3v/a/9V//3+yf5x/lD+gv5+/o3+d/4K/uT96/0x/m/+o/4G/1X/hv/B//z/hQAsAc8BWwLAAgID3wK+AokCgQKDAq8CIwN9A4QDgQNLA8IC/wFjAfMAawA7AP7/5P+r/8H/EQA2ACMARgB6AGkAKQAeACAA1//g/wQAMAA/ADYAIwDb/4r/Hv+1/nr+Lf4O/hv+av5z/on+zf4L/2X/Sv8l/0z/dP+4/w0ATACIAB0BgAHaAWACbQJBAhcC8gHNAZYBXwFSATEBTQF5AV8BEAG/ADAA4v/Q/7H/BgAaAB4AGABIABgAxf+c/4r/ov9X/4r/iv87/yz/2v6u/mr+Cv4X/lD+OP74/cP9d/1G/Zj9vf34/S/+Sf6F/vn+Lv83/1z/kf/M/zAAZwCkAPEANQF3AbkB4wHVAbcBmgGEAXABbAGEAXABHQHdANkAqQB2AC4A5v/V/9L/1f/Z/9v/x/+R/3//cP9E/0z/iP+i/6v/tv+k/2X/Fv/h/r7+hf63/g//If/s/rn+qP5+/ln+i/7h/qj+R/4F/kf+qv4N/7T/BAARANf/8/9cAMcAEAFoAaMB3AG5AY8BeQFjAVQBWgGCAXMBIQHBAHYATwAIAMX/q/+G/3//nv/O/9D/f/8s/y7/Qf9//2X/hv99/zL/Jf/w/sv+AP+G/4j/mf83/3D/MP8I/wT/+/6e/7z/ov+T/6T/pP/M/yMApgCZAEEAFQA0AGAAoAADAWwBgAFsAWgBoQHuAdoB9AEcAgEClgEkAR8BDgGrADYAAgDX/7j/k/97/zL/rP4r/vT94P2j/aP9zv3R/b/9JP5o/mb+K/44/mb+Nv44/m3+z/4c/zn/ov/X/+L/7//m/8P/tP+c/8H/NABkAFoAPwBeAG8AlQAQAWoBtAHCAYYBoQGJAWEBewHEAakBmAGyAZwBNQHxAFQBjQGNATcB8QCkAD8A+P/o/93/wf/o/wIABgD2/6L/D/+J/kX+Jv5J/p3+qP5M/jj+i/63/jD/vP9EAJkAoACkAMcA4gAUAWwB9gFTAjoCPQIrAggC8AHTAcgBygF+AUQBjwHEAdMBDgIRAucB5wEiAh4C4wGhAYYBMQHiAOoA+AASAQsB3QCFAAoAjP9K/xP/4f53/kX+c/6j/s3+t/6W/lf+CP7t/R3+b/7N/t/+9f7j/sT+wv4u/3b/cP9//4P/zv8GAC4AbwDMAKQAogDOABYBIQELAfgA8wAhAV8BhAF5AUIBAwH1ANQA8QASAdcAoABPAAAA4v/Z/8P/jv+O/7j/v/+m/3D/V/9n/4b/Z/9X/zf/xP56/nz+gP5d/mL+Uv4I/v39Ov6d/p/+nf6q/sf+Gv97/9X/LgBXAEQAXgB6AKAAqQCvANQA6gAQARABDgEbAeQA1wDoAM4AzACeAHoAbQBeAFMARgBRAGkAZwCtAK8ASgC4/3L/iP99/7j/7/+6/2D/Mv9B/zn/Zf9c/w//GP/f/nr+b/5z/kP+Hf4b/gX+EP4v/jj+JP4x/l/+rP7h/gv/T/9t/47/yv8GAGkAlwDZAC4BiwEBAisC3gFzAR8B/ADvAO0AwwBrAHQAcgA9ADIAHgDr/8r/jv9V/0//Wv9i/4H/v//S/9L/2//i/+j/8//m/63/Qf/A/sD+vP7L/uP++/4P/8D+s/7c/vL+E/9R/2X/Vf94/+L/gQDvAJMBygEyAssCNQPpA9cFtQd7CgQNnxNwFeEOOgtBBEUCXgCxAJb+0gCI+EX39Pb66+j1U/ex8Hz3aPZh8WD6oftQ/tn83gML+jT/vQEL+yT5CgTm/zkBpQHYBMH95v+2AxUC0P/DBRIB8fdTCFr4twQu/XoAiP07AD8CFPvaBsX6x//aCV/xzQer/5v8v/qHDKfzBQSwBGL1wgHQAuP04v/fANL8W/zD+uT9/f6O+rwHPwAC+m0FPvYsAQYHov9CAeAB5/7VAy38ywlI/z38HAq2/dUFB/0SBGcA1fbRDjD98QAXAiUIZvT1BVEIIP56/tsHewGI/aIP4P+/Bkb9DQOsAYH8+Be55/r/gfxTA2/3jAJaAazxCw8K75AEOPmmAG8C2AR4ALD79wlE84wAtgjl/tn9zAVy8IUYqd2bGPwK9eNVEUYSC+SFDBgICu+2BasKQvbi/coGowGD68gIYQiQ8hQNYfaaCDnsegXSAIgI5POFApMFlvEZCwH0QhC+8toQaQgP6fUOsfrwDurc8DFD4HEHLwdH+7P8BwOhBLn0gwyQ9RwUc+ixByYG9fyYASsCzAWq7xkQVf/y8bkY+vD4ASwGZfM4An0N4u5ICEQPy+jECRALiuE6C/oKXP05BQrlfxLu9lX6PxTG9hn0XgyOBWACC/ENA2wQ/OguHpvtSAA+Bvf+q/+bBcz/rga97jUIGwma+6T/xAt8+SP/awC/CjbwHgJtE5vvIAmK9QcOYPWn+xf+dAiW9oMAyvgQARII/fHNB2zuIhYD8VL7cRPa52AKPfzyBqX4FfBRF5Lv3/xVDK/rQA0BBEfsdg/2/XDz0AyQ/Ff+5wHI/eD93/xqEy7spRCJ6q0UaO/3GH3wkQGTCvzr9hkA8NMLewH09sX6bxPJ7WMIZvwr9J0MpPdOAv0JIPIZAij9BP/m+msKJPL2BnT86QPf/D3zfxe97nIIHAxY7P4K+P10A8f6ixBY+23yOhEx/iP67PdIFsHzXP8JDZb7HfGEEhXvSwRoDljz7BE555sRAv1VArgKB/tIAqv9VwDy+zkIZ/AWErHyKPHxB9D/vf3390cOv/+k7esLmAQL5IYa6vU9AI4FFgYNAHrmpBus7yQHo/SfEDbvWQ5R/VP1XvWWBqgRf/NcHA/wl/x48iUN7gGYCwv2iA+r9T/6Bgqb9UwFiwa0Bb7vVBD65skJpAcYBYYNNelkByP68gTB/TwBrw8c44cOzftW9h8QFwTR+I4KRP/y74QBvwPcAw39iwaaBlzr2Q0c9Wn8eP83FEP5vgfB7lkR2/D5DGoEsPbtFzLzi/54/LwHpPeCBrf+RAq2+vPwhQqlAdb+MwlI98MFqvKvChT9uwOxAi/53g2m8mUXK+sUAzv/v//IBo78/f60/6fxAQnX+Fnv2hhM8K0CsvgC/67+rfW0FHD45w4I7QEEkf2Q9VIQDf0tDCT7TPxn823+0AeTAVz/7f0ZB03xIgLLB7ABhPapDxf30ABd/qT3ygrC9CQaJOzR+f4HyvrD/6QRjPAh/RABCAzS8EEK/gXA+bT2CQj1/sL7Cv6UBNb+0gcw/9/yJQjQ//EPmu5gDA7+JO88C+j/KA5T8OEJmPvTBr32lQNSBo34AQT+/zDzAwFJAS/8eger/ZQGB/sD9MkMYAI99yAOiP95+GoEVP7R8zQF1gyX+nX7y/m5C5HxxPtBCvj1PQUf/fYGue9MCYn8TftMEYr4Q/SYBGQEvPmcAQoHwfgaBXT6EARQ/rsD5vdvCeYCy/Sh/q36aAuT+B4C8AT/9vz30gqzBOr1lwjn+TgCKwJCAawBMP+XAFsCCvmHEXzywgaOAib53QAk+XIPCvyuAfX8xv0J/d8EUwKWAd38hv+N+F0LXfti/B4AGgUh9kwFR/uDAmr7swfyBnHy/waF+aL/GgUDBxL2dwsv9ykCjfixDN38aARGAM0Hsvji/dP9sQkLATT6EQog+Vn8vgSeAz/6AAsN/b/6VgG8Ain/9QIaA0H/iPp1BIMAGAXs99IFMwbO+Nj+uftYAbH59guJ/FgDRPii/1EDc/4GBWz5TPwf+5MNNfYnAh39rP5SAdT+3AjW+b8B7vzNAuMBGQbB/9MB1f91Aa8CD/MVCRz8ygZ8+YMCVvsCA5T58v7VAwABZAL2+E0GQf5E+BL9HgqyAz0ANf3j910CkAX1+vQLt/me/QP+kwCt/EcENgD1AsIB9/xwA7n0pALE+3cGXfscADD66wEkBDn9wv5FAgAGcPu1/uYCE/wYAAsDlAlG/xv+SwEC/1P/dQamB0r3//2JAo/2wgHHAjz2sAQuAKUBB/k2/L39awBaBTQF0v8X9JEDRQKOAugCtgDg/xn7LwTz+u0FQPZHCYX+xgHjAdj33AHz/DgH4fyz+VsCIvyT/4gIOPwjA4z66f3n/RIBnAa6/CT8qgQwA+P0BwboAG8CLPsSA/L7gAEGAo8BQvunA/kEdfldAhn+aAK/AMr6ewoJ+BgACgCX/FsCCQNU+UD7VgNcAPAGsvOhAaP+P/o8AVoBpwEf+K7+jgDMAKYASP9S/lX/PwW5AcAC+fmpAaoEd/0N/2gCnfzCAnAFgf+q/E8ALP/s/BAGhQXU+fD+bQWm/2QAC/9LBtf4ywmmBID73f8y/14ABgKvBTn///0h/V7/PAY4AkX+FwKL9v8ITP7F//r/ogCA/rb9hwJs+BEHcfcyBesBZwBB97T/ZABI/RwDmP4B/Aj6hAhh+48DngC5AccCo/5iBWH96AKxAsD+zQHv/WgCcgPA/uMGKPs8Acr/C/+sBqz5jQGD+h8BtQRe/I3+3/6K/S8ClgEtAsT+L/kBAo375QHwAdX7afyIBUAB9v/7/tD/2/+4ABMAHvyFAHr+MgOs/lgBTgJz/lv8Ev76CKsA6vxU/sUFhfyC/YgIPv4WA78D3v0w/4j96QOr/5QGeQGOAKv/VwA9A1YEPQAv/OL///2pADD9gwUp/E7+5wjl+R4AuP3m/PL78ASe/y/+Mvz8AP4AxfxfBJv+f/+nAUQDMAPr/VD+jgASAWoE9P1vArj9l/8C/ycAXP+pA876bP0DApj7BAATAEQDlP7H/in8fwAe/7MCGP8+/Yn+OgJG/9n9tAA5//4CLPt5Aw7+M/tz/lH/+wQF/q345/tg/1EAbQC1+0n+Uf3bAI76hAEb/lX6rf0sAdr+uf7f/sD+9QBz/vv+4v/c/e8DpABc/Yr/jf5c/6b+fgHg/YECBv9W/dD/e/8Q/uz+wQASA9f/HwHZ/wYC6gJRAzcD6wFnA1IEMwGoAnkDUgEyAmsClAS7BPcCzgBdBPgDTQZd/oQDvQOTA/8Dd/66AvYB3wK8AksE5gLU/icA4v+xAtwDCQEB/ncEUP54/3v9+fkqAfj/zv+B/2T+yvh++9T87/3S/kL44Po2+QH+mfoU+LP3Y/Y2+aL6dPr395L0xPYg9xP3QfpN9jP4BPW2+tX9m/oz+cP4Evm3+5H/yP3O/Bb9uf6gAHYCZARdAUoC/gCtBb4HvwXwBpsFXgeUCXII0wbqCWoJbgiCCZ8J7AlzBmsH7gmbDPgIQghRCOsIPQqZDI0N8AnnCx8N5w7jDnsP7hCpDWkN5A9wD2cPmA0iDPEKXwmeBrgFRAXqAtb+JP7r+pT5Mfux98PzPPRT8pHu0+577Pnte+zM6+fqseuR7GrqXOv16OHt7+tC7EHrnuyd7V7rOu9p69nu2O3x7n7xvfOp8Ovud+9u87T2CPdZ9274Svex+p/+ugLIA44FbwQkCRoNHA+IEs8TXhQqFYwZ1xx8Hb0ckh0jHKMdDxx4GxAa7RcZGBAYmBWrEk8PvwsxC0cJkAdEBdsCev7i/cX8D/oc+kr6SPi09Rz3DfW78zb0dPU/94/22/UV9yj4P/fo+gH83PvG/bz/xf84AvUEMQbxBRIJiQzzDAINQQxSDtgQJBF2D5gNuQtdC2ELcgqGCIoFyQA4/rb/7P5y+p33R/bP9E/zgvF3757uIO9a7Bbso+q36nzqm+rk62bq3+jx5pDqxOwd7HnphOdT6QrrK+t36tTqiulQ6uDsu+7S8Bfv8O/c8Vz1G/tP/Sf8RwFaBcQG3wxWEB0S7BNtGCsdZyGgIVAfjR/LInQlSyTgI3giuh5rG5EaQRsFGJkUoRBeDE4JPQh+BPMAYv/0+6L4yPar9f/zkfOB8l3x8/A58Jvv9++w8ZXz5vI986XzRvUK+Wr5e/vT/RP/jQEaA3oFZQYLCKMLrwz8DMEPHBEhFRoc2BjXDbEKTxQLHqQbyhIkCXoFAAhYC2sM4wdf/s/2m/VK+m38afUz70Xtt+zx6xXqxumI6Z7ph+ga5tPkduPv5Afn1ugf6dXkut404aboK+rI55/jZOMo4ozmP+tJ7D7qa+a56i7wuvWi+Ln52f20A/8I4wwoDScPZxfYH0UkLyTaIk0kByaFKiYuHC0kKb0jmSKFJdEkEyB1GnoWyRPpEJgNSQlpBa0DPf/f/GL6xvb19CXzF/SR8xLxLe207Bjw6fGJ8u7yr/I188jzMfZi+RP6xfru/B/9kABBAlkEdgfpCM8JKAsvDtAPxhDSEekSLBSqE8QT2xQCFL8SHRBcDzsNpgoyB4kGFQTXAEb9j/s4+dz27vQf81TxNe7P7BLsduub6lbq0uhb6LTnOea957DnNenG577lNeXZ5K3m5+f86Hfngeb35dvm2+ae5m3mfOoY7mzsButQ7YXyxPli/z0CEgbfB20HQg2CGFAi4CODICAibiZkKgst2S8qMB8ubCmdJS4orimxJbAffxylFyIT+A2FCiAKdAgDAd36p/hp9avzuvLu8TDwfO0m6vzoSuuK7pDtxuxA7knvXe/T8Zb0K/cN+P34bfpU+1z9NAAxBN4GkgcPCJsHygiKDc0QdxJTEbYSrxSzGLwZsRH5C/0OYRd8GF4RbAkdBCgEjgW4CIsGiP2e8yTyXfam+XD2u+5E64vqTOuL6nrqR+q/52LmIuUR5rflg+N+4+bmWOcl5D7g+96P4kDlK+b24prfM91m4Lfow+ug6bjk1uXk7tz4dv/AAg8D8AHsBAIPcx1bJKMhfh8xIsUoXSx0L3AyRDKNLtgp9yquK6wpUiQhIegdVxlTEo8NCQ0mC3cICgJO/CP4mfWS9AT1yvML8XPsY+mr6/juTu/X7pzuNe507rXvuvJG9Vb2TPcs+MD5G/tn/ScA5gIzBrQGygbAB5sKJQ++EUETXhIgERERlhMwF78XUhV4EUcOUw3QDOULcgr+BRMCa//B/YH8Rfv1+Qj3cPOW8Rjw9O5n7qfui+zJ6kfqAOki6LzoCekA6ZToaeZH5YTkb+VZ5VzkhOQV5VHkz+IY4rTfruDk5sXrXutb6Efn5ezg9Rb/dwTkBQEC3QK8DiMe5SYGJaAhqiJUJwUsYTMKNlEynSx6Kjct1i47K/4lnSIhH6oaQhWvD7QLEwp+B/MCvP4O+fL0QvO28yP1BvKL7BXoyOmi7X3uY+5h75XuGe3l75Pz2fWf9oX3jfmr+uX78fwI/7QBGgWaCPIIqAdrB/oK+REzFUoUoxAWD6gROhWuF6UXGxWJDtsKUAzDDGgLBAgzBPEAo/7H/OD6rvmZ9z31bfLa77HtpO2F7drsxOzt6X7nleZ+53zoBujl5aLkHeVd5dLjgOLm4fjiN+TC40zj895B3ODdSuMY6dHq/Oa343Xn9vHD/QMHngZTADn/vwu8Hdon+Se3JPciOyULLXo2bDrXNS8uKSwDLocv8yyZJ9oiWx9MG70VzQ7yCfkGNgWkAjP+r/c58Njsve7Y8ivynuvE5Rzm4eiQ63Luie9k7b/rie0v8qT1KvYr98T52Pth/QD/UQDVATsFqgkWC/4KnQm2CiAOhxHfE/0TQBJDEfcTcBmWGqMTUwzgCmQR4xUuEngK1AK4ALQAdANOBFH99PM/8PHyWPYc9e/uOet/6fXoS+lB6Hnnv+Rl5DjlAeUb5bPgZt523zXgWeCK37XeZt5E3fTb5NpU3bPhT+Re5r3k2+N+6E/xcPsMBNMI5AVTAx4Mtx1rKlMtEiuwKRQrpC8+OLM9NzyTNSwwozDPMSwwOSt/JcMgwRyBFvUP4wmrBbQDHAAn/PT2iPDY6g7qm+2N78TqDuWJ47Lk3eaL6mXuIe7+66fsje+l80n24fdd+V/7f/1E/8cAGQJdBEEHNwvIC8QLAAsqC94N8BO2GRIXMxOIDw4QrRSJGMcZAxW4DzELCwu7C34MUwo5Bcz/zP2C/Yn7oPqA+a33d/Sk8G3tnOyj7HPs3+uJ6uLmQePa4kbkW+UN5hzki+IY38Tdsd5n367gWeFG3/3dZtty2jbc+uGM6DrqxOcc5m/q3POY/XwHpgwOC/IJKxFLH+Eq+S6FL1wvxS8jMvk2KTsAOqE1MzMJMr4vySqcJM4gyR2wGh8V4wwcBdn/pf03/ZP6HvXY7R7oiOZW6d3rjOkD58DlZOV+59fpj+yq7YbuU/AJ8331SfaQ9+b6qP4mAcsCEgOaA7kGLgpADXcOfA5xDjoQpRXNGBkY/BTVEmIU8RYrGL8X+xP4DWELnAvcC5YJMQbAAoP/4P0G/Ff61vep9X3zHPIV8DDuWux+6i3qw+l86Evl1uNQ4+XijOOs4+LhvN6T3FTbAN2b3uzeFd6U28LZL9kn3NHgt+OG5CfkPeY37OHyE/oLA60K0QtHC/0QbR1lKJ4t+i/kMic0XTO2NVU7rD1EOp410zKaMIAs6SaZIkogIRyvFHQNZAd2Alz94/kq+G31lfDe6WDmMeeU6NPnP+Zc5hnnr+ac52Lrae6171XwdPOX94b4vfjv+mb+JgFRA1EFBwYvB9YJ/wtBDvsOTA9gD94QZBbdGPcW3hITEX4TnxanF5YVGhJeDUYKVwrKCtIHyAPx/879+v0o+7P37PST82/y++9W7i7s0Ohz53DngucS5wflDeLp4P3gcuJV4cbgS9/C3Qzent3x3CDeet6F3vjdT90g3rDgveQH53zoEupz7InyuPruAicMexDfEXETFxsXJZ8szDBXNJE1cTYlN+M4xTuNOok2/TPZMisvWScfIfgcExm4FDAPfAnjAhf8qvcS9o30gPFU7LXoTObY5VXmOeag5qHnquhP6d/q8uzK7lHwhPOH99r5DvsK/L/9CgAlAxsGpgdaCC0JpgpiDE4O2Q+CECsRDRLVFZYadxp+FZ0RdhH4FN4XFhc0FFYQaAv3B70I0wizBDkAWf4j/db5v/Xo8rDx8/BD77rt0usc6AXlNeW85o7mdORJ4vvgluDL4ObfEODt31ne3dz73trgZuAQ4B/ga9+h3kbfDuPp56HqWuui60juBfQl+icAGQduDTkS0hSKF4MeKibkKi8uZTK2Nes1pjSPNaw20DSqMW4w2C4TKjUkwx6cGlsWSBH8DG4IBAN3/d74n/S/8SDwFO5463LpTugU5+HlLuZK6A7qd+o761ntuO7C79PxEfXS92/5Dvs7/RH/MAABArID5wSPBoMHSwhpCpsPPhLuEF4P1Q8tE58YChufGCYVtBLLEecT6xTqEfoNxwoACLQGhwSR/236ivg2+Vj4NfYq83Lucusc6/Xrges+6tPn7OW05/XmZ+ZA5cPku+Qm5VzmP+Yn5pjlr+Y26Dbqu+lx6GToj+nj6vbssO4x77bw6vJ89Iz1vvfO+An7If+cA1MHwAnqDOAPyxF4FAoYQhxsH3IhQiMwJWYlNSSJJHMkGCMIIiEh9B9CHrUbtxiWFeoRHQ4xC6UIBQZAA1EAq/0m++/4+/Yw9aLz6vID8kLxrfCp8NvwFPE18cTxovKt8rvzr/Uv9yH48vjW+cz60/vQ/IL+kADnAfUCKwQeBR8GswdMCQYKxQqcC5sMEg3xDJwNXA+aEIAQYg82DvMMowutCq4J3Ag4B2cFEgQsA4YBjf5x/AP7sfn19+n23/TY8t3woe9c7v3s7+v16mLrsesf7EHrxuq+6qrqTOs76+3rE+1N7jnw8vFw85fztvOU9D725vfM+PD5Sfs6/Cr9bf7V/6AAxQBSARoDUAS3BNUF9AavB8oI2Am/CqwL4QzvDeUOww+LECQRlxHLEQISYRIjElMR+RAMEY0QuA+ADk0NgguBCs8J1wi8BwAGggTMA60CdwGpAND/E//j/uH+t/7P/nr+//1J/qP+if6Q/pL+b/5o/l/++v3B/cP9yP2y/bj9jf0o/YP8TPxV/DT8KfzR+2X7bvuP+y38K/zT+4D7YPxp/1kCjwPjAoMCxQLIA0MElAQyBZcFrwU8BtMGugVGA90Ahv+p/wT/V/5+/lz9E/wL+x35Rffb9Vv0ufTB9VT2Vvb69e31q/XU9GXzg/I584f0L/YC+B35B/nF93v2yvXH9ZP1DvaZ90f5APrn+XX52fib99j2YPdj+G/54vq4/DP+Gv+I/4j/1f9TAGgBdwPXBeMHcQmmCrALLwxVDBINLQ4uDzwQQRF0EuASrRJREgkSJxGWEOMQ0RAxEMEPYg+uDsYNgwzdCrcJYQhMB7kGRwZMBbYD+wHv/xv+dvwb+yH6OPka+Ln2RvVf9MHzw/II8onxMfHU8GPxovKa8wf0MfSo9AD1IPUk9rr3lvlj+9v8if6m/78AJAKTA+EEtAXuBpEI9wnMCnsLuwvSDJQMIw35DK0M4AvKCkYKmAmICLQGRgUBBIgDKwJgAH7+0vwQ+6z5qfhg95P1+POv8rnxAPHn797unu627szu/+4b797usO627q7v1PCa8U7yjfPw9N31zfZb96r3Ufg6+Y76BPwf/Tr+U/+DAP0BlwMYBRQG8gYYCLsJEgtvDCgOyg8VEQcSDBNpFJwV+RXRFToWVRYaFqoVlhXFFD4TGBJ7EEEP0Q1TDJkKCgkRB6wEmQKVAI3+xfyc+5X6mPkq+O72JPZc9cT0wvRz9NnznPPt81T0R/Rd9Of0IPXQ9cL2X/ke+qT3g/f59+X5J/oJ/dn/GwExBJ4DwAQ+BAgFtAVxB7wKUwoIDMENJQ8yD4UOJA7mDGsMDwwnDGkMsQo+CeEHYwY/BeoEIAU9AwsBnfwV967xEO9x7TfuH/Fj8WnwV+2J6ujmWeXf5eTmfels7CTvbPGb8t3ylPEO8bfxD/Oa9jf49fqJ/EL9uP1I/YL+tP3h/q//lgGeA7YDOgQ+BDQF7QWUB88JVgtFDDMOHg9hEDUQ8Q8EESAR7xKUE84UNBRsEqoQRw49DSYLAAqWCVQJAQmiB/MFaQNBAKD9xvuL++P7OvtA+wX7Cftc+iD5I/jj9m728vZc+D36uftD/Br8Pfwn/On7/fuQ/N79jf4EADEB0QERAgoCVQKDAn0DKwSvBVoGCwbDBQ4GSAh3CdYJ0wjhB2QHHgf2BgAGjgV1BIQD5gKUAvEATv69+9/5m/kD+Yz3rPac9nv2N/Yu9az03fJq8d/wnPHz8qjyLPNP80f0lfXY9Gn1MvWN9JD1Yfaw+JD3Mfmr+Ib4HvpH+WT5JPnU+Sj5Lvrt+if6MvrF+oL7gfxq/l/+GP9HAQQDQQVMB70IHQmTCiQMrQ3aDpcPtxA7Eq0SYRI7EvkRLxGrD5IO+A2KDSkMeAqSCbgIPweZBW8EfwN2AsIBXQE1AYgAE/8d/vb95P3y/dn91/39/cr9rf3r/dX9o/1E/WH9Dv6L/p3+OP5x/q7+m/6q/mb+CP6T/SX9S/07/RT9Av0A/b78vvwE/U39SP0C/Sr99fzo/Fj9PwDYBN4G0QQRAm4DEwfYCd4IqAfJBxIIDQgaCKIIvAUiAhgAVAFBBToCt/7X/eP+7v6T/dH7Pfpb+dD30fhF+/X6qvb68wb11fi++YoD9QVp/9fzL/Lf9yv5a/fN9uX7KfoV90vsPOqi6HDs3Ox/87LzT+567WfuSvJK8OHvS+xe8Fb0BPo+++f5v/rq/g4H/gyJEVgNow5XFHcazhzAHYsfhh4eHtke7SaRI3gZYBGpDcYS9g3cCZ4FegUkAsn+b/x++YX0lPEH9AT8NwGM/zb+ePxpAKYCqgT8A7AElAbRBnMJ5wmMB+4CCP8W/5sA3P7r+wv4N/Ym9jj3yPaf9NbyAfI69JH2D/z1BPgIgwUSCbAVoBwNF3cNyg2NFVwZEBV6EwUTggtKAJn8wf1J+ZDtieoQ9AD72/Va7rHtL+8+73rtB+/W8pzz6vIE9Qz5lPcp8NvrePAC9V30AvCa7ijveO3t6djnv+fh5azj/ONo57nnCuUA5DLoc+1Y7gfumu5j8fr1HPwqAbsEpAqUFTAlszFBNHItVCfTKewxiTY1NbUx7i6VKzkmox0oEFEAi/Rt8pb2svi+9A/u7+nx6SDrJ+vB6TbqQPHo/KUIgQ8kETwQkA/sEWQWPBj7FYITgRRFFvcTQQz1AB730vA17pftFOw36Sjnnufu6N/oY+cr5kPo9O5h+BkBQAZsCUMMPQ/AEZUS7hHNEE4R3BIEFFESxwxwBSz/0PrJ9734x/qh+9770f2NBM8JngbV/zv/ugXGCysObQ9aENsPewrqBGoBFv1e97P0SPe5+8z6yvWc8YXwUu/k61nq4+oK7XDuM+838Zzxge6b64Tptu4O8vvxIfH38hb1E/U28pXu4epP62bth+9Z717u4epb6KnnQuek4+/hxOW27rv2wvnp+4P/ygg1HN4znj5iNgsryS8KPnNEeT2kNloynC2eJjYgFBWGAfbsD+aX64jwQuzO5PXh0uZP7sfytPGp8WT5bwdLFawf0SSyI0ggXCELJiMm0h2TFBwRwhBcDcQEIveT6Y7hyt/m34neONx23A7g7OX16+rvM/G086P7UwgQE64XuRg1GkQc2RzaGo4WQxEvDIsJugeVA876sPFy60juN/Y++ZvyHu0787kElRRRFJIJTgLZBagO4BXwFeMQNgltBWAFuQRV/EXvpOYi6sPzD/hF8ojr+Ols7ETu6O1U7Nbql+1K8iL5oPok9iftx+2+8vb4HPff8kvvkvL+9eT1MfEO7BjpsOm+7Tnu4OnJ4bjfUOD65s3qh+2p65bvsvMr+r39bwc1Fzcy7UQ2Q8cxqyo/MVM3NjTGMMUtlyizIE8ZLA/k/Y7o89nL2X7jZOun7C7r2uxB8iz4SPr3+X7+QAvEGhUnYS5RL/cnSh79GggbbRbzDNAFfQNkAi/+l/Os5cXaNtdX2TPd4uEF5yrsBvKK+KP+rgEaA1QGPg5fGHkfOyEZHxEbYhYBEdsKIgSK/Vf5SPcD9rjzu+5u51zhjeC75I7t3wIiESAMMAODBw8bySrQJUYXOQ8KE1IYZBj+ERsGUfXL6h7t4fLs7+fll99P51/03Pnk897sze8z+Eb9yf5J/vP6V/Uu9Zb5lvlO71/l0eLA6hHwbO6w5wDkYeVQ6jbtzO687ZzsEu+R80H0PO8n6U3nbOzZ7hntM+xV8C74TP6y/eP7Xf7GC+kmbUB5RmY4iSnIKOsw9zNlMEgoOyFzHWccmBUOBjvwpt4j2pvjVfBu9pT01/PP+b0DQwmmB4gF0gpJGDwnHjGHMdMoCB5pF+wT3w6XBSn82/Wd9ET1U/AY5BjXhNHP08DZ/+DG52DtsPNO/GkFNAoRCnMJyQyDFJgcKyDdHYUYdxK+DLQGhv/L9wryrO+b8PvxivBf7OLn5+c/7U784wv0EF0O/g9QGJEexCIuLdYsQB+jEi0ODA4IDC0CD/X67tTwIPAU7FzpbOlV6GTqfvII+gT9n/zc+2n9uP8j/8X36/EN85L04PGA7PzoBObS4f/i/eVI5t7kROY46q/tm+8d70vqZ+mp7qD11Pco9AnuCOvK7Pruu+6M7pbxHPVL+Jj77v6KAAMGYhg1N0xKtEQbM7oqaS22Mhcz1C9lKAAjFyAPHPoP/Pyp55zaWdup57XygPYA9rH3Jf2TAyMFCQPjAoEKeBi6JbMsmCltHkkT4At1BlEATvmB8pftwu02797pPN4A1Q3TAtcD3knnUfBc+BwAPQjcDjQRJhDyDgYRihb6G44dLxqGFI0NqQVh/YT2p/HI7lzuS/FF9Cv1bvNh8T3wI/OW+fAGLSDlK3gjgxl0GWAbkR/GJgMkqxQZCS0COQBz/m31OeRY2sneLucF6mDrM+w968rsnfRI+jn6Gvhz97/67f25/gb3kexS6u7qwem46Q7qQ+or6MTqLPET8Hzt1O1w8fD0j/iD/Gf9WfyC+8r4WfcC+iv5XvJq7xLzAfSo70PqUuwk8RL2w/op/zkF4g+YJCY/2UgPPn8tWCj+LTcyRjJWLr8mYxy4EQkILfy26TvXus9/10Tm0PBL8yL05/Y4/HsBlgT5B8oNGhcdJMUvWzPWKbYZvg6UCUYFsf49947w+uvR6gzqFuTm2uPU4dal39LrkveDAOkGIw37E8IYYBm8FkoUKhVGGVEcJBqNEg4J4v8s+Hvxseuv5q3kROdL7M7wxfKt8rf0kvk/ALAG1gxJEiQd1S3oMbsm8BgjF+gZlBOmB8b9SPi/9qDzw/A27b7lW9uK2urmaPTr9gr0zvc8AbkGGgXU/gn7jfls+Zz73/wo+xLxE+Z65kTsEuxH5TXi6edm7fzzd/aA9F/xEfKN9lT7b/6y/Yf5NPpk/gcBef3p9jTwW+1m71Dy7vKm7xHtSPDA993/rgaeDY4dHzO7P7E7gS9cKDwnayjJKjUrgiYWHIQQLwe9/ZPw29/F1R7Zs+U+8dv3tPro/E//gwKMBSgJhg1ME3saXiPeKV8mIxloC74C6vzy9kLxBu1F6uLpbOow6aPlj+Jj4jDm6e4F+wYF8AsEEs4XeBsVGywXIxKKDyQQwhD+DwQNHAes/uD2yvFw7urrjepC7M7w3Pa5+xL+nAHKBb0IRQxQFmohxCIiHbMYYxe7GoAaoxD/Ac/2yvH+8NHxFfBC6W7iq+EH56btH/F68ADwn/Si/I0BlwDI/dr5yvaT9d31YfMw7ifpqOiP6cXtU+7h6C3j9+Xc7sT2TfuD/NP7HPxnAF8EFQVMAsL+kf0cAA4CqgL3/NX4ovce927zsO6Y6m3oFOl876f4cwHFBygOzht0L3k6QzNmJdwfjiOfJ50p2yhVI0MY4wvQ/7H1vupx3jzWwtng5zD1APoP+ir7c/6NAaIDPwevDLUT/RryISgmcCO5GF0LrgHO/Y/7BPi784/x3/LE9OnzJfD27InsAPB496cBBQu1EHwT2BXkF3sXNhPbDOII4AhTCp4KWAgnA2b8dfbr8aXuhOxg60ns8u9h9lz9PgHaAfgBWAN3Bn4OAhdeGeMVaxFXDhYLRQd4BdsHbwegAJL3j/G77xfv9uxl7Lvuw/KB9fb40vzX/Zn61fac9sL5mvtc+qr3BPe89xb2+fFw7vvsAOzc7PjuT/Mp9f305vWT+HD6a/wT/HX7OPxEAaEE9QIv/gP7iPip+J35xviq9BzylPFN8Z7xKPHR7l3qwuha7Kr0IgJNEk0kdjTCNiIsYR/QG4EeTCD2If8kDCWyH9EVtgpE/eLuauJ63IDgjey2+Ez/gwLzBfMHrgbZA9wDYQilEGgatCGnJI0h0hh8DgQFw/yM9UjwbO4E8Cb0+fY89FjuX+pW6lrs2u9C9hr/9QfsDtITixX2ElYNbwdWBFQE7QXaBuQFggT/AUb91fai8H7swuoq7CrxPfdl/e4BxgTfBYcHHgw7D5UNvwviDZUS1BO7EsATcBCLBv76AvOG8avzLfRN803zrPao9zL1ZfMG9dL1U/VS9oD7CABWAZ3+Mfvu95b05++Q62zqA+367ofvafC08Ynx/fGA8ZDylfW/+jf/BwHAAg8FmgPcAYEAuwGbAEH8p/i59in3Rfen80XvdusP6zLrousf7sLvFPHm8hP8XgyvIEwxPzRMKlsgLh5DIoMisSAxH5Yd6BkkEzIKEf+a8c/lqOCB5GbtSPVn+oD+4AOKCMYJ/QaFBQ4JQBA+Fy4cER7fG80Vtw5+B8f/Mvef76zs2e6/8zb3d/YU87zwNfFu8y/2cPoVAJEG2wwsEjcV5RNzDo0IbwTNAvQB7QB9/23+e/1w+1D3OvIj7kDsbe2L8fn3UP7MA5IHuwv1EdUU7hEaDb8LWg+jEu0SyBCLELYSaA6tA1j4PPH07jbv4PEm9mT57vkS+KT3/fgw+Bf0pfFb9Kn6T/9t/8v8gfoY+HD1NfHi7n7tYO2u7+jyDvaf9631Z/Mb9Nr2j/gd+Ej3evmx/oYDmAT8/6z5XvUr9V/2hvb38njwnu7E73DxGfHp7jLtge1p8In2jwPnE5okfTDFMWsqeiD8G08cVB1xHWIdJxtwF8IQuwm0/1/0c+p757TsofY5/+EEUQqjDrcQ4Q40DKYJqQi8CgQPbhIuEjMOOwgiAl78HfZB72jq7Oo+73P09viY+5r7qfpY+2v8RP39/owCIAeUCwsPfQ+lC7gFPQC6/K/6+fkr+vr6m/zv/d79BPxH+Q73QPYJ+NL8qAIkBz4JZQrGC7QNTw9NDXcIjgVPBcUFugXxBQYHYwgBBx0BxfqW9lP1wfWU9xT7cv2n/Qn93fzO/Lj6mPZ080P0l/cV+Y35Avr6+Or1mPGK7p3t9e317dHuuvBu80n0ffPv87P0BvW59E/1UPfU+UP8z/4GAg4C1v4b+3b3GvVF9P/zt/RH9tb3WPhi9473bPZV9YD2n/mx/o4HHRXlImsqvSikHjoTMw1IDDELggtJDjgRUhBpDFgIewNT/f34mvj9+3MCUgl9D4gUthd6FiIRuQucCPkHogfIBhkGmwXhBPECg/8H+3L1pu+p6+3r1O9Q9K/3bfou/an/6gBtAEr/mf/VAXEEiQYwCO0IjAeSBLsBU/+J/D36GPo//Mf+UQDdAP4AoAD6ABwC6gIcA08D8gRBCZ8Ozg/oDNMIjQZrBVMF4gV5BpsHBwbeARf+UvuC+U/4bvj1+U370fsg/MP8w/3k/Bb61vcg9zr3DvdO9zj3UvY89HPyrPGP8e/w6+5K7UvvtfLR9N7zovMV9Cr2KPjU+eD6n/vr+zj81f27/Yv7mvjw9lP3QflQ+Xv4bPiS+eL4Nfbc87n01/W0+Kr8LgWkD6MYuh7+IuIhFhqVD3sKnAt3DiARUBP9E0QS7w0oCZAEigBq/jb+/gA2B5IOoRMvFWAUWhJxDvYI8ATeA+EEZQVpBbEF5QTGAQv97Pc38xfvoewK7dzvQfTB+EP8Ff43/0gA3wCTACMA5gC+AgIFEwfqB70GGwQLARL+4/sx+3n7lPxm/rQABwNSBBUEjAITAKb+ev7m/7YDFQfKCAUJIwpEDSsOHwtYBr4CcwGTAGAAJALkAzUD6AAQ/vn7jfiW9PXywPQE+Bz6fvv3/Pr9l/y8+Qj3EPbB9e/1dvfL+dv6fvkE9xj1B/Tx8iHx9+/z8KTy3PP59H31iPVE9aD1JPaH97v4lPm8/FIBCAULBYECMAA0//L9U/2q/O78ff2t/Zn8MvzI++v6TPrg+kL90v8dARIBgf9s/a38C/8OBrIQwBZQFa4QvA77Do8NKgsoCcoIigr0C2ELdQlPCP8GdQSOAiED5AOuBI4HiQwAEN0PMA2xCU4HqQYjBbIBvv7c/VD+MP8IAFH/mfxz+ez3gff896L46fiW+WD8EAH6AwkDHwH2/8L+Iv4Q/g7+K/7W/gAAjACDAEz/M/4a//UAWQLLAq0FVQpkDFwKyQcTB0gHgAZLBqoHrQjhBx4FAwIu/2b8s/kz+Fv5SfuN+yH7YfuU/I78r/pE+HH3g/ct9yD3Nfhb+b73cvUb9Ez0mvN28p7woe+f77zwlPIB9FP1CvdE+HL4y/fU9E3zJfMj9er39fpN/Xr+9v05/aL6svhE+Kb59fxy/x0BiwHUAKkB4AM6B3kLRRBCFScZKRkWFcEPCwuNCT4J1AllC8sMFA0tDHAKKAgDBp8EUARKBQ0IqwqDDP8NrA4rDiAMBQkxBgUEgQI8AQ0Acv8u/23+H/0Z+zP45/Qy8kDxg/LY9E73DfoP/fH/VAEOAfb/i/7Z/fT9MP/XABEC4wIhA+gCTgJlAZUADwCT/6//SgA+AXMCTQOiA2kDgwLmAMz/zP8eAI4AMQFYAfoARwHLAuID+QKMAPf+bwD0A9MGkAd6BQ8DFAHi/zL/8v6q/uH+Pf9p/7H+d/3U/Kj8ePyH/D/8hfzG/a//KgELAU//bv3j+zP7f/pf+VP4JPcH9or1GvVd9NbyS/Eq8XPyy/SM9Xn2vfZy+JH7K/7k/xUA8/+vAAUBMwF5ASoBaQDHANsAXAB6/uH8OPzL/CD+b/6u/hUACALVA28E1QPUAg4CJwLhAroCsgE2ALH+tfzU+f71K/Lb8Fv3ugVtE18amBfKEE8LxQfwBJACWwIDBvMKHA/wELgP4AuYBl0Bbv1a+uf4KvsGAowK+g+YEMoNTwpRCNUGewM2AAD/f/+wAc0EHwZhBGICTQi/C4AGAP3h8pvy4Pjn/t8EEAnuCzgMTAclANX62Pbk8/X0q/ol/2kADQP1BRcHwQO1/Fr1jfGM8l/0BfTE9Ln2y/Sy897z1vKe7gXqB+mB67PvmvNG9YT2Vvjh+RX57Pf29iH2ofRB9NX2T/rr+zf9LP3n+8f53vbK9bL2sfnH/Fr9Nv5tAOgCOwVXBwoJhQpzC/EMUg4qEJsRAhLSEZ8QrA6xDOoKZwpaCgYKoQkTChsLSAxMDKoLSQtwC0cLeAocCi4K1wrBCmgJkAexBYYD5gDw/iH9Tfuf+SL5nfnc+Sn6RPoT+g36wfrC+y/80vyE/a39Gf4Y/9v/V/9F/jX9tfxV/Nr71ftr/Jz9gP4R/xr/Wv8j/7n+Rv9rAAMBOQHjAcsCnAP6A9wDmQLQAHv/qv7Z/Zr99v1S/kP+L/6m/g//8v6q/hb/jgBvAqMEbAakB8UHrQW/A2kD1gJdAnoC2AJPAxYD9gGxAO3/kv4C/Y78OPyG+7n7h/y1/CT8IfvC+VP4U/i9+Cz4uvdN+Of4vfjV+Cz47ve99tv1YvXq9Wn3yPh9+vT7QP3B/br8t/uG+2P7CfvE+7L9FgENBYQIcQlKByQETQGFANkA8AHzAgEEfQUyB3gH5AX+AiAAW/4X/qj+f/9GAIkB5gIEAzoCqQAI/xX+if7A/hH/NAClAdwDjQZsCEII5QZiBVAEfASbBQMH/gfOCF8JrgmSCe0I4QceBzoHPwdmB3wHLwczBmIFiwR5A4cC/QHGAXsBGwEGAOH+DP4h/fv7wfp++e/4p/iY+Gz4w/cK92P26PXC9MHzxfJv8jLzJfN89E32p/ZV96T3vPe9+GL5sfln+vn7vf35/iMA2wCyAQMCCQHxAMkAvQHYArsDJgSqBH0FVga7BnIF7QPFAv8BRQLNAlEDNwNhA2wDtgNaA3YCKAGDAPUA5QFOAsgBCgIpAjYCxAFfARIBSABcALQA8wCiADsA6//M/14AxQBiAIoAGQLDA7UElARSBNUDuwOMA14DGwSwBMIE5QT3BBMFjQSeA9ICsQK1AjoCKwKfAg0DMANwA/cC+AFlAUYAof4I/tz9q/2a/S/+df7y/Vj91vxp/Db81fuq+5/7dfsP/DT8hPsF+2X6y/nH+T36mfqK+nv6EPso+0n7JPtM+mv67/q3+9D8rf0z/vj9af0W/dv8wPzD/bP+rf/B/zn/5/5H/o/9Z/0t/nP+GP/Q/38AngA7AHv/fP5c/aL8MP3J/owA7gFQAr0BgAFjAdMBFQJsAYEAawDfAI8BlgGJAaUByAHTAXcBfQB4AIABPQL3ApUDmASbBcwFEAZzBoAGbgajBo4HwwgvCbIIMAgWCHAICQj/BsgGsAbPBggHWwckB6cG/gVlBfsEnwTkAwcDlwJOAj0C4AHOAO//Wv8A/zb+Z/2Z/J/7KvvB+tz5Gfmi+FP4RPg7+Cr4qPck97H3Qvi9+L/45PiI+B/4H/gA+AT44fcf+ED4q/iw+H34uPj9+Cv5Tvk0+nD7B/22/VT+Yv+X/7//8f8RAGD/Hv+u/pD+nP/K/5UAMwE+AQkBuABMAF0BvgIbBEgFogW6BbkELQShBAAFTwXPBJ8EbASqBJgEaASHBBAE1wOXA+IDSwThBKIFWAayBtUGTAcdCMgIigjzB4wHfAfFBx0IpAcTB5EGoAW5BCsE2QMCA2gC2gFsAVYBqwDQ/zn/uf5m/mL+Qf4z/r394fwP/In7vfvT+6r7Dvse+k751/hu+Ij4cPgJ+JD3W/fx99P43vhm+bf5jfm1+VD5xvha+Or3bPiF+Qv6V/ro+q36x/nN+Z35pvkh+vz6JPyK/Un+C/9X/wD/OP5A/Tv9Zf08/mX/BADOAGMBVgGYAS0CQQK7Ac0BKwLfApYEWAYTB+UGMwa7BHQDyQKDApQCIQN0A/gDnQSsBN8EZwVTBQgFBAVPBXUGtQcsCGwIfQg1CFUH5wbGBmEGpAVEBX8FAAZuBjUGeAX5BGEE3gNuA90CcQIOAqwBiQGRAcYBMQGXAIUA7f8R/2/+Iv7c/bT9vf3g/f/9Nv58/nf+xv3k/PL7i/s1+8z6a/qW+Wz5W/mb+Vn5M/kr+cb41fhd+Sn60fnB+Ff3+/YV91X3jfio+cX6tvoT+j/6nvo8+4/72PtX/Pn8Rv39/Zn/jgBtALr/4f5t/qr+8v7k/5MAJAE/Ar4CdAM8BLYD3wKxAg0DUwPpAzwEqgRzBC0ECgTxA9kDWAP+AtQCKgPZA74EXgX1BU8G/AXdBTEG3gYcBzIHkgc2B9wGmAaNBmgGiQZPBvoFcAVwBbEFiAV0BdoE/APxA7gDgQO4A3ID3wJkAt4BYwHHAPb/Sv8u//n+X/4F/hf+Cv7//dP98fxZ/AT83vsB/BX8+/sQ+2v6Kfq3+SD5svhG+Or3I/iK+OT4Ffne+I/4ZfiP+A75K/nc+Hf4AvgE+L73tfdT+Mz4Avp0+jD6GPol+tD6TfvN+9L8zv2z/hb/Yv+I/6n/a/9y/+//UQAUAeABfgJ6AnYCVQIeAtoBMgLoAmMDDAQzBGEEbwR+BJsElATRBA8F4wTJBDMEIwO1AgQDLAMaA0gDJQNTA8gD/AM2BCQEFQQ6BOoEDwVyBXIFKwV1BCIE8QPKAwcEMQQBBHQDJQPJAqYCWAP0A3sDKgPLAhoDxgNzBM0EdwS4A7oCOgJdAaIA+P+r/zL/4f79/vn+yf5d/or9dvy9+4L7c/td+4v7jfsf+y76kvlM+Q75nvhL+Pz3s/f391z4jfiy+Jr4N/hN+Ej4SPh9+GX4hvgd+aP57Pnm+m77rvvy+6r8lf0i/sf++/5g/6T/CgCmAC4BLgEDAdcAAAGsAZgBRAEbAQ4BKgHNASICaALNAocCegLPAWEBDgI9AvcCoAOaA84DhANCA1EDfwN9A5UDqwMHBEUEowS5BLAEnQTNBAYFwgSHBCYEWQSQBPAEyQREBYoFiAXbBT4GQAY3Bv4FYAVaBfkEzwTRBBgFMAUCBYsEtAMqA58CGQItAhECKwJMAkMCBgKjARABbwDS/0j/Mv87/zv//f6o/gH+S/3d/J/8jPxr/Ez8p/vD+qT6bfow+vD5c/lm+dH5Xvoo+yj70Pqk+iP6Vfp7+qD6cvqK+r/60Ppq+9X7Mvxx/E78tfzs/MX8Fv2T/f/9vP6X/1UApgCXAD8AcP8s/xb/iP+6AKMBPwITAhMCzwHgAQwCTQGkAAMBiQH9AcACYgLjAawBeQFYAckAcgDz/8f/KwCOACYBewGnAUsBKAEbAdIA8QAUAXkBvQF4AuMCMgNsA9sCbQI0AqYCQgN8BPkE+wTGBFQERQT0A9wDMAOzArUCMAOGA4YDZwOfAhECnAFNARABwwCtAHYAeABBAAgAUQDb/3T/TP/J/mL+3P4P/0H/5/4X/sP9MP3D/J38lPyZ/MD8x/zF/LH8vPzJ/Kj8ePxt/In8b/ym/OH8GP10/aD9lf2a/WP98/xX/K77mvvc+2/8sfzx/Cr97Pyq/Jf8Nf3//WT+JP7//Un+Rf48/rT9Yf1h/Wf9XP22/e392f0S/jP+Sf5U/kz+K/5Q/oD+4/62/+QAbgGcAaEBsgGCAUQBKAEDAf4AXQEVAo4CUQN7A2UDQgMWA8ACpAKHAqQC0ALNAtICQgOlA/gDcQT0A5wD/AK6AvcC6gLdAtgCpgLWAlEDTwMYA6gC6QHRAfYBHAKvAgkDrQJIAiQC8gH4AeAB8AG3AXkBQgEQATkB6AB0AFEAXv9q/vb9Af6x/rn+lP6W/lT+Wf5U/n7+hf5Q/ib+4v0i/qP+7v5a/2D/I/9E//f+n/44/sz9yv03/ez8Nf22/RL+Sf5F/jb+Ff4F/u39Af7//eT9Ev7i/f39//3g/ev9q/0l/fX8Fv1a/cb9IP6S/g3/Z/99/2v/k/97/8X/bwBtAOoAdwGcAXUBMwHbALwAjADXAJoBAwL7AbQBnAGCAdAAwQB+AZ4BKwK1ArECkAIyAo0BcAF3AXUBrAHyARwCCALrAcIBwgH4AesBJAJFAusBqQHuASsCLwLpAbcBdwFdAZoBbgF+AVIBFAH4ANcAqQBtAHQAbQBpAJAAgwB9AGIA4v/M/+T/8f+//6D/f/9n/7H/4P8CAAgAx/8l/+z+tf5O/lT+G/5F/kn+R/5H/hX+5P34/RD+zv0D/vj9yP2e/V798v1v/qz+1P6s/rz+n/5d/k7+VP70/eD9Gf5t/p/+y/4T/zT/Of8e/yH/Mv9I/zn/Av8R/xr/U/+X/+v/SgBtAAQAiv+K/8f/6P/6/xwAVQBrAIEAyQAFAR8BHQHZANAAxwDfAAUBHwH8AL8AWgA0ADkAZAC4AMUA/gDDAF4AdgDZACoBOQFWATwBgAGGAZ4B3AH9AesBzQGlAW4BdwGLAZgBUgHxAJUAvP8w/5f/BgCKAH0AIwC2/zn/Bv/c/tj+5/7y/hb/U/9r/1z/D/+b/lD+Q/5i/iT+5P2p/Vr9cP3Z/Tz+df7P/iX/af/t/1oAegAaAL//Zf8n/2n/g/+0/+D/8f8lAH0AYgANAKn/Lv/U/tL+TP/d/14AtADbAGsAIwDo/57/hv+k/57/k/+e/w0AZAB4AGQASABBACcAfwCFAGAAOwAyAFMAkwCbAG8AKwCe/0z/Hv+R/0YA/gCwAeAB+AHaAawB2AHaAawBaAFaAaMBFwJoAnwCCAIhAW0A/v/x/2sAqQC6AKIAqwDXAGEBkwFlAUIB3wCIAF4AoAB6AEEAov8L/wT/T/+m//7/GgDV/57/MP8Y/yX/dP+t/9n//v8eAPb/EwBkABUA1/99/2v/HP8T/yz/f/+8/8z/cP8y/yz/BP8u/yH/cv+4/5f/jv+m/+v/KwA9ADIA/v/o/8H/cv+X/+3/PQCOANsA/gDMAKkAhQA2APP/5P/k/w8AXABaAFwAIwDZ/8r/2f8aAEoAKQARAAgABAD+/xoAdACZAM4A8QDdAAcB0gCVAJMAfQBrADsATwAjAA8AEwAyAPP/x//S/+T/xf/F/+//CgATANf/7/8rAA0AvP+4/63/1/8nAE8AIwAGAO//2f82AIUAigBgAPr/zv+2/6T/zP+g/8H/8f/+/3gAeAANAK//If8G/1r/pv/O/9n/e/8u/zL/lf8YABgA8f/O//j/NABBAD8AKwDk/6b/iv92/4b/f/+g/8r/4v/m/xUACADz/xUAVwA/AAQAtP/Q/+//2f82AE8ASADz/7j/a/8A/wL/Zf/r/08AdgA7APz/HABPAH0A5gAqASYBBQG4AGcATwAyAAIA5P/M/9X/yv/D/4z/hv90/1X/V/+K/1X/NP8s/xP/Of9l/6v/7/8EAAYA5v+c/6L/XP/h/tz+z/7E/sL+AP9e/4P/V/+B/87/yv+i/2n/AP/3/gv/af+g/8X/7/8GAGcALgDg/87/tv9//2L/tv9cAA4BPgE3ARIBzACMAD0AVwC4APwA0gDqADUBWgFaARABiABXABgAJQBIAHgAYAAPAPz/xf/S//7/BAC6/3b/MP9E/3T/0v9GAHgAfwArABEAJwD+//7/LgBgALgA4gADAfMApABeAEYARgBGADIA/v/o/9L/w/8gAHoArwCkAGkAPQAIAOL/tv+c/2v/NP9V/5f/dP90/3D/eP90/5n/w//v/+//v/+g/3j/ff/H//z/+v/4/7//q/92/4j/kf9g/1r/Zf+I/9L/IwBVABgAv//K/9f/w/+t/+L/RAC8ABQBSQFLATUBCwHMAJMAQQBcAJUAmwCXAKAAxQDSAO8A6ADFAFMA4P8gADYARgA9AE8ANACt/zT/O/+x/wAAJQAyAO3/7//x/w0ATwBcAHgAawC6AMkAwQCXAFMA5P+i/9L/DwAPAO//AgAIAPz/CgAwAEgAWgA0AA8A8f/z/9X/rf+Z/6T/nv+m/6//2/+x/7r/uP94/z//SP99/5H/iP9g/1r/YP92/5n/g/9X/xb/MP9P/1r/Vf8s/xP/5f7L/iP/lf+V/33/SP/w/pL+mP7w/kT/af97/4j/l/+R/3//mf99/zn/If8//0z/af+B/9v/+v/O/93//v/o/9L/sf+r/7//v/+v/9n/1f9w/1X/uv/k//7/GgDX/8P/5P8pAG0AiAB2AHYA2QDqAP4AQAGpAawBpQFuAR8BBwH+APgA5ACeAFoAMgAnAHQApADOAMEAiABeAD8ASAA7ADIA+v/o/7b/xf/d/+b/4v/M/93/sf9T//f+3/4T/23/g/+t/9n/+P/v/xEAFQDm/8f/oP+X/7T//v8/AGQAgwBiAFwAhQB9AEQANAAcABMAZwDBADEBLAHiAIgAdABkAIgA5gA5AR0BDgEqASEBCwHqAKsAngC2AIwAdgBcACUA7/+m/6b/jv+B/3b/SP8s/wL/9/4W/1P/gf+4/7//hv87/xj/Lv8e/xr/T/+i/7//CAA5AF4AaQB0AKAAmQBkAFUAPwAcAA0Av/+e/8f/OwCxAAUB3QBvAOv/ov+t/33/Wv+B/87/aQDZAAsBDgHmAKQAcgA9ABgA5v/4/0QARgBvALoA6ADqAMUAlQB9ACMA+v8EAC4AOQBEAG8AigCbAHIARAD8/7T/nv+Z/6v/2f8IAIEA8wD+AOgA0ACmAGQAVwB6AH8AdAB4AKkA2wDXANIA1wCvAJUASABRAH0AfwB0AIUA0ADMAG8ANAAcANX/2f/r/+L/8f/x/6n/nP97/2L/cv+g/6D/ff+M/1f/Fv/7/tb+z/7f/tj+s/6d/m/+Pv5X/pv+sf6W/p3+mP56/m3+aP6W/uH+O/9R/2f/dv+k/4P/mf+k/33/Z/9G/0b/Wv9p/4j/uP+T/4H/xf/B/6T/pP/k/+3/DQA2AF4AbwBeAEQAawBtAD0ADwCZ/yX/J/9X/23/yv/6//r/CgApAAoADQA/AGIAgQB6AJUAogCbAKYAyQDUAMkA1AD+AAcB+gDvAMEAVwAuACsAKQA9AH8AuAC8ALEAlwBcAFUAawBeAHgAmQCkAIoAiAByAIEAqQD1APwArwBpAEoAOQDm/5H/ff9I/zn/HP9e/4b/lf/M/9v/7/8EAOb/tP9w/23/Z/99/23/eP+v/8P/uP+V/3v/Zf9n/xb/1v7a/uz+D/9e/5z/hv9//4j/oP/K/6b/cP9a/zv/Pf9P/3T/nv+T/3//gf+2/5f/jP9R/0z/e/99/63/zv/X/+D/1//H/+D/zv/H/8f/qf+8/+T/4v/k/7T/yv/2/ysAVQCFAHQAOwBVADAAMgAgACkAZwB4AHoAYAAwAB4ARAC0ACEBeQFSARIBHwESAccAkwCpALEArQC8APMAFAHtAMMAogCkAH8ARADV/4P/iv/g/1EAgQCrAJ4AZAA9ABwANAAgALT/bf92/87/MAA0AE8AVQBKADYAJQB6AKsAcgArADQAigCgAKsA0ADmAOIAmwCKAHIAYgAIAAAASABVAJcAzAADAeYAwQDDAMUAiAAnAPb/+v/6/0EAcgCVAIgAVwBVABgAzv/F//7/JQAEAP7/OQBaAEYARAAaAMf/O/8j/23/rf+v/3L/J//u/uP+AP8n/xj//f7q/uz+vv7f/gL/LP9y/z3/HP/3/hP/V/85/0T/SP9r/5f/zP/X/6n/r//g//P/+v/6//b/+P/8/x4AjgC4AGAAPwAuAA0AKwA9ACkA/v/t/wAAPwB/AHYATwBTABwA7/8PADIAUwAnAPr/GAAGAKn/nP+//7T/1//+/zYAYAApAPz/GAA9AEYACgAIANn/q//O//H/HgA/AGsAhQCpAK8AoACFAFwAcgB9AIoArwDFAOYA5ADSAMMAsQC0AMMAlwB6AF4AJwARABEA+v/b/9X/jP9n/3//jP9X/2v/k/+0/5z/ov+8/63/pP9//5n/hv+//+j/6//z/+L/pv9M/+z+3/7a/r7+m/56/rn+9f59/7z/r/94/z//Pf9K/1z/Wv83/0j/hv+x/+v/AgAKABMAGAAGAMz/dP8n/1X/uP8CAC4AUQAuACkASAA/AFEASABPACcA2/+6/9v/BgAaAO3/AgAYAAYA3f/D/5z/k/+e/87/IwAuADYALgA7ADIATAByAIoAbwBcAG0AkwC0AMwAxwAHAQcB2wDvAAUBIQEhARQBCQH6APwAGQEHAckApgCmAMcAzgDSAAMBHwHiAKQAtACgAGIAMgAcAEwARgBrALEAzgCeAG8AJwD2/+3/oP9r/0T/I/8c/2v/ov/O//H/GAAcAAQArf9M/z//D/8l/1X/jP+V/3j/nv+p/7z/yv+e/9f/5P+x/7T/8f8rAEYAcgB9AHQAbQBiAEgAAgC//5n/f/+0/wYAQQBPAEYARAApAAIABADS/47/kf/Q/yMAcgC/AN0AvACkADsA4v/d/xUARAA0AFwAjgCOAIMAdAB2AIMATAD2/9L/CgDm/7j/1//2//b/zP/x//H/8//m/+v/4P/m/9X/6//r/8r/9v8/AGIATwBPACMABAAAAP7/CAAyAC4A/P/m//H/9v+p/4b/pv/x/+T/4P8KABEA+v/X/wIAGgDS/93/2//B/+D/AAAaAO3/q/+X/4H/Vf9M/2n/rf/t//7//v/o/7b/jv90/4j/hv+m/9D/3f+V/3v/gf+B/3v/Rv8T/w//If8c/w//Lv8L/+7+Hv8//zn/Hv8L/wD/I/8n/1f/af9M/zf/O/92/1z/dP+X/47/dv90/5n/wf+0/4r/Uf9c/2X/kf/F/+//2//k/w0ACAAgAB4ARgBMADIAQQAjAAYABABnAM4A/ADMAIoAVwDx/63/sf+t/5P/cv9K/3//l/+v/8P/GAAyAPr/x/+t/3v/TP9V/2v/k//F/7j/uv+6/6b/sf90/2f/af9y/8H/5v8rADYAVQBtAG8AhQDFAPUA2QDUAO8AuACIAKQA1AAbAQcBBQEbAQcBCwHmALoAeAAjAAgAZwC6AMMA3wAfAQMB5ADbAMwAsQB9AGkAdgCiAJ4AigDMANAAkwB6AG8AZwBMAD8AdgBkAFEATwBGAEEAKQDz/+//CAD8/yUAdACZAHYAXgBVADQA8f+v/7H/4P8EAC4AXgCQAEoAHAAYAAQA1//V/wIA/P/O/8z/BgA9AEgAVQB9AHQAJQDx/+3/ov9//6T/8//Z/7//GABKABUA1//F/9L/7//B/6b/4v/O/7r/0P8RAFEAXABXADkA9v+g/3L/f/+K/8r/5v8wAEoAQQAcAL//oP+g/6D/lf9t/3T/sf8EAEEAcgDBANAAmQBIADYANABkAHgApgC4AM4ApADOANAAmwCbAG0AUwBRAEgATwBgAC4A5v/x/zIAHAAIABMANAAnAAYADQD4//7/yv+e/6//pv+v/5P/cv87/wD/HP9r/2n/Uf87/1r/Yv87/0H/dv94/2L/mf/Z/+j/6P/r/+j/+v8VAPj/6P/r/+b/5v/r//z/JQA0AC4AJQAlAA0A6P8IACAAGgArADYA6P/K/87/zP/Z//z/zP+//xUA/P8GADIANgD2//H/uP9K/0b/ff+V/7b/7f/6/+T/vP+c/5X/1f/K/7//x//b/wYAGAAGAOv/BgApAEQAJQACAMf/oP/X/xUAFQDZ/57/pP/m/zQAXgA9ACsAIwBBAIgAigCQAHoAigCTAH0AVwB4AJsAiACQAI4AugCTAEwAOwAyACkAEwDk/+L/DQAlAGAAigB2AHYATwAlAPb/0P+i/47/lf+e/7T/9v8gAPH/tP+T/2f/SP8j/yH/MP9M/5f/1//t/9v/v//Z/+3/3f/F/+b/5v+0/7r/3f/V//P/CAD6/9X/uv+R/3L/P/8A/+H+NP+c/6n/0P/k/+D/4P/k/9X/wf/X/9f/6P/o/+T/sf+0/7H/4v8pACkACgAnACMABAAVAA8AMABGAEgAOQAGAOb/uv/B/wgAWgCbAKYAoACDAGAAYABTAFcAWgB/AGQAmQC6AK8AmQBgAD8A/v/S/+T/xf+2/7j/zP/4/xgANgArAEgAWgAuAND/kf87/0H/v/8gAHIAqwCvAJsAoACgAGsAngCmAGkAZwB9AGQAjADFANcA6gC/AJkAeAA/ACUAHAA5AHgAcgCIAIwAjACQADYAHgAnANL/rf+r/6//r//k/1UAYABeADYABADd//P/AAAPADkAUQBiAD8AIwApAEoAUQA0AA8AIAAnADAAWgBrAIoAaQAVABUAMAA9ACcAKQAaABgAFQBEADAAEQAIAO3/vP+8/9f/xf/O/5n/af97/3D/jv+g/6D/jv9g/1H/Uf9G/zL/af+8/+v/uP97/1r/Uf+g/9f/8//X/8H/1f/+/x4AMgAPAOT/x//Q/9X/DQAIAPj/CgAjAPP/oP9i/1P/V/+B//r/RABcAF4ACADm/+j/9v8RAOb/nP9l/2n/nv+x/87/3f+v/9v/wf+T/6n/nP+r/5X/oP/V//j/EwD2/+b/6P/o//z/GADr/8H/0v/K//z/GgDO/7T/pv+e/+D/x/+e/7H/oP+V/6//1/+//7T/vP+6/8H/x//d/wgAKwA2AAAAIwBTADIAFQDd/6n/jP92/4r/ff94/6n/BgAwAA8AzP/K/7H/lf92/3L/gf+c/+j/CADZ/9v/yv/B/93/3f9w/yn/8v4y/6T/tP/g/+v/w//M//H/3f/D/6T/oP+v/7r/2f/8//r/CgAGAC4AOQANAAgA7f+c/3T/a/+T/8f/7/8AAC4AIAA7ABwAHAD6/8H/wf/K/+b/GgAwAEQAdACXAMMAwQB/AEQAFQDX/+//CAAPAAgA8f8gAG8AmQCMAKQAtACrAK8AmQB9AHIAOQAyAD0AcgCIALwAwQDBAKAAdAA0APj/3f+2/63/uP/B/9v/CAAaAAgA8/8PADIAOQAAAPz/5v/m/ysAaQCMAKYAkwCVAGsAUwA9AC4AdgCkALoArQC/AMUAogBtAEEAJwArAD8AoACgAHQATABcAFEAMAA5ACcAMAAEAMf/zv/r/8z/qf+D/3T/jP/Q/yAAWgBPABUA/v/8/woARgCBAH0ASAA0ACsAFQDm/+j/BAD2//7/4P/O/9D/zv/i//7/1/+X/57/uv+g/4P/gf+//8z/6P8NABMAyv+T/4z/uv+e/6//yv+6/4b/T/9K/0T/If8h/zT/Rv9T/1z/af9i/1H/dv+i/8f/yv/r/x4AVQAeAPz/EQApACMARABtAHIAOQAyABUABAAGABUAOwA0AGIArQDQAJUAXABgAEwAdADFAPoAEgEJAbEAdgBVAGAAPwA9AEgA/v/K/7r/7//m/+v/KQBgAFoAGADH/57/uP/Q/8f/x/8AAAIACAD+/xUAIwApAFcAVQA0AE8ARgATAPP/1//k/9v//v8KAAgA6P+c/6v/0v/i/6//w//H/6v/vP+g/47/hv9t/7j/GgAjABwA1f+V/0b/Lv9R/2n/MP8c/zn/cv+R/6n/4P/g/6n/dP+T/9L/tP+m/3j/kf+v/9X/OQA0ANv/wf/b/w8AOQBcAC4A8f/V/8r/GAA/AEwAjgDFAN8A7wDbAMcAcgBPAE8AYACBAGAATABMAEwASgBVAGsANAD2//b/LgBpAGcASABeAG0AVwA5AEYAJQACAOb/BAAAAPb/LgA9AH0AmwB9AFoAXAA7ACUAJwATAOL/1//Z/+3/GgA5AEgAJQD8/9n/BABGAFUAeAC8AJUANgACAAIA7/8GADYAjgCpALEAwQCXAEoAvP9p/yf/LP8c/yf/YP90/4z/vP/d//r/zP+M/3//dv9R/1z/k/+4/+j/DwA7AFMAegByAEoATwApAAQA6/8IACsAZACQAFoAJQA9AEYAPwA7ADIAGgDm//j/PQBMAIEAbwBXAFMASAAyAO3/q/+X/6n/2/8PAGkAfwB0AFoANAA2AA8A6P/M/+3/GgB6AK8AgQBnAGkAmwC6AKIAjgAwAAoA9v/4/2sApACgAGkAgQBkAFEAdgCFAKYAkwBTADQAKwAyAGsAjgBkACcAw/+Z/5P/jv+O/5P/k/+2/woAJQD2/6T/hv9M/23/xf/+/woA5P+T/57/q//M/wQA2f/O/6//iv+B/7z/rf+e/5H/iP+v/5f/wf+4/5f/f/+t/93/vP+p/6b/lf+O//P/VQB2AD0A1f9p/0r/dv/X/wAA8f/F/6//r/+c/4b/q//S/wAAEQD+/7z/jv+t/9D/AgAVABUAEwARAPz/zv+v/5f/q/+m/7j/pP+Z/6L/tv/X/6v/g/+m/7r/zP/t/9D/1//6/wIAPQAlANf/nv+B/2v/gf9y/3v/sf/b//7/5v/Z/87/ov+i/5f/g/+I/1r/cv+x/xEANgAnAAAA8f/6/+3/xf+p/3b/Qf9g/8z/BgA9AFEAYgBrAC4AFQDM/7//5v/x/1cApgDHAN0AtgCZAIEAPQARABwAEwAlACAAPQBPADYADQDt/8r/v//Z/+3/q/+O/5P/lf+e/7r//v9PAH8AYgA7AA8A3f+M/4j/xf/M/7j/3f/v//7/GgAPACsAQQBBAEEAMAD6/63/nP/v/xUAGAArAD8AKwBKAGsAtgALAeYAngCIAG8AOQAjADIAXAB6ALgA7QDvANIAiABBABwA2/+T/2L/bf+2//j/CAD2/8X/r//B//P/CAD8/87/r/94/1f/gf+p/8z/uP+8/+//+v8GACMAFQAwAEwAeAB0AGcAlQCQAJMAhQCFAIEArwCtAMEAxQCvAJMAXABVAIwAqwCFAFwAKwAPABgAMAARAO//zv/6/ycAHAAuADIABgCp/6v/JwCZAJ4AeABnAB4AHgArADQAXgBBAPP//v8PABgAQQA0APr/0v+v/+j/XgCmAKkAqwC4AJcAlQBpAEgALgAKADQAeACtAIoALgAuADIAEwDv//P/w/+I/4z/yv/k/4P/If/3/hj/Qf+I/8r/2f/D/6T/qf+Z/5H/XP97/9f/EwBIAHYAMADd/57/0v/x/xEAawCTAKkAfQBpAHYAOwDz/+//FQAjADIAXgBeAFEAEwCZ/5f/uP/g/+L/pP90/47/nv+v/9L/xf/d/9n/nv9i/2f/eP9E/1z/iv+p/47/ff+B/4H/l//F/9f/x/+g/5X/rf/d/93/oP9a/zL/a/+//wIABADo//H/4v8CABgAJwA/ABwA+P/g//z/LgB0AHYAegBXAC4A/P/t/+L/uP+t/7b/mf9V/1z/Rv9P/33/e/+k/63/g/9p/1f/bf9X/2X/oP+6/9L/BgACAN3/tP+G/8z/6P+g/1H/Sv8e/0r/mf/F/+//6/8NAB4ADwDS/57/iv+I/9D/0v/Q/8z/uP/O/7z/nv9R/0//ff9e/zD/RP99/63/2f/t/z0AVQAaAOb/3f/Z/6b/nv/4/yMAJwBEAF4AUwBeAFUAZABgAG0APwAGAPP/4P8VAEwAHgDr/+T/CgBaAFEARgA5ACUARgB2AKsAWgAIAB4AmQASAS4BGQHkAMcAsQBrAC4AAAC8/+L/OQCIALYAjgCBAJAAawBXAGQAjACIAEQAHAArACAAPQBBAAIAyv+6/87/6//Q/9D/AgAlAGQAngCpAH0AKQAwADsAJwD8/xMAbwCbAKIATwAVANX/qf/M/+T/1/+x/6L/uv/D/5z/uP+V/7b/AAAPABMABADX/8P/x/+8/6T/6/9XAHQAbwBpAF4AVwBTAGAAeABGAAIABAAyAFEAaQBKADYAIwACABwAFQDm/7T/f//V/ykAOwA5AA8Anv9R/1z/k//B/+b/5P/v/9X/r/+D/2f/af+///z/JwAlAOT/l/97/87/+v8EAA0ADQD6/7r/f/92/3v/pP8KAEgAeAByADsABACp/57/0P/k/+3/+P8eAIwAwwCZAFwA6P+c/6D/+P9XAF4AawBKADAAMAApABwA/v8cABgA/v8PAA8AWgBkAEEATwA9AFUAUQAcAAoACAARABEANABpABwAx//O/+T/2f/Z/7r/5P/t//j/4P/B/5z/e/9n/5H/mf+R/87/r/+G/7T/7f9eAJkAaQAEAJX/dP+K/+b/WgCKALEAyQDbALEAkAByACsA4P/M/xwALgACAOj/vP+v/6L/e/9l/0T/Qf9e/5X/oP92/23/bf+I/7H/w/8EAAoACgCm/1X/ff9c/2X/af+X/6L/nP/t/xMABgAAADQAKQAKAPr/FQA7AFcAOwAuADAAPQBrAIEAcgA/ACsAHADv/+b/5P/4/woA6/85AJsArwBRAP7/7//g/8z/AABBAE8AOwAcAEgAbQBcAGkATAA9ACsAAADi/7//nv+m//7/7f/4/ykAdgCTAH8AdAC0AM4AqQBIADIAQQAwAEgAmQAuAVIBcAFjAWMBSwHxAKQAawAeACkANgBEAEoABAAYADkAIABIAH0AegBtAFMAGAAAAPz/BgAwAD8ANgArACUAHAAjAEYANgD8//r/EQAcAI4AngB0AGAAKQAyAA8AMAAwADAACAD6/wQAxf/g/xUACgDM/4z/iv+t/6b/hv+m/8f/DwByAIUAaQApABoAJwATAB4AHABtAK8AmwBeAEoAVQApACAAVQB4AD8ABgAaAA8Atv9p/6L/w//M//b/6/+2/6D/rf/o/w8A6//B/3//T/+B/8X/1f/i/+v/mf90/3T/cP9y/4r/vP/Z//H/vP97/2v/e/+p/7//tv+c/8r/BAD+/7z/iP+k/7H/5v9tAKYAtACIAGcAWgBIAFUAVQAnAEoAOQA0AF4AXgA/APj/tP+0/+D/+v8eAB4A7f/k/wgABADF/6v/9v/+/87/rf+M/6n/uP/D//P/9v/F/8P/7//b/3D/O/9g/3b/gf+K/5n/tv+G/1X/iv+//7b/6/8aAOj/jP8n/w3/HP8u/0//iv+k/5P/eP+I/23/dv+x/93/EQAYANX/q/+r/3j/nP/2/yUAHAA9AEoARgAjANv/2f/B/6T/gf99/47/qf/i//r/2/+G/1f/Of83/2v/w//B/7b/wf/F/8z/1f/d/+T/8f/r/8P/uv/F/63/f//X/xoA8f/O/+//BAD6/9X/3f8GAOT/v//m/+3/tP+T/8z/DQAlAC4ARAByAG0APQAwACUA+P8PAGIAawB4AGsAcgBTAEQARgBTAG8AVQBEAFUAaQBMACkAIwBaAGAAbQBTAD8ALgD+//H/CAAlABgAMgBGAD8ATABvAH0AbwBVAIEAqQB2ACAA8f/4/+j/GABtALQA+gAWAeoAqQBEABgAGgAKAPb/DwAcAAgA7f8aAFMAXgBKABoA8//B/6D/eP9//7b/2/8NAC4AWgA9AO3/5P/H/7j/zv/t/+b/8//r/xMAQQAgAA0ACgAKAAYAFQA7ADQA7f/k/0YAawCeAJsAjAArANX/x//F/8r/zP/d/wgAJwBRAGsAmwC8AH0ARgBIACMAIABeAKkAzACgAG0AMgAYACUASgBVAD0ACgD4//H/6P/D/2v/YP+m/+j/+v/m/6b/Z/97/9f/9v/v/+3/5v8GAGAAiACZAGIADQDK/8r/1f+e/6D/q//i/9n/xf/K/7H/g/90/3v/hv+O/6T/xf+v/5H/iP/B/7b/lf+T/+D/FQBEAEEADQDV/3//Yv+R/87/sf+4/7j/1f/k/8P/cP9V/3D/tP/o/9D/0v/x/9D/yv/F/8H/BADZ/3L/Of/u/uP+Gv+m/woA1f+t/4H/k//m/+T/7/8jADIAIwD8/wAALgA9AFEAbwBXAEQARAAwAAgA7f/V/+b/0v/K/9L/1f/b/87/uv/d/+T/wf+//93/AADZ/57/lf+M/4z/8f9VAJcAlQB0AHoASAD6/8X/wf/b/xMAGADv/7//kf/S/x4AXgAlAPP/v/+X/7z/5P8IAPP//P89AHQAcgA0APr/DQBcAEEACgD2/7r/k//M/wIA7f/g//P/JQA7AE8AdgBtACAAyv/r/ysAPwA0ACAALgARAAgAEQAEANf/uv+B/3L/uP/S/x4ASgA7ADQAaQBIAOT/l/+r/9X/CAA0AFMANgAjADAAXgBPAAIAEQAlABMAAgAjADIAMAAyADIAPwBXADYANABiAH8ArQCpAIMAiABnAFMAWgB9AHYAPwBPALgA/AAAAeQAmQA/AP7/6//v//H/8/8AAD0AUwAgAFUAXgA7AEQANAApAOD/qf+R/57/rf/4/y4ARAAjAP7/zv/O/+v/zP+r/5X/uP/d/ykAgQBXACcAKQAnAEoAIAAnADYAGgD+/wYA/P8VADQATAAuABoABADd/+b/w//F//b/JQB9AKkAugCOAG0AUQAYAAQAEwBKAJUAtACZAIMAPQBBAGAAgQB4AB4Anv9g/5P/4v8NAO//2//Z/+T/CgARAP7/q/90/8z/4P/t/9D/uv+6/7z/w//Z//b/0v+t/3L/N/8//4P/2f8aACkADwDZ/6T/Xv+B/8r/4P/X/7H/qf+V/3j/iP9t/2L/e/+//xMAVwBVAB4A+v+m/1X/a/+V/8r/6P/x/w8AZABXAPb/w/+///j/EwBPAEEACgCx/5H/nP+4/+//FQAlAMX/dv9c/0b/k/8EACcAGgDx/+L/7/8KAOD/q/+k/7//8f8KAP7/4v/r/+D//P8RABEAIABMAGAAYABcAFUAQQACAOb/MABPAEwATwBXAJAAtACTAHgAcgBVADYAVQBvAJAAiABTAFEAmQD4APoAngAnAP7//P/8//z//P/b/4H/e/+v/8X/pv9T/yn/Bv8C/xb/I/9B/3b/iv+T/5n/r//g//b/6P/Q/+T/uv+B/3//iv+R/63/0v+4/6//uP/M/xMAQQAPAMH/iP+R/9n/KwBaAD0AIwAGAEwAkwBXABEAzP+0/6D//P8YAEYAhQCgALgAgwAwAAAA/v+6/6L/r//F//r/CAAYADAAEQARAFMAjgCFADIAx/+r/7T/3f8rADIAOwAVAA0AOQBEAGsAxQDxAAMByQBrADAAQQBaAKAAFgFlAZwBuwGeAUAB7QC8AIEAWgAaAN3/vP+v//j/EwAKAAQABgA7AF4ARABTAEYADwD8/xwAYgBMADQAHADm/9D/3f8GABMACgACAPj/9v/v//j/HAAnAA8A8/8GAA8A+P/Z/+D/zP/Q/7H/tP/m//7/JwATALb/jv+K/4b/hv+M/57/7f9XAHIAZABXACMAv/+t/+//JwBEAGkAdABkAGcAcgBXAFwARgBVAFoATwA2AA0AIAAnAB4AHAAYAAoABADg/5P/ov/D/9n/uP+k/5P/ff/b/xUABgAgABgAzv+O/3D/Rv8//0r/Z/+K/3T/Uf80/0b/MP83/3//wf/F/57/jv+O/4H/bf+T/7r/1/+8/8P/BgA/AEgAQQAYAMr/5v8jAEEAYgBBAD8AWgA0AB4A9v+c/3//q/8IADkAQQD2/87/0v/S/9n/2//g/7r/YP9G/2L/r//4/xgANAD2/33/RP94/6v/nv+Z/8X/DwAAAN3/tP+0/+L/+v/v/9D/tP+i/6T/eP9c/wL/+f7y/hH/k//X/8H/tv+//8X/zv/Z/+L/2f+0/63/x/8NAFEAbwCbAKYAoACZAJMAjAB4AEwAPwA9AD8AMgAGAPz/AADz/93/8//K/6D/tv+e/5n/pP+6/+3/AgD4/9v//v8CAN3/2f/z/wQAxf+e/4r/r//H/9v/DwAeAC4AbwCrAMwA2wCmAD8A6//r//P/RABaAD8AXAB4AIoAawBTAFwAXAAnADAAVwBtAHIAkwBtAFEAIwBKAC4ADQBaAGAAKQApAFUAbQCkAMkAjgBIACMA8//4/ykAJQD2/9v/rf/B/w0ADQAjACAA6//m/xMAOwBkAIgAmwBiAA0AzP+2/9n/IwAnAFMAfwBVAD8AJwD4/8X/bf9X/1H/Qf9p/4P/dv9i/3L/g//B/8z/xf+O/3//Uf92/7//0v/K/7b/2f/o/+v/4v+2/7//2//D/6b/qf/m/w8AYgBKAEQAKQAwAJsAvAB6AGsARAA9AHoAxwAAAQUB1ABtACUA2//2/yMAAADx//H/EQB6ANAA/gDqAJsATABEAGkAdgBvAH0AoACmAIwAYABvAGIAKwATAB4AIADk/+//DwAlAPr/tP+4/8P/iP+V/6n/mf+B/8P/GgAVAA0AvP+m/93/7f8CABwA7f+I/zT/Rv9y/5f/mf+2/8z/qf9e/1r/RP87/1z/qf/g/8r/rf+D/2X/Uf9n/1P/YP+I/5X/6P8NAPz/0P+x/4r/gf+O/5n/k/92/3T/ov/2/+//zP+2/8H/uv/t/0EAfwCMAIUAcgBBADIANAA2ACkA7/+0/6v/xf/6/w0AHAA7AAoA8/89AFwARgArAEYAZwB9AGsAhQCTAJsAvwDDAJsAOQAnAFUAdAB/ADAACADz/9L/8/8RAFEAZwA5AF4ATwAlAAoAGAD8/+v/7f/b/8H/7/8nAEYAYgBRAGcAYgAcAOD/v/+V/3j/V/9R/3D/mf+V/7j/q/9V/y7/Hv85/yn/GP/9/g3/TP9n/3L/cv9R/2L/jv+O/4j/Hv/9/hP/I/9I/4b/qf+v/8z/AAAcABMA/v8NAOb/ov90/5P//P8jACsAMgA2ADsAPQBEADQA+v/D/7//yv/m/x4ASAB6AIoAhQBvAEEAMABTAKAAlwCBAJUAqwCbALEAwQCTAFcAgwCDAJcApgB9ADAATwCKAKIAvwCDAEoAUQBBAF4AlQDdANcA1wCiAFEANgArADkAcgC/APEA9QDUAJkAawA7AAYAv/+//5X/V/9i/6T/1f/K//r/NgA/ADsAHgDb/4z/Zf+Z//P/IAATAA0A0v/b//H/8//2/+T/pP9p/17/eP+t/+b/QQBgAFoAUwBGACsACAAlADQAPwBXADQAIwA0AF4AaQBVABMA0v+8/8r/4v/X//P/NgC4APEADgH6AKIAQQAKADYAdgCQAMUA5ACkAFMAVQCkALYAqwCZAIgAZwBEAFUAegCkAEwABgAwAF4AYABGAA0ABgAaABMASAAjANf/vP+4/7r/vP/O/+L/sf9i/zn/Rv8w/xP/Fv9a/1P/Qf85//3+2P4Y/2D/iv+e/0j//f4N/0T/Xv9n/3L/Uf8w/6b/2f/x/wIAxf/B/6v/nv+4/9n/wf/F//7/IABaAIEARgACAPP/FQBtAIoAdAAwAO//5P/k/wIAEwDd/8f/jv97/0r/bf/H/xgAXABpAGAAVwArAOD/3f/r/zsAYgBeAEgAAAC//8H/AABTAG0ANAAuACAAJQAEAOL/tv+r/7//EwBvAG8AYAAuAD8ABAD2/zsAZAA0AAQADQDv/9v/AABVAHYAXgBKAH8AWgARAPH/x/+8/8P/x/+4/33/Of8W/2D/yv+0/3//Yv8p/+f+4f49/2v/Yv9E/z3/Xv+X/8X/6//X/6v/Wv9G/1X/YP9w/47/x//k//r/PwBrAEwAJwD6/93/uP/V/zkAYABPADQAPwA2AFUAeACTAGAAHAAKABwASABpAJUAuADdAOYAxwCOAFUADQAcAD8AXAA/ADsAZABnAG8AlwCiAKkA3QD6AMEAaQA0AEgAZwCBAG8AkACvAH8AZABvAKQA2QDfANQAsQBiABUADQAwAFwAqwDSAOoA6gDUAMUAkwA7AB4Awf9y/2X/eP+X/4r/qf/H//H//P/2/93/qf+G/1z/U/9r/57/tP+0/7T/sf+v/7H/w//z/+3/uv+I/0H/Z/+///7/DQD8/87/uv/M//b/8//F/7j/tv/H/+b/2f/4/wYAAAAAAPP/tv+Z/9X/x/+6/6//ov/t/x4AXACTAJMAcgA5ADYAbwC0AOYAyQB0AHQAhQC0ANkArQCeALoAuACrAJsAmQCiAGcALgBXAIoAjABtAEQANgDv/wgAKwAlADQA5v8EAC4ATABVAEgAPwAwACUACgDX/7z/vP+2/8z/1f+p/7j/jP92/z3/XP+O/3T/a/+O/8P/hv9g/3b/ov/F//P/FQA9ACMAzP/D/5H/eP+4/9D/DwDx/8H/0P+r/5n/iv9e/1X/bf+0/+//AADb/47/nP+2/6n/lf+m/33/Mv8A/w3/SP9p/4b/yv/r/4z/P/85/0b/U/+G/93/zP+R/4r/e/9p/3//kf/Q/87/tv+m/93/EQDk/5n/Zf89/xP/cv/Q/9v/q/+G/5z/eP9M/1H/Yv9l/0b/SP9a/3j/tP/g/xgAMAA5ADsAPwAeAND/pv+r/+L/xf/Q/8P/q/+R/6D/zv+r/3L/Pf9K/0b/V/+G/7j/+v9y/ycAEwAnAIgAbwCBAAQAkf9E/3j/zP8eAI4AfQBVABEAXgB2AIwAYgBKADYAov/+//j/MgB/AF4AawCXALoAwwB2AFUANgDd/9n/DwAuACMAMACKAHQAbwBTAC4ABgD+/xoATABgAFwAXgBeAH0A0ADtANIAtAC0AKIAmQBkAF4AZACXAH0ANgBGAIUAgQCXAMUAFgEZAe8AAwEFAeQAqQCIAJAAogCMALwAHwEdAe8A6gC/AIEAHgD6/+b/tv+Z/3v/q//o/wYARACMAK0AbQARAM7/q/+M/7z/8f/V/9n/FQBPAEYAEwD6/+L/oP9i/2n/oP+0/8f/BgAgANL/w//x//7/6/+6/5f/a/9e/4j/6P8PABEAEQD+/7//cP83/yz/NP8//17/pv/8/zsAWgBtAEYACgCt/6//AAACAEYAngCZAJkAgQCTAJsAfwBcAFwAKQDm/+v/EwA2ADsAEwA5ADQANgARAO3/wf/S/zAAXAByAD0A8//t/xUAOwBkAG8AUQAKALj/nv/Z/9D/w//M/8z/vP+M/3v/bf9E/0z/k//d/+D/x//D/4j/iv92/2n/cv94/4b/sf8jAFoAIwDV/6b/1/8TACcAGADv/+D/8f8gADIAHgDg/7H/0v/4/ykAJQAEAA8A8f/2/yMAMgAcAPH/0v+2/9f/7f/x//j/+P/4//b/+P/4/wIAHAD+/xEAbwCbALoArwBkACAAGgBnAKsAfwCIAJAAgwB2AGsAYABTAEgAUwB6AJUAuAC6AJkATAAGAPj/HABgAFwAXgAlAO3/EQBPAIUAkACXAMUA3wCBAN3/uv/S/8P/0v+8/6n/qf+k/8f/AgDD/5n/iv9g/1r/bf+g/57/dP9p/33/nP+V/6n/pv+2/4r/P//9/sv+3/4Y/0j/dP9i/2n/nP+v/6b/gf94/3D/T/89/zL/Wv99/3L/Z/9t/1X/eP9w/5P/Yv87/w//Av9l/6n/0v+//7b/r/+X/8f/4v/+/yMADwAAABUAMAAnAEgAcgCbAL8A1wCiAFoAOQD6/9n/GABvAJsAaQATAMH/lf/K/zQAugD6ANQAugCgAGcATwBGAFMAgQC0ABkBaAGAAUIB8QDkAPMAqQA2ABUADwAcAEgAaQCKAKIArwCXAJUAbwArAOD/2//S//H/BgACAAIAEQA7AD8ANgAcAPj/IABXAGsAkACFAF4AgQC0ALgArwCVAFUANgAuACcAGgAuAGsAUwBMAJUA7wDXAFwA8/+t/5P/pP/B/7j/1f/+/2IAlQCKAK8AigBRACMARgB9AIoAzAAWAfUAzADFAMUAkwBgADYAQQBGADkAQQBeAFoALgD4/93/+P9VAJkAXgDX/7b/nv/B/w0AMAAIAO//5v/r/wAAxf99/1f/O/9V/33/mf+K/5P/g/+K/1X/Fv/3/uX+/f4P/1P/P//y/s/+4f7N/sf+5f4h/zv/Z/+4/6v/iP9r/3j/Yv9r/6L/uv+0/5z/vP/S/7H/V/87/0j/Uf+D/9X/2f/V/33/Rv9//8r/v/9//3b/Rv9K/1H/af9r/5H/rf/B/+b/x//Q/+L/0P8wADkAGADg/6L/rf/S/9D/AgA2AA0A4v8GABgAHAAPAPj/9v+8/9X/7/8RAGAATwA/ADAAEQAuAEQAOQARAAQACADm/7j/6//v/w0AIwAnAD0AeACiAGsAHgDg/+b/CAAAABEA6/+x/6b/xf/b/6n/oP9g/zn/If8P//L+Bv85/z3/bf+O/5n/uv/m/9D/xf+//4z/bf+//x4AKQBEAD8AWgBpAFoAIwDx/+b/6//m/7r/g/+e/+L/sf+4//j/IAAuAOv/sf9y/3v/e/+2/wgANABnAIUAoABvADYAOwB9AJsAUwApABEAPwB9AKAAqQB9ALEA3QDxANAApgB4AGQAaQB4AJkAZAAwADYAJQBGAGcApgDOAK0AdgArABMA2f/D/4H/e//F/xgAaQCmAJsAZwA5ABwAGADm/+b/4P/v/9v/2/8KABoAKQBaAGkAYgBIABgA6P+e/6//xf/O/9v/8/8jAC4ADwC2/6n/yv+t/6b/wf/2/wIAJQBeADIAPwBgAHYAVQAyAPP/wf/i//P/+P/8/w8APwBVAEEADwDb/4H/Zf99/8X/CAA/AJcA0AAHAe0AtgCOAIoAigC8AL8AzgDSALEAfwByAKkAxQCeAG8ASABEAEQAhQCvALwAjgBrAGQAaQCMAIwAcgAuAAoAUQBPABUA4P+T/6//AAA5ADQA7f+V/0r/Uf97/3b/q//r/+b/q/9r/1P/T/9a/3b/4P9iAEgA8/+2/7T/6/8jABMAuv+e/6n/6P8VAA8AAgDB/7b/sf+//9n/NAAlANX/v/8YAF4AZAA7AO3/4v/2/2cAlQB4AEEAEwDz/w8AIAAeAAYA1/+k/2v/q//M/8z/zv/v/yUA+P/+/woA8//Z/wIAUQBnACUAKQA0ACsANABcAEQA4v/V/wIADwD+/7//f/9y/3j/jv/B/9L/wf+i/9L//P/t//r/7/8IABwAFQATAP7/0P+//9L/AgATABEA/v/O/63/iP+B/5z/vP+T/zf/4/79/hz/TP+6/9L/q/+R/1r/I/8e/x7/AP8T/1H/gf+r/6v/zv/m/9v/tv+c/3j/Zf9G/2f/1f/+/wIACAAKAA0AIwBEACUACADS/5n/pv/g/+j/x//F/9D/2//V/63/pv+K/0j/Zf+c/+b/UQCtAKAAdgBGADYAOQBPAJAAvwCMAG0AogCiALwAyQDkABIBpgAgAAAAAAAVAEwAYgBkAEEA+P/x/9X/tP+M/5P/4P8wAIUAwQDJALwArwCkAJkAjgCDAIoAsQDOAAUBNQEkAdcAfwA7ABMA0v+V/3v/Zf+Z/+j/JQA0ADIALgA0AD0A4P+T/3L/V/9t/3L/q/8AADsATAAnANn/0P+i/2f/dP+p/7z/0P8EACcAYgCeAKIAjAA/AAgA/P/D/9D/+P85AHgAhQCBAGkADwCg/23/Wv9p/2n/iv/H/xMAOwCtANcAtABnABwABgARAEwAmQDOAOYABwEWASwBGQHFAHYASAARAP7/EQA9AEQAPQAjAO3/2f/m//7/3f+//4H/Z/+k/6b/tv+c/5n/zP/v/xwAJQAPALj/Wv9w/4b/oP/F/7z/zP+i/2L/Zf+G/17/Of90/7r/wf+m/8f/xf+Z/4z/pv/K/8X/6P8KACUA+P+0/6b/q//D//b/HAApAOD/wf/H/8f/0v/D/6n/uv+k/6b//P9VAEYANAA0AC4AMAAeAAQADQDg/6D/q//z/0QAfwCIAHIAKwAGAEwAaQBVADYAdADHANAA/gDdALgAqwCtAOIAEgEAAcMApgCbAIoAfwBiACsAJQBKAFEASgBTAHQAdgBTABoABAATAEoAkwCiAEgAGgARABMASABtAEYAPQBgAGIASAACAL//rf+r/5X/af9K/zL/U/9//63/w/+i/1X/U/8Y/8T+4f4T/0j/cv+D/0T/Kf9a/6n/l/87/9z+pv5v/qP+Df9M/z//N/9G/z3/Mv9K/0//V/8h/xH/J/8y/1X/f/+B/6v/yv/m/woAAgAAAKn/Zf9l/4j/zP/8/zQAOQD6/7z/tP/B/9v/JQBcAEEAOQApAA0AHgAaAC4AJwA2ABwAEQAcAC4AYABgADYAGgAEACAANAAnAAAAAgBIAHgAcgCTAKAAlwCBAE8AOQA2AEQAiADDAOIA8wDQAJcASgBBACUA9v+i/5X/yv/d//P/NgByAH8AaQBMAFUAMgD8/6L/l//Q/woAdgDSAOQAjgBgAGsAfQBgAEoAOQAEAAYAIwAlAG0AhQCQAKkAkwCTAGkATAA0AAAA+v8yAG0AkADDAAcBAAF4AD0ANAATAOD/zv/k/yAAfQDtACwBEgHMAI4AYABeAEoAbQC0ANIApgCIAIgApgCVAGkAUQAIAOv/v/8PAJUAsQBcADkAaQCBAFMANgApAAoA5v8RAEoAXgBaAAAAw/+i/7j/2f/v/8z/pP9w/1r/XP9y/5P/dP9n/1r/LP8R/+X+3/7a/uH+Pf9l/2X/V/8e/+f+AP9i/33/V/90/8H/uP+e/4j/l/99/3D/Z/9E/z3/Wv+k//H/AAD+/8z/RP8s/3j/v//V/93/0v+0/9f/7f8CACcACgDo/7z/oP94/4P/zv8gAFUAOQApAB4AHgDt/5n/6/8GABUADwAuABoAzv/g/wYAJQAcABgA4P/z/+j/r//i/9v/0P/Z/9n/2//O/7r/8f8wAD0AHADK/8P/BgBBAEQACADi//z/KwB2AG0AZACgAK8AbwBrAE8ANgA5ADYAJwDZ/4H/k//B//7/EwAjAB4Ak/85/0T/eP+V/7T/7f/+/wIA8f/b/+3/1/+6/6n/r/9w/2f/nv+2/8H/2/8cAEwAIAAIAEQAIwDk/8z/tv/t/zIAVQCBAH0ASAA0AEYAYgBEADQAKQD+//H/8//2//j//P8NAD0AUQBRAFEAWgB0AC4A1f/i/wQANgByALgAogB2ADAAAAANAP7/DQD6/+L/2f8jAB4Awf+V/3v/r//6/xMAJwBTADsA4v/B/+b/JwAyADsAUQCbAH8AbwB2AKsAiAAyAOj/r/+T/3//oP+2/5f/U/+I/w8AUQAyACAA6/9T/w//T/+D/3T/cv+g/wQAOQBiAFwAGgDH/63/8f/6/woAAgAeADAAQQBgAGAAmwB2AEQATAAjAO//pP/H/xUAbQCZAKsA2wBKAO//xf+2/6n/nv/d/9X/7f9rAAMBXwEsAccAdgBEACAASgCXAN8ABQHoAAcBHwHbAJ4ArQCbAE8ADwAVAHoAqwCMAJkAogCBAIgADgHtAFcA/v/i/+//KQB4AKQAqQByACUAPQA2ACMA9v8nADIA/P/o/+D/xf+V/4H/lf+r/6L/qf+e/6L/lf+g/5X/oP+B/3L/Zf9g/57/ov+t/5P/hv+I/5X/r/+T/3T/a/+4/8r/ov+e/7H/zv+e/1H/Df/q/iX/e//S//P/tv/B/7z/ov+6/7j/2f/b/47/Gv/n/iX/gf/Z/xEA4v+2/8P/yv/z/87/zv+6/7//BgA0ABUABgAEABUAMAAnACMAAAAYAAIAGgDm/7H/nP+//9X//P85AAoABgDr/9v/0v+6/+L/6//D/8z/6//S/8P/6P8wADQATwBtAJcAogCbAIUAVwAyABMACgDS/87/vP/D/yAAfQBvADQA1f9//w//Kf+M/9L//v8rACcA4v+2/9n/8f8IAD0AMAC4/0H/O/90/5P/rf/x/yAABgAYAIMAuAB/AC4A8f/g//P/JwBEAEQAVwBcADQASgAcAA0A8f/S/7//BgB0AJAAbQAPANX/vP/O/8z//v8uAPz/1f/4/xMAQQBEACkAMgATAOv/0v/S/8H/FQAyAD8AOQBTAEoAAAC0/3v/g//b/zsAMAAjACMAMABeAGcATwAKANv/BgBTAI4AmQCTAJ4AwQDFAK0AVQD4//H/5v8AABMA+v/t/xwANgBpAI4A1wCVABEAtv+e/2f/jP/i/zQATwA0AIUAkACKAGIAMAAPAAAA5v9KAIoAvADzAPEA3wC/AIMAZABVADkA7/+//+v/RgCrANIA3QCeAD0A7//V/8H/jv+O/8H/1f/2/14AoACMAEEA8//Z/9D/8f9BAH0ApABpAHYAvADkAPMA+gCkABUAwf+6//H/IAD8/wgANAAAAOv/7f8GAOb/9v/M/7//tP+4/6b/wf+0/2X/hv/H/8H/gf9B/yH/6v7c/jT/XP9V/xz/9/4N//f+7v4A//n+7P4Y/zn/RP9T/0r/MP9I/yf/BP8//57/1f/S//H//v/X/4j/af+k/wIAx//O//r/EQDk/7//1f/M/+v/AgDz/+3/HgAjACsAJwBEAHgArQBvACcAzP+r/6L/ov8GAF4ASgATADQARgBVABEAIwA5AG8AZwBvAMcAuABRAEEAbQCIAKAAfQBVAA8A4P/8/x4APQAuADIAEwAEAAQADwApAPb/vP/B/wIALgAnADAAMgBVABMA6//t/9f/vP/+/14ATAAuAO//v//D/3//YP9X/yP/8P4W/5P/5v/6//P/tP+K/4z/Rv8w/zf/E/83/47/kf94/4H/sf+T/4r/Uf8Y/+P+8P4I/2v/jP+Z/woAJwAyAC4AOQAeAAIA5v/b/+j/4v+8/8f/AgAIAPH/GgAjAPj/7f/g/6T/Zf9M/57/GgA5ABEABAD4/6//Wv+c//b/6/8yAFoARgAKAOb/GABrAIgAPwARAA0ASABgAKIAeAAeADIAVQBiABgA8/8GACkANAC0AEsBNQHbAKQAogBvAB4ACgBRAIMAfQA9AJAAvACgAGIAJQAGANn/zP/S/7b/bf+R/+j/OwB/AIwAhQBiAPb/uP/D/57/SP8w/+b/WgB6AKsArQCMAEgABAAVAFEAFQDz/woAJwAcAEwAjgCFAFcAMAD8/9v/nv9w/5X/wf/4/z0AtACMABoA7f/M/9v/r/+K/6D/nP/Q/zIAngCmAH8AkACVAHgASAAuAE8AgQBpAJsAxwDFAIEAgwCIAH8AQQDo/xUAEQAlACMAXgBEACMA7f8AAC4ABgD2//b/8/8AACkAOQAgAAIADQDr/9v/0v+g/5P/hv9e/1f/hv+//5z/nv+G/3b/f/9w/1f/dP9P/17/7//b/7r/w/+v/5X/pv+k/8f/8f8lADIAQQBGAAYA/v8EADkARABgAIEAlQByAEgAGgAKAAgAGgA0ACkALgAeABoAJwA9ACAAfQB4ACMAeP9M/w3/MP9K/4j/0v/8//P/rf/B/1H/LP9M/33/jP/X/93/7//O/8P/zv8KACkAcgCOAHYAIwDZ/xgARgBgAEgAJQAIADIAXgArAAAADQDt//P/GAARAB4AEwAaABEABADv/y4AKQBcAKQAzgCiAH0ARgAYAMr/0v+0/6D/Yv9E/1f/YP+T/+T/3f+t/1X/LP8N/xz/YP+O/7T/nv+V/6D/qf/F/+v/6P/v/5n/Uf87/xz/NP+Z/w0AMgAYAMX/x/8nADsA/v/M/6//nP/B/wYARgA0AEoAJwARAOL/3f/d/93/rf/F//H/KQA/AGQAlwBrAFEANgCKAJ4ApgCeAMkA/gAUAQUBjgB9AIoAfQCiAOYA5ADJAJkApgCIALgA1AC0AIwAoACeALYA7wAHAUcBVgGyAbQB5wHPAXMBCwEJAS4BKgEWATUBggFNAR0BzgCeAD0A+P/D/6n/ov+p/9D/7/8lAGsAgQBRAAgAsf+g/4z/l/97/3v/qf/K/8z/nv+t/4H/Yv9P/5H/Z/8s/yX/cv+X/6n/6P82ADYA0P/M/4z/Uf9I/5f/uv+m/3j/f/+e/6n/v/9n/yf/x/6d/qr+LP9X/8P/IABPABwAHAApABwAGgAjAD0AGgAVAE8AqQDtAK8AqQC6AMMAhQBEAGsAdgA0ADkAeADBAGIATwBnAIMAgwCXAMUAiACFAJUArQCvAIgAawCiAMcA3wDxAO8AwwCkAFMAYgCVAJUAbwBBACsA4P/Z/wYAMgD8//b/HABIAA8AHABMADYA5P+r/7//2//g/7H/2f/B/4z/Vf89/z3/N/9M/4r/1/+6/4j/tv9l/yf/3P5B/1P/Gv8//zn/cv8p/xP/Av/h/sD+pv6d/qb+Zv5k/pj+hf6d/s/+3/4w/xz/9/4T/wT/6v73/jT/Lv9T/0r/eP+I/5P/jP+4//P/uP+v/w0A8f/z/8z/uv8PAEEAogDxADUBHwH1AGoB1gIoBEQFoAUJBvoFYAXEBPwD9wJfAd3/EP5V/Hv6ffhs9qb0f/MP83fz6/Py9CT25vcC+q38P//vAG0CpQOdBHoF5gUmBgMGkAUCBVsEzAMfA1MCewHZAAoAe/9P/1f/5v8pAIwAJAFsAaUBuwEBAucB4AFoAQUBcgDD/4P/Uf9a/w//sf44/tH9yv3//Sb+Dv4V/kX+HP+M/8P/v//d/7b/jv+v/zIAMgARAD8AfwC4ALgA/AAWAYQBcwFUAUABLAHiAP4AHQHfAMkAqQCZACUA+P+D/3//Z/+O//P/TACIAIgA5gAZAcUANgAEAEQASgCDAMkA2QCxAFwAbQB9AG8AJwAKAA0Atv8NADkAzAAZAUkBewGcAcQBjQFwAcwAmQBcADYAWgBnAMUA7wC/AbcBlgFjAWUBOQEWAS4BMwE+ATkByAE/Aj0CAQK5AWgBpABgAEQATABRAEoAgwCeAJMAzADUAJAABgB9/w3/GP8n/2X/5P8EAB4A+P/z/3j/Of8n//X+y/6C/pj+s/7A/s/++/5M/yz/zf5S/iL+Pv48/jb+Tv51/j7+Nv7r/Tr+bf6H/oX+ev5Z/jj+df5q/vb91/3e/Sj+Yv6L/oD+Xf5x/ij+kv4R/3b/lf/V/zQAYABGAEgAfQCiAOgALAFNAVQB5gCMAH0AgQCDAIUAcgAwAAIATwC/AAABNQH+APoAJAF+AdMB9gERAkUCegLWAhQDQAMaAyUDOQOtA+QDEgSaAzsDhwLSAu4CuwMOBL4EFQVEBWkFMgXPBNEDFANaAdn/vf1I/LH6oflC+D33jfaf9s32Hvf890H5dPrg+4j90v6i/0YA2QAUAfMAtgAlAM7/iv83/wL/fv4g/vb9DP5k/s3+Qf/d/0YAQQAnAKL/YP8P/5D+Yv72/b/9d/3D/DL8yvvR+/L7PfzZ/I/9L/7P/mD/BgCrAAkBJAELAZsA+v9K/8/+lP4m/sb98v0d/oX+Av+Z/1wA5gBfAesBqgIYA84DRwS+BPkEwgTjBIkEAQRGA/cC/ALYAkQD1wMzBHoEaASUBKwE0QSuBIsEGQTIA2ED0gJ8AmACKwL7AYIBNQEOAfMACQEzAV8BiQGnAeAB5wFUAQABeADx/4H/4f5Q/uT9Z/3Z/Gn8CvyA+yz74Pq0+pv6m/q0+u36cPu5+/b76/vR+3X7Kvuk+iv66vmH+Zj5yfk7+n/6f/pn+nb60Poh+2j7xvvY+xX8jvwh/Y/91/3p/en95P0I/k7+bf7f/jT/x/90ACwB8gGiAjsDcgNaA4ED2QM6BEUEOgRdBJIE4QS6BbsGMgeHB9AHRgigCGQJOwrbCmgLRQxPDesNbA7fDtgOsw6ADkcO0Q1YDcMMKQy7CwkLFgphCb0IfgfXBWgE1AJNAa3/c/5A/QT8A/sC+jb5D/j79ir21fWm9Zn1qfV49cn0KPS/86XzyvPT86nzFPMy8m7xL/Ex8ebwpPCp8IPwdvCr8CHxkfGw8ZHx6/GF8izzsPOW9Gv1KvbT9pn3U/gB+dz54vru+2D8Fv3V/eX+/v8kAWYC4ANXBR4HQQmPC4YNNg9YEGQRchJqE20UNRVWFXkVPBVNFRYVthQaFI0TiBJmEU0Qcg8iDlsMpArBCPYGEwUaAygB7P4H/Y/7U/p++ST5/fgH+RD5Dvk4+UP5lPkW+pn6KPvK+0z8yfyI/aj+WgADAkgDiQQ5BloI9wlNC5kMxg08DiAO7w2pDaIMGwtFCY4HpAVjAxkB2P5k/Gv6u/gO9931APUQ9C7zpvJe8hHy9PHN8Vbx8fBr8Nbvt+/77xXwz++h737vUO8v73Xvu+9I8HjwsfDO8NDw/vAz8VTxzvCZ8DnwEfDy71HwtvDk8DHx9PGN8/v02Pbi+Pr6d/38/60ClwWlCGMLIA6UECATrBU2GFIa5htiHcEeuR9BIFkgZCCjH3seJB14G5EZVBfFFPwR1g60C6sIkwV+AuT/nv2L+3X5BPj59ir2gfUI9Qb1ffUb9mH2+/aS92H4VPlR+mH7ZPyG/YX+sf8FAW0C6QN0BfQG7wj6CtYMeg6VD4kRMxNeFNIUdRWCFZcUARN2EYoP4wzRCbkGkQNnACP9V/rJ94j1nPPR8XLwaO/k7pHu1u1I7UHtWe1m7Zvt/O017qjtK+097X7tZO0O7fLsPe3W7VHuG+/570HwVfBw8JfwsfDB8MfwoPAr8FTvFe8K7zjvde+F8L/xbvNw9b73Gvpp/FH/qgJ3BrUJEg1SEMITMBdbGh4dvR+OIhwlAyegKC0pCSmZKOMnjSaYJMghfx7rGkQXehPKD/QL+Qe9A/j/2/w9+qL3lfUD9GTyG/Gp8HbwLvAR8BjwdvAq8c3x6vI89Er1n/ZA+MT5JvvF/JD+NgCCAeMCPAS0BdEGhAjOCqYMpQ1ZDugPdhFPEvwRyxG4Ed4QlQ8xDpAM7gn7BgcELAFq/qH73Pgz9vzzPfIL8c3v2e537gfur+2x7UvuAe8d79Huu+6a7jvuXe327Pbs3uxW7Efsu+wk7ZTtEu6t7kfv4+8p8JXwl/B68A/wKfDs76jvkO/l7zbwxfAk8vrz/vVG+Kv6O/0uADsDbAbPCfEMcxCGFNYYNRwMH+0hsCTXJmcouSl0Kk4qPCnqJ2omKCQdIZAdyhnYFdsR0Q1kCfAExQAE/aj5xvaz9DvzhvHs7zbvK+//7qvufe4D78DvZ/Bw8b7yB/Ra9Sn3UvlN+xb92P6QAAwCnAMcBXUGJweqB+IINgpWC34MoA2ADiEPEBAREQcSDxJxEf0QTRA/D6IN0ws+CYQGkwPfAN79pPp692r0DPJ28Azvze3E7GXsWOyT7GPsWuyP7O7sOu2M7a/tn+2f7Ujt6ew67WTtOO187e7tsu5U79/vV/A18eXxmfIS80/zZfNu8zXzRPNW89PzOPSd9GD1aPbf94D5efuw/ZsA4gNtB0ALYA+sE5MXBBtIHr8hMCXUJ2YphypUK0IrXCoFKU4n6SSTIawdjhk3FawQcwxjCEcElQBR/UT6TPfj9PnyWPGS7zLum+1b7fjsE+267bvulO9t8NrxWvPc9Jj2pfh7+jL8JP5VADoCLQQvBtsH6QiUCSUKzgo8C34LJwycDaoOlQ9oEB4RzhG1EY4RJxGPEMoP0Q4lDcoKQgiTBYECV/8y/Az5+vUq85nwu+5i7Rbs6upb6kDqJupJ6iDr3+ul7DLthe3F7QTuDe5A7ojuee6E7qnuBe9d73zv1O+i8DzxAfKf8mHzhvPt89zzKPSY9Lv01vRR9VT22vao93L4dfmx+mb8jf7+AJcDnAY5CjgOvxLfFmEaLB72IT0lgyfvKKopFSq5KVModyYbJNsg+BzdGOQU6xDFDKkItwTxAOL9UPsr+fv2QfXM80jyKPGT8DTw4++779jvUfDS8Bnx1fHH8vTzWvUg9yD5Fvsh/TD/PgFLA4UFRQe9CAYK6gqnCyIMcwyiDMcM6AynDXwOIQ8/D/wPhBBhEMEPYg/7DtkNFQyHCY4H7ASEARv+PPsJ+K70qfFv73Ptouv06azo4Ofn50ro2Ohy6XHqTOtA7Cvt/u2e7qXudO4s7jXuhO6P7tnuc+/y7y7wovAz8cjxfvIa89fzb/Ts9Jf1v/VC9uv2gffO90b4nviH+Z76n/vb/Kj+6ABPA7AGEAvzDxYU6xevG80flSOGJogoKSoLK/wqUyrvKFInfiTbIOIcfhgnFMEPlgt8B6IDVQB9/Rb7DPmQ9wX2qvSI88nyVfL58WHx2fCk8GnwuvBo8fvxn/J589r0X/YS+G36vPzE/v4AIQNpBVMHzAg2CncLlwzODaYOBg/sDjQPEBCJEKcQYxAMESQRxhDoD2IPzw6RDWEL1whWBlwD2f9i/En5zvWQ8m/v+Ozs6n3pV+hf5+Tmc+dd6NvonOmd6mvrH+w/7XfuFe867zzvW++77zDwP/CD8PPwj/FB8vzyiPNU9N/00vWY9v32kPeo97z33fde+KD4Cvl6+Tv6JPsa/Ob8aP6XACwD3QV+CcoN6hEfFbUYthydIKsjNSY5KHwp+SnPKfEofCc0JTEiuB7aGuQW3BLwDpUKqQZEAzYAGP2T+pz48vY29aLz0PI68l/xsfAy8OXvde8k7x3vfO8L8NTwxPG+8gH0WvVp96b5jfuT/T0A2ALNBKMGdwj9CQMLIAwzDakNvw0gDuUO0g8xEB0Q8w8JEPoPXA/UDrsNOAyDClwIBgUpApf/uvx++V32PfMw8DLt0epC6S3oVueQ5szmt+d46MXoveln6x7tYe5W77PvBPBP8Afxz/F88i7ztvO98+nzPPQg9e/1qvY/9wn4gvjn+Mz47/in+ET4Rvie+H758PlR+qv6WvtQ/M79nP/GAfYDxAbhCcENaxG4FBsYBxx5H0MiSSQNJqkmmiaXJRkkVyIiIF0d4BlXFpwStw6rCvsGRgP+/9T8GPrH9xv24fSX84HyxPEs8cXwIPDR78Dvh++F76jv7u9E8BnxOPKy82v1evdo+Zj7pf28/0gCxgTGBqUIIArIC30Niw5BD4oPUw9rDxAQ1RDwEB8QHA+3DrkOUg6GDXMMeQuzCcsHawXjAvz/+fzN+fD2K/SC8e/upewl6yLqRumO6EHonegY6Yzpc+oQ7BLuqO9q8SHzi/R09Sj2Bved9/73RPiP+N74RflF+V35t/mj+ab5yfnA+bn5lPmq+S/53PjR+L/4w/jr+Gz5RvpF+7f76vxm/kgAMgK7BN8H7wrvDZoQrhMdFzEabhx7HuMfCyHvIe0hTSEpIJUejxwxGmwXRhS9EBoNqAkdBvECUQDt/fv7U/re+Fn37fXJ9O3zefMa88DyYPJg8nzyuPIL81PzyPOU9LT1SPfT+GD6z/sa/bH+1wBcA0QFTgdBCXgKcwtTDCgN0Q0ZDjoOvA5tD0YPDw8YDzYPxA6yDXMMiQt9Cn0IKAYXBOsBIf9F/HH5bPaI86TwWO6j7C7rLeo56bXo3+ic6aHqdut77Cfu4e978Q3zgPTM9XD2xvaZ91j4tvha+Gz4ovj2+OL48vgv+Zb5CPpX+kz6PfoE+sT5ofms+bn5/fkA+uX51PkE+h76Z/oQ+/n7bv0A/2UB9APnBoAJPQwED3sSOhUQGD4aJRzdHUAf8h/WHwwf2B1cHE0aEBj2FLURjQ6LC3AIjgXdAkoA+P0c/FH61fix97L25vWK9R71xPSN9Ef06/O787bz+PN+9CP17/XP9tb35/hE+tr7Uf0N/8kAZALBA0YF3AZLCHcJgwpdC+ULgQzODAcNKA35DNsMegxFDNULSws2CuQIIgc5BSMD5ABx/uv7UPm39nH0IvIG8ETuJ+2W7CTsH+xa7JjsDu2q7bDu8u+a8WHzNPW/9sD3N/i4+Cj5x/nl+db5gPlX+Uf5LflF+Tr5Q/ki+f/49vhZ+ar5sfmo+bf5y/m8+cn5yfnR+cD5GPpr+pv6oPr++gj8mP2V/ysC5QSbB8EKEA6dEc4UwxcbGh8cEx51HxcgKSDlHx8fkh1rG1cZ0BblE58Qew2BCocH1ARkAjIADP4y/K36dfl9+GL3kfbd9XL1zfQv9KfzAPOO8lDyXvK88mnzUPQ29Uf21PeH+Wz7bv1i/5oBXgOmBBYGegfZCOwJqwrdCscKNQuNC/AL0Qt1C/MKGwuGCyQLugqfCXkIKQeiBbgD/wENAL39Bfu2+HD2LfQp8qbwue+/7uPtb+3S7b3u2O8F8RnyYfP99KX2N/gd+er5SPp/+mD6g/o0+s35NvnO+OT4tviC+Cj4N/hj+Kv40/hk+YL5wvkT+tX6KvsQ+8H6jvpI+iv69/kP+lH64Ppu+yL8gv0p/08B4APgBmoJHAzCDgkS0hRuF3sZjBsOHUQe5B66HmYdohugGWkXNRWKEtIPywwAChkHfAQ6AgYAuP0I/Lr6z/nM+A/4P/dz9nT1ufRz9CD0nvNu82PzafOi8wX0d/Qa9Un2Rfey+Gn6U/yH/noAFQKaAykFggaUB08IDAnACUQK4gpfC4QLrAvuCy8MFwyhC7wK+QkzCUQI9AZgBbYDmgE9/xL9nvod+Nn16fMr8p7wau+a7jLuXu627ijvhfAc8qfzI/V+9pT3mPiY+WL6ovqb+gL6dfnG+Fb4N/jo93b3MvdI93b3XvdZ9173c/em9/f3gvjB+Ff5wPnP+dj53PnE+XP5fvnh+WL6Hfsy/LT9nP/aAYkEgweBCtEN0RDYE58WIxm7GiUcgB00HlEe8B0IHZsbhhkUF1UUXhFXDi8LVgh9BfMCrwDl/iH9p/tB+iD5U/ii98T2EPaQ9cn0BfSG8zDzH/Mq81rz+PPP9GL17fUi94j4C/oR/EH+awBbAigEAwaFB6cI5QnoClILZQtzC8ILDwweDHYMmwy6DLoM6AwWDZ8MiwuDCmoJ0Af1BbgDAAE6/qz7Tvk99xr11PLO8JDvwe4W7rrtC+5W7g7vT/De8TfzJvRM9V326fZ69xr4hPhC+Lj3NveR9jH2EPYA9t31APYU9l/2qvac9rD2F/ed98D3pPfQ9zv4O/gw+Hf4oviI+Kv4fPl7+qX7/vz7/ncBSwRxB9UKMw6HEbQUsBdQGo0clR4IIB0hbiE5IWsgFB/nHGoaWhdTFBURsA3BCugHNgVdAtD/rf3u+1f67/jJ97n2lfW79Dr0uPMh8w/z1PLH8tDyPfO98/Hzd/R79Rn30/h9+k78Rf4yAC0CWQRJBssHBwkTCjoLPQxxDJQMwAypDXUOzQ7EDqgO7A7RDq4OQQ5jDT8MrwqTCAAGSwOVADn9CPpF94n0dfG27rDsTOtQ6uDpcOnG6dzq/utO7QHv1/Be8sjzAPX89Q725PWV9W31RPXo9Sz24PVy9Uj1+/TU9Mn0xPQR9Vr1/vVP9mP2sfWx9Zv1xfW69Zf1U/Wi9VT2kvcS+cX6M/3B/+YCXQZECgoOLBIgFrEZ9hwBIA4ivSPhJG8lLSVmJMQisyAlHvYamhf3Ex8QfAwQCboF0gIpAP/90/vY+T34OvdP9lr1ZPS78+jyP/Kh8STxB/EF8Vbx3PGf8przxvSC9oj4bfo2/F/+mwDdAkoFUwcZCZUKhAtFDL4MKg03DbEMLQzuCyIMVwxrDJ8M9Qw9DYQNOQ2ODHMLQQqPCL8GMQSwAYn+YfuI+OD18/Jt8B/uSew7677qb+pQ6svqjOt77JLtzO7178XwrPFV8mvykPJX8mDyy/KG8/TziPN786fzo/SV9XD2/fZr96336vdz93z38vbp9rD2lPaU9j72efYO9/732fg0+tH7aP5wAVcF+AgCDfYQtRWCGoge1SHNJOsmXijTKGso8ibCJFIiSR81HNYYEhXREKQM5AiZBZIC2f8U/X36T/jV9rH1s/Tn8w3zKfJN8dTwffAN8NTvxu8g8B3xV/Kp8y71Mvd8+bD7+v14AKYCGgWHB4cJKgsKDIEM4wzmDOMMGg1kDKoLxQpqC9MLQQz7C5AMSA2YDcEN0gzTCz8KbgiZBTsDNgBn/f35+fbV8x/xoO6w7ATrWeqd6vfqGOvq6zjtU+5F7/XvjPCM8KvwjPBi8BPweu/T7rbuIu/G7yXwZ/Di8Nrxj/Mu9Vj26fZD9533fvcV96H2efa29Rz13PQj9Tn1uPX09gH5ofuj/oEC7gY0DM8QghV1GoAfniMOJ18pCyu/K54rhypCKE4lASKpHusaMBcrE1wPewvQBzwESQGs/jr8HPrB+Fv3oPUi9GLy/vDL78HuSO4L7p/tm+037k7vG/F38wD2cPjt+r/9cgAWA1cFIgcgCfUKKQzdDA0N9QyDDOcLcwuGCyoLzApMChsL5wtXDBoNhg2UDpIOvg7MDaoMCwsKCdcF5gK8/5n8IvnD9ffyYPBa7hftc+x57P/sbe0f7qXuc++W73zvi++s77TujO277Prrmet9633riOvJ63XsYu0N7l/vpPD/8RTz3PP08+vzzvNU9AH0ZvRH9C30KvMU83Dzu/Q09w36KP0pAEcEuwjnDYISbhe8G3QgUiSfJwoq4ivhLOMs9Ct8Ko4oziUOItYdmRllFe4QdgxeCMsEngGU/nX7oPjt9d7zqfGq70juF+0J7DbrD+ug64Ds0O1373fx/POJ9hf5u/st/tQAYQOtBaoHXQm2CrALQwx4DMcMwAyXDJQMegxtDO4LYws8C5AMIA5TD/gPww+0D2kPNg/IDVYLjwi2BdsC+v9e/dL68fdR9czzqvJ+8U/wce/X7sjuoO6E7kTuPe4U7t3tPe1s7BHrLert6fHpOuoy60fsSu0H76bw4PFD8gvzXvNG8yjz/PL88vnykPJf8QTwc++37zzxpvJ69PP1Ifjx+hv+aAGsBOMHLwtTD0QU4xiPHP0fqyMtJ/Ap3islLQUu1y3zLFEr1yh6JXkhvxziF+QS+A2tCMYDI/8h+4n3JvQU8cjuTu0u7DTrteqb6rfqV+tL7G/t0+5M8DLyh/Rm91P6If10/7kB1wPiBQ8IzwkdC/sLaQy4DIkMCgyNC9sK7wofC9sKXAp9CpYL7AzBDRAOXw6YDlAOjQ0/DDAKswemBIQBm/75+zb5fvam9EjzevJ38Xrwhe+/7l7uh+3u7FbszOt36hTpbein59vmWea25tzn/Oh66pnr7uzt7hXwtvBE8H3wcvCF8PvvRe/g7pHubO477oTupu8F8ffys/QM93X5pfsg/iEBkARzBxILCA+xExYZ3R0XIv4lOCr2LTwwnTGoMeAw9y5zLPoo8CRMIHQbkBbqEY0NVgnABJcA7PyJ+R32nfK171ftpOt66hbpR+hx6BTpA+q668LtevCl8832J/pc/YEA/AIeBeMGUwh3CTIKogr+CjEL+gqOCjsKMApwCrwKMwt+CwALrwoDC3MM+g0ZDoINAg1EDeMM4wsjChgIWgaWBMACkAC3/l78YvkG94P1UvSo8gvxru+X7pvtd+wI67DpGukZ6A7n1Ob15uLm8eZ553HoXulO6jvrmuy87TrvX++L71Xwv/BK8NHv5e/f78Lvn+/W7xjw5/Fp87T1DPdF+dv6MP0c/40BdQQWCMcM0hHnF8QdcSL1JY8pZy1uMNgxkjGEMLkuFyzTKD0lyiFDHYUYGBTzD0sLgAacAUb9gvkm9vfyn+977ArqceiL5z7nludQ6LDp5Ovi7jTyx/UH+fb7wP5EATADvgQhBhEH/AegCEMJ6gnFCtELJAxODAgMJgtwChYKhQlwCF4H+QaJB18JRQuAC/gKpQukDMsM+Qu0CkEJawc/BTUDhgGv/0D9Zfqe+Kb3FPZD9HzyPPH37yXu2eua6bHogOeZ5ijlW+VD5Wrlpub753vpb+q86+TrUO2a7oDvOu8O75zuS+6a7uTuXe8g8ObwivBE8PPwU/JH9Kn12Pd8+Yv7Lv0j/70BCAWgCJIMbhI/GQwfvyN+JzcrlC6nMNEwxy//LlwtuiqkJ48kJSFiHbMYCBReD84K0gU9ABD7lPaJ8hDvFuyw6Wvo5+f453HoZen/6pHsle5S8U70//Yk+Uv7Yf2m/80BfQMlBdMGhgjsCeYKdQuuC8QLXQvMCkgKTAlTCPcHCQhzB80GGwb+BS0HSQn4Cq8KYApeCjsKDQqpCIEHMQbWBAIDrgEJARH/uvxG+gH5P/e59Cfy3+8Y7mzsfOoU6cjnDuc/5urlHOb/5SDmi+Vk5qnmEei66CXp9ukC657sm+0M77vvDfDE77DvU/Di8CHxUfBr8NLwCfP99Jf3ZPkE/EH+/P/pAXoEYwi0C7YPpBRQG3Yg5SRmJ+gq6y3sL68v2i6rLeIrSSkOJ8gkniH9HC0YphMjD60KlQXB/+z5ovWM8vLvlO3O6+7qs+rq6u3rpO1J72XwefFu8yT21fho+9P9kf+WAdcD/gVVB5AH6Ad/CBUJ5Qm6CiYL6Ao9Cp8JKwl/CPcHSAejBsUFxgRmBKsFXQlQDPsLQQmfB8EIVQoPCioI3QU+BGYCCgJ6AhcCU/8S+xT4BPeU9vn0pfFh7iTszus/61vqoOmU6GrnbOUC5pXmbucu5zPn6Oh86pfraOwC7vvvGvAg8CvwmvG98TPx/PC48IXyIfOH9Ar0HfRv9A72EvjL+fz60/s5/Vr/XgOkB78L4w5RFAEagB+DIqEkXSfWKXIrhivyK18sfSuHKa4n3SXSIqkeOxmNE0MOQwnaBK//nvrC9k70ZPIN8EjuZO0k7JDqzOmU6h/sl+2L7yvy1vSH96D6Lv1x/lf/gQAIAuMC3AO/BVsHGAj6CK0KTAz+DNAMAQyXCgoJLgjmB7gHpQYhBggHRArrDSoQcw4gCpgGzAVOB2YHqQXmAiYBIwA7APMAlwAq/ej3JPS68tTyNvLa70jttOsZ7OPsvexR62Ppuedr5tfmkee66Ffoh+hZ6nbtJu/R71vvrO8271LvaO9d7+zv2/Az8YTxXvL08xz1TvSX80n0cfdb+Zv6dPp5+wv9yv+XA08IsA2lEiMXeBvFHkQhkyOAJuQoLSrkKgEs/yteKlooeCdGJQIhYBsaFv8QzQtMB9EDKQAE/ED4RvUp8ijvHO3M6yvq2Oh56RPrNexT7aHvUPJW9EL2kfjD+q77pvw4/kQAWQLPBEwHlwhBCTkKjQvYC24LCwv1CjAKHAobC04McAv9CTYJiQuLDnUQ+w49Cr8FqQPMBQcISAi4BYwCZf8q/f78yv1t/DX4ffOC8XfxfvE78FruE+1P7NTrlesE64TpmOeT5nPnkemm61bs+Osm7JTt4O7Z7vHtQO4b7+7vt+8L8KLwB/Ex8Z7x6vId9E/zc/Ey8FrxQfTj9xH6Ovuq+5795v/uAtgGwgs9ESEXBxzkHo0f/CD2JK4p3yzvLQ4u9SxZKvcncSePJmkjCB4+GIcTZQ8zC/IGPQK7/QL6fPe+9GjxXO6x65zp2Ogo6jzsne3u7U/uoe+l8Qz0n/bg+H36MvwK/h4ApgJrBf4HxAkmC2YMhg3XDWwNVQwPDP0LgwwEDVYQ9RHtDxILsgjUDI0SPRRPD1AJEQVxBA4GRQmICoUHJgGA+9j5z/tB/CD5SfTx8M7wGfGI8DLu5ust6ifpIuoJ7AXsBOmS5f/kR+fG6n7svezf60zr/Ouu7LPt3e347h3vq+577mzvK/Ab72HuDO/I8fHy8vE98FfwI/Ot9x76yfkz+Nf4K/woAUUHgg1nEoYVAxhsGrIcESD0JMspZCzLLHQthC1PK6onUSZuJmok2h/gGj0W9BBqCwoHygN4AP78pvmK9Znw3uyw6ljpvOhs6RXruusp6xXrVOwu7j/wBPNP9vL43fqB/CT+9v98AroFiAhKCvYLLg1jDRINFg2PDdMNIA5cD+4QlBBiDosLCQvDDQISARXXEr0LpwM+AScFwwqZDDwJwAKb/FD5h/ko+9n6qPfR837xA/F/8BLuVuog6GHpgOwq7mHsbehS5XLkAuac6afs0ewr63vpoOk264bsg+1n7qPv8/BH8XLwO+5X7ZHuZfGL9MX1tfS/8cbvrPFD9778QP1E+kL4qfpw/+UEkAppD6MSfhXwGDkctx1hH0QjZSgXLLQtbi6WLBwogiQcJTgnFCaVIXwbiRXSD3ALPgkGB1YDC/9o+3H33fJq72LtretS6gTrqeys7BPrS+oR66fsIu/Q8gD2g/ca+Hz5hvsD/mEBswQRBwsIGwmtCrsLSAwJDU4Oew8REdUSRRPKEOEM5gqaDUYSQBV8E4sOVQpOCYkJQwkHCWcI9QWaAcX8Mvry+NP2UvSK84D06fP577fqoeew517pqOoN6wXqsOeH5fjkLudW6rjrK+sd6tHqA+xP7MHryOyc7g3w8/A58Ffw++/1717wMfEP88XyHfGF7xzw5fT7+fL7T/r19zb5kPxfAd8EdwlsDa8RVxYkGskb5xqgHD0jMytnMEIwUS1pKFAkMSTBKHgs7ClOIoYa8RQdEkcQsQ4DC6sFXAAr/Mj4o/S08ATuROwb7PDsUO3a6lbnj+Vw58fry+8n8kryRPEo8aXzU/jO/BUA5QElA7kEtAbDCG0KOgvwC7INDhAJEv0SqxJwEIcOgA7qEWAWnBfiElMM3wkwDQ4QwA49CloGkwNPAWv/df6z/Hv4K/SH8nfzQPOu79zqQ+iG6Xrr4+qQ6Kvm1uXL5fvlHOhO6kPqCOiG57Dp2+uO6/nqz+wM77Pvj+4S7pDtAO6w7jPxuvIY8zHxVu9B7eDu//O/+rj8VfoJ9or12PdU/n0FOgugDdkNwhDTFUYZNBnkGSUgyiijLrAu1StxJ+gjbSPPJ2ct8yxrJRobmxOJEdUSvhPpEF4KUwOw/fX5yvYo9PTxwu/U7Qztnuyb6lrn3OVq54jrJO+I8BvvtOxu7LfvV/Wk+hv+1//V/0YAfgJzBt8JTAz8DJ4N/Q0sD5cPQhKSFp0WnBJMDroRlhjWG0gWJBDxDI4M1AyaDREPCw08BlD+a/oy/Mb9QPsb9nryPPFP8BftbOrg6bXqlemv6ATpuujq5ZTjh+VG6ejr0eo96ePoiOlh6qbr8e3A72vwC/Ds7fbst+2H7yHx6fFx8iTxou6/7M/vOvbO+oT7jvf59Mn0Rfm3/vgDBwg+C0QNlBAXFk0ajRoFGj4fEimvL88uSCowJk0kgSVeKngvJi5CJiwcIBZ3FegW1haaEsoKfwOO/xj9Kfop9yf1yfKC73PtTezt6aTmpeVQ6Ljrqu2B7d3rEur76qbvffUF+VX6uPrH+mb8mwASBuoJPgu9C6QM0Q0uD2ARVxTrFSwVZRS1FaUX2hhiGP0VMBSJE48SzA+KDXMMQAvSB0IDnv+I/ej66Pf19bX0cfKa7sDqXukt6qPqMukZ5yjlu+QO5dzlGecv6NrnBObW5aXn1ekp67HrVOzZ63br3ev57UHvC+6f7ZPuYfEB8szwd+467QTwBPUe+nn7yvgL9SXz0fYv/rkG+goZCysKgwyQE2IZJRuAGvkdfCVcKxAsqilzJyEmciZkKukuDC4uJmEcFBdeF/wZvxl0FHULZQPX/5b+S/3b+sn3A/Sd7z3te+w566/obufS6CPrnOyt63Lp8OfI6Vnv7PRI9wj3v/Zb9+P5tf5hBOgHoghECPQI4ApTDc4POxJpF8kY9BU6EIERfxdpHMgachdWFRATBxAlDZEN4w4uDTUI1QHT/YD7ivit9XH0RfSF8iDt4ueZ5hnomeh758nmZOZI5MfhoeJq5cTnr+iZ6J3obej36PHo9ehx6rbu3/Bp7j7qe+mA7IXwkPKo8o7wP+1A7IHuyfTn+CP6aPbp85/0P/ojAD4EsQWqBzUL0A/kFC0YpxcLF30cNCd6L5kvWSq+JVAkASe8LHgxry8XJ28dwBgDGogcfxuLFb8N4wYSA8kAG/54+sr29vPu8TLwFu4b6nrmueXH6DzsAe1k6gfnJeYU6cjukfMc9XP0M/Tm9dr5cP9HBGwGVgawBoYIwQrmDH8PpRKJFcMWEhUQE2UUPhisGqsZgBg4GM4WIxJnDS8MBw7nDg8MxgZPAWb8NfhW9rP3Wvj59C7ujuhj5xjpJuoR6enntOb85GbjDeSF5UzmIObU5jLoDuoB6gTpZOh36nPtxe2t607q+OuV7mnw1PDH8J3vSO7V7lfywvY8+Q34EPZi9cD3gPuZ//MCEAaPCEALiQ6DFF0YJBjyFZcZZyNbLIgtVinHJXElcycNK0cu5C3UJw8gbxuFG5AdiBzQFh4PSQlUBhcEfQAi/Ib4xfUC84zw6u0P6/vn7eY06Azq/OmW5/Tkv+QI6CTtuvCa8Zvwx/A782n3IPwjAG0CdAPYBCIHbAlLCz0N5g+hE/MWRhd6E9UQGhTLGo4d1RlJFbQUNRUjFLERug9/DX0K3Qc5BqkDD/9i+Q/1jfSX9RX0q+7f6Kbmz+cc6bfoxeZe5NvheuF243bmhebg5PPjz+Xb6JDqdOku567nMutj7nTueexv67br7O168AfxbO+L7O7tgfIl+Bv5bfWt8s/0ZfqN/iUAzgDLAjcGmQr0ELQX8hitFOwRhBpnKEAwfCwIJechvSN9KLot1C8BLMwjlh0LHCUe+h6qGykUkAwFCSgIRAXK/8P6sPik9471L/IU7g7qrOeF6A/rQOw+6rHmcuT75T3rnvB28hbxm+8D8R719fn4/XoAmgHzApAFhgi4ClMMFw4sEF4U7RcCF0MR2A62FD0exiFPHAEV7hDUEQcVwxfTFc8O1QbuArQDegWBAzn9OvbW8ijzcvM78E/rludM5sfmT+eF5vXjs+B84Pji5eVI5sPkW+PC49fmOOoq7FbqeuhH6J7ruu297tnus+9l8GnwGvA08AvxxfLJ9DT3Xvc69rf0yvVw+qT/EwL2Ae4C0QaRC58QBRWxFngUphMbGk4lfCwzK7smNSQfJJomRit1LrsrbCTrHokdCx6+HZ8b6hZ+EJELAQlqBp4BVv0k+0P5ofZN8/vvZezv6WHq7eu260/pWOeQ5qXnLuvE773xkPDw7wPyyvVZ+WL88P6kAEgC/QQECH0K/QueDe0PZxSlF5AWZBF9D/wU6h2HIiceYxV1DgIPzBR1Gu4Y4BCDB5oB3gEjBfgFhQDF98/xEvHT8YXwE+1w6TPnl+aZ5p/lu+JW4FfhxeTd5t/lueJ+4Cvhd+Wq6gPtK+vC55vmmucn6xDv6fHZ8H7tWuvZ63zvkvLG9A72JvYj9S/0BPX4+Cj9U//E/iH/bAESBncLjRBCFXQWHhSCEuEY8SPcK4gr7yaVI1EjgyWCKc0sECzcJocgghz6GzEdmBxHGP4RkgwxCakFdQHy/eX76vmJ9oHy5O7+6xLqLepa6xXrXOkJ56HlruVo6K7sR+9S7/Tur/Cl89P2Jfp7/Q8AmgFlA9cFGgizCbkLFw7oEacVPxZdE3kQ7BP8G90g4hzoFMcPBBFQFXUYvxcYEnEJwgK7ARwF4wYVAjr5h/J98CbxafAL7rTrnOlS52jlnuQG5F3jPOOB5Mnl2uV75OfiEeR+56Dr8uxv67/pw+ln6zbtTu/x8PDxtPCd7yvv2u+p8dzzp/Ya+Jn3oPUv9Ff15/jK/fgAHgKAAbUCkQaDDA8U0hhAF2cSeBHCGhAnoC0QKxQmmyKJIvol6SsEL6AryCMQHbsaNxyLHYUbTRU4DhYKiQewA1X/W/zO+mX4SvU48pXugury5yXpf+sA7DHqxOf05d/mROvl743xgfAu8PDxXfTq94z8bQDEAdICHgXFB3EJQAucDYAQqBNwFScUZBGZES4XKx3gHH8XRBKPEHQSGRViFoATNgyHBH4BpwNSBmEEY/2v9XPxZfEB8qvw1u0b6s7mdeUg5gnnEeb841DjpeRk5pvmbOWE5PLl+eip61bsK+uu6grrYeyU7ZjvAPHi8Arv6u2X7lzwLvO/9bH3qvYM9MvydPVB+qX95/7p/VL+JgFKB1cOPhX1GNgVRA/YDkMbTStcMlMtVSWMIOEgTyZqLmYzjC+BJe8bPhiGGj8eOx6NF5AO/gfNBEcBsP2n+z/6Wfco84vvC+wv6GLm4ueH6kHrzumO5sXj4ePs6CDwzPML8z7x/vC88qL3Nv60A5UFHgUNBX4G0QhrDEoPQRFMEdkUoRokGIIQRQz4FPYebiEyGcgQTQtsCyQQNxRPFDUNBgLR+bn5xQDtA739+fJJ7NnrKu4E7t7st+qN5/njeOO75UfnW+Xy4svjoObv6S3qgueF5Wfm7Ogr6yzsCe5h7lPtUeun7LDuDfAz75ruKO9B8Cfy8fJb9Ef01fUn96D4qfo9/On9Tv5WAYAGAA0tEY4UwBVnFFkTcxjdIyMtuy4pKmIlxCIDJMEoHS4/L+wpgiHtGV4X/RgnGxEZgxHXCDYCWf7a+8X6t/kr98PyZ+7U673pW+gT6ATpoun/6TrqY+kT6Oroxe2c81P3d/hj+D34HfkA/WwD/AgQC6IKqAnWCfkLqw8DE/EUbhe5F0oUyQ5JDnYUihtRHHAXbxGQDFoK/QtfEBYSWg20A3f72PkC/Zn/gv2697vxwu246wXsge2o7dzqe+cY5qDmOecV5gzlbOU46AfqzOkB6OTmzOZF6Ezrd+5o78Ls/ecF51zrR/HK86nx2OwD6n7q0+6g9Uf5Y/iw8yvwc/G892f/LgNkAoMCCQZ4DCITGRqCHH0ZexVhGgEn9zFtNNsvFymCJCUl6ytnMjcyaSqfH2MX+BT0Fy0boxfMDXcDd/2r+pD5Z/gq9nvxEOyB6bDpyumi6J7nIee35wrqJ+3V7g/ure1X8IH18/r9/hYBogAYADgCCgdKDKAPYxATD1MNWg3OD7gSAxV3F6YWYxKdDIEM8RElF/QVPxF6DJ8J4gj2CAAKGgq0BogAv/px+Un7kfsA+JPz6PD37/ftbOzq62vrq+ml5/HmyudQ6DfnjeVh5X3mnegw6XbpTOhS6AzoMuiF6kjtPu957Jzpvedv6pft5vD+8Arvqeub6r7tMPNv9+T40vc19rn2/fmo/pcD7AexDB4RihcDHREebBpHGJgfXSymNjo4ETTyK6oksyK6KPswOjP/K9UeBxLuCywNFRFUENYJBwG0+L3xWu5j7mzv0ewH6YjmPeZr5iDm8uVe5ofoJO2D8i71/fRS9BH1dPgD/ikFfQqUC5sJWAiYCcwNnhJjFa8UqBGoDjkNEg4LEtUUfBNSDjsKdwukD7IQvw18CacG7wWpBtIHuAdsBHz+gPm2+Bf8Xf5t/I/2OfHm7ojuwO/M8ADwu+wL6XPneOj66Vvq6Ojk5rnlP+Yv6Ibphulv6EDn8eYc6K3rw+557p/qFei+5X3pC+zF8PLv/O3L6ozrL/EZ9u/6v/gs+CD32PtI/5YEyQkjD3MTvBidIBkkeiKuHYcgZik/NHo50Dl5Mz0qJyPFIzgpbi3QKqAhphQgCioGUwfJB0sE8v1a9k7vieoL6YzozOYB5R3lEOdj6T3rSOu/6dLo/uvu8tH5/f1//z3/qP68AHkGjQ3oEVMS7w/SDJYLXg1JEAQSCBEjD/4M5wt0DacN2wqZBY8D9QXDCqANqgzuB6gCiABWA6sI+wtTCtcD2/xR+qr8jv80AMb9sflg9RLzrfLx8qzx2+3J6tfpTuoO6sDo5uZ15UDl1OVi5sXmQuf95/HmOeZJ5SjneugK61Ls3e3w7MLqcOm96THsiO7H8NTy9fSj9ln3XvgY+lj9XgDtA7UHrwyaEu4Ybh+CJCom2iTLJM0pUDE3N1Q4zDXZL6EpFiacJpknnSWZHs4UYwtXBbECqwD5/Pz35vJA7i3qGeeH5UDkHOOO4zbmR+qX7e/uL+9374nxi/bH/FMCrwVMB4cH0geNCbUMjA+sEFIQOQ/eDYEMWQwIDI4KFAjZBSQEwgQ+BpkFVgG8/M78CAKxBwQKBwlyBf8BcwFpBUUL9w4zDRcH8AEZAZ4DxASZAnH+jPot9w/1RfS88mjvkup751LnKegf54Hk5uEO4B3gAOLY46XkiuR75L7juuOF5fHos+rV6QDpkuou7Gbt8+2K7qbtju067zLzHfh9+kf7dvrX+t38igDYBJgJ+g/+FsUeriYsK+cphSVaJqQs6DQGOQo5GzX2LXUn8iS+JWslCiCfFkcLWQIt/lb90fvu9knx1ezD6c3nKOfb5grltePj5d3rKfLI9uD4Rvix9236DgFECJ8MrA7ADkQNDAxlDSQQERGiD7INEQz7CWcIOAedBJAAVv0i/C79U/8qATAAIvz5+cb9fQUsC/wMggtSCR8IcArDDzIU+BTCEFQLvAcrB0UHVQXHAJz7kPeC9JDy2fCf7SLoMuMC4W3hKOIW4l3gIN4S3Qrei+CF4THizeLu49vkK+YX6IzpLum66CjqMu508BzwTu1H7FzrCO1S8ev2v/o6+576dfvR/akBdgXGCQYPxBWjH2gpFy9dLgIrFCscLx812jjOOU42gy+kKGIl9iT1IpgcHxK9Bnr+qfqU+Xz3H/NZ7WLoBOZq5bHmOOhD6AroEurG74n22PvJ/i7/zP8HA+0IIw/2Es8TSxKpD8ENTg76D9APIQ1hCTcGDARkApkA1/2F+aD1svOq9HD4svv3/FL70Po+/ikFDAyiD0AQtA9CEOISORfCGsIagxZSEKwLCArgCGsFCP9E+PnyIO/I7GrqLOdC4kvdGduH27jcztz526Xa+NqL3VnhXuR+5Q7loORZ5lvqS+4877Xtseur62Dth+/n77TuouuF6nTrgO//8+D2V/et9+n4XvyX/5wDeAf1DIcTPB3+KNowSDIpLx4v1TK1Nr83vjb/My0upCgsJjQlqSGcGUUOzQJt+n72vvQp8hHtLeh+5QrlTOa16OPqfurt6cnrr/Ar91j9EwINBUQIAA13EikWrRbHFMkR0Q4jDX8NMw4JDfkJ6gUkAnb/MP00+jf20/Hp7gLukO9w8873V/qB+v37cwFdCeQPzRNCFZkWcRheG8MeqCBhHz8buxVFEXMOrgsQBnD9AvXM7p/qGecj5IPhL97B2qnYFdlG2pPa+dkU2n/c+N8G5FfmbOfm6EvqROzq7WfwOfFW8fvv5u7r7nzvb+/L7XjrneoK6zjt2u+o8l30j/aC+SP91/9mAo8GrQyVFPoeYyuVNAA3IzW9NXo5ZzyLO8848TRtL7cpMCY3JKofzBeNDboC0fl+9BDxVOz05Tnhst8G4ebjvecP61bsIu2w7zz0n/nS/mwDDAfmCiYQ6RVTGT8ZSxfXFPkRXA+YDWULYgeQAp3+AfwN+mn4avat8obug+sV6x/sW+8+9DP5JPyY/p8EHQ0QFa8ZpRx9HtwfECE8IngipCCCHOYWiRFaDYcJjAMm+53y5utX5qDhrt1f20HZGNc41l7X8Nnl2yzdpt4m4Cji/ORk6Arrvu0w8GTyY/M99Uz1W/Qd8S/vy+1U7I3qHugQ577m+Oco6k/s2+16717ybPaZ+u7+zwEABgoMTRUhITEuMzjdOww7WTv0PQFAGj6vOXY0eS4pKOQjQiELHPIS3Qec/W31Zu+z6vrkr97B2lbbHN+S45rnZOvf7fLv+PM/+ooAKQWrCPsL2Q8ZFc8awh0QHaEapRcaFPEPSgwUCEwCE/zD94r11fMt8kHwpu0I65XpA+qj6mnrFe9r9eP7+AAZB8QOfBY6HbMidSa9KLooxye8JaoiiB4TGQASHwuFBeD/e/iw7/vnr+GB3K7YfNYy1WLU9tNT1SHY4dtV3y7ikeQH57jpIO3J7/bx5/Ox9a72gffm9w72evIQ7+DsreuI6Qnnt+OX4fTgA+I45YTn4eru7BDx5vWf+yAAWQQLCjASZh1GK+s3Gz9OQJZAukOiRgBGO0H2OmEzXCvuJNsgyRs+E24I7/1p9S/vQOqn5LvdMdg013LaN9/U49voJO318Cb2Xv2UBOcJyA3lEOMTGxjEHMQfsh9ZHbkamBdvE6YOuwmIA1n8u/YY8+rv6+xq6onocOfg54rpcusA7Lrt3fCs+eID2gvgD5AT4xrUInQquS5vMXUwtSyAJyQkWSBrGY0OpQMA+5P1OfCM6ZDh5NpL1ibTu9Hu0WXT8tOW1P7Xbd4H5Y7o+eqv7ebwPvQ093T4wfir+PP3NfaU9L3zqfGd7bzoYuYV5bfic95S2zPbgdyM36XivOaO613xePcz/UYDJAmMD5YYDCUtNI0/fUTQRd9I8EyrTfBJoENmO8UxzijyIdsbBBRECrb/c/aA71Tq3uTt3W/XxdR11nvaFt8s5J7pPu889tT+OAf0DYgSyhXSGH8cVSC3IngiDCB8HeAavhY2EeQK5gN2/EL2ZfFZ7RTpLeWs4tDhi+KK5HXn0en868vvYfbj/m8Hlg4CFGUZOyDNJ5ktsjDhMQwx7y0kKacjAR1BFH4Jx/4D9pPuLue/323ZMtUJ0+7Rs9HH0qrU/dYJ2i3eaOMi6Fbspu9E8wH3vvl7+6r7yvts++r5dvdq9L/xH+486tLmS+T14cfen9sK2WfYNNms2yzfjONZ6CruE/Ut/E4Cggg9D94XoSLsLwQ8sUNPRj9ImktyTRpL+ES4PNcyEilvIEYZQxFrBw39IvQD7aHnAeMV3tzY19WC1pbZHd1p4RbnGO4H9sn+nwfyDmsU6hj6HFUgqCKII4Uixh8uHKYYgxSuDjUIKQJt/ID23fAQ7KzniePw4GbgNOGy4gflAejf60LxhPiJAUoKVRGoFo0cTyMeKuMuNDHNMeUxmDBKLAAmMh4JFV4K0v9h9svtb+VN3SnX6dPk0nzSXtL00xHXk9pH3rDiXefB6+nuE/JY9mv6U/xv/Pz8hv0s/R/7vvcM9HHvXOsZ5+rjBOFm3j7bhNh010zXhNgB2xzf8+Ow6T3wnffN/gQF9QqQETEajyRGMA88wUN6R+dJjk1VT8RM6kV1Pawz5CiBHsYVVg2iAz36Q/Kx61HmtuE43rjak9gp2ZTbVd4f4unnL+/a9sf+RQffDjcVlhphH5QiziOBI+sh+B4yG+8WwxEOC+8DuP1E+OHym+0u6aHlBuO64fXhmuLA48nl4+gK7XPyjflMAgALsBILGawfLycULq8yODS7M7wxRy4HKZIizxryECwGmPuz8kbrC+RY3WvXj9O50YvRg9Iq1TzZst034jfnk+wF8aP0wPet+nL9yf7C/gr+I/1l+x35zvWR8Y7t7en55RviD9/z3Iza69gY2HLYDNlZ28HfQORQ6m7xDfrXAM0G4wxwFB8cuCNxLKA3V0BaRI5FaUi6SohJakSyPOwzKypIIJsWVg2IA/L5QPFs6nflxOLp4I7eU9x43ALfk+I/5qHqiPAg96f9qgTEC6MSVxjeHHYgkiIwIxsiYR8iG/8VXxDCCY4CE/yq9mXxPuwv6F3l1uMp437jq+QR5hfo/eql7t/yH/jj/uUGkg7zFGYb1iLlKRUvhzFbMZcvpixTKL0hgRm8DwYFpvrK8ZLq2+Oj3SzYt9Sp00fUZ9Ug1xbasN2t4SDmzerr7ony7/XZ+Nv6uPyC/Uv9qvy9+z75E/X68IHtvelD5Z7h/t6b3KbZz9gg2ePZD9qU277eqOMu6XHvS/Zu/e4E6QsSErAXnB65JmMwvjmdQEtE/EU2SHlJAUeFQIs4BTAjJrwbRhKQCfz/bvbO7sHpXuad43rh+N+P39jgAuRN54LqHe8W9Rv7MwEACNwOtBTMGR4eHSETIukh2yAjHs4ZqRQLD+oHmQB7+i71qO/R6sbnXOa55bvl7ea16DrqUuy+7/zzhPiQ/rQFFQwTEfUW2x7rJnosdC9zMRoyWDCPKxclrh1yFGoJX/4j9QjtHeXy3a7YyNXL1JDUHNU91yLbNd+N4vflPup37hTxY/Mx9hf5jvq/+vz6e/ug+j34SPX28YrurOpM5rrh8N0U223Zkdgm2J7YW9kg3GTgteXf6o7wyPaw/VYE6gnjDmIUCBvaIrosbjdLP7dCWESdR2hKC0lRQ/A7hzOsKT4fkRVeDC0Cw/df77jpHubC4zPiAuGH4Ojh2eTw5+Pqve7X89H4A/4gBOoKLRFrFh4b9h5YIZYigyJrIIIcvRcYEiQLBwSy/V737fAT61bnEeb05fDlpuZV6GTqDO3z8J30uPcZ+4oAZQgTD+4TEBhfH5MmnCt8LtcwGTGpLcInmSA5GZUP2QPY903u4ubi35/ZctWn08jT4dT/1sra2d/845fmR+ph793yOPQ29Y73ZPkP+nj6Fvup+u34ZfbD89Tw5eyz6FPkxuBn3cravdjv19LXF9nZ2rDdo+IG6P7tnPPy+ZcAXwZzC7sQihagHCcjcCvQNGA7wz5CQetE7UZHRfY/JTnPMAonghzDEncJpv8x9lPupOjk5Mji6OFG4UzhKeOx5ibqUO1P8Uv2zPoE/xcEUQrtDyUUDBi4G1UeuR8eIO8eiht4FnsQ1gnCAs37jPVz7xnqa+bi5KDkzuRc5m7p9Oxp8PTzvPdL+xr/WwTqCZYO9BJJGDEfgSUiKjktVS/lLo8ryCbOINYYQw56ArP3k+545tbeodgE1cbT4NO91XrZUN674pXmzep875zz4vUB90j4Rfnh+dj5C/p4+j36d/j69Qr05/Hi7rPqeuYi47Lfotxy2iXaHdv62vDbJ9+I5IHpee7/8+36jwFTB3oMshDgFOEYmR6FJQUuhDXXOZk7VT5kQgtEVkFtO8c0Kyy7IU0X/Q2QBHv6cPFz6vfleOO04pribOLo41LnK+sf7mzx3fX9+ZP9dwGLBucLHxDNE1wXsBrMHAseuR3WGnoW7hHuDKEG5P/L+YbzZu3f6JPmvuVW5Q3mTOii6y3vVvO19/L7NgCOBUULNg87EsUWmhx1IdMk2CfUKjcr5ihbJf4gJhpsEBQG9PuZ8mXpaeFU25DXjNUh1bvW29lQ3lLjDOiA7A7xGPW49/T43Pm2+j/6h/lZ+Vv5tPgX98f1EvQt8pDvt+wy6SPmE+OC4BXekNzu2yDcMd0135riN+en7BHynvhe/7wF5gp4D1AT5hbIGlgfdSRnKtUwJjVCN0g5FDw8PY06hjW2L1Mo/B4UFSkMCwNo+d3wd+o/5p/jDOOM45Pkr+Y+6rTuuPKW9rb6z/42AoUFEglODOoOVxHWE9oVchd1GOsXwBXvElUPgQqFBI3+3PgN853toOkz567lF+U05izpyOzb8FH1TPlP/SICWQfYC30PKxPGFyUcjR8vIjEk9iTbI8EhjB7DGdESUwooAUT4LvBv6IXh59uI2EPXwde32Tfd1+GM5urqR+/G80X3IPms+SP6SvqL+Sj4sPax9fD09vNe8srwK+8g7TjqgOcc5mPkk+G13ojdHt6B3rfeoeAs5Jfo+Oxr8kP57QDjBg4L9w4gE4IXTBtWHxIk5ipcMGwzYTUCOak8yDzXOUs18S+ZKPIf8xbvDU4EFvt+8l7rvOZr5Ojjs+Oa5L/nSeyt8Ln04vgd/bwAwQPYBuoJrwzLDrUQ/RJAFeEWoBfOFgUVzBI3EGYMSgd1Ae77Rfa68JPs3ukp6Dfnrufv6cjs8O+t8/n33/zjAfQGggscD08SNBaPGgYeIiBqIaMiNCK1Hxoc3BcNEmkKfgLH+lPz+utQ5fHfeNyP2v7ZUts83t3hE+a16gfvDfM89hj4p/i/+Pj4I/gm9ij0HfNx8nfx0vBB8J/vAO5P7MTqJel+51vl8+PN4jfiJ+EY4VjiJOW86M3sQfKf9zn9wgIjCEEM6w/aE5wXjBs2IGwmdSyRMGsy6DSWOD46wDhaNZ0xOiyhJHkcNBRYC8YB4Pi78Sjsmeim5qHlR+Xf5qzqCu8J89j2C/uF/sQBmwQNCBYLTw2MD14RSROrFNgV/xVfFf0TbBJiD0cLrgbcAa/8DPd68sPutOtj6WLo4+iS6t7squ/L8oT21frQ//UEBwlmDNcPvBP0F8kbhh5DIHIh2SGKIHUdSBkcFCMN7gT8/Nf1He9z6LniBN/+3CXck9zh3iPiqOVY6WvtHfHr87r1svYc91P3CPdA9hH19PN58zXzc/L28dzxCfH574zuDu0N6/foUufl5cjky+Oh4o7hEuJE5Azotusw8GD1x/rV/6YElAlBDqcS+RaPHIojpCoyL9ox0DSAOPI6FDoJNy0z1S2gJmkeUxbeDWgE+vrd8o/sDOgZ5Rfj1OEU4pHks+jT7NfwWvUG+iT+CgJYBnsKJQ1pD/kR2RQ1F4UYAhmfGKAX4BVZE0wPIArfBE//gvkt9MLvDuwE6f7mnuZH57zoAuvq7WXxjPXK+q0A+gVXCssOABQTGYkd9SBwIwwl/CU7JUwiMh7dGBISMApoAlb7LfTr7G3mmeGZ3tDcGtwL3Xbfe+Ln5bLpou0f8RL0d/YW+A752Pkj+qr5Evn6+K34KPjD93P3CPfQ9fTztPGQ73btEeum6Dvm5uR642jiAOKy4sHk9udj7MHw7/U1+0QAggS9CAEO9RN+Glsi+Sl2L9kyeDYeO8094jzSOSA2sDAUKbwghRhED3AF7vuw8wPtY+dH43rgg95t3rfge+RB6HfsefF39kX74P++BCIJhwzDDyYTlBYyGcIaihsnG3EaLhk/FqgRUAwMBxsBwfr39J/vpepp5uPjK+M/4znkO+Yw6cTs3fAh9lD8bQLbB7UMEhK/FwUddSGAJBgmbScTKIYmESOZHt0YXhGTCDYAbPir8EvpxuJM3l3betkD2X3amt1y4T7lsulC7gryOfWd92T5zPqu+9P7bPuE+/D7/fsb+8L5w/ha+HH3mfU385vwAO5/6wTpYOY15ILi8OC23wfgkeI/5ubpwu3o8jr5Xv+dBLEJng8RFr0cGSQmK1gwjTPqNmc6IzwBO+Q3uTMqLjgntx9HGKAP6gWd/FT0TO135zbjQOCJ3p3e1OAC5LTn6OvZ8DX2lvsfAV0G4ArjDrgSJRbNGGMaSBtxG7kaIxmfFv8S4g2/CKkDMf6g+EjzhO4z6l7mheNJ4g3i4uLt5NXniOtR8AX2dPxrArMHtA3YE6IZgR46IvkkRiYDJ7kmSyT0HzUabRNZDJQETvyh9Hbt6uZZ4Qfdp9pF2c/Y89nM3AjhPOVw6c3twvFV9XL4Ifvs/IT9Y/05/R/9vPyL+wb63Pii9w72m/Tx8tnwRO6Z6/PojOZ05I/iQeGP4LfgpOEU5JPndOsG8E/1xPs/AjkIJg6TFAcc9iOGK1cxQjWwOMU7UD0hPCs5FDX3L34p7yEdGscR4gi4/5/3ovCF6sLlQOL23wvf5t+n4lzmeuo676z0Dfqk/3oFFguMD0ETjhYjGR4bNxwdHEob3RmEF8ATTw+rCu8F2wAH+5X1w/BP7G/omOUU5IPjGOSh5RzoWut178v0FPsSAUAGtwubEXQXuRxEIXckGCbRJu0mhyXEIY0cVxYjD/kGtf7C9m/vXehA4ojddNrX2I3Y89ly3EDg3uSg6QDuHPI89uX5qvxq/j3/If8b/jv9VfwA+7z5LvhY9pL0FvPu8Z7wj+6h7A/rQOlj5/vlCuXA4yDjneNv5XHoMexV8If0OvnE/skE4grKEJkWZxzwIiopEC5iMWQ0ZzePOGk3nTSFMUgtKSdbIDIZyRGNCU0BgPmJ8rvs+Odp5BviYuFs4uTkF+gF7AnxX/aL+6QAygVyCk4OdBELFA8WYxcgGOkXyRZhFZgT8BA1DZIJ5AWcAWv8ove087Xv8etA6Zjnw+bB5h7okOqJ7T7xtPbf/BkCJAfYDMYS7xdaHDIgGiOSJB4liSRmIooeSBkkE+MLTgSM/Lv0uu1h5+/hLd7Y24/auNpM3CPfxuK25i7rlO+28+f2Xfk6+1P8f/zC++j6I/r/+Kj3sPaV9Q70S/MA82Ly2/Ar7/ftX+zE6gLp1edp5vHkOeS95O/mwekZ7ejwiPXO+gIAFQX9Ca0PfhUGG+ogtiauK7suqDFONLY1KjXXMu8veyvFJcQfXBnuEbMJuwE5+mfzQ+1Q6LvkHeI/4ULi0OTy59nrdvB99eb6CgA/BYUJ3wz+D0sSFhQ3FdoVGhaNFbwURRMgEVQOWAvYB6cDGP+t+sb2qPI278rs9+rv6YzpmOo37NHuqvKQ96L85gBPBcUKvxBDFmYbsB+mIioklCTII9MhIR4IGb0S5QuYBCr9tvXK7uHo2+Mz4JzdutwJ3Yvey+Ds4y/oe+xM8HLzmPYQ+bb6pfu3+437EvuO+p350fi490n2vvSy86LzovOO8tfwfO9/7vTseusg6svo3uc+55bnAOnU6xDvIvJV9Rv5zP2+Ah4HlguLEA8WrxvVIYcnqSsaL2Uy5DSLNYc0azIXL88payP/HNoVew23BA39KvZ+7xXqE+Zx42HiVePf5eroLuz97130qfgs/XMBRgWpCGEL8g1AEAQSXRM9FKkUfxQWFAMTChF1DjMLMgfzAtL+/Pot927zC/A07WLrdepx6iXre+xD78zz3PhC/UABFganCysRPRYeGzwfjSGDIvciNiLEH4MbxBVRD3kISwEI+sDy6OtK5k3if9+n3R3dpd0W36DhfuXG6W3tjPBc8/P1mfdE+Kv4v/hP+HP3bvbF9UH1RvV09T31RPWM9dD1mfVW9IPyGfH77znutOxP6/rprOhm6MzpKOxu7ozwYfNb9wr83wCVBYgKFBCyFbMbyiExJ1YrDy+MMrY0KDU4NN0xAS7oKEIjyBwWFU4MsgMp/Er1OO//6RHmTOMH4uXiKOW355vqWO7N8mn37vueANYEbAiUC3MOxBB0Ej8UdxW3FXAVoBRzE1cRbw7oChUHDQOo/mf6gvat8kHvo+yq6pfpVuni6c3qz+xe8LH0Evkq/SkCSwihDnAU2xl7HsQhjCM+JFAkgCJgHigYZBFrCkQDxPsO9PDs5OZa4h/fed363FLdm94w4aDk2+h77JjvgfJM9cD3UvkY+tz5V/np+N74JPn9+Mr4afhW+H34/PcK9/H1BvXx8wby0e8N7s3sPeua6c3o3eh06arqsOwK73Dx3PQ6+b39BgLYBoEMwRIeGc0f+iXHKpouPTK0Nfc2EzbpM0ExBC1OJ+og2xnzEUwJcAHj+Q3zb+3q6FblQ+Pl4h/kKebY6E/snvDy9Gr5M/6XAlYGcQmoDFcPcRFQE60UcBWPFRQVOxRsEuIPFA3ECXoFBwHb/M74mPSX8JntOesh6Z7nN+e75wnpv+vC79T09/nN/k4EawplEN4VBBshH+0huiN5JHwk+SIXH9IZlhOSDFMFHf6L9qrvsOnv5Gfh6t7M3fTdFt/54LHjX+ce6/HtwfDk8+P29Pga+s76Dvv6+gP74vqr+if62vnq+X756/g7+Fv3A/Yb9Dryl/DV7rvsnero6JjnuOaD5nDn8+jj6nHt/PDf9Iv5rv4HBMYJ2w9kFvocGCN9KMssdzCWM/Q1hTbQNBwyOC5FKWMj7RywFakNzAUX/nz3u/F57EzoSeW14w3ko+W35zrq2O0Z8pj2S/vH/yQEZQibDFgQXxOnFQ8XpxdWF+YW/RVGFLwRZg4bC50HpwNw/xv7kfZT8sbu3+uB6e3n+Oa45nXndumR7GDwWvWQ+vH/PwW6CtEQrRYAHE4gEyONJAQlQiQFIsweGRoGFCUNAAYP/x34FPHE6r7l8eEh36HdcN1D3q3fbOLq5XTp9OxX8KnzS/aG+Lb6dPxW/dP9Bf5M/jH+e/1i/FT7y/nW98X1IvRt8tfwPO987ZnrKOoj6b/nJ+YM5QzlueXS5pfo3evC7+bye/bo+vH/5wQLCqsPhBUPHEEi5SfgK4cvFzOjNQM2wTTFMsUvEisTJakewReiDyIHdP+p+FDywuy+6GblIuPG4hTkWeYL6Qzt/fHE9pH75gAWBpMKaA6XEQgUsBW+Fv4WyRYvFkUV7BMEEiUPqgsdCEsEPQDc+473D/P27lrrZuiB5nXlZuUe5hXoV+tD78zzdfnm//MFzwuDEeoWRBzFIOYjryV7JgcmgCT6IccdChiSEUEKtQKL+/L0ee5x6HHjf9/k3IvbR9t43MDe/uFG5vLqje/r8yr4Afz9/v4AVwKkAi8CagFVAOX+wPyB+tP44Pb99Oryw/AK7/XtNO3k643qQOmz6Njn2+Z05oXmvuZs53vpguwG8AP0LPgI/BUA4wTqCaoOkBM3GV0fbCSKKO0rDS+vMTEzWTNNMkYw3SzhJxUiThu1E2gLZQPr+xj1Nu/i6fLlW+Nh4hXjMeUp6Ljrf/Do9Sr7MgDUBC8JrwyTDyMSBhQoFacV5RWuFbwUTBOFEQ0PuQs7CGEEKwCJ+672BvKo7d7piuYc5KniNeKs4nbkQOeY6tHuk/Or+P39QAOqB/sLyg/oFDkc0iKqJHMkLyeuK5Ys4CgOJBQfBRijDnQFMP1S9M7pqd+02GPVo9Mp0u7RLdTY2XThbejZ7qL1h/zCAfoFiQnvCrUJTgc7Bd0CvP8K/Bj4h/QR8gvxte8y7Q3rGepe6aXnHuZv5Y/k0eKe4bbhYeJj4pjinORB6Knsz/H79j/8sgFFB+EMMxLBF5YdAiNZJyoriS4tMSozbTQgNHYy0i91LKYnfyERG/kTZgy5BL/9YPd58XXsW+jN5ULkVuTL5SDoGOvg7nvzkfi2/cACdgcPDB8QEhMxFWQWPhdRF4wWCRUdE7cQYw3RCQsGsgEH/aD4zfQk8cvt8Opk6HbmMeUD5Z/l9eYl6XDsTPBZ9PT44v3CAkMHNAzDEfcWDBtGHvUgRCOEJBUlZiRvIrgeGRoDFTsP5wgpAo/7BPUB773pZuWo4S7feN493zDhzeM+55frjvCT9Yr6tf74AV8EMQZOB1MHrwUwA3QAiP1t+gz3u/Oi8KbtNOta6S/oaue+5oXm/eWP5cblZ+a85rrmSecC6RHr2Ox179LyR/af+Rf+NQOfB/MKyg3jELwTDRcXG6seHSHzIsYkmCYLKPMoGSk/KHUmgiRFItkeVBr+FF4PaAm9A2b+OPl+9JDwEu7y7Nzsvu2u72/y2/Xq+en9qQH1BNQHMAogDMYNkg6YDjEOSw0eDFcKeQh+BmoEfAKtAPv+wPw/+oX38vTx8kTxAPAk76Xue+7O7tHvbPHX85j2cfnJ/D8AmgNIB0ULCA9eEsYV0hhMG64csR0pHggeqxyPGs4X5RPCDr0I2ALd/LT26PD664bnFOSD4WbgguDd4YrkQegb7ADwX/SC+NH7Xf5tALcB0wHHAGn/dP3Q+gf4cvWi8oXv3uyS6tjod+d95trlIuUz5Q3m2eaA52vo0elv6zLtNu8O8ffyoPXB+JT7IP5+AU8FMghICsUMng/SETsUvRdFG6wdVh+TITUkRCbHJ3goTygiJzAlOSNTIPEbMxdEEqoMPwcIAiX9MPiP80jwHO5X7Y7tre6e8K3yU/V3+F37IP6pAOgCoQTZBakGWwemB7wH2wdOB4IGjAVxBIQDNALUADD/iP32+5P6UvnS9xD2avTh8tXxNfHd8PrwnPHo8s/0ePeQ+uv9rgEHBmcKpg48E5EXvRoVHSwfISGYIXggfx4jHJsYWxN7DWAHLAFP+n3zxe0W6Sbl7+Gw3yzfW+Dc4vLlQOkp7THxrPTm9w77QP0t/lf+K/5R/Yv7R/ke97H0Q/KB8Djvc+2T64XqaOpS6iDqS+rf6v/qNOvM67vsQ+2Q7Xvu2u9P8TvzL/aU+dn8lwBSBFAHogq7DY0QlRIWFEgWeBlCHFEeWSCsIp0lPyhvKpgr0SsfK2wpFSecI2Mf9hmjE/EMSwYjADT6XfQv7xHrcehH51bnZOgo6nvsie8l8wz3x/o+/voAtAMJBq0H2QjJCXQKUQpBCkgKoQlpCDQHRAbuBOgCvADj/rP8O/pW+Gj2RfRV8gXxYvBG8NnwJPLM87j1RPiJ+xb/BwOUBzgMUBC/FGkZnR2jH7Ug+CG8ItMhyx8eHaAZgRRBDvkHrgHb+tHzre1X6NjjTuC/3SnciNxQ3qXgseOR5xTsV/AX9Mv3ZfsK/nD/PQCxADIAZv5V/A/6gfcI9fPyffCx7VfriOlS6I3nDuf+5hTnY+cn6Ojo5Oka67Tse+4u8BPyavSB94P6jf3DAKgERAiCC1kOJBF6E80VBhmyHOcfASKtI98lnCiVKjsr0ircKbMn0yRhISYdKBhhEjQMzAVc/3z55/OP7k7qiOdv5jDm0uZm6LXqIe4/8un2X/s3/10CIwXJB+MJSQsiDJIMgww0DGMLOQqlCMYGAAVwA8QBAAA8/jj8gfr9+FP31/XG9OLzivP286b0WvWE9k/4vPpY/dD/OAKSBDIHDwoHDTQPXhFRFDUX+RiDGfoZQBp9GVQXnhR8EdUN+AjTA5v+X/my8wLuROlO5VbiX+Ca3/zf1OGg5NznU+u+73X0RvhQ+yj+bwDUAND/d/4H/cH6IfhX9X7yh+/E7GHqPej15n3m7eZS59jnI+nc6qHske6g8O7y7vSh9qL4ivrN++78IP7i/3UBswIMBHAF8AZeCHMJRAoqC44Mnw4tEVcUqxfuGtYdISFUJLYmhSfEJ50ntCZYJDshRR0xGMYSEg2UB+MBIvzR9gjyQu6m61TqyOl26V/qX+yB7tfw3PM/95X6pf3OAOQDfgZ5CPAJFgvnCxUMHAwXDJ8LEgtrCqwJzgiHBwMGegQaA8oBDwAr/kr8ovpH+V74ifeG9gn2PvbP9qT3qfhM+kj8av7BAO8D+wZ1CXoMLBB+EzcVcRYoGIgZFhmPF+sVcxOtDzcL4wZMArP88Pac8U7tvem65nnkIuMV4zvkg+Yq6QDsSe9O8hP10vdn+v37dvyO/H/84Pta+p74AfcG9UDz9PGA8W7xTfFW8eXxI/P/8+f0PPbA90P55fkE+h76U/pX+tj5V/lH+eT4RPhe+Ez5GPrx+v37kf0y/+IA/gLzBXMJSw2qEQQW3RktHdQgiSRtJwUpbCkHKbMnhSVkIiceFhmLE48NawcoAR/7afVV8CzsAOm45uPl4+WQ5mToJ+te7v3x5PWY+WX9QAGhBPkH6AodDQgPexBeEboRxRFrEdUQ8w+zDlMNYwsHCbkGOATEAUT/evzj+Tj3ufTA8h3xy+8X7zbvoe+t8H7ymPTl9sf5LP3mALcEBAjBCg4O6BGmFBUWdBeSGMQYxhc4FvsTxhBpDGYHnwKe/Vr4yfKx7bTpWebq427iBeKL4kTkpOZn6b3sZ/B08zX2M/na+8j9t/4u/3L/AP9p/c37XPp9+Dr2kvRW81DysPFH8e3w7fCA8arycvPV89H0UvY692/30Pep+CL5Uvnl+cX6nPve+1P8Jf1U/kj/8f+4AKcBsQIMBB0GLwmfDMEPURLBFGoYexxWH/EgJiILIzIjRSK6IHIeaxs5F2MSsg2yCEID9P02+X31h/JG8KLufu2F7Xvu6u/G8RD0zfZz+Qr8+f7gAR0E2wWXB18JoAqPCz0M0gxjDacN0w2lDUQNvAy9CysKXgjwBj8F3wIyANH9Y/u2+BD2nvOW8cvvnu4w7lzu7+6j7+/wBPOr9SH4Pfrm/BwAvgSFCtEOiRAdEicWlBoqHAIcOxsUGmkXLxN0DzEL9wRY/aH2EfLz7UDp7+QQ4gThQeFH4qbj8uUc6fjryO5v8kL2oPjC+fj6sfxl/W38tvrw+az5vfgS+L73kPcy9zL34/eC+B35Wfkt+WL5e/r7+4z8v/sJ+6T63/nG+GD3FPao9C7zQ/Jb8oXykvI58w31ifeg+lf+lwJOB68MmBIZGGYdiSK/Jrkp3CsDLjgvki7yK44o5SRXIKcaURSyDTYH6gA1+xL2dfEy7dXpsOfU5vrm9uel6Wnrx+2k8N7zU/fx+oX+sAHhBFgIggv2DdUPJxFPEvYSNhMFE1YSKxGXD6INPgtaCCUFZQGc/f35bvY380Twie0r61zpcehX6OjoFeq869LtYPBp8/b2gfoX/okBlQXSCnMQ5BRhF5wZJB2iIC8i6yHzIDMf2xujFxATgg2lBg//xfee8RbspOae4b3dI9wK3Orcm94w4fjk+ej97GPxN/bn+SL8kP53AVEDbgP1AsICVQKNAYwAKf9s/aP79fne+MX3yPbo9bv0rfNN8+/zB/T38j3yc/LL8lnyz/HV8efxv/HT8a3yPvRt9cT2+vi1+5L+fgHUBL8IDw2dEf0VDhowHkwi9yVjKIspPSp8Kr0pGSfKI4ogihxYF+YR7gzHB1kCGv2i+J/0BfEJ7m7seuvs6j/rcOxA7mnwHfMq9sb4UPsO/tsAZwPoBWEIJQqEC2IMJQ3KDf8N5A1pDZcMKguACf4HKgbIA4sBDf89/H75wvZZ9BXyKfDt7mPuU+627qzv1/BV8k70rvZk+Rr8AP8GAuIFBQtFEIATFhVsF88afh0eHpgddxzRGsEXCBSAELsLegXW/sz4sPNj7uHo3eN84B/fKt+23+PgUOPB5hLqlO2l8Yj1nvi4+ir9q/8qAWwBSQG7AZwB5gCp/3P+/PxJ+zD64PjS90P3jfaX9cn0ZvQz9GzzV/Kw8c/xxPEs8QnxqfGk8kvzbPQ+9gn4pvmE+//9rwB7A6EGvgkfDbsQfRR+GOwbLx9UIhUlICdCKNsoyijPJ7olaiIbHzIbYBawEBQLtgU7AAn7RfYG8mfuNOs36TLoHuiO6Lbp+OtG7gfxAfQi95P6DP55AZ0EYAemCbILRg1qDm0PNRBuEPwP+Q6YDd4Lwgk/B2QErAGz/sj7FflU9u3zmPFx783t6+wO7ZvtnO4E8BfyfvQc9xH6B/24/10CYAVmCZYOKBNuFYcW5RgzHDseIx6yHMYa3hedEzAPlwo/BcD+9/cy8nbtmejQ4+/fxN0W3bvdT98F4u7lB+oW7n7ySPes+wb/iwE8BI0GNgeyBtAFfgTYAvwAvv5i/EH6D/jx9czzDPLO8IDvCe5K7dbtee5h7k/u/O5e8NjxGPNM9IP1hPav95b5mvta/TT/KAHxAtwEDAf4CKsKtQwpD7URCBRiFrcYwBp5HBMezx+VIGAg/x/rHv0cWxq0F54UJhASC34GVQIM/tT5MfYa82nwQu5b7Wvtxe3O7rjwjPJx9NX2nflk/DT/MgLuBBEHqQhMCmoL8gv/CwYMIgyuCxILdAqjCTIIfgbNBBIDIQFI/yH9yvp7+ID2+fTB87XyHPIn8l7yC/NJ9JP1E/ft+Dz7tP3m//sBAQT2Bh0L2g6jEMsRgRQOGMoZnhmLGPkWkxT2EHkN6gkEBeX+3vgK9N/v7etv6EDlg+OH4/TkheaZ6MHrOO+t8ir2EfqG/VX/JQBUAQMCUgGT/yj+AP1z+wD6svhT9+L1qPTX8yXzbfIB8rTxlvFo8eDxVfKd8sDyLvOp84/zzvO39Lj1p/ak9874SPor/Dz+CgClAU0DwARUBsUHXwmyC/INahBfE5sWkxkSHIgeryA2Ig0jpCOVIy8i7h+1Hc8ajhaoEcUMQQddAQj8c/dc83fv2Oxv66jqUOoY6zTtqO9i8tX1t/k1/YgAAwQ2B+wJUAx3DvwP0RAtEYwRQxE6EG8ObwxPCvMHxQUfA4EAq/17+mv3s/Q68hjwge5z7c3sbOy77KjtZu9S8dPzNPeV+hX+TQEQBLQGVAmiDBwRvBQnFtIWmBiyGgEbDho6GGUVmxEqDRAJ0QQs//34C/Ml7jPq2eYJ5ADiiOHi4s/lcegY6wHv/vKc9mv6z/7NAeYCKgNpA3ADUAJMACv+9vsC+i74n/Y79aLzHvJC8dfwnvCZ8Pnvqe7S7f7tSO6H7aHsz+yq7TXuDO+r8EjyRfSW9kz5a/xP/zYC7ATNB1MKdgziDSMPxBB3EgsUHxXxFkIZExslHCIduB4RIE4g2h+DHjUcGhmJFccR4Qw/B10BAfwn9/zyBvAC7pHsJuzK7P/uc/GL9F748PtX/5ACygW/CN0KcQypDQoOIg4mDvoNHw0IDB0LRgoHCREHfQXRA8IBXv85/eT6Yfix9S7zVPHA763uae4X73bwfPIw9R/4L/tM/kkBYQR8B/cJcwtDDIMMzA3YEEwTiROKEtMSMBS2FMcTGhIfEPwMLQm/BVACHf6K+ADz1e4J7Gzq/uis57DnyOkR7UjwpfNK93b6lPyL/qsADgKjAdX/8v2D/KD6S/jM9d7zD/Ox8mbyYPKf8kTzvfP280P0TvQS89fwzO6U7UztqO3L7Rruou7n7+vx6fOm9Vv3DPm8+tL8ov8gAs4DWgURB7II2gmWCyENUA66D98RBxX0FzgbNB5DIBoh1SHYIpIiGiBUHCQYyhKVDSsJ8gRBALv7S/ir9b3zx/Kf8g3zafOQ9Dr3Dfpe/Fn+XAApAkUEnAZNCGQJRApCC0MMdA2xDmIP3A67DZ8MMwurCIgFTAKL/mn66/ZB9LfxW+/N7WTtuu0r757x//Mv9o34c/ux/poBIgQkBnEHIQiyCAEJcAhTB8QG8QecC44PIBH2EFcRchKVEmsRDQ+yCwYHiwEE/Xf5vPUf8b/sM+rv6X3rQe2V7j3wPfOR9mr54/vB/Rf+/Pyq+zf7H/t++Sf3SPVS9Hz05/Rc9SX12vRz9Ofz0/O28zDz+fFa8LnvBvAA8Mnv2u9t8A7xjPIb9Or0BPUR9Q/1APUW9R/23Pa39pf3bfpJ/iwBpwPTBsIJ4AtDDm8RnBSlFy0b4h6cIYMiNCM6JGYkVSNUIcUeBhsGFuMQ+QsBB94BU/xe92Pz3fA67yXu/u297u3wlfPT9rz6nf7cAdgEeAcACjQM0w0aD8EPBRBfEBQQXA9HDjgMtwm7Bt0C4f7S+uD2OfP579btF+3l7FPtve4d8T70m/cQ+2/+owEvBGUGRgi+CakKHQu0CrUJ5whGCCsHuAWbBLAD+QKXAsEDygWhBvMFfwXkBdIFyQRyA2QCJgG6/43+wf1P/Tf9JPyV+gL6/fmf+Tf4CvfY9sj2+vUg9QL1IPWY9MrzY/ON89nz9vP08zP0xvQj9Rz1DfU/9bz1zPV/9ej15/at95/3Nve39sr15fQX9LjzoPOk8mHxYvCC79Pul+697lDvMPCs8az0dPiX/EQAuAPoB8YLOg4cDx8QXhJOFhQcTiJ5JkUnPCfoKEEqCSkRJfAfaxlbEdwJ/AP9/i35D/Mn7ujrPOxP7nbwOPJH9Gb3UPsl/8kCKAaICPkJsgvHDo0SKhUrFkUWIBZzFeUTWRGKDYIIHwP2/T75HPXG8d7uuey665bsTu+t8pn1d/i7+z3/bwINBTYHewjvCC0Jlgk7CooKXAphCZ8HqwUFBHECSAAK/tP7QfoP+k37qP42AgwERgU6B64JOguJCxYLpgnVBnID6ABg/739tvoc96P0DPQX9LTz+fIS8yHz1vIC8xX0YvWZ9fn0t/RV9XX2EffR9kX2cPYk91f3svZJ9u31xPSc82HzQ/Tj9HLzt/Gh8YzyZfPz8uvxIfFb7zjtmuwT7XPthOyV6zLtl/Bx9OP3PvteAPUFVwoXDrERVxMUEuQPuxCXFPQahyJkJ4knjSb9Juon9yUPIEcYng+aBoP/EPua+Cz2zfLl74XvVfLR9tb5uPrZ+iD8zf4gAuQFxAm+DGwOhBDUE14XSBlfGAsVhhA6DJoIUgTh/hv5cfQ38YDvaO+K8OvxfvLm8tT0jfh//D//eABCAaICggSwBrYIDwpgCgIKKAk9CDgHgQWdAk7+9/ng9q/14PUd9gf2Bvf1+QL/tAXyC/MPxxF3EnkS7BGWEJAONwuJBp8CSACx/tT8c/nB9dvyv/Bk79Xu8e487wLw6/HW9Cz4QPv5/Eb9B/24/Dr8j/sC+kD4AfdN9p/20/ZP9pv1mfWk9an1vPUl9dbyLPHo8CbxrfCN79Ltt+wO7cnvGPMr9RD0ofGW7y/vsPGM9Vr4Fvro/L8BMgcXDKMQfxKkD9MLbgvMDxwZgyO1KXcpZSbmJRMnpiUGIJwXCg6JBOj8evm++Qb6NvdF8pvvrvFW9tj5f/qb+Vr65PzNASMIdw42EyoVjRXAFjAZuRrjGOcSJAuHBNAAhf4S+xz3xvMq8ajvP/Db8n31vPWH9Ez0WvZn+pv+mgFPA/kEqAcOC8gNFg/LDsoLjAeGA4wAjf5Z/Db5TPXq8p7zY/ax+UH8ef2h/lQBhgYLDZ8RLxNoEyITyhIhEukQ+g1/CMYBNPzT+Mj2n/R38bHtqesZ7Gnu8fAS8w/11fbD+FT7aP7tAF0BJf82/Gf6CPq3+Qn41fV39C/0i/Q29a/18vQA85Pwc+8G8DHx+PD18PDx//My9VX12fMf8RDvT+707sXw2PKK82byM/FM8in1hPiq+zv/RANuBhIJZAzNDqYOfAw5Ck8K9g1TFnkhCSkGKo8myyLCH4wbVhXsDhYIKAGU+2T5CPx//4z/BPx89+T1vfbx9+T4O/oA/egACQbWDJ4UxhriHHca/RWaEvMPSAylBjkAN/tj+IP3QPit+GP48PYF9GrxgfBC8Vvy2PK48+n2y/yVA1QJiA28D20Pdw2/CjIIawW5AY39NPqn+Ar5dPo6+8X6ofn191j2RPWJ9Lv0CvecASwS8hwcIN0glyB2Hn4Y3RGkChUC2vkK8sXtVvHD9fX0S+9s7GHuHvDd8Izy9fQf+Pv5b/wMAp4I1QtRCFQBE/zX+An2cfL07kztNu157kjwffPw9tj2FfRh8bHw0/HP8cvv9+2S7cju6vCW9Kb3MvfN9LDxO/BF8gn2V/cR9VbzGvUF+T//QgZYCzYMXwtVCkwJtQm/CnoJpwhWC2gT1B2KJh0r6Ci0IS8aGhSxDt8Juwb2A6T/vPzL/mUDoAU9A739Y/hM9Y71mffX+rb/SQReCDsNrhORGVMbPBjWERALQAbVAzICKQA6/u78IPw9/Bj9kf2u+6j3+fLf7x7wHfND9/z6xP7fAtMGjApIDcgNNwsMBx8D1AAgADsA6gBrANT+6/32/dX9vvy4+p33+vO18j/1CADkD+wYuBs8HTMd/RoOFTAPTgmeAFr4xPHU71f1BvoM+XH0XfGA8crwFfBL8Xnzwvau+X39FQRGCh4MpgdXAP769Pbf8sTvuu0k7U7t5O758UT1cPjB+LH0DvHP777vD/Dj7+HvJPF68qvz//OV8/7yifJs8b/w8vEz9Jj00fNf9Az3K/o+/aAAiQT3B14KHQtYC58LKguiCHUGiQeUC/AQ1BZcHBQhXSKEHxYahhR9D2AKNwYeBa0F6gU8BgYHDAfABNAAN/0P+h34/PcW+l3+ygPkCLANtRHyE9gTjhGcDbIIxATVAd3/RP/z/18BJwLPAaQAnf5l+873kPTV8STx6PIW9r75Bf5rAsMFmwduCCgIPAZ7A0QBTAAIAAAAawCTAD8Aiv/e/Zb7VPk69732dPjV+pP9lgFvB7kO4BXtGSYYcRPgDaUIHQS0AGL+AfzU+SX4SPeX9174Efc586jvRe9h8Q31+fn7/ssCpgT5BEMEcwLD/2P7vPUF8dzuDO8r8LzySfZ5+Ev4SvcZ97L24/SU8gnxxfDC8ZHx3fCF8hz1NPUJ887wmu6v60DqK+219EP8OwAcAMz9svsV/BD+VAFOBHYHdAgHCMEIggvsDPUKNgd6BVQGiQkPDzwVhBqUHeobWBfiEqUQ+A+6D8QOrwweCmYJ/QklCoQIrQUTAvn8F/mg+Av7gv6EAdEDVwVKB0YKhwwtDD0KGghABu4EuQSxBc8GNAfiBQ0DLgAV/gb8Jvkz9hn09/KX80X2HPqj/fr/DgFWAX4BbQKPA24DpgJVAn4CxQLZAxwF4QSxAn//iP2V/W/+yf4h/3YASAMXB6IMohGyEg4QmAudB+oEqAJHAaL/Tf0F+wz5Yfhb+Tr54/bB8/vx9/Lv9ZT5+fw7/78AZwAA/8P9YPxI+hP3afMb8VfwPPFc8x71w/WZ9aP05POE83vznPPW8nPxSfHT8VDyWfJA8Wbv7+v26dnrD/C49SH4Tvdz9z34pvkJ+4f8sQA4Aq4BuQEjAwsIQQzmDNML3QcZBFoBDgGtBcgLiRE0FmoaASDnIaAeNBkZE54N/AidB5kKwwyqDBYLDwifBBkBFf5w+uj1k/PC9Mj4Df8OBucLRA+8DzoOuQusCTAIjwa3BH8DXAMbBKsFNQawBLEAXfta9tjyXfEZ8rbzavaH+a/8yv+mAg0FhQUKBAMCxwBIADcBFAPLBIEF5wQmBJsCNgAu/cL5efaF9bH3yPu6/8MDWgh+C8sMvQ2jDn4O2AzqCXcGJAQKBMwDYwHk/cf6jPfv83vx+vCY8YPyzPOG9nL6ZP76ABwC/QFrAKX9lfp/+Jn39vav9c7zaPLL8qnz+PMX9NT0RvXM8xXyMvJ89Gr2aPZg9cv0vvR/9X31SPXU9OfzuPJD8kP0c/cL+mP7x/rs+Qn7sPu0+u/4XPre/aQAdwOeBmYJbQpHCZIHlwVWBD8F6Qa7C1sTIBsfIQ4kGyIzHHgUuQ4WCm0HuAhhCyAMeQtTCh0JxwW6AH773PZq9Pn0O/jP/kUHnQ4qErwRug9wDcUKGgh0BXkD3wJCA4cE7QXyBioGNgJ4/Kr24PHC70jwQ/JI9df4Df3dAHIDwATLBB8DugAn/1r/xwDsAl4FxAapBuIFsgMnAJf8ZvnQ90T4/fkT/Hj/rgSACaMLmQxWDcAMngpbB74EYwNuA54DawK0ADD/dPwB+U/2yfRU9Oz0fvYM+Uj8E//BAGEBBwFX/3z8Cvmn9nb1HPUu9Tn10fQi9CjzDPLK8WzzafUJ9rb11fXI9kP3z/Zu9k323vaN9k/1FvN+8eHyEPbu9yj40PfK+Fz61frI+2D8Gvry9rn0qvSq9z384gAYA04EdwaABpgEjwN0A24DuANPBk0NpxU+HZ4hmSKrIDAboRM1DagJGwl7CmwNUw9vDuALOgkVBRP/9vjq9G7zrPQm+UoA8Qc2DiQRwhAbDnUL6whCBpAEKATYBBsGXgd9CHsI9QUuAZ/7cPaU8hnxufEv9Lz3sPsh/ygBrgGRATUBTwCB/1z/gwCBAqwE3gZ3CDkIvwXIAZ79+/nD+Gn6ZvxJ/roAMwRkB+cIpglqCUgIgAbeA6MBiQHmArsD6AI+Adr+sPvD+Dz29/Ty9KD1yvb6+Fr7If3t/XD9Qfyv+mX4Tfa+9BD0aPSf9PD0i/RW9Hr0RfQS9KP0k/Ws9gr3DvdB96/3k/jO+BL4XfbY9Lbzt/QZ9r32rvYd+D75Yvrz+mX7CPy4/KL6zvc99QD26fiM+jz7MP3j/tAAjQEeAu4CiAPMA9cDtQS/CPcO8xRTGUka+xrHGzIbHxfsEWgOZQ3QDHANxA5/D9cNEQqOBd8As/xt+gj6Ifte/aYA2gT6CBwM+g3nDcQLsgiuBvUFRwbCBmsH7getBw4H6gSWAcP9+/kp94r1HvXz9dL3CPoP/KX9av4g/rj96f2z/sP/VAElA8IEuAULBiMFAgN4AFL+CP5n/9sAkQHhAkwFaAdACIMHrgYxBloF9gOqAhwC+wH/AUQB+v+C/oz8APrm98L2lPYk9xb4xPnY+7b9KP73/E37mPnz9xn2cfSE87bzb/TP9Ab1gfU79Xr0MfQg9dX1oPUu9Qn2SPei+DH5TvmQ+d/5wPmp+Mb4TPlv+UX3hfQo83j1YvmY/sEAzgCz/lv8KPhB9J3y2fMS9oj4zftp/0QDsgYVCXMHewMaAGIALgMgCf4PxheGHDceCRwNGUcVTBHADFsJLgi7CcMMDw/RDjYMlgnbBdcAkfu1+fH6Ev7zAIAErQevCnMMJAy3CdwGiwQuA8ACDgT4BVAHZAc+Br4ErQIeAJv8IPmw9rn2pfgD+538dP3M/af9vvwg/PL7UPwL/Vf+MAAiAgMEsARDBCwDHANkBNUF7wX+BUwHJAlgCn8KDwqRCN0FgQLC/qX7jPpR+mD6ivoU+3v7uvqQ+UH5c/kL+h76RPrt+oP84v0b/jT8X/lW9rTz8PF98MnvI/Ck8OjwS/He8XjyI/MM9FD0kPTn9OD15vdz+az7cP3L/Mz69/nk+s37Bfur+BL27vQf9lj4jfkq+8v8UPwA+nf47Peb9533kvk4/Jb+cP+b/uD9yv+1AnoEyAMWA9UD/wYRDOcQgxQlFrEWOhalFZwV9hRYEnkQRRHEE2sUEhIEDQ0IAgULA1EAuP1w/Zz/ywLjBN8F7wW4BZ4FCwb1BdIF2wXlBqUIlwrnCywLKggMBIgAof6G/SD8kPoT+uD6jPzn/R3+cP1F/Ev7sfrH+kL7Pv0PAKgCFQTCBLUE0wNZAuUBRAPHBegH1QiLCSkK7QoHC/UKvgkKB2gEKwL2/wj+D/wx+236o/nD+Mf3M/ZJ9tT32Pnr+jH7p/vL/LT9pPy6+on3v/UF9CT0A/Rb9L3zbfLE8fHw8/BM8CjxZPIp9Qz3p/iS+QL60/gY+C/3ivhX+hP8Ifu4+nD7Fv3//RH/PQDQ/yX9Fvp0+KX42vn4+gr8dP2x/6YA0v+y/Rz8OvuL+5j7a/wM/ksBBAUjCIcJjQn+B3EHaQiICFgIYQnrC2sPOBFzECAOlwwWDY4M7Qp1CXcIlAc2B7EH1QhsCUkJEgleCG0HNwaZBTsFtAW5BmgHjQZGBUsEfwOvAgsBmf9J/pP9U/2w/ZH9kf2C/VP99fzH/Hj8K/yB/GP9d/4//zv/1v5q/jr+6/2e/ZP9+v3+/5wDzQf8Cg8M0wuaCyELpAoSCf4FAgNkAtMDDwVZBKYClwB8/i/8BPqw+Hz5+ftz/iMAFgH8AOD/M/5t/I76tfce9crzQ/RB9Rb1B/OK8GHuJO2R7Ins6u2u74jwSfGf8qP0QvY990v47vkk+xb6k/he+Hv7MP8xAQ4BaQDA/kP8QfnM+LD7/f22/SD8KPuf+RT4ovdH+fv7Hf5S/pj9jf3n/V3+BAAgBPwHXwmJCeoKrQwHDZQL5gq0Cy4NYgyHCU8IewpFDEsLkAlFCUEJsQdHBtwGrQhBCmwLdwtWC3kLzgpZCZ8HEwfuBr8FNgRYA0ADCwOWAdL/fP43/f37Evv++ib7BPzs/Ir9DP6Q/qr+Q/42/gD/2f8YACAAxwDzAPUAhQARAHj/wv4D/sz99P1X/7EC8wcHDmIRlw/oCgoH+wSiA6gCLwTsB9kKTAq9BpQCFv/j+1n5ovgC+gr8Mf6FAOYC0gIVAJj7pPfZ9V71g/VU9vH3Lfm/+Kf2WvNK8Bzt8+u37O3uLPEH81L0sfUh9nv1zfSh9Lj1x/di+sP8Z/9MAKsAr/+j/Qj83v2NAccFPgaKBVwD+P/G+4D5s/mh+1r9kP47/6z+kf25++H5xPnP+6n9dP+NAdEEvwZYBmgE5gOuBAgFUASqBBIGqAcoCUoKYQu3C3kLYAqICHEHCAdbB30I7AlzCz0MuwuOCnMJUQgnBzwG8wWjBocHXAgsCD8HFgazBAkDcAE2AFf/wP7A/vL+if6I/RP86/q1+cj4sPiF+YP67vt3/Uz+tf4T/wb//f4jAOcBUAQ/B/kJeQtuCx4K5Ag/B10EgAELAdsC0QRVBeUEeQP/Adn/Nf3/+3H8Ev7b/2gBvgK1AmMB4/5b/N/5BvdP9bv0V/Xb9bf0TvJe8Hfvtu417lPud+8z8ULzzvN89IH1SPcV+Wn6Bfuu+5D67fha+Jv6KP2U/j7+jf3t/aX9evzC+5D8s/7x/0YAJwAPADsAbwDo/zf/9f7i/Y/9V/5c/wAAhQBgAmYEwQVPBj8HaAfuBo8GOAdLCAcJswknCkILeQvGCcsHlgbSBXoFmQWYBrEHngj2CDEJogimBygG8AQoBFYE2gS5BIsEtQQ4BLwCbwBH/nb8QPuv+mn6e/oq+1P8RP20/V795vyS/Er8YPxY/WL+4/4a/1f/jP9t/wj/4f7U/vD+Df9l/xEAyQAuAQoCdAOCBsoLzA+YDkYKVQcABjoEQwI9A/0GmwlsCDsFEQIT/1n8mfqV+gb8rf1R//UA1AKyA4QBM/2T+iv6FvrV+Pn3Mfka+pX4vPWi8+PxfO/L7TDu2u9z8tH0t/av94j4N/gO9wH3ivpa/xkC3QDv/wAAU/9G/WT81/0RAF8BuAJjA4EC/AC4/33/PQAHATICKgNDBGAFZQUSBMAChgGeAJf/7v6x/p3+5f5I/83+d/0s+/n58vl2+hf8UP6gANACtgVOCYQLFgsECvcJRwuiDAQNSA0zDggPAA9ADcEKPgnTCHAIDwh0CFIJAAo2CtsKRApaCC8GTAXVBUsG0AVJBAIDtAEpAOn9mPtm+fn3ZvcR9x735fYq9vL0QfRU9AX01/Mo9FP1efal9ob26faX9x341PcB92D3I/jX+Ez5h/lP+nD6f/qB+iT7o/s1/TP+zf6d/lf+n/5B/4EA/QGoAhMC/ACt/4L+G/7P/lQBoQQJBtwESALkACcAFv+S/g3/bQAGAvwCwQNAA5oBHv/G/ev9//3P/lgBJgRjBikH5AWgA1gB8//K/3gAxgGlA6AFWQchCKIHJgbnBPAE1wWjBp8HaAkoC9ULNQt2CuoJ5AizB+4GpwaGBlQG1QW+BEID5wGDAKD/Xv+6/6AACQFSAWgB3wAeAHb/dP/O/+3/mf8s/3X+S/1r/I375PpK+mL6qfrQ+vz6Dvvd+nD6TPqD+pX6xfpu+3j8If1G/Vr9j/1G/WL8Qvsz+/j6hvq0+vz6EvsU+5X61vkt+av4k/jx9/329vbO97/4W/n9+Zj7/PzM/dz9d/2D/FX87vyr/XX+8v4W/3D/EQDS/23+g/y6/Mn+bAH0AdQAHAB/ADUBcAGrAMcACAIaAxQDCAKjAeYALgBKAGUBygFAAboAcwFkAtoB0gBXAKQAeQFVAsIC/gLBA+UEkAWtBe0FMwZ+Br8GGQffB2kI7QhUCeEJLgpeCtkKGwtjC+MLcwwXDPILGQwBDHULRgr2CA0ILwesBu0F9QTiAxoDrwInAmgBVwBX/+n93/zw+yr7SvrA+U759vjM+IL4XvjW9yL3bPYW9pf1SvW79LX0ofSb9Ez1k/Xd9en2BPd39nX2hvaX9yr4ivh3+Sz7W/zF/AH8kfuZ/BL+xP71/sf+0v93AZgBCQEjAIb/k//Q/28A2gFIAhMCRQLCAXb/ef0z/Xb/twHFAq0ClAI8ARH/B/11+4v7qvyL/iAA8wDQAEEA4f5//ZH9Yv5n/7EAawLRA6kDgQK7AfABCAInAuMChQSWBrUHTwjKCNwIPQi4B+wH3AhBCqwLlwxIDZEN0AwSC5YJrQgPCMAHwwcjCDkIxweJBhEFPAQlA9wBBQHkAAcB5ACmAGAA9v8E/7b9pPzl+2H7Yfth+8f6cvop+vv5qPlB+Tj5Yvny+Gf4NfgP+FX3p/Yy9wL49Piw+HL4VvgP+O73vveV+Dj5s/nN+Rb6ovpt+h76vvnM+gr88fxu/d79Yv4V/mP9Cf0F/oD+h/5H/nr+vv6A/oL+gv5G/w//Of9e/xj/3/6D/7T/eP+6/9cAPAFkABj/4f7l/gT/Lv9PAIYBcAECANz+i/5J/iP/hQAIAvUCVgP3ApkC5QFJAcoBMANLBG0FrAYIB0sG3QUQBoAG9gamB30IZAn7CY0J4giCCHIIGgitB6gHLAhpCNsHQwfPBvEF1ARkBIcEMQRAA1MCDAL/AYYBfQC0/xP/sf4M/or9qf0q/Z/8Gvyj+5j7n/uL+1L7+vqX+gL6bPnO+Mz4b/nL+aj5ofk0+qT6K/pz+Qv6Gfu9++v7KfyX/Pn8U/xk/MX8sfxZ/KL8jf2f/r7+bf60/Rb9H/35/NL8mv17/+3/AP84/jP+z/5M/kL96/0//0//qv7v/VD+Av8C/z//bQBWAegA1//A/rz+lv4m/sn+eADaAYIBlwDx//z/NABrAFIBjALRAzgEuAMYA6gC6gLTA0YFEAYWBsEFfwVXBUEFzwT3BNAFeQbeBokGfgahBl8G8wXXBasFpAUhBpwGfgY1BvEF8wXzBXQFnwQVBL0DpwOEA9QCcwIOArABVAGxAJ7/gP4b/gH+1f1p/Sz9QP1G/QL9GvxW+0f7c/sf+5f6WvpR+jb6oflF+YD5qvkB+bb4Mfm5+a75X/nR+SH6APra+Sf6Cfuf+yr7U/rK+ov7WfzD/A39mP0M/vr99v2Y/rH/UwARANn/FQAIAMf/uP+IAEcB5gDr/5z/vP8c/zv/2/99ACAA2/8uAG0Av//y/qD/5gC9Ac0B1QHKATcB6gDqAE8BmAH0AWACXQLrAUkBagErAt0CEgOGA3EE5wRBBSMF8AQTBXIFYQZtBzUILAgjCDcIQAgwCOEHnQebB9AHOgdABrQFOwVzBOQDkQMlA7UCWQK/Af4A2/8e/2/+F/7D/T798fy6/Cv8aPvk+qL6ffpR+gD6ofk2+bD4WPgW+Oz31Pef99L3B/hT+Lv4Dvmb+Xf5h/nH+Rj6ivri+ij7j/ul+5H70ftZ/Pz8Vv2e/Yr9Z/2E/b/93v1U/rP+Sv/X/+3/tv+r/6v/x//4/yUAGACp/3b/uv80AEoAIABEALQAdgBeAKYACwEkAYYBVQL3AkYDfQMSBJAEmAQiBA4EZARQBGEEmATNBAsF3ASABGEEWQSJBM8EYgXvBQUGFgZdBmgGPAYqBp4G1QaRBnUGVAbiBW0FAAU2BRwFoQQQBIgDxQLYAZ4BoQGCAYkBjwFAAaAAOQCv/xP/n/4M/uv91/0B/ij+Dv7//Y/9S/1a/Tv9Hf31/N380vwA/T79pf27/ZH9hv3B/TP+Iv4m/i/+aP4v/rL9A/5f/on+wP7u/uf+ev5q/kP+Cv76/b39Uf01/Vb9Lv0U/dD8hfwp/Ln7dfuG+437lPvP+xX8Wfym/Bb9MP0S/TD9T/3r/Vn+If+g/z//4/4Y/+//DQArAH0AwQCgANkAQgEuARAB3wDxAEQBMwExAWMBcwFsAXsBmAFdARkB8QDMANcAvwDBABABfgGCAVYBVAEzATEBDgEHASwBMwEbAfEAFgE3AQUBDgFhAZMB1QHuAecBtwHTAUMCqgL8AjsDSwNnA3ADfQNWA2EDUQNNA2cDhAO/A70DgQM1AxYDMAMuAxwDjALjAXkBXQFPAT4B+AC8AIEAKwDd/0T/rP5i/tn9cv1Y/ej8tfyi/Jv8jvyH/Fn85/uA+z779frQ+t36BfsQ+xT7NfsW+7z61/oQ+zH7UPtW+7f7CvwM/BX8KfwX/EH8s/xW/an9sv30/VD+t/4N//L+O/9p/7j/CAD2/7//v/8uAJUA/AAZAR8B3wC0AKkAvACxALEA6gBlAc8B6wGYAXMBcwFzAXcBfgFuAT4BHQH8ACwBbgGLAcQB9gH2AfQBJwJOAmQClAJrAmIC1gKVAxIE/AMdBEsElAT7BIEFugW0BfMFKgZYBlIGQgbFBaAFugX4Bf4FzAVVBdgEhwS0AxQDdgKjAQcBgwAYALz/LP+s/jb+qf0u/bH8OvyN+wf7wfpg+hz6HPrN+WT5VPn4+L/42fjI+KX4cvip+Cj5m/m1+dr5/fn3+QL6bfrO+jP7N/s3+x377/ob+zz7/fu6/Gz94v0S/iD+Nv5F/nX+yf5M/57/lf/D/+T/JQBgAHIAWgBEAF4AgQCtAK8AbwBcAGAArwAxAbIB/wFxArECvgJPA+QDCgTgA8oDoAOMA6ADQwSQBIUEiwSCBJ0EBgVKBeUEqgSqBAsFmQU8BncGpwauBlIGJAbFBWcFCwXsBJgEbARsBE4EFwTtA5UDDQOiAhUCpwFlAd8AaQD2/93/0P+v/5X/Yv8I/4n+Hf79/an9hP2N/Xn9cv2p/YL9uP0g/iD+F/7G/Y/9d/3G/Wb+C/+M/47/XP97/5P/gf+8/9L/0P8EAEgAhQCbAGIAIwDM/3v/Uf8Y/xr/I//W/qP+av4O/rL9gv1C/Qv9gfwI/M37hvtl+2r7e/s++/P62frm+gD7+voW+1j7lvuU++77AfwV/Cf8SPzH/HL9JP6Q/vn+Xv+I/8z/SgC/AF8BnAGPAVIBKAFNAWUBggG/AcQBtwH0Ab0BRwEUAfwAJAFNAXsBYwHtAKAAuAAzAXkBRwH+AJsALgAPACAACADz/1cAlwALASEBWAG0AcIBnAGjAT8CmwIYA2kDqwMSBCgEZATUBDYFPwVVBYgFtgVyBUEFOwUVBdwEsAR3BF0ERQT/A6kDWgP3Am8C2AFSAasA/P+m/yX/3/42/oj9Cf1r/Br8Afz0+5/7BftM+uP5ifmS+az5yfkA+iP6RPoY+t/52vnj+ff57vmo+cL5J/oy+kz6qfr++iT7Sfuh+/D7BPwg/EH8TvzF/JP9gv4w/+T/CgArAG0AjAAHAYABxAHaAW0CIQNnA5UDQgMNA/4CJQOVA5oDewM1A0YDMgNWA6kDtgO7A8gD9gMZBGEEUgR1BMQENAVMBTQFKQX5BCMFSgW4BQUGLAboBQAGNQbkBbEFOwW+BH4EfgRSBDEEAwSTA2UDTwP1An4CQQKwAfgAigAnAMX/U/8w/9/+c/4B/oL9SP0H/bj8b/w9/CT8FfxI/H/80Pwq/YT9xv3r/RX+VP7H/uf+Jf9t//P/UQCDANsAXwGWAYQBkQGaAXMBPgEzAXkBhgFfAWEB+gCZADkAov/w/nz+3P1p/TP96PyU/G/8AfxF+5f6J/q3+Tz57fjV+OL4sviG+F74f/ie+PL4cfmb+Uz5d/nh+TL66/rG+0X8h/zD/C79mv0S/mj+qv77/mL/lf+r/9X/1f89AIwArQDMAL8AfQB4AK8ADgFHAQABzgCxAHoAkAB/AFwAfQDHAAABWgGWAa4BBgLnARECpAI5A8gDXQT5BEQFpgUxBp4GGQdrB8cHaQj6CEEJRwlQCQ4J1wiyCPII0whhCOwHSAe/BhYGfwUrBfAEaAQtBKkD8QI0AksBTABP/6P+G/7p/d79u/1G/Yf8E/zI+5j7jfuN+6r7ifu9+//78vsI/IH8Yf1M/tT+D/9V/4H/0v80AHYAdACOAHQAbwBkAD8AMgAjAM7/x/+4/2L/9f5d/rL9/Pyt/Ej8ufuA+936g/oW+gD62Pmf+Vn5rfha+AT4EvjU96L3y/fY9933vvcz+Cj4Y/ia+BL5evmo+az56vnO+kX7c/vI+1v83fxN/b39M/6U/pv+lP51/sn+Vf/r/z0AegCBAMMAHQFqAYkB3AE2Am0CwAJYAz4E4wSmBW4Gzwa3BpgG3gY/B8AHhggzCZYJxgkjCj8KdAqICngKmQp0ChwKswl8CQEJjwheCCEI/AdQB9MGTQagBfsELwR7A3ECdQF/AKT/GP+F/jz+sv0+/Z/8Ivyc+0L7FPtX+g/66vkA+j36ePqQ+o762/oA+4T7zfse/N/8F/4N/+j/zACGAQMClAJ3A4AEPwW/BW4GbAZHBuoFCwbvBboFmQVMBREFqATcA8cC4AG2AJn/D/9U/or9ovxu+wb6yvj19yT3dfYv9r/1K/WH9MHzgvMs82Hz1fOF9Cn1CPVw9Yj10PU+9h73FvgB+Qj6ffrk+lr7Zvw+/R3+Hv/2/5MAJgHNAWIC2wLxAjsDuwO9A4EDwQPkA84DsgP0AygEqQNaAwsDwgKfAqICAAPhAt0CugLCAuYCeAJdAjYCUwLYAjIDpQPmA0kEfgTyBH0FCQZLBl8G0QYTB0oHRQdvB5IH2AcECBQIXAgNCJ8HZAfwBsgGiQbtBWUF4wRJBMEDIwN4ArQBugATAHL/s/5F/rT99/wp/HD7zPpc+t/5nfl3+ST51fjK+Bn5gPm8+Uj69fph+9P7YPwN/d79m/45/3QAWgEpAicD0wM+BHcEtwTqBAYFfwVEBTsFqgQ+BPoDhAPfAp0CiQLaARkB6P8E/4n+4v0U/Sf8Rft7+o359PiC+Pn3TvcM9+P2z/ah9mX2QPYx9vX1B/ZJ9q729PZr97r3DfjV+JD5bfrZ+kf7xPtr/PP8rf2F/g3/D/99//r/SgCOABABcwGwAcYB7gH4AUMCgwKZAuYC/gL5AtgC0gJkAmYCTgJiAmsCRQIcAuUBOAKSAowChwK+AsUCBwMuA1oDkQPkA10EmAQwBdUFTwbCBvIGHAeDB90H6AdnCGcIlwi4COcICgkQCfgIigghCK8HTAfTBk0GvAUABVIEwQM9A90CHgJoAb8AEQCr/1f/7v4t/n/9n/zN+2r7LPvz+sP6g/o9+jD6Mvor+iv6e/qG+q361foh+3P7Bvwu/RL+lP6B/3IAHwGNASACiQLNAkQDmgMmBJQEaAQMBNEDvwPMA9kDZQOxAukBbgFAAfgAkADi/2n/1P76/Q/9g/we/MT7hvs8+4P6I/qH+R35CvnT+Jj4bvh7+Ib4gvjO+Cb5Yvm5+UH6A/uR+yL8rfz5/Dv9ef3t/cL+dP/2//7/JwCIAL8ASwGcAbkBngF7AU8BRAFPAUQBHwEbAQsB5AC6AGQATwBkAGQASAAnALH/NP/h/qz+4/4j/xj/t/6Y/oL+TP5i/qb+m/4Y/6b/TwC6ADwBxgEBAhcCfAJnA0sE8AQ9BYgF8QVWBo8G6wY4B2gHwwdLCJoIvQhhCN0HpAedB2IHEwfeBloG9QWOBQYFagT6A6ADywLRAd8ANADk/0H/8v6m/rj9m/za+1T7G/v++qv60Pro+pf6dPqB+qL6FvtY+0X7VvvT+y/8lPwP/Vz9Uf1n/an97/1v/u7+SP9l/63/9v9KAIwAogAnAMH/cv97/6L/4P8lAAgAzv/v/93/lf8L/6r+L/4F/tf9nv2a/T79D/3S/LH87Pwd/cn8n/ym/Gv8Nvz7+//7fPwE/X397/3n/cj9sP3n/SD+i/6N/kH+JP6A/hj/Of9t/z3/Rv9w/87/1f/X/xwACgAjAE8AoAC4AMwArQBrAGcAyQD8ABAB+gC4AIgADQAYAPz/BgBnALoAzgCXAGQAXACKAPUAQAGeAc0BAQJDAqYCLgNjA6ADnANuA1oDdAOgA8ED4gPZA5cDlQPBAxcERQT4A5UDTQNNAxgDBAPmAq8CbQIKAs0BoQF+AVQBNQHqAIoASAAIACAAoP9M/2r+Yv5S/nP+jf4t/vL9nv3t/dP9mv0o/QL9BP0q/Q39Nf0u/Uj9U/2G/Qr+X/6f/p3+o/6m/pL+tf71/gD/Fv80/zn/BgAUAYsBBwH8//X+cf70/br81vyt/er+T/+b/jP95vzX/cz9pv4C/xz/TABaADcBVAG/AcUCsgE2AgwC4wKaA70DpgTQAgsDKgPbAlgD2AGMAk4CtQItAmACGAP9AaEBmQAvAiUDVwLBAMwASQSJB24GQgHS/jAAjAJJAUf+//39/YL+d/3k/LP8Q/xk/LP8a/ze+9P7KP3u/r//5/7t/YX+pP80AMX//P89ADAAzgDDADcBeAAl/4P/EgFdAgQAif68/goAoAB1ARb/Mv+A/tD/v//4/xUANP87AG3/XP9B/iAAbf/z//D+TwAeABEACgAX/n7+ff/2/wMBZf8O/n/9CP+//xQBzv0k/Av94v/lAfj9j/1L/XD/zv/x/0H+5P1z/sv+df4pANL/cv+x/hv+cv/F/7H/s/4cAPb/fgGiAAcBYgAe/4P/LAHMAFz/sf8RAkQDQQLs/jD/EQLkAxkCaf8ZAhwDhQJ2ANz+gwI3ARIBVwCnARoDiQErAicAFQJB/+T/2v4N/6IAtwFiArT/9f6m/ob/hAF9/yb+lf/6/4kB1v6X/739pwES/goCCACV/34C6v4PAID+YAIy/5gB4f7B/4gDEgE8Acv+pgAOAlwAbwAh/84APwDr/54BPf+d/vgArwAe/1b9+/6tAHT/Q/wd/vX+NgBS/kT96P/Y/p4Bx/77+6T8nv2YAd/+Fv0V/tz9SgD4AHL/dgAAAKsAHP9M/xECfgLH/xEAJPydAgwEev4/AqcBOQU0Apr9hgFWAz0AAwE0AFQE/AAXAqQA1wBeA5H/AACU/k8BkADG/S8CCP+U/tb8Sv8VBdAAt/40+qj+2gSvAmf93/6p/bcGvgI0/9/8yf5bBMEAuf77+/kC4QIaAx78FgEcAwL/qvxo+90C2f91+0QA7v63/j0Fovcw/zz+r/+EBmj7OAQt/qv/hv1+AaQCC/j1BTICCQZsBPv7af/z+i0Jmfw//zICbwBgCjz5RAHJAAcDdAWa/az2YAJGCkX8AgO7+5wBwAfm/5n8CvkZAqQHYAJv+Sr9pgVf/iX9KfoG/z0Hcv8v/LL7NQM0/835xfwd/b4CawII/O7+iv39/Vv8fPxkB/L+iv+E9tv8aQM9AIkE1Px0A4v+D/rR/XAFNwPe/aIAtv0++5gEFwREAbH+5/Zw/3YFcgXy/iv8OwMR/J8ETPyD/AAAz/7ABE39pQOLAVf+ePxKAnQA2fzlAQL6bf8nB2YE9fyX+k782P7CC+QABPwS+fABZAdu/ej8B/thBtD/Uf20ANv6BAXLAov7sAFVAlj9RQJIAx/7GwQV/BcEi/4W/ToHUgGOACH6XgUL+xYBJARxAin81v6g/YUE6AKtAK36Xv1yCCP9bgHR+OYPM/3V+hP3VfqXCG8E5QEV9LQDWPZiDJ/7uPw7/yL34giV+hMKfPwS+d330gLGEDQCvP998Dr8egS9EIUFkPLL99n4lhC5Brz++vMC/4wDUAepA1L5ePrq+TMGGgOEBq777fo5+moBDQpw/2cA8frdAJ4AE/z/Acz/av6RA8cA9wIZAeH0AgUJA7UCbwB3/fn+K/7mAqkB7f9r+s8GUQMS/fT4D/x6AOn7BwTBCGAAc/L6/0kBVARHBDv9MQa5+9z59gOBA+4ERv3g/dQA0Qg5AfX5S/vfAGUNugK6Amn1PfjwBIMAcg82+r78NAKA9g8IYP+7/YED9v+U/MYDxgTSABj1Yv9gCsEKO/05/WD69/wJCB4AFA0J++oA/vrz8K0IpvqxBdoBM/aFADn1dP/9+JL8nf4r+eD/kQGJAqb+7vcL+IsB4gorDD8A4/QN9RMHPQ0iDngC0/bc+G8EewjECbH+kfiX/2UDWgof+7UCUQD7+5cDYPym/+sDEgRr/4MAFgPeAfH/b/njAaUDDv5T+mQE6gd7/0H8vvfB+s4FyAMgBZX9Vu+m/psAKwckBAf9cP2m/G74Cvy0CNED1wBC+6H5ZgR//2wEZf3L/hUHogOgBfv51/8rAkwFXQnaAYD+0vx29zD/MgPwAbkBR/6r+tH5ePw7+Pr/vf2R++n9a/8J/Wb5+v3A/MsEOP5u+yj+8QC8Ar/9PQDY/lsEEgix/u//b/74/1IEaP4CA2YHRgC5/in80gBXAvD+owFE/0cEoABB/i3+1wNDBHQAkwGN+EgDLwdsBl4ApPpt/1f89QJyA0ECQP2y+OoApwN+BGMBI/1q+c37XgDk/+gC8vt2/zz+Af74A1oB3P689xj/Sv/NBBEA2Pus/kj8KQBnAOUEYv8D+ZH7Fv/d/+AD+AE4/G0AK/x7/439mf8mBmEBR/5/AEH/yQA5AYYB2f9D/m0CYv5oB0QF2f9W/er8KQKkAmEED/+xABz/ff9PBswAEQWl/dP4w/wHA38IPgSbAir7TPxBAOMCngMvBJT8Z/1a/zP9iwkpAgYAGP9IAO3/jP8AA+b/DwV3/Sz/4AOVACACxAHIA1gBKwDv+Kv6tAAvBpkK8/8cAE/9Av8s/Q/8xQD4//4HaAED/iz74/cs/eYDRQf4AK/6QfzP/s0BQAMY/zj5U/0+AQgC2gQC/Zv66/gI/mQJPgZ2AFP6U/X1+T0AZgdQBy8Ca/wd9pv+BQFfBCYGWv0C/bn7IADDBeIF/QH2+wL6mfqI/zAFbwSeAG79BPo9/9UBSQGx/o37Jf1TAsMFMQHv/Z76mvsgAKcDFQQVAn//VfxO/jYAzAD8AkkBVf+jAZ4DngB2AC79Vf9uA8YDSwOm/9n/bQBFAt8CjwHt/Zj9OP7hAqkFtwGr///9iP/HALsB6gCMAMz/3f8XAiwD3gMOAST+SP9ZAtcF4gW8AAj8V/yWAeoFygXAAiP9vPqj/ncD+AWGAeP7+PpA/VMCngVwBS7/3Pk3+E78CgT9BKwBc/tq+Zr7KwDrAcT+bvuD+mP9MgCg/4n8Evn89/76IQEIBYUAVfpb9OD1cv3uAmgGwQB0+Cf14/cI/NcAcgO8AFz9jvoX+Qb8oAAvApwBrf8V/uf99P3a/h0BxQIKAgECRwGR/4P/Cf1B/u4CnQRgBQ4C/Pzg+uf7BP+QBGUF0QHy/mr76/pX/okBcgN+Ag3/U/0//In86v4ZAa8CUwItAnkBiACpAJ4BQAOMBUMHwAcJCGIHTwjQCk0Nzw42DhgNxAvSCrMMOw8XEc8QGw7pC50JQwfeBukGAAZRBUgDwQD0/QX7pvnu+bn5h/lY+CD3f/Wd8jP0+PUH9lf1QvNJ8Zfw5/E89EX2SPWB8uHvk+5z78Pw/PKU8mnwtO4n7rPvIfFD8t/y+fFH8d3yn/S/9kP39PaD98D5pfua/Yr/3f/bAFEA+ADLAp0EtgWkBX8F/QRmBPIEuQaUBy0J5g/tGZgcyRM4CTwJhhI7HN8geCLuHw4Y/BEAEiMXOBtSGlwUYAzzBQ0FyQlzCxkH/v9K+kv2RPVW9kj3L/fh9PnyK/LF8uTzSfa19432lfVK91j7Wf6K/8z/kf8//+8AwwMGBQ4GoAXtA24DBAM2BJkF2QPDAAb/Ef9g/7b/V/+Y/cH6//gK+bz5APpB+h767vli+fD51/rr+nD7cvrb+m3/YgVSDscU4g9CBrQBIAdKEeIXWRjxFGUPPAnTBuQIOgvRCfkCOfpp9RX3Xvrd+uP2Nu9/64DqJeu67Yfv4e/q7Z7r9euG7ibxyPGt8NHvQvFq9Ab3e/aI82XwoO4r7yrxxvNH9JTy7e7I7lfwDvE48ibxf/A28Aby+/a/+sr7pPoY+qf71f0VAE0DqwWcBiEIpg+mHXUnaiROGHcQvBSnH9soEC7rLRooiR9eGY0abR7DHtUZ6xDzB8YDXwaTChcJ3gFh+FTxj+5r8OH00ve/9urysO8V72/yGPi1/BH8nflP+gj+HAPtBawG+AXZA5wDmAbJCe0KgwodCOoEugJDAiYEMwQfATz+DPws+1b7TPyO/Dv6c/dR9Vr1Afdc+NH5CPrh92r2ZveC+WT8jf0K/ov+u/2N/ZH/WgGaATkBYABg/3D/QAEjBR0NPRGGDWAH0gImBHEJ+A3gD38PaAtVB8wF8QXfBz0HjANW/aH5Ufoq/Xz+XvzV+LH1j/Od8kr12PZo9vL0F/Lm8ODxFfTD9R712/JE8YHydfRP9T/1LPNH8aHvUO+E8fbxePBv7QvsS+zw72fzqPJK8Jvta+2w72fzYfYd+Un5Cve+92z7agEOBK0CqwArAIkEpg/8HkonTSNmGKUSdxddH1clgCkHKZ4jyR3sG1Eefh9gG84SzAh3AegAKAY+CXYFrf1H9lTxV/BM8oX1/PVe8gDwf/BY85X45P3g/9j+e/0l/6UD9wc2CnYKmAnsB6QH8AllCxkMSwsLCJAE3AGnAVsCvADK/RL77fgj+Ir4Uvnr+JH2IvQN83f0i/aV+BX5f/gw+KX4Vvs6/icAcgCi//H/oACnAUQDYQRmBEQD8AG3AbgDBgpTEXISeQ0iB3YFdAjuC1sO1A4RDGwIHwapBW0HkAe7BJ/+v/iv9176nP2p/cX6e/jN9uT1hPb394/45/ZF9MbzavSE9i74wPek9QvzsfLs8i3yT/HX8G/v6+w06yTsRu5l7rTsAuvB6TLpM+oq7KTt0e7j76/wpfFY8wn29vg6+zj8K/6k/6YAaAFIA6UIrxHlHZYkzSL+G8IYNxxgINcj6SRdJGchCh2dG7Mb9xuCGE0QhAbg/2j+2wDlAd/+ivoL9kvz5vIe9VD3wvaf9JfyGvM49w39fgIyBWgEcgM5BSgIJAuqDBwM0QmMB9sH3Al1C+8KeQi+BEQBpv8R/wH+gPtj+H725vU69gH3r/dD95v1+vMO9MX1IPc7+DP5rvlr+v/73P4WAdoBMwFKAAgADwAZAWwBbAHXAMr/V/8C/6P+v/1R/XD9dwOqC/QN8QpjBksG/wiPC0AN+g38DNQJogeUB2AKBgw2Cb4C6fuC+Xv7sv3A/Mz68vhV91T2Q/dO+dX4dvXD8KDuVu8p8tr0xPRh8yLyufFz8brw/e+W763tu+oy6Ufq5exQ7bTsqeza7HLuNu+j72vwJPGM8srzlPTT9gn7HP9LAcgBqAIZBKIDcgPZBcAMYRf9H/0haR7qG1oedSLOI3EikCCnHp4c+xpvG78cahp4FIkM4gW4AlkCLAG9/eX5ufYZ9qX24fcX+fT4DPfU9F30dvUO+Zz9AgBfAUoC4QRlCD8KJgtICkYIcAZrBV8G4wYfBkEF3ANbAsMATwBt/7X8UvkM9zH21/UD9hP3jfiN+Ij4xviQ+cP66PpS+0X7APvw+2f9Ef89ACQBKwJzAsgB6gCKAO3/jv98/pj90f0g/pYBywfsDC4P6w39C48LVQxyDa0NeAyDCmEISgexB9AHeAffBNf/qvsx+d748/dJ9jn1kvTw9J71NPea+Ej4JPbR84nyHvIY8+Dz2fNW80bzW/S/80LzOfPY8Wvwju3z6+LrSuvS6//s9O5R8Ozvce+m79fwmfLx8+z0T/W69dH4BvwS/nQAVQKtA6ID6AIfA6oE/wgJEmsbch4aHCIb+R3vIBIhSCCEHzYdpBlGF9kXrBghF4sTjw0SCLcEdwPVAZr9+Pg89p711fUt9574JPl/+In32/eo+Qb88v66AMEAYwGyA0oH1glNC18LHArMCEUHoQapBtsFyANhAaD/LP9K/8v+Ev2K+tH44fcT9132dfa39r/2Afem92/5APuE+8b7yvsK/GL8Zf1M/ur+jP8NAJkAMwFHAW4BNwERAIf+mv3R/UQAzQk8E2AUixBtDNwNvRB7D98MVglaBVYBD/8rAMUCGQKl/bz3h/S89Vr4FPhf9A7yCvL484n2Ffma+4b7V/mq9yz4zfnM+m/54PV/82fzVPT59HX0kfMp8oXvOu0v7Yzupe7e7P/qQeuD7bnvj/HN8pzzc/QW9a72oPgT+tj7Ev1i/ooACQNXBZ4GXQYeBU4EqwXtCnMTLxrQG8MZMhl3HAQgBSHaH1cdQhmsFbgUzRWdFkEU3Q8oC9gGVASBA+AB1/2++Tj3Vvbj9sf38vhx+Tj5Jvns+Rz8Sf76/yQB3wBWAZoDRwZhCPgIQQkFCQQINAfCBhsGywTAAgABbwAIABb/4P1b/Pj6NPrl+fD5avkS+ZD5xPns+RP6kPpz+977wvsy/ND8o/0D/sf+IwCZAPoATwE3AUoA7/8bAe4HlhCTEuAP+Qz4DekQdxCwDdoJegUOAUT91PzU/iH/FfyX9wb1Vvb0+In5Mvdt9cX1Efc1+Ln5gfyg/bz8aPvg+4b9nP3y+0n5DPfZ9Sf1VvSi8kLxlfBJ70jtZexF7XbtKuwE62nrOO057sruTPBx8iT0V/Vw9kX3OfjY+UD74/sJ/Wn/EwKpAwwE5wSLBmgHFwfzBbwF5gVeBRYGmggzDeISfBa7F/0XORn/Gocb4xp0GRYX5hQ4E4gSeRJmEQAPegw+CYYGVQXmA7sBcf6a+8/5p/hw+K34zvip+P34Xvog/Gz93P4nAF4AigDpAe8DBgU9BWkFcAUYBbMEnQSABLIDpgLIAfgA5v8Y/xL+3fys+3D68vlv+cr4Xvhh+KX4d/il+Gr5MPqQ+lL7OPz3/Kv9K/6j/u7+7f/AAtsKthKoE58RnxCUE+MVoxPMDxsL7QU0AM37HftL+xL5E/U+8TDwTPIR9R71FPNz8r/zf/XC9m74l/pu+476iPoh/Yr/dP8I/lX8fvvi+vD5jfgq9iT0IvK+79/tRe0J7uHthuy6667syO4a8HDw9fB28pHzX/TX9fv2w/iT+hP8JP7V//QBewNWBGAFKAYOBzYH3gYcB1sH6QYzBsMFuAVzBigInwttD/wRyRMWFc4WUBg9GaAZ2BieF7IVZRQCFDgTBxLvDyoNsQr0CP0GuQQDAuT/Mf6M/Gr7l/pg+iH6gvk6+Z35YPpu+6j8vf3q/jQAWAFdAn8DuQRaBVEF9QSCBPED+QIBArABWAGiABoAvP83/1D+Qv1e/B/7+fkt+QH50fjg+GT51Pm4+sb71vyl/Un+Of/+AN4DowaXBzIIfgmLC4YNTg4bDlENdwsMCQ4HfQWlA8MAp/0z+5v5lfiB90v2Z/Vt9TP27vb590z5ovph++77pPxL/Xv9Fv0L/R398fyi/BH8j/sL+1H6JvlX96D1G/SH8i/xie8W7njt0ex+7Jbs/+ym7TLuJO+V8HbyqvRf9sn3cfkS+2/8oP1B/rP+lf8gAGIABgAEAK0ASwH2AQkDNgSmBIIEvgQABZsEzANnA8EDWQQABQEHaQqtDUAQnBJ1FTYYTRqqGwkcThv+Gd0YWhemFBYS7w9wDZcKVgjPBmAFDwMUAZH/Gf4y/Hj6m/lc+FD34/bN9lv3afhG+p38Qf60/1oBCQNBBAQFwwUdBrQFwAS7A7wC/QGwAUkBmwC//x7/PP5j/X/8R/sN+qn4x/dF9/32Dvel9s/26vfp+FH6Cvy0/ef+e/+r/x8BQAPyCDQRbhUvFroUlBUmGJsWfBMIDxIJEgP2+z34o/Zw85Dvl+u56mXsre4b8c3xHfPH9aL3VPll+rX7f/wd+576bvvw+6r7LvqL+Y35u/iq91j2LvVS9AvzEvHr7nztDO3C7B3scusf7Lrteu8Q8f7yKfVW9in3v/hB+j77CvwW/Yv+wf93AV4D/QT+BZYGkgd0CJoIjQhYCHoH6gUXBBwDSAJaAYYBXQLcA+YFJgljDf8QnxPTFd4XBRpbGzkcURxXG8oZwRf9FZ4UpxI+EJoN/grZCLAGuQSqAhwAv/2L+7H5ZfiS9//2o/Z19rf27PfJ+Xn75Pxq/icAEQLZAzIFKAZhBgAGigXnBNEDugKwAXgARP8v/mP9wPzr+zr7dvpx+Zz42/e193H3dvd5+Ln5Fvsh/eD/DQMWBmwIkwpgDLANKA4zDtkNWwyICm4I9QWaAzEBVf+T/cL7V/o8+aX4Ufgj+Fr4Ufgo+GP4YfhN+L/4jfnH+qP7FfyD/KL8pvxe/Gn8DPwb+wL6mvg69x32MvV19J7zjvLE8aHxgPFh8WPxrPGc8YLx5fGm8qDzo/S09Q73C/jO+Er6Zft8/KX9if45/3D/g/+4/8H/k/8e/+H+t/73/tv/NQHyAUwCAgPcAy8EDgRhBBUFogW/BQcGqQaoBy8JpQvaDhURVhK+E/QVgBiLGmsb/RoHGmoYThYTFOwRPQ89DCAJLAaRA5gBRADC/iz95/vZ+lf6MvoY+tr5s/mj+S76Nfuv/Ez+pv+vAMoBxwKTAygEswQGBc8ELwQqAxwClQAh/wH+n/wk+/L5Uvnt+D34uveF95f3Avip+JT5k/oW+8/7BvwE/fX+3AOzDH4T+RXwFXIX2BpIGwQZeRW/D3cJZQEo+xj4NvRi8Ijr8+jK6brr5u6B8EzyTPUi96L4UPnb+kj8lfrX+PH3B/ga+F73nfca+Bb4fPdC9jP2qfUe9bTz0vAZ78HuJO/t7mfuJu+B8EzyfvQk9zL6cPtS+1r7PfxN/VP9uPyR++36sPvL/CD+Of8/AGMBIAINA4IEFAYRB5QGzgVPBaoE7QO1ApEBmwA/AFUAFAHdAoUEdQYHCQYMfQ9PEg0U4xXkF1MZaBrEGiEagRnPGHQXexUmE+cQtQ4tDFsJuQZJBFIBZP5r/KL6Yvl7+P73+feC+GL5GvoL+zb8p/0Y/0gAMwHTAZkCQgPmA4AEfgTvAw0DLwJJAUwAOf///bH8tfuO+tT5wvnU+Q36U/pq+/P8lP6MAMIC5QRuBqQHsAiqCSMK6glqCVoIuwYcBZoDWQLxAMP/4f67/d38fPxv/B78lvsk+5f69/kr+VH44/fJ95f3fvef93z3J/fT9r/2t/a99p/2VvY19hT22fWv9YX1f/Wt9Sj2dfZS9kX2svb99vv2Kfcp9/D2RfcA+Ov43Pk5+jT6+/kl+oH6TftI/Ir9Pv6U/iP/jP+R/0j/Kf8L/7P+Xf7E/qD/egDxAKkBPQKJAtQCgQNdBJQEAQRTA60CcQILA+kD5wS8BaEGoAjZCo0NJBAwEiMU0RW9F5YY8BgEGYIYMxfmFPISAREKDr8K2weDBWcDdQG8/wz+hfxC+576SPqQ+V35rvmj+fv5oPpd+4z8dP1q/q3/pgAUATUBZQFjATwBJgHiAK0A7//P/tX9D/0a/Q39Df1I/dX9Fv82AJ4B7gLIA7kESgU8BhwHHAfYBroFzwRFBIoDqAKhAbYAQQC6/4P/U/8p/zT/xP4D/kT9hfxz+/35rfg998H1ifTM82zzI/PY8p3ykvKo8vPyafMO9Kr0BvX19F309PMM9En0h/Rv9AX02fP883z0SvVw9iL3YPc1+F355PpD/LH89fwz/cj9Tv6W/qP+VP6S/tr+0v4j/2n/IwAdARkCCQNLA1YDkwN7A6UDvwOnA48DRAMLAxoDfwOTA54DvQPtA5gE1wWdB2YJAAvqDMIOpRCTEr8UkBZCFy4X+RaiFvAVSBRcEnkQJg4VDM8Jjgc7BQkDEgFE//L9Nf2d/CD8lPtC+137c/uu+6r8IP71/gT/AP9e//b/TwBgAIMAPwCc/0z/Fv/U/rn+av7n/TP9/vyY/RD+A/5Q/jf/PwA8AXMCKASmBb0GUAfWBzUI2Af/BgsG4wSMAz0C8QCX/2b+Yf2m/Cn8rvuh++P7svt7+377bPtW+wX78/qG+uP5DPkP+Pb20PW39Kfzn/It8mby7PIw88fyrfKU8rHy0PLs8hjzY/Og8xD0qvSi9Yv2Zvc5+LD4cflt+mr7J/z1/P390v4e/zf/Vf9M/wD/of4d/sj9d/1Y/Yr9JP5R/4oAaAHlAUMCfgKtAn0DgAQABcAEIgSRA84DJARfBF0EywR3BqkIKgthDYYP0hGFE7oUKRZ3F94X2RY8FRATKRF2D3cNVAvkCLQG4wRTA74CXQKyAZcAk//L/lD+Iv7v/Sz9yPvv+hT73vtt/PX80/1v/vf+7f+JAcUC2wIeAioBeACZ/6r+tP2o/BL7wPnT+Dv4TfgM+R76M/tO/Lv97/82Au0DqQX9Bg0IrQjgCCYJYQlbCeII0AeCBhgF3gO4AnsBSgBw/6j+lf2b/JH7w/r1+WL5Q/kb+Qr56/jg+OL4OPlB+Uf5Lfkg+eT4C/j09rz16vQK9Ejzy/KF8vTxv/ER8mbyYPJ28nryhfKm8ury4vOo9Gv1SfZM9zv4zPgQ+aj5MPpF+2n8Vv02/o3+P/+8/5AACwHkAJUARABpAIoAjACFAJkA/gBuAU4CcANBBBoFtgVNBqEGXQZJBu4GuAgQC00NDQ/IEMoSzhQvFmcXZhiJGOIX5BanFRMUDRKeD4kMCgk5BkMEjgKmAOX+8v0+/bj8nfws/cz9Iv4F/vb9Hf4Z/lT+Hv+0/2IANQEXArMCMgPZA9cDNQMyAokB2wDO/5b+Jf2q++X5ovj592n3SPcR93H36/gL+xL9Gv91AXcDUQUpB4oIdQn3CeoJkgkSCUsIhwelBpAFUATjAosB1/8V/rH8jfuV+hz6z/nq+Q36wPnf+Rr6LvpM+tX6QPsS+4H6Fvrn+YX51fgo+F73Ovbf9NHzGvOU8tjxX/FW8Z7xHvKQ8izz4PM+9JT0/fR99Tz21fam93n4ofnk+sT7QfzJ/Gz9hv1A/Yr9KP6b/m3+PP5f/rf+If+8/14AmQC8ACgBaAJPA4YDxgNSBPcEMAXDBRMHaglODD8PhRFME1QVdxfaGLgZ6xkYGY0X4hQJErgPUw1cCjIHQQQXApMAoP8I/5b+gP6N/qj+Av/o/8wA6gB0ACMA0v+2/+D/SgAHAXMBDALqAsEDUgRUBCYEZQNZAsQBGQH8/13+Ivw0+rT4ovdg92T3Xvc99yL3l/eP+PD5d/sd/aH+w/8AAZ0CKwSFBecGPQhSCRwK3Qo8C2wLQAuQCiYJ+wamBHMCIwDO/b37AvpA+P/2ifaP9vD2YvdC+JL54PrV+0r8dvyD/Gn8K/xu+x766/gC+Cf3M/ZR9er0nfQX9MHzS/ME83Py1fFu8RTxzvBT8Hrw3fBU8fLxC/N39MP1Tvfr+G36PvtB/Mb95/5V/xH/3/5c/5n/Sv89/wT/8P4u/+b/BQEKAvECkQMiBNEEogWLBqYHxglTDD4O4A8uEoIVUBhwGeYZ8xmGGcsYdxeyFSITGxCUDOAISwYoBDYC4P+l/YX8EfxO/K389fxa/fL9Zv7u/pn/UwDkAGgB5wGHApMDjQRRBegFiQbpBqcGjwZjBqsFhwTQAv4AD/9Y/en7hvo2+dL35fZa9kf2i/YM9wD4A/kT+i/72fzc/noAtAHoAl0E7QWBB+8IRApSC+kLIgxFDAgMPAuFCQoHVASjAdr+JPzR+dL3kfa49UT1gfUm9vn21Pe7+Mf5yvqc+0z80PwP/cf8V/z2+3v7uPr5+f/4rfeN9sf1UfXj9Gj0B/SX8yHzy/J88s/xKvGp8ErwffAv8TTyovMP9V32jPcF+Zf6L/xE/Y39j/2p/Qr+AP+6/wgAVwDJAGwB9gGFAjkDRwSWBGYEgATBBX0I3gvUDmEQ5hGIFB0XbRiSGM0YBhkMGPkVsxPzEdUP6gyuCUkGUQMAASX/cP3K+9f6ovqx+uD6fvu1/JH93P16/kr/IAA1AQEChwLFAogDpgSBBR0GrAbwBsQGgAZSBgsG7AQNAyQBVf/B/YP8Mfv7+dz43/de9zr3Tvfm9/T4HPoJ+6r7pvyg/cD+7/9wAfUCBwRgBc0GCwgvCaYKyAseDC0MvwvzClsJ0wYoBBkB/f1S+9P4ofbU9HTzw/LU8nLzsfRC9tL3UPnX+j/88fxR/XT9Av1I/KP7wfrw+QH5H/h29yf3vfZJ9iT2qfXR9L/zBPNr8rDx2/BM8BPwKfBE8J7wSfH98QDzh/Rq9iz4rvmm+p/7J/zq/JX9KP6U/rP+I/9//xUAxwDaAdYCpwOqBKcGEQpbDrQSGRWBFl8Y7hqYHGMcihtjGnoY5xV6E7cQtg1ICs8G7wMHAZj+Jf0B/O/6/fky+tL67/qC+3z8e/36/aP+iv9RAEkBwgJ1BJsFmgbYByQJBAoNCvkJiwmRCHYHagb7BAADtgDE/kD99Pv8+tz50fgU+C74zPim+XD6gPuB/ET99v3E/p7/1f/i/2AAiQFLAzYFggZoB4oI7Al7C+EMcg1CDdAMhgtMCesGtwTKASb+zPol+B/2YfQa83bySvLS8szzTPXn9lb4bPkj+sf6Nfua+6r7ZfvZ+hH6L/k7+GD3qvZu9vr1mfVy9WD1mfWk9av1HvVo9Mrz0vII8p7xc/FW8Unxo/Gd8hD04PWH9wX5Fvri+q77V/yi/O78WP3n/Wb+3P7o/00BXQKBA6AFdwkTD/YUiRiGGt0dRyI7JUYliCNsIaceXRpoFQgRTAw6B68CN/9Z/A361fgl+EP3dfbl9t/3hPgg+Ur6mPtb/BT9Rf7d/4QBaQOpBWgHnggnCikMsA1iDmQOXA1FC9cItAZJBDMBzP3D+lz4mPaK9Rb1E/UT9Yr15/bn+Hj6IPzK/Qb/wf+8AK4BJwItAisCogJyA6YEhgaaCOUJTAqYC8ENnQ4HDjMNbwy2CvEHwgTpAaj+5Pp+9y71D/Nu8YPw5+8A8OjwuvJs9An2w/eb+eL6C/sD+4/7u/sx+4b6wvkK+cn3svZJ9mX2L/at9U/1PfUc9WL1gfX79OLz1vJT8sbxzvDw7/nvsfDT8dvy0/MT9c32Jfg6+VH60/sJ/Xv95P0e/5sAsAFTAtYCDAQFBucJdg8kFaMYgBqfHRkikiVqJjIlDyMpIJAbYhaFEXEMiQaDANH7APgj9fbzw/OI8z3z1fOO9UH3tvhK+q77g/wu/Wr+YAATAtcDugUtB08INgrDDKMOUw+3DmENuwvLCdgHfwXpAbL9Hvpp9zL1zvMj85TyqPLx8xn2p/jk+sv87P7DABwCQAOjBHoFsQW0BaYF0AVHBrMHnwk6C80LYAy0DTAPvw9lD1cOkAy7CacGxgOZAPn8JvnK9XvzOvKh8Z7xmPHT8Rjzu/Qf9iL3Y/hx+cL5tfmu+Xr59vjx98j2IfZ09bf0QfRx9Hr0rPQ99bb1+vWE9iD3P/dA9pb0NfMR8vjw9++b75vvaO8Y8M/xZfOS9M71b/ct+dv6g/wS/mX/2QBkAjkD4gM/BSEIew3jEw8Zrxs/HqoiYyg8LEosbSrhJ3wkRR+TGZQTiQy5BI/9/PfB88XwJu+l7kbucO777+HyvPWt96z5rPuG/eH+DQDcAQcErQXaBr4HFQkSCzAN7g7KD30Phw43Da4LPAmxBXUBD/1H+c71LvM88R7wie+b7yzxq/N39mj5J/x1/scAHAMaBWoG0wajBnkGqQaBB1IJbgtrDKoMVw4kEWYTlhOVEnQRrw+DDKsIHAXbAHv79fWy8ZPuaOxV66Xqueof7LLuhPHO8yr20/ix+iz7Dvvo+jv6oPiY9gj1j/Pr8d/wU/Ae8E/w7/C98Q7ypvLI81n02fM989/y2PKU8sTxT/FJ8WPxsPHJ8iT0kPUK96f4T/qj+5H9rf9qAScCawJ/AzYFHwj+DFsThxgcG+4dkSM2Kg4uli6pLecriChpI9oduxcmENIHGgBz+WzztO4b7KXqqely6Qbr0u2I8BjzzPWc+Jv6ZPxd/m8AkgJWBK8F2AaNCP4KuA1/Dw4QmQ/HDqANUwwnCn4G9AFu/Uz5qfWt8lrwTe7n7Hfsm+1B8F7zsvYh+mP97QBqBIkH8gk+C3ULjQtpDB0O0A9wEK4QphFzE+0ULxULFRYUPhIhD9IKjwYBAhT97ve88kLuBuvh6KnnsOcu6YHrS+6P8Rb19PgX/Nf9vP5E//X+nv2/+1350fYo9ITxfu9l7gfu6O387Tfu4O7Y71rwm/AL8X7xrPF+8UnxUvGa8dXx//Hd8q70Afeb+dj7sv3i/z8CzwQMBxoIbggOCSoL2w+sFccZDxuRHBohOCeKKpIqZikAKJslpSE2HVcY/BG8CrIDkf2o91vysO5C7DHq8eiM6eTrv+6l8Q/1tvjT+13+vwAcA3IFYAecCGEJOQq5C9MNKQ85DzgO/Ay/C3YKWAjwBKkAg/wH+QD2S/PF8N7uZO2A7CntS+9K8gD17PeR+5X/YwPyBuUJnAvODMoNaQ/QEYIT0hPHE8oUDxaFFukVoBQOEwYR8g3hCZAF0gC7+yH2+vDw7EvqOui65tvmjOgr68ntwfCb9Nf4Q/xX/rr/tACvAKn/Bf69+574XPWm8pnwGe+d7Zjs0us/61zrFuyP7CjsEOx57P/sF+027cDtJ+5s7ubuA/HD8/P1efhN+zj+uwFpBXkIHArmCj8M5w5JEw0Zph0dH9seKCHaJhArMCsDKWonayWEIcEcRRjTEnkLyANn/Z/3wvGD7XLrq+mn52rn5umk7c7wxvNb97z6o/2pAM4DlAawCPkJxwpWC04MKA6XD6kPVA6+DHsLHgofCOwE7wCB/Ev4tfR18aXuM+wx6tToAuka61HuTfFm9A34Hvx2AM0EWAj1CpkMOA4iEVEUDBYGFkgWsBcYGQQZ8heHFrYU0BHnDZYJrgQY/yT5UfMy7vjp2+Yv5bfjaOMS5f3nV+v/7vbzLfnb/D//ewEYA3cD4QKAAYP/3/ys+c32d/Rt8hjwFu657KLrLuvW6grqyegy6DTo/eeW57nnquhe6c7p7Oqt7XvxqPQw+Pz8gQL0BgQK8wyPEDwV1Bs3IyUo4Cj8KLosyzGhM0ExKC6pKzAoNyObHdUXmhCXCFYBzPpB9HDuruq056fke+LP4k7lOuhn6yDve/Ps99P7kf+XA6IHQgvODYMPyhCjElwUFBXBFC0TNhFTDzkNEQqBBREABfu99vPyfu+P7O3pyueQ5gnnBOmx62XuhvFV9WT5//38AnoH7wqNDdsPCxLfExoWbRg/GSAYZxe3GAEaCxmUFj0UohHTDc4ItAOz/tz4gfLg7PXol+bb5KzjPOMw5LTmdepR7mjyGfdS+5j+MQFAA4kEmAREA0AB4f79+4b4NvXm8tvwyO7Y7EjrqupZ6nXqJuow6V3oFegn6P3n1eec583nseiA6tPsn+8d8yv3ZvxsAXIFGQm2DZwUiR0HJvEqNCwtLkAz+Dd5OIQ1GDIcL+QqlCQTHrIXBxCXB6b/d/h+8cHrE+gS5QPi19/c4JvjLubx6LDsifHv9ff5Iv6dAh4HzgpIDU8PJxFvE7cVqBZ+FRAT9BA/DyUNtwlIBXgAxvtm9z3zm++07Bnqu+dy5hDn4ei36hztSPBf9On41/2dAgYHkwp5DRkQTRITFAYWnRgMGoMZDhhHGI4ZDRmDFrcTkhF+Dg8KNAWIAFL7NvUo70Dq7+bm5J3jgOJU4jLkTef56rju/PKo94T7ev7DAKoCfQPoAkcBIf/o/GL6pvc09aTyNvAS7k/siepc6V3oN+c05lnlh+Xs5eHlguX05eLmJ+jM6S7s4u6p8br1cvpa/9EDVggQDm4Vex4eJ0Msfi4RMkc4Oj38PN85hDfSNPMvHSlqIkMbqRKFCWgB2PlT8k3sjuiL5f7h8d+l4NXi5OQS58DqDu/38rv2QPsVAM0EIAmZDAgP7hDAE04WKBdeFtIUVBO1ETkPnAtTB5cCpf3g+Ez0P/De7LbpaOdn5gvnwuhk6onsru9589D3evxqAc4FyQlYDbAQLRNwFFAV0BbnGMMZphgoF1wXVxj4FyIWwBM4EbINggk5BcwAz/tF9hLxYezz6LjmYeVC5CzkLub86Kvree5T8r322PkB/F3+kACEATkBigCR/8b9rPtz+dj2KPSC8abvFO557G/rlup/6YTnFeYT5inmeuWa5KXkBuZ+52zp/uvt7tHxBPUS+fj9pAKUBsoKvA/bFncfmiY7KmIsGTH3Nn06HToqOGQ2cTPyLpQpoiMwHN8TzQsKBPv7ofQV79jqxeYv48HhNeI0463kGed36tDt5vBk9Bj4BPwPAOQDtwa9CFILzw6XEXcShhKgEo8S6hFWEPINXAoLBq4Bw/2++Yr1ufEu7krrU+mx6HTpxupl7KLuz/G09cv54v3eAWIFhggzCywNkg7mD50RjRMBFQQWqhYUF9UXVxgFGFMW4RMrER0OCwoyBRwAm/pB9Y7wnuyT6cXm5OTj4xjkruXt56Pqb+2x8GT03feM+oP8+v3Y/hj/wP7T/Ur8U/pY+I323/QU83nxwu/+7XXsT+sX6o7oG+dT5v/lSeU65RzmfucU6QbrfO0e8C7zGfeE+7j/JwNEBmIKtQ6BFHobzyF2JWgnZyseMXI1KTYqNVU0cDL/LrwqviU+H+IXYxAZCaMBtPon9XTw3+u75zrl1+Qi5YDluObU6H3rMO4k8Xz0FPi3+7H+QAHMA24GiQk/DOANvg6gD+4QwxGvEWwQQw5+C1MIAAUKAsf+Fvt691T0P/L88E/w++8c8PPwZPKo9HH3HvpT/GL+/gByAzAFuQYPCOwJcwx3DngPNRAUEm0UnxXaFdwVLRYDFdwSfhB7DZsJ9QTg/0v7DPet8pPuxOq55+HlteUY5jPnXOkH7ETuivDs8k/1PfdI+Ez5FvpK+vn5gvlX+SD5gviS93n2oPUA9crzVfLv8H7vT+7T7G3rkupZ6lbqHeoo6hjrp+yG7kzwW/LA9OH3L/tm/o8BvwPFBSMIYgy7Et0YxhzDHlQilSjGLsUx8DHqMfMxwTADLlEqkiV5H+cYOxI1C1AEZv6++ez0CPA57AXq5uj25xfoAOlh6ubrQ+3T7gXx5PPR9hL5xfoJ/W8A2QOlBsEItAqkDFsOxQ9uED4QRg/rDWsMpAqgCMoGegRuAer+MP3c+1r67fgE+Hb3E/cZ95n3xffm93v4avlV+sP6v/ur/fP/WQKqBPYGagkRDBYPdhHZErETCxTYE+IS4xBbDkILdgdGA9z+r/ps9hfyO+5v63bpCOg35/jmeeeo6F/qTewf7gvwNPJq9En22/c6+WL66/ps+wz8P/zn+/j61PmP+FD3C/Z+9Ozye/Ec8AfvVu5o7afsnOwZ7ebtYe/z8K/ymPTP9k757vum/jUBUwPNBDkGlQi+DMsROBYIGTAbNR9YJD0o2Cm3KcgpmClCKPUl8CIBHx0azhRPD+cJHgXvAM78gvih9PbxRvDk7ubtkO2X7S7uFe+u7z/wsvHv8871+fYj+A/6dPzU/tIArQKsBJoG1wi2CgoMtQw7DeIN7Q22DUQNDAwGCscHNQYRBXADiwGI/4b9IPwD+zD6b/mn+Pz3kvdz9373qPdR+OP5qvsE/fL9pv+DAj0FPQcFCQ4LHQ2UDmcP8w/KD98OIw20CkIIrQWMArX+r/ok92H08PGb7wLum+2f7X7t0u277nfvze9l8OnxkfPP9Nf1xPbL95P4avkr+pP65PoW+/P6RPqd+Qr5bPhz93P2uvUn9S307vIG8tPxK/IT8mbyMvOq9DX21PdQ+dL6g/wS/vr/QAHrAZ0CGwT5BvgKrg7VEKMS8BWnGogeMiDJIJEhNCLMIW8gzh5pHAQZUhXOESIOaQrKBmwDPwAN/ev64fnK+Gb3lvZL9tD1BvVM9Onz3vMt9KH03/RT9YT2cvik+uj8YP/eAWYELwfuCbsLAg36DZ0O4w6qDgMOwAzBCl4ISQaoBPUC/gDl/h/93Pvr+lr63/kb+RL4OPeW9ir2r/U/9Rj1FvU79SX15PWQ93b6If/2A3gHQQoiDn0SUBWDFp8W8BVBFFkROg4AC9MGcAHI+/32IfOI8Pbu4e0r7XjtD+5p7qXuJu8I8NfwJPFY8SLy0PJy8+vz6vQU9hX3U/i3+b37Xv0k/m/+lv5d/hf+3/wo+6j5GPi39lf1W/Tn8xn0c/Sm9Cn16vXY9qT3U/iy+KH5Zfpl+8b7VvuD+sf6SP0WAXcEvQb8CEQNAxPkF1UbsR3rH2whKyJiItwhbyAjHk4bChh2FAwRAw74Cq0HqgQTAub/vf32+0z67/if99v1KPTF8tjx2vH28QHyePLV8132Cvna+zz+SgCfAhMFwAfjCVYLKww4DJoLHwumCqEJxwdtBVoD4AG8ADT/4v2H/In73fpB+qH5yPjd9xP3Nfa29Ur1h/Rb9Mv0Uva4+AD79/w9/60CkQajCekLAw76D/0QFRFsEJMPJg6nC6UIngWJAjn/CPx1+ez3Afck9mX1ofQS9M7zovNc8yPzIfM982Pz1/PW9Nv1HPdN+LH5XfsJ/Un+N/87ABsBcAFSAS4BGwG6ACkAVf8Z/tL8mvvg+kT63Pjd9xX3bvY59UH0cvM98hvxhfBB8C7wbfD68FPyivPn9IL2cvjn+aP7L/74AVgGbQpIDeQPfhPkF14bJh3qHZEeBx+KHk4d2xtzGlQY5RU6E0sQcA2vCs0H6gQiAsf/Af6Z/CH7K/qz+U75wfg1+Lz3O/h3+Xv6WvtM/LD9gf8WAWYCcgNZBCAFsQUFBrQF5wTmA8kCaAEYACz/KP4E/en7qfq++Sb5mvhy+Kv4K/mY+er5wfqN+y388/zM/bf+bf8RAMMAxgE3A6EE2wVlBgoHQghBCYAJvwj1B0gHSwbWBD0DowG0/1j9UvsW+lT54Phy+A/4Jfhn+Kf4AfmC+SX60PpW+wb8uPxn/Qj+nf7w/jv/g/+G/4P/+P+VAPgAugAcAIP/E/9b/jv9Ovwk+/f5mPik9+P26PXh9FT0NvQV9ID0SPUQ9qP24/YM90j3Rvi8+Tz7PfwY/bD9IP5B/m3+1P4///r/WgB0AHYAhQA5AOL/zP9rADMBVwIsAxcEQQWhBnkI7gn1CqwLfAw9DcYNDg51DpYOEA6CDSoNkAzGCwcL0AqkCjYKzwkSCTkIUAfNBksGcgUzBAkDEQL+AD0ASP+J/vT9e/1I/VP9N/3+/JD8E/xq++b6wfrO+tn6APtF+8T7V/y1/DX9mv3R/e/9PP7P/kz/Zf9g/1X/C/+S/jz+yv31/Hz8kPwS/cz9Ff5J/in/MgCvAGEBvwHgAeUBzQHyAdoBxAGJATcB2QDtAGEBzwEMAisCZgLJAqoCTAJTAnYCIgK5AYYBTQHfADYAqf8y/yv+/Pw//Nr7avs3+5D6c/mE+Bj4LvhA+Cz44/fo9873s/e49zv44viL+Ur6Xfsc/LX8dP3t/WL+Tv7W/lz/tP+0/4r/qf+I/2D/CP8I/0T/a/+X/xoAMgCk//D+PP79/aX9jf2t/Xn9Nf0E/TD9j/15/SP92fwJ/ZP9wP45AFQBkgJOBIAGWAixCZsKhAvKC58LcAs+C/UKgQoECq4JqAm+CaoJiwlsCfwI3AjgCPoIdAjFByIHHwa5BKUDBAOtAkoCmAHbABoAa//u/iH/eP9I/9b+x/6z/pL+V/7X/V79BP0W/UL9Z/1N/T79dP2l/ef9jf5M/woAGADV/+T/EQAcAPb/6P+x/4j/hv+p/7z/bf8W/wL/I//7/of+Bf7u/Ez8D/zE+5r7Fvvk+pX6Ufqd+ST54Phs+bn5afof+9z7Cvxp/HL9sv0k/uf9+v0B/qv9jf0d/XL9XP2e/Xf9wPzZ/DT80PyS/IP8KP1a/Vf+sf4a/6n/Kf8I/wj/nP9XAO8AYwFzAVoB+AB1AXkBYwEuASAACABa/17/e/8G/xz/pv5S/rb9O/3u/JH95/3N/qL/JwAUAWUBIgI9AzYEJwW6BTMGrAbcBj8H1AcoCLsIQwnUCUwKDQpBCmsKJwo2ChgKnQnkCJIHkQbtBQ0F3AOHAm4BgwCk/6j+dP0q/YX8F/ws+1z61vkt+eL4q/gv+e75Tfu7+9z7uvxY/Qz+Nv6S/qv/GgDzABkBsgEkAsIBCgIvAjUDogO4AzIDpgJiAokCZAIUAf7/A/50/Zv8TvzS/NX7+/sD+0j6Lvoy+hv7uvrk+lr6yvps++P7ifun+1/71fpY+1j7EPsE/P789/zT/X/8/Pzj+xL7jPy3+0P83Ps2+uL6w/pz++P7Xvz+/BT9+P10/yEBYAIEAwsDowGuAR4ClwJDBDgEjAXKBbMEVASrA0kEQQW5BAgFuQQfAxMCcgDo/6D/of4F/sD8E/z2+0L7c/uq+8/76vw+/dX97P6r/2oB1AL4A9IF4AakB3QIBQkjClUKVwqxCi8LzwuEC24LwQqOCvkJLQmwCFkHBgdiBSgEIgREA4QDlwLeAT0Ab/73/Iv7z/t5+/z8w/0IAPP/R/4k/Jj5IfrN+1P8sv3+/KP7N/ts+XD6e/qh+wz8Y/u4+jL6+PiK+tz5r/pV+oD5ivrv+ET6w/oS+7X8z/vc+dL6kfuq/M/+Xv9U/kwAnP+2AM8BbAETAsX//f7X/7H/SwHwAUoC9gEgAEwAAv+pAA4BEwBa/0T/Rv9E/0z+WP0E/Sj9i/53/iz/tv8pAJcAcwHpATQCIwPQAuID3AOxBaQFsAR6BRcEKAYyBZkFUwXeA1MDXgPMA8QEbQXRA60CjwFvAMkAHwGYAT4EZALbAi0C0gC/AcX/WgAh/woApwHpAfIB5gA9/wb/r/8TAPgBmgF0AOj/1/9MAq0CKAEsAVf/R/4Q/v78l/+4/8P9uf6p/Z38Dv5f+yT+zP1r+oT7kfjj+Wb8o/3O/Rb/1fsB/PD7ZPx4AFEApADb/3f9afyp/Qb8pv/n/n3/EQBI/Uz+sPvG+4L+bv2t/37+yfwn/Iv7l/yT/Rb///1T/4P/sf/F/7H+LP9IAEoCIgIOAYb/wv5F/h7/0gDqAEgCxAFmApQCJAHxAD8AGv+xAFcATgLaAVUC6wMpAm8CjP8jAKn/dwG5AZAC+AFGA0oCTwEVAqL/JAJwAQUBpAJfAYABkgSIA8cFdAXgAdEDxAHKA30FMwTjBj0DIAQDAtMB4AE6AnQDYgI7A8oBZwCN/hr/Av8cAM7/CABM/+z+eAC+/gD9xfxw/T/8uf4C/zv/ff0d++/4qfgc+jj8tv9cAPoA5gBa/QP+9PtW/S3+0Pxr/3P+AADK/1X/m/y0/R/9B/1v/mr+D/+V/6T/Tv7W/nT9SgDtAN3/FAHj/lv+2/+W/uT/VwD3/o4A6wF9/wMB2v4d/qIALgG1AvUCkABB/7j/0P80AlMCjwEsA50CiQLxA0QBaQCe/Qr+BP9/ANACgQMSBEECHwGB/84AvwAhAQMC2gGGA3IDBwMrBGwBuwP2AfcCAwLzAC4DQAN4ApUD2AFAAQIAIP4w/yEB+ACnAZL+uP02AJH9f/+y/df9If1//Yv+Lv+m/vf8Av2V/br/HP8Y/z/8V/zg/Vj9cgCm//r/y/7f/hz/Pf+OAOj/Df98/goASv9sAY3+wv5p/X3/pv5+/uz+Q/zs/tn8h/6W/qj+qP4l/xf+WgD6/eH+Vf9c/dn/bP2Z/+YAogC2AMr/yv19/zn9Yv5MAKIAxgN7AcQBa/9iAPP/+P+IAP7/4/6R/63/+P9nAN4BNwEJA3kBWgD+AF4AtAN9AHUB+gDF/4cCSQRcA7oC/ACd/hwCzv9UAS4AQf/4AakB+QKRAzsDKAHaAR0BZQHQAO7+Yv8NAFoBkwN+AvwABv/t/an/+P8wAL39efsQ/hb/CgBpADz+iv+d/g3//P8k/oj/egBp/xECRgDd/37+Jf8DAfz/Df9EAGb8v/2R+wj8TP6t/0f+2f3B+nT92wB6/n//YvqG+4v+zv1R//gAtf7v/6f9EPvh/g7+RP+7AUv9g/9p/QL/0P+2AFj91P5W/cr9igA+/XX+K/5+/gr+KwC2/7gANP9RAI7/6P8C/5r9P//H/hID+wFvAmQCLAFSARIB/wOGA0kGDAc2BL8FMgMvAgUEqwNJBFwFKwLuBJ4BPwDnAXD/IgLBAEIB5ACPATYAMwGuAYoAnAH5/poBCgRKAkgDw/87Ay4DZQGXAwABAQK6Av4ADwPyAT8ACwHK/V7/IgTuAWgCGQKr/z0AdP2x/+39AP2s/sz9EP7XAK3/wP6V/6L/hv8W/Rv+s/w4/oL+Tv7o/Nn9Wv99/TUBBP/xAC/+Av0C/0H8ggHx/+D9y/5x/Oz+RAHqAIgDLP+H/PH8nvoz/o3+DQAgAEX+w/wx+1X/KfxrANf9Iv78/13+NADd/2f/cwGKAE0BowHD//oAagG+AqID6wHL/t/+1f2QAL8AI/9DAg7+Gv8R/wD66//i+q//jgDc/boClv4XAsUAQAG/ARUA1QGDAIIB7gEdBGkD9gFgAj8CBANpA/IBFgMdARkCrQJUAZICKwJYARQBiP/6/S7//v/MAIABAgBsAaD/jP9KAMX8CP8a/ez+hv84/ioBuf5XAAb/Mv9jAcr/KAFl/9X/g/+Z/6b/IwCD/3j/qQA7/6H+hf61+7L9Sf4S/Rr/0/tp/ef9FfyG/az7jfs1+4X8Iv44/jb+7v7R+5/88fw3+0X+lPuI/Xf9SgC/AZMB1wNKAE//sv0i/pMAFAPkAxQB8/9v/pz/FQDPAYkChgEkAXD/5f7x/yH/J/94AJAA1QGZANwB8gFlASQCkQEWA/YDmQVYBhwHugefB14HbAZdBhEFaAQZBBAETgQSBAoEvQMRAokCOwCg/yP/Af6I//X+OQDtADEB3QJPAakAv/8T/7oA1AAZAR0BuP+j/vj9s/5r/x7/b/4o/pD8Yf1i/Hj8Of0m+5H79/lM+hb7S/s9/K36P/oG+sT54fwm+xX8j/vi+J/7rfpY/fT7GvrY+4n8UP54/2r+V/4e/4X+gQCO/3L/0v42/hH/ev5i/9f/GQEmAVoB8f/7/oj97PwB/kz+CP87/xr/pv5D/oL+w/+g/xwCowF8Ap4D7wNTBYwFewbpBgIIlglFC+gMiA06DoAOBA9KD8QOMQ4rDDQKiAg3BtYEVgPeAVUA/f5z/n395Py6/D/8OPwR/Ev7LPvP++D7ifzT/fn+TADqANgBmwJ3A+MEQQWVBYoFRAWkBZ4GZAfaBl0G2QXyBA4EJwPhApEBIAAw//L9Wv38/Hj8L/yj+7n72Pvj++v7JPx//Db8//s++9D6sfpB+qz5jfhy+Mf38PaF9eH0b/Ra8zfzC/PR80Lz7/OJ8pfyjfPn87H14PUI9/715vXK9Yn2nfd29/L2N/aS9y35e/rz+jH7v/sv/Pn8v/1D/jP+0/2l/Uz+hv+DAPUAXgBvALEA5QGpBYsLUxEyFJEVwxc/G3odaB24G6cZ5xejFf0SghAID6kNdwtACH0FkQO7ASkAZP6k/Cr7fPkN+Gv3s/fy+G363PtW/Ub/yAGUBNgGyQcLCJcHNAcgB/sG8QUZBBUCKQD7/m/+3P3s/JH7AvrO+EL43/fj9jz2afVK9cr1ofZs+Hv69PsU/Wr+qf/fAOMBgwLLAg0DwgKbAl0CsAH1AEgAzP/U/rj9Cf2Q/Cv8pfuC+y/7H/tQ+9X71PzK/cL+gwAoBBEM0xWZG/0clxsdGqoYkRWyEOMJFQJN+xj17fB28NvwP/Dj7SrsOeyC7NjsDu0P7qHvq/AX8jr0fPeW+yP/fgFiAjYCxgGvAHr+AP1j+4r4tvWn83fzOvQv9Nnz4fIB8v3x4/E98q/y3fLI8/L0jfYO+XP7RP0z/pL+cP/4AIECdwOEA/kCpQHg/wIADASkDM0VMRoFGpYaZB3dIDgiPiEkH5kbEhe/Eu0PLQ4nDLQIiwTqAGr+9fwf+8f5sPgO9zb1K/RF9J71D/j++rb9af9jAZAE/AiiDHUOxA76DZcMKgttChIJjQa6AsL+t/sR+lL5k/hF9z31iPOD8p3ycPPv8//zX/Q99fT2vPlA/V4A+QJMBb4HywkOC3ULFgsICkQISQZ+BK8C7wCX/2b+zvzg+o35uPhN+Bj4APi+95v37vfr+Oj6hfwG/xQDVwxUGjUkqidjJhskVyI9HgMYgBAcB8f+4/YV8Nbty+2Z7eXqEudk5l3n0+fV5yXpCez27m7xFfR5+Cj+1gLGBBIEkAJPAZP/1vxg+sj4pvV78Yzu1u187z3wMe8g7ZnrcOxk7fzt9O5/8L/xm/KH9DP45/tZ/mv/zv9cAEABsQLRA2cDVQLSAKj+7/1tAl4NIRlbH/Me2h02IOgjQyVeI1IfdxoWFb8PNAy0CtQJhwccAxz/cfzk+gb6Bfmx9xb2aPQM9GX19ffV+0gAMwRjBugHeApZDvkRIBOFEWgOhAuNCUgIgAaIA2v/5Ppi98f1U/W79KnzrvEN8KbvB/Fc8zL1X/am92/5Afwy//kCQgZECE4JIAnBCKsIywdfBlYEiwGJ/tj7Hvqn+If30/aT9S30VvNI8xL0EfXQ9Wj28Pbc+J/7+f7FAqYFHwgaCu4LHw3TDSEPwxGuGpUlfilhJhEgnBryFfsOAQfp/V71eu/k6QPnIOg+6n3rd+oi6vTsT/BD8gr0Mvdf+2r+MAAOAjoEcQcbCQgHHAPj/pH77vf88x/xWO7E6t7nzuZS6C7re+x966np9OmW7FTvv/Cu8bLzkfal+M76lf0YAIYBmgE3AdAA5gD0ATQC4gDf/jX9a/w/AFcMmRtJJOUiuh7mHhojgiaSJScgvBmrFNgQ6w0GDMwKlwhFBN/+ePqJ9+j1YvXl9ATzAfIq80D2nvo2AMQGrguiDUcOtg8fEqYUHRX8EYcMcwcLBb4EVgPm/w77GfZ28jPxcPFj8Qjw7u037MTsKfDu9Fn5mfws/xwCcAXMCLALdA3yDbUMuApCCP4FbwS1AjAA8fxs+aP2rPSe8zfzzfIZ8o/xwvEy8/z17fh++8j9vP+XApkFBwgwCtwLpAxTDP0LFQwpDHcL2gk9B+oEuQTDBy0TNB6nHx0aQBKNDfMKcAWZ/zD49PH971vtju3+8Ovzz/SY8TjvnvCd8lT0FPbT+N388v5X/4j/IACWAWQAp/tR9Qvwl+2p7PjrKOzU677qpeo37PXvRvNN847wvO3S7X7xTPWf9qX2J/dU+Xf78fx6/rf+T/0x+2/5jfm/+oP8mv0G/IX5OfiU+/8IWR2xLEYtHSSSIEUnuy5bLm4myR25GN0UKhDVC5gJiQdNAe73ye9r62jqa+se7fzuFvGx9Jn6QQKTCscRihYUF+MTcRHZEsgVwBa7EiwL/QT5Ar0DDwND/o/21e7q6EHmKeZN5xzojOgM6vztwvSt/OYCQgbDB5MIwAnKCmULUgscChII0AXVA2gCSwHb/0v9Qfm59C/xQe8K7/LvefFj89f1L/nv/SwDZwjTC+oMCAwWCzwL/ArsCagHfQWsBAUJ7RLXGTkXdQ4/B9oE8QOWAaP9m/m9+Ez6P/zw/vcCEAa/BW0C5P/C/rT9lPzN+zv9Rv82ANn/zf43/0QA5f6x+Z3y2O1g7eLuDfBe8KvwjfEA8z31l/eV+LX3afVF9FX1EvgR+sn5RPiX97v4t/nO+CT2+vMa86ryYvLe8V7y//NI9er15fYa+LD4HPrV+3f9d/3T+1H67frV/cH/5P0j+v37QQqIIbwxsDAWJrsh4Sc/LcMojh3oFIQSuBHVDTkIBwQoAUz87PQE7hLqS+kT60Xvk/U//PcCTAlrD8AVdhvKHuscaRYAEFcOwhDxEYYNigXl/kz8pfsd+bzyUOov4+DfOuBr42LoEu4D9Jv5T/9VBZMKMw0EDUILrglwCAgHwwVXBYoFIwUSA6v/4Pvu9/X0fvI28IHuJ+508CX15PowADEEGQciCWAKpgo9CsMInAaqBD0DnAPVBqoM7hA2D88JpgVqBOYDRAFp/VD7ePy2/2YCowQ2BxkJfQgjBcUArf3w+176GflD+aD6tfsP/DT8w/yK/cf8evkP9Xzya/IS8zXzEvNa83H0m/Vj9uf2IfY89GbyX/HY8d7zvPVJ9sL2l/dl+Hf44/e79u/1cPbl9oL2tPUh9qL3SfkW+p76lPso/TP+ZP6L/oj/PQCM/4b9hPs9+iL5U/h49xD2UfU7+GgEbBrsLhM0gCkxH/ogLylOKkwggRRNEBYSKhL5DMcFZAA6/Jb2W+8c6Wnmg+gs7sH1Gv1hA6oJtA8mFV4ZjBsSGvATlwxhCdwLBg/xDPUEKfw/93n2U/Xj70fnEODX3Rzh/uYZ7YXyqPdC/ZkC3gbnCSYLXgryCCgIQghYCDIIpgfgBn0FfALn/V74ovN38XDxDPJ68r3zCPeQ/LwCcQdbCQcJeQiKCBAJkAkQCdIHxgaWBpQHLgomDokQbg18B8cC5QFtAoECQwKMAh0E/QbGCJcIhwcxBrsD6P8v/DD60flG+s/7sP2+/sn+k/0B/DX7zvqo+QH3ZPTv85n1C/gV+fn3DvZZ9EvzVfL88BrwNvDb8M3xPfMH9n/49vgz+Db3yvYT9zb36/Yc9xj4APqZ+qj5c/nb+gj8JPtk+fb4VfpK/L786/vC+zL8BvxI+jv42Pfr+GL5pPdM9fL0q/gzBHUYlS1bNpIuhiHlHXkklCnSI4oXrQ9WECYTmBCtCJsAm/ou9dPugegb5cHmAu4Y+DEB2AcsDUsS9xYWGssaRRgqEtcKngaOB08L0QvSBbP8a/XF8h7yee7m5unfE96P4mrq3vHx93L92wL0BlAJIwoNCkkJBAgeB+kG6QanBmEGeAW4A5MA8vv49X3wn+337e7v8vFq9Fz4DP7XA+4HSQnOCA0I0gfoB9IHDgcABlQGNglBDmYRBRAkCwwHPQWXA/UA7f3Z/OP+JwL4A3wEmwTJBIwDEgGH/tv8mPvg+pr7zP2tAMsCZgK//1P9p/vU+c32/vLH8GHxwfOT9Tz2EPYw9SD09/It8q7xVPFd8W3yifQg9+T4Efrb+lr78fo2+bL2K/XK9f32hPgj+pj7FP20/Yr9r/ws+z/6DfqG+kj8n/4GALz/L/7F/In75/lX97f0vfPA9JH2/fZP9jj3jf4NDwUksTEjMHoloR2ZHrwieSHaGIYQ1AxCDbQLhgbW/iz4AfRt8AbtgOpT6yzxzvryBOMLYg8VEZoSYhTmFOkSig1HBvgABQFQBKEGEgSC/cr2efOn82XzUfBE7Abrke4u9bf7wwBLBOcGqwjyCGgHzwRbAroA5P/k/+j/1f/x/0gAqwAgAOn9NPon98T2Xfks/SsADAIXBKMG4gj9CTgJlAZ/AzwBDwD+/+8AFAYQDggTORJyDaoJtQdlBdICjAD4/xECzwR5Bi8H1AebB6wEmwAI/tT8TPwP/OH88v52AEwAwv4f/dH7vvmJ9q3y1O+q7+XxbPRf9mD3TPdH9v308fN78wTz8PED8f7wZ/Oy9mr5Tfvl+7D7TPoU+OL10fSz9CD1ZfXd9QH3BfkU+xf88vsM/Hz85P2x/xIBWQISA9UDZASRAyYBn/6z/JT7jPqo+dz4zvjB+uABrhCaIQYqoyRnGXcSexCfDncLhQkTCvwKNwutCoIJEghXBXcBN/0a+nz5RfxDAm8JPQ++EekQpg6MDHIKyQeIA7v9k/iD9/z6+v9zAh8BS/1U+RH32/WN9HPy5PC78R71I/pn/84DSwacBlMF/gLS/1P8t/mr+C35V/q1+0b9q/+MAhkElwNYAZv+gfzr+2H9jP9uAcsC6QPjBIgF4wSxArz/8fxQ+zf71vwsAQcJSxD3EWcPHAx9CiEIuwRwAXL/0v/RAVoD6wPYBEgFtgM0ALj9ifw6/K/8Sf7JAN0CQgNgAigBawC3/rX7iPho9k/2Q/c3+JH4Z/gL+FD3L/bw9ITzGfKT8ILvLvCF8vL0u/YZ9wn4p/hI+Ez3uvUa9bf07PQ99Uf2U/c++ST7rfyx/Bf8avuG++b8+f5yAMwAKQCc/7X+Qv1v/Hn7VPsQ+3n7BPwL/Yr9iv0L/40EAxCaHFEjsB8EF/oPrQz6CkwJxgjqCU8LzQu0C0ULPgtKCmsHogPZAAoAfgE/BUoKZA6iD4sOFQwgCoII0QZcAxD+M/mo9yX6rf0e/+f9ifsF+eX27/W/9QL1avRr9U/4U/w5AAcE2AZoBx8GkwMaAD38KPno96f4Xvo//B3+jABEA/UEzQSGA7cBGgAL/77+Uf9eAH4BbwJPA84DtAP8Al0BSP+E/b78Pv43A6sKHxBLEIcMnAjqBT0DvADu/nP+D/8pAAUBsAHfAlYDrgET/xL9Vfyk/Cv+rQDoAiAEygOMAlIByQDK/4j9G/tz+Tb5ZPlo+QH59fcd9ojzTfGX8IPwx/Do8Czxn/Jm9Ev2yfdw+Eb47vfg9vj1e/Wm9Xv2V/cK+XL6/fsH/bL9t/6D/5P/9/5x/mj+zf6x/tz+1P51/uf9cv2T/X7+dP/K/x7/4P2m/K77sPtT/UECsAt0FwogSiDyGLkQKwyKCtMItAZHBnwHxgm0CwoMyAugCjcI4wRlAZH/rf/9ATEGkwrODeUONg7bDM4KFghmBFz/RPqs9rT2evnY+538svtR+mj56fga+Lf2UfUL9Vr2IPnu/GkAuALMA5wDpgK8ALL9jPps+Av4c/nP+4f+NQG9A5kF/AUwBQUEYgLvAPj/rf8jANIAQgHjAaQC4wIpApUAmP4L/U/9ngBFB5cMXw46C0oHLwbXBT8FEAQsAx8DsAOeA6IClgH2ASEB6v4N/cr7+/th/Yz/vwHHAhwCEQDH/sH/NgAu/1f8A/ky92b3FPjF9zf2ZPT38o7y4/KN8yT0KPRh9K/1Nve698X3Rfdt95f3GfcU9in1ffU69sX3vfgX+Tb5V/kW+vj6efs4/JX9gf+YAWcDswSbBC4DngH2/8f+M/5B/sD+5/5a/z//Fv8W/xX+Bvz1+jP9DwX8D/0YtxrpFfsQ5Q6+DgcNUQqPCCoIKAhPCD0IDglKCuoJAAjaBH4CSgIdBM0G4gjRCaMJ9gjyCNQJaQqTCG4DRP3H+dj54PrV+tH51/i/+Ez5C/qI+mf6vPls+eH5Nfvf/Hz+rf9EABQBngG8AJL+kvzP+zj8BP2c/eL9pv7t/2oBkAL3AroCYAIRAu4BrAGCATwBJAH4AR0EFwfwCYQLtAohCHEE9gEQAVgBYgKMA9oEDgaABm4GLwa2BVUFygN3AZH/Rf74/bX+r/+v/3H+WP3J/H/8Ovx3+0T6ivgk9+f2fPc7+Gn45vdx9732YfYU9gD2gPZk9yr4wfgM+Rv5ZPkK+Rj4d/aO9Wv1a/XG9In0mfWa9oP3nPjC+RT7Q/xv/KL8ZPyq/Fz9Af79/nT/MgCeAFwAnv+z/sr9v/33/m4BUAQsCAMO6hOFFu8S8QzeCBkH1wWqBKQF+AgvDFYNCQ21DG4NRg01CygIPQVZBDkFuwY9CLMJ1wrFCmgJkAepBb8DKgGw/dD6zfnj+QD6Tvkw+Jn3JPej9mH2c/b/9g/4YvkZ+1b9gf/4AHMBQAHHAMP/3v35+yb7o/uS/Lj9z/6v/68AdQGTASEBwwBGALH/Z/+M/1UASwG3AfABTgK4AhgD/gJTAq4BGQEVAML+2f2K/RX+P/+bAmsHwQp7C1UHQgNQAiwD0wOMA3ID5ANyBQcGWgWWBIcE7AInALT9r/xp/bH+LgCyAYECJAIgAMv+1P5J/tn8JfoZ96L1Sfaq91r44fcX9/j13PQX9NfzX/TJ9JX12vZw+Dn6KPs/+iL5GPjA9/n3n/eD9/H3Tvkm+9b8RP3L/Af93P11/jr+Yv6A/g3/AAAMAk8DpQN1BAIFcgWIBc8EogOiAiICUAKfAnMCtAGmAO//uv8VAEwARAApALH/Sv8l/4D+gv0h/f7/JgaKDbQShhITD9ULRgqaCB0GCgSnA2wEPQW8BaEGBwghCCcH6gRtAhIBqQAxAQwCNQOJBDsFNAUYBSAFGgVPA93/uPz4+iz7pftS+7z6Efq5+XH5gPnq+c35E/ra+8z/jAVFC4INnwsgBxgDiQESAa0AcgD6AAYCigNhBDYFxwWZBZAEDQNxAscCkwMiBNYEGAU2BC0C/v+f/o39Zvzx+kn59/e693n48vhT+CL3m/VS9CT0hfQI9TD1e/WC9l74BPr8+hn72vmG+C/3gvYv9h32DvZh9q/3nfmP+039eP/DAG4BYQFaAQ4BEwDh/nf9Cv5E/wsB8QL/AxUEQgPSAkMCVwLAAisExQWzB2oJbQrmCuUJ6QifB9oGUgZ4BRMFGgXZBaMG0QbuBhwH0QYxBjAFGQSgA54DCgS5BP0EHAXyBF8EsgP+Av8BjAD5/sj9GP3D/PX87vx8/FD8UPy8/Br9QP2V/QX+Nv6N/hj/eP+g/3D/+/5O/u39j/0L/fH82/yt/J38pPzA/A/9B/0q/Vr9Xv1Y/aX9Dv42/mr+vP6A/mT+kP5k/mr+h/6Y/qj+bf48/t79W/4jALgCMgUQBsIEaQMLAzUDHwM7A48DJgSWBEsEDAQbBBIESAMGAjcBPgGPARkCfALxAqADoAO8Aj8C0QFJAWQASf65++P5FflG+Hr3TPdr93H3Ovce91f3qvdT98j2F/dE+Kj5aPuF/JT80vwJ/Sr9Df3+/LP82Ptq+0H87/1c/38AugAdAY8B8AEnAkgCpgIcArABCAIqAwwEKwTxA8wDWAMpAvMAAADB/0T/vv5v/lT+if40/4z/Jf/y/sn+E/8p/7b/IAA/AOD/lf+IAOsBRANDBAsF2wXyBiEIRQk0CsEKKgtFC1ILfgufC9oLlgvzClEK7gmbCe8Idwj3By8HhAYHBswFrwURBesD9wLwAdQADwA9/yT+2fys+9D6tfmT+OP3W/fN9vH1XPUe9dH0bPRx9HH0lvQc9Y71c/ZX9/H3Pfie+Cv5Vfr/+/n8Yf13/fj9mP4T/+X+4f45/yz/0P8AAZcCVgNLA/ECogJ2AjgCSgLgARkCvgJWA1gDRAN9A2MDfQPxAmQCfgF+ARMC3AGGASwBEgEhAWUBBwGOAKv/jf7Z/Y/9sP32/c/+N/9l/8P/yv9K/7f+Qf8lALQA6AAzAbABXQIlA7YDJATeA60DjwPXA04EMgXOBQUGIQa/BaAFRAXGBP8D1QMxBDgE9APKA/EDuANWA/kCswJvAtEBfgFjAdIA/P+M/xb/gP4+/i/+Ov79/fL9av61/vL+5f6m/un9Of38/Mb9jP+wAe4CAgPcAdcAtgC/ANAAeAANAJf/iv+X/6v/DQA9AIH/Jv45/Qf9Lv0j/d38vvy1/Lj8UPz/+3f7ePpO+fn30/Zq9uX2PfdV9wj3OvdX9233bfeF98X3kPdv94f3Z/hk+Sv6J/qG+gX7p/uq+zP7avsr/Lj98P4gAPMAEwKHAlMCggH+AE0BXwFJAfMAcAG7AbIBjwHeAakBSwEJAeQASQGyAfABiwELAa0ACQHIATICLQKtAvcC/gKlA2YEcQT8AwEE/AM8BJgE2gTqBCkFiAXzBaEGhQdpCI8IEgjDB4cHIgfIBp4GMQaFBSkFuQQdBFED6AKZAlUC8AH7AQECgAHOAGAAOQCk/xP/vP4S/o/9Df2o/IP8TPxi/Cf8mPtw++f7qvwY/Xf93v0m/j7+av71/oH/8/+VANAA5gDYAYECjALqAh8DuAIcAucBdQFPARQBHwHzAPwAZQGAAVoBzABtAMX/HP9H/o/9QP2k/Br8yPuU+2j7SfuT+rz5IPkj+Hj3jveo99j3hPiW+VP64vob+w77wfpe+jn6v/qj+yn8tfwz/V3+T/9nAB8BRgC4/17/7P4T/8H/mwA1AVQB8QAuAb8BOALgAR8BuAAOAVgBWAGwAQMCLwKpARkB1ADFAKsAcgBTAIUAsAHIAUcBKAEFAUIBTwF5AawBfgKtAlcCLwIuA/YD/AP0A0kEJQWbBcEFCQZJBqEGIAdoB60H6gdpCGkI8QeiB68Hogd4BxkHRQdoBzQH/QZHBhAG1wWgBfcEDARCAzQCSwFeANf/ov/3/vb9KP3D/Dr8c/ur+lH69fkE+vf5pvl1+Wz5ZPkb+SL5MfkK+aD4WvhW+H34svjM+Dr5wPkn+mn6N/vc+x78SvxO/JL8Nf3M/Un+kP7N/v3+t/4x/rT9nP2V/XL9bv0K/vD+sf/S/+L/BgACADYAegC8AM4AYgC4/3v/Z/+i/17/vv5k/oL+yf7J/pL+av6J/t/+k//Z/yUA6//m//P/LgDZAI8B0QEFARgArf8cAMwAagFBAt0CAgPLAqQCgQKOAuYCpALYAv8DuwT7BBUFRAU5BYEFbQWFBcMF0AWiBXIFwwW4BW0FKwUgBcIEwgRdBAcEUAQtBPEDQgMAA8cCWQJkAgoCzQHCAawBFgHvANIANgB2/6r+aP5F/nf++v01/Xr8Hvz/++X7Nvxm/KT8gfxV/CT8YPyO/C/8GvwG/M37gPtq+3f7VPtw+2X7VPtj+wn78fp7+mn6xfok+7v7OPzs/Ej9Qv2z/If8DPzw+2n84fxL/ZH9Af4S/oX+MP94/2n/4/5m/nX+Lv/K/z8AyQB1AScC1AIYA4kCzwH+AJcAigAHAYYBCgI0AnMCmwKkAmICDgLcAaMBbAEQAQsBpQE6Am8C3wJYA38DFgM9AzcDjANjAywDhAPDAzMEOAQkBOYDJATkA3cDYwNRA3kDewMPA8ICGgNsA0QDQgOEA38DVgO1Am8CVQKXAqQCNgJBAjICHgJwARIB3QDtAL8AUQA5AFUAZwDg/6v/a/+k/1f/y/5m/pb+D//9/pv+/f3//f/9G/4V/oT9yfx4/IX80Pwl/QD9uvxg/Gb8sfxA/Rj93fym/LP8BP0h/dn8s/yQ/Hb8s/yU/P78n/xI/MT77vt//An9S/1G/Y39Y/2C/U39BP2x/Jr9ZP6U/iT+Rf5i/uz+sf/4/6YAjgCKAEwAgQC8AFoBYwE5ASYBeQHaAW4BFgHmAAABPgGyAaEB3AHrAcgBnAHwAdEBrgEVAkgCNAIyAqYCqgIyA9gCWwJoApcCnwKZAsACWQIZAsYB3AHEAToCqgJFAvsB4AHcAfgBVQI2AvQBtwFEAdAAhQC6AEQBhgF5AXABsgHPAawBewFPAf4AiACQALQAxQDvAK8AKwDX/x4ABgD2/7j/1v5v/hv+TP6u/hj/0v5b/uT9zP0x/ij+Af57/W79U/0w/R/98fz5/Pf8KP0Y/WX9Cf2t/Lz8g/yk/MD8s/xx/JL8qvy8/LH8zvxC/ZH9A/4+/mr+Rf42/gj+7/1S/jP+gv5V/1EA6ADzAMUA+v8s/8n+Fv+v/20AjAB0ADQAXAD+/+L/dgDDAOQA2wCxAI4A0gDkAPEAKwAlAIMAawBgAAYA+v/g/23/HP/b/zsAOQAGABwAogDBAPwACwF5AVYBkQE8AfgAPAFhAUsBKAG3AQgCugLUArECOALnAZYBkQGwAfABIgLjAcQBuwEMAhcC6wEBAm0ChwKvAvUC3QJVAtoBxgF5AVoBUgHKASICAwLlAcoB2AFhAQkBngCkAKsAgwA7AAYAOwAyAOT/tv/X/w8ADwCV//f+xP7y/g3/Uf9l/1X//f6W/t79gv2G/Zr9hP03/TP9Fv0f/Vb9iP1h/c79zv2K/QD9GP2p/eD90f2E/TH+yf5//1H/1v4Z/rT9JP4Q/nr+s/7Y/rf+h/6z/kT/AgCG/zn/vP73/iH/dv9TAKkAigCx/1r/rf9GAJsAKwDX/+b/HABvACQBhAGcAWoBrQCOAHgArwDvAGEBmgGpAfIB8AH0Ab8BAwILAYwAegCTAB0BfgE4AsoBTwFrAHgA/gBsAYQB1wC6AEgA/gDIAREChgG0AA8Awf/i/yUAtgAhATUBRwGAAW4BcwEmAdkAVQCxAL8A/gBSAZYBtAF3ASwBZABrAFEAqQB9AE8AkwBIAO//ov9IAMEA2wB6AI7/zP8YAMMAtgCxADYA1f/g/23/hv9R/2v/8v4N/yP/MP9l/53+h/5x/tr+uf61/hj/Qf+K/wT/HP+o/tT+lv4I/uL9+v2d/qj+d/67/ef94P24/ZP94v2Y/rX+y/5t/jz+5/39/R3+Ff56/tb+Gv/S/sT+7P5K/4r/I/8c/1X/+P8KAAQATwByAMkAxQAFASQBFgEDAeQABQEzAV8BKgESAcMAvwAdAVoBjwFEAfUAdgBIAIUAzAB3AWMBEgHQAP4AEgESAQMBgwArAPj/MABnAH8ARACp/2f/uP+x/8X/6//O/yH/wP77/p7/GgBVAD0ANAA/ADYASgATAIMAGwF3AacBhgGWAXABkwAGABwAYACZAK0AvADxADEB2QA9APb/BgBiAPb/nv9B/yH/AP/u/kT/iv8uAAAA1f94/5X/bf9V/17/Z/+0/3D/af9p/8r/awBaAEoACAAgAEgATwB0AFUARgARADQAOQDbAEkBSwHBAJMAjgBcAO3/wf8IAF4ArwB/AHgARAANAJz/U/9c/57/U/8//5n/EwBeAGIADwC6/7T/YP9V/3v/+v9VAEQAGABpAPMAIQGTAOL/k//t/x4AKQA/AG0AdAAPANn/GACDAJAA7/9w/0b/Sv+4/8f/r/9y/0T/U/9i/7j/5v/8/8r/kf+G/6//+v8AAAAAvP+M/3T/lf+Z/5P/1f/r/ycAKwBGAEEALgBPABgABgC6/9X/XADDAPwAkAA0AHD/dP9y/6b/EQD2/6D/TP9i/3T/cv9t/0j/U/+Z/93/9v/t/8X/ov9w/zL//f7h/iP/Pf/n/vv+Mv9p/6v//v/4/+j/zP+B/5n/uP/b/yUAegCXAD8A5P+8/9n/4v+r/5H/rf+r/9f/4v/B/5n/Sv8l/x7/NP8c/3//vP+g/8P/tv/Q/9X/JwAYACcAVwCIAIwAfwCiAGIARABrAN8AbAF3AQkB+gAUARsBBwHmAGcAHgAcAH0A3wAHAcwAYgDi/7b/9v8AAAoABgAAAMf/0v/8/xoAEwAyADIABgDZ/47/mf+2/7j/BgCpAN0A8QDfAA4B8QAFAfwAEgFCAWMBqQHNAfgBtAFqAXMBdQGWAbsBiwEkARIBFgEWAQcBPAE5AS4BCwGgAJAAUwA5ABgA3f+i/8P/ov9e/z3/Df/s/tL++f77/uX+5/7H/uz+z/7l/vD+0v65/rX+5f7U/gb/NP+v/+L/BgArAPb/EQDO/5H/Qf9I/0//vP8EAEgAiABaADsAHgBXACkA1f9p/2D/dP92/4j/jv/D/zYAKwDm/5P/YP9I/+X+tf7u/pf/jP/F//H/GABgAAQAtP+O/+3/MgA/ACAAUQCIAN0A6ADMAO0AvwBkAG8ACQFzATMBpADDAPUAxgG3AY8B3QCVAHoARAAjADYAoADMABYBkwCpAJcAoACOAIMAmwCgAHoAAABIAMcAHwHQAHIAPwAaAEYAMAAGAL//Z/8s/0b/pP+8/5H/I//Y/tz+LP+X/63/g/+G/5X/lf+t/1X/SP9X/17/e//S/yUA/P+K//v+wv6+/hP/I//q/gT/Lv9c/4b/pP+X/5z/f/92/5H/1/8CAPb/8/+t/3v/Zf+K/5f/mf/Z/87/l/9X/0j/Pf+Z/7r/3f/4//b/4v+0/57/jP+2/93//P/D/17/N/8e/2L/k/+I/6v/nv90/6j+Yv5X/qr+Df+k/xwAIwD4/3b/Yv9E/6v//v9GAG8AKwAAAOL/7//r/xgAPwCOAMMAbwBKADsAcgBcADYA4P/Q/93/KQBBADYAIADx/yAAtv+m/7T/9v/k/+b/1f/i/zsAcgCgANIA7wCMAFoA7f/Z//z/IABMAPr/QQD6/+b/2/82AMEANwGCAfUAdAD6/87/ov+v/7b/2//o/9f/2/+x/8f/hv9G/0z/dP/Z//P/0v/S/w0AKQD4/x4AfQDOAKkAbQA9AP7/OwBgAGcAZABMAAoA5v8IADYAegBgABgA7/8YADAA6P/F/8H/CgAuADIAJwAGAA8A7//o/+3/BAAgACkARADz/87/rf/X/9X/1f/4/8z/q//g/zIAYAAyAOb/lf9y/4P/pv8TAD8AZwA/AFcAfQBaADQAJQBeAGQAegCmANIAjACDAMUA0AAAAf4A6gCkAJMAWgAgACkAJwBtAK8AAAEQAe0AjgAVAN3/v//F/7//0v/Z/y4AaQBBABwA7f/H/5n/oP/B/6L/ov/M/+j/NACXALgA6ADiAGkAWgBPAAYA2f/z/xMAOwBaAIgAqQBtAEYAfwCOAGsARABVAHYA3QBHAV0BcAFhAT4BIQEJAeIAmQB2AFUANABKAFwAZAArAMP/Yv9l/2L/NP8//2n/l/+0/2D/SP9g/8H/5P8GAMr/kf9e/3L/uP/g/xoA5P/Q/5z/1f/Z/63/hv9g/zv/Mv9E/0j/T/8j/6j+if65/iH/N/8n/yn/CP80/1X/kf+g/47/NP89/2D/af9l/0T/If/S/uf+U/+e/+//4P/B/5z/uP8VAFcAegATAMP/l//Q/xoAawBgAEYAIACx/3D/g//O/yMARgDm/1z/Kf85/0r/oP/x/0oAfQCVAIMAlwCgAIoARgAuAEQAEwBeAIMAsQCgAHYASABRAJcAbQAeAOv/7f8cACcAKQAGAMP/0v8EAEwARAAlAAQADQDb/7r/v//B/y4ANgAyALb/tP/i/9X/2/+t/5n/Z/9e/z3/XP+O/63/ff8N/8L+of7l/in/SP+X/6b/rf9e/zT/O/8j/zv/NP+X/5X/4v/2/+3//P8NACAA4v+8/63/vP+//9X/7/8uAD0ATAA5ACAA/v/g/7z/l/9P/3T/GgB9AI4AgwBBACcAZwBeAE8ANADS/6L/7/9kAIMAiAB4AFUAbwCBAH0AfQB9AIoAtADFAK0AjACkALEAvwDmANkAkABRADsAWgCxANAAuACZAJkAhQB4AD0APQA7AB4AUQCZAMwAvwCKAGcAPwBiAIgAWgAVABwATAAgAEEAjgC/AK8AaQAKAK3/xf/t/9L/yv/r/zkAZwB/AG0AegB/AE8A8//i//j/5P8EACUAVwCKAH0ASgA0ADAAJQAjAP7/sf+k/5f/tP/6/44A7wAWAfgAhQBBAAQA/P8TABMAVQBtAGQAfwDMANkApAArANf/nv9w/9X/EwA2AGAAuAD4AO0A6ADXAHYAIwDg/w8AKQA2AGAAdgCDAFUAFQCx/3T/RP9M/3//w/8wABgAv/+O/6b/v//6/xMA2f+//4H/eP9y/3//dP+R/4b/Qf9a/2n/Vf8L/67+jf6C/rX+9/5a/zn/BP9B//f+wv7Y/mX/x//b/+L/7f8nAGIAbwB9AIEADwCZ/4j/ov/V/+3/5v+6/63/q/+//8z/q//D/7T/5v/m/9X/2/+t/zT/Jf9g/4b/sf+O/3v/qf+I/5H/pP/m/87/mf92/zn/U/+R//P/KwBMAD8AaQCTAJMAwwCtAIMAVwBXAKQABQELAdIAqQByAF4AXgBeAFoASgD8/6n/pv+i/7T/x/8EAAgAAAC6/6D/pv/M/xgAFQD6//b/FQDt/9n/rf+8/+b/EwAcAOL/rf+R/23/cP9//47/iP9l/17/a/90/6L/AgApABwABAARAPj/7f/k/87/5P/g/wYACgDt/+//sf+i/7//BAAYAKv/dP9M/1f/k//V/0YAogC4AH0AeABVAFMAXgApABoA+v8jAEEAawBXAHYAXAAKAOb/8f/X/8r/2f/k/wYAYAB0ADkADQA0AFwAMAAaAGIAigC2AL8A1wAQAfEAwQCgAKIAjgCiALEAmQBRABEA4v+x//b/JQA9AAAAl/94/5f/8f8TADkAegB2AHoAZwBpAEQAGgDv//b/EwAYAEwAPQAaAPH/3f/t/w0A4v/B//b/5P/Q//P/VwCeALYAzACgAHIAHACt/6T/1//m//r/JwAgAP7/GAAgABwACgDr/wIAAADQ/93/MgA7ADsArQDdAOgAqwByAGIAMABiAHQAaQA9AAoAXAB0AMEA4gCKADsA5v/b/7r/q/+///r/PwCDAKAAgwB2AFoAVwBRAIwAoAB9AEYAOwBKADkAOwAnACUA+P+O/1f/mf+G/47/w//z/7j/lf+k/9n/AADb/8f/xf/D/9D/CgAwAA8A1/+K/4H/XP8n/0H/kf99/0b/NP8P/wT/Ef8a/yP/Kf9E/2X/gf/o//r/FQAGAK3/kf+Z/5H/g/+Z/4P/af9K/1X/l//X/8f/hv+K/5X/zv/M/7T/k/+M/6n/2//k/7r/rf+x/8r/+v8cADkAHAAgAD8AHgARAPj/pP+e/9D/5P/b/8f/6P/4//7/BAAaADQAGAD2/+T/8/8KAH8ArQCkAJsAngCtAJkAsQC8ALEArwCIAC4A+P/O/6L/e/+8//H/AACt/4b/r/+K/47/kf+0/9n/9v/x/wAA5P/i/wIA+v8aABoA7f/V/7H/v//z//b/v/97/0z/T/+T/8f/x//o/x4AZABXAEoAOQAGAOv/w//K/w8APwAwAFoAiABXACsASgBBAAYAtP9l/4j/0P/Z/8f//v8pAAQA+v/t/8P/uv/X//j/8//2/63/kf+R/3//vP8CABoA/v+r/3L/MP9e/6b/4v8eAA8AJwAjAHQAdgBgAEYA/P8PADIAYgBiAEEATAA9AE8ARABrAIEAOQANAPH/DQATAO//BgBgAGkANgAVAPj/IABeAHoAqQCkAHQAXABXADIA6P/6/wgAFQBGAFMAUQBPAEoARABEACUAzP+r/63/sf/M/woAUQB4AEoAKwBtAH8AVQDr/7T/0P8CAF4AjgCiAHoAXABVAF4AgQCTALEApAB9AJ4A2QAHAQcBAwEJAccAfwB0AKQAwwCkALEAmwBtAHYAlwDfAAABBwHkANQAkABBACAANgByAH8AtgDUAMEAdABXAD0ASgBKAEwAWgA7ADIAFQAPAA0AOQBGAHgAeAAYAKL/dv+D/7r/AgA2ACAA8//x/9n/+v89AFoAIwDO/4b/af9n/1f/Pf9r/5f/e/9w/2v/Uf8A/43+X/6f/ur+Fv8//yz/Hv8P//X+CP/3/v3+Qf+X/8z/rf+v/8X/q/+R/4z/w/+8/47/cP/X/wYA/P/6//P//v80AHIAfQB4AGAALgAEAOj/4P+p/7r/4v8pAI4AfwAIALb/pv+r/8P//P/v/5f/XP8I/wL/Pf9n/5z/v//t/+3/zv/r/+j/zv/k/87/0v/x/9f/vP+g/93/OQApACsAVQBcAEYAGgAEAAQA9v/Q/9X/GgBEADQAPQANAMf/zv/v//r/RABRAP7/l/99/4H/mf/D/6D/bf9p/2L/NP/7/t/+/f7n/tT+BP8n/yX/Gv9I/3j/nP+M/3v/cP+c/7z/tv+Z/3b/Lv8c/0b/dv+B/7H/w/+e/57/nP99/3v/lf/S//H/IwCBAK8AqQBIAEgAXgBcAEQA9v/m/+//GABcABoA1//S/9v/9v8eAPr/wf+8/9n/DwBKAJcAegBPAHIAgQB/AIMAcgBaAGkAXgB2AIoAdgBXAHQAhQCFAIgAigB0AEYAKQARADAAUQCKAMUAyQDOAOgA/AAOAfoAGwE8AQMBrQBpAFEAOQAKAA0AOQBnAK0AlwB9AFMA8f/S/9f/1//b/9D/uv/k/zAAUQAwAAoA/v8wADYAPwATANL/tv+K/6T/AgAwAFcATwA5AHgAjACKALoA2QCxAKkA2wAFAfMAtgCVAIUAeAB9AK8A3wDZAMMAoABTABoAPQBvAHQAXAAnAAoA/v8EACkALgAjAAgA+P9KAIwAiAB0AD8A3f/K/w0AegCrAIMATwAgABwA+v/k/wAAPQAVAMP/gf99/5P/lf/g/+3/uP+k/6D/nv+c/5n/lf+Z/4r/ff+//93/tv99/7b/w/+V/4z/jv99/1X/LP/w/gj/N/9n/4H/cv9G/zf/TP+O/93/DQDd/7b/tv+V/7z/tv+G/zv/J/9X/7j/8f8NAN3/nv94/17/g//B/yAARAA0APz/xf+m/4z/iP9M/zv/bf/b/zsAZAA2APb/5v/k/+3/6P/S//H/8f/H/7//5P87AGsAgwBkAEwAOwD4/9D/4v/Q/8z/5v8RABEAxf9//8z/CgAAACMAOQA2ADYAIwD2/8X/iP+p/w0AaQBcAEoARgAuAAAABgAYAOT/5v/O/7//uv+g/9L/AAD6/woAAgAPAPP/1/+V/0b/Zf+G/6L/yv+i/23/Z/+D/7z/1//g/9n/pP90/17/Qf80/yz/XP9t/1P/Rv8u/zT/SP9I/yX/8v7P/uf+LP9R/2f/e/+X/+T/HgAcAEEASAAPAOD/2//Z/8r/CABBAD8AVQBBACcABgD+/wYAAADi/9v/8/85AG0AegC4ALoAwQCbAF4AUQBBABoAGAAwAIUAxwCiAIwAaQB9AGsAbwAjAAAAw/+6//j/HgBTAGQAVQApABoADwDt/+v/BAA5ADIA4P/S//H/1//i/yUAeACmAIwAbQBEABMAw/+r/6b/iP+I/7j/KwB9AHgATAAaAMf/q//M/+D/uP+x/4j/oP/B/8z/1f/d/8X/jP+V/6n/1/+//8H/w//Z/93/EQBXAGkAWgArAA8A+P8aAEQAiAC2AJcAdABGACcAAAAEAD0ARAAuAEwASAAIAOT/BgArAFwAcgB0AHQAXAAnABgADwAIAHgA7wAHAd0AegBPAEYASABcAJkAwQCeAHYAVwBtAHYAbwBtAGkAZABvAJUAmQB/AEwASAB0AH0AdgBeABwA4v/i/w8ADwDm/9v/2f/X/8X/oP+T/7r/BAAKABMA9v/Q/6b/uv8VADYANgA2ADAAOQBKACkAEwAjAFcAkACZAKIArQCDAGkAYABpAIoAjACDAIoAqQDJAAAB4gDOANQAogCBAIMApAC4AMEAqQC0AKYAZABaAE8AHgArABoAawCMAGkAUQCZAMEAngCbAF4ADwACACUAKQA0AEQASACZAIoAXABXAFoAPwBMAHIAtgC2AGkAKwAeAOT/oP+g/93/SABRAPH/CgArAEEARAArAPb/0v+2/3//a/94/57/tP/t/wgAw//Z/9n/Wv8L/9b+7v7N/gb/af94/8H/x/+m/6//jP90/2n/Mv8c/1z/Vf9G/0z/U/9V/1z/YP9n/0r/Df/7/s/+2P7P/tz+P/+M/2v/bf9V/0r/Uf9t/5X/k/+k/57/rf+Z/5n/zP/g//j/JwA5ADQAIADz/+L/4P/x/w8ABAA0AH0AtACtAHQATwAcAA0AHABVAGsAKQAyAEwAjgDxAAMB8wDSAJMAZwA0ADIAVQBvAIEAbQB9AKIA2QDMANQA0gC/AKAAgwC/AM4AvwC8AOQA9QDBAJ4ArwDzAAAB2wCbAGcAGgDg//b//v/2//7/NgBTADYAMADz/6v/pv/K/+T/+v/Z/9D/9v/r/7b/pP+i/5n/l/+G/2X/f/+O/6n/AAAYAA0AAgAGABUA/P8RAAQA8/82AFwAaQBRAD0A+v/o/9X/6//o/8f/3f/k/8r/qf+v/6D/tP/X/+//4v/z//r/zv+B/5z/5P8YADQAVQBaAEoAPQAuACMADQDX/9X/7f/d/+b/1//b/7j/k/9n/2f/hv94/5z/oP90/3j/k/92/1f/Lv8w/2L/f/+V/9f/8f+m/2n/LP8n/xj/BP/9/iX/U/92/3L/iP9e/0j/eP9c/2L/Z/92/2X/T/9B/2v/hv+g/7b/iP+O/4r/oP+O/4b/gf9w/5n/1/8nABwADwACAOj/+v/x/wAA7f/k//z/LgAyAAgA7//Z/+3/2f/Q/8r/pP+e/6b/v//m/9X/4v8TACkADQC6/5H/cP9t/5H/3f8VAA8AHgD4/7//tv/B/87/2//o/+T/v//O/+T/xf/2//H/1//H/+j/AAAEABEAGgAgACsAJQDx/7//tv+v/4z/nv/D/+b/RABVAJsAdAAwAMz/mf+k/5f//P8PAAYAIwBPAGAATwAnABwAEQAAACUAOwArAAQA+P8PAEEAZACVAJMAZABEABwAAgDv/xMAKQArADIAMABEAG0AjAC2AMEApgB0AFEAJwAnAFoAWgAwABEA+v8VABwA8//6/xgAEQAaAAoAEwD4/wYAdADJAA4BMQH1ALgAyQC8AJkArQDFAM4AxwDzAOgA/AA5AUAB9QD1AN8AogB2AGIAfQBnAK0ApACiAO0AAwEZAQABzgDFAJcAegBrAHIAfwBiAFwAUwBpADQARAB0AG8AUwAKAMH/rf+V/4r/wf/F/7b/jP+x/6L/l/+0/3//Vf9g/1f/cv+K/3j/cP+X/3T/bf9r/3T/af9y/3D/eP9//8r/6P/r/+v/8//2/6v/af83/3T/ov+m/9D/BAC2/1r/Jf8p/2D/ff+K/6L/v/+T/1X/YP+B/47/zP/Z/+v/0v/B/7H/dv9G/0b/Z/+v/+j/wf97/0T/O/83/zv/g/+D/5H/uv+k/57/lf9y/2D/RP9V/4H/e/94/5f/rf90/2D/gf+k/5X/f/94/6D/0v/2//r/+v/B/4b/Xv+V/57/nv+//+T/0v/Q/93/9v8YAAQA7f/g/wQAGgAgACkAMAA0AEoAaQBkAHYAXABaAHoATwAlAEYAWgBpAKsA1AC/AMcApACOAI4AmQCvAI4AbwBPAH8ArQCZALYArwBpACkAGgAVACcARABIAIoAmQBVADkAcgBiAD0ABADH/6v/mf/Q/x4AXABcACcAJQBKAEEAEwAEAAYAGABKAEoAKwApAOD/1f/z/+j/8f/Z/7j/r//6/zIATABGAEwAGgDQ/5z/nv/O/+T/1//V/xwATAB0AHIALgDz/8H/f/+T/6D/e/97/4j/pP/K/7b/mf9l/yP/BP8y/1P/cv+r/8X/vP+k/8r/0v+//9X/0v/Z/5z/l/+//7b/3f/o/9D/AgA0ADAAUQBiAEgADQDZ/87/8f9PAGAASABrAHYAcgBkACsA8//4/xgA/P/z//P/DwBrAJkA0AADAfgAsQB/AIUAUwAYAA0AHgBXAJAAlQCgAK0ApgDSANIAvwB/AF4AJQAeACAAZAB4AIMAlQCvAAkB1ADJAJ4AhQCFAJ4AdABTACMATABnAG0AoADHALYAeABeAFUASgArAPz/zP+D/6L/3f/t/9v/wf/D/7b/q/+G/5n/hv+Z/4b/w//Z/7j/1//V/5f/cv+B/3b/g/99/5z/wf/t/wgAMAAwAPz/9v8KANv/ov+m/+b/IAAwAC4AJQANAN3/3f8KABUAEQD+/93/9v8CAA0ANgA/AFEAYgBPAD0A7f+8/7b/DwBVAGsAbwAyADIAUwCeAKQAbQBgAIoAlwBXAG0ArwDHAJsAbQA2ABgAGgBKAHIATwBGAHYAkwBnADYA/v/d/+3/EQBPALQAqQByAEYAPwAVAPz/BgApACMAAAAEAN3/x//B/8z/4P/M/9D/0P8AAAoARABGAB4AIwAaAFMAZwBMACcARABeADAAGgAeAEoAZAA7ACMAGgANABEAIwDx/6v/l/+R/5z/x//S/9v/7//b/+D/v/+p/6T/jP9i/0H/Lv9R/3j/pv+r/2n/Lv8P/+r+4/4R/2L/dP+V/6n/k/9p/0j/NP9X/3D/eP+D/4z/kf+Z/33/Pf83/wv/I/8y/w//Df8a/xr/HP94/5f/eP9l/0b/Hv/a/rz+2P49/0z/g/+v/+///P/+/7//g/8a/9T+GP80/2n/jv+g/6D/gf+D/4H/Rv/3/t/+zf7s/if/J/89/3D/V/9I/3v/r/+6/0z/Gv9T/3v/kf+4/+b/2//X/wgAXABgAEgAOQBPADIA/P/+//r/7/8cAEwAbwBvAHQARABVAGAAKwAPADYATABRAFwAYgB2ALoA+gAJAfwAvAB9AF4AOwAyAEwAgQCQAKIAzgDXAL8AogCtAKIArwCXAHQASgAuAAIAKQCQAIUAqQCpAL8AyQDUAOoAxQCiAHYAYABtAIMAdgCgAOYAIQE+ARIB8wDkANIAuAB0ADkAKQA2AFEAIwDo/9f/5v8CAPr/BADk/9X/1f/m/wAA9v8AAPj/EwA0AEgAHADb/+D/+P/x//7/9v/+//P//P/x//7/7/8KAAgA/v8jAAgADQDZ/xgAEwDd/xUAJwAGAAYA5v8gAN3/FQACAPP/NgAjAG8AZwCmAFcAHgAyAGAAlwCgAIgAcgCgAJAAmwCDADAARACFALoArwB2AEgACgD4//j/BgArADQACgDQ/wYAHgAgAEgAQQAcADsAbQBcADYAXACKAIgAfQBgADkATABRAEEAKQDr/7j/8f8/ACcA/v/g/+3/AAA0AFoANAAnAFMAYAARAO//8/8nADsA/P8CAAYA+P/v/+v/8/8jAEYAIAAGAP7/5v/H/+L/7f/k/87/nv+Z/87/AgANAAYADwAcAO3/q/+v/7b/iP+R/zD/E/9a/6n/6P/4/+D/pv+B/2n/iP+6/w8ADwDV/woAHAARAP7/7/80ADsABgD2//H/7//r/+j/5v/X/6n/tv/4/+j/tP99/7j/6P8VABoA5v/D/4j/TP9V/4j/nP+e/7T/0P/F/+j/6P/M/8f/cP8Y//v+I/9B/0//cv+X/5X/lf9R/xr/1P7U/hj/N/9I/1X/U/8//4b/2f+p/5P/ov+r/6b/hv+B/3v/bf+X/8P/CAA9AC4AXgByADYAIwATAGcAjgCvAIgAfQBiAFwAkwDJALYAawByAI4AkwBeAGQAegB9ACsAIABPAIwA6ADXANAAZAAYAPr/FQA7AGcAdAB9AGsADwATAPr/PQCMAIMAUQApAPz/+P8jAC4AIwAjABMABABVAIwAVwAuAEYATAAwAAgA1/+4/zAAPQAVAA0AYgCTAH8AegAaAKb/P/8T//v+/f4h/2f/rf+0/5X/tP+e/1r/YP9w/6D/f/+V/4z/TP9X/2n/vP/X/5z/Vf8T//n+Kf9a/6L/x/92/zn/U/+//9D/6/8jAAYA0P80/8z/7f9tAJMAtAD6/1z/e/+6/yAAgQCrAAYAl/8l/0j/1//JADcB6gBXALH/T/+c/2AA8QD8AKAAHgDB/7z/ZwAfATMB7QBrAN3/1/8RAIEA8QAhAYoA5v+Z/63/DQBaAKIAfwAVAM7/7//2/yAAYgByAG0AawBXAD8Asf/B/08A+v9vAOL/AgA//47/LgD2/zsA2f/g//D+YP+M/87/wf8GAEoAwf+I/2f/cP9R/5z//v9aAAoA7f+m/8P/vP/m/1UAPwAaANL/GgD+/6D/3f8rAPb/+v9PABUAv/+t/4r/xf/H/xMACgDt/7r/NP8cAGX/JQDb/8z/zv+6//j/KQC//xP/gQCN/u//BACX/3gA6/9/ALr/WgDg/3D/YgBK/wYAYv8AAK3/0AAdARH8TgS//bv73P6kAPP8vP7GBqn/WgB0A+r+u/2N/nUBRv3UANEECf3F/8z/HwE6+zQCCQOd/tkAdgKm/1L+ogDr//v+tAB4AAj+Yv7c/lH/Mv+iAlACkwDS/23/df6h/g0AqQDzACEBJwAa/7H/7f/i/3QA7QBtABEARgCtAKsAfgEOAaIAEAFPACX/af+6/5P/+P+eAdgB2AHpAeoAGgAY/wb/Lv8gADcBrgGHArMCxgHFAAAAYv8A/xEAwwCRAS8CpQEOATkA4P9e/5P/JQDfAGEBUgEdAYoA/P9V/23/nv/M/38A2wCZAI4AcgAGABUAjAB2ACAA3f+c/0H/YP+e/wQA6AAzATwB1wA0AOv/ff9R/zf/YP9i/+v/aQAlAM7/7/+0/3T/5P/+/8P/v/+T/2f/sf+i/6b/+v87AMX/uP9i/wD/TP+6/+L/CgBkAOv/GgBaAND/U/+//+//lf/6/4gAJQDo/zIApv9V/8H/2/+r/ycAAgBy/23/gf9a/2D/BAAPAAoAJQBaANv/YP9i/17/l//8/08APQARAO3//P8/ALEArQCTAIoASAC8/7H/8/8GADIAGgBaAKAAegA0AFUALgAKAEEARABGAEYAUQAEACMARgBGAHIAYABGAEYAyv/z/xUABAAwAA8AEwDS/9D/T/99/6D/AgA0AD0AMADB/5H/jv/r/93/GABBAEwAEQBgAGIAGgAcAOT/IAAyADIAHgAnAAoAEwBnAHIABgCM/5P/Zf99/9f/DQAcACcAUwAwAPr/2f9B/17/NP8L/4P/BAAAANf/HgDZ/5X/q/+M/4j/rf+G/33//P8cAPj/GAD4/2v/Zf+V/zT/I/9y/5H/cv+2/8r/mf+T/5H/l/+M/4j/tP+X/6v/5v8RAMX/xf/O/5X/cP+T/5n/iv+r//b/WgBEADkALgAVALj/uv/D/6//pv9g/5f/sf+K/4j/kf+O/2n/eP+T/2v/dP+G/6//hv9g/2X/tv8EAFUAQQAVABEAzv+r/6n/+P8RAO3/CABiAIMAfQB/AGsASABVADsALgAyAEgAYABpAJAATwAuADQANABIAHgAXgAlAC4A7f8cAG8AaQB0ANIAzgCbAH0AYAAKAEEAjACFAG0AgwCFAH0AdABtAFoARgCFAIMAKQAjAGkARgAlAFoAOQDx/xEAcgA7ADQAegBXADsAlQCiAEQAPQDO/7T//P/+/xUAZwD8APgAyQCBADQA/v+4/7j/pP+K/2X/Z/+O/3D/iv/S/9v/0P+m/6n/Sv8e/1z/1//V/6//1f/k/87/q/97/1z/pv+p/9D/7f8NANL/0P8uAD8APQAwABEALgAwAAQA8f/x/7b/tv85ABgA/v8CAHYAwwCtAAcBRgB4ABwAIwDK/1wAdADK/8f/Of9e/yf/5P/F/wIAHABTAD8AZABpAI4AaQB6AAoAKwATAMf/EQBrAEgAzv8rACMAYgCXAGIAFQAIAA0ASAB6AIwAdAB0AGAAbwCIAJcAXAAlACsACgD4/wgAHgACAOD/uP+O/3b/cv9E/1H/jP+0/3v/lf+c/6T/gf9K/0b/TP9X/3L/qf+8/7r/qf+T/7T/2f8PAD0AAACv/7r/4v/t/9D/7f/D/7z/pv+v/+D/EQA0APH//P/b/9L/zP/H/47/dv+T/8P/yv+p/47/iv/F/7b/f/+g/8f/jv+c/6D/2/+g/8P/JwAYAPr/4v/d/6//w//x/w0AEwAPAOv/8/+T/2v/iv/D/9n/AgAjALr/xf/S/9X/q//D/8z/tv/K/8f/2//m/ysAVQBGAEEAaQAwAAAA4P/K/7b/6/8NAN3/8/8KAAYAHgAeAMX/xf/i/8f/kf+Z/5f/uv/X/93/1//B/+j/AAAcAD0ABACT/3T/wf/O/xMAbQBRAAYADQCZAKkAlwCeAJcAgwBTADkAAADb//z/IwA5ABgAPwAyACAAEwAGADAA9v/8/1wAigCxALoAogBvAFoAaQCOAJ4AmQCQAIwAgQCMAKIAoAC4AIgAfQBaAFEAeAB9AH0AegByAHoAjABVACMAKQAAAA0AVwBaAH8AtACmAGAAIAD2/9X/3f/Z/+3/HgBKADAAQQAnAEQANgAEAK//jP9w/yz/U/+m/+D/7//+/ykANAA9AE8ADwCV/17/ff+i/9L/+v8gAD8AUQBBAEYANAAnANv/uv+r/5P/w/8cAHIAZABeAIUAeAA/ABMA0v+D/2v/x/8nAGIAgQCTAGkAPQDr/5H/oP+i/4r/uv/6/wYAIAB/AK8AiABtAF4AUQA5ABUAIAAKAEEAhQBrAKQA4gCrACkAGgAlAAQABgBVADsATACQAKYAfwBgAFMAPwBIAEgAGABIAFwATABEADsAIwD8/xEACADF/4b/dP90/4j/uv/K/9X/7/+8/4r/pP+t/6n/uP/x/xMAEwBGAEQAUQBIAPP/nP+X/4z/q/+//9D/5v/S/+T/7//m/xEAawA9ABMAFQD+/+D/6P/Q/5z/Z/+i/8P/3f8gAPj/uP+r/7r/6P/r/6//Zf8h/9/+wP4C/2D/k/+I/5n/a/9E/2n/nv/m/+L/tv+D/6//qf+e/6v/r/+k/47/l/9X/2L/uv+x/6v/nv94/1z/bf/b/wIAPQAyABEA6P/8/ycA2//Q/7//pP+I/4H/jP+V/57/pv+e/6D/zv+x/7j/q/+R/2f/Kf8T/zD/Of9X/0//U/90/63/q/9w/33/YP83/zn/Xv+B/1r/iv/H/7j/uv/Z/wIA6//m/9L/l//F/x4AYAB4AG0AUQByAIUAlQC0AJsAeAByAJsAdAB9AJMAjgCOAJsAuACZAJkAsQCOAG0ANAANADsAegB6AGIAfQCFAH0AigCkAH8AiADJALgApAC8APoA0gCeALYAvACxAKAAlwB/AGcAqwDUAAcBJgH6AMUAlQB/ACkAIwCMANAA9QBAASoBzACkAEoAGgAYAAQA9v82AE8ANAD+/w0APwAPAAoA3f94/yH/If8L/yX/iP+6//r/NgAuAPb/0P9//zv/a/92/4H/g/+g/9X/GAAcACAACADk/8X/zv+g/2L/a/+p//j/VQC/ANQAxQCgAFEA7/+B/4H/3f8AABMAVQCIAIgAawAYAKn/iv+M/4z/l/+c/6v/5v8jADsAgwCxAEwASAByADYAEwBGAFMAkwC/AOgA/ADJAJkAXgBgAJ4AcgBBAEoAIAATADsAIwDV/+b/JwA5AO3/6P82AEoANAATACMAGADS/7b/+v8jACMA4v/8/yMACgANAO3/uv9y/4H/kf+O/3L/Lv9M/5n/1//o//b/DQDS/7T/2/+v/7j/2f8EABMAMABvAFUAJwDz/87/sf/d/w0A8f/i/+D/zP+e/5H/jv+V/5X/tv/o/7//pv+B/7z/0v+8/9D/q/9M/wD/9f7h/gD/Hv+T/6n/0P/o/wAA2//S/8H/wf/2//r/6P/+/9v/2//X/57/5P8cAGcATwA2AAAAAAANAP7/zP+2//P/6//i/9n/sf+R/2n/Vf9P/4b/4P/8/8z/yv+0/6D/x/8EAOT/AABBAD8AFQANAO//nP+K/4r/Wv8s/x7/8v7y/j//Zf+X/3L/Sv8//1P/V/9g/1H/mf/H/9L/0v+2/6L/lf+e/2f/TP85/0r/iP+p/6v/nv/F/+D/6//r/9v/AAANAOv/6//k/+b/EwAGADkAKQAEADsAbQBXAD0ABgDi//j/CABaAIwApgCKAHYAngDkAOIA/ADmAIgAawB2AJ4AsQCtALgA2wDoAM4AvwDbAJkAZAA/AC4ARABiAEEAQQBKAA0AJQB4AI4AdADFALEAawBKACUALgATABMATwCFAIMATABPAGQARgAYANX/v/9//1r/SP97/6//pv/g/xwANgBPAB4A5P/V/9f/yv+m/6b/vP/6/ysAAADX//b/BAACAAoA+P/K/7r/0v8AADYAawBRAHYAegB6AFoAMAAAAAIALgBXAJkAigB0AJAA2wDdAJAAPwDr/8r/EQBBAG8AfQB/AJ4ApACIAG8AmQB9AGQAbQCeAMUA1wDkANkA/gDvAOIAugCKAE8ALgAnACUAIAA2AG8ARgACAO3//P87AAgArf+4/9f/7//g//j/4P99/3D/nv/O/wIAw/+g/47/Zf9a/3L/g/9B/yn/NP8p/wT//f4Y/0//dv+4/9D/l/+I/2f/ov/H/7//jP9l/4j/nP+k/63/rf+//93/1f/x/wAA7f/D/8z/AgARABEABADM/5P/pv/x/+b/6/8KAPb/EwAEANL/AgD4/9L/oP9M/wD/Kf+G/7z/r/+2/+T/8//m/8r/+v8rABwAYAC4AKAAgwCOAK8AwwDXAMEA1ADfANIAtAB9ADQAvP/O/xEAHgAjABMA4v/g//7/7/8KABwAGgAVACUANgAjACsAHgAnAB4AOwA9AAIAuv9t/yf/7P7U/iH/g/9t/yX/Gv9t/6T/2f/Q/23/Hv/3/vX+Hv8w/9/+7v4e/0z/Pf9l/6T/pv/S/5P/nv9e/4z/g/+i/7T/sf/i/+j/IwAaAH0AdgBaACcAMABEAFEAcgB0ALEApgCxAPwA1wCDAD8AMAAeABMAYgCQALYA4gAxAT4BPgE3AfoAFAH8AN0A5gAHAQkBCQEoASEBCQH6AOYA4gAAAe0ArwCTAJkAlwBkAIMAawBKADAABAArAE8ASgCKAKIAgQBKACkAIADz/6b/rf+//7z/zv/6//r/tP94/17/I//s/tj+o/53/nz+nf7q/if/CP/n/hb/D/+1/nz+gP5x/jH+Mf5x/uf+Hv8//3//eP8n/xP/N/9i/1X/Vf9y/63/zP8KAJkAzACkAFcATwAwAB4AIwA0AGQAhQDDAAsBPgEuAfEA1wDOAMMAtgCrAJMAfwDmAHUB3gHlAdgB0wGhAZ4BjwGCAZMBmAG7Ae4BHgI4Ah4C8gG0AU0B/gAQAUQBdwGWAZEBngFwATwBTQEfAd0AuADkAOoAvACKAIMAeAA9APH/GgAYAND/ov9a/xH/8P6+/rX+nf5d/k7+G/4V/rj9cP3G/fj9//3V/b394v3K/bv99v0S/t79jf2N/bD9w/3M/Q7+KP4Z/hf+Gf5B/jz+Ov42/kz+fv7J/tb+if5H/kf+o/68/s3++/5P/4H/Sv9p/+3/RgBRADAAJQAuADIAXADXACwBRwGAAaMBcwFjAXMBRwE5AXMBkwGLAbQBoQGlAaEBmAHCAfYBKQJKAkoCdgLCAvMCDwM7A30DwQMrBGoEqgT3BBUF1gSJBIcEsATJBOoEyQQ2BJoDRAMhA+MCkAIOAoIB6gA9AKn/Av9U/rv9Wv3k/Aj8hvts+xb7v/qM+jD6pvlH+e34kfhh+B/4BPj+9wD4D/hI+HD4ivhE+Dv4GPiX90X3RfeQ9+r3YfgZ+bf5IfpT+hD7Efx//MD8B/1w/a39+v1Z/q7+7P4N/zf/dv/2/zQAlwA+ASAC/ALvAxoFQgZ6B/gIawqGC1AMGg0SDs8Oew/vDwUQxQ89D6wOEg4zDfQL0gqYCfcHZQYuBUUE8wKPAVMAjP/A/t79S/21/Cn88vsi/Dj8+/uh+6X7xPuh+837Gvyb/BT9cv30/cv+hv/B/y4AjgC8AFYBJwIHA6kDEASYBGIF/gU1BpYGeQaxBdoERQQyA/sBEAFaAAAAf/+z/hf+cv2x/OP7VvsA+4H6zfkm+Zz48fei9373BPeh9hv2q/U99eH0wvRS9En0rPQT9av1TfaC9uv2Svdx98D3Dfg3+IT41fgV+Yn5y/mm+Z/5vPl6+Sj5B/n0+Cj5X/nH+Tn6WvqM+uv6xPuQ/Jz9kf+SAu0FyAg6C9wNJBGIFDsXExlqGoMbHxwaHJUbLBpoGI4WuBQ+EhMPPQwWCuwHKwX1At0A+f5w/TT8L/vE+YT4r/dD95b24vW89Rb2gPbe9qr34vgN+hv7ZPyt/db+NgCWAZ8CUwOlA+0DRwTvA6cDQAPCAoMCHgJhAQMB/ABwAWYCigNSBM8ErwXTBiUIIgmbCYIJ7whTCNYHCAfmBYUEJQOaAfH/9/4v/sj9S/1i/Gj7ePp1+Uv4Zvd+9mf1evTk81PznfLV8bTxvfGN8aPx3vET8lvy2PJR87jzTPSx9Eb1KvbG9kj37PdA+Fj4svjy+BX5G/k6+Vf5VPkb+SL5JPlm+ab5ufkC+mn68fof+5b7xfxG/5cCPgZxCbcLUA60Eq4XNBtOHboe7h9GIFcg0R+VHpUcbho8GDwVxRFfDoILuwjBBfECmQBO/k78jvqg+Kz2ffXW9B309fL28ePxbfIE85PzaPRt9eP29vgD+5n8Dv7r//gBVgMHBMYEPwVIBRwFrARhBEcEFwTBA1ED0AJDAkUCpAKIA4sEaQUoBi8HMAj0CIsJtwkiCaIIOwiMB1gGxgRIA+4BlQBp/8/+Iv5P/Xr8gvuQ+pb5q/jf98T21/Wx9I/zmfK38fzwv/Az8WjxQPFf8ZTxyPHy8QPyL/JT8qbyB/MU8xjz9/I782XzbvNy82Hzq/MQ9D70bPSs9CP14PVF95r4CPpu+3H8Vv2C/uIA1gR3CbgNtRAQE68WaRsEIN8i7yNhJM0kEyVuJIciCiBtHc8aqxfjE90PBgywCIUFRQJG/4z8bfq/+M/26vSG89DyTvKl8dDwTPCv8HXxc/LZ84H1dvdG+tD8wP5pABkC8QOFBUIGuwZeB3gHVQfjBiEGXAVzBH8D/gJIAl0BgwDV/z3/m/6Q/qD/7wCnAYYBnAGHAv8DNgUFBoYG3gYZBykHGQeWBu8FiAWCBPECYQEKAJ/+7Pxq++75yPhp9631IvTU8sTx+vCM8PXvZu9B7yvv/+7x7szuw+5S7+fvGPCZ8ITxGfIn8jjySvIy8mTyx/K48sPyC/NY8x/z6vIa84rzDvSS9D/1T/aD97T4pvmx+pL8x/+CBM8JRw49ERwUXxjqHdQiKyUQJlAnVSjQKAAoISZeI0YgTh0UGlkWIRIZDqkKOAclA2v/xfzK+qn4EPbT8w7ytPCo78juUe5C7u/uGvBo8a/yevRT9476T/2D/8YBJAQSBlsH0Af5BxgIOwhRCMMHBgd1Bt0FDQUSBBgDNAJqAZsAw/+Y/jb+z/6g/0EAZwDOABkCjwOzBEgF1QXaBnoH7gcfCB8IAgiUB5oGGgWTAwMCgwC+/pf8k/oz+eP3Pvau9I/zyfKN8ZPwn+/p7irume067b3sguy37Gjt3+1y7vruhe+q76jv4+8E8Nrvze/W7wLwevDK8NnwMfHN8RzyuvK286P0KPY3+AL6M/uO/Iv+6QHaBmAMRRGDFGcXMBxvIpknlinIKUEq/CoUK7cpxyclJZwhOR7rGkQX2RJXDpAKpwY4Ajj+Xfs2+W72KvOx8Arvye2/7AfsAOxj7FvtUu8m8dvyPfVa+On70v4hAWEDmwUpBwcIhgjMCAoJHQkBCX0IuAckB6EG2wXfBJwDugLjAakANP/4/b/9Sf4n/6n/kf8rAF0CmwS2Bf4FoQbHB6IIAQkoCTYJwwi+B2UG0QQAAz4BLP/f/O/60fkV+d/3BfZH9CXzRfK88BXvx+3N7DXs5Ov161bsoeyW7CjsPuys7C3tku2f7V3teO3x7SzuTe6V7hnvgu/U70zwN/Fk8j3zsvOC9EL2Z/h2+hH8Hf2A/gsB8QWUDG4SuxXTF0Ic4yKXKPwqECt5KzQsEyzvKgcpHyYQIiMe5xozF6MSFQ62CkMH/gIR/w/8n/lj9q3y7O9R7v/s1Ovq6qzqT+s97SPwjPJq9KH2vvlC/RgAQwJDBDwGegd5CHEJLgprCm0KJwqHCZEI4Qc6B2MGHgXtAyMD8AE7AC/+n/zw+/b7gfwu/dn9Av8uAZUDfwWyBsMHMQkrCnAKogpMCnMJCwhJBsAEBANLAUb/Jf1L+9z5vfim9/71NvS48kfxeu+S7VLsTOuS6lbqh+rC6rfqoer56rTrguzj7Kzs/ut968HrWOzE7M3sRe037uTuOO/j70LxpPLI82v1V/dx+T77wPw2/kj/lQANA3EHig3UE1QYXRq/HDwi2Sh8LOUreCpTKmAqUilmJ+MkQCHcHEQZmxYtE5sOjgpXB24D/f7a+/v5m/e78xHwQu547bDs2et66xbsuu148HDz4PUo+J760f2rAEoCigMpBdMGsQdICB0JAgpKCj0KSAoWCq4JUgnMCL4HKAaWBCEDhgFX/2P9yfwu/ev9h/5M/+QA5gK7BBQGjAf2CHMJUglmCZIJWQkuCKwGXAVFBHQDQQJiACT+yvu3+dT34PXX8xzyevBu7r/sqeu56vjptukt6urqdOub64Prq+sS7HPsgOxw7D7sM+xS7M3sL+2S7fXtle7L77zwnPG48t7zkPQa9SH2pPeS+Tr79fzl/pMAuAK2BU8KsBAAF7Ua3RuHHVIiOSguKzIqXij+JxgoQyeBJTkj4x8NHAsZfBaFE4MPMws6B9ICQf7m+sH4Eva78Qnu/+x27cXtNu3a7JDth+8p8tb0lvbS92j5wvtS/goAXQHhApYEwQWhBokHmgiFCZ8JIAkMCfoIlQhIB1MFqwM9AiQB1f9m/mH9Z/13/sz/pABqAXwC4gO+BH8FmAaqB98HjgcnBwoH5QbbBXoEWgNZAhQBq//k/Z/7OPkT9xH18/IS8Wjvxe1H7MvqIupz6s/qGOsT61rrDuyJ7F3s3+uv60zr3+p+6jzqn+pX64ns7O0K7yDwB/F18Wjx9vE98370WvUW9hX3EPlz+6X9zP+wAWMDCwUcB/EKOBFdGPYcZh04HQsheCfvKi0pSSbFJdEmxCbyJOoiXiCNHP0YZha+E6sPvwpHBgECwf0N+sD3tPU48l7uyOyx7ZHuze2J7PTsUu/P8aDz7PT69d33k/o7/SP/RABYAfwC0QSUBgQISQnlCeMJqAl1CW8J+gibB30FEARsA7wCvQGFAMH/zv9rACYB3gFtAtsCigN3BGUFCwacBhcHeAd4B0UHzwY3BiUFxgNtAg4BZf8u/bj6hvjN9tr0w/LX8GbvMu5z7QztiewQ7OTrC+xP7Jjs3Oz27I/sPOye7Hjtxe127aTtN+4D753vYPBs8UXyAvOT82H0zfRx9AX0zfTe9tn45fnV+pD8o/6gAEoCqwMjBScHJQpeD/YV5xqxG9EaYh20I+QoOSjyJJYk1SbqJzMm3SNHIhEgvRxTGccWPRRCEFQLjwYaA5sA8v2m+sj2jfOA8cHwkPCo71zuD+4X793wK/KQ8rryG/TE9lT5vPr/+wX+8/+JAcUCPATKBYsGjQa/Bj8HGghCCH4HPAZ9BUYFDQU2BP4CEQLjAUgCvAJhA1IENgUFBuMGuAfICFsJDAmNCJcIrQj8B4IGhwQPA9gBYgBH/rf7kPmk93/1EvMF8YvvS+5O7Z7sR+x17CzsYOvj6snq3+rR6qPqEevd64TsJO0v7Qjtb+1W7vjuZO8e8GrxLfIp8tHx4/FK8njy3/L68/X0a/XQ9Q73DvkU+9D8Mf7d/78BhgPqBMgG8Qo0EdsWSBk0GesaYiD+JWon4ySnI7wlPyjYJ5klKCRVIwchMx2IGfUWihTCEMoLegfqBPECNgD2+xT4KPZl9Yn0mfKO8GzvPO+w7yPwYPDF8KzxKPPn9GX2fPeK+O75Yfut/Ar+Xv85AMEASQEpAlgDIASCBHUEaASoBNgEbwS2AxgDNwP8A64EDQXxBTgHsAj9CeAKxgs6DDIMhAupChgKhQlRCKMGtwQWA1oB6v56/Ff6mPi39oX0sfKG8YjwX++w7n/u0+6i7k/uLu7f7cXtJO3l7O7sMu0n7ebttO4V7xHwOfBI8Kbv7u/d8EDxVfCU7z3w/PA88Wjxb/J3887zhvMH9Hv1YvfV+AD6Yfth/SH/gQChAfcCJQWrCMwNcRNYFyAYnxhpHGgiqCVhJDEiGCOXJU8m+ySBIycjLSLeHxsdHhsNGa4V2hD8DMoK9AgbBmYC9f5v/Af7ofmD93f03vHF8NDwFPGr8M3vgu968MrxD/PB82T0AvVM9cr1Dve9+Br6xfqJ+2X9k/8sAZEBuwFKAkQDBwRvBJYE0QQrBcEFPwcDCdUKdgxYDd4NbA5pDwUQww/aDuINUQ2xDGELXQkeBxUFaQPEAYj/6vy2+vb4fvda9hz1A/RA8wPy1/B08CDw1e6q7YftoO7W79nw6PCp8FjxWPEn8LDvpe7W7Qvu9O5d7+vul/B48MrwqO987wTwMvBp8AHvqfA98jH0BfTn9FT2Fvg6+Uf5/fmJ+6f9TP9NAXIDMAVSBqgHXAoED2QTFhWpFIQVeBknHtMfRB70HGseGCFJIpEhhyBBIIsfhx3uGmUZ5BcQFV4R/w2XDKULEgkcBakB4v+F/j/8nvhy9czz9fIM8g7xFfCo72/vGe8S74LvJ/Bn8Avw+e+C8bjzC/Vw9XD2H/gA+nX7UPxu/ez+fQADAqkDUwVoBhwHrQdjCJ8Jhgs5DV0OKQ9/D4EP0A9sEJEQmw/MDTsNRA3QDNsKjwjeBmIFaQPSAJ3+8/wA+6X40faT9TH0cfJj8QHyY/P58jzxV/Ba8AHv3O9F7Z/t/u2D7djsou0T8B7tFe0c69nuZe467c7rIe5K8Dfuku2/7HfxOfEJ817ybfVK9x/4Ofju9/P6lPuK/RX+9v/SAJcCTwOmBEwFmwVYBrkGuwZoBi0HtQlwDYsQHxIoEooSyhRXGF4Zghc6FkcYLRsjHN0bRBw2HYgcbBqoGCgY+RbfExkQWg3RC0EKpgcKBAcBMv+g/T77Nfh29fTzrfJ78VPwue+C78juYe627pjvgfAF8azxXvNt9SL3O/j/+CH6ifvk/Cj+XP9vALkBuALiA9EEeAW8BXIFmwV3BgAIownkClQLbgsnDAMOqQ+DDy8OXg3/DT4OPQ2LC20KrgnDCHgHGQZ8BLQBKf9e/XH8JvtH+b/1Ovas9Jj0z/Ht8ITxXvDu75Hule6m7+nu1exx7XbtVPGi7YXvG++J8t/wIPBz78Tx2PJ28o308vSz9xv26fjd9yj5Efr7+Yj6rvm9+zz+uf7a/jj+gAEnAoYB5v9oASMDiQJtArQDLwZdBi8GjgWvB40ILAgcB5wImAuPDSAOeg6iD7UQ9RHrEnMTJBP2EuASfhPCE80TCBNeEhURpg8VDpcM9QpGCHYFhgNoAosB9v86/kL9rfza+4b6Bfmo93P2zvWx9Zv15PVs9pT3TPfh93T4Ivl1+Zz4vPkk+8v8kvzL/CD+RP+k/+L/yQCuAecB9gGzAv8DyQSSBGkFDgfGCAcJzAipCFsJmQrVCvUJXwmWCYsJ+gitB6cGjwaFBb8DDgLQAKL/qvwH+z/6gfp0+Lr3E/WQ9fD0HfZJ9ETzYfZ+9LH05/G282j2LvPJ8izzzPV+9670BvVB9Pv2dvXc9ELzZfW69V/2BfZo+aL3gfqW9u36XvgW/d74h/kx/ln82wAr+mEDyf4JAwUBMAOtAxgDiAPCAd8ErQKeBToCDgc3A/sEdAMNBfoDxwLWAk8BbwK2ADUBXgCmAm0CZgTlBLkGNwbTBq8HMwk8CZgJawrKC5cMmwwfDXIN1Q2+DN4LdQtYCzQKSAhiB/0GwgbFBScFVgRpA4UCtwFWAU0BqQBkADQAxQBnABYBqQClAR8B3wBqATcB0QFE/0YAwf+pAKj+nf7U/or/Sf5I/UT92/yc/U37Yvyn+5P9h/xX/Mr7B/3P/lr/XP+d/uv/eQGDAk0BOQD4AUwCkQE/AD4BmAE/Anj/nf4CADMBcP8g/P/7hfwd/bH5afrI9o76d/jO93P3EfVn/Tnz1vk29I76/vcW9RD7S/b0/c73v/2s+WT8Jf1I/Ib71v6v/Nj+jvyc/3f+xAGg/b//uvzZAOX+H/tX/u77fgHO+pH9N/uKAGb82fxq+7X+vf0f/bz6//1g/+T8+fyp/fUAA/5X/hn+w/+W/qr+f/+QAIgAHwHUALgCxQLUAs4D1wUDB9wGoge0CLQKEAuUC6QM2Q02DsQOxw6gD4EPgQ8ID3cO8g7jDqkNnQzYC8cKtQlTCEgHyAbzBcYECQN4As8BVf9+/lX8RP3q+aj5Nvll+H/4afXS9w/1CvcE9cj2NPWr9bD21fV0+BP1PPmy+DL8lfqJ+fX84/5l/2D/qP7IAS0CWAPyAZoDlwMZBFACBAPmAroCsgMvAp0ClQMyAjgCiACGATsAtABa/179WAEI/kz+Tf3O/CX/Yvoy/Ef7lPkgACj2b/zX83T9/vf9+9L3wfX5/L/4jfnF99z7S/0d++H5Tv6l/WX9hvrY/tv6bQDP++v97P4k/v78tv0R/6v9GftE/R78Df2K+gz8kf2w+7787PxA/aT8Qv2V+kj/6/ud/nz8zABzAcX/3QDnAc8ETQO4A/sEiQYqBrIGrgbtCCsKcwmOCpgL7AyqC1gLJwwJDV8L5wmQCq4L4AqfCaoJiwktCckHWQfqBUcG6gTkA+gCvAIpAhIBlQBgANL/jf5k/nL9Hf5z+wz8R/t2+vP6lvmm+Xj6dfnK+MP4kvlG+tb5LPts+Tb+k/rX/8r9+v9PAPz/egKBAsoFMgLMBakDCge4AycFhAO4Bd8CcwLDA78DEQIRAH4Bdf79Ae36PP6j+9z7Hvr4+AD7ivp695X4z/v99mf4yPb2+274bvax+er5bP219PP6yv0u/5L51finAV/+pvoL+20AKP44/gT4tQJX/tf9cfxE/dMBQv2u+7n+iADl/ib+K/5sA6L/bQLO/JoDdgJgAhUAQAEeBXsBqgSiADIHYAKuBMkCCwYQBEEETQPzBb0DbgHCBHwEGQSR/5wDRgPUBOQAnwJLA98E0AIaA2oEVAYTBYgD4gWWBq8HEgSnBtgGUwd2BdUDoQbeBgwE/QHXA8gGfQNcAJcCGgPbAlD+EgG/ALgCGv+N/jUDG/5QApn8dQTD/VQB2wAkAf4A+/7CASj+6QGI+vIBmPtsBA72LQRe+tT+t/vQ9wL/y/fF/4nyPP5Z+c32O/is+dP4YPqF9AD77fWb+T363/dR+kb4w/xo+V76J/xl+ln5nP3F+tz+UPmL/oL+Qv3V/V76xwBc/boA6/iDAAoCL/yZ/xb/hQI2/h4CfQCeASUADAKi/50ELgMrANsFpgL8BxoA7QVZAkIIJwICA7MCygXfBO3/HgV+AdEGyv2FBf3+NgT8AOL/bgHjAdgCn/47A+4BUwCaAeYCbAEu/0cBrAQgAv0BPAFbBDQCJQMYACEBEQL7ASQBAwLXAFYBzAB6AsQBhv+/AcwAJgHG+1wDmwBqAXP+sgHIAb0BwQNY/awExAG8AjQAVf8/B1ACHgAP/cwFIAdH/ij9DAKZBYkBUPerA+YC3PsS/Q75MwaG/YT9o/mpAX39m/wq9uP7tf5O/Db5LPi0/zD9DPzh9LH8Y/un/cHzw/qI/fz6n/dq9gMBi/k5+Oz5of6E/Uf5D/gt/Az+eftL+/n+7/8zAan6OQFPANf/SP9VADEEJgGgAHwCGwQlBa0DtAGrBecBrQVjAR4FbgPHBdEDPgGbBU4EOgKNASoB8gQcAuoCPv6GA9wECAA5AQMBiwabAMkCDQDIBt0AMQTJABIEhwSBA8wDsQK7BpMBegXJAAgHCAJfBhH/EQXoAtgEgwJaAZkFgwAPA9D/HQT1/qICC/8qBp/+zQJ9/9IC6gR9/X0AqQBMAuL/eP91/u8D9/5fASL5vQGiAEr/yPvV++wCEPvu/Fv87PygA9P4Yf1i+nIAMP09+h/72f21/Mz6U/0w+iMAjvo2AFT2NwGd/KX7X/tX+tf/0/Z6/iH6of7o+gH8p/0z9mb+V/n1+cb7QPso+3X7Afz6/Vf6O/0Z+/b9pP9f+6YAs/7EATD/SQFKAo0E/v+3AckC7QPsAvX+GgVdAu0DygFsA1QEMwSXAigBmQBoBCf/Tv7wAdgCLwRlAakASQSTAxUAhQLi/TEETwEkAj4BQQSPAwcDhgE2ABcHawClAyz9ZwXkACICLwIR/6wJxfyRBuv7IwjU/toB5QFKACgJ1PznCMT7aQyx/DwGuP18B1QB4f7HAqgCVwUf/XIDI/+PBpP6HAC7/b0DHvzA/HT9pwHm/9T5mgG1+2n/a/qZ/EH6B/tN/bT6Uv4I/4f5o/vE+7EAevk5+nX7V/49/7H3pf0e+jYFovPW/MT5VgRQ+Rb6f/o7/0T/Afd//2r5PwdT8vb/FPsGAtT8hPt0/439nAM4/Kb89AO5Adv/tv8C/84IdP86Anr+VQd9BaYAOf/8AwcGvgJb/ncEaQXZA9QAzv9sBFkCogJj+94GaQA5Biz7owRoBvoAswKz/P0LBwHcBn/85gVWCUj/agRd/vIL9QBbAkID7gLRCY3+jAOwATkFGQIi/OoF7f+aCJ38sAGPAxwDmwWU+UwHJv6+B3v9pwEaAN4B7QWf+7sDnv2jBvT7PgEaAJ8CG/6c+zL8wAJz/in8g/w3/XkDX/nJAPL2DAIh/Yr4yQDP+e4Cc/vy+wsBvf28/rT4Evt3/lT7Of2f/DIATP9S+yT+TPp9/0b40vzQ/Fj9If+E+Fz/TvkZ/pb+U/r3/F37Yf1H+ev/WvrU/qP+Z/9P/X//qQO+/NwB0ftyBV/+hgO8/7EC5QZ/AO4E/QERBUwA/gBCA1QE8QIeApcDlwPsApYBhwJoAhECigC6AA8DbQL8AMACTwP1AlkCgAFqAbUCcv+PA3kBxgPmAtQCbQVoBJ4DigDVA+YCLgVzAr4EPQXHBdgEFAPUBJUF2QMrAqQCNwOvBcUA+QLvAJkCsAEDAicAkv5YART9MACJ/GcAzvg//2r7SP9f+yD+Nvzl9un73vjP+5T0A/vy+Gb8z/Zq+5T5FflX9xT2R/sB/Hj3Tfh3+aX7c/fa+xL9evnD/cX1vwAy+u/9w/eM/Of9B/sA/974NwGo+R3+uvzyAYz82f1W+w0Aw/8t/lz/JQBmAnz8eAKx/PUCxvslAxP/LgWk//z/hAN//4MFw/qFBKQAFQUw/7sDdwSRA8IEIP6wBPQBPAT0AXcETwYAA9YElgTHBYUFtgOlBqYF7gcXB2sFywcvB8YIQQc1CGEIvQgCCnYHcAiNBoIJuAjzB+UG7QU+CdkFnAZdAt0FLgV+AmgBiwGUBCcADQDq/skABv+O/Br9Fv1E/1b7Jvta/T79MPoA+BT9n/xI+rT6LfmN/lb4GftL+A77bP1698D8Z/i8/Of02Pua9gD78PnH+XH8v/Vv/ljzLvqf9MX6vft+9qb8+/ZE/ZL5ZPke+oj6Jf1k92X6Xfsz/WX66PpI/K38MvwZ+476AP+o/vL7hf5N/ZEDK/7s/qr+1AKuATIAiADbACAFIALhAm0AIgRWA0QBZQF+ARIEsgOMA1ACNQGUBGgE9gFNAzYEXgUrBQwENgXNBr8I9wf1ByAKiQuPC7kJ8As/DI8NEQzQCgEMew1mDg8MMQuKCsEKpQifB2MGVgbzBTMEIQPEAdgC5wEc/2z7n/vH/Cf8tfnD+Cb71fra+S/5svjN+Rb6KPmg+mT8f/8E/Wn9e/0SAWQC7wAeAMMAXwTKAxwFhgNQBJoDEwJ+Ae4BUAIeAlf/+v93/q7+sP3/+wX7dPq8/gP72fq698/7EPuC+fT2v/Yv+3f2vvdS9jz+Bvr+9fX0sff3+Un0Hfba9C/8BfmU9rL2Q/en+MbzVfX393f7YPq29fv5Tf2y+/73sPY6/GD8jf38/Ar8+/5j/Zj97/3Z/6AA8f/mAAsBNwFPAQMCtAFyA44CtgMCA7ADvwNTAn8FsQXRBskEAwbMCHgK5gq3CWIKuArzDHcNxA5rD8UP5g+BD8QQ1w9MDw8N+wveC64LgAtSCYYImgYsBsoDAwLQ/+/9MP0R/KT86fsL++75R/lb+fr4M/ix9zr3vvcl+OX5G/vX+hr6uvog/Ob81vzA/O39gv6W/lH/VwDxAK0AlQDDAPMAhgFNATcBSwHfApAENAWQBCMDUATvBc8GMwYVBU0Gzwa+B60HAgjSB3UG/QSGA7gDyQJjAeYApgBkANf/IP6J+9/5BPqz+fX3z/ac9hj4a/fR9u72mPbp9oX16PV09YX1rfW28931QffG+DP5BPjO9zv47vd79gT4JPeP+In2l/e898b4cvjX9bP3tPYr+fH31fg1+Jv5Kvsm+6f7G/tR/dH9UQBy/9L/+v9+AToCkAKnAwwEoQRJBDYEgAQuBUADuAO0BfgKNg7PDm4N1QswDYsO1RBoEPQQtRGbE7AVyRbLFtQTphFKD+cO/w3FDHkLlgkDCcgISwjiBa0CvP8K/rz80vrU+Z74dPiY+Bz6gPs6+zn6Wviw+JH4ofnC+Tv6aPuo/Pf+EQCrAIEASgAKAPz/zgAwAD0ABACQACACyQLHApMBXABl/5L+4P1G/cf8+fxC/Tj+hv9KAIb/Ef94/60A6ABPAbUCVgTdBYsG+QcFCcQJBwkfCA0IHQjSB2wGfwV1BJsEEgMqAR7/kf1e/Fr6oPib9/n2nvUi9A70SfSl853yrvEn8kLzcPMy82zzS/O088zzrvTP9J30fvRR9Rn2MfY19rj1T/VH9KfzJPTf9D70VvRI9aL3W/k1+Kz2c/bH9wX5zPgO+Uv77/02AKQAvwBqAa4BMQFEAagCEgTsBEUEuAOWBPMFBQkUDZQQ6xBpDdwL/w1sEn8UgBMxEwkVhRilGsQaqhinFb8SjRB2D98Odw0HC+0IVggiCYwHKwS0/0X8lfoS+ez35/ZP9pv1qvYz+Jb5oPgO97v2ZPfU93L4ZvnD+gz85/0uAB4C0AKGAeQAEgEtAq0CKwLTARkC2wKiA6IDtQJ3Afj/7P74/Sz9pPyN+9X6JPst/H/83vtA+3v6uvqf+2D8Gv3G/Wf/2AEVBbUHUAnnCQ8KTwt8DFAOtg0wDYEMVwxBDLILRAqlBvkEywK7AbH/ff1Q+7754vgq+L73VPam9FHzTPIg8kzyDvIy8rXybPR99Qf2f/Uy9Tv1UfXs9OH09/So9Dv1A/Zs9oP1FfTq8lnyIPI38dTwgvHj8YPyxfLe8+fzM/Sz9B71MfZk94X5Cfvz/JD++gAhA3UEswRUBOUEigWBBRoFwQVbBxALbBCuFT4X9hQwEvoSTBbWGCAYTBa+FrYZJh2WHbgb5xhmFuoTQREWD+MMUwpZB2UFdgWOBSQEPwC/+9f4kvce9/j17/OC85D0o/ZA+LT4LPhb95T3mPhT+hT7xvuX/Kf9q/+wAfcCIQNDAo8B5wG+AskC2AHmAGIA3QC/AfwAiv+w/ZT8rPth+7D7PvuD+gz57fjf+R76tfk++Sj5h/lV+tH7QP37/uT/ygE5Bf4HjQmCCb8KUAy7DYIO4Q5MD1MPLg+FDm4N2Av0CBQG5gMtAp4AgP4k/Cn6+PhA+NH2ivUD9BTzvPJZ8jryW/Jt8pfyovOF9Jn1wfWk9Qv25vVr9Sv1+fR39Db0UPS19M30GfTf8r/xPvFP8afxofEf8T7xNPIb9IH1ivWF9Rv2r/ed+Sb7YvwH/Tb+rwDFAqgEGgXNBGEE8ATzBVYG/AUlBWkFBAhRDasSxxQIE5QQVxHVFHQXCRdCFccUjhZCGTQb/RqJGGgVuxIyESEQOg6pCqcGVAR0A2cDfAJGAOT8Avpu+DP4gffM9Wfz8fKQ9In2Pfjn+J35tfm4+i385P1B/rT9Xv1k/isACAIHA+MC/AJ8AkQDdAPuAuQAC/9B/mL+0v5o/iT+SP0h/d/84fxm/GP7DfrT+OT4uflP+i76Ifqi+pH7y/yl/en97f2T/av9z/5kALcBcwKRA+4EyAadCYINfRRxGvobERnGFZcWHhh2FksSmw6wDfoNIgz4CBoFvwDu+5r2y/Kb8JHu0uuM6d7pyOzg7uLuMu6X7U3u9+/v8Efx+vBC8aryhfRW9v/2K/ey9qn11PR39JXzmPFs7zjvsfDV8f3x4/E98tTyy/Kd8lHzdPO089j0JPfq+bH8Tv5l/wMB8gGiA1oFNQYdBmAF7QUeBw8InAiACf8LuA/pEnQU5xOSEzAUmhU1F1gXYxeGF34YLBmXGXYZQxhtFs8T8REbEFcOUAwHCQsG+AOfAoYB7f90/ST7TPlL+D336vXy9PHzffPx8wT1N/YM97X3bvhO+Sv66/pA+yj7kfu+/HH+vP+DABQBSwGwAbIBnAGCAZsArf8T/0z/Zf+z/un9nv2P/RT9sfx4/IX8HPyw+/37GvwK/CL8wPwu/Y39F/6N/vL+Mv/H/wcB8AGQAs0CcAMzBHoEOQUtB0kLkhHcFaoVlRL7EIIT5hQIE2wOawriCCkHGAXOA1gBF/6t+pT39PZh9pL0rvHR7obu3+/n8fPyb/Kd8tnzI/XV9XT1nfSd9B30BfS+9Lj1NfYC9dHzZvRl9Wf1YfQT8vXwovDx8JHx0fEG8ivyHfO59PX1yPa89/P3afiH+XX7nv2L/vD+w//eAXUEkwWgBasFXwYIBysHbwfSB90HUAceB3wHMwkHC7wM7w3KDcMNnw5wEJ0RUBHyECIR1hGjEsgSyhKeEt8RtRDiD/kO/w0EDJsJkAebBUME4wKEAaT/pf0I/Bn7Vfr/+PP39Pal9mX2i/ZB98n3QPiC+Cb5D/p9+q/6Cft++6X7afww/bL9wf1y/d79Dv5v/kz+CP70/ZP9Xv2C/cr99P3y/Qr+sf6K/y4AXADXACoBOQGNATICiQKfAtYCQgOuBEAGIgceBxEHpgdeCJcITQjYBwkI7AdFBxEHBgfuBjwGNAWUBEMEkwPYAtgB1wDx/w//Ov5T/br8hfxI/PT7d/v1+nb6rPkb+dH4tvip+ET43ffj96L3h/dB91D3PffE9kn2d/bT9on2vfYG9xz3Nvck91P3jveJ9173Yveo9/z3WvjD+H75Vfqp+g77mvvu+yv8y/xn/VT+J/8YANAASwFuAXkBPwKSAocCyQLuAjUDsAOwA8wDhAM3Ay4DWAOwA4oDZwO9AyAEuwTXBfQGtQeeCGEJMgomC/QLtQz3DAkNrQ0ZDnoOnw4dDpoN7AxVDLcLvApoCYEH6gWqBIYDcwIZAev/ZP4L/SL80/sz+1P6zfnc+cn5WfnZ+Lv4u/hT+An4H/hI+Eb4ffje+BX5JPmj+YP6JvtA+5j7Q/wN/Xn9+v3J/lX/8/+XAEAB6QFbAuMCRgPOAxsETgQgBbQFRwawBmEG9QXqBdMGegfDB3oHNAflBqwGWgZJBvMFegWpBW0FUQVQBGkDlwJfAZ4Awf+i/1H/zf4+/gz+3P2V/f78K/xu+7b6I/rf+az5QfkF+WH4Xvhy+Hf49fcB91r2uvV99bT1pPVw9Rb1D/Vc9c71S/Zw9nP2jfba9l73LvjO+Ef57vlg+vP69vvq/Ib9KP75/uD/VwCVAN0ATQG9AeAB+wFdAkUCEwKDAvMC8QKQAicCtwFjARABLgF3AR0BuACtACoBdQG7AbIBtwHIARwCfgJTA40E2wXuBq0HWghHCVMKxQodC2wLfgtaCxALHwsHC4EK4wlHCaUIwwewBngFJAQSA9oBvACp/xr/xP4k/u393P2G/Rj9/vzu/JL8YPxZ/EX8Mvz7+/37Q/zF/AL9Hf1C/YL9f/1L/Vz9ff3T/fb9Ev4m/mr+kP4Y/w0AGwHKAeUBKQICA/EDrAQcBSMFfQXoBRIGaAajBrAGgAYkBgsGNwYmBsEFCwWwBIIEDgR9A/UCbQLNAfwAeAApAPH/Zf+z/vb9ef3O/HH8UPwB/LL74PoA+lD52fh3+OP3jPeO92L3L/fa9tX2lvYU9qT12fVj9l/2cPbc9i/3YveO9/P3afj0+Dr5s/mB+ib7i/sG/Hb8KP3Z/eH+pv/6/1MAdgD1AEcBsAEVAkwCFwJTAp8CwAKqAnoCJAL9AdoB9gE9AhwCMgJ+AhYDjwPrAxkEfgQ0BeIFWgblBuMHmgjiCF0JvgkcCg8K8AkPCuoJagmpCE0ImQewBjUGcgVJBE0DrwIiAjkBWgCT/83+Gf5s/eT8jvxM/BP8+/v9++v76/un+zH7Hfs1+5b7Cvw2/EP8h/y+/Oz8Uf2g/Zj9nP2w/df9JP5z/uH+HP9R/2n/iv/6/zYATwCKAAkB8AHQAkgDFAPmAlwDZAReBdcFwwW/BcUF+gWEBv8GqQb6BWcF7gT1BBoF2gTtA+wCjgJiAkwCLQLwATcBPwBP/8n+d/4B/qP9+fxi/Cf8+/tY+3v6d/mV+An4gfdv9233CPeP9kD2UvaE9pj2ZfZa9pb23vYZ9yn3FfcI92n33fda+LT4FfnR+an6ZfsK/NL8Rv2C/RL+qP4A//v+AP9i/3//q/+2/wQAVQCgAAsBRwFYASYBsQBaAGcArwAhAZEBngFfATcB/gASAYsBCgIRAjgCogIJA84DiwSeBZwGjAd0CPQIMQm7CTQKeArDCugKwwpBCg0KzwlOCaAIqgeuBoEFgASrA6gCsAGgALH/HP+b/hf+j/1w/R/9vvx6/LP87Py8/M78M/15/XT9U/0N/dn8y/xa/cP9/f32/RD+Xf6+/j//T/8e/53+Av9rAFMCewPBA9kDWQR/BZQGHgfwBrQG1wVVBXYF0gUsBu8FwQVnBWIFVQWjBH8DMgJsAT4BWgEdAcEAOwBw/83+mP5z/gr+bv2q/MT7aPtU+/X6m/pT+t/5m/lZ+fb4e/gP+J/3ZPdX9633SPhw+DX4tffH90D4wfjI+AP5Evkk+SD5UPlx+YD5qPk7+q363fpS+7X7L/yU/B/9hP2c/aP9rf22/eT9R/6Q/vL+I/9n/8X/3f/k/7z/+P92AK0A/gBzAS8C3wKaA0EENAUdBv8GIwg2CT8KOgtiDGcNSQ79DlMPjg92DxEPQQ4sDQQMxQq7CYQI0wZgBdcDRQIWAfH/b/5c/Tr8Jvt0+uf5lvmJ+eX5+fk9+qD6/vpU+9j7h/wf/bL9+v1H/pb+vP4n/8H/CgBEADkAMgANABEAAAC2/1H/8P7f/p3+nf7c/uf+6v4N/0H/BACnAZED9QRXBbwFfgY/BxQIdAj4CFQJyQn1CfkJGArfCR0JxwcfBq4EqwOMAhkBl/91/hn+iv3u/Hj86fuJ+zH7xfqZ+q36MvqH+bH5C/qG+uD6uvpB+l35svgf+PX3xfdi9w73lPZz9tH2JPfp9rf2F/eX99j3+fcJ+Ob30PeD94f3N/gk+Zv54fky+rr6WPu5+/D7yPvP+/n7NPyO/Kj8kvyO/Kb8M/3e/S3+F/7v/RX+n/5P/9n/NAAsAXMC1QPbBS4Ivwq+DPYN7A4hEAcSoxN9FIYUKRTnE8cTvBMxE98RMRBbDiIMKQpcCNsF8QL6/9n9Cvyi+qz5Wvg694D2bvbE9hf3Fffn9m33Yfhv+cr6Vfx7/VD+Xv+2ANUBcwLmAjADCwOkAmYC/wFCAb8A/P9E/9j+R/5I/W/8BPx3++T6ovqT+u/6RfuN+/T7TPzk/EH+QQBXAp0E+wZdCRkL8Au8DNUNPQ9CEGgQyg+YDq0NmQwsC3EJswekBVMD1ADc/jX9RfsZ+TT3c/YZ9ur1G/Za9tz2mfec+ID5FvqV+vX6WPve+xf8V/wv/ID7Z/pb+Rv5tPi+94L2xfU59ar0gvRq9I3zcfIX8rryefNk9Jb0TvRq9Bz1JPZX9/P3Cfhy+In5APsB/Oz8q/1Q/vL+iv+gAJoBKAEGAHj/rf8wAAIAP/8k/sj95/55AfUEKwnQDAgP+g8aEbMTERbLFnYWyBVfFacVKRYIFu8UuxI3EJgN5gqGCLQFDAIt/jX7TvlN+Kb33va/9YH1nPbq9zb5GvrK+pz7Av25/t8ArwLOA8QEtAWWBlcHvgdIB6kFAQSMAgABiv+c/b/7RPoS+WH4B/iO96f2EPbx9V/2HPe696D4ifkq+zn9E//OACICDQNLBFEFfgY7CH4JBApiCvwKYAwFDhAOWwyQCt8JkgmKCPQG8AT3AosBdgDZ/4j/fv7o/Jr7Xfsa/O78M/31/Cj99P3n/nD/lf/v/zIABgDF/yH/Cv5e/Eb6p/i19/D2uPVo9D3zb/IO8qfxTfEb8fXwGfGP8UXytfJ/81L0YPW09tT3qfgr+Yn5jfme+In3Yvd7+P35Yvp7+sr63vsu/fr9Sf6//ar89vve+9383v2N/lT+2f13/lMAlAIVBQ4JuA/gFRgZohkZGg0cOR63H1gf/xyNGgYZ+hevFicUxhA0DLAGawJe/5384PgW9bHyz/GH8u3z0fSi9fv2i/md/Bz/KgHdAnUERAZsCLQKGQxXDNUL4ArACUgIAwbSAh7/ifv4+Ab32vTm8pTx1PBp8KLwgvF88m7zo/Sn9jH5mPut/aL/twE6BMQG7QjaCZgJWQn6CHQIfgcQBoIEZwNZAmwB3wALAekBiQI/Ao8BCQGJAd0C/AN6BJYEzwTDBbkGfAcNCOEH1QZ9BaoEhQSPA+4BgQBV/8n+Xf7c/Qn9t/vS+nL6sfmg+Aj3oPVk9FrzdPP/8yv0k/OM8mvyYfNZ9Nj0HPVn9cH1EPYD9gD2HfZ59g73Wfce93X2JPYp9VHz9PGu8bjyovPG9Hf2DfjY9y74fPkA+538Mf6o/mb+r/+eAaAD3gPiAywD8wLMAxIGAgq8EcAYjxzkG5gaHBuzG+EbXhusGF8VDBPVEqMSJBDIDXIKwwVwASD+nPsW+H70sPNk9AP27vfc+Y/7Uf0PAG4DcgXvBZMFxQVYBowHLQnnCQcJ0AeyBpcFqwPiAPX8+PiV9a3z6PLr8U3xqfGi8jr0DvYE+HH5YPqN+0j9P/8dAUoCbgN3BCoG8we4CBIIxgZRBcED0QG//x/9Zfpw+AD4Rfl3+1z9VP5c/xcCZQUIBzQHDgfqB+UJUAxfDuEOTA6gDagMTQs4CWEGqgLE/u77iPqS+Yj4nfff94T4nfmi+gX7tvpn+hv7tfu9+7L72PuR+7X7//sG/AD7F/k49zz2g/Xy9Fv05/N/83TzwfMB9Gz09fQR9bn0SfRU9F/0afN28s/xofGS8gz0m/Up96f4C/sj/Vf+Ef9X/2L/8v6q/jf/uv/FAFYBqQEXAm8CCQO+AicC3gOjCYgSNxrTHBgcihvvHA4fKSB1H4wbFBcQFd0UcRP8D7IL2Ab2ATr+2vtH+YH1gfJQ8iT0rPbp+CT7T/0YAAwEaAe0CGkIIQjKCGkKAQw6DIUKCQj1BZgE7ALx//b7mffk88bxNfGk8LPvVO8a8A7yrvQn90f5q/rV+wX+MAAnAtED+QSBBbYFUgaeBrgFDgRzAskAx/6k/Hb6UfjK9mX2KvjI+/f+BQFsAxcHlQq/C7cL8AsvDGcNxw4RD2oOEg2sC8sJVwcjBRMCV/68+kb4bfcG99j2Nvfh92L5KPt8/B396vz1/Eb9bv0S/ZD86fvi+iH6jfnp+JT3uPWm9GPzGfLt8P3vEfA98NTwCvKD8gvzivN986LzJfNY89nzv/Ou9Gn14vXP9p33c/m/+pj7Nf3Z/Tf/dgCt/7z+1/0x/h7/v/9sASsC9gGSArUC8QJvAvgBQAOFBTULFxMNGfQa2RmcGaMakBujHJUb3hc/FLYSuBK5EC4Nzwn+BfIBxP4T/Of4jPXi82r02fXL91P6U/xb/pEBVwX1B0IInQfzB8wIkglECvsJDQjFBbcE+gMVAtb+6/or9/rzDvJq8bzw3+8l8JrxqfO/9f734fmv+n77T/09/28AcwFOAgcDqwNUBJ0EAQTYAoAB5P/i/b/7MvpO+Xv6of5VAhkEdwYVCZAKjgqrCpwLQgtiCtYJRwkmCfoIGghlBjoErwIQAar+Yvx0+lf5ffin+PX5KvsT/HD9n/6D/+T/6/9c//r9hfxz+4b6WflW+GL3T/Zp9f30X/SC82vyu/F78dXxs/Lk85309/To9eP2qPfL9373ofYP9Xnz5vLK8zn1PvbI9hn3dPhJ+0X+FQB/AFwArf9n/wQAAwEeArMCxgMrBcEFwwXhBCYEuAPzAgcDLwRoB3IN/ROUGGsZ/RgcG/UdVh/UHaMa7RfKFSkUeRLMD0gMiAg0BQoCvP6U+8P4HfZ+9In0uvVQ90X55/sC/yACBgWFB9cI1AntCo8LlAt0CsgIRQcUBqgEqAIgAP78jfnC9pb0r/LF8ArvCe5T7uXvK/Jo9Fb2hPi/+l796//EAbMCOQO4A3UEHAVlBTkFhwSyA6gCUgHS//T9HPzm+tD6bfxX/hMABAOXB00L9AuwCy0MKA2cDbgMRwtMCY4HFgZUBCUD2gGg//f8zvoY+kn5EvhO92n3gviU+bH6YvyG/TP+Av+I/9r+QP23+3D6Tvn395T2JfWe88Xyn/Jz8ufxM/E+8bnx6fEy8lDyuvLG86r0VfV49XT1jPVa9Vf10PXk9Zv1hfVf9pP46/qu++77gfz5/Az+5/6O/4r//f4P/7H/3wD9AesByAE6AlgDXwSzBB0GtgheDS8TLBdzGDwYIRnWG9Ydox1FG/0X2hV4FO8SrhB7DZ8J7wXxAoEAM/5q+6n4+fZ+9gH3Cfhs+d36fPwL/z0C6gTIBssHrQhhCagJxAkKCZ0H5AV1BOoCwQDT/bz6zveT9bTzPfLO8EXvzu4+75vwb/IH9MP1jveU+eP7Dv4gANgBBwM4BIMFUgaPBvwFTAWFBH0DPQKKAAj/4v15/X7+q/+bAEUCDQXGCGMLVwzhDEQNvQ2tDXwM/gr2COcGYAXGAyACcgA4/gr8ivp7+kr6gPlM+bz5sfqG+yn8Tf3T/eL9Rf7w/if/b/7x/I/7V/oM+bH3rfXT82by1fF+8SjxCfEQ8WPxwvFX8irz3vMg9D70ufRX9e31XfZa9jH2hvZk91743vgr+X75jfmG+gb82fzm/A397f2u/i7/iP/D/xoA3QBWAYAB6wGoAjMEMQZMCcQO4BRoGEoZfRklG44dDh/BHjscdBl9F40VsRMGEXAN2Al3BrsDgAEG/0X8Hvrn+Dv41veo9+H3kfgT+jT8TP6bAOoCwATaBjMJ+AqNC8UKYQkACP0GawXxAjsAzv3j+4r6Sfmk97z1A/TU8ify0/Hc8RXyb/Js83/1Ifga+gz84P3i/5gBMAO1BNsFlgajBnkGZQamBZ8EngODAnMB+P/A/vT9a/+xAhMF2AbWB1oIKwkPCmMLmgvfCQIIGQYyBewEBwTbAuYAWv+H/sj9LP0T/Iv7IftI+qn6Evv++sz6mfph+xf8SPw9/OD7j/sH+0j6c/nL9zz2BPUg9Hnz1PJg8rvxUvEK8lbz6fPt8yT0t/Qn9V71afXj9H70wvT59BH1RvWX9YH1mfVj9pT34vga+pH7+fzp/Z/+Rv/K//b/NgDOAF0B4AEtAowCAgM3A4QDaATzBQ4JXg0BEdcSixMZFaAX7xl0G4UbgBo/GVsYnBd2Fj8UNhE4DhsLUQjDBQ0DNACC/Uf7aPnU99r2X/b19fj1u/aJ94L4kPm6+tn8Av/zAGACNQPrA+UEEAZhBtkFAAWrA+sBSgAC/2H9e/vN+UT4Q/ds9tf1BvVJ9AP0PPTR9Gv1Cfbc9vX3RfnV+hr9NP96AP0BxgMVBe8FzQYZBzQHeAeXCFcK5ws7DaINqw2eDZ4N/w1eDZQLtQm+B+gFmwT+AiYBC/9l/X/8svsx+/76lfow+mX6Nfv2+2n86Pyt/Uz+s/45/6b/l/8//8/+Rf57/Wn8bPva+SX4gPYc9fTztfL78f/xDvL08STySPKU8vnyw/Om9Db18/Vh9tj2l/c7+JX45/hH+ef5JfpB+tD6hPsX/Bj9d/6O/+L/IwBrADYA/v9GAKYAmQCIAK8AIQGGAQgCwgKaA8sExgZ1CdgLTw11DmwQBROJFTAXNhjPGBEZLBkEGVQY1hYOFR0TFREYD58M8AlKB2wExAEP/6L8gfqn+Hr3Zfax9Wv1ePW89SH2IPcf+Cb5YPp++/X8kP4IAEIBWQI5A5wDnANwAz0DrwLCAbgA0P/l/ij+hP1v/Cj77PlM+fj4efgH+J33gfei9/73lfhz+WD6L/sI/Gn9af8rAqoEJgY0B7gIzAprDJwNhw7hDs8OYg57DU4M+ApFCVAHPQUYA98An/50/MX6mPmn+Nv3n/e89zP4wfhU+e75Vfob+3/8Iv40/9f/PwApANv/l//w/sP9Zvwx+835Nfjc9pX1bPRe89by1vL58gLz8fIA803z4vOh9Jn1EPaC9in3w/eI+Pj4JPlo+d/5k/ok++f7sfwj/Xf9Af6F/hH/e//v/4gAvADSANkAEAFoAXUBtwFDAqICBwOBAxsEswQlBfwFcwf6CEwKVAvJDHUOFBB0EX0SfBOTFIAVwBXkFFATtREfEI0OmwxpCvkHsQWXA78BPQCQ/t38d/sr+uv4B/h49yD3hvZP9on25fad90v4Jvka+ub6jftO/An9lf04/t/+E//y/iP/Gv/Y/k7+3P1y/Qf9W/y3+2z7JPsA+wv7SfuL+977Svyk/Cz9Ev5G/28AlgGdArsDEQVJBmYHeQgBCYsJ8AkaCj0K7gkiCTUIYgepBqIFdQSnA9sCzwHQAOL/Of+J/uv9d/0w/WX9XP1P/Vb9Z/2r/f/9VP6U/qP+kv5S/vj9cv3U/AT8FPtg+vv5i/nV+Df4w/dz9yL3Cvck9xn39Paw9rf2EfdO97r3Gvhl+J74xvgb+Rv5AflO+Xr5x/k9+qD6EPtq++v7qPxe/eD9Zv5E/w0AbwCrABQB3gGJAjkD4AM2BFAEiwTUBBoFRgViBZUFogUzBgEHugdpCAcJuQm2CsILvAyTDTMO5w6BD8MPEBAvELgP3w6TDUMM5AqCCSMIowYVBXIDEwL6AOT/+f48/pX9l/yP+wD7ovp9+jD6C/oG+tb5+flw+tD62/rx+h37SfuE++77Ovw6/CT8DPxX/Hz8l/xr/Gv8fPxg/Db8Tvyq/ND8T/2E/af9xv1Z/nD/1AD/AcICoANfBOwEXAXiBXcG3gb2BgYH9Aa7BmUGHwa6BTYFiwT0A8YDlwMNA2YC2gF1AQsBxQByALz/8v5H/vr9Ff4O/sr9Y/3h/IX8Q/wK/Mb7WPvi+nT6Efq3+V/5Evm2+Fz4QvhE+G74Yfgq+B/4U/hc+HL4nPi4+Kf4q/jv+Ar5//iw+L/4+Pj6+AH5OPmQ+Q36qfps+yT8s/yC/ZL+V//x/4gA7wAUAV8BqQHuAfIBIgKbAuECCQMWA2kDiAN9A24DPQNRA8gDIAR1BMsE8gRXBUkGjgeeCK4JPwrBCjULiwveCysMUwz9C24L5AoLCi8JaQheBxYGqASEA5ICmAGbAOj/Mv+A/h3+//3V/V79Jf0+/Rj9w/xZ/A/84Puy+7L73vu9+8b79vsg/Db8Ffz2+/b78PsM/Dr8fPzO/OH8Df1n/Xf9O/0+/Zj9av47//z/3wC/AZQCWgMmBAYFqQUFBl8GvQbIBrAGmAaABk8G/gWvBSMFtQSQBGgECgR9AxoDpgL/AW4BlQDz/1z/kP4d/hv+Iv7g/ev96/2j/U/9BP3D/Hb8AfyU+z77sfo7+u75yfl6+f/4wfi0+Hv4Evjh9633Fff79h73kvcH+ED4e/hl+Fj4NfhY+LT4OPnL+Vr64PqE+2v8Rv3//Un+gv73/q3/VQC8AOIAFgE1AXsB2AFoAsICnwJoAnECgwJgApQCrwL+AiUDRgPOA1kEoQTCBLAEwgRKBQcG+waqB2cIFQnhCb8KPgtuC18LUgsQC/oKfQqUCb0I8wf7BgsGGgVQBJEDvAL7ATUBgwDO/y7/n/5Q/hX+6/24/aX9hv0C/Y78W/wT/Of7n/th+1/7kfuw+837o/uN+5b79Pt6/OH8Ev0a/eH8xfxl/Qj+nf4R/4z/XgBCAR4CxQISA2ED1QN1BDQFzAXMBdUF1wXmBTEGGwakBd8EKwQDBNcDiAPoAmYC8AGJAeQABgA5/1/+Ff6w/SX9gfwp/D/8hfyd/G/8Lfzw+6X7gPvP+677e/tS+x37Bfu2+p76cvpG+if6V/qb+qv6q/qt+oz6PfpG+iv6BPoe+n36uPqO+rb67fo8+4/75/uF/N/8Uf2a/dn9Tv5f/pj+0v4L/zL/2/8wACMAMAARABwAkADiABYB+gDdAB8BiwHuAU4CgwJ4An4CgwLNAhIDiAMvBPIEvAVhBucGtQeGCDwJFgqiCuIKtAp2CjYKnwkbCYYI+QccBywGPwV1BLYD2AIXAkIBZAC0/23/GP9x/gz+k/0Y/aT8P/zu+7L7MfvS+ob6cvq2+kv79vtF/Fv8afzz/Jz9M/4W/w8A5AB5AfsBUwJQAmQCZgIvAhwCyAFNAdsAawAIANn/KwBpAHIAYgATADQAUwCBALEAqwCFABoAnP9t/1P/+f6d/qP+i/5x/iv+u/1N/bX8V/zj+0n71/qg+qn6m/rK+h37Uvt++8/7BPxQ/HT8ovzU/Ob8Cf0l/Vz9o/29/Z79mP2a/f/9PP6N/tb++/5I/7z/0v/Z/7b/l/9n/8f+ZP4x/hn+v/2Y/ZX9iP19/XT9bP2E/dn9/f0t/oL++/5p/6L/yv8EAG0ACQHIASICTgIvAkECuAJPA0sETwU1BvAG8wfpCMQJtAp1CwoMYgy6DAIN3Qx8DLALvAqfCXsIYgfIBgsG6gSrA6QCAQJ7AdcAPQBi/67+IP7V/Zz9Uf2J/M37e/vi+k/68PnH+cn5+/k/+ob62/r6+nf7YvxI/S/+J/9VACQBygFmAu4COQOcAxsEMwQMBOIDfwNEA5ICpwFYAfoA5ABGANv/N/+j/mL+M/7y/X396Py1/LP88/wA/bz8g/z/+8L72vu5+5j7rPto+z77+vrk+tD62fqt+pP68foW+wP7zPqI+qb67/rm+kL7u/vK+4T76fsp/C38K/wX/Fv8sfzo/DD9cP1p/Ub9nP2F/oz/EQAcADQARgBcANcAAAG8AHIAKQD+/4r/N//5/gj/MP9a//P/fwDtAEABcwHGATgC6ALiA/AEngU5BikHOQhbCV4KYwtVDOwMOw1sDZgNmA07DZ8MvQu6CkkJkgfHBWQE0AIxAeL/V/5E/aL8pPzO/Pn8B/0S/Vb93v2+/iP/J//3/rz+NP+M/4z/gf9r/2X/dv9w/0H/4/51/iL+/f3B/Yr9dP1C/fP8sfwA/bb9V/7j/pn/bQCJAZ0C/AMpBdAFRwaWBgYHMgdoBkEF+AOtAmMBMABr/4v+5P2r/XD9Vv05/f78y/xk/BH8yvtN+5v6BPrL+XH57/it+L/4A/ki+UX5X/kv+Tz5Q/l6+Yf5Q/lX+ar57vkr+iv6NPpT+oH66Po6+x/70vpt+kr6YvqM+gP7FPvz+tL6B/vn+2L82fxy/f/9of7u/mf/EQCpAOIAHwEfAfoA2wDMAPEAFAEAAQ4BqQFzAiMDAwRVBawGBwiACQcLBgzSDOANOw8xEIsQOhHAEegRkhHYEKAPzA1+DLALPwpcCJgGowTfAt8AO//g/eb8rPuk+iP6y/ls+Vn5wPky+pP6Vvs4/Or8qf1b/kr/GgC8ADEBoQHCAfQBHgIiAvgBkQHbACUAT/9b/oT9vPw//OP7mPtS+xT7k/pP+oj6wvvp/fb/7QB1ARgDXAVoB5cIegkECi4KfQqXCkgKIgl4B6sF1wPwARoAi/7z/BD7z/ki+Yj4I/iv91738vYI96r3APhP+K344vi9+I/4p/gH+Uf5Evn2+NX4efj89/73O/hL+BT42PeB9xf3ufZ39ov2wvbc9kP3VfcE9/n2Kfd299D3ZfgX+cv5YPpf+/v7b/wl/VD+P//V/2kA0gCLASIClAKmAs0CqgJ4AkwC+wHwAaQCMQQmBpwIvAqODMsOPxFqE8EUgBUrFpsWphYMFsUUMRMnEcIObwzhCTYHdQT7AREAMf7J/M/7xfoN+qr5nfmf+bX51vk7+o76BfvV+2T8H/1O/sf/LgGXAvwDIAXzBesGnwfYB6QH1Qb8Be4E4ANxAtAAC/8u/dP7xfqz+dP4Gvi+98D36vdA+L34ufmT+qf7g/xI/VD+1f9+ATUDKwVTB6oJiwtADdoO/g+cEN4QbhBGD2wNsQqiB10E7QCG/Rj6LfdS9BXyovC+77XvQfAf8YfyJPTQ9Ur3p/jl+e/6v/tm/Df9cv1j/UL98/xx/LX7EPtc+rn52fg3+Oj3Pfcs9kz1qvRf9MrzAvMe8lbx7fCi8LbwBfHE8VPzHPUi90n5JPs+/Rj/qQAvApcD6gRHBicHwwcSCB0IRAi4B7sG0gWiBf8GSQlPC5kMBQ5zEL4TeBY6GN8Y7BiHGLIXeha/FCwSTA+8DD8KgwfUBKoCvwCu/uj82PuC+2r7d/u/+yT8ovzh/Lr8m/zh/Dn9XP2e/Uf+V/+ZAKwB0gLpAwIFGQYOB5sHUwecBgMG9QSKA9MB1//c/dP7I/rR+Nb35fYk9s71APaG9kz3kfiu+VH6/Prp+6b8S/2e/dn9Rf79/oMAcwKmBPQGBQk6CyoN3w4ZELcQexCDDy0OAQwkCZsF2gFX/sz6uPf59J3y5PA58G3wL/H58U3zs/Qx9sf3fPnb+rf7MvyZ/JD8J/z7+6z7Pvvv+lH6z/lS+Rv5K/nM+Dv4pvfG9rH14fQx9GnzJPIo8ZvwRvBa8IzwuvAH8f3x1fPt9Qn41PlA+4X8qf3A/rr/hQA8ASQCUQMFBMYEawXfBQkGzAUhBkgHOAnjC50ONxBeEZ0TmRbuGMoZCRrzGWUZQRhIFsATKxF+DhEMWwkHBtACawCq/gf9o/t7+tr5ufms+cv5HvrO+pH7Ovzu/Ib9Q/4W/8f/5gAeAjUDFQSqBHAFOQapBsYGbAaMBa4EzgNkAl4AQ/5p/Pj6sfm/+Lj3tPZu9n722vZg9/H30fio+Zv6d/uM/L391P64/5MAdwEyAhYDUgT8BfcHPQotDF4Neg6TD5EQghBpD60NdwvKCLEFxwJB/5z7dPjb9frz6vKQ8p3yIfP/8631vvfE+Xf7Cf0K/l/+pv7L/lD+H/1M/HD7dvqb+fL4SPh696P2HfYF9lr1avR98/zyg/K78Q7xwfBV8GXwv/DB8KLwtPBu8ajyUPTv9Yn3i/k++9b8K/5n/2kASwFbAg0DaQPtA5QEuQR1BC0ELQTLBEMH6AoQDqYPOhF0FCgYGhuPHAUd/xzkHIIcExvVF4cT2Q+iDHoJ+gVTAmn/If3G+9v6XPpG+g36afrX+jX7Gvwa/cr9F/6s/sX/zgC0AbMC0QO5BMMFCgdaCO0IIAkgCVgI2gZpBTEEMgJ4/8v8dvpj+K72YvVm9JfzRvMF9Gn1e/Yy9zv4vPkq+6389P3W/kb//v/zAKcB9gEGAjICAgPyBAgHIgkqC7gM3g2oDjkPIQ8MDs8LTgnyBlQEKAHD/ZD6w/eb9ZL0DvSl8wz0DfWq9or4nvor/Df9IP6z/t/+zf5b/tP98/w6+/X59PjJ94T2a/Xa9A70S/Ph8uPyn/KD8rHycfLj8UvxaPHI8e7xOPKk8tvySPMb9Gv1QPY290T4rPkF+9r7uvw7/fb9ZP4a/87/lwDNAQADaQMlA/UCCwP4A4kGdgoSDgcQuhEqFT8ZvBvgHLEdPx4EHtEcLRtDGEwUXRCODLYImwQFATP+dfsb+a337vY09wf4yvg++cv5tPr/+w39q/2x/h4AkwGkAqcD8gQmBh4HLggMCTwJ/whyCK8HCwYrBMcCBQFb/mj7MfmX9wX2ifSI8xrzCfPr82317vYo+Iv5QvsE/Vn+tv+rADwBoQEgAqYCQgOpA28EcAYtCT4LwAx9DeQNew8+ENUP6w0vCzIIPQWZAtD/gfw2+Xv2yfSl80bzp/O39PP1hfds+Y37nv0I/+L/YgC6AK0AawCX/wH+JPx/+iT5D/jY9hv2ZfXw9H70TvQk9JfzAPOm8pvyaPI48vbxrvGY8fTxqPJW8/rz3/T19Rz31PeK+Hf5tPoa/Bj9gv0B/tL+v/9/ABIBtwGSAoEDgQOiAtQCIAVUCRIOVREKEy8VShl1HZ8fgB+XHsQdFR0JHGsZYxU2Ec4NmwrYBpkCEf96/IH6KPmN+CP4nvid+YP6Y/tv/Dn9vf2U/l7/pgDlAWUDpgTzBQEH/AcmCdwJuwl+CQcJnQdyBSwDVgFw/6b8Ffld9gv1CvSN8/nywPL18jz0XfY1+Kb5Hft0/CL+/v8+AZgBagFsAbIB7gH7ASACcQJ9A7wFAghbCQ8K4goRDAQNPQ0yDOoJJwdmBNwBHP8P/Az5j/bY9Dr0ifTY9GD1kfa895j5FvuU/K39lP5P/6n/hv+C/kT9Ivz4+tT5A/lE+Iz34/ZY9nj1pvQK9LvznPMP8xHyXfEO8cXwEvHa8Wvyg/Kv8t/yFPNs8z70T/V19on3p/i5+YH6+vrC+6r8Zf1H/mL/bwCAAZ0CbgOBA0ADPgSbB/MM3xFBFKcV2hjCHXkhZCLKIZsg5x+rHh8cGxiPEoYNzwmCBlUCDv4v+0H53/eN9gX2M/b29pH4HvoQ+6X7Av23/vH/8QDYAYgDcwSeBRUHIwgXCZgJ2AlfCacI+QdYBl4DdAAX/qr7uPiZ9X3zOPKw8b/xPfLz8jz0jfZb+cr7kf3u/i4AiwEEAyQEWQTpA6sDuAPtA6cDewOpAzoE8wXdBygJlAkjCqkK4ArbCtYJeAe3BGsCkwB3/vD7h/no91X3UPeQ9+z3d/hb+Zv6xvu1/E39A/7L/vn+tf4i/jn9FfwD+yn6KPkq+LH3Qfe09gP2UfXU9CL0Y/PY8lnyQ/KH8k/zw/P48zz0gPTY9D31EfVB9JHzgvMo9OH0+vXP9jr3PfiH+QX7//vo/A7+Rv/FAG8CKAQ2BWAFjgUfBl4IhwwaEcsTohRQFn4a4B7bIOwgHiBCH1ge0xypGWIUEQ8SC8AHnANT/yv8RPpD+Q75MfkD+Vn5mfok/Dv93P3y/mIAKgEpAnsDYQQeBRQGLQf+B5oIFQkzCeAIfQgfCNgGQwSaAVH/r/wA+nH3C/Vu86/y4/Kn8xX0/fT29mj5Cvz0/XL/gwBSAYMCUwMyA8cCmwJkAngCZAI4Ap4B2gFaA/EFNQgmCeoJaQq4CpcKAgrLBwIFrwKIAF/+2PvH+Uj4F/dq9o32yvYc9633zPjc+cX6iftV/MD8C/0J/UP8PvuB+i767Pk8+X34qvfc9kn2vPX59PzzOfMu81zz8fI68rnxe/HC8UXyU/LG8Q7x2/A88drxlPId86DznfT49ar3Xfla+m77pPzk/Xj/+ACSAmED5APcBDsF3AS1BE0Gpgr8D+MTVBV0FuQZ3R4pIl8isSDrHuod3BzvGXQUqg6QChIIPQVqAbT9rPs6+0v7BfuB+sH6GvzK/V/+av6z/pP/bwBfAVUCFgOgAx0EIAXqBUkGfgbiBagEuALUAMn+//vI+ED22vQX9L/zsPNk9NL1Z/iC+8r9k/+WAe0DsQWcBrsGaAb4BT8FUATUAkEAhf50/fD7uvrA+e/4DfhG+Mz4K/lf+bX5Hvqi+n772/yp/9QEMA3gFXkcMx95H5gfsR2KGfkTNAxLA5n8R/bQ8BPt5+or6grrMu1x777yZfYh+lb9Zv58/iL+0f3L/E/6BPdL85jvFuwV6tvo4Oe65r7ldeWz5XjmpuZT5i7mQueG6QXszu4r8r/1Lfmz/BUAbwJfBHAGTQgxCYkJQwmECOMHxgYNBX0DhAOQB9kNehOkFiYYDBtCHgUhbCGhHwQcnxiDFiMUFhB2DIEKHQklCM0G7wVoBt8HBQm/CCkHBQbXBRYGKwUaAyYBzv9X/6L/7f+r/53+kf3U/HH8MvxF+yj5yvZX9bf00fTW9OH0ffUn9wL65PxM/4ABIgTTBqAIOAk8CT4JoAhMB5AFkQOCAUgAoP/c/uf99fwt/Iv7N/vb+mX6jfn2+Bj6bP0GAqcGxAljC9QMcQ6vD5kPwQ1ICs8GEgT+AOv9Tfsg+ar3+/aq9tH2m/eJ+eP7mP1q/uf+PQBwAdEBCwGD/+/9mfyu+8r63Pnf9871//PA8oTx6u8U7uPsLuy0687rdut86szpyukk6jDr4uuP7CXurfCS8ib0APX+9Xj3b/kH+zr7rPtH+2L8ZP4SAVMCTQMkBIsEOQWUBD4EuQQeCnoRUBhxG1Ec6B1fH+Eg8B9iHUQZQxZ0FEAS0Q70C0ALDgt/Cl0JWgiGCMQJ3QpGCpoIcQdmB+gHhQd+BhEFZQM8AV7/Tv4E/dL6jfjw9gX2U/U89EHy0vCk8NPxffPP9P71P/fY+cv8l/+wAYEDIAUZBkkGugUVBWEErQMcA8ACDAI/ALH+DP5j/b78Cvw6+1r6qPnw+dn65PwoAWMGqgtBDqMOUg7gDdYMdwskCWUFdwF1/tL8gPsz+/X63fqb+l768vkN+hb7CvzH/Gn89fyU/lMAHwFlAdkARP+c/YH8lvu1+f/29PNW8aPvl+4P7qTtAe2e7Aztou017mfuU+4E7qTtGu4S7snt9+1W7i/vjvCX8rH0g/f7+Wn8d/5I/0YAMQGDAioDOgQzBKUDlwMcAywD3ANhCCkPXhdSHWgftR9IIMohMCH2Hsga1hYaFE0STRArDq0NpQ2IDYcM4ApzCfwI3ggiB88E6gLUAsYDcQSbBNcDSwOfAnwCFQIFAaT/Kv2O+m74fPeN9i719PNL8x30BvVz9pL3p/hK+m/8lP4GAFYBjAIZBDIF+gXaBlMHuAeMB9wGuAVUBO4CiQEeAH7+H/3j+0n7yvrM+mT87f+jBBkJTgwwDSsMdwtlCrYIcAatAw4BBP97/VD8//s0/Bf8X/te+hn52/cu+CT5fPn4+NH4+/m7+2z94v17/Wn8uvpk+XL4NPdM9bHyB/GQ8KDwKvF38THxtvDO8J7wy+9B7wHvhu6M7m7uDe6l7vTud+/X8G3yEvRE9cT2jPdw+Gf67/pd+238Mf4lANoBOwNpA/QDzwRfBBoD+AOJBxsOHBZCHPsd7xx4HTQeah2ZG2IZPheLFfcTOxLgEG4QlhDkD9MNiArNBwwHIAfGBg0FKARqBGUFVAauBlQGkARVAkQA5f76/Wn8qfqr+NT3evem93735fah9lb25fZp9xj4u/jU+b37XP2h/icAFQKeA50ERgWiBZMFeAWTBTQFwwPRASkAGv+C/gX+Uf1//Mj7fvun+3f7rPvq/C8CFQkhEBMU1BEsD6YMdQk2B14FzgDG/br8fvvd+sH6+vpr+pD5NvcT9az0QPai+Gn6Vvuy+638nf4CADL/5Pw8+XP0yPEf8crwe+4S7Nrq1uqE7FXtTu1w7D/rsOrD6/LsDe4g8EvxhPHy8WLyTfPs9KP2wPdp+D75YPqM/Cv+Hv8TAH8AqQAMAoYDDAQiBBkEFAPmAoEFxAumE+4a0R/vIDsgrB9WH4Ad9BoeGRsYDxe1FY4UJBPUEYIQmw4JCxMHKwTDAywDswIDAWgBDwPkAxwF0QQqA5MAfP52/JT7Pvss+2X6R/lB+V76ovpG+gj6E/ra+dr5J/p7+iT7SvzG/Rr/LgDgAbAD2ASmBV8GBgciB2sH0geHB2oGOwU2BNgCVgFpAPD+wPzC+9798gG7BoYLNw0VDFcK7QgKB1wF3AO+AlUC6QHGATUBXABI/0f+vvw2+q/3sPbO95L5lfpg+uz5GvoU+7/7wfrB+Lf2I/Vm9AL1CPWe81fy9PH78f3xLPFv77HtFOyp66nrA+ws7DLtEO808Lbw7fCe8N/vE/CX8B3xTvJv9Hv2oPiH+Zv6L/vR+5j+zACsAXYCRAPkA0oF1QVBBU4EoAOzBCYJ9hBJGP0cAh5vHXEdJB1/G14ZOBjMF+kXaRceFmIUZhP0EisRLww1BtYCsQJLA3oCTwHZANgB4ANIBdEEEwI3/xj9L/tX+kT6qvk3+BT4+fmq+2j7ePoe+rX5Xfl1+QT6Ufr++r78df4R/+D/sAGpA9EEQQVBBYsEAwSFBAsF1gTRA34CdQG0AHYAiADi/6b+Nv6H/g3/3P5t/j79Ev3b/w0IXhIMGikePBjHEfQNhgbOAF/+rPuZ+hD75fms+X/4P/dI9zb1ZfB37Eztw/Jz98f5H/uV+sP6Df3r/V76avTL7cvoZOav5gHooeVQ45biNON245DjWeUL58LoMukc657uJPF58672Gvhe92z45vrI/SsALAEqASAA5gA7AxgFTwaeBiEG8QWbBWcFagYtCb8PIxmGIe4kUyPzIG8glx6LGiIYRxjOGaoa0Ro3Gl8YDBb7E3MQ4QkwA4oA5wEZApMAdgBUAUUCcANBBG4Ddv8x+7z5B/lC+ED4MPjB+MP3efh8+Yr4bPbX9RL2uPVz9rT4VvtN/Z7/NgKVA5cDEQUOB4wHewaDBegFGQbKBvUHFggBB1MFXwSRA1UC8QCMAA4BZwOKBcwF9QUOBjEGVAalBpAFMAUlBbkEKAQRBWcDTALvAJn/qPx2+qP5Ivns+Sf68Pl6+UP55/hS+Qr5zvj19wz35/Yr9173YPew9mr28fVc9XX0afM48jHxePDq76bvmO/Y753vw+4l7ozud+6S79TwevA28HDwVvF28uLzwPS09cr21veW+ZD6Gvym/Oz8SP9vAIYB4gNKBeQFDgdaBmUFagYdCN4LMhHsFvUb1RyBG7cathkVGAIXCBhCGhUbARp7GSwZyBfeFTwTUw/NCUsGpgcxCUMHWwSTAxAEoANDAqAA+P10+r/4cvgj+G/3ZPfu96L3sPbg9UH1wvQW9QX23vaS9+f4nPvB/ez+tv/Q/2L/1f+uAU8DlwNaA+kDawWWBr0GPgaMBfcETgTrA9MDYQS0BfkHZgmaCCcHDgYIBR0EZARHBGwDmwLKAfQBgwKUAoIBpABt/3D9Tvwr/NH7MftT+ib5zPgb+e/4Qvh+92j2RPWA9ML0tvXF9Qb1R/Sr8yHzqPLP8Tnxv/BI8E/w3fDV8bzym/I68mzxtvBc8MPwavEG8sLxVvHa8VjxL/HG8T/ya/Ja80n0vPWb98b4vPnV+mH9BgCyATcDBgVKBZUFBwaEBukGAggkC/QQehbEGisdehuqGA8XHBYWFS8WYBl7HFQdcBwuHBgczxqGF6kSTw0oCTcIRwlWCfYGgwXzBdUFGwQdAef98fox+WX46Pcw+Cj5Mvpl+on5M/in9jL1K/VY9o32N/Y/92L5Ovsy/Mn8K/zm+kn7w/0EADUBCgIwA50ErwVPBosGwQXyBKwEYQQ4BGQEzQS6BX4H2AmUC7gK/AcaBWUD1AIiAskCsARgBYIEXAMrAloB6gAn//n8A/t2+mj7Vv2q/sj9t/vE+Rv5UPm2+CT3GPVh9Hf00fT89Xn21/Ws9IbzHfOq8nbybvPa9GX1r/VE9X31APam9Rv0jvID8nzy6fMj9Uz1yPMX8s7w5++k8D7xTfE08g70ffVi98H4uPgl+tX6bfqB/Bb/DgHQAp8EjgXMBQYFjQRjBrcJoA0oEpsWqRfpFQEVhhVzFesVLxhKGwEdJRxKGwscBBypGQgWABKjDqoMcg1SDkEMdQmRCNYHBQYHBAoCIf/K+wL6rvkR+r/6qvvP+2n6lfgp9/z13PTR9FX1vvRO9K31ovfG+G/5PPkU+Bn3/PdT+i/88fz//eL/ngHjAqIDoAN3A7YDKASdBOwEDwVnBaQF1wWeBh8IJQroCrsIvAXMA/MCQANzBN8FKgaTBQgFSAUmBl4FbgMHAdr+nv0g/kr/Bv9w/Xn7E/pF+TP5KPlN+OD2jPXW9IX0W/QF9CHza/I/8iny//En8rryMPOT88rzPPQp9XD1J/X28ynymPGt8s7zIvRo9L3zfPIO8Qvx0fF18YDx7vET8kvzf/Wx9wr57PmD+r37b/yM/BL+8f8kAQcBCQHjAd8CHgWyCGAMjxBSFcQVBBKqEGESZxQeFlwZhR2JH5weHB5YHtkcGxolF9wTrhBeDxMRxxG8D+kNrwyiChYI5gXrA1gBqP6p/Sj9UPwL/Rv+hv2f+2D6aPno90/20vXg9TT1HvXK9bf2+/Z+9ib2f/Vc9ST3hfkf+238Dv4R/1P/5P+4AEcBvwGqAtcDtQRTBeoFmQWjBEcExgQ5Ba8FDAedB7oFMQS3BG0F5AXnBvcHmQd3BhsGyAbIBo4FXwT3AiwB+v+0/zYAg/90/RH8UvuB+hj6vPnk+L73WvY99bf0KfXq9a/1J/X79Nb0WfRo9ML0evQ29Gb06vSM9Z71k/Uw9Wr0ovPD8370ZvRB9JT0EvTH8hbz2fPR84/zEPSF9a72BPi/+C35qPnz92D3sPhe+rv7kPzc/QL/dP94/5AAqQHhAhEF3AhTDbMRmxOREpcRexLuE78Ulxa2GewbphujGoIaBxrMF8YVMhRWEi0RTBEEEicRHA/DDWkMwAlOBzkGDwXQAiwBigDH/+7+Kf9t/9z9/PqI+FX3QvYw9Tn1V/XE9Lv0WvV99e70+fQ59QD1RPUB98b4rPmX+if8SP20/Z3+SgBJAXkB+AHSAnADkwM8BNwENAVJBrcGNwaVBaYFKAb/BkAI+ggxCcMIYwhACOwH9gaVBQIFEAQUA8sCTAJLAf7/gP5E/TL8Y/sO+6D6cflT+CL3UvbO9bH1tvV/9T/13PR69ID0mPSu9Cf1f/Va9WX1O/Uy9bH1HvWQ9PD05fSH9M30UvTD89PziPOp85v0+/RB9Y71CfZL9h/2d/bV9tH2F/d29/L25fbQ9z34R/kW+zj8tfyk/Ob86f3W/hb/ZACrAzgHYAqaDRAQQQ+IDRUOOhDfEaAUjRiWGmcZIhhqGCgYWxbkFH8U6hOcEtESnBQCFOERyBCmD/cMwwrhCVMI8wVZBC8EjANbAr0BqQB9/Tb6B/kJ+CT2J/Wm9YX1mPQR9TX2Bfaf9GH04fRh9H70Y/Z7+H75cvoE/Ob89fyI/Yn+ev4k/sD+xf9KAGkAXQGFArYDmwV0CPcJLAhfBtUGCwj6CK8KHgwEDK8KSQl0CCMIvAdSBrAEZwM0AnABbAEdAfH/Mf6d/Hv7QPu2+t/5OPkz+Cn3XfaG9vv2YfZK9Zj0wfPf8svyk/PM87DzVvME873zW/RQ9F/0OPTi84f0dfYX91P3H/jf94f3YfjX+Bv51Pls+X/4p/iL+ev4PfhW+Lr3hfeb97T4VfpF+9X6r/ok+1L7L/wB/gT/+/73/gsBrASJBygLXw4uDZYJDgn5C+4OZhEoFbAXOBYpFEIVGBcvFvYUYhSoEzUS0RJzFQEW8BPdERYQsg09DBEMQgt0CN0FJQW3BKIDCQNBAmf/fvst+Yb4zvdi9773gfcW9rb1Uvay9h32Z/Xq9ODzhvMe9X73XPiy+JT57vn3+bb6+/um/Ob8kf25/nL/RgDIAeoCJQOQBC0HegfZBcUF9AZ4B1EIKwqxCucJyghNCAAIDAczBlEFegTBA3cDigM1AwoCRABM/zr+cP1N/Yn8Y/vV+lr6lvkM+cP4Gvjj9rr1mPTg817zd/M89OfzOfMS9PL0SPW29ef0FfSM9Sj2xvaQ+VH6CPp9+vv5rPky+oX5IPld+S/5GflH+W/5jfiZ9zT3Rfc49w/4QPh498r4zvhr99D3dPhy+ID5oPp0+lj7Mvyf/L/9T/8kAeoCeAV/CBIJUwgZCQMLIQ0bECkUxRbDFlQVChavFoEWBBcrGO8XphYqF5gYoRjzFgMVMBL5DtQMtQw9DDQKzQdjBsAEEgOUAv8BpP/3/K77m/ox+c73pvdO9xT2XPWK9ZX18PSf9En0lfMU88jzEfXQ9XP2ePeI+Gb5a/rC+wD99v3l/lH/pP/8AOoCJgTiBeYH5QagBbAGKAj8B2UIUAl1CV8JwwjXCP8IDQh7Bn8F+wTkA6cDWQSnA5YB7/9n/zj+ff1G/cb7k/oc+nr5xvgq+OP2lfWd9BD0DvQH9OLzuPOP8wvzqvJR8xf0gvRG9Yn2u/b59r73j/hi+Yf51vnF+jz7xvsW/ez8nfz1/OT88/z1/H/8evw4/PL7Vfxe/KX7eftz+3/63fqx+hP6rPkK+S/5M/mC+aP5kPr8+vj6+fuw/eD/wgEbBOgFNQYxBgsIPAsBDgQRoxPwE28TuRO2FDwV8BWUFq0WaRYMFt4VJBWXFMoS2BBeD8YNOQ0hDfkL0QkaCIYGKQUmBEgDYQFp/739//sF+336qPle+Bf34vWj9PTze/Nn83nzRPMW8y7ziPNW9Ff1+PWA9lf3Yfhz+df64PtX/DX9Tv4N/1wA0QHmA4UFxgaOB/UFUQW5BgsIzAitCpQL5goICr8IQggYCO4G3QUwBTEEWgNwA2EDeQF+/qj80fvt+mf6FvrV+D/3hvYx9gv2IfZ29RX0CfOB8mLybfLJ8gr0/fSo9Mn0l/Xb9e/1lvbj9lD3bfcY+En5c/k++bX5pvph+1D7APsh+9X6U/ob+/b74/tN+5n6XPo9+tz5vvlF+Qz5Q/nv+JP4e/gz+Cr4p/j/+JP6E/xT/Q3/cgBFAqADUQUiBxoI7wiaC9QOUBEsFFUWaxasFbsVjhZAF1sYERlkGPgXfxdpF24XmRaZFEASLBCxDi8OfQ0pDBMK0AeOBcwDYAIOAf3+xfwd+5T5lfif9yz2nfSn84HynvG38RfyKfJX8qryJfOl8xf07vQo9j33C/hS+df6Hvx3/Rj/zv9/AO4BNQOpA3MEBgViBYkGdwgRCn8KjgpxCUQIpQjWCbwKsgu5CzAK/widB6sFjQRlAxMCPgHJAFUAwf9I/9H9pfvJ+QP5q/j2+I35bPn6+Cz4n/cB93f2A/aV9cH1gvZX9933vPdD9233TPfg9hn3y/eV+Cv51fiu+cr6cPrk+i38w/yO/OH8af2e/Uv9D/0H/eb86vzz/I78xfyY+3L6RPrs+dH5wPnA+av40fjT+Ir4ffhp+FH4sPjU+ZD6svuD/Lj8SP0k/kz/PgHhAgAFDgcxCcwKegx3DoYPkA9fENMSkhOVFIoWdBf7FfoUHxWtFJIT+hJJE0ISsBBQEB8QYg6FDNIKDgktB9IFpgXYBIECngDQ/+T90fvr+i76cviJ93P3t/ZI9dz0HPU89F7zGvMP8y7z8fNM9UX2H/au9g/4TvkE+lL78/wS/pH/ngHcAwUEwgTnBnwHpgfBCHUJqwh5CMYIlQjSB+4GTAfuBj0FLQTkAyMDmgGtAL//rP4w/YH8b/w6+w36X/nD+Gn4Tfju99j3b/ef9jH2LPa89Qv14/R+9LP0rPSF9Hz0EfUJ9h32yPbU91z4Nfi2+C35c/nn+ab5Rvrm+uT6Rfvy+8j7Zfsx+/H64PoO+/r6Sfu5+9j7Hvwy/OP74Pvl+837//vI+9P7qvsi/Jj9OP5z/oH/DQBBAAEC4AMpBXcGpAe0CPUJ0grQDNQOtg9SECsRYBH2ENYR4BKlElgS4hIDEwkShxF/EUAQKQ/wDsgNLwwkC9gJtgjFB54GqQVSBJsCygFSAcr/8v5D/t/8nPuX+lf5Nfhe9/D26/a99pr2i/aU9qP2mPYK93r33fey+KH56vk5+t36c/sX/P78R/68/14ApgC3ARMCCAJmAvMCRAPxBS8JmQpuDV8LbggWCBgIngh2CsMMVQzoCp0H4wQvAsv+5/2P/dL8l/zm/Az+9P1F+1v3/PU79Yj1//g9+tT5SPjg9nv1ofQJ89HxjfGG8R3zaPSx9Gb0Q/I08N3wjPCH8tfzzfT+9Uf2RfZD9z34Yfjn+G/5wfra++T8zf5GAFX/1P7a/qH+lf9WAY8B4wFhATkBrgG5AaUBzQHRAfwCbwRaBXkG5QaPBukGlwchCBUJ8AmDCikMhA2PDfoNiA2/DSQOwA57D1QQHhHrEJEQjA9dDnEMewucC/MKsQmXCMAH8AZEBh4FpwMBAmsA/P8gAPH/af8r/nD9r/z7+677L/tK+sv5+fl0+tL6BPqQ+Rf5XPgu+JH4q/jn+Ez5mPmJ+c35APqm+qD6JPsy/LH+qQB1Ae8DSgJjAVcC+gNrBYMHagm/CHsI+wapBWwE9QKiAkwCjwGsAW8C4QJtAooAU/1g/E374PuV/bL9bP2S/Lv75voc+pj4KviJ96/3v/hR+PP32/dP9s71g/V89IL06vQI9br1v/Z79ob2ufYt9473KvjX+DH5IPlX+gf7dPqe+vH63fra+1H9Xv27/fL9S/0U/RT99/wH/bL9Qf4k/mT+Wf6f/m/+xP6H/pv+Fv9w/87/PQCIAHgAJAHTAVUCrwIYA6IDXQR1BCcFDQVeBW0FFgYOB9AH3giqCWIKnwlbCTQKlQq8CgQM6gzzDOgMrQzCC5ELrAsGDL0L4gp9CkQKBgoZCWUILQe6BWoEMQQ8BAUEzAMyAzQCoAAp/yL+9fy/+7D7xvuA+8r7rPty+uH5fPlO+dH5ePps+9D8ef3i/fr9Af4t/sL+5v8FAU4CGgOiAywDnQK3Ad0AXwFPAb0BiQK1AkUCLQLpAVMABgBB//n+wf+G//r/6P88/jX9E/x5+7z6ZvnP+Tv6O/pn+iv6pvdo9sb2U/WE9oT4T/at94T4g/cn99r2m/e+9wX5cPqJ+3n7evxB/Dr7Ffxv/sn8jf6RAQQA7/+YARMArf/MADQAuwFsAXIDPQMNA6UDngM9Ar0B3AO1AncDKQXLBFwDAAMcAuUBLAH+ABMC8AEgApIChwKjARkB1wBHAeYAmQLdApYBxwIlA4kBIgJoAggCJwNAA7sDNgUxBEIDZgT4AxcE+QT8Be8FQAY3Bv4FHQYqBosGowbNBpAFMQasBi8GTQa/Bi8GIwVDBL8FMgUmBD8FDQVLA24DoQSFAjwBKwKEAbH+NQH8ACH9Wf68/jD6yfwz/iz4wPx0/Gf4L/ve+w72g/qt+lz16/u0+O722fzc+Mb4Yvxm98b4b/wJ+AT8OPxs+IT9OvlU+xb/iPgQ/ln+5vp+/qz+0PqM/7X77f00/7396AAX/u//NgAA/2v/ewHO/dMB+P+b/pQCJQAX/okCzf6U/pICuv+ZAisAgQPv//j95wGt/8P8QQSt/6L8bgP1/gv/0QHo/4UATP/4/xwA5/5f/nIAd/4K/pkAjf4C/3X+PP6d/jr+tP/H/mX/Gvz6/zj+CPxfAdv/4v80AJMADgG2/+YCewElAAQDvwOTAAkDgARHAVQElQPCAgcDyAFlBhMCBwRpCNwBOQNiB94BZQXKBv4CrQXCAS8EsgHLArsD4wF/ALsDJ//PAZMDUP4LA1f+bf91/j38qQAY/Wr+of5r/G79Z/17+6T/hfyN+wYAZPwr/nr+fv59/e7+1PxK/3gAVf+z/lwDv/+x/kgCOwAb/rUCgAE//LcGPv5d/tEGH/0hA8kC3QALAUABigO3/hUFdv+z/tYC9fmgA0b9tAEq/Qv/V/5h++T8rvt8/iH6Fv/w+8z9CfuW+9z7Jf9N/XT64wGD/MT7EgFV/13+HP+x/uoAdv8yAnQAugJ0AGD/RQKqAvoAuAUyAhEFTgdJAYkGjAeRA6YFCAeMBeIFdwR6BXkDBwYP/4kC2wUP/3sB0P+rAOT9uP1O/m3+E/8c9ykAvPwt9579Pfxo+X/9tvjk+rH+Yfgb/vABrfiTAJgBxfz6/60A6f1KBRsBF/6NCSf/1/+qBO8Fuf7VCBYDAgUQBCoDcAN/CBIGOQE+C48BqASmAj0FKQCWBpgB2/9LBAL/2fxcALz8EPk0AA/4Lvod/iL36vSc/Xnz2vY+/orz0ve1+1vyb/kH+wryFAFg9dP2ff9i+jv6DAQ2+icA/AXf/G4I+gXK+5AJpAJEAX8N5gOFB0EJeQMnAtwON/+DCh4KR/4hC+kGowEeDNAF3v2xCRD+IwAQBlf/gfzDA0X5Wvp4AD34afos/SD1GPXM/3Xx4fnJ/mHxqfpj+57xU/8r+Y3zhQIu9XH3bwCj+RX3NQb198n+Cwqh9JELYgBw+t4G/AXE/pwLswmZ/3QK8ARfBLsIqwgoAVEKRQLdAFENI//HB7MEDgShAfsE9QJ+ATQHJv5tAnwE9/zFACkCB/sDATr+Cfv4ATr7efi1/ln5R/ap/zP7+PW4An72Cftl/1HzCgKr+v34ZP5E/4/z7wVo+Wn8DAdn+AsD9gOA+6MGHwMz/kMHkv47CBIB6wbYAfUCqgJZAtUGV/9KB9D/FgajAQMGEgRsBIkEJAH2A78BYQGOAFMFff9EAIYDlf1y/y/++fzQ/I39MfsO/s37F/yp/V76qQC79u4BjfuK+sH/6/vW96n/af2e+MoFcvXRBIP8i/7YArL9aQC4/GUG1/pfCXD/P/86Ce75wQX8ArkBrwLcBkX+dAXBAPz/mQqk/F4I9wJ9AFgDxwCB/wsDEgGT/4gF8foqAa0DbPlIBcsCIfZsCYf5sfx1BOb6tgApALj8CQGi/Dn6egV++/T7pAdI9wL94Ah49WsKWgFy+lMNAfmGBsMDx//tAzsF+f7fB4YGtv0GDJQCX/4bC+r+fQCmCub3LghLBEH6rglQ/kH+ngAR/xj4fQXr+Dr8DAft8DcBL/xG+In+N//y9JH/EvnV9ToErfd3+TYA9/lB99sFv/ZpAOr++PpMAC0CCPyXAI4CdPwjAGkA+APs/uMGTv40AhkEhvthCSr9IwU6/i8CAwFlAQgFZPyBCif6BwR7AQECKv0fBur8Ef+UBNH5/wMR/9L+5vz8BWn3UwJ3/pL8egCF/KD9uP0E/QP5iAWx9JQC6vxc/YX+7/+n/fP8BgUA9jwGK/mdAsX8tgA5/y3+ZP4P/XoE1vlCBtP7JAFI/Gv/QgMo+fwIHvokB9f6BwS3/rb/jgV2+p4Kk/X3CWH2RQm0/xn+0Adq/tv/PQIrBH7+fQVk/CQHNvkIB5/8ZgKGAVP9WgOO/7QDP/yyBsH6JAHvAFP/zgCnAVP9CQEe/2v86QFnAGb+OwMZ/tv8/gKg9YkHGv29/dsAEwAT+r0BMwGl+zMB5PwY/6UB6PzSADoCp/ipBlj46QGEAUsBoQFlAbz/3fw5AH8AJwCpBSUAXP+vArH8lQBt/t4Dh/k4B8H9iAA2BTf7zQJhAZX6fQCZApv8tQlw/XP+7gQ0/IP6Oge8+tcA6QGZAHECU/0/AkH8kgT5/qMEYQGU/mQA+v13AXMBG/7YAdT8mAQRALH/CAXq97sDfP6c/UgDeADe/cYBngFv/i/+QAF//KP96AXj9w0Dfv7C++QDg/xV/0//Ff68/7UCa/9aABj9/vw5/53+TQMV/qD/lAQA/ckCZ/93AXT/GACTBeYFTvxQB5j+Gv9uCGb+1gQOB2n/dwQeBdX/gwDZBRoAeAWPCDv9hAOGAdcARgV0ABAElgHQ/5cDzgBgAqsApv7r/4wDHP+SAk//3wBZ/ML7RANz9+QDpPqx/D0AhP1j+0P8nP/B+rj/5Pz9+7j8IfoC/+39cPsMAi/76vwOAtb8jvw8AVv+zP0/AE4EDf0F/n0DHvyO/3oEZvyN/hUA8v5n/xr/fQVv/BgD2/wc/yIC4/vbAoEArwIz+FgDpgBO/IQBZgKsAav/qv6s/gj/mv3dAuD9VwrD/BH/cAMh+07+EgG/+GMGVQCz/EADtPgL+28Aof6N/ScCbwDs92cF+/sg/j/87P4IAu77mgiV+DD/tAHs/Kz+RwQ5/7z/hAFl/wQIFPhuCJH7NgAc/9z+GP3EAS4F6f0mBiz7qwDW/LoAcgMZBrz8vQYo/av/0/23BtL6+AGUCff58woD/oQBw/1jAQ7+BgATApwDnQIbBiX9vAKB/K4EDPxLBpsERv9g/4H8cwEu/fEHCf1qCQD7QQS6+soDNP8++VcHffg0Bz77Pf+R/6T8NvwyBUT95f7FAkr3ef3U+VoBVfciBDv9rf0fAQz+gfqCAf392P6DAsP/CwGDAEX+ovrDB0P3MAWMBUT4CAy/+K4EFv+eAKoEWgBCAcEAJQi7+PkLuvqqBF4AZf9aCFf5ygqg+GUDAgCUAq/8mgYSATn9LQJH/koAwf/+AJj9xASh+94DM/tkB/j4dAClA4v2mAaZ/KkBEv75/BT96Poa/6z+Ffwi/q//gf+w+P4FyflyAJsCZfv0A6kBbP3YAW3+TfuBBwb6IAWZBYL7mwTsAgf7NgIDBD772wr5/IMF6gLb+twI2vu2AwMHd/2fAkAILvgcCjz+4gBPAOMElP77AXECi/vxAsT7jAB0/IL7BwbO/T79ZQWq+9f/XQSq/qb8ZwWI+oIE7gHk+mkFCfZOBKMG4/nABOwCIvkXBDUDU/10BZoB8wKtAqn9WgBZ/CYE1ADBCub6rQKq9yv58QKp+okH4PsdBrH+tfmkAN/5jPpzAnX+HABRCsbzagRI9z75P/qbBbT9YgJxArn5PQKE8RoI0/MNCn3/zgO4/5X//fRB/lACHQFWAWIH5P9v/NX/3/yh/ggA7gS/AEwKK/dlBnb6hAGH/nYAcQR5AXj/CgC6/LD9vvwx+04ETfsW/8f/Gv1R/wT3Ewe892oJKfz2+PsBwv5k/A8AUgFD9y0EDPl+CRb65PpeCNf4YQPt/5D+uwPc++UEPfx7+AYKCvcBCa4EigDZAH/4Fgsr9MkJcgiJ/EkLNfM/BTf9bgNqCc73EQeeAbb6BQkt+SgB8fwOB+b/GgMOBmv3wARW+9IAwgHm+uMGg/cwBZj9kP7EAT/36wOf99wIkP7X/8UCTvfT+9sAiPh+AtEEu/1aAUL7DP7mAC79Cwvf+Wv/hP3t/ZMB7ASQALf7ygYu+pYBvP7NBH8A0/sTCqjyOvyDBS/5IRCr/zMBZf+K+E4EhPtzBpgBEwXzAg8A+ADC+Sv5xAF9BTwEkAwgAKH+P/fMA8b7iwRrBSP/qQOY+2j+tv1O/jn9hwTa+5oLvvkl/UsDFvZoAu/93P7x/IkB8QLA/mQEp/bM/bX8VQKtAuoAmPtI/54DRvp6BN38jf4hAUwCSwTj+cAJtfkvAkz/HP+2APEAMQkM+WUDWwQi9G0C8gE1+CsAXwsZ+9IAhwKZ91wDZARrAGsCxQU4/FMAbwI//5D6uAgt/vUCHgWL+RIDFfzPBoL9PQWTADcBuACl/WwIJwBx/IgIM/sA/5wIdP9zARkBTABvBMIBkAp0+jv9Dgfk+iEGzQIg/rn++AE+BFP3svtEAYP6CAU9/yb5yv2i+v3+PQPW94sG9/ehAdQEJf1N+0YFW/5i/+QARP9U+TMJbwkxBmIFWf5d+RECZQNV//kCiv09+l/75fR9+Af4dvrX/fj9W/yL+WX68PuIAMP91QZCCNQCWghLAVL+JgGH/hgFPAlyBQ0DGvzy+TH0q/8j/WD/nQIz+439//hn+D33M/mg/WD/BQYNA4z8mPkQ+yT+fgL5BpUFJwKl+/AB0PcEAzICtQLCBhD+7/869MP9J/8R/FoKRABEAF3+pPyF/ob9/QY6/ucE4AE7ANIA9fwAAAH+7gRhCD0FgAGR+3f+qfqWBGkIjwGrALn7Rv+A/lYE5/4L++YAh/wxAWf/YgJi/tb+AAUb+zYACwPSAAAI3QcQ/gL9ovrf/qME4wnyBGX7QvuD9/j6OALgCHMEuwH5/CT8I/ir/+8FO/+9BmMBe/3S/K/8+PoW/xoFMP1bAi4DgQBPBsMFxQJ2/x8B1P4jCrUEKAZzAvL4kPox+3MEtP9OByUA5vptAMX3Tv6V/VIBTgIUA2sFsPab/Ej4zwFAA30FoADh+bv9EPvRAzH+BABw/+f9IgK/+qT/e/uxAkb/7QNBAuv/VgH+Ak4CtP1KAjr7eAArBC8EygHr+zr5T/baAc7/EwWDArf+pvxB+ov5XP/b/ycHPQNd/kf7UPky+r39tgAqAdgBwf9c/5v6swKS/v4FRghEAaEB3frk/Ov9AQLmA/sE8wKp/7/90/jv/cH9CQO4B5MFrwCU+8b4mPhE//IEMAqQB2ACx/lC9pP4zv+lCKAK3QeI/5L8mfqL+yQCpQhkDoYImgbO+rH1wf8sARkMHQgxAU7+UPuNAfz8TwF9/6sAAANUAYwAOvwP+hn+CwM+Aa8HjgAkAeL9Uf2R/xP/WgMu/xUCGP9i/lL+CPqW/nv7ff+Y/R7/K/qU94n7bPv5/qf9OQEv/OQAewEk/qP7ePxI/wQAKQdsBOf92QBZ/qQAwwBEAbn+nfyhBIgDBQFb/lv5afgT/EgFuANLAxUCqfry+7j9xv2r/ycD4wRfBIYGKAGu+Sj7QP05A64ELwlcAw//R/59+Iv7ev4WBncDIwpBAsX86vkX+Q39MwT0C4gFuwQo+x/2V/nJ/rwFPQj1Ca//qvs++S33TwCSBGYHswQ5/2X7Afch+l7/ugBhA6IC5wFO/P76APux+S8C5wafBzYCEv2I+KH5hwIyA6QCPwDN+4X5gvv/ATn9c/dZ/Ev4SPfM9bjyWfI+/uIFOgRi/n70bPH79C4FTwa4AjAANPwD+6f9Hf5l9tf4EwX4BQYFzgC29Sjztft7BvUEEgnSArj9lv4FBNAA+AN+C7EKYgquCRsGKgF7BqwJHwjDDPwFpQHHAI4CGwFJAUQDFgOBB9QHxgFz++P20vrQAKcIrQomBOH+sP1A/TMBKgZVBRsJdwn2BsMAi/5U+4n+4QnRDfsL5wTG/fD7XP/sBFAEhgb1BJUFHANGAE78Hftt/+IDxwfABFACo/6Y/s8B7wMfA9MD0gUyA7gCq/8N/YL+8/82BSAFBwTiAG/84/vQ/Av/KQK/BQgCIQE7/zP9aP6IAMIB3QCKAyAC2f/QALn+Uv5LAbgDjwPjAj4BZf80ACgBTwCI/6YC/QEnAAT/bvjt9Vr6fv7+AJX/LPuY+If3Uvsd/aP+kgKOAF8BLf6f+y/8oP9RBfoFaQNY/Sv6uPjx+uf9AP10/a38K/o++Tr31/Wh+X//VQKpAKn6s/fj90j9HwMHBJ4BRf7n+zz7lf2u/vL9nP+cAQ4ChP3L9xD2N/iR/3cG9QXXADb5Ivfq92n9qQCTAScDJALk/636Nvlh+Mb7KQX1CvwHIQHP+Qn43fqWAW0FSQT0AR7/v/vY+x3+Hf1r/0gCGAN0/+P7RPjj95/8yQALA3cBcf58+QT6TP6dAowFRwbhAon+I/21+Q/8IwOGBsgGbAO1/Jv3NvqTAcoGVgjvBfn+IPy2/Rr/NwFUBGwEHgV3A7QAb/wn/OL/NgUcBw4Ef/9w+s/7z/7YAVMF6AXzAu7+6vzx+gr8egBBBHcGCgQV/q/6bfpA/ej/NwGUAl0Bpv6N/iP9lPyf/v7/pwOIBcICQf80/B/9DgHiA30F2wIM/uT8Z/0C/7QBiQJdAosB/P/y/qb/pwHSAjgCtgBiABH/k/8JAaYCZgLF/+v/zP8fAdUBKf91/sH/XgDdABIDMgLV/xMA4v8AAWL/JgFEAYABGAAe/EX7pPz+AKgClwAi/nT8Y/uC/YkCvQOxAggCcAHiACgB/wHNAkEEOARMAv0B1QE0ADv/lf+rAL8A3wCv/+X+vPxh+5j7Xv16ANYCLAPdAqD/E/wH+0n+twHtA8ED0wF4/xL9d/vu/i8CIAQ2BHL/a/zk+qD9vwGUBEsExwDt/QP+EwD7AfcCcANxAv0BKgGt/3X+tP1B/sEATgJsAU//UPsB+XT6EP72ARcCO/8S/bL90v6i/ywB6AAFAYUCnwI5/y7/sf5EADsFEwfrA7j/4fwa/c8BngXoBegCZf8y/OH8ZQFdAoQDSwM2AkQBWgAo/cL7Gv3TAbEFQQQ7AG36qPnX/b0B6ALuASb+6vxn/Zj+6f3Q/Dz+pgDeAfUAW/y/+ND6BADcAwoESAA6/Nn6p/1uAV4DFwSRAfP/3P6+/rn+g/9zAUYDHgKi/3j85Pq1+1f/lgHjAef+HPxj+2v8rv6bAL0BBgJ7ARsBiP/A/oUADgIQBAUElQDg/Zr9C/8cAj0CVwB5/YH8PP71AJ4B+ABQ/mb+aP4W/0j/IACgAMcAowFe/4/9Y/su/XL/WwJrAsv+0fsb+1b9sQDpAd8Abf/8/28AUwDb/6j+Gf76/9UBQwQGAqL/sP1B/ucBrQMNA44CgAEhAW8AegCbAPEAYgLQAhMCLgCm/rP8Ef9dAeUBjP/U/Jn6hvuE/Wf/CAA9AFz/Yv6x/qH++v3p/fv+bwD1AKQAYv52/EL9pv5TAGwBYQFr/43+wP4A/0QAawDV/9v/ZAB6AMf+Ef8I/4UAmgHcAWoBGAAu/+r+dABMAtQCvAJlAasAXACkACoBLwK1AkECVAHZAAQAAAFMAkgDjwMZAhEAv/8pAEQAUwAaALoAVQAeAAP+bP1x/uIAiQJiApUAdf7Y/kwAfgLRAzcDJAGK/+7+U//kAAgCbwKJAnYARf6g/fn+1/+yAUgCBQFPAHv/C/80/9MBBwOwA9gC8/+U/Pn77vw2/h4Agf8t/lb9G/5L/fT9K/6M/5gBDwNgAn//qv5B/wgCdgXABEQBs/zp+6f9YgI5A88BoP8K/vn89/zn/Ub/IAJsA0QD5P92/I78Ff7MAN4DaQOvAA//y/4t/iUA4AGUAj8C0ACY/Yf85P0PACsC1AKEAQL/x/we/I/9qf+jAU4CYwEw/8P8+fuw/XcBbgNCA0QBuf6M/DL8KP4uAAECLwKjAQ0AF/6k/Cr9Uf/aAT8CgAHC/pf8fPwx/sEAewE3AZH/V/4S/Tn95/7g/9AAbgFcAOP+yP0g/K380P/9AYkC/gDJ/tv8d/4lABkBxwCM/5/+9/60/5P/Xv8L/37+3P43/ykARADD/wQAfQCLAQECXQEbAYIBCQFyAMf/wP5B/5H/FQDm/yH/av4z/r//6gBuAZMA6P+8/xwAJAHJAmgCYgLxAHQAvwAFAVEAKwAYAEwAUf/ZAHIA+P9K/zH+cP9pAO4BIgLcAWQALgAe/3oAhQBRAFcAkADM//D++f5+/lD+5/66/8X/JQB4/+T98fzn/Tn/zv9kAJkAhQB9ADYA5P/F/4z/6/9MAG0Aiv+B/7b/tP/o/08AvwAkAXkBCwEGAFz/f/+2ACICwAKoAtkAAv8B/sH9uf50ABkBEAG6/1f+Hf2d/N796P+RAR0BzAA5/yX/+P+KADcB5QFDAsQB9QAAAD0AfgFOBFYEcgORAQIAff/PAUsDvQOzAuABmQDd/2cAjABeALgAdAC2/4r/7f0z/Z/8Sf7H/8wAWgDP/nT9WP2F/isAsAG7AdAAtP+5/k7+KP59/0QAMwFHAU8AFv/D/X//vwGBA+oCBwF9/47/ugAcAmYC5wGpASgBgAGsAYQBwwBRAJH/4f7w/lX/1f82AKn/6f0//Bz8w/0gAN8Ag/+N/er8Y/3E/msAtACBABEAcv9K/0//kf8/AHcBGQKTAbQAE/+O/7wALwKoAm8CDgGi/+z+MP9aADcBOAJrAmICjQEVAGf/tv/tAE4C4QLuAdf/o/7g/Sz/kAC0ATkBCAA+/gn9oP0o/qr+MACZAPj/RP+0/er8wf0jAOcBxQIkAk8Agv5f/lf/DgHUAgMCsQAe/3X+ZP7E/uT/PQC0AOT/BP8D/tr+gP7t/1MA5v/3/mT+nf7y/rz/5P+M/8X/qf8Y/wb/fP61/mL/aQCFAI4AuP/C/o3+s/4I/+v/DwAVAOv/Df/W/o3+rP79/nQAMwH+ALoAxf8C/xH/lwDBAOYAyv/1/ur+lv6b/s3+4f60/xwASgAcAN3/sf9kAH8AvwBvACUAmwCQAFQBjgAPAGv/af9vALoAwwBiAJf/Vf9E/6n/nP+g/5n/jP+p/7z/P/+1/sL+Sv+//7r/vP8I/8T+wv6+/vX+iv8gAFEAIQF2AOv/6v7H/mL/lwDHAOj/2v56/qj+/f7t/08AAgAc/7H+yf6f/vD+e/8gAKYADwA//7X+4f7x/xIBzwGuAeIAOwDg/x4AUQASATUB6ACEAS4BrQBeANsABwF7AR8BigC8/7//PwDqAF0BhAEbAVcAov8cALQAbgGYASoBqwD2/zQA0v+eAYAB5wG4ACUAuP8jADUBjwF1Ad0APQDg/wYAPQCkALYACwGd/N796P+RAR0BzAA5/yX/+P+KADcB5QFDAsQB9QAAAD0AfgFOBFYEcgORAQIAff/PAUsDvQOzAuABmQDd/2cAjABeALgAdAC2/4r/7f0z/Z/8Sf7H/8wAWgDP/nT9WP2F/isAsAG7AdAAtP+5/k7+KP59/0QAMwFHAU8AFv/D/X//vwGBA+oCBwF9/47/ugAcAmYC5wGpASgBgAGsAYQBwwBRAJH/4f7w/iQBBQE5ANf/HADoAMQBEwKeAakAgf8l/3//YADiANgB8AHCAQUBVwDv/0gAYwHCAWYCMgKGAc4AngCIAN0AagEOAUYAU/+u/kX+n/75/pz/TACpACMAuv+m/wAAgQC8AAgAP//P/qr+Of/X//j/3f+x//z/awCrALoAHgC2/7H/RgDxAIIBhgGEAYkBkwFwAeYAMgC8/87/YgASAV8BrQC2/zn/k/+FALEATwAa/xD+5/3y/q3/AAAKACMAHgB0//3+jf7y/jL/zv/t/4j/x/58/hP/6/+2AKAAjv9U/un9Sf4h/wIAPQAKAH//E/8P/17/rf/V/yUAUwAuAC4A6/+p/+L/PwCIAH8AKwCm/zT/Df/N/lr/4P+//1P//f6q/qr+7P6t/87/pv9X/wv/3/6s/vf+D/9B/0H/7P7j/pD+kv7q/n//gQCkAD0Agf/y/jT/NgBdAb8B3wBPAJX/AAAC/54AYAByABgAZ/8y/y7/N/8j/8z/4P/X/0r/I/++/hb/cP8cAEoAYP/5/lf/E//x/wgAGABEAM7/kf+x/5P/uP/t/8P/3f+X/9X/e/9w/0//+P9cANX/f/+U/lD+Jv4j/+b/EwA0AMz/nP9V/3L/FQApALEAmQBGAK3/Hv8N/3v/awD1APgANAATALb/NP99/57/Wv9p/yf/O//h/nz+3/62/5sAtABPAPP/YP94/9f/FQBKAG8A7QD1ANkA8wDzALoAxwBnAHIAcgBpAHQAGABtAEgAdAC6AOoA+gADAS4BIQHMAKkA6AALAWoBFAG6ALEAfwDdAEsBZQHOAC4Ax/90/wYAUQCmALwApgAmAcMAfwDXAD0A8wAhAS4B7wDH/8wAWgDP/nT9WP2F/isAsAG7AdAAtP+5/k7+KP59/0QAMwFHAU8AFv8=\" type=\"audio/wav\" />\n",
              "                    Your browser does not support the audio element.\n",
              "                </audio>\n",
              "              "
            ]
          },
          "metadata": {},
          "execution_count": 64
        }
      ],
      "source": [
        "import IPython.display as ipd\n",
        "import numpy as np\n",
        "import random\n",
        "\n",
        "rand_int = random.randint(0, len(tonga_train)-1)\n",
        "\n",
        "print(tonga_train[rand_int][\"sentence\"])\n",
        "ipd.Audio(data=tonga_train[rand_int][\"audio\"][\"array\"], autoplay=True, rate=16000)\n"
      ]
    },
    {
      "cell_type": "markdown",
      "source": [
        "Our data is correctly loaded and resampled.\n",
        "\n",
        "We do a final check that the data is correctly prepared, by printing the shape of the speech input, its transcription, and the corresponding sampling rate.\n",
        "\n",
        "Note: You can click the following cell a couple of times to verify multiple samples."
      ],
      "metadata": {
        "id": "7w49GIiPm94e"
      }
    },
    {
      "cell_type": "code",
      "execution_count": null,
      "metadata": {
        "colab": {
          "base_uri": "https://localhost:8080/"
        },
        "id": "-DgxxSa4vkxw",
        "outputId": "12effe97-4bc5-43c5-e18c-7184fa7e7d15"
      },
      "outputs": [
        {
          "output_type": "stream",
          "name": "stdout",
          "text": [
            "Target text: mwana asikulya izina lyaaanda yangu ngooyu eliezere wakudamasko alimwi abramu \n",
            "Input array shape: (178959,)\n",
            "Sampling rate: 16000\n"
          ]
        }
      ],
      "source": [
        "rand_int = random.randint(0, len(tonga_train)-1)\n",
        "\n",
        "print(\"Target text:\", tonga_train[rand_int][\"sentence\"])\n",
        "print(\"Input array shape:\", tonga_train[rand_int][\"audio\"][\"array\"].shape)\n",
        "print(\"Sampling rate:\", tonga_train[rand_int][\"audio\"][\"sampling_rate\"])"
      ]
    },
    {
      "cell_type": "markdown",
      "source": [
        "The data is a 1-dimensional array, the sampling rate always corresponds to 16kHz, and the target text is normalized. This is what we wanted to achieve. \n",
        "\n"
      ],
      "metadata": {
        "id": "lX8GfO5-nXUH"
      }
    },
    {
      "cell_type": "markdown",
      "source": [
        "Finally, we can leverage Wav2Vec2Processor to process the data to the format expected by Wav2Vec2ForCTC for training. To do so let's make use of Dataset's map(...) function.\n",
        "We firstly load and resample the audio data, simply by calling batch[\"audio\"]. Then, we extract the input_values from the loaded audio file. In our case, the Wav2Vec2Processor only normalizes the data. And then,we encode the transcriptions to label ids."
      ],
      "metadata": {
        "id": "iT5MBHJenoVj"
      }
    },
    {
      "cell_type": "code",
      "execution_count": null,
      "metadata": {
        "id": "fJnR6demvp-G"
      },
      "outputs": [],
      "source": [
        "def prepare_dataset(batch):\n",
        "    audio = batch[\"audio\"]\n",
        "\n",
        "    # batched output is \"un-batched\"\n",
        "    batch[\"input_values\"] = processor(audio[\"array\"], sampling_rate=audio[\"sampling_rate\"]).input_values[0]\n",
        "    batch[\"input_length\"] = len(batch[\"input_values\"])\n",
        "\n",
        "    with processor.as_target_processor():\n",
        "        batch[\"labels\"] = processor(batch[\"sentence\"]).input_ids\n",
        "    return batch"
      ]
    },
    {
      "cell_type": "code",
      "execution_count": null,
      "metadata": {
        "id": "CEouIHg8vzRW"
      },
      "outputs": [],
      "source": [
        "tonga_train = tonga_train.map(prepare_dataset, remove_columns=tonga_train.column_names, num_proc=4)\n",
        "tonga_dev = tonga_dev.map(prepare_dataset, remove_columns=tonga_dev.column_names, num_proc=4)\n",
        "tonga_test = tonga_test.map(prepare_dataset, remove_columns=tonga_test.column_names, num_proc=4)"
      ]
    },
    {
      "cell_type": "code",
      "source": [
        "tonga_dev"
      ],
      "metadata": {
        "colab": {
          "base_uri": "https://localhost:8080/"
        },
        "id": "IC6sMuKLfxAC",
        "outputId": "fe55aca4-df09-4c55-dd07-1c331183fddd"
      },
      "execution_count": null,
      "outputs": [
        {
          "output_type": "execute_result",
          "data": {
            "text/plain": [
              "Dataset({\n",
              "    features: ['input_values', 'input_length', 'labels'],\n",
              "    num_rows: 493\n",
              "})"
            ]
          },
          "metadata": {},
          "execution_count": 41
        }
      ]
    },
    {
      "cell_type": "markdown",
      "source": [
        "# Training\n",
        "\n",
        "Before we can set up the training pipeline for fine-tuning an XLS-R model, we need to prepare the data by doing the following:\n",
        "\n",
        "- Define a data collator that can handle the large input sizes of XLS-R models. Since the input length is much greater than the output length, it is more efficient to pad the training batches dynamically, meaning that each sample is only padded to the length of the longest sample in its batch, rather than the overall longest sample.\n",
        "- Define a function to compute the evaluation metric (e.g. word error rate) that will be used to assess the model's performance during training.\n",
        "- Load a pretrained model checkpoint and configure it for training.\n",
        "- Define the training configuration (e.g. learning rate, number of epochs, etc.).\n",
        "\n",
        "Once the model has been fine-tuned, we can evaluate it on the test data to verify that it has learned to transcribe speech correctly.\n",
        "\n",
        "\n",
        "\n",
        "\n"
      ],
      "metadata": {
        "id": "TaK9X-dKoao6"
      }
    },
    {
      "cell_type": "markdown",
      "source": [
        "We firstly define the data collator. code was taken from this [[example](https://github.com/huggingface/transformers/blob/7e61d56a45c19284cfda0cee8995fb552f6b1f4e/examples/pytorch/speech-recognition/run_speech_recognition_ctc.py#L219)].\n"
      ],
      "metadata": {
        "id": "FnWfxz47qBZ6"
      }
    },
    {
      "cell_type": "code",
      "execution_count": null,
      "metadata": {
        "id": "AC__bGvUv2vS"
      },
      "outputs": [],
      "source": [
        "import torch\n",
        "\n",
        "from dataclasses import dataclass, field\n",
        "from typing import Any, Dict, List, Optional, Union\n",
        "\n",
        "@dataclass\n",
        "class DataCollatorCTCWithPadding:\n",
        "    \"\"\"\n",
        "    Data collator that will dynamically pad the inputs received.\n",
        "    Args:\n",
        "        processor (:class:`~transformers.Wav2Vec2Processor`)\n",
        "            The processor used for proccessing the data.\n",
        "        padding (:obj:`bool`, :obj:`str` or :class:`~transformers.tokenization_utils_base.PaddingStrategy`, `optional`, defaults to :obj:`True`):\n",
        "            Select a strategy to pad the returned sequences (according to the model's padding side and padding index)\n",
        "            among:\n",
        "            * :obj:`True` or :obj:`'longest'`: Pad to the longest sequence in the batch (or no padding if only a single\n",
        "              sequence if provided).\n",
        "            * :obj:`'max_length'`: Pad to a maximum length specified with the argument :obj:`max_length` or to the\n",
        "              maximum acceptable input length for the model if that argument is not provided.\n",
        "            * :obj:`False` or :obj:`'do_not_pad'` (default): No padding (i.e., can output a batch with sequences of\n",
        "              different lengths).\n",
        "    \"\"\"\n",
        "\n",
        "    processor: Wav2Vec2Processor\n",
        "    padding: Union[bool, str] = True\n",
        "\n",
        "    def __call__(self, features: List[Dict[str, Union[List[int], torch.Tensor]]]) -> Dict[str, torch.Tensor]:\n",
        "        # split inputs and labels since they have to be of different lenghts and need\n",
        "        # different padding methods\n",
        "        input_features = [{\"input_values\": feature[\"input_values\"]} for feature in features]\n",
        "        label_features = [{\"input_ids\": feature[\"labels\"]} for feature in features]\n",
        "\n",
        "        batch = self.processor.pad(\n",
        "            input_features,\n",
        "            padding=self.padding,\n",
        "            return_tensors=\"pt\",\n",
        "        )\n",
        "        with self.processor.as_target_processor():\n",
        "            labels_batch = self.processor.pad(\n",
        "                label_features,\n",
        "                padding=self.padding,\n",
        "                return_tensors=\"pt\",\n",
        "            )\n",
        "\n",
        "        # replace padding with -100 to ignore loss correctly\n",
        "        labels = labels_batch[\"input_ids\"].masked_fill(labels_batch.attention_mask.ne(1), -100)\n",
        "\n",
        "        batch[\"labels\"] = labels\n",
        "\n",
        "        return batch"
      ]
    },
    {
      "cell_type": "code",
      "execution_count": null,
      "metadata": {
        "id": "JDnpSeBRwJFb"
      },
      "outputs": [],
      "source": [
        "data_collator = DataCollatorCTCWithPadding(processor=processor, padding=True)"
      ]
    },
    {
      "cell_type": "markdown",
      "source": [
        "Next, the evaluation metric is defined. As mentioned earlier, the \n",
        "predominant metric in ASR is the word error rate (WER), hence we will use it in this notebook as well. We will also be using the character error rate(cer)."
      ],
      "metadata": {
        "id": "xrO25d7nqvWV"
      }
    },
    {
      "cell_type": "code",
      "execution_count": null,
      "metadata": {
        "colab": {
          "base_uri": "https://localhost:8080/",
          "height": 81,
          "referenced_widgets": [
            "e85a8f62bb18407aaafbce6c837394f9",
            "62c9ad9736054f0caf798899f60cb87f",
            "e81917ad17894934a7a53eb8935cfbc1",
            "0ec052d91f2e4892a7d92efdb64b2146",
            "cd999b027ab34531ac0d422c98fffd2f",
            "80e62dab556a493daa81bd130fd430c5",
            "f5dd470296c4433bbec260c812fd128d",
            "720236c3de4a40e487e42f9a42a4969f",
            "a48ba7ce6c8a4a0fa1b8d08cc96fe9dd",
            "3fc83bc15c444f748e8d240ae23fd2fe",
            "79a25b87790740ae889ebf0c38af9fc8",
            "03b0d5cc2cf04acc8ddfcafe2f6af674",
            "9fa61671d9244c72af4439d81f9b1b6b",
            "8326e9306f1f45edaa0323f4289d7385",
            "70368a3860714f82aaf434f7296eec7e",
            "a41a402180d647958e9aa52595d2c99e",
            "ad873a4b9d394f80b5fb721cadf35b8d",
            "db68390b62014886aeec2bfa37b01001",
            "331d09d6b9e84a3f9d28291b0ab324e9",
            "f182acd50ac84fcc98a24a52dd0b43f5",
            "7192889b5b2f4ddd911b4f074fe16841",
            "8eaf15be8b8c440386cdc9ef31f29053"
          ]
        },
        "id": "WmYqpksQwMH7",
        "outputId": "e93b9f81-01f2-40eb-8611-18180f1bf3f6"
      },
      "outputs": [
        {
          "output_type": "display_data",
          "data": {
            "text/plain": [
              "Downloading:   0%|          | 0.00/1.90k [00:00<?, ?B/s]"
            ],
            "application/vnd.jupyter.widget-view+json": {
              "version_major": 2,
              "version_minor": 0,
              "model_id": "e85a8f62bb18407aaafbce6c837394f9"
            }
          },
          "metadata": {}
        },
        {
          "output_type": "display_data",
          "data": {
            "text/plain": [
              "Downloading:   0%|          | 0.00/2.16k [00:00<?, ?B/s]"
            ],
            "application/vnd.jupyter.widget-view+json": {
              "version_major": 2,
              "version_minor": 0,
              "model_id": "03b0d5cc2cf04acc8ddfcafe2f6af674"
            }
          },
          "metadata": {}
        }
      ],
      "source": [
        "wer_metric = load_metric(\"wer\")\n",
        "cer_metric = load_metric(\"cer\")"
      ]
    },
    {
      "cell_type": "code",
      "execution_count": null,
      "metadata": {
        "id": "Jl0P3HZqwP3x"
      },
      "outputs": [],
      "source": [
        "def compute_metrics(pred):\n",
        "    pred_logits = pred.predictions\n",
        "    pred_ids = np.argmax(pred_logits, axis=-1)\n",
        "\n",
        "    pred.label_ids[pred.label_ids == -100] = processor.tokenizer.pad_token_id\n",
        "\n",
        "    pred_str = processor.batch_decode(pred_ids)\n",
        "    # we do not want to group tokens when computing the metrics\n",
        "    label_str = processor.batch_decode(pred.label_ids, group_tokens=False)\n",
        "\n",
        "    wer = wer_metric.compute(predictions=pred_str, references=label_str)\n",
        "    cer = cer_metric.compute(predictions=pred_str, references=label_str)\n",
        "    return {\"wer\": wer, \"cer\":cer}"
      ]
    },
    {
      "cell_type": "markdown",
      "source": [
        "Now, we can load the pretrained checkpoint of [Wav2Vec2-XLS-R-300M](https://huggingface.co/facebook/wav2vec2-xls-r-300m). The tokenizer's `pad_token_id` must be to define the model's `pad_token_id` or in the case of `Wav2Vec2ForCTC` also CTC's *blank token* ${}^2$. To save GPU memory, we enable PyTorch's [gradient checkpointing](https://pytorch.org/docs/stable/checkpoint.html) and also set the loss reduction to \"*mean*\".\n",
        "\n",
        "Because the dataset is quite small (~5h of training data), fine-tuning Facebook's [wav2vec2-xls-r-300m checkpoint](https://huggingface.co/facebook/wav2vec2-xls-r-300m) requires some hyper-parameter tuning. Therefore, I had to play around a bit with different values for dropout, [SpecAugment](https://arxiv.org/abs/1904.08779)'s masking dropout rate, layer dropout, and the learning rate until training seemed to be stable enough. \n",
        "\n",
        "**Note**: When using this notebook to train XLS-R on another language those hyper-parameter settings might not work very well. Feel free to adapt those depending on your use case. "
      ],
      "metadata": {
        "id": "eWUuab4crKOl"
      }
    },
    {
      "cell_type": "code",
      "source": [
        "from transformers import EarlyStoppingCallback\n",
        "import bitsandbytes as bnb\n",
        "from transformers.trainer_pt_utils import get_parameter_names\n",
        "from transformers import AutoModelForCTC\n",
        "training_callbacks = EarlyStoppingCallback(3)\n",
        "\n",
        "model = AutoModelForCTC.from_pretrained(\n",
        "    \"facebook/wav2vec2-xls-r-300m\",\n",
        "    attention_dropout=0.0,\n",
        "    hidden_dropout=0.1,\n",
        "    feat_proj_dropout=0.05,\n",
        "    mask_time_prob=0.15,\n",
        "    mask_feature_prob=0.15,\n",
        "    layerdrop=0.05,\n",
        "    ctc_loss_reduction=\"mean\",\n",
        "    ctc_zero_infinity = True,\n",
        "    pad_token_id=processor.tokenizer.pad_token_id,\n",
        "    vocab_size=len(processor.tokenizer),\n",
        ")"
      ],
      "metadata": {
        "colab": {
          "base_uri": "https://localhost:8080/",
          "height": 156,
          "referenced_widgets": [
            "f36e30c2fee5430584dd4e794daa6d7c",
            "edc5fa6023e14afa831c4d84adb48fcc",
            "bd114da866e744eeb7bbc82cfbce501a",
            "f2dfc415659546808f77f63ace5174f0",
            "45f50c0372b54c4dbdbb052c51276319",
            "9c11653892de4e4987fe81bfdafc46d2",
            "9b5a6c9bb9784f4f999c05cecebe203a",
            "85cfa4cb0595453c83582f0e397675c7",
            "235f934642cb4ab282d02ad9c547c57d",
            "fd788d08a2da4e88be84e41b8386b1eb",
            "77116a19f8cd405aa755bacbc47de663"
          ]
        },
        "id": "svtLEeZyTFDC",
        "outputId": "fd364a01-410b-46cf-a773-2c56623b5d70"
      },
      "execution_count": null,
      "outputs": [
        {
          "output_type": "display_data",
          "data": {
            "text/plain": [
              "Downloading:   0%|          | 0.00/1.18G [00:00<?, ?B/s]"
            ],
            "application/vnd.jupyter.widget-view+json": {
              "version_major": 2,
              "version_minor": 0,
              "model_id": "f36e30c2fee5430584dd4e794daa6d7c"
            }
          },
          "metadata": {}
        },
        {
          "output_type": "stream",
          "name": "stderr",
          "text": [
            "Some weights of the model checkpoint at facebook/wav2vec2-xls-r-300m were not used when initializing Wav2Vec2ForCTC: ['project_hid.bias', 'quantizer.weight_proj.weight', 'quantizer.codevectors', 'project_q.bias', 'quantizer.weight_proj.bias', 'project_hid.weight', 'project_q.weight']\n",
            "- This IS expected if you are initializing Wav2Vec2ForCTC from the checkpoint of a model trained on another task or with another architecture (e.g. initializing a BertForSequenceClassification model from a BertForPreTraining model).\n",
            "- This IS NOT expected if you are initializing Wav2Vec2ForCTC from the checkpoint of a model that you expect to be exactly identical (initializing a BertForSequenceClassification model from a BertForSequenceClassification model).\n",
            "Some weights of Wav2Vec2ForCTC were not initialized from the model checkpoint at facebook/wav2vec2-xls-r-300m and are newly initialized: ['lm_head.weight', 'lm_head.bias']\n",
            "You should probably TRAIN this model on a down-stream task to be able to use it for predictions and inference.\n"
          ]
        }
      ]
    },
    {
      "cell_type": "code",
      "source": [
        "model.freeze_feature_encoder()"
      ],
      "metadata": {
        "id": "zo4agzhjtA-_"
      },
      "execution_count": null,
      "outputs": []
    },
    {
      "cell_type": "markdown",
      "source": [
        "In a final step, we define all parameters related to training. \n",
        "To give more explanation on some of the parameters:\n",
        "\n",
        "- `learning_rate` and ` num_train_epochs` were heuristically tuned until fine-tuning has become stable. \n",
        "\n",
        "For more explanations on other parameters, one can take a look at the [docs](https://huggingface.co/transformers/master/main_classes/trainer.html?highlight=trainer#trainingarguments).\n",
        "\n",
        "\n",
        "**Note**: If one does not want to upload the model checkpoints to the hub, simply set `push_to_hub=False`."
      ],
      "metadata": {
        "id": "wlFRVDFgr_kG"
      }
    },
    {
      "cell_type": "code",
      "source": [
        "training_args = TrainingArguments(\n",
        "    output_dir=repo_name,\n",
        "    group_by_length=True,\n",
        "    per_device_train_batch_size=2,\n",
        "    gradient_accumulation_steps=4,\n",
        "    evaluation_strategy=\"steps\",\n",
        "    num_train_epochs=40,\n",
        "    gradient_checkpointing=True,\n",
        "    fp16=True,\n",
        "    save_steps=500,\n",
        "    eval_steps=500,\n",
        "    logging_steps=500,\n",
        "    learning_rate=3e-5,\n",
        "    load_best_model_at_end = True,\n",
        "    greater_is_better=False,\n",
        "    warmup_steps=500,\n",
        "    save_total_limit=2,\n",
        "    push_to_hub=True,\n",
        "    report_to=\"all\",\n",
        ")"
      ],
      "metadata": {
        "id": "LkVYavBzTnyj"
      },
      "execution_count": null,
      "outputs": []
    },
    {
      "cell_type": "code",
      "source": [
        "decay_parameters = get_parameter_names(model, [torch.nn.LayerNorm])\n",
        "decay_parameters = [name for name in decay_parameters if \"bias\" not in name]\n",
        "optimizer_grouped_parameters = [\n",
        "    {\n",
        "        \"params\": [p for n, p in model.named_parameters() if n in decay_parameters],\n",
        "        \"weight_decay\": training_args.weight_decay,\n",
        "    },\n",
        "    {\n",
        "        \"params\": [p for n, p in model.named_parameters() if n not in decay_parameters],\n",
        "        \"weight_decay\": 0.0,\n",
        "    },\n",
        "]\n",
        "optimizer = bnb.optim.Adam8bit(\n",
        "    params=optimizer_grouped_parameters,\n",
        "    lr=training_args.learning_rate,\n",
        "    betas=(training_args.adam_beta1, training_args.adam_beta2),\n",
        "    eps=training_args.adam_epsilon,\n",
        ")\n",
        "\n",
        "optimizers = (optimizer, None)\n",
        "\n",
        "trainer = Trainer(\n",
        "    model=model,\n",
        "    data_collator=data_collator,\n",
        "    args=training_args,\n",
        "    compute_metrics=compute_metrics,\n",
        "    train_dataset=tonga_train,\n",
        "    eval_dataset=tonga_dev,\n",
        "    tokenizer=processor.feature_extractor,\n",
        "    optimizers=optimizers\n",
        ")"
      ],
      "metadata": {
        "id": "b2crHYpATn1e"
      },
      "execution_count": null,
      "outputs": []
    },
    {
      "cell_type": "markdown",
      "source": [
        "Now, all instances can be passed to Trainer and we are ready to start training!"
      ],
      "metadata": {
        "id": "BPGEu1_Ps8ea"
      }
    },
    {
      "cell_type": "code",
      "source": [
        "# A Call to train the model\n",
        "trainer.train()"
      ],
      "metadata": {
        "id": "zDCf5gprTn4Z"
      },
      "execution_count": null,
      "outputs": []
    },
    {
      "cell_type": "markdown",
      "source": [
        "We then upload the result of the training to the 🤗 Hub"
      ],
      "metadata": {
        "id": "zFnjdf0htIfZ"
      }
    },
    {
      "cell_type": "code",
      "source": [
        "trainer.push_to_hub()"
      ],
      "metadata": {
        "id": "8hK4wDbYudEH"
      },
      "execution_count": null,
      "outputs": []
    },
    {
      "cell_type": "markdown",
      "source": [
        "To load this model, you can run the following code"
      ],
      "metadata": {
        "id": "CbOu9vCxtTNE"
      }
    },
    {
      "cell_type": "code",
      "source": [
        "from transformers import AutoModelForCTC, Wav2Vec2Processor\n",
        "\n",
        "model = AutoModelForCTC.from_pretrained(\"kalisia/wav2vec2-xls-r-300m-tonga-test_v2\")\n",
        "processor = Wav2Vec2Processor.from_pretrained(\"kalisia/wav2vec2-xls-r-300m-tonga-test_v2\")"
      ],
      "metadata": {
        "id": "aOx5hdTBtZfU"
      },
      "execution_count": null,
      "outputs": []
    },
    {
      "cell_type": "markdown",
      "source": [
        "# Evaluation\n",
        "\n",
        "Let's first load the pretrained checkpoint."
      ],
      "metadata": {
        "id": "HnZZh8X1tcpC"
      }
    },
    {
      "cell_type": "code",
      "execution_count": null,
      "metadata": {
        "id": "FfudsEtQ_8ID",
        "colab": {
          "base_uri": "https://localhost:8080/"
        },
        "outputId": "0911b151-b6f3-42b0-9b3a-edb819444c62"
      },
      "outputs": [
        {
          "output_type": "stream",
          "name": "stderr",
          "text": [
            "Special tokens have been added in the vocabulary, make sure the associated word embeddings are fine-tuned or trained.\n"
          ]
        }
      ],
      "source": [
        "from transformers import AutoModelForCTC, Wav2Vec2Processor\n",
        "\n",
        "model = AutoModelForCTC.from_pretrained(\"kalisia/wav2vec2-xls-r-300m-tonga-test_v2\")\n",
        "processor = Wav2Vec2Processor.from_pretrained(\"kalisia/wav2vec2-xls-r-300m-tonga-test_v2\")"
      ]
    },
    {
      "cell_type": "markdown",
      "source": [
        "We then load the eval.py which is used to calculate the wer and cer, as well as generate a predictions text file of our test data as the reference text file."
      ],
      "metadata": {
        "id": "F2oF1mRKt3uW"
      }
    },
    {
      "cell_type": "code",
      "source": [
        "!wget https://raw.githubusercontent.com/csikasote/xls-r-bem-exp/main/eval.py"
      ],
      "metadata": {
        "colab": {
          "base_uri": "https://localhost:8080/"
        },
        "id": "O0WC-E7yRY0n",
        "outputId": "61da5115-bff9-4321-ca62-f23981cc9788"
      },
      "execution_count": null,
      "outputs": [
        {
          "output_type": "stream",
          "name": "stdout",
          "text": [
            "--2022-12-09 11:57:33--  https://raw.githubusercontent.com/csikasote/xls-r-bem-exp/main/eval.py\n",
            "Resolving raw.githubusercontent.com (raw.githubusercontent.com)... 185.199.109.133, 185.199.111.133, 185.199.108.133, ...\n",
            "Connecting to raw.githubusercontent.com (raw.githubusercontent.com)|185.199.109.133|:443... connected.\n",
            "HTTP request sent, awaiting response... 200 OK\n",
            "Length: 4992 (4.9K) [text/plain]\n",
            "Saving to: ‘eval.py’\n",
            "\n",
            "eval.py             100%[===================>]   4.88K  --.-KB/s    in 0s      \n",
            "\n",
            "2022-12-09 11:57:34 (71.7 MB/s) - ‘eval.py’ saved [4992/4992]\n",
            "\n"
          ]
        }
      ]
    },
    {
      "cell_type": "code",
      "source": [
        "!python /content/eval.py \\\n",
        "  --model_id /content/wav2vec2-xls-r-300m-tonga-test_v2 \\\n",
        "  --dataset Tongaspeech \\\n",
        "  --config toi \\\n",
        "  --split test \\\n",
        "  --path /content/test.csv  \\\n",
        "  --log_outputs"
      ],
      "metadata": {
        "id": "_I_QvW-bRYtv",
        "colab": {
          "base_uri": "https://localhost:8080/"
        },
        "outputId": "d53a2b35-b15f-4ee6-d215-4509f3dc56ff"
      },
      "execution_count": null,
      "outputs": [
        {
          "output_type": "stream",
          "name": "stdout",
          "text": [
            "WARNING:datasets.builder:Using custom data configuration default-c25b872776880bd0\n",
            "Downloading and preparing dataset csv/default to /root/.cache/huggingface/datasets/csv/default-c25b872776880bd0/0.0.0/6b9057d9e23d9d8a2f05b985917a0da84d70c5dae3d22ddd8a3f22fb01c69d9e...\n",
            "\r  0% 0/1 [00:00<?, ?it/s]\r100% 1/1 [00:00<00:00, 9754.20it/s]\n",
            "\r  0% 0/1 [00:00<?, ?it/s]\r100% 1/1 [00:00<00:00, 1235.07it/s]\n",
            "Dataset csv downloaded and prepared to /root/.cache/huggingface/datasets/csv/default-c25b872776880bd0/0.0.0/6b9057d9e23d9d8a2f05b985917a0da84d70c5dae3d22ddd8a3f22fb01c69d9e. Subsequent calls will reuse this data.\n",
            "\r  0% 0/1 [00:00<?, ?it/s]\r100% 1/1 [00:00<00:00, 971.80it/s]\n",
            "Special tokens have been added in the vocabulary, make sure the associated word embeddings are fine-tuned or trained.\n",
            "WARNING:datasets.fingerprint:Parameter 'function'=<function main.<locals>.map_to_pred at 0x7f0adec1e790> of the transform datasets.arrow_dataset.Dataset._map_single couldn't be hashed properly, a random hash was used instead. Make sure your transforms and parameters are serializable with pickle or dill for the dataset fingerprinting and caching to work. If you reuse this transform, the caching mechanism will consider it to be different from the previous calls and recompute everything. This warning is only showed once. Subsequent hashing failures won't be showed.\n",
            "9ex [00:07,  4.27ex/s]/usr/local/lib/python3.8/dist-packages/transformers/pipelines/base.py:997: UserWarning: You seem to be using the pipelines sequentially on GPU. In order to maximize efficiency please use a dataset\n",
            "  warnings.warn(\n",
            "453ex [01:09,  6.55ex/s]\n",
            "Downloading: 4.48kB [00:00, 5.48MB/s]       \n",
            "Downloading: 5.59kB [00:00, 6.82MB/s]       \n",
            "WER: 1.0801509769094138\n",
            "CER: 2.6722664045512765\n",
            "453ex [00:00, 20706.86ex/s]\n"
          ]
        }
      ]
    },
    {
      "cell_type": "markdown",
      "source": [
        "Since the blank token allows the model to predict a word, such as \"hello\" by forcing it to insert the blank token between the two l's. A CTC-conform prediction of \"hello\" of our model would be [PAD] [PAD] \"h\" \"e\" \"e\" \"l\" \"l\" [PAD] \"l\" \"o\" \"o\" [PAD]. Hence our wer and cer were extremely high due to the presence of the [PAD] token. Therefor, we opted to use an alternative solution to calculate our errors.\n",
        "\n",
        "We used [Levenshtein distance](https://en.wikipedia.org/wiki/Levenshtein_distance) and the [Damerau-Levenshtein distance](https://en.wikipedia.org/wiki/Damerau%E2%80%93Levenshtein_distance#:~:text=Informally%2C%20the%20Damerau%E2%80%93Levenshtein%20distance,one%20word%20into%20the%20other.). Before performing the calculation, we needed to get rid of the [PAD] and [UNK] tokens that were generated with the predicted text. Then we calculated the wer and cer. "
      ],
      "metadata": {
        "id": "FMcHMDx3upwt"
      }
    },
    {
      "cell_type": "code",
      "source": [
        "# Open the predicted text file and read the text\n",
        "with open('/content/log_Tongaspeech_toi_test_predictions.txt', 'r') as f:\n",
        "    predicted_text = f.read()\n",
        "\n",
        "# Open the reference text file and read the text\n",
        "with open('/content/log_Tongaspeech_toi_test_targets.txt', 'r') as f:\n",
        "    reference_text = f.read()\n"
      ],
      "metadata": {
        "id": "YJTXOWC-9C8F"
      },
      "execution_count": null,
      "outputs": []
    },
    {
      "cell_type": "code",
      "source": [
        "# Tokenize the predicted and reference text\n",
        "predicted_tokens = tokenizer.encode(predicted_text)\n",
        "reference_tokens = tokenizer.encode(reference_text)\n"
      ],
      "metadata": {
        "id": "yZbPHjQ09JSt"
      },
      "execution_count": null,
      "outputs": []
    },
    {
      "cell_type": "code",
      "source": [
        "# Filter out the [PAD] and [UNK] tokens\n",
        "predicted_tokens = [token for token in predicted_tokens if token not in ['[PAD]', '[UNK]']]\n",
        "reference_tokens = [token for token in reference_tokens if token not in ['[PAD]', '[UNK]']]\n"
      ],
      "metadata": {
        "id": "u3kr9e8A91dC"
      },
      "execution_count": null,
      "outputs": []
    },
    {
      "cell_type": "code",
      "source": [
        "# Import the Levenshtein distance function\n",
        "from Levenshtein import distance\n",
        "\n",
        "# Calculate the number of insertion, deletion, and substitution errors\n",
        "errors = distance(predicted_tokens, reference_tokens)\n"
      ],
      "metadata": {
        "id": "z5GxH_fA97rv"
      },
      "execution_count": null,
      "outputs": []
    },
    {
      "cell_type": "code",
      "source": [
        "# Calculate the WER\n",
        "wer = errors / len(reference_tokens) * 100\n",
        "print(wer)\n"
      ],
      "metadata": {
        "colab": {
          "base_uri": "https://localhost:8080/"
        },
        "id": "7sOUbI2S-Skk",
        "outputId": "e6afa68e-e06e-4712-ed82-1ffb0f9cb0be"
      },
      "execution_count": null,
      "outputs": [
        {
          "output_type": "stream",
          "name": "stdout",
          "text": [
            "10.038417954174843\n"
          ]
        }
      ]
    },
    {
      "cell_type": "code",
      "source": [
        "!pip install pyxDamerauLevenshtein\n"
      ],
      "metadata": {
        "colab": {
          "base_uri": "https://localhost:8080/"
        },
        "id": "oxoruNDH-xno",
        "outputId": "c24f96ef-e3f4-4c10-ab9b-68e401bfe49d"
      },
      "execution_count": null,
      "outputs": [
        {
          "output_type": "stream",
          "name": "stdout",
          "text": [
            "Looking in indexes: https://pypi.org/simple, https://us-python.pkg.dev/colab-wheels/public/simple/\n",
            "Collecting pyxDamerauLevenshtein\n",
            "  Downloading pyxDamerauLevenshtein-1.7.1.tar.gz (39 kB)\n",
            "  Installing build dependencies ... \u001b[?25l\u001b[?25hdone\n",
            "  Getting requirements to build wheel ... \u001b[?25l\u001b[?25hdone\n",
            "    Preparing wheel metadata ... \u001b[?25l\u001b[?25hdone\n",
            "Building wheels for collected packages: pyxDamerauLevenshtein\n",
            "  Building wheel for pyxDamerauLevenshtein (PEP 517) ... \u001b[?25l\u001b[?25hdone\n",
            "  Created wheel for pyxDamerauLevenshtein: filename=pyxDamerauLevenshtein-1.7.1-cp38-cp38-linux_x86_64.whl size=73347 sha256=f1e52cd4b9ee3f78cf981b98871bf01abf6e05a9e4049bac58f39d4dcc77235d\n",
            "  Stored in directory: /root/.cache/pip/wheels/da/8f/65/a5ea1a7e769ec74f616fdeba3385e17c907fe3f62bb6d6c311\n",
            "Successfully built pyxDamerauLevenshtein\n",
            "Installing collected packages: pyxDamerauLevenshtein\n",
            "Successfully installed pyxDamerauLevenshtein-1.7.1\n"
          ]
        }
      ]
    },
    {
      "cell_type": "code",
      "source": [
        "# Import the Damerau-Levenshtein distance function\n",
        "from pyxdameraulevenshtein import damerau_levenshtein_distance\n",
        "\n",
        "# Calculate the number of insertion, deletion, and substitution errors\n",
        "errors = damerau_levenshtein_distance(predicted_tokens, reference_tokens)\n"
      ],
      "metadata": {
        "id": "LXn492aa-XOE"
      },
      "execution_count": null,
      "outputs": []
    },
    {
      "cell_type": "code",
      "source": [
        "wer = errors / len(reference_tokens) * 100\n",
        "print(wer)"
      ],
      "metadata": {
        "colab": {
          "base_uri": "https://localhost:8080/"
        },
        "id": "jrIlzCnj-fEO",
        "outputId": "40e9abd3-4b95-45d6-acd8-bb59ea3af68a"
      },
      "execution_count": null,
      "outputs": [
        {
          "output_type": "stream",
          "name": "stdout",
          "text": [
            "10.01077913822172\n"
          ]
        }
      ]
    }
  ],
  "metadata": {
    "accelerator": "GPU",
    "colab": {
      "machine_shape": "hm",
      "provenance": [],
      "include_colab_link": true
    },
    "kernelspec": {
      "display_name": "Python 3",
      "name": "python3"
    },
    "language_info": {
      "name": "python"
    },
    "widgets": {
      "application/vnd.jupyter.widget-state+json": {
        "e85a8f62bb18407aaafbce6c837394f9": {
          "model_module": "@jupyter-widgets/controls",
          "model_name": "HBoxModel",
          "model_module_version": "1.5.0",
          "state": {
            "_dom_classes": [],
            "_model_module": "@jupyter-widgets/controls",
            "_model_module_version": "1.5.0",
            "_model_name": "HBoxModel",
            "_view_count": null,
            "_view_module": "@jupyter-widgets/controls",
            "_view_module_version": "1.5.0",
            "_view_name": "HBoxView",
            "box_style": "",
            "children": [
              "IPY_MODEL_62c9ad9736054f0caf798899f60cb87f",
              "IPY_MODEL_e81917ad17894934a7a53eb8935cfbc1",
              "IPY_MODEL_0ec052d91f2e4892a7d92efdb64b2146"
            ],
            "layout": "IPY_MODEL_cd999b027ab34531ac0d422c98fffd2f"
          }
        },
        "62c9ad9736054f0caf798899f60cb87f": {
          "model_module": "@jupyter-widgets/controls",
          "model_name": "HTMLModel",
          "model_module_version": "1.5.0",
          "state": {
            "_dom_classes": [],
            "_model_module": "@jupyter-widgets/controls",
            "_model_module_version": "1.5.0",
            "_model_name": "HTMLModel",
            "_view_count": null,
            "_view_module": "@jupyter-widgets/controls",
            "_view_module_version": "1.5.0",
            "_view_name": "HTMLView",
            "description": "",
            "description_tooltip": null,
            "layout": "IPY_MODEL_80e62dab556a493daa81bd130fd430c5",
            "placeholder": "​",
            "style": "IPY_MODEL_f5dd470296c4433bbec260c812fd128d",
            "value": "Downloading: "
          }
        },
        "e81917ad17894934a7a53eb8935cfbc1": {
          "model_module": "@jupyter-widgets/controls",
          "model_name": "FloatProgressModel",
          "model_module_version": "1.5.0",
          "state": {
            "_dom_classes": [],
            "_model_module": "@jupyter-widgets/controls",
            "_model_module_version": "1.5.0",
            "_model_name": "FloatProgressModel",
            "_view_count": null,
            "_view_module": "@jupyter-widgets/controls",
            "_view_module_version": "1.5.0",
            "_view_name": "ProgressView",
            "bar_style": "success",
            "description": "",
            "description_tooltip": null,
            "layout": "IPY_MODEL_720236c3de4a40e487e42f9a42a4969f",
            "max": 1901,
            "min": 0,
            "orientation": "horizontal",
            "style": "IPY_MODEL_a48ba7ce6c8a4a0fa1b8d08cc96fe9dd",
            "value": 1901
          }
        },
        "0ec052d91f2e4892a7d92efdb64b2146": {
          "model_module": "@jupyter-widgets/controls",
          "model_name": "HTMLModel",
          "model_module_version": "1.5.0",
          "state": {
            "_dom_classes": [],
            "_model_module": "@jupyter-widgets/controls",
            "_model_module_version": "1.5.0",
            "_model_name": "HTMLModel",
            "_view_count": null,
            "_view_module": "@jupyter-widgets/controls",
            "_view_module_version": "1.5.0",
            "_view_name": "HTMLView",
            "description": "",
            "description_tooltip": null,
            "layout": "IPY_MODEL_3fc83bc15c444f748e8d240ae23fd2fe",
            "placeholder": "​",
            "style": "IPY_MODEL_79a25b87790740ae889ebf0c38af9fc8",
            "value": " 4.48k/? [00:00&lt;00:00, 166kB/s]"
          }
        },
        "cd999b027ab34531ac0d422c98fffd2f": {
          "model_module": "@jupyter-widgets/base",
          "model_name": "LayoutModel",
          "model_module_version": "1.2.0",
          "state": {
            "_model_module": "@jupyter-widgets/base",
            "_model_module_version": "1.2.0",
            "_model_name": "LayoutModel",
            "_view_count": null,
            "_view_module": "@jupyter-widgets/base",
            "_view_module_version": "1.2.0",
            "_view_name": "LayoutView",
            "align_content": null,
            "align_items": null,
            "align_self": null,
            "border": null,
            "bottom": null,
            "display": null,
            "flex": null,
            "flex_flow": null,
            "grid_area": null,
            "grid_auto_columns": null,
            "grid_auto_flow": null,
            "grid_auto_rows": null,
            "grid_column": null,
            "grid_gap": null,
            "grid_row": null,
            "grid_template_areas": null,
            "grid_template_columns": null,
            "grid_template_rows": null,
            "height": null,
            "justify_content": null,
            "justify_items": null,
            "left": null,
            "margin": null,
            "max_height": null,
            "max_width": null,
            "min_height": null,
            "min_width": null,
            "object_fit": null,
            "object_position": null,
            "order": null,
            "overflow": null,
            "overflow_x": null,
            "overflow_y": null,
            "padding": null,
            "right": null,
            "top": null,
            "visibility": null,
            "width": null
          }
        },
        "80e62dab556a493daa81bd130fd430c5": {
          "model_module": "@jupyter-widgets/base",
          "model_name": "LayoutModel",
          "model_module_version": "1.2.0",
          "state": {
            "_model_module": "@jupyter-widgets/base",
            "_model_module_version": "1.2.0",
            "_model_name": "LayoutModel",
            "_view_count": null,
            "_view_module": "@jupyter-widgets/base",
            "_view_module_version": "1.2.0",
            "_view_name": "LayoutView",
            "align_content": null,
            "align_items": null,
            "align_self": null,
            "border": null,
            "bottom": null,
            "display": null,
            "flex": null,
            "flex_flow": null,
            "grid_area": null,
            "grid_auto_columns": null,
            "grid_auto_flow": null,
            "grid_auto_rows": null,
            "grid_column": null,
            "grid_gap": null,
            "grid_row": null,
            "grid_template_areas": null,
            "grid_template_columns": null,
            "grid_template_rows": null,
            "height": null,
            "justify_content": null,
            "justify_items": null,
            "left": null,
            "margin": null,
            "max_height": null,
            "max_width": null,
            "min_height": null,
            "min_width": null,
            "object_fit": null,
            "object_position": null,
            "order": null,
            "overflow": null,
            "overflow_x": null,
            "overflow_y": null,
            "padding": null,
            "right": null,
            "top": null,
            "visibility": null,
            "width": null
          }
        },
        "f5dd470296c4433bbec260c812fd128d": {
          "model_module": "@jupyter-widgets/controls",
          "model_name": "DescriptionStyleModel",
          "model_module_version": "1.5.0",
          "state": {
            "_model_module": "@jupyter-widgets/controls",
            "_model_module_version": "1.5.0",
            "_model_name": "DescriptionStyleModel",
            "_view_count": null,
            "_view_module": "@jupyter-widgets/base",
            "_view_module_version": "1.2.0",
            "_view_name": "StyleView",
            "description_width": ""
          }
        },
        "720236c3de4a40e487e42f9a42a4969f": {
          "model_module": "@jupyter-widgets/base",
          "model_name": "LayoutModel",
          "model_module_version": "1.2.0",
          "state": {
            "_model_module": "@jupyter-widgets/base",
            "_model_module_version": "1.2.0",
            "_model_name": "LayoutModel",
            "_view_count": null,
            "_view_module": "@jupyter-widgets/base",
            "_view_module_version": "1.2.0",
            "_view_name": "LayoutView",
            "align_content": null,
            "align_items": null,
            "align_self": null,
            "border": null,
            "bottom": null,
            "display": null,
            "flex": null,
            "flex_flow": null,
            "grid_area": null,
            "grid_auto_columns": null,
            "grid_auto_flow": null,
            "grid_auto_rows": null,
            "grid_column": null,
            "grid_gap": null,
            "grid_row": null,
            "grid_template_areas": null,
            "grid_template_columns": null,
            "grid_template_rows": null,
            "height": null,
            "justify_content": null,
            "justify_items": null,
            "left": null,
            "margin": null,
            "max_height": null,
            "max_width": null,
            "min_height": null,
            "min_width": null,
            "object_fit": null,
            "object_position": null,
            "order": null,
            "overflow": null,
            "overflow_x": null,
            "overflow_y": null,
            "padding": null,
            "right": null,
            "top": null,
            "visibility": null,
            "width": null
          }
        },
        "a48ba7ce6c8a4a0fa1b8d08cc96fe9dd": {
          "model_module": "@jupyter-widgets/controls",
          "model_name": "ProgressStyleModel",
          "model_module_version": "1.5.0",
          "state": {
            "_model_module": "@jupyter-widgets/controls",
            "_model_module_version": "1.5.0",
            "_model_name": "ProgressStyleModel",
            "_view_count": null,
            "_view_module": "@jupyter-widgets/base",
            "_view_module_version": "1.2.0",
            "_view_name": "StyleView",
            "bar_color": null,
            "description_width": ""
          }
        },
        "3fc83bc15c444f748e8d240ae23fd2fe": {
          "model_module": "@jupyter-widgets/base",
          "model_name": "LayoutModel",
          "model_module_version": "1.2.0",
          "state": {
            "_model_module": "@jupyter-widgets/base",
            "_model_module_version": "1.2.0",
            "_model_name": "LayoutModel",
            "_view_count": null,
            "_view_module": "@jupyter-widgets/base",
            "_view_module_version": "1.2.0",
            "_view_name": "LayoutView",
            "align_content": null,
            "align_items": null,
            "align_self": null,
            "border": null,
            "bottom": null,
            "display": null,
            "flex": null,
            "flex_flow": null,
            "grid_area": null,
            "grid_auto_columns": null,
            "grid_auto_flow": null,
            "grid_auto_rows": null,
            "grid_column": null,
            "grid_gap": null,
            "grid_row": null,
            "grid_template_areas": null,
            "grid_template_columns": null,
            "grid_template_rows": null,
            "height": null,
            "justify_content": null,
            "justify_items": null,
            "left": null,
            "margin": null,
            "max_height": null,
            "max_width": null,
            "min_height": null,
            "min_width": null,
            "object_fit": null,
            "object_position": null,
            "order": null,
            "overflow": null,
            "overflow_x": null,
            "overflow_y": null,
            "padding": null,
            "right": null,
            "top": null,
            "visibility": null,
            "width": null
          }
        },
        "79a25b87790740ae889ebf0c38af9fc8": {
          "model_module": "@jupyter-widgets/controls",
          "model_name": "DescriptionStyleModel",
          "model_module_version": "1.5.0",
          "state": {
            "_model_module": "@jupyter-widgets/controls",
            "_model_module_version": "1.5.0",
            "_model_name": "DescriptionStyleModel",
            "_view_count": null,
            "_view_module": "@jupyter-widgets/base",
            "_view_module_version": "1.2.0",
            "_view_name": "StyleView",
            "description_width": ""
          }
        },
        "03b0d5cc2cf04acc8ddfcafe2f6af674": {
          "model_module": "@jupyter-widgets/controls",
          "model_name": "HBoxModel",
          "model_module_version": "1.5.0",
          "state": {
            "_dom_classes": [],
            "_model_module": "@jupyter-widgets/controls",
            "_model_module_version": "1.5.0",
            "_model_name": "HBoxModel",
            "_view_count": null,
            "_view_module": "@jupyter-widgets/controls",
            "_view_module_version": "1.5.0",
            "_view_name": "HBoxView",
            "box_style": "",
            "children": [
              "IPY_MODEL_9fa61671d9244c72af4439d81f9b1b6b",
              "IPY_MODEL_8326e9306f1f45edaa0323f4289d7385",
              "IPY_MODEL_70368a3860714f82aaf434f7296eec7e"
            ],
            "layout": "IPY_MODEL_a41a402180d647958e9aa52595d2c99e"
          }
        },
        "9fa61671d9244c72af4439d81f9b1b6b": {
          "model_module": "@jupyter-widgets/controls",
          "model_name": "HTMLModel",
          "model_module_version": "1.5.0",
          "state": {
            "_dom_classes": [],
            "_model_module": "@jupyter-widgets/controls",
            "_model_module_version": "1.5.0",
            "_model_name": "HTMLModel",
            "_view_count": null,
            "_view_module": "@jupyter-widgets/controls",
            "_view_module_version": "1.5.0",
            "_view_name": "HTMLView",
            "description": "",
            "description_tooltip": null,
            "layout": "IPY_MODEL_ad873a4b9d394f80b5fb721cadf35b8d",
            "placeholder": "​",
            "style": "IPY_MODEL_db68390b62014886aeec2bfa37b01001",
            "value": "Downloading: "
          }
        },
        "8326e9306f1f45edaa0323f4289d7385": {
          "model_module": "@jupyter-widgets/controls",
          "model_name": "FloatProgressModel",
          "model_module_version": "1.5.0",
          "state": {
            "_dom_classes": [],
            "_model_module": "@jupyter-widgets/controls",
            "_model_module_version": "1.5.0",
            "_model_name": "FloatProgressModel",
            "_view_count": null,
            "_view_module": "@jupyter-widgets/controls",
            "_view_module_version": "1.5.0",
            "_view_name": "ProgressView",
            "bar_style": "success",
            "description": "",
            "description_tooltip": null,
            "layout": "IPY_MODEL_331d09d6b9e84a3f9d28291b0ab324e9",
            "max": 2160,
            "min": 0,
            "orientation": "horizontal",
            "style": "IPY_MODEL_f182acd50ac84fcc98a24a52dd0b43f5",
            "value": 2160
          }
        },
        "70368a3860714f82aaf434f7296eec7e": {
          "model_module": "@jupyter-widgets/controls",
          "model_name": "HTMLModel",
          "model_module_version": "1.5.0",
          "state": {
            "_dom_classes": [],
            "_model_module": "@jupyter-widgets/controls",
            "_model_module_version": "1.5.0",
            "_model_name": "HTMLModel",
            "_view_count": null,
            "_view_module": "@jupyter-widgets/controls",
            "_view_module_version": "1.5.0",
            "_view_name": "HTMLView",
            "description": "",
            "description_tooltip": null,
            "layout": "IPY_MODEL_7192889b5b2f4ddd911b4f074fe16841",
            "placeholder": "​",
            "style": "IPY_MODEL_8eaf15be8b8c440386cdc9ef31f29053",
            "value": " 5.59k/? [00:00&lt;00:00, 200kB/s]"
          }
        },
        "a41a402180d647958e9aa52595d2c99e": {
          "model_module": "@jupyter-widgets/base",
          "model_name": "LayoutModel",
          "model_module_version": "1.2.0",
          "state": {
            "_model_module": "@jupyter-widgets/base",
            "_model_module_version": "1.2.0",
            "_model_name": "LayoutModel",
            "_view_count": null,
            "_view_module": "@jupyter-widgets/base",
            "_view_module_version": "1.2.0",
            "_view_name": "LayoutView",
            "align_content": null,
            "align_items": null,
            "align_self": null,
            "border": null,
            "bottom": null,
            "display": null,
            "flex": null,
            "flex_flow": null,
            "grid_area": null,
            "grid_auto_columns": null,
            "grid_auto_flow": null,
            "grid_auto_rows": null,
            "grid_column": null,
            "grid_gap": null,
            "grid_row": null,
            "grid_template_areas": null,
            "grid_template_columns": null,
            "grid_template_rows": null,
            "height": null,
            "justify_content": null,
            "justify_items": null,
            "left": null,
            "margin": null,
            "max_height": null,
            "max_width": null,
            "min_height": null,
            "min_width": null,
            "object_fit": null,
            "object_position": null,
            "order": null,
            "overflow": null,
            "overflow_x": null,
            "overflow_y": null,
            "padding": null,
            "right": null,
            "top": null,
            "visibility": null,
            "width": null
          }
        },
        "ad873a4b9d394f80b5fb721cadf35b8d": {
          "model_module": "@jupyter-widgets/base",
          "model_name": "LayoutModel",
          "model_module_version": "1.2.0",
          "state": {
            "_model_module": "@jupyter-widgets/base",
            "_model_module_version": "1.2.0",
            "_model_name": "LayoutModel",
            "_view_count": null,
            "_view_module": "@jupyter-widgets/base",
            "_view_module_version": "1.2.0",
            "_view_name": "LayoutView",
            "align_content": null,
            "align_items": null,
            "align_self": null,
            "border": null,
            "bottom": null,
            "display": null,
            "flex": null,
            "flex_flow": null,
            "grid_area": null,
            "grid_auto_columns": null,
            "grid_auto_flow": null,
            "grid_auto_rows": null,
            "grid_column": null,
            "grid_gap": null,
            "grid_row": null,
            "grid_template_areas": null,
            "grid_template_columns": null,
            "grid_template_rows": null,
            "height": null,
            "justify_content": null,
            "justify_items": null,
            "left": null,
            "margin": null,
            "max_height": null,
            "max_width": null,
            "min_height": null,
            "min_width": null,
            "object_fit": null,
            "object_position": null,
            "order": null,
            "overflow": null,
            "overflow_x": null,
            "overflow_y": null,
            "padding": null,
            "right": null,
            "top": null,
            "visibility": null,
            "width": null
          }
        },
        "db68390b62014886aeec2bfa37b01001": {
          "model_module": "@jupyter-widgets/controls",
          "model_name": "DescriptionStyleModel",
          "model_module_version": "1.5.0",
          "state": {
            "_model_module": "@jupyter-widgets/controls",
            "_model_module_version": "1.5.0",
            "_model_name": "DescriptionStyleModel",
            "_view_count": null,
            "_view_module": "@jupyter-widgets/base",
            "_view_module_version": "1.2.0",
            "_view_name": "StyleView",
            "description_width": ""
          }
        },
        "331d09d6b9e84a3f9d28291b0ab324e9": {
          "model_module": "@jupyter-widgets/base",
          "model_name": "LayoutModel",
          "model_module_version": "1.2.0",
          "state": {
            "_model_module": "@jupyter-widgets/base",
            "_model_module_version": "1.2.0",
            "_model_name": "LayoutModel",
            "_view_count": null,
            "_view_module": "@jupyter-widgets/base",
            "_view_module_version": "1.2.0",
            "_view_name": "LayoutView",
            "align_content": null,
            "align_items": null,
            "align_self": null,
            "border": null,
            "bottom": null,
            "display": null,
            "flex": null,
            "flex_flow": null,
            "grid_area": null,
            "grid_auto_columns": null,
            "grid_auto_flow": null,
            "grid_auto_rows": null,
            "grid_column": null,
            "grid_gap": null,
            "grid_row": null,
            "grid_template_areas": null,
            "grid_template_columns": null,
            "grid_template_rows": null,
            "height": null,
            "justify_content": null,
            "justify_items": null,
            "left": null,
            "margin": null,
            "max_height": null,
            "max_width": null,
            "min_height": null,
            "min_width": null,
            "object_fit": null,
            "object_position": null,
            "order": null,
            "overflow": null,
            "overflow_x": null,
            "overflow_y": null,
            "padding": null,
            "right": null,
            "top": null,
            "visibility": null,
            "width": null
          }
        },
        "f182acd50ac84fcc98a24a52dd0b43f5": {
          "model_module": "@jupyter-widgets/controls",
          "model_name": "ProgressStyleModel",
          "model_module_version": "1.5.0",
          "state": {
            "_model_module": "@jupyter-widgets/controls",
            "_model_module_version": "1.5.0",
            "_model_name": "ProgressStyleModel",
            "_view_count": null,
            "_view_module": "@jupyter-widgets/base",
            "_view_module_version": "1.2.0",
            "_view_name": "StyleView",
            "bar_color": null,
            "description_width": ""
          }
        },
        "7192889b5b2f4ddd911b4f074fe16841": {
          "model_module": "@jupyter-widgets/base",
          "model_name": "LayoutModel",
          "model_module_version": "1.2.0",
          "state": {
            "_model_module": "@jupyter-widgets/base",
            "_model_module_version": "1.2.0",
            "_model_name": "LayoutModel",
            "_view_count": null,
            "_view_module": "@jupyter-widgets/base",
            "_view_module_version": "1.2.0",
            "_view_name": "LayoutView",
            "align_content": null,
            "align_items": null,
            "align_self": null,
            "border": null,
            "bottom": null,
            "display": null,
            "flex": null,
            "flex_flow": null,
            "grid_area": null,
            "grid_auto_columns": null,
            "grid_auto_flow": null,
            "grid_auto_rows": null,
            "grid_column": null,
            "grid_gap": null,
            "grid_row": null,
            "grid_template_areas": null,
            "grid_template_columns": null,
            "grid_template_rows": null,
            "height": null,
            "justify_content": null,
            "justify_items": null,
            "left": null,
            "margin": null,
            "max_height": null,
            "max_width": null,
            "min_height": null,
            "min_width": null,
            "object_fit": null,
            "object_position": null,
            "order": null,
            "overflow": null,
            "overflow_x": null,
            "overflow_y": null,
            "padding": null,
            "right": null,
            "top": null,
            "visibility": null,
            "width": null
          }
        },
        "8eaf15be8b8c440386cdc9ef31f29053": {
          "model_module": "@jupyter-widgets/controls",
          "model_name": "DescriptionStyleModel",
          "model_module_version": "1.5.0",
          "state": {
            "_model_module": "@jupyter-widgets/controls",
            "_model_module_version": "1.5.0",
            "_model_name": "DescriptionStyleModel",
            "_view_count": null,
            "_view_module": "@jupyter-widgets/base",
            "_view_module_version": "1.2.0",
            "_view_name": "StyleView",
            "description_width": ""
          }
        },
        "103e10e44a3e47ebaeca661d01f5c10e": {
          "model_module": "@jupyter-widgets/controls",
          "model_name": "VBoxModel",
          "model_module_version": "1.5.0",
          "state": {
            "_dom_classes": [],
            "_model_module": "@jupyter-widgets/controls",
            "_model_module_version": "1.5.0",
            "_model_name": "VBoxModel",
            "_view_count": null,
            "_view_module": "@jupyter-widgets/controls",
            "_view_module_version": "1.5.0",
            "_view_name": "VBoxView",
            "box_style": "",
            "children": [
              "IPY_MODEL_69853e5a609a4e38805b1b1803adcdc5",
              "IPY_MODEL_c7937c32bcc748f2aa00bf1df0123a47",
              "IPY_MODEL_5f8147f962da4c96ba773c23c2cb25c6",
              "IPY_MODEL_6b5d58ee577d4d8a91fc8ce6a69a5f9a",
              "IPY_MODEL_b93a28de672d455098d96838b5c5a0d2"
            ],
            "layout": "IPY_MODEL_946e10dca4644d249a5fae2ba858a906"
          }
        },
        "69853e5a609a4e38805b1b1803adcdc5": {
          "model_module": "@jupyter-widgets/controls",
          "model_name": "HTMLModel",
          "model_module_version": "1.5.0",
          "state": {
            "_dom_classes": [],
            "_model_module": "@jupyter-widgets/controls",
            "_model_module_version": "1.5.0",
            "_model_name": "HTMLModel",
            "_view_count": null,
            "_view_module": "@jupyter-widgets/controls",
            "_view_module_version": "1.5.0",
            "_view_name": "HTMLView",
            "description": "",
            "description_tooltip": null,
            "layout": "IPY_MODEL_aa45d3fd63d44e4abc7c79440031f769",
            "placeholder": "​",
            "style": "IPY_MODEL_744007a9eda84b6a939063cfd7ad85d5",
            "value": "<center> <img\nsrc=https://huggingface.co/front/assets/huggingface_logo-noborder.svg\nalt='Hugging Face'> <br> Copy a token from <a\nhref=\"https://huggingface.co/settings/tokens\" target=\"_blank\">your Hugging Face\ntokens page</a> and paste it below. <br> Immediately click login after copying\nyour token or it might be stored in plain text in this notebook file. </center>"
          }
        },
        "c7937c32bcc748f2aa00bf1df0123a47": {
          "model_module": "@jupyter-widgets/controls",
          "model_name": "PasswordModel",
          "model_module_version": "1.5.0",
          "state": {
            "_dom_classes": [],
            "_model_module": "@jupyter-widgets/controls",
            "_model_module_version": "1.5.0",
            "_model_name": "PasswordModel",
            "_view_count": null,
            "_view_module": "@jupyter-widgets/controls",
            "_view_module_version": "1.5.0",
            "_view_name": "PasswordView",
            "continuous_update": true,
            "description": "Token:",
            "description_tooltip": null,
            "disabled": false,
            "layout": "IPY_MODEL_2895545c32ff4b7cba71f5689a0b1eb1",
            "placeholder": "​",
            "style": "IPY_MODEL_b1e5845954a74b6eada2d40f78832c82",
            "value": ""
          }
        },
        "5f8147f962da4c96ba773c23c2cb25c6": {
          "model_module": "@jupyter-widgets/controls",
          "model_name": "CheckboxModel",
          "model_module_version": "1.5.0",
          "state": {
            "_dom_classes": [],
            "_model_module": "@jupyter-widgets/controls",
            "_model_module_version": "1.5.0",
            "_model_name": "CheckboxModel",
            "_view_count": null,
            "_view_module": "@jupyter-widgets/controls",
            "_view_module_version": "1.5.0",
            "_view_name": "CheckboxView",
            "description": "Add token as git credential?",
            "description_tooltip": null,
            "disabled": false,
            "indent": true,
            "layout": "IPY_MODEL_451aced2132b4d68a018e65e97a356dd",
            "style": "IPY_MODEL_ebae79dd679944609629696b5a4de71b",
            "value": true
          }
        },
        "6b5d58ee577d4d8a91fc8ce6a69a5f9a": {
          "model_module": "@jupyter-widgets/controls",
          "model_name": "ButtonModel",
          "model_module_version": "1.5.0",
          "state": {
            "_dom_classes": [],
            "_model_module": "@jupyter-widgets/controls",
            "_model_module_version": "1.5.0",
            "_model_name": "ButtonModel",
            "_view_count": null,
            "_view_module": "@jupyter-widgets/controls",
            "_view_module_version": "1.5.0",
            "_view_name": "ButtonView",
            "button_style": "",
            "description": "Login",
            "disabled": false,
            "icon": "",
            "layout": "IPY_MODEL_c4332c7293ca4c42ab75b095ad4d97cb",
            "style": "IPY_MODEL_e5f32056d4a545068a42bbc2909ce639",
            "tooltip": ""
          }
        },
        "b93a28de672d455098d96838b5c5a0d2": {
          "model_module": "@jupyter-widgets/controls",
          "model_name": "HTMLModel",
          "model_module_version": "1.5.0",
          "state": {
            "_dom_classes": [],
            "_model_module": "@jupyter-widgets/controls",
            "_model_module_version": "1.5.0",
            "_model_name": "HTMLModel",
            "_view_count": null,
            "_view_module": "@jupyter-widgets/controls",
            "_view_module_version": "1.5.0",
            "_view_name": "HTMLView",
            "description": "",
            "description_tooltip": null,
            "layout": "IPY_MODEL_3eed1f72a77044bda24931d268461405",
            "placeholder": "​",
            "style": "IPY_MODEL_792780e22a9f4716859ec53a71ae0e11",
            "value": "\n<b>Pro Tip:</b> If you don't already have one, you can create a dedicated\n'notebooks' token with 'write' access, that you can then easily reuse for all\nnotebooks. </center>"
          }
        },
        "946e10dca4644d249a5fae2ba858a906": {
          "model_module": "@jupyter-widgets/base",
          "model_name": "LayoutModel",
          "model_module_version": "1.2.0",
          "state": {
            "_model_module": "@jupyter-widgets/base",
            "_model_module_version": "1.2.0",
            "_model_name": "LayoutModel",
            "_view_count": null,
            "_view_module": "@jupyter-widgets/base",
            "_view_module_version": "1.2.0",
            "_view_name": "LayoutView",
            "align_content": null,
            "align_items": "center",
            "align_self": null,
            "border": null,
            "bottom": null,
            "display": "flex",
            "flex": null,
            "flex_flow": "column",
            "grid_area": null,
            "grid_auto_columns": null,
            "grid_auto_flow": null,
            "grid_auto_rows": null,
            "grid_column": null,
            "grid_gap": null,
            "grid_row": null,
            "grid_template_areas": null,
            "grid_template_columns": null,
            "grid_template_rows": null,
            "height": null,
            "justify_content": null,
            "justify_items": null,
            "left": null,
            "margin": null,
            "max_height": null,
            "max_width": null,
            "min_height": null,
            "min_width": null,
            "object_fit": null,
            "object_position": null,
            "order": null,
            "overflow": null,
            "overflow_x": null,
            "overflow_y": null,
            "padding": null,
            "right": null,
            "top": null,
            "visibility": null,
            "width": "50%"
          }
        },
        "aa45d3fd63d44e4abc7c79440031f769": {
          "model_module": "@jupyter-widgets/base",
          "model_name": "LayoutModel",
          "model_module_version": "1.2.0",
          "state": {
            "_model_module": "@jupyter-widgets/base",
            "_model_module_version": "1.2.0",
            "_model_name": "LayoutModel",
            "_view_count": null,
            "_view_module": "@jupyter-widgets/base",
            "_view_module_version": "1.2.0",
            "_view_name": "LayoutView",
            "align_content": null,
            "align_items": null,
            "align_self": null,
            "border": null,
            "bottom": null,
            "display": null,
            "flex": null,
            "flex_flow": null,
            "grid_area": null,
            "grid_auto_columns": null,
            "grid_auto_flow": null,
            "grid_auto_rows": null,
            "grid_column": null,
            "grid_gap": null,
            "grid_row": null,
            "grid_template_areas": null,
            "grid_template_columns": null,
            "grid_template_rows": null,
            "height": null,
            "justify_content": null,
            "justify_items": null,
            "left": null,
            "margin": null,
            "max_height": null,
            "max_width": null,
            "min_height": null,
            "min_width": null,
            "object_fit": null,
            "object_position": null,
            "order": null,
            "overflow": null,
            "overflow_x": null,
            "overflow_y": null,
            "padding": null,
            "right": null,
            "top": null,
            "visibility": null,
            "width": null
          }
        },
        "744007a9eda84b6a939063cfd7ad85d5": {
          "model_module": "@jupyter-widgets/controls",
          "model_name": "DescriptionStyleModel",
          "model_module_version": "1.5.0",
          "state": {
            "_model_module": "@jupyter-widgets/controls",
            "_model_module_version": "1.5.0",
            "_model_name": "DescriptionStyleModel",
            "_view_count": null,
            "_view_module": "@jupyter-widgets/base",
            "_view_module_version": "1.2.0",
            "_view_name": "StyleView",
            "description_width": ""
          }
        },
        "2895545c32ff4b7cba71f5689a0b1eb1": {
          "model_module": "@jupyter-widgets/base",
          "model_name": "LayoutModel",
          "model_module_version": "1.2.0",
          "state": {
            "_model_module": "@jupyter-widgets/base",
            "_model_module_version": "1.2.0",
            "_model_name": "LayoutModel",
            "_view_count": null,
            "_view_module": "@jupyter-widgets/base",
            "_view_module_version": "1.2.0",
            "_view_name": "LayoutView",
            "align_content": null,
            "align_items": null,
            "align_self": null,
            "border": null,
            "bottom": null,
            "display": null,
            "flex": null,
            "flex_flow": null,
            "grid_area": null,
            "grid_auto_columns": null,
            "grid_auto_flow": null,
            "grid_auto_rows": null,
            "grid_column": null,
            "grid_gap": null,
            "grid_row": null,
            "grid_template_areas": null,
            "grid_template_columns": null,
            "grid_template_rows": null,
            "height": null,
            "justify_content": null,
            "justify_items": null,
            "left": null,
            "margin": null,
            "max_height": null,
            "max_width": null,
            "min_height": null,
            "min_width": null,
            "object_fit": null,
            "object_position": null,
            "order": null,
            "overflow": null,
            "overflow_x": null,
            "overflow_y": null,
            "padding": null,
            "right": null,
            "top": null,
            "visibility": null,
            "width": null
          }
        },
        "b1e5845954a74b6eada2d40f78832c82": {
          "model_module": "@jupyter-widgets/controls",
          "model_name": "DescriptionStyleModel",
          "model_module_version": "1.5.0",
          "state": {
            "_model_module": "@jupyter-widgets/controls",
            "_model_module_version": "1.5.0",
            "_model_name": "DescriptionStyleModel",
            "_view_count": null,
            "_view_module": "@jupyter-widgets/base",
            "_view_module_version": "1.2.0",
            "_view_name": "StyleView",
            "description_width": ""
          }
        },
        "451aced2132b4d68a018e65e97a356dd": {
          "model_module": "@jupyter-widgets/base",
          "model_name": "LayoutModel",
          "model_module_version": "1.2.0",
          "state": {
            "_model_module": "@jupyter-widgets/base",
            "_model_module_version": "1.2.0",
            "_model_name": "LayoutModel",
            "_view_count": null,
            "_view_module": "@jupyter-widgets/base",
            "_view_module_version": "1.2.0",
            "_view_name": "LayoutView",
            "align_content": null,
            "align_items": null,
            "align_self": null,
            "border": null,
            "bottom": null,
            "display": null,
            "flex": null,
            "flex_flow": null,
            "grid_area": null,
            "grid_auto_columns": null,
            "grid_auto_flow": null,
            "grid_auto_rows": null,
            "grid_column": null,
            "grid_gap": null,
            "grid_row": null,
            "grid_template_areas": null,
            "grid_template_columns": null,
            "grid_template_rows": null,
            "height": null,
            "justify_content": null,
            "justify_items": null,
            "left": null,
            "margin": null,
            "max_height": null,
            "max_width": null,
            "min_height": null,
            "min_width": null,
            "object_fit": null,
            "object_position": null,
            "order": null,
            "overflow": null,
            "overflow_x": null,
            "overflow_y": null,
            "padding": null,
            "right": null,
            "top": null,
            "visibility": null,
            "width": null
          }
        },
        "ebae79dd679944609629696b5a4de71b": {
          "model_module": "@jupyter-widgets/controls",
          "model_name": "DescriptionStyleModel",
          "model_module_version": "1.5.0",
          "state": {
            "_model_module": "@jupyter-widgets/controls",
            "_model_module_version": "1.5.0",
            "_model_name": "DescriptionStyleModel",
            "_view_count": null,
            "_view_module": "@jupyter-widgets/base",
            "_view_module_version": "1.2.0",
            "_view_name": "StyleView",
            "description_width": ""
          }
        },
        "c4332c7293ca4c42ab75b095ad4d97cb": {
          "model_module": "@jupyter-widgets/base",
          "model_name": "LayoutModel",
          "model_module_version": "1.2.0",
          "state": {
            "_model_module": "@jupyter-widgets/base",
            "_model_module_version": "1.2.0",
            "_model_name": "LayoutModel",
            "_view_count": null,
            "_view_module": "@jupyter-widgets/base",
            "_view_module_version": "1.2.0",
            "_view_name": "LayoutView",
            "align_content": null,
            "align_items": null,
            "align_self": null,
            "border": null,
            "bottom": null,
            "display": null,
            "flex": null,
            "flex_flow": null,
            "grid_area": null,
            "grid_auto_columns": null,
            "grid_auto_flow": null,
            "grid_auto_rows": null,
            "grid_column": null,
            "grid_gap": null,
            "grid_row": null,
            "grid_template_areas": null,
            "grid_template_columns": null,
            "grid_template_rows": null,
            "height": null,
            "justify_content": null,
            "justify_items": null,
            "left": null,
            "margin": null,
            "max_height": null,
            "max_width": null,
            "min_height": null,
            "min_width": null,
            "object_fit": null,
            "object_position": null,
            "order": null,
            "overflow": null,
            "overflow_x": null,
            "overflow_y": null,
            "padding": null,
            "right": null,
            "top": null,
            "visibility": null,
            "width": null
          }
        },
        "e5f32056d4a545068a42bbc2909ce639": {
          "model_module": "@jupyter-widgets/controls",
          "model_name": "ButtonStyleModel",
          "model_module_version": "1.5.0",
          "state": {
            "_model_module": "@jupyter-widgets/controls",
            "_model_module_version": "1.5.0",
            "_model_name": "ButtonStyleModel",
            "_view_count": null,
            "_view_module": "@jupyter-widgets/base",
            "_view_module_version": "1.2.0",
            "_view_name": "StyleView",
            "button_color": null,
            "font_weight": ""
          }
        },
        "3eed1f72a77044bda24931d268461405": {
          "model_module": "@jupyter-widgets/base",
          "model_name": "LayoutModel",
          "model_module_version": "1.2.0",
          "state": {
            "_model_module": "@jupyter-widgets/base",
            "_model_module_version": "1.2.0",
            "_model_name": "LayoutModel",
            "_view_count": null,
            "_view_module": "@jupyter-widgets/base",
            "_view_module_version": "1.2.0",
            "_view_name": "LayoutView",
            "align_content": null,
            "align_items": null,
            "align_self": null,
            "border": null,
            "bottom": null,
            "display": null,
            "flex": null,
            "flex_flow": null,
            "grid_area": null,
            "grid_auto_columns": null,
            "grid_auto_flow": null,
            "grid_auto_rows": null,
            "grid_column": null,
            "grid_gap": null,
            "grid_row": null,
            "grid_template_areas": null,
            "grid_template_columns": null,
            "grid_template_rows": null,
            "height": null,
            "justify_content": null,
            "justify_items": null,
            "left": null,
            "margin": null,
            "max_height": null,
            "max_width": null,
            "min_height": null,
            "min_width": null,
            "object_fit": null,
            "object_position": null,
            "order": null,
            "overflow": null,
            "overflow_x": null,
            "overflow_y": null,
            "padding": null,
            "right": null,
            "top": null,
            "visibility": null,
            "width": null
          }
        },
        "792780e22a9f4716859ec53a71ae0e11": {
          "model_module": "@jupyter-widgets/controls",
          "model_name": "DescriptionStyleModel",
          "model_module_version": "1.5.0",
          "state": {
            "_model_module": "@jupyter-widgets/controls",
            "_model_module_version": "1.5.0",
            "_model_name": "DescriptionStyleModel",
            "_view_count": null,
            "_view_module": "@jupyter-widgets/base",
            "_view_module_version": "1.2.0",
            "_view_name": "StyleView",
            "description_width": ""
          }
        },
        "9567a8fa484d4f788a12bda5eea424b1": {
          "model_module": "@jupyter-widgets/controls",
          "model_name": "HBoxModel",
          "model_module_version": "1.5.0",
          "state": {
            "_dom_classes": [],
            "_model_module": "@jupyter-widgets/controls",
            "_model_module_version": "1.5.0",
            "_model_name": "HBoxModel",
            "_view_count": null,
            "_view_module": "@jupyter-widgets/controls",
            "_view_module_version": "1.5.0",
            "_view_name": "HBoxView",
            "box_style": "",
            "children": [
              "IPY_MODEL_c3984b304fbc4bbfaeea8362ea9b8087",
              "IPY_MODEL_2033f7b465d24ff58edbc44027363054",
              "IPY_MODEL_a64c99763af54964b837b7872be4f40b"
            ],
            "layout": "IPY_MODEL_269557f042d54b799692820d805dd223"
          }
        },
        "c3984b304fbc4bbfaeea8362ea9b8087": {
          "model_module": "@jupyter-widgets/controls",
          "model_name": "HTMLModel",
          "model_module_version": "1.5.0",
          "state": {
            "_dom_classes": [],
            "_model_module": "@jupyter-widgets/controls",
            "_model_module_version": "1.5.0",
            "_model_name": "HTMLModel",
            "_view_count": null,
            "_view_module": "@jupyter-widgets/controls",
            "_view_module_version": "1.5.0",
            "_view_name": "HTMLView",
            "description": "",
            "description_tooltip": null,
            "layout": "IPY_MODEL_ec78b2187df3447bbb07805199d31fdd",
            "placeholder": "​",
            "style": "IPY_MODEL_33c95bd1421442c8aa5fc3a119e629cd",
            "value": "100%"
          }
        },
        "2033f7b465d24ff58edbc44027363054": {
          "model_module": "@jupyter-widgets/controls",
          "model_name": "FloatProgressModel",
          "model_module_version": "1.5.0",
          "state": {
            "_dom_classes": [],
            "_model_module": "@jupyter-widgets/controls",
            "_model_module_version": "1.5.0",
            "_model_name": "FloatProgressModel",
            "_view_count": null,
            "_view_module": "@jupyter-widgets/controls",
            "_view_module_version": "1.5.0",
            "_view_name": "ProgressView",
            "bar_style": "success",
            "description": "",
            "description_tooltip": null,
            "layout": "IPY_MODEL_b897272001f8497a858b4e2fdf0b254a",
            "max": 1,
            "min": 0,
            "orientation": "horizontal",
            "style": "IPY_MODEL_69c796d8b6cc469e8de774828ff2f65a",
            "value": 1
          }
        },
        "a64c99763af54964b837b7872be4f40b": {
          "model_module": "@jupyter-widgets/controls",
          "model_name": "HTMLModel",
          "model_module_version": "1.5.0",
          "state": {
            "_dom_classes": [],
            "_model_module": "@jupyter-widgets/controls",
            "_model_module_version": "1.5.0",
            "_model_name": "HTMLModel",
            "_view_count": null,
            "_view_module": "@jupyter-widgets/controls",
            "_view_module_version": "1.5.0",
            "_view_name": "HTMLView",
            "description": "",
            "description_tooltip": null,
            "layout": "IPY_MODEL_8297ec1a114a4c859e4b8cda94be0cb3",
            "placeholder": "​",
            "style": "IPY_MODEL_b6d2799c7b0149b88b861d8caed40899",
            "value": " 1/1 [00:00&lt;00:00, 43.81it/s]"
          }
        },
        "269557f042d54b799692820d805dd223": {
          "model_module": "@jupyter-widgets/base",
          "model_name": "LayoutModel",
          "model_module_version": "1.2.0",
          "state": {
            "_model_module": "@jupyter-widgets/base",
            "_model_module_version": "1.2.0",
            "_model_name": "LayoutModel",
            "_view_count": null,
            "_view_module": "@jupyter-widgets/base",
            "_view_module_version": "1.2.0",
            "_view_name": "LayoutView",
            "align_content": null,
            "align_items": null,
            "align_self": null,
            "border": null,
            "bottom": null,
            "display": null,
            "flex": null,
            "flex_flow": null,
            "grid_area": null,
            "grid_auto_columns": null,
            "grid_auto_flow": null,
            "grid_auto_rows": null,
            "grid_column": null,
            "grid_gap": null,
            "grid_row": null,
            "grid_template_areas": null,
            "grid_template_columns": null,
            "grid_template_rows": null,
            "height": null,
            "justify_content": null,
            "justify_items": null,
            "left": null,
            "margin": null,
            "max_height": null,
            "max_width": null,
            "min_height": null,
            "min_width": null,
            "object_fit": null,
            "object_position": null,
            "order": null,
            "overflow": null,
            "overflow_x": null,
            "overflow_y": null,
            "padding": null,
            "right": null,
            "top": null,
            "visibility": null,
            "width": null
          }
        },
        "ec78b2187df3447bbb07805199d31fdd": {
          "model_module": "@jupyter-widgets/base",
          "model_name": "LayoutModel",
          "model_module_version": "1.2.0",
          "state": {
            "_model_module": "@jupyter-widgets/base",
            "_model_module_version": "1.2.0",
            "_model_name": "LayoutModel",
            "_view_count": null,
            "_view_module": "@jupyter-widgets/base",
            "_view_module_version": "1.2.0",
            "_view_name": "LayoutView",
            "align_content": null,
            "align_items": null,
            "align_self": null,
            "border": null,
            "bottom": null,
            "display": null,
            "flex": null,
            "flex_flow": null,
            "grid_area": null,
            "grid_auto_columns": null,
            "grid_auto_flow": null,
            "grid_auto_rows": null,
            "grid_column": null,
            "grid_gap": null,
            "grid_row": null,
            "grid_template_areas": null,
            "grid_template_columns": null,
            "grid_template_rows": null,
            "height": null,
            "justify_content": null,
            "justify_items": null,
            "left": null,
            "margin": null,
            "max_height": null,
            "max_width": null,
            "min_height": null,
            "min_width": null,
            "object_fit": null,
            "object_position": null,
            "order": null,
            "overflow": null,
            "overflow_x": null,
            "overflow_y": null,
            "padding": null,
            "right": null,
            "top": null,
            "visibility": null,
            "width": null
          }
        },
        "33c95bd1421442c8aa5fc3a119e629cd": {
          "model_module": "@jupyter-widgets/controls",
          "model_name": "DescriptionStyleModel",
          "model_module_version": "1.5.0",
          "state": {
            "_model_module": "@jupyter-widgets/controls",
            "_model_module_version": "1.5.0",
            "_model_name": "DescriptionStyleModel",
            "_view_count": null,
            "_view_module": "@jupyter-widgets/base",
            "_view_module_version": "1.2.0",
            "_view_name": "StyleView",
            "description_width": ""
          }
        },
        "b897272001f8497a858b4e2fdf0b254a": {
          "model_module": "@jupyter-widgets/base",
          "model_name": "LayoutModel",
          "model_module_version": "1.2.0",
          "state": {
            "_model_module": "@jupyter-widgets/base",
            "_model_module_version": "1.2.0",
            "_model_name": "LayoutModel",
            "_view_count": null,
            "_view_module": "@jupyter-widgets/base",
            "_view_module_version": "1.2.0",
            "_view_name": "LayoutView",
            "align_content": null,
            "align_items": null,
            "align_self": null,
            "border": null,
            "bottom": null,
            "display": null,
            "flex": null,
            "flex_flow": null,
            "grid_area": null,
            "grid_auto_columns": null,
            "grid_auto_flow": null,
            "grid_auto_rows": null,
            "grid_column": null,
            "grid_gap": null,
            "grid_row": null,
            "grid_template_areas": null,
            "grid_template_columns": null,
            "grid_template_rows": null,
            "height": null,
            "justify_content": null,
            "justify_items": null,
            "left": null,
            "margin": null,
            "max_height": null,
            "max_width": null,
            "min_height": null,
            "min_width": null,
            "object_fit": null,
            "object_position": null,
            "order": null,
            "overflow": null,
            "overflow_x": null,
            "overflow_y": null,
            "padding": null,
            "right": null,
            "top": null,
            "visibility": null,
            "width": null
          }
        },
        "69c796d8b6cc469e8de774828ff2f65a": {
          "model_module": "@jupyter-widgets/controls",
          "model_name": "ProgressStyleModel",
          "model_module_version": "1.5.0",
          "state": {
            "_model_module": "@jupyter-widgets/controls",
            "_model_module_version": "1.5.0",
            "_model_name": "ProgressStyleModel",
            "_view_count": null,
            "_view_module": "@jupyter-widgets/base",
            "_view_module_version": "1.2.0",
            "_view_name": "StyleView",
            "bar_color": null,
            "description_width": ""
          }
        },
        "8297ec1a114a4c859e4b8cda94be0cb3": {
          "model_module": "@jupyter-widgets/base",
          "model_name": "LayoutModel",
          "model_module_version": "1.2.0",
          "state": {
            "_model_module": "@jupyter-widgets/base",
            "_model_module_version": "1.2.0",
            "_model_name": "LayoutModel",
            "_view_count": null,
            "_view_module": "@jupyter-widgets/base",
            "_view_module_version": "1.2.0",
            "_view_name": "LayoutView",
            "align_content": null,
            "align_items": null,
            "align_self": null,
            "border": null,
            "bottom": null,
            "display": null,
            "flex": null,
            "flex_flow": null,
            "grid_area": null,
            "grid_auto_columns": null,
            "grid_auto_flow": null,
            "grid_auto_rows": null,
            "grid_column": null,
            "grid_gap": null,
            "grid_row": null,
            "grid_template_areas": null,
            "grid_template_columns": null,
            "grid_template_rows": null,
            "height": null,
            "justify_content": null,
            "justify_items": null,
            "left": null,
            "margin": null,
            "max_height": null,
            "max_width": null,
            "min_height": null,
            "min_width": null,
            "object_fit": null,
            "object_position": null,
            "order": null,
            "overflow": null,
            "overflow_x": null,
            "overflow_y": null,
            "padding": null,
            "right": null,
            "top": null,
            "visibility": null,
            "width": null
          }
        },
        "b6d2799c7b0149b88b861d8caed40899": {
          "model_module": "@jupyter-widgets/controls",
          "model_name": "DescriptionStyleModel",
          "model_module_version": "1.5.0",
          "state": {
            "_model_module": "@jupyter-widgets/controls",
            "_model_module_version": "1.5.0",
            "_model_name": "DescriptionStyleModel",
            "_view_count": null,
            "_view_module": "@jupyter-widgets/base",
            "_view_module_version": "1.2.0",
            "_view_name": "StyleView",
            "description_width": ""
          }
        },
        "447829e8dd7a438582321c0a49f2a315": {
          "model_module": "@jupyter-widgets/controls",
          "model_name": "HBoxModel",
          "model_module_version": "1.5.0",
          "state": {
            "_dom_classes": [],
            "_model_module": "@jupyter-widgets/controls",
            "_model_module_version": "1.5.0",
            "_model_name": "HBoxModel",
            "_view_count": null,
            "_view_module": "@jupyter-widgets/controls",
            "_view_module_version": "1.5.0",
            "_view_name": "HBoxView",
            "box_style": "",
            "children": [
              "IPY_MODEL_07e3f9c2840c485b9b5055df9721ce24",
              "IPY_MODEL_a824ea0ecb5c4ca7bcf1a27ecf02c75d",
              "IPY_MODEL_0a88913bd3cc49f6b1805a7ef5c60dc5"
            ],
            "layout": "IPY_MODEL_821ac1cdffb34e2c8d15a16298171c5b"
          }
        },
        "07e3f9c2840c485b9b5055df9721ce24": {
          "model_module": "@jupyter-widgets/controls",
          "model_name": "HTMLModel",
          "model_module_version": "1.5.0",
          "state": {
            "_dom_classes": [],
            "_model_module": "@jupyter-widgets/controls",
            "_model_module_version": "1.5.0",
            "_model_name": "HTMLModel",
            "_view_count": null,
            "_view_module": "@jupyter-widgets/controls",
            "_view_module_version": "1.5.0",
            "_view_name": "HTMLView",
            "description": "",
            "description_tooltip": null,
            "layout": "IPY_MODEL_2021e80e35cb47fabaa51183a070b82a",
            "placeholder": "​",
            "style": "IPY_MODEL_5d35e8d2dfc54414b8ece4e5b059e2d9",
            "value": "100%"
          }
        },
        "a824ea0ecb5c4ca7bcf1a27ecf02c75d": {
          "model_module": "@jupyter-widgets/controls",
          "model_name": "FloatProgressModel",
          "model_module_version": "1.5.0",
          "state": {
            "_dom_classes": [],
            "_model_module": "@jupyter-widgets/controls",
            "_model_module_version": "1.5.0",
            "_model_name": "FloatProgressModel",
            "_view_count": null,
            "_view_module": "@jupyter-widgets/controls",
            "_view_module_version": "1.5.0",
            "_view_name": "ProgressView",
            "bar_style": "success",
            "description": "",
            "description_tooltip": null,
            "layout": "IPY_MODEL_c3767a345559478a9cd28a41225816ed",
            "max": 1,
            "min": 0,
            "orientation": "horizontal",
            "style": "IPY_MODEL_d73aab3f297d47e8a86e730885f02c7a",
            "value": 1
          }
        },
        "0a88913bd3cc49f6b1805a7ef5c60dc5": {
          "model_module": "@jupyter-widgets/controls",
          "model_name": "HTMLModel",
          "model_module_version": "1.5.0",
          "state": {
            "_dom_classes": [],
            "_model_module": "@jupyter-widgets/controls",
            "_model_module_version": "1.5.0",
            "_model_name": "HTMLModel",
            "_view_count": null,
            "_view_module": "@jupyter-widgets/controls",
            "_view_module_version": "1.5.0",
            "_view_name": "HTMLView",
            "description": "",
            "description_tooltip": null,
            "layout": "IPY_MODEL_86cdc982228e45a584cb2b49896046cd",
            "placeholder": "​",
            "style": "IPY_MODEL_3998e0eca0904f488a9386e3c01a294a",
            "value": " 1/1 [00:00&lt;00:00, 27.14it/s]"
          }
        },
        "821ac1cdffb34e2c8d15a16298171c5b": {
          "model_module": "@jupyter-widgets/base",
          "model_name": "LayoutModel",
          "model_module_version": "1.2.0",
          "state": {
            "_model_module": "@jupyter-widgets/base",
            "_model_module_version": "1.2.0",
            "_model_name": "LayoutModel",
            "_view_count": null,
            "_view_module": "@jupyter-widgets/base",
            "_view_module_version": "1.2.0",
            "_view_name": "LayoutView",
            "align_content": null,
            "align_items": null,
            "align_self": null,
            "border": null,
            "bottom": null,
            "display": null,
            "flex": null,
            "flex_flow": null,
            "grid_area": null,
            "grid_auto_columns": null,
            "grid_auto_flow": null,
            "grid_auto_rows": null,
            "grid_column": null,
            "grid_gap": null,
            "grid_row": null,
            "grid_template_areas": null,
            "grid_template_columns": null,
            "grid_template_rows": null,
            "height": null,
            "justify_content": null,
            "justify_items": null,
            "left": null,
            "margin": null,
            "max_height": null,
            "max_width": null,
            "min_height": null,
            "min_width": null,
            "object_fit": null,
            "object_position": null,
            "order": null,
            "overflow": null,
            "overflow_x": null,
            "overflow_y": null,
            "padding": null,
            "right": null,
            "top": null,
            "visibility": null,
            "width": null
          }
        },
        "2021e80e35cb47fabaa51183a070b82a": {
          "model_module": "@jupyter-widgets/base",
          "model_name": "LayoutModel",
          "model_module_version": "1.2.0",
          "state": {
            "_model_module": "@jupyter-widgets/base",
            "_model_module_version": "1.2.0",
            "_model_name": "LayoutModel",
            "_view_count": null,
            "_view_module": "@jupyter-widgets/base",
            "_view_module_version": "1.2.0",
            "_view_name": "LayoutView",
            "align_content": null,
            "align_items": null,
            "align_self": null,
            "border": null,
            "bottom": null,
            "display": null,
            "flex": null,
            "flex_flow": null,
            "grid_area": null,
            "grid_auto_columns": null,
            "grid_auto_flow": null,
            "grid_auto_rows": null,
            "grid_column": null,
            "grid_gap": null,
            "grid_row": null,
            "grid_template_areas": null,
            "grid_template_columns": null,
            "grid_template_rows": null,
            "height": null,
            "justify_content": null,
            "justify_items": null,
            "left": null,
            "margin": null,
            "max_height": null,
            "max_width": null,
            "min_height": null,
            "min_width": null,
            "object_fit": null,
            "object_position": null,
            "order": null,
            "overflow": null,
            "overflow_x": null,
            "overflow_y": null,
            "padding": null,
            "right": null,
            "top": null,
            "visibility": null,
            "width": null
          }
        },
        "5d35e8d2dfc54414b8ece4e5b059e2d9": {
          "model_module": "@jupyter-widgets/controls",
          "model_name": "DescriptionStyleModel",
          "model_module_version": "1.5.0",
          "state": {
            "_model_module": "@jupyter-widgets/controls",
            "_model_module_version": "1.5.0",
            "_model_name": "DescriptionStyleModel",
            "_view_count": null,
            "_view_module": "@jupyter-widgets/base",
            "_view_module_version": "1.2.0",
            "_view_name": "StyleView",
            "description_width": ""
          }
        },
        "c3767a345559478a9cd28a41225816ed": {
          "model_module": "@jupyter-widgets/base",
          "model_name": "LayoutModel",
          "model_module_version": "1.2.0",
          "state": {
            "_model_module": "@jupyter-widgets/base",
            "_model_module_version": "1.2.0",
            "_model_name": "LayoutModel",
            "_view_count": null,
            "_view_module": "@jupyter-widgets/base",
            "_view_module_version": "1.2.0",
            "_view_name": "LayoutView",
            "align_content": null,
            "align_items": null,
            "align_self": null,
            "border": null,
            "bottom": null,
            "display": null,
            "flex": null,
            "flex_flow": null,
            "grid_area": null,
            "grid_auto_columns": null,
            "grid_auto_flow": null,
            "grid_auto_rows": null,
            "grid_column": null,
            "grid_gap": null,
            "grid_row": null,
            "grid_template_areas": null,
            "grid_template_columns": null,
            "grid_template_rows": null,
            "height": null,
            "justify_content": null,
            "justify_items": null,
            "left": null,
            "margin": null,
            "max_height": null,
            "max_width": null,
            "min_height": null,
            "min_width": null,
            "object_fit": null,
            "object_position": null,
            "order": null,
            "overflow": null,
            "overflow_x": null,
            "overflow_y": null,
            "padding": null,
            "right": null,
            "top": null,
            "visibility": null,
            "width": null
          }
        },
        "d73aab3f297d47e8a86e730885f02c7a": {
          "model_module": "@jupyter-widgets/controls",
          "model_name": "ProgressStyleModel",
          "model_module_version": "1.5.0",
          "state": {
            "_model_module": "@jupyter-widgets/controls",
            "_model_module_version": "1.5.0",
            "_model_name": "ProgressStyleModel",
            "_view_count": null,
            "_view_module": "@jupyter-widgets/base",
            "_view_module_version": "1.2.0",
            "_view_name": "StyleView",
            "bar_color": null,
            "description_width": ""
          }
        },
        "86cdc982228e45a584cb2b49896046cd": {
          "model_module": "@jupyter-widgets/base",
          "model_name": "LayoutModel",
          "model_module_version": "1.2.0",
          "state": {
            "_model_module": "@jupyter-widgets/base",
            "_model_module_version": "1.2.0",
            "_model_name": "LayoutModel",
            "_view_count": null,
            "_view_module": "@jupyter-widgets/base",
            "_view_module_version": "1.2.0",
            "_view_name": "LayoutView",
            "align_content": null,
            "align_items": null,
            "align_self": null,
            "border": null,
            "bottom": null,
            "display": null,
            "flex": null,
            "flex_flow": null,
            "grid_area": null,
            "grid_auto_columns": null,
            "grid_auto_flow": null,
            "grid_auto_rows": null,
            "grid_column": null,
            "grid_gap": null,
            "grid_row": null,
            "grid_template_areas": null,
            "grid_template_columns": null,
            "grid_template_rows": null,
            "height": null,
            "justify_content": null,
            "justify_items": null,
            "left": null,
            "margin": null,
            "max_height": null,
            "max_width": null,
            "min_height": null,
            "min_width": null,
            "object_fit": null,
            "object_position": null,
            "order": null,
            "overflow": null,
            "overflow_x": null,
            "overflow_y": null,
            "padding": null,
            "right": null,
            "top": null,
            "visibility": null,
            "width": null
          }
        },
        "3998e0eca0904f488a9386e3c01a294a": {
          "model_module": "@jupyter-widgets/controls",
          "model_name": "DescriptionStyleModel",
          "model_module_version": "1.5.0",
          "state": {
            "_model_module": "@jupyter-widgets/controls",
            "_model_module_version": "1.5.0",
            "_model_name": "DescriptionStyleModel",
            "_view_count": null,
            "_view_module": "@jupyter-widgets/base",
            "_view_module_version": "1.2.0",
            "_view_name": "StyleView",
            "description_width": ""
          }
        },
        "47955fd1075c447d92bcdac1ee75b583": {
          "model_module": "@jupyter-widgets/controls",
          "model_name": "HBoxModel",
          "model_module_version": "1.5.0",
          "state": {
            "_dom_classes": [],
            "_model_module": "@jupyter-widgets/controls",
            "_model_module_version": "1.5.0",
            "_model_name": "HBoxModel",
            "_view_count": null,
            "_view_module": "@jupyter-widgets/controls",
            "_view_module_version": "1.5.0",
            "_view_name": "HBoxView",
            "box_style": "",
            "children": [
              "IPY_MODEL_845f365ebbd14dbf9cea10576b266705",
              "IPY_MODEL_e193d758bfab43248c35398d9dec876b",
              "IPY_MODEL_7a41ccbc3deb478b8410d1443fa79ced"
            ],
            "layout": "IPY_MODEL_cd0144e97cc84ef2acc8149d2dd704a9"
          }
        },
        "845f365ebbd14dbf9cea10576b266705": {
          "model_module": "@jupyter-widgets/controls",
          "model_name": "HTMLModel",
          "model_module_version": "1.5.0",
          "state": {
            "_dom_classes": [],
            "_model_module": "@jupyter-widgets/controls",
            "_model_module_version": "1.5.0",
            "_model_name": "HTMLModel",
            "_view_count": null,
            "_view_module": "@jupyter-widgets/controls",
            "_view_module_version": "1.5.0",
            "_view_name": "HTMLView",
            "description": "",
            "description_tooltip": null,
            "layout": "IPY_MODEL_53793568728c43f181d599c4b48a0b74",
            "placeholder": "​",
            "style": "IPY_MODEL_2af62274ec5c48db9b4eafc9a8e00c70",
            "value": "100%"
          }
        },
        "e193d758bfab43248c35398d9dec876b": {
          "model_module": "@jupyter-widgets/controls",
          "model_name": "FloatProgressModel",
          "model_module_version": "1.5.0",
          "state": {
            "_dom_classes": [],
            "_model_module": "@jupyter-widgets/controls",
            "_model_module_version": "1.5.0",
            "_model_name": "FloatProgressModel",
            "_view_count": null,
            "_view_module": "@jupyter-widgets/controls",
            "_view_module_version": "1.5.0",
            "_view_name": "ProgressView",
            "bar_style": "success",
            "description": "",
            "description_tooltip": null,
            "layout": "IPY_MODEL_0a6b0d8d19b34065aed34eeb83a50f55",
            "max": 1,
            "min": 0,
            "orientation": "horizontal",
            "style": "IPY_MODEL_4ea12b117fdd482bb2f087142beceb07",
            "value": 1
          }
        },
        "7a41ccbc3deb478b8410d1443fa79ced": {
          "model_module": "@jupyter-widgets/controls",
          "model_name": "HTMLModel",
          "model_module_version": "1.5.0",
          "state": {
            "_dom_classes": [],
            "_model_module": "@jupyter-widgets/controls",
            "_model_module_version": "1.5.0",
            "_model_name": "HTMLModel",
            "_view_count": null,
            "_view_module": "@jupyter-widgets/controls",
            "_view_module_version": "1.5.0",
            "_view_name": "HTMLView",
            "description": "",
            "description_tooltip": null,
            "layout": "IPY_MODEL_7265e042fb5c45a78a4bb6f3cae5249e",
            "placeholder": "​",
            "style": "IPY_MODEL_ff41943477a14d2991436b2626c9c5b4",
            "value": " 1/1 [00:00&lt;00:00, 44.69it/s]"
          }
        },
        "cd0144e97cc84ef2acc8149d2dd704a9": {
          "model_module": "@jupyter-widgets/base",
          "model_name": "LayoutModel",
          "model_module_version": "1.2.0",
          "state": {
            "_model_module": "@jupyter-widgets/base",
            "_model_module_version": "1.2.0",
            "_model_name": "LayoutModel",
            "_view_count": null,
            "_view_module": "@jupyter-widgets/base",
            "_view_module_version": "1.2.0",
            "_view_name": "LayoutView",
            "align_content": null,
            "align_items": null,
            "align_self": null,
            "border": null,
            "bottom": null,
            "display": null,
            "flex": null,
            "flex_flow": null,
            "grid_area": null,
            "grid_auto_columns": null,
            "grid_auto_flow": null,
            "grid_auto_rows": null,
            "grid_column": null,
            "grid_gap": null,
            "grid_row": null,
            "grid_template_areas": null,
            "grid_template_columns": null,
            "grid_template_rows": null,
            "height": null,
            "justify_content": null,
            "justify_items": null,
            "left": null,
            "margin": null,
            "max_height": null,
            "max_width": null,
            "min_height": null,
            "min_width": null,
            "object_fit": null,
            "object_position": null,
            "order": null,
            "overflow": null,
            "overflow_x": null,
            "overflow_y": null,
            "padding": null,
            "right": null,
            "top": null,
            "visibility": null,
            "width": null
          }
        },
        "53793568728c43f181d599c4b48a0b74": {
          "model_module": "@jupyter-widgets/base",
          "model_name": "LayoutModel",
          "model_module_version": "1.2.0",
          "state": {
            "_model_module": "@jupyter-widgets/base",
            "_model_module_version": "1.2.0",
            "_model_name": "LayoutModel",
            "_view_count": null,
            "_view_module": "@jupyter-widgets/base",
            "_view_module_version": "1.2.0",
            "_view_name": "LayoutView",
            "align_content": null,
            "align_items": null,
            "align_self": null,
            "border": null,
            "bottom": null,
            "display": null,
            "flex": null,
            "flex_flow": null,
            "grid_area": null,
            "grid_auto_columns": null,
            "grid_auto_flow": null,
            "grid_auto_rows": null,
            "grid_column": null,
            "grid_gap": null,
            "grid_row": null,
            "grid_template_areas": null,
            "grid_template_columns": null,
            "grid_template_rows": null,
            "height": null,
            "justify_content": null,
            "justify_items": null,
            "left": null,
            "margin": null,
            "max_height": null,
            "max_width": null,
            "min_height": null,
            "min_width": null,
            "object_fit": null,
            "object_position": null,
            "order": null,
            "overflow": null,
            "overflow_x": null,
            "overflow_y": null,
            "padding": null,
            "right": null,
            "top": null,
            "visibility": null,
            "width": null
          }
        },
        "2af62274ec5c48db9b4eafc9a8e00c70": {
          "model_module": "@jupyter-widgets/controls",
          "model_name": "DescriptionStyleModel",
          "model_module_version": "1.5.0",
          "state": {
            "_model_module": "@jupyter-widgets/controls",
            "_model_module_version": "1.5.0",
            "_model_name": "DescriptionStyleModel",
            "_view_count": null,
            "_view_module": "@jupyter-widgets/base",
            "_view_module_version": "1.2.0",
            "_view_name": "StyleView",
            "description_width": ""
          }
        },
        "0a6b0d8d19b34065aed34eeb83a50f55": {
          "model_module": "@jupyter-widgets/base",
          "model_name": "LayoutModel",
          "model_module_version": "1.2.0",
          "state": {
            "_model_module": "@jupyter-widgets/base",
            "_model_module_version": "1.2.0",
            "_model_name": "LayoutModel",
            "_view_count": null,
            "_view_module": "@jupyter-widgets/base",
            "_view_module_version": "1.2.0",
            "_view_name": "LayoutView",
            "align_content": null,
            "align_items": null,
            "align_self": null,
            "border": null,
            "bottom": null,
            "display": null,
            "flex": null,
            "flex_flow": null,
            "grid_area": null,
            "grid_auto_columns": null,
            "grid_auto_flow": null,
            "grid_auto_rows": null,
            "grid_column": null,
            "grid_gap": null,
            "grid_row": null,
            "grid_template_areas": null,
            "grid_template_columns": null,
            "grid_template_rows": null,
            "height": null,
            "justify_content": null,
            "justify_items": null,
            "left": null,
            "margin": null,
            "max_height": null,
            "max_width": null,
            "min_height": null,
            "min_width": null,
            "object_fit": null,
            "object_position": null,
            "order": null,
            "overflow": null,
            "overflow_x": null,
            "overflow_y": null,
            "padding": null,
            "right": null,
            "top": null,
            "visibility": null,
            "width": null
          }
        },
        "4ea12b117fdd482bb2f087142beceb07": {
          "model_module": "@jupyter-widgets/controls",
          "model_name": "ProgressStyleModel",
          "model_module_version": "1.5.0",
          "state": {
            "_model_module": "@jupyter-widgets/controls",
            "_model_module_version": "1.5.0",
            "_model_name": "ProgressStyleModel",
            "_view_count": null,
            "_view_module": "@jupyter-widgets/base",
            "_view_module_version": "1.2.0",
            "_view_name": "StyleView",
            "bar_color": null,
            "description_width": ""
          }
        },
        "7265e042fb5c45a78a4bb6f3cae5249e": {
          "model_module": "@jupyter-widgets/base",
          "model_name": "LayoutModel",
          "model_module_version": "1.2.0",
          "state": {
            "_model_module": "@jupyter-widgets/base",
            "_model_module_version": "1.2.0",
            "_model_name": "LayoutModel",
            "_view_count": null,
            "_view_module": "@jupyter-widgets/base",
            "_view_module_version": "1.2.0",
            "_view_name": "LayoutView",
            "align_content": null,
            "align_items": null,
            "align_self": null,
            "border": null,
            "bottom": null,
            "display": null,
            "flex": null,
            "flex_flow": null,
            "grid_area": null,
            "grid_auto_columns": null,
            "grid_auto_flow": null,
            "grid_auto_rows": null,
            "grid_column": null,
            "grid_gap": null,
            "grid_row": null,
            "grid_template_areas": null,
            "grid_template_columns": null,
            "grid_template_rows": null,
            "height": null,
            "justify_content": null,
            "justify_items": null,
            "left": null,
            "margin": null,
            "max_height": null,
            "max_width": null,
            "min_height": null,
            "min_width": null,
            "object_fit": null,
            "object_position": null,
            "order": null,
            "overflow": null,
            "overflow_x": null,
            "overflow_y": null,
            "padding": null,
            "right": null,
            "top": null,
            "visibility": null,
            "width": null
          }
        },
        "ff41943477a14d2991436b2626c9c5b4": {
          "model_module": "@jupyter-widgets/controls",
          "model_name": "DescriptionStyleModel",
          "model_module_version": "1.5.0",
          "state": {
            "_model_module": "@jupyter-widgets/controls",
            "_model_module_version": "1.5.0",
            "_model_name": "DescriptionStyleModel",
            "_view_count": null,
            "_view_module": "@jupyter-widgets/base",
            "_view_module_version": "1.2.0",
            "_view_name": "StyleView",
            "description_width": ""
          }
        },
        "1c68bf11692c4c418e9a166a5b6090b1": {
          "model_module": "@jupyter-widgets/controls",
          "model_name": "HBoxModel",
          "model_module_version": "1.5.0",
          "state": {
            "_dom_classes": [],
            "_model_module": "@jupyter-widgets/controls",
            "_model_module_version": "1.5.0",
            "_model_name": "HBoxModel",
            "_view_count": null,
            "_view_module": "@jupyter-widgets/controls",
            "_view_module_version": "1.5.0",
            "_view_name": "HBoxView",
            "box_style": "",
            "children": [
              "IPY_MODEL_de61a5c448c148b6b8d1e54a73b4b2e4",
              "IPY_MODEL_87d74ca9187f4d99b78624245c9205df",
              "IPY_MODEL_066dfaef3030407d8b77968721da8254"
            ],
            "layout": "IPY_MODEL_379c73159ce64d1f80bc4f0a64566286"
          }
        },
        "de61a5c448c148b6b8d1e54a73b4b2e4": {
          "model_module": "@jupyter-widgets/controls",
          "model_name": "HTMLModel",
          "model_module_version": "1.5.0",
          "state": {
            "_dom_classes": [],
            "_model_module": "@jupyter-widgets/controls",
            "_model_module_version": "1.5.0",
            "_model_name": "HTMLModel",
            "_view_count": null,
            "_view_module": "@jupyter-widgets/controls",
            "_view_module_version": "1.5.0",
            "_view_name": "HTMLView",
            "description": "",
            "description_tooltip": null,
            "layout": "IPY_MODEL_e2f7d1bee4e7467c990598c75e2cb8ef",
            "placeholder": "​",
            "style": "IPY_MODEL_7fae441912e34333b9334c5555faad34",
            "value": "100%"
          }
        },
        "87d74ca9187f4d99b78624245c9205df": {
          "model_module": "@jupyter-widgets/controls",
          "model_name": "FloatProgressModel",
          "model_module_version": "1.5.0",
          "state": {
            "_dom_classes": [],
            "_model_module": "@jupyter-widgets/controls",
            "_model_module_version": "1.5.0",
            "_model_name": "FloatProgressModel",
            "_view_count": null,
            "_view_module": "@jupyter-widgets/controls",
            "_view_module_version": "1.5.0",
            "_view_name": "ProgressView",
            "bar_style": "success",
            "description": "",
            "description_tooltip": null,
            "layout": "IPY_MODEL_5dec1aeea4444f7081edc7f24ebcda95",
            "max": 1,
            "min": 0,
            "orientation": "horizontal",
            "style": "IPY_MODEL_9402932ee9234c7e80f42c8ccb5275fe",
            "value": 1
          }
        },
        "066dfaef3030407d8b77968721da8254": {
          "model_module": "@jupyter-widgets/controls",
          "model_name": "HTMLModel",
          "model_module_version": "1.5.0",
          "state": {
            "_dom_classes": [],
            "_model_module": "@jupyter-widgets/controls",
            "_model_module_version": "1.5.0",
            "_model_name": "HTMLModel",
            "_view_count": null,
            "_view_module": "@jupyter-widgets/controls",
            "_view_module_version": "1.5.0",
            "_view_name": "HTMLView",
            "description": "",
            "description_tooltip": null,
            "layout": "IPY_MODEL_cfaf2941def544659874214ecfbdc727",
            "placeholder": "​",
            "style": "IPY_MODEL_9c2b8702bc0d46f4b25269aaab6f08e8",
            "value": " 1/1 [00:00&lt;00:00, 41.00it/s]"
          }
        },
        "379c73159ce64d1f80bc4f0a64566286": {
          "model_module": "@jupyter-widgets/base",
          "model_name": "LayoutModel",
          "model_module_version": "1.2.0",
          "state": {
            "_model_module": "@jupyter-widgets/base",
            "_model_module_version": "1.2.0",
            "_model_name": "LayoutModel",
            "_view_count": null,
            "_view_module": "@jupyter-widgets/base",
            "_view_module_version": "1.2.0",
            "_view_name": "LayoutView",
            "align_content": null,
            "align_items": null,
            "align_self": null,
            "border": null,
            "bottom": null,
            "display": null,
            "flex": null,
            "flex_flow": null,
            "grid_area": null,
            "grid_auto_columns": null,
            "grid_auto_flow": null,
            "grid_auto_rows": null,
            "grid_column": null,
            "grid_gap": null,
            "grid_row": null,
            "grid_template_areas": null,
            "grid_template_columns": null,
            "grid_template_rows": null,
            "height": null,
            "justify_content": null,
            "justify_items": null,
            "left": null,
            "margin": null,
            "max_height": null,
            "max_width": null,
            "min_height": null,
            "min_width": null,
            "object_fit": null,
            "object_position": null,
            "order": null,
            "overflow": null,
            "overflow_x": null,
            "overflow_y": null,
            "padding": null,
            "right": null,
            "top": null,
            "visibility": null,
            "width": null
          }
        },
        "e2f7d1bee4e7467c990598c75e2cb8ef": {
          "model_module": "@jupyter-widgets/base",
          "model_name": "LayoutModel",
          "model_module_version": "1.2.0",
          "state": {
            "_model_module": "@jupyter-widgets/base",
            "_model_module_version": "1.2.0",
            "_model_name": "LayoutModel",
            "_view_count": null,
            "_view_module": "@jupyter-widgets/base",
            "_view_module_version": "1.2.0",
            "_view_name": "LayoutView",
            "align_content": null,
            "align_items": null,
            "align_self": null,
            "border": null,
            "bottom": null,
            "display": null,
            "flex": null,
            "flex_flow": null,
            "grid_area": null,
            "grid_auto_columns": null,
            "grid_auto_flow": null,
            "grid_auto_rows": null,
            "grid_column": null,
            "grid_gap": null,
            "grid_row": null,
            "grid_template_areas": null,
            "grid_template_columns": null,
            "grid_template_rows": null,
            "height": null,
            "justify_content": null,
            "justify_items": null,
            "left": null,
            "margin": null,
            "max_height": null,
            "max_width": null,
            "min_height": null,
            "min_width": null,
            "object_fit": null,
            "object_position": null,
            "order": null,
            "overflow": null,
            "overflow_x": null,
            "overflow_y": null,
            "padding": null,
            "right": null,
            "top": null,
            "visibility": null,
            "width": null
          }
        },
        "7fae441912e34333b9334c5555faad34": {
          "model_module": "@jupyter-widgets/controls",
          "model_name": "DescriptionStyleModel",
          "model_module_version": "1.5.0",
          "state": {
            "_model_module": "@jupyter-widgets/controls",
            "_model_module_version": "1.5.0",
            "_model_name": "DescriptionStyleModel",
            "_view_count": null,
            "_view_module": "@jupyter-widgets/base",
            "_view_module_version": "1.2.0",
            "_view_name": "StyleView",
            "description_width": ""
          }
        },
        "5dec1aeea4444f7081edc7f24ebcda95": {
          "model_module": "@jupyter-widgets/base",
          "model_name": "LayoutModel",
          "model_module_version": "1.2.0",
          "state": {
            "_model_module": "@jupyter-widgets/base",
            "_model_module_version": "1.2.0",
            "_model_name": "LayoutModel",
            "_view_count": null,
            "_view_module": "@jupyter-widgets/base",
            "_view_module_version": "1.2.0",
            "_view_name": "LayoutView",
            "align_content": null,
            "align_items": null,
            "align_self": null,
            "border": null,
            "bottom": null,
            "display": null,
            "flex": null,
            "flex_flow": null,
            "grid_area": null,
            "grid_auto_columns": null,
            "grid_auto_flow": null,
            "grid_auto_rows": null,
            "grid_column": null,
            "grid_gap": null,
            "grid_row": null,
            "grid_template_areas": null,
            "grid_template_columns": null,
            "grid_template_rows": null,
            "height": null,
            "justify_content": null,
            "justify_items": null,
            "left": null,
            "margin": null,
            "max_height": null,
            "max_width": null,
            "min_height": null,
            "min_width": null,
            "object_fit": null,
            "object_position": null,
            "order": null,
            "overflow": null,
            "overflow_x": null,
            "overflow_y": null,
            "padding": null,
            "right": null,
            "top": null,
            "visibility": null,
            "width": null
          }
        },
        "9402932ee9234c7e80f42c8ccb5275fe": {
          "model_module": "@jupyter-widgets/controls",
          "model_name": "ProgressStyleModel",
          "model_module_version": "1.5.0",
          "state": {
            "_model_module": "@jupyter-widgets/controls",
            "_model_module_version": "1.5.0",
            "_model_name": "ProgressStyleModel",
            "_view_count": null,
            "_view_module": "@jupyter-widgets/base",
            "_view_module_version": "1.2.0",
            "_view_name": "StyleView",
            "bar_color": null,
            "description_width": ""
          }
        },
        "cfaf2941def544659874214ecfbdc727": {
          "model_module": "@jupyter-widgets/base",
          "model_name": "LayoutModel",
          "model_module_version": "1.2.0",
          "state": {
            "_model_module": "@jupyter-widgets/base",
            "_model_module_version": "1.2.0",
            "_model_name": "LayoutModel",
            "_view_count": null,
            "_view_module": "@jupyter-widgets/base",
            "_view_module_version": "1.2.0",
            "_view_name": "LayoutView",
            "align_content": null,
            "align_items": null,
            "align_self": null,
            "border": null,
            "bottom": null,
            "display": null,
            "flex": null,
            "flex_flow": null,
            "grid_area": null,
            "grid_auto_columns": null,
            "grid_auto_flow": null,
            "grid_auto_rows": null,
            "grid_column": null,
            "grid_gap": null,
            "grid_row": null,
            "grid_template_areas": null,
            "grid_template_columns": null,
            "grid_template_rows": null,
            "height": null,
            "justify_content": null,
            "justify_items": null,
            "left": null,
            "margin": null,
            "max_height": null,
            "max_width": null,
            "min_height": null,
            "min_width": null,
            "object_fit": null,
            "object_position": null,
            "order": null,
            "overflow": null,
            "overflow_x": null,
            "overflow_y": null,
            "padding": null,
            "right": null,
            "top": null,
            "visibility": null,
            "width": null
          }
        },
        "9c2b8702bc0d46f4b25269aaab6f08e8": {
          "model_module": "@jupyter-widgets/controls",
          "model_name": "DescriptionStyleModel",
          "model_module_version": "1.5.0",
          "state": {
            "_model_module": "@jupyter-widgets/controls",
            "_model_module_version": "1.5.0",
            "_model_name": "DescriptionStyleModel",
            "_view_count": null,
            "_view_module": "@jupyter-widgets/base",
            "_view_module_version": "1.2.0",
            "_view_name": "StyleView",
            "description_width": ""
          }
        },
        "251a27054c95428a9e593fb81959daa4": {
          "model_module": "@jupyter-widgets/controls",
          "model_name": "HBoxModel",
          "model_module_version": "1.5.0",
          "state": {
            "_dom_classes": [],
            "_model_module": "@jupyter-widgets/controls",
            "_model_module_version": "1.5.0",
            "_model_name": "HBoxModel",
            "_view_count": null,
            "_view_module": "@jupyter-widgets/controls",
            "_view_module_version": "1.5.0",
            "_view_name": "HBoxView",
            "box_style": "",
            "children": [
              "IPY_MODEL_78ae08c6789141228e6e23cdf36d087f",
              "IPY_MODEL_976661276ba74a32bb52226f6b56f52a",
              "IPY_MODEL_12de87f3ec74458b99c9edb13d1c29d0"
            ],
            "layout": "IPY_MODEL_9ccc1df7fb044d87b89a7e2680ddf78d"
          }
        },
        "78ae08c6789141228e6e23cdf36d087f": {
          "model_module": "@jupyter-widgets/controls",
          "model_name": "HTMLModel",
          "model_module_version": "1.5.0",
          "state": {
            "_dom_classes": [],
            "_model_module": "@jupyter-widgets/controls",
            "_model_module_version": "1.5.0",
            "_model_name": "HTMLModel",
            "_view_count": null,
            "_view_module": "@jupyter-widgets/controls",
            "_view_module_version": "1.5.0",
            "_view_name": "HTMLView",
            "description": "",
            "description_tooltip": null,
            "layout": "IPY_MODEL_0f3ca30450db40438e54d0d3bac29cad",
            "placeholder": "​",
            "style": "IPY_MODEL_f0de357974cf4ee0a59331a7f0d00344",
            "value": "100%"
          }
        },
        "976661276ba74a32bb52226f6b56f52a": {
          "model_module": "@jupyter-widgets/controls",
          "model_name": "FloatProgressModel",
          "model_module_version": "1.5.0",
          "state": {
            "_dom_classes": [],
            "_model_module": "@jupyter-widgets/controls",
            "_model_module_version": "1.5.0",
            "_model_name": "FloatProgressModel",
            "_view_count": null,
            "_view_module": "@jupyter-widgets/controls",
            "_view_module_version": "1.5.0",
            "_view_name": "ProgressView",
            "bar_style": "success",
            "description": "",
            "description_tooltip": null,
            "layout": "IPY_MODEL_3862ffbc6e1b42699129c6a78c820e4b",
            "max": 1,
            "min": 0,
            "orientation": "horizontal",
            "style": "IPY_MODEL_2d97df2e5c834c29a42a670d35183bce",
            "value": 1
          }
        },
        "12de87f3ec74458b99c9edb13d1c29d0": {
          "model_module": "@jupyter-widgets/controls",
          "model_name": "HTMLModel",
          "model_module_version": "1.5.0",
          "state": {
            "_dom_classes": [],
            "_model_module": "@jupyter-widgets/controls",
            "_model_module_version": "1.5.0",
            "_model_name": "HTMLModel",
            "_view_count": null,
            "_view_module": "@jupyter-widgets/controls",
            "_view_module_version": "1.5.0",
            "_view_name": "HTMLView",
            "description": "",
            "description_tooltip": null,
            "layout": "IPY_MODEL_fea567bca92a4facb3c5cee2017a4a9e",
            "placeholder": "​",
            "style": "IPY_MODEL_de55180fe841404fa9f4c5c0f6a1f1b3",
            "value": " 1/1 [00:00&lt;00:00, 33.78it/s]"
          }
        },
        "9ccc1df7fb044d87b89a7e2680ddf78d": {
          "model_module": "@jupyter-widgets/base",
          "model_name": "LayoutModel",
          "model_module_version": "1.2.0",
          "state": {
            "_model_module": "@jupyter-widgets/base",
            "_model_module_version": "1.2.0",
            "_model_name": "LayoutModel",
            "_view_count": null,
            "_view_module": "@jupyter-widgets/base",
            "_view_module_version": "1.2.0",
            "_view_name": "LayoutView",
            "align_content": null,
            "align_items": null,
            "align_self": null,
            "border": null,
            "bottom": null,
            "display": null,
            "flex": null,
            "flex_flow": null,
            "grid_area": null,
            "grid_auto_columns": null,
            "grid_auto_flow": null,
            "grid_auto_rows": null,
            "grid_column": null,
            "grid_gap": null,
            "grid_row": null,
            "grid_template_areas": null,
            "grid_template_columns": null,
            "grid_template_rows": null,
            "height": null,
            "justify_content": null,
            "justify_items": null,
            "left": null,
            "margin": null,
            "max_height": null,
            "max_width": null,
            "min_height": null,
            "min_width": null,
            "object_fit": null,
            "object_position": null,
            "order": null,
            "overflow": null,
            "overflow_x": null,
            "overflow_y": null,
            "padding": null,
            "right": null,
            "top": null,
            "visibility": null,
            "width": null
          }
        },
        "0f3ca30450db40438e54d0d3bac29cad": {
          "model_module": "@jupyter-widgets/base",
          "model_name": "LayoutModel",
          "model_module_version": "1.2.0",
          "state": {
            "_model_module": "@jupyter-widgets/base",
            "_model_module_version": "1.2.0",
            "_model_name": "LayoutModel",
            "_view_count": null,
            "_view_module": "@jupyter-widgets/base",
            "_view_module_version": "1.2.0",
            "_view_name": "LayoutView",
            "align_content": null,
            "align_items": null,
            "align_self": null,
            "border": null,
            "bottom": null,
            "display": null,
            "flex": null,
            "flex_flow": null,
            "grid_area": null,
            "grid_auto_columns": null,
            "grid_auto_flow": null,
            "grid_auto_rows": null,
            "grid_column": null,
            "grid_gap": null,
            "grid_row": null,
            "grid_template_areas": null,
            "grid_template_columns": null,
            "grid_template_rows": null,
            "height": null,
            "justify_content": null,
            "justify_items": null,
            "left": null,
            "margin": null,
            "max_height": null,
            "max_width": null,
            "min_height": null,
            "min_width": null,
            "object_fit": null,
            "object_position": null,
            "order": null,
            "overflow": null,
            "overflow_x": null,
            "overflow_y": null,
            "padding": null,
            "right": null,
            "top": null,
            "visibility": null,
            "width": null
          }
        },
        "f0de357974cf4ee0a59331a7f0d00344": {
          "model_module": "@jupyter-widgets/controls",
          "model_name": "DescriptionStyleModel",
          "model_module_version": "1.5.0",
          "state": {
            "_model_module": "@jupyter-widgets/controls",
            "_model_module_version": "1.5.0",
            "_model_name": "DescriptionStyleModel",
            "_view_count": null,
            "_view_module": "@jupyter-widgets/base",
            "_view_module_version": "1.2.0",
            "_view_name": "StyleView",
            "description_width": ""
          }
        },
        "3862ffbc6e1b42699129c6a78c820e4b": {
          "model_module": "@jupyter-widgets/base",
          "model_name": "LayoutModel",
          "model_module_version": "1.2.0",
          "state": {
            "_model_module": "@jupyter-widgets/base",
            "_model_module_version": "1.2.0",
            "_model_name": "LayoutModel",
            "_view_count": null,
            "_view_module": "@jupyter-widgets/base",
            "_view_module_version": "1.2.0",
            "_view_name": "LayoutView",
            "align_content": null,
            "align_items": null,
            "align_self": null,
            "border": null,
            "bottom": null,
            "display": null,
            "flex": null,
            "flex_flow": null,
            "grid_area": null,
            "grid_auto_columns": null,
            "grid_auto_flow": null,
            "grid_auto_rows": null,
            "grid_column": null,
            "grid_gap": null,
            "grid_row": null,
            "grid_template_areas": null,
            "grid_template_columns": null,
            "grid_template_rows": null,
            "height": null,
            "justify_content": null,
            "justify_items": null,
            "left": null,
            "margin": null,
            "max_height": null,
            "max_width": null,
            "min_height": null,
            "min_width": null,
            "object_fit": null,
            "object_position": null,
            "order": null,
            "overflow": null,
            "overflow_x": null,
            "overflow_y": null,
            "padding": null,
            "right": null,
            "top": null,
            "visibility": null,
            "width": null
          }
        },
        "2d97df2e5c834c29a42a670d35183bce": {
          "model_module": "@jupyter-widgets/controls",
          "model_name": "ProgressStyleModel",
          "model_module_version": "1.5.0",
          "state": {
            "_model_module": "@jupyter-widgets/controls",
            "_model_module_version": "1.5.0",
            "_model_name": "ProgressStyleModel",
            "_view_count": null,
            "_view_module": "@jupyter-widgets/base",
            "_view_module_version": "1.2.0",
            "_view_name": "StyleView",
            "bar_color": null,
            "description_width": ""
          }
        },
        "fea567bca92a4facb3c5cee2017a4a9e": {
          "model_module": "@jupyter-widgets/base",
          "model_name": "LayoutModel",
          "model_module_version": "1.2.0",
          "state": {
            "_model_module": "@jupyter-widgets/base",
            "_model_module_version": "1.2.0",
            "_model_name": "LayoutModel",
            "_view_count": null,
            "_view_module": "@jupyter-widgets/base",
            "_view_module_version": "1.2.0",
            "_view_name": "LayoutView",
            "align_content": null,
            "align_items": null,
            "align_self": null,
            "border": null,
            "bottom": null,
            "display": null,
            "flex": null,
            "flex_flow": null,
            "grid_area": null,
            "grid_auto_columns": null,
            "grid_auto_flow": null,
            "grid_auto_rows": null,
            "grid_column": null,
            "grid_gap": null,
            "grid_row": null,
            "grid_template_areas": null,
            "grid_template_columns": null,
            "grid_template_rows": null,
            "height": null,
            "justify_content": null,
            "justify_items": null,
            "left": null,
            "margin": null,
            "max_height": null,
            "max_width": null,
            "min_height": null,
            "min_width": null,
            "object_fit": null,
            "object_position": null,
            "order": null,
            "overflow": null,
            "overflow_x": null,
            "overflow_y": null,
            "padding": null,
            "right": null,
            "top": null,
            "visibility": null,
            "width": null
          }
        },
        "de55180fe841404fa9f4c5c0f6a1f1b3": {
          "model_module": "@jupyter-widgets/controls",
          "model_name": "DescriptionStyleModel",
          "model_module_version": "1.5.0",
          "state": {
            "_model_module": "@jupyter-widgets/controls",
            "_model_module_version": "1.5.0",
            "_model_name": "DescriptionStyleModel",
            "_view_count": null,
            "_view_module": "@jupyter-widgets/base",
            "_view_module_version": "1.2.0",
            "_view_name": "StyleView",
            "description_width": ""
          }
        },
        "bd85b825223e4d77b14f218c1f2dc8e6": {
          "model_module": "@jupyter-widgets/controls",
          "model_name": "HBoxModel",
          "model_module_version": "1.5.0",
          "state": {
            "_dom_classes": [],
            "_model_module": "@jupyter-widgets/controls",
            "_model_module_version": "1.5.0",
            "_model_name": "HBoxModel",
            "_view_count": null,
            "_view_module": "@jupyter-widgets/controls",
            "_view_module_version": "1.5.0",
            "_view_name": "HBoxView",
            "box_style": "",
            "children": [
              "IPY_MODEL_6c5541b0d2ba4d0e97af008217a18d56",
              "IPY_MODEL_db21776184fe4860bd68bbac57954e55",
              "IPY_MODEL_41eaa1e7174c46209e515579eed7b371"
            ],
            "layout": "IPY_MODEL_6b2e74cf4f6d420e989677184c483274"
          }
        },
        "6c5541b0d2ba4d0e97af008217a18d56": {
          "model_module": "@jupyter-widgets/controls",
          "model_name": "HTMLModel",
          "model_module_version": "1.5.0",
          "state": {
            "_dom_classes": [],
            "_model_module": "@jupyter-widgets/controls",
            "_model_module_version": "1.5.0",
            "_model_name": "HTMLModel",
            "_view_count": null,
            "_view_module": "@jupyter-widgets/controls",
            "_view_module_version": "1.5.0",
            "_view_name": "HTMLView",
            "description": "",
            "description_tooltip": null,
            "layout": "IPY_MODEL_398dc97ef910449eb88cb20efd2df760",
            "placeholder": "​",
            "style": "IPY_MODEL_fcd66d08b23c485ba01b02b9e66305c1",
            "value": "100%"
          }
        },
        "db21776184fe4860bd68bbac57954e55": {
          "model_module": "@jupyter-widgets/controls",
          "model_name": "FloatProgressModel",
          "model_module_version": "1.5.0",
          "state": {
            "_dom_classes": [],
            "_model_module": "@jupyter-widgets/controls",
            "_model_module_version": "1.5.0",
            "_model_name": "FloatProgressModel",
            "_view_count": null,
            "_view_module": "@jupyter-widgets/controls",
            "_view_module_version": "1.5.0",
            "_view_name": "ProgressView",
            "bar_style": "success",
            "description": "",
            "description_tooltip": null,
            "layout": "IPY_MODEL_e2cb888b16f342529c400887388e935e",
            "max": 1,
            "min": 0,
            "orientation": "horizontal",
            "style": "IPY_MODEL_bd04f1518f7f4fda99b806bd545bdb01",
            "value": 1
          }
        },
        "41eaa1e7174c46209e515579eed7b371": {
          "model_module": "@jupyter-widgets/controls",
          "model_name": "HTMLModel",
          "model_module_version": "1.5.0",
          "state": {
            "_dom_classes": [],
            "_model_module": "@jupyter-widgets/controls",
            "_model_module_version": "1.5.0",
            "_model_name": "HTMLModel",
            "_view_count": null,
            "_view_module": "@jupyter-widgets/controls",
            "_view_module_version": "1.5.0",
            "_view_name": "HTMLView",
            "description": "",
            "description_tooltip": null,
            "layout": "IPY_MODEL_a301ea0c1f7149d1a83a32ca8965328e",
            "placeholder": "​",
            "style": "IPY_MODEL_6cf4d93e8e8b42099c9a9fc095501306",
            "value": " 1/1 [00:00&lt;00:00, 38.57it/s]"
          }
        },
        "6b2e74cf4f6d420e989677184c483274": {
          "model_module": "@jupyter-widgets/base",
          "model_name": "LayoutModel",
          "model_module_version": "1.2.0",
          "state": {
            "_model_module": "@jupyter-widgets/base",
            "_model_module_version": "1.2.0",
            "_model_name": "LayoutModel",
            "_view_count": null,
            "_view_module": "@jupyter-widgets/base",
            "_view_module_version": "1.2.0",
            "_view_name": "LayoutView",
            "align_content": null,
            "align_items": null,
            "align_self": null,
            "border": null,
            "bottom": null,
            "display": null,
            "flex": null,
            "flex_flow": null,
            "grid_area": null,
            "grid_auto_columns": null,
            "grid_auto_flow": null,
            "grid_auto_rows": null,
            "grid_column": null,
            "grid_gap": null,
            "grid_row": null,
            "grid_template_areas": null,
            "grid_template_columns": null,
            "grid_template_rows": null,
            "height": null,
            "justify_content": null,
            "justify_items": null,
            "left": null,
            "margin": null,
            "max_height": null,
            "max_width": null,
            "min_height": null,
            "min_width": null,
            "object_fit": null,
            "object_position": null,
            "order": null,
            "overflow": null,
            "overflow_x": null,
            "overflow_y": null,
            "padding": null,
            "right": null,
            "top": null,
            "visibility": null,
            "width": null
          }
        },
        "398dc97ef910449eb88cb20efd2df760": {
          "model_module": "@jupyter-widgets/base",
          "model_name": "LayoutModel",
          "model_module_version": "1.2.0",
          "state": {
            "_model_module": "@jupyter-widgets/base",
            "_model_module_version": "1.2.0",
            "_model_name": "LayoutModel",
            "_view_count": null,
            "_view_module": "@jupyter-widgets/base",
            "_view_module_version": "1.2.0",
            "_view_name": "LayoutView",
            "align_content": null,
            "align_items": null,
            "align_self": null,
            "border": null,
            "bottom": null,
            "display": null,
            "flex": null,
            "flex_flow": null,
            "grid_area": null,
            "grid_auto_columns": null,
            "grid_auto_flow": null,
            "grid_auto_rows": null,
            "grid_column": null,
            "grid_gap": null,
            "grid_row": null,
            "grid_template_areas": null,
            "grid_template_columns": null,
            "grid_template_rows": null,
            "height": null,
            "justify_content": null,
            "justify_items": null,
            "left": null,
            "margin": null,
            "max_height": null,
            "max_width": null,
            "min_height": null,
            "min_width": null,
            "object_fit": null,
            "object_position": null,
            "order": null,
            "overflow": null,
            "overflow_x": null,
            "overflow_y": null,
            "padding": null,
            "right": null,
            "top": null,
            "visibility": null,
            "width": null
          }
        },
        "fcd66d08b23c485ba01b02b9e66305c1": {
          "model_module": "@jupyter-widgets/controls",
          "model_name": "DescriptionStyleModel",
          "model_module_version": "1.5.0",
          "state": {
            "_model_module": "@jupyter-widgets/controls",
            "_model_module_version": "1.5.0",
            "_model_name": "DescriptionStyleModel",
            "_view_count": null,
            "_view_module": "@jupyter-widgets/base",
            "_view_module_version": "1.2.0",
            "_view_name": "StyleView",
            "description_width": ""
          }
        },
        "e2cb888b16f342529c400887388e935e": {
          "model_module": "@jupyter-widgets/base",
          "model_name": "LayoutModel",
          "model_module_version": "1.2.0",
          "state": {
            "_model_module": "@jupyter-widgets/base",
            "_model_module_version": "1.2.0",
            "_model_name": "LayoutModel",
            "_view_count": null,
            "_view_module": "@jupyter-widgets/base",
            "_view_module_version": "1.2.0",
            "_view_name": "LayoutView",
            "align_content": null,
            "align_items": null,
            "align_self": null,
            "border": null,
            "bottom": null,
            "display": null,
            "flex": null,
            "flex_flow": null,
            "grid_area": null,
            "grid_auto_columns": null,
            "grid_auto_flow": null,
            "grid_auto_rows": null,
            "grid_column": null,
            "grid_gap": null,
            "grid_row": null,
            "grid_template_areas": null,
            "grid_template_columns": null,
            "grid_template_rows": null,
            "height": null,
            "justify_content": null,
            "justify_items": null,
            "left": null,
            "margin": null,
            "max_height": null,
            "max_width": null,
            "min_height": null,
            "min_width": null,
            "object_fit": null,
            "object_position": null,
            "order": null,
            "overflow": null,
            "overflow_x": null,
            "overflow_y": null,
            "padding": null,
            "right": null,
            "top": null,
            "visibility": null,
            "width": null
          }
        },
        "bd04f1518f7f4fda99b806bd545bdb01": {
          "model_module": "@jupyter-widgets/controls",
          "model_name": "ProgressStyleModel",
          "model_module_version": "1.5.0",
          "state": {
            "_model_module": "@jupyter-widgets/controls",
            "_model_module_version": "1.5.0",
            "_model_name": "ProgressStyleModel",
            "_view_count": null,
            "_view_module": "@jupyter-widgets/base",
            "_view_module_version": "1.2.0",
            "_view_name": "StyleView",
            "bar_color": null,
            "description_width": ""
          }
        },
        "a301ea0c1f7149d1a83a32ca8965328e": {
          "model_module": "@jupyter-widgets/base",
          "model_name": "LayoutModel",
          "model_module_version": "1.2.0",
          "state": {
            "_model_module": "@jupyter-widgets/base",
            "_model_module_version": "1.2.0",
            "_model_name": "LayoutModel",
            "_view_count": null,
            "_view_module": "@jupyter-widgets/base",
            "_view_module_version": "1.2.0",
            "_view_name": "LayoutView",
            "align_content": null,
            "align_items": null,
            "align_self": null,
            "border": null,
            "bottom": null,
            "display": null,
            "flex": null,
            "flex_flow": null,
            "grid_area": null,
            "grid_auto_columns": null,
            "grid_auto_flow": null,
            "grid_auto_rows": null,
            "grid_column": null,
            "grid_gap": null,
            "grid_row": null,
            "grid_template_areas": null,
            "grid_template_columns": null,
            "grid_template_rows": null,
            "height": null,
            "justify_content": null,
            "justify_items": null,
            "left": null,
            "margin": null,
            "max_height": null,
            "max_width": null,
            "min_height": null,
            "min_width": null,
            "object_fit": null,
            "object_position": null,
            "order": null,
            "overflow": null,
            "overflow_x": null,
            "overflow_y": null,
            "padding": null,
            "right": null,
            "top": null,
            "visibility": null,
            "width": null
          }
        },
        "6cf4d93e8e8b42099c9a9fc095501306": {
          "model_module": "@jupyter-widgets/controls",
          "model_name": "DescriptionStyleModel",
          "model_module_version": "1.5.0",
          "state": {
            "_model_module": "@jupyter-widgets/controls",
            "_model_module_version": "1.5.0",
            "_model_name": "DescriptionStyleModel",
            "_view_count": null,
            "_view_module": "@jupyter-widgets/base",
            "_view_module_version": "1.2.0",
            "_view_name": "StyleView",
            "description_width": ""
          }
        },
        "aba7e68c6ba145c2bcb6937293bb34d1": {
          "model_module": "@jupyter-widgets/controls",
          "model_name": "HBoxModel",
          "model_module_version": "1.5.0",
          "state": {
            "_dom_classes": [],
            "_model_module": "@jupyter-widgets/controls",
            "_model_module_version": "1.5.0",
            "_model_name": "HBoxModel",
            "_view_count": null,
            "_view_module": "@jupyter-widgets/controls",
            "_view_module_version": "1.5.0",
            "_view_name": "HBoxView",
            "box_style": "",
            "children": [
              "IPY_MODEL_aaec233b9bb94d29a066a96c46a87e64",
              "IPY_MODEL_29fae5560c784855928915a1df42bf87",
              "IPY_MODEL_57504126cb07494893ab4226a7e84bd5"
            ],
            "layout": "IPY_MODEL_40eb25e33a614d7dbccd1c6504c2d80d"
          }
        },
        "aaec233b9bb94d29a066a96c46a87e64": {
          "model_module": "@jupyter-widgets/controls",
          "model_name": "HTMLModel",
          "model_module_version": "1.5.0",
          "state": {
            "_dom_classes": [],
            "_model_module": "@jupyter-widgets/controls",
            "_model_module_version": "1.5.0",
            "_model_name": "HTMLModel",
            "_view_count": null,
            "_view_module": "@jupyter-widgets/controls",
            "_view_module_version": "1.5.0",
            "_view_name": "HTMLView",
            "description": "",
            "description_tooltip": null,
            "layout": "IPY_MODEL_33f1a432123b4c5e9585845e17309230",
            "placeholder": "​",
            "style": "IPY_MODEL_78bc2da6782c4689857aabb406f2fdcf",
            "value": "100%"
          }
        },
        "29fae5560c784855928915a1df42bf87": {
          "model_module": "@jupyter-widgets/controls",
          "model_name": "FloatProgressModel",
          "model_module_version": "1.5.0",
          "state": {
            "_dom_classes": [],
            "_model_module": "@jupyter-widgets/controls",
            "_model_module_version": "1.5.0",
            "_model_name": "FloatProgressModel",
            "_view_count": null,
            "_view_module": "@jupyter-widgets/controls",
            "_view_module_version": "1.5.0",
            "_view_name": "ProgressView",
            "bar_style": "success",
            "description": "",
            "description_tooltip": null,
            "layout": "IPY_MODEL_c22648729fb740d4aa538a245f7a9b1a",
            "max": 1,
            "min": 0,
            "orientation": "horizontal",
            "style": "IPY_MODEL_c7dc791b9b1948d79bf0b84832293af2",
            "value": 1
          }
        },
        "57504126cb07494893ab4226a7e84bd5": {
          "model_module": "@jupyter-widgets/controls",
          "model_name": "HTMLModel",
          "model_module_version": "1.5.0",
          "state": {
            "_dom_classes": [],
            "_model_module": "@jupyter-widgets/controls",
            "_model_module_version": "1.5.0",
            "_model_name": "HTMLModel",
            "_view_count": null,
            "_view_module": "@jupyter-widgets/controls",
            "_view_module_version": "1.5.0",
            "_view_name": "HTMLView",
            "description": "",
            "description_tooltip": null,
            "layout": "IPY_MODEL_bc9bdcf5642a4e53b2938cec504cd48c",
            "placeholder": "​",
            "style": "IPY_MODEL_9a630c515b4049b282c4c9709cfb1486",
            "value": " 1/1 [00:00&lt;00:00, 42.95it/s]"
          }
        },
        "40eb25e33a614d7dbccd1c6504c2d80d": {
          "model_module": "@jupyter-widgets/base",
          "model_name": "LayoutModel",
          "model_module_version": "1.2.0",
          "state": {
            "_model_module": "@jupyter-widgets/base",
            "_model_module_version": "1.2.0",
            "_model_name": "LayoutModel",
            "_view_count": null,
            "_view_module": "@jupyter-widgets/base",
            "_view_module_version": "1.2.0",
            "_view_name": "LayoutView",
            "align_content": null,
            "align_items": null,
            "align_self": null,
            "border": null,
            "bottom": null,
            "display": null,
            "flex": null,
            "flex_flow": null,
            "grid_area": null,
            "grid_auto_columns": null,
            "grid_auto_flow": null,
            "grid_auto_rows": null,
            "grid_column": null,
            "grid_gap": null,
            "grid_row": null,
            "grid_template_areas": null,
            "grid_template_columns": null,
            "grid_template_rows": null,
            "height": null,
            "justify_content": null,
            "justify_items": null,
            "left": null,
            "margin": null,
            "max_height": null,
            "max_width": null,
            "min_height": null,
            "min_width": null,
            "object_fit": null,
            "object_position": null,
            "order": null,
            "overflow": null,
            "overflow_x": null,
            "overflow_y": null,
            "padding": null,
            "right": null,
            "top": null,
            "visibility": null,
            "width": null
          }
        },
        "33f1a432123b4c5e9585845e17309230": {
          "model_module": "@jupyter-widgets/base",
          "model_name": "LayoutModel",
          "model_module_version": "1.2.0",
          "state": {
            "_model_module": "@jupyter-widgets/base",
            "_model_module_version": "1.2.0",
            "_model_name": "LayoutModel",
            "_view_count": null,
            "_view_module": "@jupyter-widgets/base",
            "_view_module_version": "1.2.0",
            "_view_name": "LayoutView",
            "align_content": null,
            "align_items": null,
            "align_self": null,
            "border": null,
            "bottom": null,
            "display": null,
            "flex": null,
            "flex_flow": null,
            "grid_area": null,
            "grid_auto_columns": null,
            "grid_auto_flow": null,
            "grid_auto_rows": null,
            "grid_column": null,
            "grid_gap": null,
            "grid_row": null,
            "grid_template_areas": null,
            "grid_template_columns": null,
            "grid_template_rows": null,
            "height": null,
            "justify_content": null,
            "justify_items": null,
            "left": null,
            "margin": null,
            "max_height": null,
            "max_width": null,
            "min_height": null,
            "min_width": null,
            "object_fit": null,
            "object_position": null,
            "order": null,
            "overflow": null,
            "overflow_x": null,
            "overflow_y": null,
            "padding": null,
            "right": null,
            "top": null,
            "visibility": null,
            "width": null
          }
        },
        "78bc2da6782c4689857aabb406f2fdcf": {
          "model_module": "@jupyter-widgets/controls",
          "model_name": "DescriptionStyleModel",
          "model_module_version": "1.5.0",
          "state": {
            "_model_module": "@jupyter-widgets/controls",
            "_model_module_version": "1.5.0",
            "_model_name": "DescriptionStyleModel",
            "_view_count": null,
            "_view_module": "@jupyter-widgets/base",
            "_view_module_version": "1.2.0",
            "_view_name": "StyleView",
            "description_width": ""
          }
        },
        "c22648729fb740d4aa538a245f7a9b1a": {
          "model_module": "@jupyter-widgets/base",
          "model_name": "LayoutModel",
          "model_module_version": "1.2.0",
          "state": {
            "_model_module": "@jupyter-widgets/base",
            "_model_module_version": "1.2.0",
            "_model_name": "LayoutModel",
            "_view_count": null,
            "_view_module": "@jupyter-widgets/base",
            "_view_module_version": "1.2.0",
            "_view_name": "LayoutView",
            "align_content": null,
            "align_items": null,
            "align_self": null,
            "border": null,
            "bottom": null,
            "display": null,
            "flex": null,
            "flex_flow": null,
            "grid_area": null,
            "grid_auto_columns": null,
            "grid_auto_flow": null,
            "grid_auto_rows": null,
            "grid_column": null,
            "grid_gap": null,
            "grid_row": null,
            "grid_template_areas": null,
            "grid_template_columns": null,
            "grid_template_rows": null,
            "height": null,
            "justify_content": null,
            "justify_items": null,
            "left": null,
            "margin": null,
            "max_height": null,
            "max_width": null,
            "min_height": null,
            "min_width": null,
            "object_fit": null,
            "object_position": null,
            "order": null,
            "overflow": null,
            "overflow_x": null,
            "overflow_y": null,
            "padding": null,
            "right": null,
            "top": null,
            "visibility": null,
            "width": null
          }
        },
        "c7dc791b9b1948d79bf0b84832293af2": {
          "model_module": "@jupyter-widgets/controls",
          "model_name": "ProgressStyleModel",
          "model_module_version": "1.5.0",
          "state": {
            "_model_module": "@jupyter-widgets/controls",
            "_model_module_version": "1.5.0",
            "_model_name": "ProgressStyleModel",
            "_view_count": null,
            "_view_module": "@jupyter-widgets/base",
            "_view_module_version": "1.2.0",
            "_view_name": "StyleView",
            "bar_color": null,
            "description_width": ""
          }
        },
        "bc9bdcf5642a4e53b2938cec504cd48c": {
          "model_module": "@jupyter-widgets/base",
          "model_name": "LayoutModel",
          "model_module_version": "1.2.0",
          "state": {
            "_model_module": "@jupyter-widgets/base",
            "_model_module_version": "1.2.0",
            "_model_name": "LayoutModel",
            "_view_count": null,
            "_view_module": "@jupyter-widgets/base",
            "_view_module_version": "1.2.0",
            "_view_name": "LayoutView",
            "align_content": null,
            "align_items": null,
            "align_self": null,
            "border": null,
            "bottom": null,
            "display": null,
            "flex": null,
            "flex_flow": null,
            "grid_area": null,
            "grid_auto_columns": null,
            "grid_auto_flow": null,
            "grid_auto_rows": null,
            "grid_column": null,
            "grid_gap": null,
            "grid_row": null,
            "grid_template_areas": null,
            "grid_template_columns": null,
            "grid_template_rows": null,
            "height": null,
            "justify_content": null,
            "justify_items": null,
            "left": null,
            "margin": null,
            "max_height": null,
            "max_width": null,
            "min_height": null,
            "min_width": null,
            "object_fit": null,
            "object_position": null,
            "order": null,
            "overflow": null,
            "overflow_x": null,
            "overflow_y": null,
            "padding": null,
            "right": null,
            "top": null,
            "visibility": null,
            "width": null
          }
        },
        "9a630c515b4049b282c4c9709cfb1486": {
          "model_module": "@jupyter-widgets/controls",
          "model_name": "DescriptionStyleModel",
          "model_module_version": "1.5.0",
          "state": {
            "_model_module": "@jupyter-widgets/controls",
            "_model_module_version": "1.5.0",
            "_model_name": "DescriptionStyleModel",
            "_view_count": null,
            "_view_module": "@jupyter-widgets/base",
            "_view_module_version": "1.2.0",
            "_view_name": "StyleView",
            "description_width": ""
          }
        },
        "f7015f6576794af0a4afa69efbd79e55": {
          "model_module": "@jupyter-widgets/controls",
          "model_name": "HBoxModel",
          "model_module_version": "1.5.0",
          "state": {
            "_dom_classes": [],
            "_model_module": "@jupyter-widgets/controls",
            "_model_module_version": "1.5.0",
            "_model_name": "HBoxModel",
            "_view_count": null,
            "_view_module": "@jupyter-widgets/controls",
            "_view_module_version": "1.5.0",
            "_view_name": "HBoxView",
            "box_style": "",
            "children": [
              "IPY_MODEL_fa5eb8dbb8f44a468faea0cdef4b99a7",
              "IPY_MODEL_e6d09fb8b5194e0f820c161aad4164ce",
              "IPY_MODEL_98714cebe7ba42ec9a4472d3739c8343"
            ],
            "layout": "IPY_MODEL_0a34ff1fa59c4f748bc10fbcf9dfe534"
          }
        },
        "fa5eb8dbb8f44a468faea0cdef4b99a7": {
          "model_module": "@jupyter-widgets/controls",
          "model_name": "HTMLModel",
          "model_module_version": "1.5.0",
          "state": {
            "_dom_classes": [],
            "_model_module": "@jupyter-widgets/controls",
            "_model_module_version": "1.5.0",
            "_model_name": "HTMLModel",
            "_view_count": null,
            "_view_module": "@jupyter-widgets/controls",
            "_view_module_version": "1.5.0",
            "_view_name": "HTMLView",
            "description": "",
            "description_tooltip": null,
            "layout": "IPY_MODEL_0a2eddab9a9b418683de16c3962fa260",
            "placeholder": "​",
            "style": "IPY_MODEL_eca8c91ba5a8412f893a14e3181ea352",
            "value": "100%"
          }
        },
        "e6d09fb8b5194e0f820c161aad4164ce": {
          "model_module": "@jupyter-widgets/controls",
          "model_name": "FloatProgressModel",
          "model_module_version": "1.5.0",
          "state": {
            "_dom_classes": [],
            "_model_module": "@jupyter-widgets/controls",
            "_model_module_version": "1.5.0",
            "_model_name": "FloatProgressModel",
            "_view_count": null,
            "_view_module": "@jupyter-widgets/controls",
            "_view_module_version": "1.5.0",
            "_view_name": "ProgressView",
            "bar_style": "success",
            "description": "",
            "description_tooltip": null,
            "layout": "IPY_MODEL_d2f5f8c64e484f76bc7ad6282d26e8ea",
            "max": 1,
            "min": 0,
            "orientation": "horizontal",
            "style": "IPY_MODEL_5346d4c88d4a4e8f97db9ec9833ce39c",
            "value": 1
          }
        },
        "98714cebe7ba42ec9a4472d3739c8343": {
          "model_module": "@jupyter-widgets/controls",
          "model_name": "HTMLModel",
          "model_module_version": "1.5.0",
          "state": {
            "_dom_classes": [],
            "_model_module": "@jupyter-widgets/controls",
            "_model_module_version": "1.5.0",
            "_model_name": "HTMLModel",
            "_view_count": null,
            "_view_module": "@jupyter-widgets/controls",
            "_view_module_version": "1.5.0",
            "_view_name": "HTMLView",
            "description": "",
            "description_tooltip": null,
            "layout": "IPY_MODEL_8fae24400598413fb63ba32983846994",
            "placeholder": "​",
            "style": "IPY_MODEL_0fd49416ef2049bc9400753dacc8b603",
            "value": " 1/1 [00:00&lt;00:00, 28.66it/s]"
          }
        },
        "0a34ff1fa59c4f748bc10fbcf9dfe534": {
          "model_module": "@jupyter-widgets/base",
          "model_name": "LayoutModel",
          "model_module_version": "1.2.0",
          "state": {
            "_model_module": "@jupyter-widgets/base",
            "_model_module_version": "1.2.0",
            "_model_name": "LayoutModel",
            "_view_count": null,
            "_view_module": "@jupyter-widgets/base",
            "_view_module_version": "1.2.0",
            "_view_name": "LayoutView",
            "align_content": null,
            "align_items": null,
            "align_self": null,
            "border": null,
            "bottom": null,
            "display": null,
            "flex": null,
            "flex_flow": null,
            "grid_area": null,
            "grid_auto_columns": null,
            "grid_auto_flow": null,
            "grid_auto_rows": null,
            "grid_column": null,
            "grid_gap": null,
            "grid_row": null,
            "grid_template_areas": null,
            "grid_template_columns": null,
            "grid_template_rows": null,
            "height": null,
            "justify_content": null,
            "justify_items": null,
            "left": null,
            "margin": null,
            "max_height": null,
            "max_width": null,
            "min_height": null,
            "min_width": null,
            "object_fit": null,
            "object_position": null,
            "order": null,
            "overflow": null,
            "overflow_x": null,
            "overflow_y": null,
            "padding": null,
            "right": null,
            "top": null,
            "visibility": null,
            "width": null
          }
        },
        "0a2eddab9a9b418683de16c3962fa260": {
          "model_module": "@jupyter-widgets/base",
          "model_name": "LayoutModel",
          "model_module_version": "1.2.0",
          "state": {
            "_model_module": "@jupyter-widgets/base",
            "_model_module_version": "1.2.0",
            "_model_name": "LayoutModel",
            "_view_count": null,
            "_view_module": "@jupyter-widgets/base",
            "_view_module_version": "1.2.0",
            "_view_name": "LayoutView",
            "align_content": null,
            "align_items": null,
            "align_self": null,
            "border": null,
            "bottom": null,
            "display": null,
            "flex": null,
            "flex_flow": null,
            "grid_area": null,
            "grid_auto_columns": null,
            "grid_auto_flow": null,
            "grid_auto_rows": null,
            "grid_column": null,
            "grid_gap": null,
            "grid_row": null,
            "grid_template_areas": null,
            "grid_template_columns": null,
            "grid_template_rows": null,
            "height": null,
            "justify_content": null,
            "justify_items": null,
            "left": null,
            "margin": null,
            "max_height": null,
            "max_width": null,
            "min_height": null,
            "min_width": null,
            "object_fit": null,
            "object_position": null,
            "order": null,
            "overflow": null,
            "overflow_x": null,
            "overflow_y": null,
            "padding": null,
            "right": null,
            "top": null,
            "visibility": null,
            "width": null
          }
        },
        "eca8c91ba5a8412f893a14e3181ea352": {
          "model_module": "@jupyter-widgets/controls",
          "model_name": "DescriptionStyleModel",
          "model_module_version": "1.5.0",
          "state": {
            "_model_module": "@jupyter-widgets/controls",
            "_model_module_version": "1.5.0",
            "_model_name": "DescriptionStyleModel",
            "_view_count": null,
            "_view_module": "@jupyter-widgets/base",
            "_view_module_version": "1.2.0",
            "_view_name": "StyleView",
            "description_width": ""
          }
        },
        "d2f5f8c64e484f76bc7ad6282d26e8ea": {
          "model_module": "@jupyter-widgets/base",
          "model_name": "LayoutModel",
          "model_module_version": "1.2.0",
          "state": {
            "_model_module": "@jupyter-widgets/base",
            "_model_module_version": "1.2.0",
            "_model_name": "LayoutModel",
            "_view_count": null,
            "_view_module": "@jupyter-widgets/base",
            "_view_module_version": "1.2.0",
            "_view_name": "LayoutView",
            "align_content": null,
            "align_items": null,
            "align_self": null,
            "border": null,
            "bottom": null,
            "display": null,
            "flex": null,
            "flex_flow": null,
            "grid_area": null,
            "grid_auto_columns": null,
            "grid_auto_flow": null,
            "grid_auto_rows": null,
            "grid_column": null,
            "grid_gap": null,
            "grid_row": null,
            "grid_template_areas": null,
            "grid_template_columns": null,
            "grid_template_rows": null,
            "height": null,
            "justify_content": null,
            "justify_items": null,
            "left": null,
            "margin": null,
            "max_height": null,
            "max_width": null,
            "min_height": null,
            "min_width": null,
            "object_fit": null,
            "object_position": null,
            "order": null,
            "overflow": null,
            "overflow_x": null,
            "overflow_y": null,
            "padding": null,
            "right": null,
            "top": null,
            "visibility": null,
            "width": null
          }
        },
        "5346d4c88d4a4e8f97db9ec9833ce39c": {
          "model_module": "@jupyter-widgets/controls",
          "model_name": "ProgressStyleModel",
          "model_module_version": "1.5.0",
          "state": {
            "_model_module": "@jupyter-widgets/controls",
            "_model_module_version": "1.5.0",
            "_model_name": "ProgressStyleModel",
            "_view_count": null,
            "_view_module": "@jupyter-widgets/base",
            "_view_module_version": "1.2.0",
            "_view_name": "StyleView",
            "bar_color": null,
            "description_width": ""
          }
        },
        "8fae24400598413fb63ba32983846994": {
          "model_module": "@jupyter-widgets/base",
          "model_name": "LayoutModel",
          "model_module_version": "1.2.0",
          "state": {
            "_model_module": "@jupyter-widgets/base",
            "_model_module_version": "1.2.0",
            "_model_name": "LayoutModel",
            "_view_count": null,
            "_view_module": "@jupyter-widgets/base",
            "_view_module_version": "1.2.0",
            "_view_name": "LayoutView",
            "align_content": null,
            "align_items": null,
            "align_self": null,
            "border": null,
            "bottom": null,
            "display": null,
            "flex": null,
            "flex_flow": null,
            "grid_area": null,
            "grid_auto_columns": null,
            "grid_auto_flow": null,
            "grid_auto_rows": null,
            "grid_column": null,
            "grid_gap": null,
            "grid_row": null,
            "grid_template_areas": null,
            "grid_template_columns": null,
            "grid_template_rows": null,
            "height": null,
            "justify_content": null,
            "justify_items": null,
            "left": null,
            "margin": null,
            "max_height": null,
            "max_width": null,
            "min_height": null,
            "min_width": null,
            "object_fit": null,
            "object_position": null,
            "order": null,
            "overflow": null,
            "overflow_x": null,
            "overflow_y": null,
            "padding": null,
            "right": null,
            "top": null,
            "visibility": null,
            "width": null
          }
        },
        "0fd49416ef2049bc9400753dacc8b603": {
          "model_module": "@jupyter-widgets/controls",
          "model_name": "DescriptionStyleModel",
          "model_module_version": "1.5.0",
          "state": {
            "_model_module": "@jupyter-widgets/controls",
            "_model_module_version": "1.5.0",
            "_model_name": "DescriptionStyleModel",
            "_view_count": null,
            "_view_module": "@jupyter-widgets/base",
            "_view_module_version": "1.2.0",
            "_view_name": "StyleView",
            "description_width": ""
          }
        },
        "fb966096895244a08b7318cc8124d58a": {
          "model_module": "@jupyter-widgets/controls",
          "model_name": "HBoxModel",
          "model_module_version": "1.5.0",
          "state": {
            "_dom_classes": [],
            "_model_module": "@jupyter-widgets/controls",
            "_model_module_version": "1.5.0",
            "_model_name": "HBoxModel",
            "_view_count": null,
            "_view_module": "@jupyter-widgets/controls",
            "_view_module_version": "1.5.0",
            "_view_name": "HBoxView",
            "box_style": "",
            "children": [
              "IPY_MODEL_eac1d99988fb49f0a8205a6bd89fd512",
              "IPY_MODEL_64b1753397b74de6aa60969ba723a41c",
              "IPY_MODEL_d2cbe63bf3a54b06b42e614461525f6f"
            ],
            "layout": "IPY_MODEL_8f503aed230547d79afa430fe18f47de"
          }
        },
        "eac1d99988fb49f0a8205a6bd89fd512": {
          "model_module": "@jupyter-widgets/controls",
          "model_name": "HTMLModel",
          "model_module_version": "1.5.0",
          "state": {
            "_dom_classes": [],
            "_model_module": "@jupyter-widgets/controls",
            "_model_module_version": "1.5.0",
            "_model_name": "HTMLModel",
            "_view_count": null,
            "_view_module": "@jupyter-widgets/controls",
            "_view_module_version": "1.5.0",
            "_view_name": "HTMLView",
            "description": "",
            "description_tooltip": null,
            "layout": "IPY_MODEL_7cd839be24bc43ed96a49ded6a0c9fef",
            "placeholder": "​",
            "style": "IPY_MODEL_649c6e15586a402ba16ab9ccd610fd4c",
            "value": "100%"
          }
        },
        "64b1753397b74de6aa60969ba723a41c": {
          "model_module": "@jupyter-widgets/controls",
          "model_name": "FloatProgressModel",
          "model_module_version": "1.5.0",
          "state": {
            "_dom_classes": [],
            "_model_module": "@jupyter-widgets/controls",
            "_model_module_version": "1.5.0",
            "_model_name": "FloatProgressModel",
            "_view_count": null,
            "_view_module": "@jupyter-widgets/controls",
            "_view_module_version": "1.5.0",
            "_view_name": "ProgressView",
            "bar_style": "success",
            "description": "",
            "description_tooltip": null,
            "layout": "IPY_MODEL_a21465d043a14bae8b514c7541f5b132",
            "max": 1,
            "min": 0,
            "orientation": "horizontal",
            "style": "IPY_MODEL_d44477eb387e44bf88b709ab5ff6f921",
            "value": 1
          }
        },
        "d2cbe63bf3a54b06b42e614461525f6f": {
          "model_module": "@jupyter-widgets/controls",
          "model_name": "HTMLModel",
          "model_module_version": "1.5.0",
          "state": {
            "_dom_classes": [],
            "_model_module": "@jupyter-widgets/controls",
            "_model_module_version": "1.5.0",
            "_model_name": "HTMLModel",
            "_view_count": null,
            "_view_module": "@jupyter-widgets/controls",
            "_view_module_version": "1.5.0",
            "_view_name": "HTMLView",
            "description": "",
            "description_tooltip": null,
            "layout": "IPY_MODEL_c483991755da485882a2f88b6c830195",
            "placeholder": "​",
            "style": "IPY_MODEL_b61a760267504e369043d07b4d9bd241",
            "value": " 1/1 [00:00&lt;00:00, 36.84it/s]"
          }
        },
        "8f503aed230547d79afa430fe18f47de": {
          "model_module": "@jupyter-widgets/base",
          "model_name": "LayoutModel",
          "model_module_version": "1.2.0",
          "state": {
            "_model_module": "@jupyter-widgets/base",
            "_model_module_version": "1.2.0",
            "_model_name": "LayoutModel",
            "_view_count": null,
            "_view_module": "@jupyter-widgets/base",
            "_view_module_version": "1.2.0",
            "_view_name": "LayoutView",
            "align_content": null,
            "align_items": null,
            "align_self": null,
            "border": null,
            "bottom": null,
            "display": null,
            "flex": null,
            "flex_flow": null,
            "grid_area": null,
            "grid_auto_columns": null,
            "grid_auto_flow": null,
            "grid_auto_rows": null,
            "grid_column": null,
            "grid_gap": null,
            "grid_row": null,
            "grid_template_areas": null,
            "grid_template_columns": null,
            "grid_template_rows": null,
            "height": null,
            "justify_content": null,
            "justify_items": null,
            "left": null,
            "margin": null,
            "max_height": null,
            "max_width": null,
            "min_height": null,
            "min_width": null,
            "object_fit": null,
            "object_position": null,
            "order": null,
            "overflow": null,
            "overflow_x": null,
            "overflow_y": null,
            "padding": null,
            "right": null,
            "top": null,
            "visibility": null,
            "width": null
          }
        },
        "7cd839be24bc43ed96a49ded6a0c9fef": {
          "model_module": "@jupyter-widgets/base",
          "model_name": "LayoutModel",
          "model_module_version": "1.2.0",
          "state": {
            "_model_module": "@jupyter-widgets/base",
            "_model_module_version": "1.2.0",
            "_model_name": "LayoutModel",
            "_view_count": null,
            "_view_module": "@jupyter-widgets/base",
            "_view_module_version": "1.2.0",
            "_view_name": "LayoutView",
            "align_content": null,
            "align_items": null,
            "align_self": null,
            "border": null,
            "bottom": null,
            "display": null,
            "flex": null,
            "flex_flow": null,
            "grid_area": null,
            "grid_auto_columns": null,
            "grid_auto_flow": null,
            "grid_auto_rows": null,
            "grid_column": null,
            "grid_gap": null,
            "grid_row": null,
            "grid_template_areas": null,
            "grid_template_columns": null,
            "grid_template_rows": null,
            "height": null,
            "justify_content": null,
            "justify_items": null,
            "left": null,
            "margin": null,
            "max_height": null,
            "max_width": null,
            "min_height": null,
            "min_width": null,
            "object_fit": null,
            "object_position": null,
            "order": null,
            "overflow": null,
            "overflow_x": null,
            "overflow_y": null,
            "padding": null,
            "right": null,
            "top": null,
            "visibility": null,
            "width": null
          }
        },
        "649c6e15586a402ba16ab9ccd610fd4c": {
          "model_module": "@jupyter-widgets/controls",
          "model_name": "DescriptionStyleModel",
          "model_module_version": "1.5.0",
          "state": {
            "_model_module": "@jupyter-widgets/controls",
            "_model_module_version": "1.5.0",
            "_model_name": "DescriptionStyleModel",
            "_view_count": null,
            "_view_module": "@jupyter-widgets/base",
            "_view_module_version": "1.2.0",
            "_view_name": "StyleView",
            "description_width": ""
          }
        },
        "a21465d043a14bae8b514c7541f5b132": {
          "model_module": "@jupyter-widgets/base",
          "model_name": "LayoutModel",
          "model_module_version": "1.2.0",
          "state": {
            "_model_module": "@jupyter-widgets/base",
            "_model_module_version": "1.2.0",
            "_model_name": "LayoutModel",
            "_view_count": null,
            "_view_module": "@jupyter-widgets/base",
            "_view_module_version": "1.2.0",
            "_view_name": "LayoutView",
            "align_content": null,
            "align_items": null,
            "align_self": null,
            "border": null,
            "bottom": null,
            "display": null,
            "flex": null,
            "flex_flow": null,
            "grid_area": null,
            "grid_auto_columns": null,
            "grid_auto_flow": null,
            "grid_auto_rows": null,
            "grid_column": null,
            "grid_gap": null,
            "grid_row": null,
            "grid_template_areas": null,
            "grid_template_columns": null,
            "grid_template_rows": null,
            "height": null,
            "justify_content": null,
            "justify_items": null,
            "left": null,
            "margin": null,
            "max_height": null,
            "max_width": null,
            "min_height": null,
            "min_width": null,
            "object_fit": null,
            "object_position": null,
            "order": null,
            "overflow": null,
            "overflow_x": null,
            "overflow_y": null,
            "padding": null,
            "right": null,
            "top": null,
            "visibility": null,
            "width": null
          }
        },
        "d44477eb387e44bf88b709ab5ff6f921": {
          "model_module": "@jupyter-widgets/controls",
          "model_name": "ProgressStyleModel",
          "model_module_version": "1.5.0",
          "state": {
            "_model_module": "@jupyter-widgets/controls",
            "_model_module_version": "1.5.0",
            "_model_name": "ProgressStyleModel",
            "_view_count": null,
            "_view_module": "@jupyter-widgets/base",
            "_view_module_version": "1.2.0",
            "_view_name": "StyleView",
            "bar_color": null,
            "description_width": ""
          }
        },
        "c483991755da485882a2f88b6c830195": {
          "model_module": "@jupyter-widgets/base",
          "model_name": "LayoutModel",
          "model_module_version": "1.2.0",
          "state": {
            "_model_module": "@jupyter-widgets/base",
            "_model_module_version": "1.2.0",
            "_model_name": "LayoutModel",
            "_view_count": null,
            "_view_module": "@jupyter-widgets/base",
            "_view_module_version": "1.2.0",
            "_view_name": "LayoutView",
            "align_content": null,
            "align_items": null,
            "align_self": null,
            "border": null,
            "bottom": null,
            "display": null,
            "flex": null,
            "flex_flow": null,
            "grid_area": null,
            "grid_auto_columns": null,
            "grid_auto_flow": null,
            "grid_auto_rows": null,
            "grid_column": null,
            "grid_gap": null,
            "grid_row": null,
            "grid_template_areas": null,
            "grid_template_columns": null,
            "grid_template_rows": null,
            "height": null,
            "justify_content": null,
            "justify_items": null,
            "left": null,
            "margin": null,
            "max_height": null,
            "max_width": null,
            "min_height": null,
            "min_width": null,
            "object_fit": null,
            "object_position": null,
            "order": null,
            "overflow": null,
            "overflow_x": null,
            "overflow_y": null,
            "padding": null,
            "right": null,
            "top": null,
            "visibility": null,
            "width": null
          }
        },
        "b61a760267504e369043d07b4d9bd241": {
          "model_module": "@jupyter-widgets/controls",
          "model_name": "DescriptionStyleModel",
          "model_module_version": "1.5.0",
          "state": {
            "_model_module": "@jupyter-widgets/controls",
            "_model_module_version": "1.5.0",
            "_model_name": "DescriptionStyleModel",
            "_view_count": null,
            "_view_module": "@jupyter-widgets/base",
            "_view_module_version": "1.2.0",
            "_view_name": "StyleView",
            "description_width": ""
          }
        },
        "eeef2d53ca24483cb6b25d92f0583afd": {
          "model_module": "@jupyter-widgets/controls",
          "model_name": "HBoxModel",
          "model_module_version": "1.5.0",
          "state": {
            "_dom_classes": [],
            "_model_module": "@jupyter-widgets/controls",
            "_model_module_version": "1.5.0",
            "_model_name": "HBoxModel",
            "_view_count": null,
            "_view_module": "@jupyter-widgets/controls",
            "_view_module_version": "1.5.0",
            "_view_name": "HBoxView",
            "box_style": "",
            "children": [
              "IPY_MODEL_94ecd588afc941a0a84b242a7bbc99da",
              "IPY_MODEL_8d65015a0002428a84109bdbd8a492bd",
              "IPY_MODEL_8201faf0407d4f4ebc7cc1e5c07a5881"
            ],
            "layout": "IPY_MODEL_ed8d112d7f9c4b87be9652207360ce45"
          }
        },
        "94ecd588afc941a0a84b242a7bbc99da": {
          "model_module": "@jupyter-widgets/controls",
          "model_name": "HTMLModel",
          "model_module_version": "1.5.0",
          "state": {
            "_dom_classes": [],
            "_model_module": "@jupyter-widgets/controls",
            "_model_module_version": "1.5.0",
            "_model_name": "HTMLModel",
            "_view_count": null,
            "_view_module": "@jupyter-widgets/controls",
            "_view_module_version": "1.5.0",
            "_view_name": "HTMLView",
            "description": "",
            "description_tooltip": null,
            "layout": "IPY_MODEL_1bac5ca8da2049f8a870a413f266bfdc",
            "placeholder": "​",
            "style": "IPY_MODEL_ef8fc218c0404ee389ca29a1b1075893",
            "value": ""
          }
        },
        "8d65015a0002428a84109bdbd8a492bd": {
          "model_module": "@jupyter-widgets/controls",
          "model_name": "FloatProgressModel",
          "model_module_version": "1.5.0",
          "state": {
            "_dom_classes": [],
            "_model_module": "@jupyter-widgets/controls",
            "_model_module_version": "1.5.0",
            "_model_name": "FloatProgressModel",
            "_view_count": null,
            "_view_module": "@jupyter-widgets/controls",
            "_view_module_version": "1.5.0",
            "_view_name": "ProgressView",
            "bar_style": "success",
            "description": "",
            "description_tooltip": null,
            "layout": "IPY_MODEL_112225150fbb4f15acdb062e14195127",
            "max": 1,
            "min": 0,
            "orientation": "horizontal",
            "style": "IPY_MODEL_1491a17e7ded446ea40e391a04822744",
            "value": 1
          }
        },
        "8201faf0407d4f4ebc7cc1e5c07a5881": {
          "model_module": "@jupyter-widgets/controls",
          "model_name": "HTMLModel",
          "model_module_version": "1.5.0",
          "state": {
            "_dom_classes": [],
            "_model_module": "@jupyter-widgets/controls",
            "_model_module_version": "1.5.0",
            "_model_name": "HTMLModel",
            "_view_count": null,
            "_view_module": "@jupyter-widgets/controls",
            "_view_module_version": "1.5.0",
            "_view_name": "HTMLView",
            "description": "",
            "description_tooltip": null,
            "layout": "IPY_MODEL_fb83f2de4259472ebbae7b118a26b303",
            "placeholder": "​",
            "style": "IPY_MODEL_d95d3040ec2846f4bd8652842ff6626f",
            "value": " 1107/? [00:00&lt;00:00, 7174.93ex/s]"
          }
        },
        "ed8d112d7f9c4b87be9652207360ce45": {
          "model_module": "@jupyter-widgets/base",
          "model_name": "LayoutModel",
          "model_module_version": "1.2.0",
          "state": {
            "_model_module": "@jupyter-widgets/base",
            "_model_module_version": "1.2.0",
            "_model_name": "LayoutModel",
            "_view_count": null,
            "_view_module": "@jupyter-widgets/base",
            "_view_module_version": "1.2.0",
            "_view_name": "LayoutView",
            "align_content": null,
            "align_items": null,
            "align_self": null,
            "border": null,
            "bottom": null,
            "display": null,
            "flex": null,
            "flex_flow": null,
            "grid_area": null,
            "grid_auto_columns": null,
            "grid_auto_flow": null,
            "grid_auto_rows": null,
            "grid_column": null,
            "grid_gap": null,
            "grid_row": null,
            "grid_template_areas": null,
            "grid_template_columns": null,
            "grid_template_rows": null,
            "height": null,
            "justify_content": null,
            "justify_items": null,
            "left": null,
            "margin": null,
            "max_height": null,
            "max_width": null,
            "min_height": null,
            "min_width": null,
            "object_fit": null,
            "object_position": null,
            "order": null,
            "overflow": null,
            "overflow_x": null,
            "overflow_y": null,
            "padding": null,
            "right": null,
            "top": null,
            "visibility": null,
            "width": null
          }
        },
        "1bac5ca8da2049f8a870a413f266bfdc": {
          "model_module": "@jupyter-widgets/base",
          "model_name": "LayoutModel",
          "model_module_version": "1.2.0",
          "state": {
            "_model_module": "@jupyter-widgets/base",
            "_model_module_version": "1.2.0",
            "_model_name": "LayoutModel",
            "_view_count": null,
            "_view_module": "@jupyter-widgets/base",
            "_view_module_version": "1.2.0",
            "_view_name": "LayoutView",
            "align_content": null,
            "align_items": null,
            "align_self": null,
            "border": null,
            "bottom": null,
            "display": null,
            "flex": null,
            "flex_flow": null,
            "grid_area": null,
            "grid_auto_columns": null,
            "grid_auto_flow": null,
            "grid_auto_rows": null,
            "grid_column": null,
            "grid_gap": null,
            "grid_row": null,
            "grid_template_areas": null,
            "grid_template_columns": null,
            "grid_template_rows": null,
            "height": null,
            "justify_content": null,
            "justify_items": null,
            "left": null,
            "margin": null,
            "max_height": null,
            "max_width": null,
            "min_height": null,
            "min_width": null,
            "object_fit": null,
            "object_position": null,
            "order": null,
            "overflow": null,
            "overflow_x": null,
            "overflow_y": null,
            "padding": null,
            "right": null,
            "top": null,
            "visibility": null,
            "width": null
          }
        },
        "ef8fc218c0404ee389ca29a1b1075893": {
          "model_module": "@jupyter-widgets/controls",
          "model_name": "DescriptionStyleModel",
          "model_module_version": "1.5.0",
          "state": {
            "_model_module": "@jupyter-widgets/controls",
            "_model_module_version": "1.5.0",
            "_model_name": "DescriptionStyleModel",
            "_view_count": null,
            "_view_module": "@jupyter-widgets/base",
            "_view_module_version": "1.2.0",
            "_view_name": "StyleView",
            "description_width": ""
          }
        },
        "112225150fbb4f15acdb062e14195127": {
          "model_module": "@jupyter-widgets/base",
          "model_name": "LayoutModel",
          "model_module_version": "1.2.0",
          "state": {
            "_model_module": "@jupyter-widgets/base",
            "_model_module_version": "1.2.0",
            "_model_name": "LayoutModel",
            "_view_count": null,
            "_view_module": "@jupyter-widgets/base",
            "_view_module_version": "1.2.0",
            "_view_name": "LayoutView",
            "align_content": null,
            "align_items": null,
            "align_self": null,
            "border": null,
            "bottom": null,
            "display": null,
            "flex": null,
            "flex_flow": null,
            "grid_area": null,
            "grid_auto_columns": null,
            "grid_auto_flow": null,
            "grid_auto_rows": null,
            "grid_column": null,
            "grid_gap": null,
            "grid_row": null,
            "grid_template_areas": null,
            "grid_template_columns": null,
            "grid_template_rows": null,
            "height": null,
            "justify_content": null,
            "justify_items": null,
            "left": null,
            "margin": null,
            "max_height": null,
            "max_width": null,
            "min_height": null,
            "min_width": null,
            "object_fit": null,
            "object_position": null,
            "order": null,
            "overflow": null,
            "overflow_x": null,
            "overflow_y": null,
            "padding": null,
            "right": null,
            "top": null,
            "visibility": null,
            "width": "20px"
          }
        },
        "1491a17e7ded446ea40e391a04822744": {
          "model_module": "@jupyter-widgets/controls",
          "model_name": "ProgressStyleModel",
          "model_module_version": "1.5.0",
          "state": {
            "_model_module": "@jupyter-widgets/controls",
            "_model_module_version": "1.5.0",
            "_model_name": "ProgressStyleModel",
            "_view_count": null,
            "_view_module": "@jupyter-widgets/base",
            "_view_module_version": "1.2.0",
            "_view_name": "StyleView",
            "bar_color": null,
            "description_width": ""
          }
        },
        "fb83f2de4259472ebbae7b118a26b303": {
          "model_module": "@jupyter-widgets/base",
          "model_name": "LayoutModel",
          "model_module_version": "1.2.0",
          "state": {
            "_model_module": "@jupyter-widgets/base",
            "_model_module_version": "1.2.0",
            "_model_name": "LayoutModel",
            "_view_count": null,
            "_view_module": "@jupyter-widgets/base",
            "_view_module_version": "1.2.0",
            "_view_name": "LayoutView",
            "align_content": null,
            "align_items": null,
            "align_self": null,
            "border": null,
            "bottom": null,
            "display": null,
            "flex": null,
            "flex_flow": null,
            "grid_area": null,
            "grid_auto_columns": null,
            "grid_auto_flow": null,
            "grid_auto_rows": null,
            "grid_column": null,
            "grid_gap": null,
            "grid_row": null,
            "grid_template_areas": null,
            "grid_template_columns": null,
            "grid_template_rows": null,
            "height": null,
            "justify_content": null,
            "justify_items": null,
            "left": null,
            "margin": null,
            "max_height": null,
            "max_width": null,
            "min_height": null,
            "min_width": null,
            "object_fit": null,
            "object_position": null,
            "order": null,
            "overflow": null,
            "overflow_x": null,
            "overflow_y": null,
            "padding": null,
            "right": null,
            "top": null,
            "visibility": null,
            "width": null
          }
        },
        "d95d3040ec2846f4bd8652842ff6626f": {
          "model_module": "@jupyter-widgets/controls",
          "model_name": "DescriptionStyleModel",
          "model_module_version": "1.5.0",
          "state": {
            "_model_module": "@jupyter-widgets/controls",
            "_model_module_version": "1.5.0",
            "_model_name": "DescriptionStyleModel",
            "_view_count": null,
            "_view_module": "@jupyter-widgets/base",
            "_view_module_version": "1.2.0",
            "_view_name": "StyleView",
            "description_width": ""
          }
        },
        "9fae0ce57eb147dab87986a17edde98d": {
          "model_module": "@jupyter-widgets/controls",
          "model_name": "HBoxModel",
          "model_module_version": "1.5.0",
          "state": {
            "_dom_classes": [],
            "_model_module": "@jupyter-widgets/controls",
            "_model_module_version": "1.5.0",
            "_model_name": "HBoxModel",
            "_view_count": null,
            "_view_module": "@jupyter-widgets/controls",
            "_view_module_version": "1.5.0",
            "_view_name": "HBoxView",
            "box_style": "",
            "children": [
              "IPY_MODEL_f82bf54ccc484a78a0eb3b4612c53586",
              "IPY_MODEL_4384ff9678e1430e85b72d4fc7569b14",
              "IPY_MODEL_109c4a5779da465f8227e921927a5d67"
            ],
            "layout": "IPY_MODEL_eadbda6678cf4f929751968c61ea374a"
          }
        },
        "f82bf54ccc484a78a0eb3b4612c53586": {
          "model_module": "@jupyter-widgets/controls",
          "model_name": "HTMLModel",
          "model_module_version": "1.5.0",
          "state": {
            "_dom_classes": [],
            "_model_module": "@jupyter-widgets/controls",
            "_model_module_version": "1.5.0",
            "_model_name": "HTMLModel",
            "_view_count": null,
            "_view_module": "@jupyter-widgets/controls",
            "_view_module_version": "1.5.0",
            "_view_name": "HTMLView",
            "description": "",
            "description_tooltip": null,
            "layout": "IPY_MODEL_80d0519510754844b6099238c46a68cc",
            "placeholder": "​",
            "style": "IPY_MODEL_628cb510069343369cfcb425cc5e7680",
            "value": ""
          }
        },
        "4384ff9678e1430e85b72d4fc7569b14": {
          "model_module": "@jupyter-widgets/controls",
          "model_name": "FloatProgressModel",
          "model_module_version": "1.5.0",
          "state": {
            "_dom_classes": [],
            "_model_module": "@jupyter-widgets/controls",
            "_model_module_version": "1.5.0",
            "_model_name": "FloatProgressModel",
            "_view_count": null,
            "_view_module": "@jupyter-widgets/controls",
            "_view_module_version": "1.5.0",
            "_view_name": "ProgressView",
            "bar_style": "success",
            "description": "",
            "description_tooltip": null,
            "layout": "IPY_MODEL_66861a8ccb1b4991a584564509a46942",
            "max": 1,
            "min": 0,
            "orientation": "horizontal",
            "style": "IPY_MODEL_cb775419ef7248e296f9a39993749d4c",
            "value": 1
          }
        },
        "109c4a5779da465f8227e921927a5d67": {
          "model_module": "@jupyter-widgets/controls",
          "model_name": "HTMLModel",
          "model_module_version": "1.5.0",
          "state": {
            "_dom_classes": [],
            "_model_module": "@jupyter-widgets/controls",
            "_model_module_version": "1.5.0",
            "_model_name": "HTMLModel",
            "_view_count": null,
            "_view_module": "@jupyter-widgets/controls",
            "_view_module_version": "1.5.0",
            "_view_name": "HTMLView",
            "description": "",
            "description_tooltip": null,
            "layout": "IPY_MODEL_c842c59944ca49aab8aa89ee4dbc0c27",
            "placeholder": "​",
            "style": "IPY_MODEL_cf76e1b1029b4ece9bbafe79c105caba",
            "value": " 493/? [00:00&lt;00:00, 7481.10ex/s]"
          }
        },
        "eadbda6678cf4f929751968c61ea374a": {
          "model_module": "@jupyter-widgets/base",
          "model_name": "LayoutModel",
          "model_module_version": "1.2.0",
          "state": {
            "_model_module": "@jupyter-widgets/base",
            "_model_module_version": "1.2.0",
            "_model_name": "LayoutModel",
            "_view_count": null,
            "_view_module": "@jupyter-widgets/base",
            "_view_module_version": "1.2.0",
            "_view_name": "LayoutView",
            "align_content": null,
            "align_items": null,
            "align_self": null,
            "border": null,
            "bottom": null,
            "display": null,
            "flex": null,
            "flex_flow": null,
            "grid_area": null,
            "grid_auto_columns": null,
            "grid_auto_flow": null,
            "grid_auto_rows": null,
            "grid_column": null,
            "grid_gap": null,
            "grid_row": null,
            "grid_template_areas": null,
            "grid_template_columns": null,
            "grid_template_rows": null,
            "height": null,
            "justify_content": null,
            "justify_items": null,
            "left": null,
            "margin": null,
            "max_height": null,
            "max_width": null,
            "min_height": null,
            "min_width": null,
            "object_fit": null,
            "object_position": null,
            "order": null,
            "overflow": null,
            "overflow_x": null,
            "overflow_y": null,
            "padding": null,
            "right": null,
            "top": null,
            "visibility": null,
            "width": null
          }
        },
        "80d0519510754844b6099238c46a68cc": {
          "model_module": "@jupyter-widgets/base",
          "model_name": "LayoutModel",
          "model_module_version": "1.2.0",
          "state": {
            "_model_module": "@jupyter-widgets/base",
            "_model_module_version": "1.2.0",
            "_model_name": "LayoutModel",
            "_view_count": null,
            "_view_module": "@jupyter-widgets/base",
            "_view_module_version": "1.2.0",
            "_view_name": "LayoutView",
            "align_content": null,
            "align_items": null,
            "align_self": null,
            "border": null,
            "bottom": null,
            "display": null,
            "flex": null,
            "flex_flow": null,
            "grid_area": null,
            "grid_auto_columns": null,
            "grid_auto_flow": null,
            "grid_auto_rows": null,
            "grid_column": null,
            "grid_gap": null,
            "grid_row": null,
            "grid_template_areas": null,
            "grid_template_columns": null,
            "grid_template_rows": null,
            "height": null,
            "justify_content": null,
            "justify_items": null,
            "left": null,
            "margin": null,
            "max_height": null,
            "max_width": null,
            "min_height": null,
            "min_width": null,
            "object_fit": null,
            "object_position": null,
            "order": null,
            "overflow": null,
            "overflow_x": null,
            "overflow_y": null,
            "padding": null,
            "right": null,
            "top": null,
            "visibility": null,
            "width": null
          }
        },
        "628cb510069343369cfcb425cc5e7680": {
          "model_module": "@jupyter-widgets/controls",
          "model_name": "DescriptionStyleModel",
          "model_module_version": "1.5.0",
          "state": {
            "_model_module": "@jupyter-widgets/controls",
            "_model_module_version": "1.5.0",
            "_model_name": "DescriptionStyleModel",
            "_view_count": null,
            "_view_module": "@jupyter-widgets/base",
            "_view_module_version": "1.2.0",
            "_view_name": "StyleView",
            "description_width": ""
          }
        },
        "66861a8ccb1b4991a584564509a46942": {
          "model_module": "@jupyter-widgets/base",
          "model_name": "LayoutModel",
          "model_module_version": "1.2.0",
          "state": {
            "_model_module": "@jupyter-widgets/base",
            "_model_module_version": "1.2.0",
            "_model_name": "LayoutModel",
            "_view_count": null,
            "_view_module": "@jupyter-widgets/base",
            "_view_module_version": "1.2.0",
            "_view_name": "LayoutView",
            "align_content": null,
            "align_items": null,
            "align_self": null,
            "border": null,
            "bottom": null,
            "display": null,
            "flex": null,
            "flex_flow": null,
            "grid_area": null,
            "grid_auto_columns": null,
            "grid_auto_flow": null,
            "grid_auto_rows": null,
            "grid_column": null,
            "grid_gap": null,
            "grid_row": null,
            "grid_template_areas": null,
            "grid_template_columns": null,
            "grid_template_rows": null,
            "height": null,
            "justify_content": null,
            "justify_items": null,
            "left": null,
            "margin": null,
            "max_height": null,
            "max_width": null,
            "min_height": null,
            "min_width": null,
            "object_fit": null,
            "object_position": null,
            "order": null,
            "overflow": null,
            "overflow_x": null,
            "overflow_y": null,
            "padding": null,
            "right": null,
            "top": null,
            "visibility": null,
            "width": "20px"
          }
        },
        "cb775419ef7248e296f9a39993749d4c": {
          "model_module": "@jupyter-widgets/controls",
          "model_name": "ProgressStyleModel",
          "model_module_version": "1.5.0",
          "state": {
            "_model_module": "@jupyter-widgets/controls",
            "_model_module_version": "1.5.0",
            "_model_name": "ProgressStyleModel",
            "_view_count": null,
            "_view_module": "@jupyter-widgets/base",
            "_view_module_version": "1.2.0",
            "_view_name": "StyleView",
            "bar_color": null,
            "description_width": ""
          }
        },
        "c842c59944ca49aab8aa89ee4dbc0c27": {
          "model_module": "@jupyter-widgets/base",
          "model_name": "LayoutModel",
          "model_module_version": "1.2.0",
          "state": {
            "_model_module": "@jupyter-widgets/base",
            "_model_module_version": "1.2.0",
            "_model_name": "LayoutModel",
            "_view_count": null,
            "_view_module": "@jupyter-widgets/base",
            "_view_module_version": "1.2.0",
            "_view_name": "LayoutView",
            "align_content": null,
            "align_items": null,
            "align_self": null,
            "border": null,
            "bottom": null,
            "display": null,
            "flex": null,
            "flex_flow": null,
            "grid_area": null,
            "grid_auto_columns": null,
            "grid_auto_flow": null,
            "grid_auto_rows": null,
            "grid_column": null,
            "grid_gap": null,
            "grid_row": null,
            "grid_template_areas": null,
            "grid_template_columns": null,
            "grid_template_rows": null,
            "height": null,
            "justify_content": null,
            "justify_items": null,
            "left": null,
            "margin": null,
            "max_height": null,
            "max_width": null,
            "min_height": null,
            "min_width": null,
            "object_fit": null,
            "object_position": null,
            "order": null,
            "overflow": null,
            "overflow_x": null,
            "overflow_y": null,
            "padding": null,
            "right": null,
            "top": null,
            "visibility": null,
            "width": null
          }
        },
        "cf76e1b1029b4ece9bbafe79c105caba": {
          "model_module": "@jupyter-widgets/controls",
          "model_name": "DescriptionStyleModel",
          "model_module_version": "1.5.0",
          "state": {
            "_model_module": "@jupyter-widgets/controls",
            "_model_module_version": "1.5.0",
            "_model_name": "DescriptionStyleModel",
            "_view_count": null,
            "_view_module": "@jupyter-widgets/base",
            "_view_module_version": "1.2.0",
            "_view_name": "StyleView",
            "description_width": ""
          }
        },
        "35a5546442fd4ccd8dfdaf076d03ddc1": {
          "model_module": "@jupyter-widgets/controls",
          "model_name": "HBoxModel",
          "model_module_version": "1.5.0",
          "state": {
            "_dom_classes": [],
            "_model_module": "@jupyter-widgets/controls",
            "_model_module_version": "1.5.0",
            "_model_name": "HBoxModel",
            "_view_count": null,
            "_view_module": "@jupyter-widgets/controls",
            "_view_module_version": "1.5.0",
            "_view_name": "HBoxView",
            "box_style": "",
            "children": [
              "IPY_MODEL_9b679ed2545747688f8764e348b27b07",
              "IPY_MODEL_017b26cfbaf449b9b56d6368b62bb998",
              "IPY_MODEL_b5ea50a0fc4b44659f691e2924293764"
            ],
            "layout": "IPY_MODEL_97904d6d74e9403b9944ecbb41d3eee8"
          }
        },
        "9b679ed2545747688f8764e348b27b07": {
          "model_module": "@jupyter-widgets/controls",
          "model_name": "HTMLModel",
          "model_module_version": "1.5.0",
          "state": {
            "_dom_classes": [],
            "_model_module": "@jupyter-widgets/controls",
            "_model_module_version": "1.5.0",
            "_model_name": "HTMLModel",
            "_view_count": null,
            "_view_module": "@jupyter-widgets/controls",
            "_view_module_version": "1.5.0",
            "_view_name": "HTMLView",
            "description": "",
            "description_tooltip": null,
            "layout": "IPY_MODEL_945f563947d14189a4f18d74d1bfc4d8",
            "placeholder": "​",
            "style": "IPY_MODEL_de203556c63d4d8ca547b892b4279163",
            "value": ""
          }
        },
        "017b26cfbaf449b9b56d6368b62bb998": {
          "model_module": "@jupyter-widgets/controls",
          "model_name": "FloatProgressModel",
          "model_module_version": "1.5.0",
          "state": {
            "_dom_classes": [],
            "_model_module": "@jupyter-widgets/controls",
            "_model_module_version": "1.5.0",
            "_model_name": "FloatProgressModel",
            "_view_count": null,
            "_view_module": "@jupyter-widgets/controls",
            "_view_module_version": "1.5.0",
            "_view_name": "ProgressView",
            "bar_style": "success",
            "description": "",
            "description_tooltip": null,
            "layout": "IPY_MODEL_de60c8d9464f426ea9f1ab965f6dacfa",
            "max": 1,
            "min": 0,
            "orientation": "horizontal",
            "style": "IPY_MODEL_08eba8d4718e4bb895e69262b811e1f4",
            "value": 1
          }
        },
        "b5ea50a0fc4b44659f691e2924293764": {
          "model_module": "@jupyter-widgets/controls",
          "model_name": "HTMLModel",
          "model_module_version": "1.5.0",
          "state": {
            "_dom_classes": [],
            "_model_module": "@jupyter-widgets/controls",
            "_model_module_version": "1.5.0",
            "_model_name": "HTMLModel",
            "_view_count": null,
            "_view_module": "@jupyter-widgets/controls",
            "_view_module_version": "1.5.0",
            "_view_name": "HTMLView",
            "description": "",
            "description_tooltip": null,
            "layout": "IPY_MODEL_6d48546b5c454e55acc7693b579b91de",
            "placeholder": "​",
            "style": "IPY_MODEL_8332626b54dd4c46a67b8880d31e1376",
            "value": " 453/? [00:00&lt;00:00, 7017.46ex/s]"
          }
        },
        "97904d6d74e9403b9944ecbb41d3eee8": {
          "model_module": "@jupyter-widgets/base",
          "model_name": "LayoutModel",
          "model_module_version": "1.2.0",
          "state": {
            "_model_module": "@jupyter-widgets/base",
            "_model_module_version": "1.2.0",
            "_model_name": "LayoutModel",
            "_view_count": null,
            "_view_module": "@jupyter-widgets/base",
            "_view_module_version": "1.2.0",
            "_view_name": "LayoutView",
            "align_content": null,
            "align_items": null,
            "align_self": null,
            "border": null,
            "bottom": null,
            "display": null,
            "flex": null,
            "flex_flow": null,
            "grid_area": null,
            "grid_auto_columns": null,
            "grid_auto_flow": null,
            "grid_auto_rows": null,
            "grid_column": null,
            "grid_gap": null,
            "grid_row": null,
            "grid_template_areas": null,
            "grid_template_columns": null,
            "grid_template_rows": null,
            "height": null,
            "justify_content": null,
            "justify_items": null,
            "left": null,
            "margin": null,
            "max_height": null,
            "max_width": null,
            "min_height": null,
            "min_width": null,
            "object_fit": null,
            "object_position": null,
            "order": null,
            "overflow": null,
            "overflow_x": null,
            "overflow_y": null,
            "padding": null,
            "right": null,
            "top": null,
            "visibility": null,
            "width": null
          }
        },
        "945f563947d14189a4f18d74d1bfc4d8": {
          "model_module": "@jupyter-widgets/base",
          "model_name": "LayoutModel",
          "model_module_version": "1.2.0",
          "state": {
            "_model_module": "@jupyter-widgets/base",
            "_model_module_version": "1.2.0",
            "_model_name": "LayoutModel",
            "_view_count": null,
            "_view_module": "@jupyter-widgets/base",
            "_view_module_version": "1.2.0",
            "_view_name": "LayoutView",
            "align_content": null,
            "align_items": null,
            "align_self": null,
            "border": null,
            "bottom": null,
            "display": null,
            "flex": null,
            "flex_flow": null,
            "grid_area": null,
            "grid_auto_columns": null,
            "grid_auto_flow": null,
            "grid_auto_rows": null,
            "grid_column": null,
            "grid_gap": null,
            "grid_row": null,
            "grid_template_areas": null,
            "grid_template_columns": null,
            "grid_template_rows": null,
            "height": null,
            "justify_content": null,
            "justify_items": null,
            "left": null,
            "margin": null,
            "max_height": null,
            "max_width": null,
            "min_height": null,
            "min_width": null,
            "object_fit": null,
            "object_position": null,
            "order": null,
            "overflow": null,
            "overflow_x": null,
            "overflow_y": null,
            "padding": null,
            "right": null,
            "top": null,
            "visibility": null,
            "width": null
          }
        },
        "de203556c63d4d8ca547b892b4279163": {
          "model_module": "@jupyter-widgets/controls",
          "model_name": "DescriptionStyleModel",
          "model_module_version": "1.5.0",
          "state": {
            "_model_module": "@jupyter-widgets/controls",
            "_model_module_version": "1.5.0",
            "_model_name": "DescriptionStyleModel",
            "_view_count": null,
            "_view_module": "@jupyter-widgets/base",
            "_view_module_version": "1.2.0",
            "_view_name": "StyleView",
            "description_width": ""
          }
        },
        "de60c8d9464f426ea9f1ab965f6dacfa": {
          "model_module": "@jupyter-widgets/base",
          "model_name": "LayoutModel",
          "model_module_version": "1.2.0",
          "state": {
            "_model_module": "@jupyter-widgets/base",
            "_model_module_version": "1.2.0",
            "_model_name": "LayoutModel",
            "_view_count": null,
            "_view_module": "@jupyter-widgets/base",
            "_view_module_version": "1.2.0",
            "_view_name": "LayoutView",
            "align_content": null,
            "align_items": null,
            "align_self": null,
            "border": null,
            "bottom": null,
            "display": null,
            "flex": null,
            "flex_flow": null,
            "grid_area": null,
            "grid_auto_columns": null,
            "grid_auto_flow": null,
            "grid_auto_rows": null,
            "grid_column": null,
            "grid_gap": null,
            "grid_row": null,
            "grid_template_areas": null,
            "grid_template_columns": null,
            "grid_template_rows": null,
            "height": null,
            "justify_content": null,
            "justify_items": null,
            "left": null,
            "margin": null,
            "max_height": null,
            "max_width": null,
            "min_height": null,
            "min_width": null,
            "object_fit": null,
            "object_position": null,
            "order": null,
            "overflow": null,
            "overflow_x": null,
            "overflow_y": null,
            "padding": null,
            "right": null,
            "top": null,
            "visibility": null,
            "width": "20px"
          }
        },
        "08eba8d4718e4bb895e69262b811e1f4": {
          "model_module": "@jupyter-widgets/controls",
          "model_name": "ProgressStyleModel",
          "model_module_version": "1.5.0",
          "state": {
            "_model_module": "@jupyter-widgets/controls",
            "_model_module_version": "1.5.0",
            "_model_name": "ProgressStyleModel",
            "_view_count": null,
            "_view_module": "@jupyter-widgets/base",
            "_view_module_version": "1.2.0",
            "_view_name": "StyleView",
            "bar_color": null,
            "description_width": ""
          }
        },
        "6d48546b5c454e55acc7693b579b91de": {
          "model_module": "@jupyter-widgets/base",
          "model_name": "LayoutModel",
          "model_module_version": "1.2.0",
          "state": {
            "_model_module": "@jupyter-widgets/base",
            "_model_module_version": "1.2.0",
            "_model_name": "LayoutModel",
            "_view_count": null,
            "_view_module": "@jupyter-widgets/base",
            "_view_module_version": "1.2.0",
            "_view_name": "LayoutView",
            "align_content": null,
            "align_items": null,
            "align_self": null,
            "border": null,
            "bottom": null,
            "display": null,
            "flex": null,
            "flex_flow": null,
            "grid_area": null,
            "grid_auto_columns": null,
            "grid_auto_flow": null,
            "grid_auto_rows": null,
            "grid_column": null,
            "grid_gap": null,
            "grid_row": null,
            "grid_template_areas": null,
            "grid_template_columns": null,
            "grid_template_rows": null,
            "height": null,
            "justify_content": null,
            "justify_items": null,
            "left": null,
            "margin": null,
            "max_height": null,
            "max_width": null,
            "min_height": null,
            "min_width": null,
            "object_fit": null,
            "object_position": null,
            "order": null,
            "overflow": null,
            "overflow_x": null,
            "overflow_y": null,
            "padding": null,
            "right": null,
            "top": null,
            "visibility": null,
            "width": null
          }
        },
        "8332626b54dd4c46a67b8880d31e1376": {
          "model_module": "@jupyter-widgets/controls",
          "model_name": "DescriptionStyleModel",
          "model_module_version": "1.5.0",
          "state": {
            "_model_module": "@jupyter-widgets/controls",
            "_model_module_version": "1.5.0",
            "_model_name": "DescriptionStyleModel",
            "_view_count": null,
            "_view_module": "@jupyter-widgets/base",
            "_view_module_version": "1.2.0",
            "_view_name": "StyleView",
            "description_width": ""
          }
        },
        "bee94839efbc4019bd963f4ffa5052d0": {
          "model_module": "@jupyter-widgets/controls",
          "model_name": "HBoxModel",
          "model_module_version": "1.5.0",
          "state": {
            "_dom_classes": [],
            "_model_module": "@jupyter-widgets/controls",
            "_model_module_version": "1.5.0",
            "_model_name": "HBoxModel",
            "_view_count": null,
            "_view_module": "@jupyter-widgets/controls",
            "_view_module_version": "1.5.0",
            "_view_name": "HBoxView",
            "box_style": "",
            "children": [
              "IPY_MODEL_030e38ea3154454c821e272269acdfc8",
              "IPY_MODEL_c5eede5ebefd46e5827f0facc742e72e",
              "IPY_MODEL_9b833ddd25f64d17bd3b15eff8fe801e"
            ],
            "layout": "IPY_MODEL_3a9a1a40d72f4114afa948a010daf45d"
          }
        },
        "030e38ea3154454c821e272269acdfc8": {
          "model_module": "@jupyter-widgets/controls",
          "model_name": "HTMLModel",
          "model_module_version": "1.5.0",
          "state": {
            "_dom_classes": [],
            "_model_module": "@jupyter-widgets/controls",
            "_model_module_version": "1.5.0",
            "_model_name": "HTMLModel",
            "_view_count": null,
            "_view_module": "@jupyter-widgets/controls",
            "_view_module_version": "1.5.0",
            "_view_name": "HTMLView",
            "description": "",
            "description_tooltip": null,
            "layout": "IPY_MODEL_cd55b87e72414e3cbd9fbe52f4913e61",
            "placeholder": "​",
            "style": "IPY_MODEL_9599a2a95b1f4951a81fd7d5df03b435",
            "value": "100%"
          }
        },
        "c5eede5ebefd46e5827f0facc742e72e": {
          "model_module": "@jupyter-widgets/controls",
          "model_name": "FloatProgressModel",
          "model_module_version": "1.5.0",
          "state": {
            "_dom_classes": [],
            "_model_module": "@jupyter-widgets/controls",
            "_model_module_version": "1.5.0",
            "_model_name": "FloatProgressModel",
            "_view_count": null,
            "_view_module": "@jupyter-widgets/controls",
            "_view_module_version": "1.5.0",
            "_view_name": "ProgressView",
            "bar_style": "success",
            "description": "",
            "description_tooltip": null,
            "layout": "IPY_MODEL_a85120896c8e404ea4bfd8981bc19c26",
            "max": 1,
            "min": 0,
            "orientation": "horizontal",
            "style": "IPY_MODEL_e8272ac5044041e98cc125e87fa475f9",
            "value": 1
          }
        },
        "9b833ddd25f64d17bd3b15eff8fe801e": {
          "model_module": "@jupyter-widgets/controls",
          "model_name": "HTMLModel",
          "model_module_version": "1.5.0",
          "state": {
            "_dom_classes": [],
            "_model_module": "@jupyter-widgets/controls",
            "_model_module_version": "1.5.0",
            "_model_name": "HTMLModel",
            "_view_count": null,
            "_view_module": "@jupyter-widgets/controls",
            "_view_module_version": "1.5.0",
            "_view_name": "HTMLView",
            "description": "",
            "description_tooltip": null,
            "layout": "IPY_MODEL_41fd43e70de7470fa3c5477c3b1d1af0",
            "placeholder": "​",
            "style": "IPY_MODEL_a2c22ce75f26415ca930501e1a1372f6",
            "value": " 1/1 [00:00&lt;00:00, 33.37ba/s]"
          }
        },
        "3a9a1a40d72f4114afa948a010daf45d": {
          "model_module": "@jupyter-widgets/base",
          "model_name": "LayoutModel",
          "model_module_version": "1.2.0",
          "state": {
            "_model_module": "@jupyter-widgets/base",
            "_model_module_version": "1.2.0",
            "_model_name": "LayoutModel",
            "_view_count": null,
            "_view_module": "@jupyter-widgets/base",
            "_view_module_version": "1.2.0",
            "_view_name": "LayoutView",
            "align_content": null,
            "align_items": null,
            "align_self": null,
            "border": null,
            "bottom": null,
            "display": null,
            "flex": null,
            "flex_flow": null,
            "grid_area": null,
            "grid_auto_columns": null,
            "grid_auto_flow": null,
            "grid_auto_rows": null,
            "grid_column": null,
            "grid_gap": null,
            "grid_row": null,
            "grid_template_areas": null,
            "grid_template_columns": null,
            "grid_template_rows": null,
            "height": null,
            "justify_content": null,
            "justify_items": null,
            "left": null,
            "margin": null,
            "max_height": null,
            "max_width": null,
            "min_height": null,
            "min_width": null,
            "object_fit": null,
            "object_position": null,
            "order": null,
            "overflow": null,
            "overflow_x": null,
            "overflow_y": null,
            "padding": null,
            "right": null,
            "top": null,
            "visibility": null,
            "width": null
          }
        },
        "cd55b87e72414e3cbd9fbe52f4913e61": {
          "model_module": "@jupyter-widgets/base",
          "model_name": "LayoutModel",
          "model_module_version": "1.2.0",
          "state": {
            "_model_module": "@jupyter-widgets/base",
            "_model_module_version": "1.2.0",
            "_model_name": "LayoutModel",
            "_view_count": null,
            "_view_module": "@jupyter-widgets/base",
            "_view_module_version": "1.2.0",
            "_view_name": "LayoutView",
            "align_content": null,
            "align_items": null,
            "align_self": null,
            "border": null,
            "bottom": null,
            "display": null,
            "flex": null,
            "flex_flow": null,
            "grid_area": null,
            "grid_auto_columns": null,
            "grid_auto_flow": null,
            "grid_auto_rows": null,
            "grid_column": null,
            "grid_gap": null,
            "grid_row": null,
            "grid_template_areas": null,
            "grid_template_columns": null,
            "grid_template_rows": null,
            "height": null,
            "justify_content": null,
            "justify_items": null,
            "left": null,
            "margin": null,
            "max_height": null,
            "max_width": null,
            "min_height": null,
            "min_width": null,
            "object_fit": null,
            "object_position": null,
            "order": null,
            "overflow": null,
            "overflow_x": null,
            "overflow_y": null,
            "padding": null,
            "right": null,
            "top": null,
            "visibility": null,
            "width": null
          }
        },
        "9599a2a95b1f4951a81fd7d5df03b435": {
          "model_module": "@jupyter-widgets/controls",
          "model_name": "DescriptionStyleModel",
          "model_module_version": "1.5.0",
          "state": {
            "_model_module": "@jupyter-widgets/controls",
            "_model_module_version": "1.5.0",
            "_model_name": "DescriptionStyleModel",
            "_view_count": null,
            "_view_module": "@jupyter-widgets/base",
            "_view_module_version": "1.2.0",
            "_view_name": "StyleView",
            "description_width": ""
          }
        },
        "a85120896c8e404ea4bfd8981bc19c26": {
          "model_module": "@jupyter-widgets/base",
          "model_name": "LayoutModel",
          "model_module_version": "1.2.0",
          "state": {
            "_model_module": "@jupyter-widgets/base",
            "_model_module_version": "1.2.0",
            "_model_name": "LayoutModel",
            "_view_count": null,
            "_view_module": "@jupyter-widgets/base",
            "_view_module_version": "1.2.0",
            "_view_name": "LayoutView",
            "align_content": null,
            "align_items": null,
            "align_self": null,
            "border": null,
            "bottom": null,
            "display": null,
            "flex": null,
            "flex_flow": null,
            "grid_area": null,
            "grid_auto_columns": null,
            "grid_auto_flow": null,
            "grid_auto_rows": null,
            "grid_column": null,
            "grid_gap": null,
            "grid_row": null,
            "grid_template_areas": null,
            "grid_template_columns": null,
            "grid_template_rows": null,
            "height": null,
            "justify_content": null,
            "justify_items": null,
            "left": null,
            "margin": null,
            "max_height": null,
            "max_width": null,
            "min_height": null,
            "min_width": null,
            "object_fit": null,
            "object_position": null,
            "order": null,
            "overflow": null,
            "overflow_x": null,
            "overflow_y": null,
            "padding": null,
            "right": null,
            "top": null,
            "visibility": null,
            "width": null
          }
        },
        "e8272ac5044041e98cc125e87fa475f9": {
          "model_module": "@jupyter-widgets/controls",
          "model_name": "ProgressStyleModel",
          "model_module_version": "1.5.0",
          "state": {
            "_model_module": "@jupyter-widgets/controls",
            "_model_module_version": "1.5.0",
            "_model_name": "ProgressStyleModel",
            "_view_count": null,
            "_view_module": "@jupyter-widgets/base",
            "_view_module_version": "1.2.0",
            "_view_name": "StyleView",
            "bar_color": null,
            "description_width": ""
          }
        },
        "41fd43e70de7470fa3c5477c3b1d1af0": {
          "model_module": "@jupyter-widgets/base",
          "model_name": "LayoutModel",
          "model_module_version": "1.2.0",
          "state": {
            "_model_module": "@jupyter-widgets/base",
            "_model_module_version": "1.2.0",
            "_model_name": "LayoutModel",
            "_view_count": null,
            "_view_module": "@jupyter-widgets/base",
            "_view_module_version": "1.2.0",
            "_view_name": "LayoutView",
            "align_content": null,
            "align_items": null,
            "align_self": null,
            "border": null,
            "bottom": null,
            "display": null,
            "flex": null,
            "flex_flow": null,
            "grid_area": null,
            "grid_auto_columns": null,
            "grid_auto_flow": null,
            "grid_auto_rows": null,
            "grid_column": null,
            "grid_gap": null,
            "grid_row": null,
            "grid_template_areas": null,
            "grid_template_columns": null,
            "grid_template_rows": null,
            "height": null,
            "justify_content": null,
            "justify_items": null,
            "left": null,
            "margin": null,
            "max_height": null,
            "max_width": null,
            "min_height": null,
            "min_width": null,
            "object_fit": null,
            "object_position": null,
            "order": null,
            "overflow": null,
            "overflow_x": null,
            "overflow_y": null,
            "padding": null,
            "right": null,
            "top": null,
            "visibility": null,
            "width": null
          }
        },
        "a2c22ce75f26415ca930501e1a1372f6": {
          "model_module": "@jupyter-widgets/controls",
          "model_name": "DescriptionStyleModel",
          "model_module_version": "1.5.0",
          "state": {
            "_model_module": "@jupyter-widgets/controls",
            "_model_module_version": "1.5.0",
            "_model_name": "DescriptionStyleModel",
            "_view_count": null,
            "_view_module": "@jupyter-widgets/base",
            "_view_module_version": "1.2.0",
            "_view_name": "StyleView",
            "description_width": ""
          }
        },
        "908837f791ec43df839424aab07bae27": {
          "model_module": "@jupyter-widgets/controls",
          "model_name": "HBoxModel",
          "model_module_version": "1.5.0",
          "state": {
            "_dom_classes": [],
            "_model_module": "@jupyter-widgets/controls",
            "_model_module_version": "1.5.0",
            "_model_name": "HBoxModel",
            "_view_count": null,
            "_view_module": "@jupyter-widgets/controls",
            "_view_module_version": "1.5.0",
            "_view_name": "HBoxView",
            "box_style": "",
            "children": [
              "IPY_MODEL_8a19dfd92e784a8abfe92d78996d25eb",
              "IPY_MODEL_912eef6ee2cc4925bd48a0b521a91776",
              "IPY_MODEL_71c2e8fa76c947aa8b6b7e1de7c428be"
            ],
            "layout": "IPY_MODEL_698f6d66fb6b43adaca199d63abd7f69"
          }
        },
        "8a19dfd92e784a8abfe92d78996d25eb": {
          "model_module": "@jupyter-widgets/controls",
          "model_name": "HTMLModel",
          "model_module_version": "1.5.0",
          "state": {
            "_dom_classes": [],
            "_model_module": "@jupyter-widgets/controls",
            "_model_module_version": "1.5.0",
            "_model_name": "HTMLModel",
            "_view_count": null,
            "_view_module": "@jupyter-widgets/controls",
            "_view_module_version": "1.5.0",
            "_view_name": "HTMLView",
            "description": "",
            "description_tooltip": null,
            "layout": "IPY_MODEL_6414ebbaca12429c8cfb083dd728b9b1",
            "placeholder": "​",
            "style": "IPY_MODEL_6c21052c0fa94f6a9a12711b794d069c",
            "value": "100%"
          }
        },
        "912eef6ee2cc4925bd48a0b521a91776": {
          "model_module": "@jupyter-widgets/controls",
          "model_name": "FloatProgressModel",
          "model_module_version": "1.5.0",
          "state": {
            "_dom_classes": [],
            "_model_module": "@jupyter-widgets/controls",
            "_model_module_version": "1.5.0",
            "_model_name": "FloatProgressModel",
            "_view_count": null,
            "_view_module": "@jupyter-widgets/controls",
            "_view_module_version": "1.5.0",
            "_view_name": "ProgressView",
            "bar_style": "success",
            "description": "",
            "description_tooltip": null,
            "layout": "IPY_MODEL_95fe82ba9bee404eaa804c052efa0ee3",
            "max": 1,
            "min": 0,
            "orientation": "horizontal",
            "style": "IPY_MODEL_857ce1dea7cc467b8e6732b1371c92c9",
            "value": 1
          }
        },
        "71c2e8fa76c947aa8b6b7e1de7c428be": {
          "model_module": "@jupyter-widgets/controls",
          "model_name": "HTMLModel",
          "model_module_version": "1.5.0",
          "state": {
            "_dom_classes": [],
            "_model_module": "@jupyter-widgets/controls",
            "_model_module_version": "1.5.0",
            "_model_name": "HTMLModel",
            "_view_count": null,
            "_view_module": "@jupyter-widgets/controls",
            "_view_module_version": "1.5.0",
            "_view_name": "HTMLView",
            "description": "",
            "description_tooltip": null,
            "layout": "IPY_MODEL_5b386754c80f4eb9870277b4d3b464c4",
            "placeholder": "​",
            "style": "IPY_MODEL_e7066467a1644c6bbc5397f01935c89d",
            "value": " 1/1 [00:00&lt;00:00, 44.69ba/s]"
          }
        },
        "698f6d66fb6b43adaca199d63abd7f69": {
          "model_module": "@jupyter-widgets/base",
          "model_name": "LayoutModel",
          "model_module_version": "1.2.0",
          "state": {
            "_model_module": "@jupyter-widgets/base",
            "_model_module_version": "1.2.0",
            "_model_name": "LayoutModel",
            "_view_count": null,
            "_view_module": "@jupyter-widgets/base",
            "_view_module_version": "1.2.0",
            "_view_name": "LayoutView",
            "align_content": null,
            "align_items": null,
            "align_self": null,
            "border": null,
            "bottom": null,
            "display": null,
            "flex": null,
            "flex_flow": null,
            "grid_area": null,
            "grid_auto_columns": null,
            "grid_auto_flow": null,
            "grid_auto_rows": null,
            "grid_column": null,
            "grid_gap": null,
            "grid_row": null,
            "grid_template_areas": null,
            "grid_template_columns": null,
            "grid_template_rows": null,
            "height": null,
            "justify_content": null,
            "justify_items": null,
            "left": null,
            "margin": null,
            "max_height": null,
            "max_width": null,
            "min_height": null,
            "min_width": null,
            "object_fit": null,
            "object_position": null,
            "order": null,
            "overflow": null,
            "overflow_x": null,
            "overflow_y": null,
            "padding": null,
            "right": null,
            "top": null,
            "visibility": null,
            "width": null
          }
        },
        "6414ebbaca12429c8cfb083dd728b9b1": {
          "model_module": "@jupyter-widgets/base",
          "model_name": "LayoutModel",
          "model_module_version": "1.2.0",
          "state": {
            "_model_module": "@jupyter-widgets/base",
            "_model_module_version": "1.2.0",
            "_model_name": "LayoutModel",
            "_view_count": null,
            "_view_module": "@jupyter-widgets/base",
            "_view_module_version": "1.2.0",
            "_view_name": "LayoutView",
            "align_content": null,
            "align_items": null,
            "align_self": null,
            "border": null,
            "bottom": null,
            "display": null,
            "flex": null,
            "flex_flow": null,
            "grid_area": null,
            "grid_auto_columns": null,
            "grid_auto_flow": null,
            "grid_auto_rows": null,
            "grid_column": null,
            "grid_gap": null,
            "grid_row": null,
            "grid_template_areas": null,
            "grid_template_columns": null,
            "grid_template_rows": null,
            "height": null,
            "justify_content": null,
            "justify_items": null,
            "left": null,
            "margin": null,
            "max_height": null,
            "max_width": null,
            "min_height": null,
            "min_width": null,
            "object_fit": null,
            "object_position": null,
            "order": null,
            "overflow": null,
            "overflow_x": null,
            "overflow_y": null,
            "padding": null,
            "right": null,
            "top": null,
            "visibility": null,
            "width": null
          }
        },
        "6c21052c0fa94f6a9a12711b794d069c": {
          "model_module": "@jupyter-widgets/controls",
          "model_name": "DescriptionStyleModel",
          "model_module_version": "1.5.0",
          "state": {
            "_model_module": "@jupyter-widgets/controls",
            "_model_module_version": "1.5.0",
            "_model_name": "DescriptionStyleModel",
            "_view_count": null,
            "_view_module": "@jupyter-widgets/base",
            "_view_module_version": "1.2.0",
            "_view_name": "StyleView",
            "description_width": ""
          }
        },
        "95fe82ba9bee404eaa804c052efa0ee3": {
          "model_module": "@jupyter-widgets/base",
          "model_name": "LayoutModel",
          "model_module_version": "1.2.0",
          "state": {
            "_model_module": "@jupyter-widgets/base",
            "_model_module_version": "1.2.0",
            "_model_name": "LayoutModel",
            "_view_count": null,
            "_view_module": "@jupyter-widgets/base",
            "_view_module_version": "1.2.0",
            "_view_name": "LayoutView",
            "align_content": null,
            "align_items": null,
            "align_self": null,
            "border": null,
            "bottom": null,
            "display": null,
            "flex": null,
            "flex_flow": null,
            "grid_area": null,
            "grid_auto_columns": null,
            "grid_auto_flow": null,
            "grid_auto_rows": null,
            "grid_column": null,
            "grid_gap": null,
            "grid_row": null,
            "grid_template_areas": null,
            "grid_template_columns": null,
            "grid_template_rows": null,
            "height": null,
            "justify_content": null,
            "justify_items": null,
            "left": null,
            "margin": null,
            "max_height": null,
            "max_width": null,
            "min_height": null,
            "min_width": null,
            "object_fit": null,
            "object_position": null,
            "order": null,
            "overflow": null,
            "overflow_x": null,
            "overflow_y": null,
            "padding": null,
            "right": null,
            "top": null,
            "visibility": null,
            "width": null
          }
        },
        "857ce1dea7cc467b8e6732b1371c92c9": {
          "model_module": "@jupyter-widgets/controls",
          "model_name": "ProgressStyleModel",
          "model_module_version": "1.5.0",
          "state": {
            "_model_module": "@jupyter-widgets/controls",
            "_model_module_version": "1.5.0",
            "_model_name": "ProgressStyleModel",
            "_view_count": null,
            "_view_module": "@jupyter-widgets/base",
            "_view_module_version": "1.2.0",
            "_view_name": "StyleView",
            "bar_color": null,
            "description_width": ""
          }
        },
        "5b386754c80f4eb9870277b4d3b464c4": {
          "model_module": "@jupyter-widgets/base",
          "model_name": "LayoutModel",
          "model_module_version": "1.2.0",
          "state": {
            "_model_module": "@jupyter-widgets/base",
            "_model_module_version": "1.2.0",
            "_model_name": "LayoutModel",
            "_view_count": null,
            "_view_module": "@jupyter-widgets/base",
            "_view_module_version": "1.2.0",
            "_view_name": "LayoutView",
            "align_content": null,
            "align_items": null,
            "align_self": null,
            "border": null,
            "bottom": null,
            "display": null,
            "flex": null,
            "flex_flow": null,
            "grid_area": null,
            "grid_auto_columns": null,
            "grid_auto_flow": null,
            "grid_auto_rows": null,
            "grid_column": null,
            "grid_gap": null,
            "grid_row": null,
            "grid_template_areas": null,
            "grid_template_columns": null,
            "grid_template_rows": null,
            "height": null,
            "justify_content": null,
            "justify_items": null,
            "left": null,
            "margin": null,
            "max_height": null,
            "max_width": null,
            "min_height": null,
            "min_width": null,
            "object_fit": null,
            "object_position": null,
            "order": null,
            "overflow": null,
            "overflow_x": null,
            "overflow_y": null,
            "padding": null,
            "right": null,
            "top": null,
            "visibility": null,
            "width": null
          }
        },
        "e7066467a1644c6bbc5397f01935c89d": {
          "model_module": "@jupyter-widgets/controls",
          "model_name": "DescriptionStyleModel",
          "model_module_version": "1.5.0",
          "state": {
            "_model_module": "@jupyter-widgets/controls",
            "_model_module_version": "1.5.0",
            "_model_name": "DescriptionStyleModel",
            "_view_count": null,
            "_view_module": "@jupyter-widgets/base",
            "_view_module_version": "1.2.0",
            "_view_name": "StyleView",
            "description_width": ""
          }
        },
        "d69ff446b189459ea63f21039f182fb1": {
          "model_module": "@jupyter-widgets/controls",
          "model_name": "HBoxModel",
          "model_module_version": "1.5.0",
          "state": {
            "_dom_classes": [],
            "_model_module": "@jupyter-widgets/controls",
            "_model_module_version": "1.5.0",
            "_model_name": "HBoxModel",
            "_view_count": null,
            "_view_module": "@jupyter-widgets/controls",
            "_view_module_version": "1.5.0",
            "_view_name": "HBoxView",
            "box_style": "",
            "children": [
              "IPY_MODEL_65ff5525233a415188211882f2d5491c",
              "IPY_MODEL_030563f2223446a090610690e430c50a",
              "IPY_MODEL_961fbda0076248e2a37ae54bbf980a9c"
            ],
            "layout": "IPY_MODEL_dceb99f784ed4e2c89774b927b28930a"
          }
        },
        "65ff5525233a415188211882f2d5491c": {
          "model_module": "@jupyter-widgets/controls",
          "model_name": "HTMLModel",
          "model_module_version": "1.5.0",
          "state": {
            "_dom_classes": [],
            "_model_module": "@jupyter-widgets/controls",
            "_model_module_version": "1.5.0",
            "_model_name": "HTMLModel",
            "_view_count": null,
            "_view_module": "@jupyter-widgets/controls",
            "_view_module_version": "1.5.0",
            "_view_name": "HTMLView",
            "description": "",
            "description_tooltip": null,
            "layout": "IPY_MODEL_c8b2bd942a5443d9b0feb0a095d7ceee",
            "placeholder": "​",
            "style": "IPY_MODEL_1056860ab70c4622aa21f6f751615c6f",
            "value": "100%"
          }
        },
        "030563f2223446a090610690e430c50a": {
          "model_module": "@jupyter-widgets/controls",
          "model_name": "FloatProgressModel",
          "model_module_version": "1.5.0",
          "state": {
            "_dom_classes": [],
            "_model_module": "@jupyter-widgets/controls",
            "_model_module_version": "1.5.0",
            "_model_name": "FloatProgressModel",
            "_view_count": null,
            "_view_module": "@jupyter-widgets/controls",
            "_view_module_version": "1.5.0",
            "_view_name": "ProgressView",
            "bar_style": "success",
            "description": "",
            "description_tooltip": null,
            "layout": "IPY_MODEL_0da168d500f7405f9ec318f42139da15",
            "max": 1,
            "min": 0,
            "orientation": "horizontal",
            "style": "IPY_MODEL_e6a78cdafb3443c2b2e398bd1bf2f998",
            "value": 1
          }
        },
        "961fbda0076248e2a37ae54bbf980a9c": {
          "model_module": "@jupyter-widgets/controls",
          "model_name": "HTMLModel",
          "model_module_version": "1.5.0",
          "state": {
            "_dom_classes": [],
            "_model_module": "@jupyter-widgets/controls",
            "_model_module_version": "1.5.0",
            "_model_name": "HTMLModel",
            "_view_count": null,
            "_view_module": "@jupyter-widgets/controls",
            "_view_module_version": "1.5.0",
            "_view_name": "HTMLView",
            "description": "",
            "description_tooltip": null,
            "layout": "IPY_MODEL_ed131db86f564861bfa4efa96b1c1928",
            "placeholder": "​",
            "style": "IPY_MODEL_678d6a876a6e4ba39f04a3dba7cbb4f0",
            "value": " 1/1 [00:00&lt;00:00, 32.17ba/s]"
          }
        },
        "dceb99f784ed4e2c89774b927b28930a": {
          "model_module": "@jupyter-widgets/base",
          "model_name": "LayoutModel",
          "model_module_version": "1.2.0",
          "state": {
            "_model_module": "@jupyter-widgets/base",
            "_model_module_version": "1.2.0",
            "_model_name": "LayoutModel",
            "_view_count": null,
            "_view_module": "@jupyter-widgets/base",
            "_view_module_version": "1.2.0",
            "_view_name": "LayoutView",
            "align_content": null,
            "align_items": null,
            "align_self": null,
            "border": null,
            "bottom": null,
            "display": null,
            "flex": null,
            "flex_flow": null,
            "grid_area": null,
            "grid_auto_columns": null,
            "grid_auto_flow": null,
            "grid_auto_rows": null,
            "grid_column": null,
            "grid_gap": null,
            "grid_row": null,
            "grid_template_areas": null,
            "grid_template_columns": null,
            "grid_template_rows": null,
            "height": null,
            "justify_content": null,
            "justify_items": null,
            "left": null,
            "margin": null,
            "max_height": null,
            "max_width": null,
            "min_height": null,
            "min_width": null,
            "object_fit": null,
            "object_position": null,
            "order": null,
            "overflow": null,
            "overflow_x": null,
            "overflow_y": null,
            "padding": null,
            "right": null,
            "top": null,
            "visibility": null,
            "width": null
          }
        },
        "c8b2bd942a5443d9b0feb0a095d7ceee": {
          "model_module": "@jupyter-widgets/base",
          "model_name": "LayoutModel",
          "model_module_version": "1.2.0",
          "state": {
            "_model_module": "@jupyter-widgets/base",
            "_model_module_version": "1.2.0",
            "_model_name": "LayoutModel",
            "_view_count": null,
            "_view_module": "@jupyter-widgets/base",
            "_view_module_version": "1.2.0",
            "_view_name": "LayoutView",
            "align_content": null,
            "align_items": null,
            "align_self": null,
            "border": null,
            "bottom": null,
            "display": null,
            "flex": null,
            "flex_flow": null,
            "grid_area": null,
            "grid_auto_columns": null,
            "grid_auto_flow": null,
            "grid_auto_rows": null,
            "grid_column": null,
            "grid_gap": null,
            "grid_row": null,
            "grid_template_areas": null,
            "grid_template_columns": null,
            "grid_template_rows": null,
            "height": null,
            "justify_content": null,
            "justify_items": null,
            "left": null,
            "margin": null,
            "max_height": null,
            "max_width": null,
            "min_height": null,
            "min_width": null,
            "object_fit": null,
            "object_position": null,
            "order": null,
            "overflow": null,
            "overflow_x": null,
            "overflow_y": null,
            "padding": null,
            "right": null,
            "top": null,
            "visibility": null,
            "width": null
          }
        },
        "1056860ab70c4622aa21f6f751615c6f": {
          "model_module": "@jupyter-widgets/controls",
          "model_name": "DescriptionStyleModel",
          "model_module_version": "1.5.0",
          "state": {
            "_model_module": "@jupyter-widgets/controls",
            "_model_module_version": "1.5.0",
            "_model_name": "DescriptionStyleModel",
            "_view_count": null,
            "_view_module": "@jupyter-widgets/base",
            "_view_module_version": "1.2.0",
            "_view_name": "StyleView",
            "description_width": ""
          }
        },
        "0da168d500f7405f9ec318f42139da15": {
          "model_module": "@jupyter-widgets/base",
          "model_name": "LayoutModel",
          "model_module_version": "1.2.0",
          "state": {
            "_model_module": "@jupyter-widgets/base",
            "_model_module_version": "1.2.0",
            "_model_name": "LayoutModel",
            "_view_count": null,
            "_view_module": "@jupyter-widgets/base",
            "_view_module_version": "1.2.0",
            "_view_name": "LayoutView",
            "align_content": null,
            "align_items": null,
            "align_self": null,
            "border": null,
            "bottom": null,
            "display": null,
            "flex": null,
            "flex_flow": null,
            "grid_area": null,
            "grid_auto_columns": null,
            "grid_auto_flow": null,
            "grid_auto_rows": null,
            "grid_column": null,
            "grid_gap": null,
            "grid_row": null,
            "grid_template_areas": null,
            "grid_template_columns": null,
            "grid_template_rows": null,
            "height": null,
            "justify_content": null,
            "justify_items": null,
            "left": null,
            "margin": null,
            "max_height": null,
            "max_width": null,
            "min_height": null,
            "min_width": null,
            "object_fit": null,
            "object_position": null,
            "order": null,
            "overflow": null,
            "overflow_x": null,
            "overflow_y": null,
            "padding": null,
            "right": null,
            "top": null,
            "visibility": null,
            "width": null
          }
        },
        "e6a78cdafb3443c2b2e398bd1bf2f998": {
          "model_module": "@jupyter-widgets/controls",
          "model_name": "ProgressStyleModel",
          "model_module_version": "1.5.0",
          "state": {
            "_model_module": "@jupyter-widgets/controls",
            "_model_module_version": "1.5.0",
            "_model_name": "ProgressStyleModel",
            "_view_count": null,
            "_view_module": "@jupyter-widgets/base",
            "_view_module_version": "1.2.0",
            "_view_name": "StyleView",
            "bar_color": null,
            "description_width": ""
          }
        },
        "ed131db86f564861bfa4efa96b1c1928": {
          "model_module": "@jupyter-widgets/base",
          "model_name": "LayoutModel",
          "model_module_version": "1.2.0",
          "state": {
            "_model_module": "@jupyter-widgets/base",
            "_model_module_version": "1.2.0",
            "_model_name": "LayoutModel",
            "_view_count": null,
            "_view_module": "@jupyter-widgets/base",
            "_view_module_version": "1.2.0",
            "_view_name": "LayoutView",
            "align_content": null,
            "align_items": null,
            "align_self": null,
            "border": null,
            "bottom": null,
            "display": null,
            "flex": null,
            "flex_flow": null,
            "grid_area": null,
            "grid_auto_columns": null,
            "grid_auto_flow": null,
            "grid_auto_rows": null,
            "grid_column": null,
            "grid_gap": null,
            "grid_row": null,
            "grid_template_areas": null,
            "grid_template_columns": null,
            "grid_template_rows": null,
            "height": null,
            "justify_content": null,
            "justify_items": null,
            "left": null,
            "margin": null,
            "max_height": null,
            "max_width": null,
            "min_height": null,
            "min_width": null,
            "object_fit": null,
            "object_position": null,
            "order": null,
            "overflow": null,
            "overflow_x": null,
            "overflow_y": null,
            "padding": null,
            "right": null,
            "top": null,
            "visibility": null,
            "width": null
          }
        },
        "678d6a876a6e4ba39f04a3dba7cbb4f0": {
          "model_module": "@jupyter-widgets/controls",
          "model_name": "DescriptionStyleModel",
          "model_module_version": "1.5.0",
          "state": {
            "_model_module": "@jupyter-widgets/controls",
            "_model_module_version": "1.5.0",
            "_model_name": "DescriptionStyleModel",
            "_view_count": null,
            "_view_module": "@jupyter-widgets/base",
            "_view_module_version": "1.2.0",
            "_view_name": "StyleView",
            "description_width": ""
          }
        },
        "c271e4a6aa784fb58e60b3939e4302b9": {
          "model_module": "@jupyter-widgets/controls",
          "model_name": "HBoxModel",
          "model_module_version": "1.5.0",
          "state": {
            "_dom_classes": [],
            "_model_module": "@jupyter-widgets/controls",
            "_model_module_version": "1.5.0",
            "_model_name": "HBoxModel",
            "_view_count": null,
            "_view_module": "@jupyter-widgets/controls",
            "_view_module_version": "1.5.0",
            "_view_name": "HBoxView",
            "box_style": "",
            "children": [
              "IPY_MODEL_6cea6ee0318b45d9913755c037eb9ce5",
              "IPY_MODEL_99a93fbfea0e42b7a9f721d9fb56fc8d",
              "IPY_MODEL_ca41c10f0d7b4b9d963dbd1d81557d76"
            ],
            "layout": "IPY_MODEL_0852b2edcd09422fb7f9a6c501ea3e80"
          }
        },
        "6cea6ee0318b45d9913755c037eb9ce5": {
          "model_module": "@jupyter-widgets/controls",
          "model_name": "HTMLModel",
          "model_module_version": "1.5.0",
          "state": {
            "_dom_classes": [],
            "_model_module": "@jupyter-widgets/controls",
            "_model_module_version": "1.5.0",
            "_model_name": "HTMLModel",
            "_view_count": null,
            "_view_module": "@jupyter-widgets/controls",
            "_view_module_version": "1.5.0",
            "_view_name": "HTMLView",
            "description": "",
            "description_tooltip": null,
            "layout": "IPY_MODEL_4ff8271792cd4ef08cf2b2996a2dcb33",
            "placeholder": "​",
            "style": "IPY_MODEL_63ff5f38775043a893bab1e6fb2de8d7",
            "value": "Downloading: 100%"
          }
        },
        "99a93fbfea0e42b7a9f721d9fb56fc8d": {
          "model_module": "@jupyter-widgets/controls",
          "model_name": "FloatProgressModel",
          "model_module_version": "1.5.0",
          "state": {
            "_dom_classes": [],
            "_model_module": "@jupyter-widgets/controls",
            "_model_module_version": "1.5.0",
            "_model_name": "FloatProgressModel",
            "_view_count": null,
            "_view_module": "@jupyter-widgets/controls",
            "_view_module_version": "1.5.0",
            "_view_name": "ProgressView",
            "bar_style": "success",
            "description": "",
            "description_tooltip": null,
            "layout": "IPY_MODEL_8eb3a03cca684bf185176ed909f91164",
            "max": 1568,
            "min": 0,
            "orientation": "horizontal",
            "style": "IPY_MODEL_0e0348e1e64e493b850534d31ed4a6b5",
            "value": 1568
          }
        },
        "ca41c10f0d7b4b9d963dbd1d81557d76": {
          "model_module": "@jupyter-widgets/controls",
          "model_name": "HTMLModel",
          "model_module_version": "1.5.0",
          "state": {
            "_dom_classes": [],
            "_model_module": "@jupyter-widgets/controls",
            "_model_module_version": "1.5.0",
            "_model_name": "HTMLModel",
            "_view_count": null,
            "_view_module": "@jupyter-widgets/controls",
            "_view_module_version": "1.5.0",
            "_view_name": "HTMLView",
            "description": "",
            "description_tooltip": null,
            "layout": "IPY_MODEL_7f6fd09ba2da4e568099c30bd0da3fb8",
            "placeholder": "​",
            "style": "IPY_MODEL_ee8206cdc8954428882cd16076771c47",
            "value": " 1.53k/1.53k [00:00&lt;00:00, 56.7kB/s]"
          }
        },
        "0852b2edcd09422fb7f9a6c501ea3e80": {
          "model_module": "@jupyter-widgets/base",
          "model_name": "LayoutModel",
          "model_module_version": "1.2.0",
          "state": {
            "_model_module": "@jupyter-widgets/base",
            "_model_module_version": "1.2.0",
            "_model_name": "LayoutModel",
            "_view_count": null,
            "_view_module": "@jupyter-widgets/base",
            "_view_module_version": "1.2.0",
            "_view_name": "LayoutView",
            "align_content": null,
            "align_items": null,
            "align_self": null,
            "border": null,
            "bottom": null,
            "display": null,
            "flex": null,
            "flex_flow": null,
            "grid_area": null,
            "grid_auto_columns": null,
            "grid_auto_flow": null,
            "grid_auto_rows": null,
            "grid_column": null,
            "grid_gap": null,
            "grid_row": null,
            "grid_template_areas": null,
            "grid_template_columns": null,
            "grid_template_rows": null,
            "height": null,
            "justify_content": null,
            "justify_items": null,
            "left": null,
            "margin": null,
            "max_height": null,
            "max_width": null,
            "min_height": null,
            "min_width": null,
            "object_fit": null,
            "object_position": null,
            "order": null,
            "overflow": null,
            "overflow_x": null,
            "overflow_y": null,
            "padding": null,
            "right": null,
            "top": null,
            "visibility": null,
            "width": null
          }
        },
        "4ff8271792cd4ef08cf2b2996a2dcb33": {
          "model_module": "@jupyter-widgets/base",
          "model_name": "LayoutModel",
          "model_module_version": "1.2.0",
          "state": {
            "_model_module": "@jupyter-widgets/base",
            "_model_module_version": "1.2.0",
            "_model_name": "LayoutModel",
            "_view_count": null,
            "_view_module": "@jupyter-widgets/base",
            "_view_module_version": "1.2.0",
            "_view_name": "LayoutView",
            "align_content": null,
            "align_items": null,
            "align_self": null,
            "border": null,
            "bottom": null,
            "display": null,
            "flex": null,
            "flex_flow": null,
            "grid_area": null,
            "grid_auto_columns": null,
            "grid_auto_flow": null,
            "grid_auto_rows": null,
            "grid_column": null,
            "grid_gap": null,
            "grid_row": null,
            "grid_template_areas": null,
            "grid_template_columns": null,
            "grid_template_rows": null,
            "height": null,
            "justify_content": null,
            "justify_items": null,
            "left": null,
            "margin": null,
            "max_height": null,
            "max_width": null,
            "min_height": null,
            "min_width": null,
            "object_fit": null,
            "object_position": null,
            "order": null,
            "overflow": null,
            "overflow_x": null,
            "overflow_y": null,
            "padding": null,
            "right": null,
            "top": null,
            "visibility": null,
            "width": null
          }
        },
        "63ff5f38775043a893bab1e6fb2de8d7": {
          "model_module": "@jupyter-widgets/controls",
          "model_name": "DescriptionStyleModel",
          "model_module_version": "1.5.0",
          "state": {
            "_model_module": "@jupyter-widgets/controls",
            "_model_module_version": "1.5.0",
            "_model_name": "DescriptionStyleModel",
            "_view_count": null,
            "_view_module": "@jupyter-widgets/base",
            "_view_module_version": "1.2.0",
            "_view_name": "StyleView",
            "description_width": ""
          }
        },
        "8eb3a03cca684bf185176ed909f91164": {
          "model_module": "@jupyter-widgets/base",
          "model_name": "LayoutModel",
          "model_module_version": "1.2.0",
          "state": {
            "_model_module": "@jupyter-widgets/base",
            "_model_module_version": "1.2.0",
            "_model_name": "LayoutModel",
            "_view_count": null,
            "_view_module": "@jupyter-widgets/base",
            "_view_module_version": "1.2.0",
            "_view_name": "LayoutView",
            "align_content": null,
            "align_items": null,
            "align_self": null,
            "border": null,
            "bottom": null,
            "display": null,
            "flex": null,
            "flex_flow": null,
            "grid_area": null,
            "grid_auto_columns": null,
            "grid_auto_flow": null,
            "grid_auto_rows": null,
            "grid_column": null,
            "grid_gap": null,
            "grid_row": null,
            "grid_template_areas": null,
            "grid_template_columns": null,
            "grid_template_rows": null,
            "height": null,
            "justify_content": null,
            "justify_items": null,
            "left": null,
            "margin": null,
            "max_height": null,
            "max_width": null,
            "min_height": null,
            "min_width": null,
            "object_fit": null,
            "object_position": null,
            "order": null,
            "overflow": null,
            "overflow_x": null,
            "overflow_y": null,
            "padding": null,
            "right": null,
            "top": null,
            "visibility": null,
            "width": null
          }
        },
        "0e0348e1e64e493b850534d31ed4a6b5": {
          "model_module": "@jupyter-widgets/controls",
          "model_name": "ProgressStyleModel",
          "model_module_version": "1.5.0",
          "state": {
            "_model_module": "@jupyter-widgets/controls",
            "_model_module_version": "1.5.0",
            "_model_name": "ProgressStyleModel",
            "_view_count": null,
            "_view_module": "@jupyter-widgets/base",
            "_view_module_version": "1.2.0",
            "_view_name": "StyleView",
            "bar_color": null,
            "description_width": ""
          }
        },
        "7f6fd09ba2da4e568099c30bd0da3fb8": {
          "model_module": "@jupyter-widgets/base",
          "model_name": "LayoutModel",
          "model_module_version": "1.2.0",
          "state": {
            "_model_module": "@jupyter-widgets/base",
            "_model_module_version": "1.2.0",
            "_model_name": "LayoutModel",
            "_view_count": null,
            "_view_module": "@jupyter-widgets/base",
            "_view_module_version": "1.2.0",
            "_view_name": "LayoutView",
            "align_content": null,
            "align_items": null,
            "align_self": null,
            "border": null,
            "bottom": null,
            "display": null,
            "flex": null,
            "flex_flow": null,
            "grid_area": null,
            "grid_auto_columns": null,
            "grid_auto_flow": null,
            "grid_auto_rows": null,
            "grid_column": null,
            "grid_gap": null,
            "grid_row": null,
            "grid_template_areas": null,
            "grid_template_columns": null,
            "grid_template_rows": null,
            "height": null,
            "justify_content": null,
            "justify_items": null,
            "left": null,
            "margin": null,
            "max_height": null,
            "max_width": null,
            "min_height": null,
            "min_width": null,
            "object_fit": null,
            "object_position": null,
            "order": null,
            "overflow": null,
            "overflow_x": null,
            "overflow_y": null,
            "padding": null,
            "right": null,
            "top": null,
            "visibility": null,
            "width": null
          }
        },
        "ee8206cdc8954428882cd16076771c47": {
          "model_module": "@jupyter-widgets/controls",
          "model_name": "DescriptionStyleModel",
          "model_module_version": "1.5.0",
          "state": {
            "_model_module": "@jupyter-widgets/controls",
            "_model_module_version": "1.5.0",
            "_model_name": "DescriptionStyleModel",
            "_view_count": null,
            "_view_module": "@jupyter-widgets/base",
            "_view_module_version": "1.2.0",
            "_view_name": "StyleView",
            "description_width": ""
          }
        },
        "93586c84a0074adf80d06592d7fd91f6": {
          "model_module": "@jupyter-widgets/controls",
          "model_name": "HBoxModel",
          "model_module_version": "1.5.0",
          "state": {
            "_dom_classes": [],
            "_model_module": "@jupyter-widgets/controls",
            "_model_module_version": "1.5.0",
            "_model_name": "HBoxModel",
            "_view_count": null,
            "_view_module": "@jupyter-widgets/controls",
            "_view_module_version": "1.5.0",
            "_view_name": "HBoxView",
            "box_style": "",
            "children": [
              "IPY_MODEL_10ef01ded2154a07b3d2bdee9f20f254",
              "IPY_MODEL_658d848b768a4c2897ebb0e79b28af16",
              "IPY_MODEL_a133fe2c6c6a4f3fadf338676be0f7fc"
            ],
            "layout": "IPY_MODEL_8d876500cb6840f18ceb3fa23b8edecc"
          }
        },
        "10ef01ded2154a07b3d2bdee9f20f254": {
          "model_module": "@jupyter-widgets/controls",
          "model_name": "HTMLModel",
          "model_module_version": "1.5.0",
          "state": {
            "_dom_classes": [],
            "_model_module": "@jupyter-widgets/controls",
            "_model_module_version": "1.5.0",
            "_model_name": "HTMLModel",
            "_view_count": null,
            "_view_module": "@jupyter-widgets/controls",
            "_view_module_version": "1.5.0",
            "_view_name": "HTMLView",
            "description": "",
            "description_tooltip": null,
            "layout": "IPY_MODEL_95e11a49c30e4a7184fc56646c21203b",
            "placeholder": "​",
            "style": "IPY_MODEL_1f0d278f1e584f64a2b8ddd7f0f250ed",
            "value": "Downloading: 100%"
          }
        },
        "658d848b768a4c2897ebb0e79b28af16": {
          "model_module": "@jupyter-widgets/controls",
          "model_name": "FloatProgressModel",
          "model_module_version": "1.5.0",
          "state": {
            "_dom_classes": [],
            "_model_module": "@jupyter-widgets/controls",
            "_model_module_version": "1.5.0",
            "_model_name": "FloatProgressModel",
            "_view_count": null,
            "_view_module": "@jupyter-widgets/controls",
            "_view_module_version": "1.5.0",
            "_view_name": "ProgressView",
            "bar_style": "success",
            "description": "",
            "description_tooltip": null,
            "layout": "IPY_MODEL_1ccb94ef5cd047efa507f6f9677ed425",
            "max": 212,
            "min": 0,
            "orientation": "horizontal",
            "style": "IPY_MODEL_138afef78b2a4ea3a1e737deffe93f1e",
            "value": 212
          }
        },
        "a133fe2c6c6a4f3fadf338676be0f7fc": {
          "model_module": "@jupyter-widgets/controls",
          "model_name": "HTMLModel",
          "model_module_version": "1.5.0",
          "state": {
            "_dom_classes": [],
            "_model_module": "@jupyter-widgets/controls",
            "_model_module_version": "1.5.0",
            "_model_name": "HTMLModel",
            "_view_count": null,
            "_view_module": "@jupyter-widgets/controls",
            "_view_module_version": "1.5.0",
            "_view_name": "HTMLView",
            "description": "",
            "description_tooltip": null,
            "layout": "IPY_MODEL_ebfb84d5fb5846fcbfe765193177afe0",
            "placeholder": "​",
            "style": "IPY_MODEL_43827fc95df242ee8c59c8bb2aa6f7ad",
            "value": " 212/212 [00:00&lt;00:00, 8.77kB/s]"
          }
        },
        "8d876500cb6840f18ceb3fa23b8edecc": {
          "model_module": "@jupyter-widgets/base",
          "model_name": "LayoutModel",
          "model_module_version": "1.2.0",
          "state": {
            "_model_module": "@jupyter-widgets/base",
            "_model_module_version": "1.2.0",
            "_model_name": "LayoutModel",
            "_view_count": null,
            "_view_module": "@jupyter-widgets/base",
            "_view_module_version": "1.2.0",
            "_view_name": "LayoutView",
            "align_content": null,
            "align_items": null,
            "align_self": null,
            "border": null,
            "bottom": null,
            "display": null,
            "flex": null,
            "flex_flow": null,
            "grid_area": null,
            "grid_auto_columns": null,
            "grid_auto_flow": null,
            "grid_auto_rows": null,
            "grid_column": null,
            "grid_gap": null,
            "grid_row": null,
            "grid_template_areas": null,
            "grid_template_columns": null,
            "grid_template_rows": null,
            "height": null,
            "justify_content": null,
            "justify_items": null,
            "left": null,
            "margin": null,
            "max_height": null,
            "max_width": null,
            "min_height": null,
            "min_width": null,
            "object_fit": null,
            "object_position": null,
            "order": null,
            "overflow": null,
            "overflow_x": null,
            "overflow_y": null,
            "padding": null,
            "right": null,
            "top": null,
            "visibility": null,
            "width": null
          }
        },
        "95e11a49c30e4a7184fc56646c21203b": {
          "model_module": "@jupyter-widgets/base",
          "model_name": "LayoutModel",
          "model_module_version": "1.2.0",
          "state": {
            "_model_module": "@jupyter-widgets/base",
            "_model_module_version": "1.2.0",
            "_model_name": "LayoutModel",
            "_view_count": null,
            "_view_module": "@jupyter-widgets/base",
            "_view_module_version": "1.2.0",
            "_view_name": "LayoutView",
            "align_content": null,
            "align_items": null,
            "align_self": null,
            "border": null,
            "bottom": null,
            "display": null,
            "flex": null,
            "flex_flow": null,
            "grid_area": null,
            "grid_auto_columns": null,
            "grid_auto_flow": null,
            "grid_auto_rows": null,
            "grid_column": null,
            "grid_gap": null,
            "grid_row": null,
            "grid_template_areas": null,
            "grid_template_columns": null,
            "grid_template_rows": null,
            "height": null,
            "justify_content": null,
            "justify_items": null,
            "left": null,
            "margin": null,
            "max_height": null,
            "max_width": null,
            "min_height": null,
            "min_width": null,
            "object_fit": null,
            "object_position": null,
            "order": null,
            "overflow": null,
            "overflow_x": null,
            "overflow_y": null,
            "padding": null,
            "right": null,
            "top": null,
            "visibility": null,
            "width": null
          }
        },
        "1f0d278f1e584f64a2b8ddd7f0f250ed": {
          "model_module": "@jupyter-widgets/controls",
          "model_name": "DescriptionStyleModel",
          "model_module_version": "1.5.0",
          "state": {
            "_model_module": "@jupyter-widgets/controls",
            "_model_module_version": "1.5.0",
            "_model_name": "DescriptionStyleModel",
            "_view_count": null,
            "_view_module": "@jupyter-widgets/base",
            "_view_module_version": "1.2.0",
            "_view_name": "StyleView",
            "description_width": ""
          }
        },
        "1ccb94ef5cd047efa507f6f9677ed425": {
          "model_module": "@jupyter-widgets/base",
          "model_name": "LayoutModel",
          "model_module_version": "1.2.0",
          "state": {
            "_model_module": "@jupyter-widgets/base",
            "_model_module_version": "1.2.0",
            "_model_name": "LayoutModel",
            "_view_count": null,
            "_view_module": "@jupyter-widgets/base",
            "_view_module_version": "1.2.0",
            "_view_name": "LayoutView",
            "align_content": null,
            "align_items": null,
            "align_self": null,
            "border": null,
            "bottom": null,
            "display": null,
            "flex": null,
            "flex_flow": null,
            "grid_area": null,
            "grid_auto_columns": null,
            "grid_auto_flow": null,
            "grid_auto_rows": null,
            "grid_column": null,
            "grid_gap": null,
            "grid_row": null,
            "grid_template_areas": null,
            "grid_template_columns": null,
            "grid_template_rows": null,
            "height": null,
            "justify_content": null,
            "justify_items": null,
            "left": null,
            "margin": null,
            "max_height": null,
            "max_width": null,
            "min_height": null,
            "min_width": null,
            "object_fit": null,
            "object_position": null,
            "order": null,
            "overflow": null,
            "overflow_x": null,
            "overflow_y": null,
            "padding": null,
            "right": null,
            "top": null,
            "visibility": null,
            "width": null
          }
        },
        "138afef78b2a4ea3a1e737deffe93f1e": {
          "model_module": "@jupyter-widgets/controls",
          "model_name": "ProgressStyleModel",
          "model_module_version": "1.5.0",
          "state": {
            "_model_module": "@jupyter-widgets/controls",
            "_model_module_version": "1.5.0",
            "_model_name": "ProgressStyleModel",
            "_view_count": null,
            "_view_module": "@jupyter-widgets/base",
            "_view_module_version": "1.2.0",
            "_view_name": "StyleView",
            "bar_color": null,
            "description_width": ""
          }
        },
        "ebfb84d5fb5846fcbfe765193177afe0": {
          "model_module": "@jupyter-widgets/base",
          "model_name": "LayoutModel",
          "model_module_version": "1.2.0",
          "state": {
            "_model_module": "@jupyter-widgets/base",
            "_model_module_version": "1.2.0",
            "_model_name": "LayoutModel",
            "_view_count": null,
            "_view_module": "@jupyter-widgets/base",
            "_view_module_version": "1.2.0",
            "_view_name": "LayoutView",
            "align_content": null,
            "align_items": null,
            "align_self": null,
            "border": null,
            "bottom": null,
            "display": null,
            "flex": null,
            "flex_flow": null,
            "grid_area": null,
            "grid_auto_columns": null,
            "grid_auto_flow": null,
            "grid_auto_rows": null,
            "grid_column": null,
            "grid_gap": null,
            "grid_row": null,
            "grid_template_areas": null,
            "grid_template_columns": null,
            "grid_template_rows": null,
            "height": null,
            "justify_content": null,
            "justify_items": null,
            "left": null,
            "margin": null,
            "max_height": null,
            "max_width": null,
            "min_height": null,
            "min_width": null,
            "object_fit": null,
            "object_position": null,
            "order": null,
            "overflow": null,
            "overflow_x": null,
            "overflow_y": null,
            "padding": null,
            "right": null,
            "top": null,
            "visibility": null,
            "width": null
          }
        },
        "43827fc95df242ee8c59c8bb2aa6f7ad": {
          "model_module": "@jupyter-widgets/controls",
          "model_name": "DescriptionStyleModel",
          "model_module_version": "1.5.0",
          "state": {
            "_model_module": "@jupyter-widgets/controls",
            "_model_module_version": "1.5.0",
            "_model_name": "DescriptionStyleModel",
            "_view_count": null,
            "_view_module": "@jupyter-widgets/base",
            "_view_module_version": "1.2.0",
            "_view_name": "StyleView",
            "description_width": ""
          }
        },
        "f36e30c2fee5430584dd4e794daa6d7c": {
          "model_module": "@jupyter-widgets/controls",
          "model_name": "HBoxModel",
          "model_module_version": "1.5.0",
          "state": {
            "_dom_classes": [],
            "_model_module": "@jupyter-widgets/controls",
            "_model_module_version": "1.5.0",
            "_model_name": "HBoxModel",
            "_view_count": null,
            "_view_module": "@jupyter-widgets/controls",
            "_view_module_version": "1.5.0",
            "_view_name": "HBoxView",
            "box_style": "",
            "children": [
              "IPY_MODEL_edc5fa6023e14afa831c4d84adb48fcc",
              "IPY_MODEL_bd114da866e744eeb7bbc82cfbce501a",
              "IPY_MODEL_f2dfc415659546808f77f63ace5174f0"
            ],
            "layout": "IPY_MODEL_45f50c0372b54c4dbdbb052c51276319"
          }
        },
        "edc5fa6023e14afa831c4d84adb48fcc": {
          "model_module": "@jupyter-widgets/controls",
          "model_name": "HTMLModel",
          "model_module_version": "1.5.0",
          "state": {
            "_dom_classes": [],
            "_model_module": "@jupyter-widgets/controls",
            "_model_module_version": "1.5.0",
            "_model_name": "HTMLModel",
            "_view_count": null,
            "_view_module": "@jupyter-widgets/controls",
            "_view_module_version": "1.5.0",
            "_view_name": "HTMLView",
            "description": "",
            "description_tooltip": null,
            "layout": "IPY_MODEL_9c11653892de4e4987fe81bfdafc46d2",
            "placeholder": "​",
            "style": "IPY_MODEL_9b5a6c9bb9784f4f999c05cecebe203a",
            "value": "Downloading: 100%"
          }
        },
        "bd114da866e744eeb7bbc82cfbce501a": {
          "model_module": "@jupyter-widgets/controls",
          "model_name": "FloatProgressModel",
          "model_module_version": "1.5.0",
          "state": {
            "_dom_classes": [],
            "_model_module": "@jupyter-widgets/controls",
            "_model_module_version": "1.5.0",
            "_model_name": "FloatProgressModel",
            "_view_count": null,
            "_view_module": "@jupyter-widgets/controls",
            "_view_module_version": "1.5.0",
            "_view_name": "ProgressView",
            "bar_style": "success",
            "description": "",
            "description_tooltip": null,
            "layout": "IPY_MODEL_85cfa4cb0595453c83582f0e397675c7",
            "max": 1269737156,
            "min": 0,
            "orientation": "horizontal",
            "style": "IPY_MODEL_235f934642cb4ab282d02ad9c547c57d",
            "value": 1269737156
          }
        },
        "f2dfc415659546808f77f63ace5174f0": {
          "model_module": "@jupyter-widgets/controls",
          "model_name": "HTMLModel",
          "model_module_version": "1.5.0",
          "state": {
            "_dom_classes": [],
            "_model_module": "@jupyter-widgets/controls",
            "_model_module_version": "1.5.0",
            "_model_name": "HTMLModel",
            "_view_count": null,
            "_view_module": "@jupyter-widgets/controls",
            "_view_module_version": "1.5.0",
            "_view_name": "HTMLView",
            "description": "",
            "description_tooltip": null,
            "layout": "IPY_MODEL_fd788d08a2da4e88be84e41b8386b1eb",
            "placeholder": "​",
            "style": "IPY_MODEL_77116a19f8cd405aa755bacbc47de663",
            "value": " 1.18G/1.18G [00:16&lt;00:00, 84.2MB/s]"
          }
        },
        "45f50c0372b54c4dbdbb052c51276319": {
          "model_module": "@jupyter-widgets/base",
          "model_name": "LayoutModel",
          "model_module_version": "1.2.0",
          "state": {
            "_model_module": "@jupyter-widgets/base",
            "_model_module_version": "1.2.0",
            "_model_name": "LayoutModel",
            "_view_count": null,
            "_view_module": "@jupyter-widgets/base",
            "_view_module_version": "1.2.0",
            "_view_name": "LayoutView",
            "align_content": null,
            "align_items": null,
            "align_self": null,
            "border": null,
            "bottom": null,
            "display": null,
            "flex": null,
            "flex_flow": null,
            "grid_area": null,
            "grid_auto_columns": null,
            "grid_auto_flow": null,
            "grid_auto_rows": null,
            "grid_column": null,
            "grid_gap": null,
            "grid_row": null,
            "grid_template_areas": null,
            "grid_template_columns": null,
            "grid_template_rows": null,
            "height": null,
            "justify_content": null,
            "justify_items": null,
            "left": null,
            "margin": null,
            "max_height": null,
            "max_width": null,
            "min_height": null,
            "min_width": null,
            "object_fit": null,
            "object_position": null,
            "order": null,
            "overflow": null,
            "overflow_x": null,
            "overflow_y": null,
            "padding": null,
            "right": null,
            "top": null,
            "visibility": null,
            "width": null
          }
        },
        "9c11653892de4e4987fe81bfdafc46d2": {
          "model_module": "@jupyter-widgets/base",
          "model_name": "LayoutModel",
          "model_module_version": "1.2.0",
          "state": {
            "_model_module": "@jupyter-widgets/base",
            "_model_module_version": "1.2.0",
            "_model_name": "LayoutModel",
            "_view_count": null,
            "_view_module": "@jupyter-widgets/base",
            "_view_module_version": "1.2.0",
            "_view_name": "LayoutView",
            "align_content": null,
            "align_items": null,
            "align_self": null,
            "border": null,
            "bottom": null,
            "display": null,
            "flex": null,
            "flex_flow": null,
            "grid_area": null,
            "grid_auto_columns": null,
            "grid_auto_flow": null,
            "grid_auto_rows": null,
            "grid_column": null,
            "grid_gap": null,
            "grid_row": null,
            "grid_template_areas": null,
            "grid_template_columns": null,
            "grid_template_rows": null,
            "height": null,
            "justify_content": null,
            "justify_items": null,
            "left": null,
            "margin": null,
            "max_height": null,
            "max_width": null,
            "min_height": null,
            "min_width": null,
            "object_fit": null,
            "object_position": null,
            "order": null,
            "overflow": null,
            "overflow_x": null,
            "overflow_y": null,
            "padding": null,
            "right": null,
            "top": null,
            "visibility": null,
            "width": null
          }
        },
        "9b5a6c9bb9784f4f999c05cecebe203a": {
          "model_module": "@jupyter-widgets/controls",
          "model_name": "DescriptionStyleModel",
          "model_module_version": "1.5.0",
          "state": {
            "_model_module": "@jupyter-widgets/controls",
            "_model_module_version": "1.5.0",
            "_model_name": "DescriptionStyleModel",
            "_view_count": null,
            "_view_module": "@jupyter-widgets/base",
            "_view_module_version": "1.2.0",
            "_view_name": "StyleView",
            "description_width": ""
          }
        },
        "85cfa4cb0595453c83582f0e397675c7": {
          "model_module": "@jupyter-widgets/base",
          "model_name": "LayoutModel",
          "model_module_version": "1.2.0",
          "state": {
            "_model_module": "@jupyter-widgets/base",
            "_model_module_version": "1.2.0",
            "_model_name": "LayoutModel",
            "_view_count": null,
            "_view_module": "@jupyter-widgets/base",
            "_view_module_version": "1.2.0",
            "_view_name": "LayoutView",
            "align_content": null,
            "align_items": null,
            "align_self": null,
            "border": null,
            "bottom": null,
            "display": null,
            "flex": null,
            "flex_flow": null,
            "grid_area": null,
            "grid_auto_columns": null,
            "grid_auto_flow": null,
            "grid_auto_rows": null,
            "grid_column": null,
            "grid_gap": null,
            "grid_row": null,
            "grid_template_areas": null,
            "grid_template_columns": null,
            "grid_template_rows": null,
            "height": null,
            "justify_content": null,
            "justify_items": null,
            "left": null,
            "margin": null,
            "max_height": null,
            "max_width": null,
            "min_height": null,
            "min_width": null,
            "object_fit": null,
            "object_position": null,
            "order": null,
            "overflow": null,
            "overflow_x": null,
            "overflow_y": null,
            "padding": null,
            "right": null,
            "top": null,
            "visibility": null,
            "width": null
          }
        },
        "235f934642cb4ab282d02ad9c547c57d": {
          "model_module": "@jupyter-widgets/controls",
          "model_name": "ProgressStyleModel",
          "model_module_version": "1.5.0",
          "state": {
            "_model_module": "@jupyter-widgets/controls",
            "_model_module_version": "1.5.0",
            "_model_name": "ProgressStyleModel",
            "_view_count": null,
            "_view_module": "@jupyter-widgets/base",
            "_view_module_version": "1.2.0",
            "_view_name": "StyleView",
            "bar_color": null,
            "description_width": ""
          }
        },
        "fd788d08a2da4e88be84e41b8386b1eb": {
          "model_module": "@jupyter-widgets/base",
          "model_name": "LayoutModel",
          "model_module_version": "1.2.0",
          "state": {
            "_model_module": "@jupyter-widgets/base",
            "_model_module_version": "1.2.0",
            "_model_name": "LayoutModel",
            "_view_count": null,
            "_view_module": "@jupyter-widgets/base",
            "_view_module_version": "1.2.0",
            "_view_name": "LayoutView",
            "align_content": null,
            "align_items": null,
            "align_self": null,
            "border": null,
            "bottom": null,
            "display": null,
            "flex": null,
            "flex_flow": null,
            "grid_area": null,
            "grid_auto_columns": null,
            "grid_auto_flow": null,
            "grid_auto_rows": null,
            "grid_column": null,
            "grid_gap": null,
            "grid_row": null,
            "grid_template_areas": null,
            "grid_template_columns": null,
            "grid_template_rows": null,
            "height": null,
            "justify_content": null,
            "justify_items": null,
            "left": null,
            "margin": null,
            "max_height": null,
            "max_width": null,
            "min_height": null,
            "min_width": null,
            "object_fit": null,
            "object_position": null,
            "order": null,
            "overflow": null,
            "overflow_x": null,
            "overflow_y": null,
            "padding": null,
            "right": null,
            "top": null,
            "visibility": null,
            "width": null
          }
        },
        "77116a19f8cd405aa755bacbc47de663": {
          "model_module": "@jupyter-widgets/controls",
          "model_name": "DescriptionStyleModel",
          "model_module_version": "1.5.0",
          "state": {
            "_model_module": "@jupyter-widgets/controls",
            "_model_module_version": "1.5.0",
            "_model_name": "DescriptionStyleModel",
            "_view_count": null,
            "_view_module": "@jupyter-widgets/base",
            "_view_module_version": "1.2.0",
            "_view_name": "StyleView",
            "description_width": ""
          }
        }
      }
    },
    "gpuClass": "premium"
  },
  "nbformat": 4,
  "nbformat_minor": 0
}
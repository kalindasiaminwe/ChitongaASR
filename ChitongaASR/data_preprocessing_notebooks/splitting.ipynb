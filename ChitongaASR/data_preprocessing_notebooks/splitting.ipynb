{
  "nbformat": 4,
  "nbformat_minor": 0,
  "metadata": {
    "colab": {
      "name": "splitting.ipynb",
      "provenance": [],
      "collapsed_sections": []
    },
    "kernelspec": {
      "name": "python3",
      "display_name": "Python 3"
    },
    "language_info": {
      "name": "python"
    }
  },
  "cells": [
    {
      "cell_type": "code",
      "execution_count": 1,
      "metadata": {
        "id": "TRr67ZT7UUkZ"
      },
      "outputs": [],
      "source": [
        "lines_per_file = 50\n",
        "count = 0\n",
        "increment = 1\n",
        "smallfile = None\n",
        "with open('/content/main_tonga01.txt') as bigfile:\n",
        "    for lineno, line in enumerate(bigfile):\n",
        "        if lineno % lines_per_file == 0:\n",
        "            if smallfile:\n",
        "                smallfile.close()\n",
        "            small_filename = 'session_{}.txt'.format(count + increment)\n",
        "            count += 1\n",
        "            smallfile = open(small_filename, \"w\")\n",
        "        smallfile.write(line)\n",
        "    if smallfile:\n",
        "        smallfile.close()"
      ]
    }
  ]
}